{
 "cells": [
  {
   "cell_type": "markdown",
   "metadata": {},
   "source": [
    "## Подготовка данных"
   ]
  },
  {
   "cell_type": "markdown",
   "metadata": {},
   "source": [
    "### Загрузка данных"
   ]
  },
  {
   "cell_type": "code",
   "execution_count": 32,
   "metadata": {},
   "outputs": [],
   "source": [
    "# Подключим все необходимые библиотеки \n",
    "import pandas as pd\n",
    "import matplotlib.pyplot as plt\n",
    "import seaborn as sns\n",
    "import numpy as np\n",
    "import math\n",
    "from sklearn.ensemble import RandomForestRegressor\n",
    "from sklearn.linear_model import LinearRegression, LogisticRegression\n",
    "from sklearn import linear_model\n",
    "from sklearn.svm import SVR\n",
    "from sklearn.preprocessing import StandardScaler, MinMaxScaler\n",
    "from sklearn.utils import shuffle\n",
    "from sklearn.model_selection import TimeSeriesSplit, cross_val_score, StratifiedKFold, GridSearchCV, cross_validate, KFold\n",
    "from sklearn.metrics import roc_auc_score, roc_curve, precision_recall_curve, mean_absolute_error, make_scorer\n",
    "from sklearn.pipeline import Pipeline\n",
    "from sklearn.impute import SimpleImputer\n",
    "import warnings\n",
    "warnings.filterwarnings(\"ignore\") "
   ]
  },
  {
   "cell_type": "code",
   "execution_count": 33,
   "metadata": {},
   "outputs": [],
   "source": [
    "try:\n",
    "    full = pd.read_csv(\"gold_recovery_full_new.csv\", index_col='date', parse_dates=True)\n",
    "    test = pd.read_csv(\"gold_recovery_test_new.csv\", index_col='date', parse_dates=True)\n",
    "    train = pd.read_csv(\"gold_recovery_train_new.csv\", index_col='date', parse_dates=True)\n",
    "except:\n",
    "    full = pd.read_csv(\"/datasets/gold_recovery_full_new.csv\", index_col='date', parse_dates=True)\n",
    "    test = pd.read_csv(\"/datasets/gold_recovery_test_new.csv\", index_col='date', parse_dates=True)\n",
    "    train = pd.read_csv(\"/datasets/gold_recovery_train_new.csv\", index_col='date', parse_dates=True)"
   ]
  },
  {
   "cell_type": "code",
   "execution_count": 34,
   "metadata": {},
   "outputs": [
    {
     "data": {
      "text/html": [
       "<div>\n",
       "<style scoped>\n",
       "    .dataframe tbody tr th:only-of-type {\n",
       "        vertical-align: middle;\n",
       "    }\n",
       "\n",
       "    .dataframe tbody tr th {\n",
       "        vertical-align: top;\n",
       "    }\n",
       "\n",
       "    .dataframe thead th {\n",
       "        text-align: right;\n",
       "    }\n",
       "</style>\n",
       "<table border=\"1\" class=\"dataframe\">\n",
       "  <thead>\n",
       "    <tr style=\"text-align: right;\">\n",
       "      <th></th>\n",
       "      <th>final.output.concentrate_ag</th>\n",
       "      <th>final.output.concentrate_pb</th>\n",
       "      <th>final.output.concentrate_sol</th>\n",
       "      <th>final.output.concentrate_au</th>\n",
       "      <th>final.output.recovery</th>\n",
       "      <th>final.output.tail_ag</th>\n",
       "      <th>final.output.tail_pb</th>\n",
       "      <th>final.output.tail_sol</th>\n",
       "      <th>final.output.tail_au</th>\n",
       "      <th>primary_cleaner.input.sulfate</th>\n",
       "      <th>...</th>\n",
       "      <th>secondary_cleaner.state.floatbank4_a_air</th>\n",
       "      <th>secondary_cleaner.state.floatbank4_a_level</th>\n",
       "      <th>secondary_cleaner.state.floatbank4_b_air</th>\n",
       "      <th>secondary_cleaner.state.floatbank4_b_level</th>\n",
       "      <th>secondary_cleaner.state.floatbank5_a_air</th>\n",
       "      <th>secondary_cleaner.state.floatbank5_a_level</th>\n",
       "      <th>secondary_cleaner.state.floatbank5_b_air</th>\n",
       "      <th>secondary_cleaner.state.floatbank5_b_level</th>\n",
       "      <th>secondary_cleaner.state.floatbank6_a_air</th>\n",
       "      <th>secondary_cleaner.state.floatbank6_a_level</th>\n",
       "    </tr>\n",
       "    <tr>\n",
       "      <th>date</th>\n",
       "      <th></th>\n",
       "      <th></th>\n",
       "      <th></th>\n",
       "      <th></th>\n",
       "      <th></th>\n",
       "      <th></th>\n",
       "      <th></th>\n",
       "      <th></th>\n",
       "      <th></th>\n",
       "      <th></th>\n",
       "      <th></th>\n",
       "      <th></th>\n",
       "      <th></th>\n",
       "      <th></th>\n",
       "      <th></th>\n",
       "      <th></th>\n",
       "      <th></th>\n",
       "      <th></th>\n",
       "      <th></th>\n",
       "      <th></th>\n",
       "      <th></th>\n",
       "    </tr>\n",
       "  </thead>\n",
       "  <tbody>\n",
       "    <tr>\n",
       "      <td>2016-01-15 00:00:00</td>\n",
       "      <td>6.055403</td>\n",
       "      <td>9.889648</td>\n",
       "      <td>5.507324</td>\n",
       "      <td>42.192020</td>\n",
       "      <td>70.541216</td>\n",
       "      <td>10.411962</td>\n",
       "      <td>0.895447</td>\n",
       "      <td>16.904297</td>\n",
       "      <td>2.143149</td>\n",
       "      <td>127.092003</td>\n",
       "      <td>...</td>\n",
       "      <td>14.016835</td>\n",
       "      <td>-502.488007</td>\n",
       "      <td>12.099931</td>\n",
       "      <td>-504.715942</td>\n",
       "      <td>9.925633</td>\n",
       "      <td>-498.310211</td>\n",
       "      <td>8.079666</td>\n",
       "      <td>-500.470978</td>\n",
       "      <td>14.151341</td>\n",
       "      <td>-605.841980</td>\n",
       "    </tr>\n",
       "    <tr>\n",
       "      <td>2016-01-15 01:00:00</td>\n",
       "      <td>6.029369</td>\n",
       "      <td>9.968944</td>\n",
       "      <td>5.257781</td>\n",
       "      <td>42.701629</td>\n",
       "      <td>69.266198</td>\n",
       "      <td>10.462676</td>\n",
       "      <td>0.927452</td>\n",
       "      <td>16.634514</td>\n",
       "      <td>2.224930</td>\n",
       "      <td>125.629232</td>\n",
       "      <td>...</td>\n",
       "      <td>13.992281</td>\n",
       "      <td>-505.503262</td>\n",
       "      <td>11.950531</td>\n",
       "      <td>-501.331529</td>\n",
       "      <td>10.039245</td>\n",
       "      <td>-500.169983</td>\n",
       "      <td>7.984757</td>\n",
       "      <td>-500.582168</td>\n",
       "      <td>13.998353</td>\n",
       "      <td>-599.787184</td>\n",
       "    </tr>\n",
       "    <tr>\n",
       "      <td>2016-01-15 02:00:00</td>\n",
       "      <td>6.055926</td>\n",
       "      <td>10.213995</td>\n",
       "      <td>5.383759</td>\n",
       "      <td>42.657501</td>\n",
       "      <td>68.116445</td>\n",
       "      <td>10.507046</td>\n",
       "      <td>0.953716</td>\n",
       "      <td>16.208849</td>\n",
       "      <td>2.257889</td>\n",
       "      <td>123.819808</td>\n",
       "      <td>...</td>\n",
       "      <td>14.015015</td>\n",
       "      <td>-502.520901</td>\n",
       "      <td>11.912783</td>\n",
       "      <td>-501.133383</td>\n",
       "      <td>10.070913</td>\n",
       "      <td>-500.129135</td>\n",
       "      <td>8.013877</td>\n",
       "      <td>-500.517572</td>\n",
       "      <td>14.028663</td>\n",
       "      <td>-601.427363</td>\n",
       "    </tr>\n",
       "    <tr>\n",
       "      <td>2016-01-15 03:00:00</td>\n",
       "      <td>6.047977</td>\n",
       "      <td>9.977019</td>\n",
       "      <td>4.858634</td>\n",
       "      <td>42.689819</td>\n",
       "      <td>68.347543</td>\n",
       "      <td>10.422762</td>\n",
       "      <td>0.883763</td>\n",
       "      <td>16.532835</td>\n",
       "      <td>2.146849</td>\n",
       "      <td>122.270188</td>\n",
       "      <td>...</td>\n",
       "      <td>14.036510</td>\n",
       "      <td>-500.857308</td>\n",
       "      <td>11.999550</td>\n",
       "      <td>-501.193686</td>\n",
       "      <td>9.970366</td>\n",
       "      <td>-499.201640</td>\n",
       "      <td>7.977324</td>\n",
       "      <td>-500.255908</td>\n",
       "      <td>14.005551</td>\n",
       "      <td>-599.996129</td>\n",
       "    </tr>\n",
       "    <tr>\n",
       "      <td>2016-01-15 04:00:00</td>\n",
       "      <td>6.148599</td>\n",
       "      <td>10.142511</td>\n",
       "      <td>4.939416</td>\n",
       "      <td>42.774141</td>\n",
       "      <td>66.927016</td>\n",
       "      <td>10.360302</td>\n",
       "      <td>0.792826</td>\n",
       "      <td>16.525686</td>\n",
       "      <td>2.055292</td>\n",
       "      <td>117.988169</td>\n",
       "      <td>...</td>\n",
       "      <td>14.027298</td>\n",
       "      <td>-499.838632</td>\n",
       "      <td>11.953070</td>\n",
       "      <td>-501.053894</td>\n",
       "      <td>9.925709</td>\n",
       "      <td>-501.686727</td>\n",
       "      <td>7.894242</td>\n",
       "      <td>-500.356035</td>\n",
       "      <td>13.996647</td>\n",
       "      <td>-601.496691</td>\n",
       "    </tr>\n",
       "  </tbody>\n",
       "</table>\n",
       "<p>5 rows × 86 columns</p>\n",
       "</div>"
      ],
      "text/plain": [
       "                     final.output.concentrate_ag  final.output.concentrate_pb  \\\n",
       "date                                                                            \n",
       "2016-01-15 00:00:00                     6.055403                     9.889648   \n",
       "2016-01-15 01:00:00                     6.029369                     9.968944   \n",
       "2016-01-15 02:00:00                     6.055926                    10.213995   \n",
       "2016-01-15 03:00:00                     6.047977                     9.977019   \n",
       "2016-01-15 04:00:00                     6.148599                    10.142511   \n",
       "\n",
       "                     final.output.concentrate_sol  \\\n",
       "date                                                \n",
       "2016-01-15 00:00:00                      5.507324   \n",
       "2016-01-15 01:00:00                      5.257781   \n",
       "2016-01-15 02:00:00                      5.383759   \n",
       "2016-01-15 03:00:00                      4.858634   \n",
       "2016-01-15 04:00:00                      4.939416   \n",
       "\n",
       "                     final.output.concentrate_au  final.output.recovery  \\\n",
       "date                                                                      \n",
       "2016-01-15 00:00:00                    42.192020              70.541216   \n",
       "2016-01-15 01:00:00                    42.701629              69.266198   \n",
       "2016-01-15 02:00:00                    42.657501              68.116445   \n",
       "2016-01-15 03:00:00                    42.689819              68.347543   \n",
       "2016-01-15 04:00:00                    42.774141              66.927016   \n",
       "\n",
       "                     final.output.tail_ag  final.output.tail_pb  \\\n",
       "date                                                              \n",
       "2016-01-15 00:00:00             10.411962              0.895447   \n",
       "2016-01-15 01:00:00             10.462676              0.927452   \n",
       "2016-01-15 02:00:00             10.507046              0.953716   \n",
       "2016-01-15 03:00:00             10.422762              0.883763   \n",
       "2016-01-15 04:00:00             10.360302              0.792826   \n",
       "\n",
       "                     final.output.tail_sol  final.output.tail_au  \\\n",
       "date                                                               \n",
       "2016-01-15 00:00:00              16.904297              2.143149   \n",
       "2016-01-15 01:00:00              16.634514              2.224930   \n",
       "2016-01-15 02:00:00              16.208849              2.257889   \n",
       "2016-01-15 03:00:00              16.532835              2.146849   \n",
       "2016-01-15 04:00:00              16.525686              2.055292   \n",
       "\n",
       "                     primary_cleaner.input.sulfate  ...  \\\n",
       "date                                                ...   \n",
       "2016-01-15 00:00:00                     127.092003  ...   \n",
       "2016-01-15 01:00:00                     125.629232  ...   \n",
       "2016-01-15 02:00:00                     123.819808  ...   \n",
       "2016-01-15 03:00:00                     122.270188  ...   \n",
       "2016-01-15 04:00:00                     117.988169  ...   \n",
       "\n",
       "                     secondary_cleaner.state.floatbank4_a_air  \\\n",
       "date                                                            \n",
       "2016-01-15 00:00:00                                 14.016835   \n",
       "2016-01-15 01:00:00                                 13.992281   \n",
       "2016-01-15 02:00:00                                 14.015015   \n",
       "2016-01-15 03:00:00                                 14.036510   \n",
       "2016-01-15 04:00:00                                 14.027298   \n",
       "\n",
       "                     secondary_cleaner.state.floatbank4_a_level  \\\n",
       "date                                                              \n",
       "2016-01-15 00:00:00                                 -502.488007   \n",
       "2016-01-15 01:00:00                                 -505.503262   \n",
       "2016-01-15 02:00:00                                 -502.520901   \n",
       "2016-01-15 03:00:00                                 -500.857308   \n",
       "2016-01-15 04:00:00                                 -499.838632   \n",
       "\n",
       "                     secondary_cleaner.state.floatbank4_b_air  \\\n",
       "date                                                            \n",
       "2016-01-15 00:00:00                                 12.099931   \n",
       "2016-01-15 01:00:00                                 11.950531   \n",
       "2016-01-15 02:00:00                                 11.912783   \n",
       "2016-01-15 03:00:00                                 11.999550   \n",
       "2016-01-15 04:00:00                                 11.953070   \n",
       "\n",
       "                     secondary_cleaner.state.floatbank4_b_level  \\\n",
       "date                                                              \n",
       "2016-01-15 00:00:00                                 -504.715942   \n",
       "2016-01-15 01:00:00                                 -501.331529   \n",
       "2016-01-15 02:00:00                                 -501.133383   \n",
       "2016-01-15 03:00:00                                 -501.193686   \n",
       "2016-01-15 04:00:00                                 -501.053894   \n",
       "\n",
       "                     secondary_cleaner.state.floatbank5_a_air  \\\n",
       "date                                                            \n",
       "2016-01-15 00:00:00                                  9.925633   \n",
       "2016-01-15 01:00:00                                 10.039245   \n",
       "2016-01-15 02:00:00                                 10.070913   \n",
       "2016-01-15 03:00:00                                  9.970366   \n",
       "2016-01-15 04:00:00                                  9.925709   \n",
       "\n",
       "                     secondary_cleaner.state.floatbank5_a_level  \\\n",
       "date                                                              \n",
       "2016-01-15 00:00:00                                 -498.310211   \n",
       "2016-01-15 01:00:00                                 -500.169983   \n",
       "2016-01-15 02:00:00                                 -500.129135   \n",
       "2016-01-15 03:00:00                                 -499.201640   \n",
       "2016-01-15 04:00:00                                 -501.686727   \n",
       "\n",
       "                     secondary_cleaner.state.floatbank5_b_air  \\\n",
       "date                                                            \n",
       "2016-01-15 00:00:00                                  8.079666   \n",
       "2016-01-15 01:00:00                                  7.984757   \n",
       "2016-01-15 02:00:00                                  8.013877   \n",
       "2016-01-15 03:00:00                                  7.977324   \n",
       "2016-01-15 04:00:00                                  7.894242   \n",
       "\n",
       "                     secondary_cleaner.state.floatbank5_b_level  \\\n",
       "date                                                              \n",
       "2016-01-15 00:00:00                                 -500.470978   \n",
       "2016-01-15 01:00:00                                 -500.582168   \n",
       "2016-01-15 02:00:00                                 -500.517572   \n",
       "2016-01-15 03:00:00                                 -500.255908   \n",
       "2016-01-15 04:00:00                                 -500.356035   \n",
       "\n",
       "                     secondary_cleaner.state.floatbank6_a_air  \\\n",
       "date                                                            \n",
       "2016-01-15 00:00:00                                 14.151341   \n",
       "2016-01-15 01:00:00                                 13.998353   \n",
       "2016-01-15 02:00:00                                 14.028663   \n",
       "2016-01-15 03:00:00                                 14.005551   \n",
       "2016-01-15 04:00:00                                 13.996647   \n",
       "\n",
       "                     secondary_cleaner.state.floatbank6_a_level  \n",
       "date                                                             \n",
       "2016-01-15 00:00:00                                 -605.841980  \n",
       "2016-01-15 01:00:00                                 -599.787184  \n",
       "2016-01-15 02:00:00                                 -601.427363  \n",
       "2016-01-15 03:00:00                                 -599.996129  \n",
       "2016-01-15 04:00:00                                 -601.496691  \n",
       "\n",
       "[5 rows x 86 columns]"
      ]
     },
     "metadata": {},
     "output_type": "display_data"
    }
   ],
   "source": [
    "display(train.head())"
   ]
  },
  {
   "cell_type": "code",
   "execution_count": 35,
   "metadata": {},
   "outputs": [
    {
     "name": "stdout",
     "output_type": "stream",
     "text": [
      "<class 'pandas.core.frame.DataFrame'>\n",
      "DatetimeIndex: 14149 entries, 2016-01-15 00:00:00 to 2018-08-18 10:59:59\n",
      "Data columns (total 86 columns):\n",
      "final.output.concentrate_ag                           14148 non-null float64\n",
      "final.output.concentrate_pb                           14148 non-null float64\n",
      "final.output.concentrate_sol                          13938 non-null float64\n",
      "final.output.concentrate_au                           14149 non-null float64\n",
      "final.output.recovery                                 14149 non-null float64\n",
      "final.output.tail_ag                                  14149 non-null float64\n",
      "final.output.tail_pb                                  14049 non-null float64\n",
      "final.output.tail_sol                                 14144 non-null float64\n",
      "final.output.tail_au                                  14149 non-null float64\n",
      "primary_cleaner.input.sulfate                         14129 non-null float64\n",
      "primary_cleaner.input.depressant                      14117 non-null float64\n",
      "primary_cleaner.input.feed_size                       14149 non-null float64\n",
      "primary_cleaner.input.xanthate                        14049 non-null float64\n",
      "primary_cleaner.output.concentrate_ag                 14149 non-null float64\n",
      "primary_cleaner.output.concentrate_pb                 14063 non-null float64\n",
      "primary_cleaner.output.concentrate_sol                13863 non-null float64\n",
      "primary_cleaner.output.concentrate_au                 14149 non-null float64\n",
      "primary_cleaner.output.tail_ag                        14148 non-null float64\n",
      "primary_cleaner.output.tail_pb                        14134 non-null float64\n",
      "primary_cleaner.output.tail_sol                       14103 non-null float64\n",
      "primary_cleaner.output.tail_au                        14149 non-null float64\n",
      "primary_cleaner.state.floatbank8_a_air                14145 non-null float64\n",
      "primary_cleaner.state.floatbank8_a_level              14148 non-null float64\n",
      "primary_cleaner.state.floatbank8_b_air                14145 non-null float64\n",
      "primary_cleaner.state.floatbank8_b_level              14148 non-null float64\n",
      "primary_cleaner.state.floatbank8_c_air                14147 non-null float64\n",
      "primary_cleaner.state.floatbank8_c_level              14148 non-null float64\n",
      "primary_cleaner.state.floatbank8_d_air                14146 non-null float64\n",
      "primary_cleaner.state.floatbank8_d_level              14148 non-null float64\n",
      "rougher.calculation.sulfate_to_au_concentrate         14148 non-null float64\n",
      "rougher.calculation.floatbank10_sulfate_to_au_feed    14148 non-null float64\n",
      "rougher.calculation.floatbank11_sulfate_to_au_feed    14148 non-null float64\n",
      "rougher.calculation.au_pb_ratio                       14149 non-null float64\n",
      "rougher.input.feed_ag                                 14149 non-null float64\n",
      "rougher.input.feed_pb                                 14049 non-null float64\n",
      "rougher.input.feed_rate                               14141 non-null float64\n",
      "rougher.input.feed_size                               14005 non-null float64\n",
      "rougher.input.feed_sol                                14071 non-null float64\n",
      "rougher.input.feed_au                                 14149 non-null float64\n",
      "rougher.input.floatbank10_sulfate                     14120 non-null float64\n",
      "rougher.input.floatbank10_xanthate                    14141 non-null float64\n",
      "rougher.input.floatbank11_sulfate                     14113 non-null float64\n",
      "rougher.input.floatbank11_xanthate                    13721 non-null float64\n",
      "rougher.output.concentrate_ag                         14149 non-null float64\n",
      "rougher.output.concentrate_pb                         14149 non-null float64\n",
      "rougher.output.concentrate_sol                        14127 non-null float64\n",
      "rougher.output.concentrate_au                         14149 non-null float64\n",
      "rougher.output.recovery                               14149 non-null float64\n",
      "rougher.output.tail_ag                                14148 non-null float64\n",
      "rougher.output.tail_pb                                14149 non-null float64\n",
      "rougher.output.tail_sol                               14149 non-null float64\n",
      "rougher.output.tail_au                                14149 non-null float64\n",
      "rougher.state.floatbank10_a_air                       14148 non-null float64\n",
      "rougher.state.floatbank10_a_level                     14148 non-null float64\n",
      "rougher.state.floatbank10_b_air                       14148 non-null float64\n",
      "rougher.state.floatbank10_b_level                     14148 non-null float64\n",
      "rougher.state.floatbank10_c_air                       14148 non-null float64\n",
      "rougher.state.floatbank10_c_level                     14148 non-null float64\n",
      "rougher.state.floatbank10_d_air                       14149 non-null float64\n",
      "rougher.state.floatbank10_d_level                     14149 non-null float64\n",
      "rougher.state.floatbank10_e_air                       13713 non-null float64\n",
      "rougher.state.floatbank10_e_level                     14149 non-null float64\n",
      "rougher.state.floatbank10_f_air                       14149 non-null float64\n",
      "rougher.state.floatbank10_f_level                     14149 non-null float64\n",
      "secondary_cleaner.output.tail_ag                      14147 non-null float64\n",
      "secondary_cleaner.output.tail_pb                      14139 non-null float64\n",
      "secondary_cleaner.output.tail_sol                     12544 non-null float64\n",
      "secondary_cleaner.output.tail_au                      14149 non-null float64\n",
      "secondary_cleaner.state.floatbank2_a_air              13932 non-null float64\n",
      "secondary_cleaner.state.floatbank2_a_level            14148 non-null float64\n",
      "secondary_cleaner.state.floatbank2_b_air              14128 non-null float64\n",
      "secondary_cleaner.state.floatbank2_b_level            14148 non-null float64\n",
      "secondary_cleaner.state.floatbank3_a_air              14145 non-null float64\n",
      "secondary_cleaner.state.floatbank3_a_level            14148 non-null float64\n",
      "secondary_cleaner.state.floatbank3_b_air              14148 non-null float64\n",
      "secondary_cleaner.state.floatbank3_b_level            14148 non-null float64\n",
      "secondary_cleaner.state.floatbank4_a_air              14143 non-null float64\n",
      "secondary_cleaner.state.floatbank4_a_level            14148 non-null float64\n",
      "secondary_cleaner.state.floatbank4_b_air              14148 non-null float64\n",
      "secondary_cleaner.state.floatbank4_b_level            14148 non-null float64\n",
      "secondary_cleaner.state.floatbank5_a_air              14148 non-null float64\n",
      "secondary_cleaner.state.floatbank5_a_level            14148 non-null float64\n",
      "secondary_cleaner.state.floatbank5_b_air              14148 non-null float64\n",
      "secondary_cleaner.state.floatbank5_b_level            14148 non-null float64\n",
      "secondary_cleaner.state.floatbank6_a_air              14147 non-null float64\n",
      "secondary_cleaner.state.floatbank6_a_level            14148 non-null float64\n",
      "dtypes: float64(86)\n",
      "memory usage: 9.4 MB\n",
      "None\n"
     ]
    }
   ],
   "source": [
    "print(train.info())"
   ]
  },
  {
   "cell_type": "code",
   "execution_count": 36,
   "metadata": {},
   "outputs": [
    {
     "data": {
      "text/html": [
       "<div>\n",
       "<style scoped>\n",
       "    .dataframe tbody tr th:only-of-type {\n",
       "        vertical-align: middle;\n",
       "    }\n",
       "\n",
       "    .dataframe tbody tr th {\n",
       "        vertical-align: top;\n",
       "    }\n",
       "\n",
       "    .dataframe thead th {\n",
       "        text-align: right;\n",
       "    }\n",
       "</style>\n",
       "<table border=\"1\" class=\"dataframe\">\n",
       "  <thead>\n",
       "    <tr style=\"text-align: right;\">\n",
       "      <th></th>\n",
       "      <th>primary_cleaner.input.sulfate</th>\n",
       "      <th>primary_cleaner.input.depressant</th>\n",
       "      <th>primary_cleaner.input.feed_size</th>\n",
       "      <th>primary_cleaner.input.xanthate</th>\n",
       "      <th>primary_cleaner.state.floatbank8_a_air</th>\n",
       "      <th>primary_cleaner.state.floatbank8_a_level</th>\n",
       "      <th>primary_cleaner.state.floatbank8_b_air</th>\n",
       "      <th>primary_cleaner.state.floatbank8_b_level</th>\n",
       "      <th>primary_cleaner.state.floatbank8_c_air</th>\n",
       "      <th>primary_cleaner.state.floatbank8_c_level</th>\n",
       "      <th>...</th>\n",
       "      <th>secondary_cleaner.state.floatbank4_a_air</th>\n",
       "      <th>secondary_cleaner.state.floatbank4_a_level</th>\n",
       "      <th>secondary_cleaner.state.floatbank4_b_air</th>\n",
       "      <th>secondary_cleaner.state.floatbank4_b_level</th>\n",
       "      <th>secondary_cleaner.state.floatbank5_a_air</th>\n",
       "      <th>secondary_cleaner.state.floatbank5_a_level</th>\n",
       "      <th>secondary_cleaner.state.floatbank5_b_air</th>\n",
       "      <th>secondary_cleaner.state.floatbank5_b_level</th>\n",
       "      <th>secondary_cleaner.state.floatbank6_a_air</th>\n",
       "      <th>secondary_cleaner.state.floatbank6_a_level</th>\n",
       "    </tr>\n",
       "    <tr>\n",
       "      <th>date</th>\n",
       "      <th></th>\n",
       "      <th></th>\n",
       "      <th></th>\n",
       "      <th></th>\n",
       "      <th></th>\n",
       "      <th></th>\n",
       "      <th></th>\n",
       "      <th></th>\n",
       "      <th></th>\n",
       "      <th></th>\n",
       "      <th></th>\n",
       "      <th></th>\n",
       "      <th></th>\n",
       "      <th></th>\n",
       "      <th></th>\n",
       "      <th></th>\n",
       "      <th></th>\n",
       "      <th></th>\n",
       "      <th></th>\n",
       "      <th></th>\n",
       "      <th></th>\n",
       "    </tr>\n",
       "  </thead>\n",
       "  <tbody>\n",
       "    <tr>\n",
       "      <td>2016-09-01 00:59:59</td>\n",
       "      <td>210.800909</td>\n",
       "      <td>14.993118</td>\n",
       "      <td>8.080000</td>\n",
       "      <td>1.005021</td>\n",
       "      <td>1398.981301</td>\n",
       "      <td>-500.225577</td>\n",
       "      <td>1399.144926</td>\n",
       "      <td>-499.919735</td>\n",
       "      <td>1400.102998</td>\n",
       "      <td>-500.704369</td>\n",
       "      <td>...</td>\n",
       "      <td>12.023554</td>\n",
       "      <td>-497.795834</td>\n",
       "      <td>8.016656</td>\n",
       "      <td>-501.289139</td>\n",
       "      <td>7.946562</td>\n",
       "      <td>-432.317850</td>\n",
       "      <td>4.872511</td>\n",
       "      <td>-500.037437</td>\n",
       "      <td>26.705889</td>\n",
       "      <td>-499.709414</td>\n",
       "    </tr>\n",
       "    <tr>\n",
       "      <td>2016-09-01 01:59:59</td>\n",
       "      <td>215.392455</td>\n",
       "      <td>14.987471</td>\n",
       "      <td>8.080000</td>\n",
       "      <td>0.990469</td>\n",
       "      <td>1398.777912</td>\n",
       "      <td>-500.057435</td>\n",
       "      <td>1398.055362</td>\n",
       "      <td>-499.778182</td>\n",
       "      <td>1396.151033</td>\n",
       "      <td>-499.240168</td>\n",
       "      <td>...</td>\n",
       "      <td>12.058140</td>\n",
       "      <td>-498.695773</td>\n",
       "      <td>8.130979</td>\n",
       "      <td>-499.634209</td>\n",
       "      <td>7.958270</td>\n",
       "      <td>-525.839648</td>\n",
       "      <td>4.878850</td>\n",
       "      <td>-500.162375</td>\n",
       "      <td>25.019940</td>\n",
       "      <td>-499.819438</td>\n",
       "    </tr>\n",
       "    <tr>\n",
       "      <td>2016-09-01 02:59:59</td>\n",
       "      <td>215.259946</td>\n",
       "      <td>12.884934</td>\n",
       "      <td>7.786667</td>\n",
       "      <td>0.996043</td>\n",
       "      <td>1398.493666</td>\n",
       "      <td>-500.868360</td>\n",
       "      <td>1398.860436</td>\n",
       "      <td>-499.764529</td>\n",
       "      <td>1398.075709</td>\n",
       "      <td>-502.151509</td>\n",
       "      <td>...</td>\n",
       "      <td>11.962366</td>\n",
       "      <td>-498.767484</td>\n",
       "      <td>8.096893</td>\n",
       "      <td>-500.827423</td>\n",
       "      <td>8.071056</td>\n",
       "      <td>-500.801673</td>\n",
       "      <td>4.905125</td>\n",
       "      <td>-499.828510</td>\n",
       "      <td>24.994862</td>\n",
       "      <td>-500.622559</td>\n",
       "    </tr>\n",
       "    <tr>\n",
       "      <td>2016-09-01 03:59:59</td>\n",
       "      <td>215.336236</td>\n",
       "      <td>12.006805</td>\n",
       "      <td>7.640000</td>\n",
       "      <td>0.863514</td>\n",
       "      <td>1399.618111</td>\n",
       "      <td>-498.863574</td>\n",
       "      <td>1397.440120</td>\n",
       "      <td>-499.211024</td>\n",
       "      <td>1400.129303</td>\n",
       "      <td>-498.355873</td>\n",
       "      <td>...</td>\n",
       "      <td>12.033091</td>\n",
       "      <td>-498.350935</td>\n",
       "      <td>8.074946</td>\n",
       "      <td>-499.474407</td>\n",
       "      <td>7.897085</td>\n",
       "      <td>-500.868509</td>\n",
       "      <td>4.931400</td>\n",
       "      <td>-499.963623</td>\n",
       "      <td>24.948919</td>\n",
       "      <td>-498.709987</td>\n",
       "    </tr>\n",
       "    <tr>\n",
       "      <td>2016-09-01 04:59:59</td>\n",
       "      <td>199.099327</td>\n",
       "      <td>10.682530</td>\n",
       "      <td>7.530000</td>\n",
       "      <td>0.805575</td>\n",
       "      <td>1401.268123</td>\n",
       "      <td>-500.808305</td>\n",
       "      <td>1398.128818</td>\n",
       "      <td>-499.504543</td>\n",
       "      <td>1402.172226</td>\n",
       "      <td>-500.810606</td>\n",
       "      <td>...</td>\n",
       "      <td>12.025367</td>\n",
       "      <td>-500.786497</td>\n",
       "      <td>8.054678</td>\n",
       "      <td>-500.397500</td>\n",
       "      <td>8.107890</td>\n",
       "      <td>-509.526725</td>\n",
       "      <td>4.957674</td>\n",
       "      <td>-500.360026</td>\n",
       "      <td>25.003331</td>\n",
       "      <td>-500.856333</td>\n",
       "    </tr>\n",
       "  </tbody>\n",
       "</table>\n",
       "<p>5 rows × 52 columns</p>\n",
       "</div>"
      ],
      "text/plain": [
       "                     primary_cleaner.input.sulfate  \\\n",
       "date                                                 \n",
       "2016-09-01 00:59:59                     210.800909   \n",
       "2016-09-01 01:59:59                     215.392455   \n",
       "2016-09-01 02:59:59                     215.259946   \n",
       "2016-09-01 03:59:59                     215.336236   \n",
       "2016-09-01 04:59:59                     199.099327   \n",
       "\n",
       "                     primary_cleaner.input.depressant  \\\n",
       "date                                                    \n",
       "2016-09-01 00:59:59                         14.993118   \n",
       "2016-09-01 01:59:59                         14.987471   \n",
       "2016-09-01 02:59:59                         12.884934   \n",
       "2016-09-01 03:59:59                         12.006805   \n",
       "2016-09-01 04:59:59                         10.682530   \n",
       "\n",
       "                     primary_cleaner.input.feed_size  \\\n",
       "date                                                   \n",
       "2016-09-01 00:59:59                         8.080000   \n",
       "2016-09-01 01:59:59                         8.080000   \n",
       "2016-09-01 02:59:59                         7.786667   \n",
       "2016-09-01 03:59:59                         7.640000   \n",
       "2016-09-01 04:59:59                         7.530000   \n",
       "\n",
       "                     primary_cleaner.input.xanthate  \\\n",
       "date                                                  \n",
       "2016-09-01 00:59:59                        1.005021   \n",
       "2016-09-01 01:59:59                        0.990469   \n",
       "2016-09-01 02:59:59                        0.996043   \n",
       "2016-09-01 03:59:59                        0.863514   \n",
       "2016-09-01 04:59:59                        0.805575   \n",
       "\n",
       "                     primary_cleaner.state.floatbank8_a_air  \\\n",
       "date                                                          \n",
       "2016-09-01 00:59:59                             1398.981301   \n",
       "2016-09-01 01:59:59                             1398.777912   \n",
       "2016-09-01 02:59:59                             1398.493666   \n",
       "2016-09-01 03:59:59                             1399.618111   \n",
       "2016-09-01 04:59:59                             1401.268123   \n",
       "\n",
       "                     primary_cleaner.state.floatbank8_a_level  \\\n",
       "date                                                            \n",
       "2016-09-01 00:59:59                               -500.225577   \n",
       "2016-09-01 01:59:59                               -500.057435   \n",
       "2016-09-01 02:59:59                               -500.868360   \n",
       "2016-09-01 03:59:59                               -498.863574   \n",
       "2016-09-01 04:59:59                               -500.808305   \n",
       "\n",
       "                     primary_cleaner.state.floatbank8_b_air  \\\n",
       "date                                                          \n",
       "2016-09-01 00:59:59                             1399.144926   \n",
       "2016-09-01 01:59:59                             1398.055362   \n",
       "2016-09-01 02:59:59                             1398.860436   \n",
       "2016-09-01 03:59:59                             1397.440120   \n",
       "2016-09-01 04:59:59                             1398.128818   \n",
       "\n",
       "                     primary_cleaner.state.floatbank8_b_level  \\\n",
       "date                                                            \n",
       "2016-09-01 00:59:59                               -499.919735   \n",
       "2016-09-01 01:59:59                               -499.778182   \n",
       "2016-09-01 02:59:59                               -499.764529   \n",
       "2016-09-01 03:59:59                               -499.211024   \n",
       "2016-09-01 04:59:59                               -499.504543   \n",
       "\n",
       "                     primary_cleaner.state.floatbank8_c_air  \\\n",
       "date                                                          \n",
       "2016-09-01 00:59:59                             1400.102998   \n",
       "2016-09-01 01:59:59                             1396.151033   \n",
       "2016-09-01 02:59:59                             1398.075709   \n",
       "2016-09-01 03:59:59                             1400.129303   \n",
       "2016-09-01 04:59:59                             1402.172226   \n",
       "\n",
       "                     primary_cleaner.state.floatbank8_c_level  ...  \\\n",
       "date                                                           ...   \n",
       "2016-09-01 00:59:59                               -500.704369  ...   \n",
       "2016-09-01 01:59:59                               -499.240168  ...   \n",
       "2016-09-01 02:59:59                               -502.151509  ...   \n",
       "2016-09-01 03:59:59                               -498.355873  ...   \n",
       "2016-09-01 04:59:59                               -500.810606  ...   \n",
       "\n",
       "                     secondary_cleaner.state.floatbank4_a_air  \\\n",
       "date                                                            \n",
       "2016-09-01 00:59:59                                 12.023554   \n",
       "2016-09-01 01:59:59                                 12.058140   \n",
       "2016-09-01 02:59:59                                 11.962366   \n",
       "2016-09-01 03:59:59                                 12.033091   \n",
       "2016-09-01 04:59:59                                 12.025367   \n",
       "\n",
       "                     secondary_cleaner.state.floatbank4_a_level  \\\n",
       "date                                                              \n",
       "2016-09-01 00:59:59                                 -497.795834   \n",
       "2016-09-01 01:59:59                                 -498.695773   \n",
       "2016-09-01 02:59:59                                 -498.767484   \n",
       "2016-09-01 03:59:59                                 -498.350935   \n",
       "2016-09-01 04:59:59                                 -500.786497   \n",
       "\n",
       "                     secondary_cleaner.state.floatbank4_b_air  \\\n",
       "date                                                            \n",
       "2016-09-01 00:59:59                                  8.016656   \n",
       "2016-09-01 01:59:59                                  8.130979   \n",
       "2016-09-01 02:59:59                                  8.096893   \n",
       "2016-09-01 03:59:59                                  8.074946   \n",
       "2016-09-01 04:59:59                                  8.054678   \n",
       "\n",
       "                     secondary_cleaner.state.floatbank4_b_level  \\\n",
       "date                                                              \n",
       "2016-09-01 00:59:59                                 -501.289139   \n",
       "2016-09-01 01:59:59                                 -499.634209   \n",
       "2016-09-01 02:59:59                                 -500.827423   \n",
       "2016-09-01 03:59:59                                 -499.474407   \n",
       "2016-09-01 04:59:59                                 -500.397500   \n",
       "\n",
       "                     secondary_cleaner.state.floatbank5_a_air  \\\n",
       "date                                                            \n",
       "2016-09-01 00:59:59                                  7.946562   \n",
       "2016-09-01 01:59:59                                  7.958270   \n",
       "2016-09-01 02:59:59                                  8.071056   \n",
       "2016-09-01 03:59:59                                  7.897085   \n",
       "2016-09-01 04:59:59                                  8.107890   \n",
       "\n",
       "                     secondary_cleaner.state.floatbank5_a_level  \\\n",
       "date                                                              \n",
       "2016-09-01 00:59:59                                 -432.317850   \n",
       "2016-09-01 01:59:59                                 -525.839648   \n",
       "2016-09-01 02:59:59                                 -500.801673   \n",
       "2016-09-01 03:59:59                                 -500.868509   \n",
       "2016-09-01 04:59:59                                 -509.526725   \n",
       "\n",
       "                     secondary_cleaner.state.floatbank5_b_air  \\\n",
       "date                                                            \n",
       "2016-09-01 00:59:59                                  4.872511   \n",
       "2016-09-01 01:59:59                                  4.878850   \n",
       "2016-09-01 02:59:59                                  4.905125   \n",
       "2016-09-01 03:59:59                                  4.931400   \n",
       "2016-09-01 04:59:59                                  4.957674   \n",
       "\n",
       "                     secondary_cleaner.state.floatbank5_b_level  \\\n",
       "date                                                              \n",
       "2016-09-01 00:59:59                                 -500.037437   \n",
       "2016-09-01 01:59:59                                 -500.162375   \n",
       "2016-09-01 02:59:59                                 -499.828510   \n",
       "2016-09-01 03:59:59                                 -499.963623   \n",
       "2016-09-01 04:59:59                                 -500.360026   \n",
       "\n",
       "                     secondary_cleaner.state.floatbank6_a_air  \\\n",
       "date                                                            \n",
       "2016-09-01 00:59:59                                 26.705889   \n",
       "2016-09-01 01:59:59                                 25.019940   \n",
       "2016-09-01 02:59:59                                 24.994862   \n",
       "2016-09-01 03:59:59                                 24.948919   \n",
       "2016-09-01 04:59:59                                 25.003331   \n",
       "\n",
       "                     secondary_cleaner.state.floatbank6_a_level  \n",
       "date                                                             \n",
       "2016-09-01 00:59:59                                 -499.709414  \n",
       "2016-09-01 01:59:59                                 -499.819438  \n",
       "2016-09-01 02:59:59                                 -500.622559  \n",
       "2016-09-01 03:59:59                                 -498.709987  \n",
       "2016-09-01 04:59:59                                 -500.856333  \n",
       "\n",
       "[5 rows x 52 columns]"
      ]
     },
     "metadata": {},
     "output_type": "display_data"
    }
   ],
   "source": [
    "display(test.head())"
   ]
  },
  {
   "cell_type": "code",
   "execution_count": 37,
   "metadata": {},
   "outputs": [
    {
     "name": "stdout",
     "output_type": "stream",
     "text": [
      "<class 'pandas.core.frame.DataFrame'>\n",
      "DatetimeIndex: 5290 entries, 2016-09-01 00:59:59 to 2017-12-31 23:59:59\n",
      "Data columns (total 52 columns):\n",
      "primary_cleaner.input.sulfate                 5286 non-null float64\n",
      "primary_cleaner.input.depressant              5285 non-null float64\n",
      "primary_cleaner.input.feed_size               5290 non-null float64\n",
      "primary_cleaner.input.xanthate                5286 non-null float64\n",
      "primary_cleaner.state.floatbank8_a_air        5290 non-null float64\n",
      "primary_cleaner.state.floatbank8_a_level      5290 non-null float64\n",
      "primary_cleaner.state.floatbank8_b_air        5290 non-null float64\n",
      "primary_cleaner.state.floatbank8_b_level      5290 non-null float64\n",
      "primary_cleaner.state.floatbank8_c_air        5290 non-null float64\n",
      "primary_cleaner.state.floatbank8_c_level      5290 non-null float64\n",
      "primary_cleaner.state.floatbank8_d_air        5290 non-null float64\n",
      "primary_cleaner.state.floatbank8_d_level      5290 non-null float64\n",
      "rougher.input.feed_ag                         5290 non-null float64\n",
      "rougher.input.feed_pb                         5290 non-null float64\n",
      "rougher.input.feed_rate                       5287 non-null float64\n",
      "rougher.input.feed_size                       5289 non-null float64\n",
      "rougher.input.feed_sol                        5269 non-null float64\n",
      "rougher.input.feed_au                         5290 non-null float64\n",
      "rougher.input.floatbank10_sulfate             5285 non-null float64\n",
      "rougher.input.floatbank10_xanthate            5290 non-null float64\n",
      "rougher.input.floatbank11_sulfate             5282 non-null float64\n",
      "rougher.input.floatbank11_xanthate            5265 non-null float64\n",
      "rougher.state.floatbank10_a_air               5290 non-null float64\n",
      "rougher.state.floatbank10_a_level             5290 non-null float64\n",
      "rougher.state.floatbank10_b_air               5290 non-null float64\n",
      "rougher.state.floatbank10_b_level             5290 non-null float64\n",
      "rougher.state.floatbank10_c_air               5290 non-null float64\n",
      "rougher.state.floatbank10_c_level             5290 non-null float64\n",
      "rougher.state.floatbank10_d_air               5290 non-null float64\n",
      "rougher.state.floatbank10_d_level             5290 non-null float64\n",
      "rougher.state.floatbank10_e_air               5290 non-null float64\n",
      "rougher.state.floatbank10_e_level             5290 non-null float64\n",
      "rougher.state.floatbank10_f_air               5290 non-null float64\n",
      "rougher.state.floatbank10_f_level             5290 non-null float64\n",
      "secondary_cleaner.state.floatbank2_a_air      5287 non-null float64\n",
      "secondary_cleaner.state.floatbank2_a_level    5290 non-null float64\n",
      "secondary_cleaner.state.floatbank2_b_air      5288 non-null float64\n",
      "secondary_cleaner.state.floatbank2_b_level    5290 non-null float64\n",
      "secondary_cleaner.state.floatbank3_a_air      5281 non-null float64\n",
      "secondary_cleaner.state.floatbank3_a_level    5290 non-null float64\n",
      "secondary_cleaner.state.floatbank3_b_air      5290 non-null float64\n",
      "secondary_cleaner.state.floatbank3_b_level    5290 non-null float64\n",
      "secondary_cleaner.state.floatbank4_a_air      5290 non-null float64\n",
      "secondary_cleaner.state.floatbank4_a_level    5290 non-null float64\n",
      "secondary_cleaner.state.floatbank4_b_air      5290 non-null float64\n",
      "secondary_cleaner.state.floatbank4_b_level    5290 non-null float64\n",
      "secondary_cleaner.state.floatbank5_a_air      5290 non-null float64\n",
      "secondary_cleaner.state.floatbank5_a_level    5290 non-null float64\n",
      "secondary_cleaner.state.floatbank5_b_air      5290 non-null float64\n",
      "secondary_cleaner.state.floatbank5_b_level    5290 non-null float64\n",
      "secondary_cleaner.state.floatbank6_a_air      5290 non-null float64\n",
      "secondary_cleaner.state.floatbank6_a_level    5290 non-null float64\n",
      "dtypes: float64(52)\n",
      "memory usage: 2.1 MB\n",
      "None\n"
     ]
    }
   ],
   "source": [
    "print(test.info())"
   ]
  },
  {
   "cell_type": "code",
   "execution_count": 38,
   "metadata": {},
   "outputs": [
    {
     "data": {
      "text/html": [
       "<div>\n",
       "<style scoped>\n",
       "    .dataframe tbody tr th:only-of-type {\n",
       "        vertical-align: middle;\n",
       "    }\n",
       "\n",
       "    .dataframe tbody tr th {\n",
       "        vertical-align: top;\n",
       "    }\n",
       "\n",
       "    .dataframe thead th {\n",
       "        text-align: right;\n",
       "    }\n",
       "</style>\n",
       "<table border=\"1\" class=\"dataframe\">\n",
       "  <thead>\n",
       "    <tr style=\"text-align: right;\">\n",
       "      <th></th>\n",
       "      <th>final.output.concentrate_ag</th>\n",
       "      <th>final.output.concentrate_pb</th>\n",
       "      <th>final.output.concentrate_sol</th>\n",
       "      <th>final.output.concentrate_au</th>\n",
       "      <th>final.output.recovery</th>\n",
       "      <th>final.output.tail_ag</th>\n",
       "      <th>final.output.tail_pb</th>\n",
       "      <th>final.output.tail_sol</th>\n",
       "      <th>final.output.tail_au</th>\n",
       "      <th>primary_cleaner.input.sulfate</th>\n",
       "      <th>...</th>\n",
       "      <th>secondary_cleaner.state.floatbank4_a_air</th>\n",
       "      <th>secondary_cleaner.state.floatbank4_a_level</th>\n",
       "      <th>secondary_cleaner.state.floatbank4_b_air</th>\n",
       "      <th>secondary_cleaner.state.floatbank4_b_level</th>\n",
       "      <th>secondary_cleaner.state.floatbank5_a_air</th>\n",
       "      <th>secondary_cleaner.state.floatbank5_a_level</th>\n",
       "      <th>secondary_cleaner.state.floatbank5_b_air</th>\n",
       "      <th>secondary_cleaner.state.floatbank5_b_level</th>\n",
       "      <th>secondary_cleaner.state.floatbank6_a_air</th>\n",
       "      <th>secondary_cleaner.state.floatbank6_a_level</th>\n",
       "    </tr>\n",
       "    <tr>\n",
       "      <th>date</th>\n",
       "      <th></th>\n",
       "      <th></th>\n",
       "      <th></th>\n",
       "      <th></th>\n",
       "      <th></th>\n",
       "      <th></th>\n",
       "      <th></th>\n",
       "      <th></th>\n",
       "      <th></th>\n",
       "      <th></th>\n",
       "      <th></th>\n",
       "      <th></th>\n",
       "      <th></th>\n",
       "      <th></th>\n",
       "      <th></th>\n",
       "      <th></th>\n",
       "      <th></th>\n",
       "      <th></th>\n",
       "      <th></th>\n",
       "      <th></th>\n",
       "      <th></th>\n",
       "    </tr>\n",
       "  </thead>\n",
       "  <tbody>\n",
       "    <tr>\n",
       "      <td>2016-01-15 00:00:00</td>\n",
       "      <td>6.055403</td>\n",
       "      <td>9.889648</td>\n",
       "      <td>5.507324</td>\n",
       "      <td>42.192020</td>\n",
       "      <td>70.541216</td>\n",
       "      <td>10.411962</td>\n",
       "      <td>0.895447</td>\n",
       "      <td>16.904297</td>\n",
       "      <td>2.143149</td>\n",
       "      <td>127.092003</td>\n",
       "      <td>...</td>\n",
       "      <td>14.016835</td>\n",
       "      <td>-502.488007</td>\n",
       "      <td>12.099931</td>\n",
       "      <td>-504.715942</td>\n",
       "      <td>9.925633</td>\n",
       "      <td>-498.310211</td>\n",
       "      <td>8.079666</td>\n",
       "      <td>-500.470978</td>\n",
       "      <td>14.151341</td>\n",
       "      <td>-605.841980</td>\n",
       "    </tr>\n",
       "    <tr>\n",
       "      <td>2016-01-15 01:00:00</td>\n",
       "      <td>6.029369</td>\n",
       "      <td>9.968944</td>\n",
       "      <td>5.257781</td>\n",
       "      <td>42.701629</td>\n",
       "      <td>69.266198</td>\n",
       "      <td>10.462676</td>\n",
       "      <td>0.927452</td>\n",
       "      <td>16.634514</td>\n",
       "      <td>2.224930</td>\n",
       "      <td>125.629232</td>\n",
       "      <td>...</td>\n",
       "      <td>13.992281</td>\n",
       "      <td>-505.503262</td>\n",
       "      <td>11.950531</td>\n",
       "      <td>-501.331529</td>\n",
       "      <td>10.039245</td>\n",
       "      <td>-500.169983</td>\n",
       "      <td>7.984757</td>\n",
       "      <td>-500.582168</td>\n",
       "      <td>13.998353</td>\n",
       "      <td>-599.787184</td>\n",
       "    </tr>\n",
       "    <tr>\n",
       "      <td>2016-01-15 02:00:00</td>\n",
       "      <td>6.055926</td>\n",
       "      <td>10.213995</td>\n",
       "      <td>5.383759</td>\n",
       "      <td>42.657501</td>\n",
       "      <td>68.116445</td>\n",
       "      <td>10.507046</td>\n",
       "      <td>0.953716</td>\n",
       "      <td>16.208849</td>\n",
       "      <td>2.257889</td>\n",
       "      <td>123.819808</td>\n",
       "      <td>...</td>\n",
       "      <td>14.015015</td>\n",
       "      <td>-502.520901</td>\n",
       "      <td>11.912783</td>\n",
       "      <td>-501.133383</td>\n",
       "      <td>10.070913</td>\n",
       "      <td>-500.129135</td>\n",
       "      <td>8.013877</td>\n",
       "      <td>-500.517572</td>\n",
       "      <td>14.028663</td>\n",
       "      <td>-601.427363</td>\n",
       "    </tr>\n",
       "    <tr>\n",
       "      <td>2016-01-15 03:00:00</td>\n",
       "      <td>6.047977</td>\n",
       "      <td>9.977019</td>\n",
       "      <td>4.858634</td>\n",
       "      <td>42.689819</td>\n",
       "      <td>68.347543</td>\n",
       "      <td>10.422762</td>\n",
       "      <td>0.883763</td>\n",
       "      <td>16.532835</td>\n",
       "      <td>2.146849</td>\n",
       "      <td>122.270188</td>\n",
       "      <td>...</td>\n",
       "      <td>14.036510</td>\n",
       "      <td>-500.857308</td>\n",
       "      <td>11.999550</td>\n",
       "      <td>-501.193686</td>\n",
       "      <td>9.970366</td>\n",
       "      <td>-499.201640</td>\n",
       "      <td>7.977324</td>\n",
       "      <td>-500.255908</td>\n",
       "      <td>14.005551</td>\n",
       "      <td>-599.996129</td>\n",
       "    </tr>\n",
       "    <tr>\n",
       "      <td>2016-01-15 04:00:00</td>\n",
       "      <td>6.148599</td>\n",
       "      <td>10.142511</td>\n",
       "      <td>4.939416</td>\n",
       "      <td>42.774141</td>\n",
       "      <td>66.927016</td>\n",
       "      <td>10.360302</td>\n",
       "      <td>0.792826</td>\n",
       "      <td>16.525686</td>\n",
       "      <td>2.055292</td>\n",
       "      <td>117.988169</td>\n",
       "      <td>...</td>\n",
       "      <td>14.027298</td>\n",
       "      <td>-499.838632</td>\n",
       "      <td>11.953070</td>\n",
       "      <td>-501.053894</td>\n",
       "      <td>9.925709</td>\n",
       "      <td>-501.686727</td>\n",
       "      <td>7.894242</td>\n",
       "      <td>-500.356035</td>\n",
       "      <td>13.996647</td>\n",
       "      <td>-601.496691</td>\n",
       "    </tr>\n",
       "  </tbody>\n",
       "</table>\n",
       "<p>5 rows × 86 columns</p>\n",
       "</div>"
      ],
      "text/plain": [
       "                     final.output.concentrate_ag  final.output.concentrate_pb  \\\n",
       "date                                                                            \n",
       "2016-01-15 00:00:00                     6.055403                     9.889648   \n",
       "2016-01-15 01:00:00                     6.029369                     9.968944   \n",
       "2016-01-15 02:00:00                     6.055926                    10.213995   \n",
       "2016-01-15 03:00:00                     6.047977                     9.977019   \n",
       "2016-01-15 04:00:00                     6.148599                    10.142511   \n",
       "\n",
       "                     final.output.concentrate_sol  \\\n",
       "date                                                \n",
       "2016-01-15 00:00:00                      5.507324   \n",
       "2016-01-15 01:00:00                      5.257781   \n",
       "2016-01-15 02:00:00                      5.383759   \n",
       "2016-01-15 03:00:00                      4.858634   \n",
       "2016-01-15 04:00:00                      4.939416   \n",
       "\n",
       "                     final.output.concentrate_au  final.output.recovery  \\\n",
       "date                                                                      \n",
       "2016-01-15 00:00:00                    42.192020              70.541216   \n",
       "2016-01-15 01:00:00                    42.701629              69.266198   \n",
       "2016-01-15 02:00:00                    42.657501              68.116445   \n",
       "2016-01-15 03:00:00                    42.689819              68.347543   \n",
       "2016-01-15 04:00:00                    42.774141              66.927016   \n",
       "\n",
       "                     final.output.tail_ag  final.output.tail_pb  \\\n",
       "date                                                              \n",
       "2016-01-15 00:00:00             10.411962              0.895447   \n",
       "2016-01-15 01:00:00             10.462676              0.927452   \n",
       "2016-01-15 02:00:00             10.507046              0.953716   \n",
       "2016-01-15 03:00:00             10.422762              0.883763   \n",
       "2016-01-15 04:00:00             10.360302              0.792826   \n",
       "\n",
       "                     final.output.tail_sol  final.output.tail_au  \\\n",
       "date                                                               \n",
       "2016-01-15 00:00:00              16.904297              2.143149   \n",
       "2016-01-15 01:00:00              16.634514              2.224930   \n",
       "2016-01-15 02:00:00              16.208849              2.257889   \n",
       "2016-01-15 03:00:00              16.532835              2.146849   \n",
       "2016-01-15 04:00:00              16.525686              2.055292   \n",
       "\n",
       "                     primary_cleaner.input.sulfate  ...  \\\n",
       "date                                                ...   \n",
       "2016-01-15 00:00:00                     127.092003  ...   \n",
       "2016-01-15 01:00:00                     125.629232  ...   \n",
       "2016-01-15 02:00:00                     123.819808  ...   \n",
       "2016-01-15 03:00:00                     122.270188  ...   \n",
       "2016-01-15 04:00:00                     117.988169  ...   \n",
       "\n",
       "                     secondary_cleaner.state.floatbank4_a_air  \\\n",
       "date                                                            \n",
       "2016-01-15 00:00:00                                 14.016835   \n",
       "2016-01-15 01:00:00                                 13.992281   \n",
       "2016-01-15 02:00:00                                 14.015015   \n",
       "2016-01-15 03:00:00                                 14.036510   \n",
       "2016-01-15 04:00:00                                 14.027298   \n",
       "\n",
       "                     secondary_cleaner.state.floatbank4_a_level  \\\n",
       "date                                                              \n",
       "2016-01-15 00:00:00                                 -502.488007   \n",
       "2016-01-15 01:00:00                                 -505.503262   \n",
       "2016-01-15 02:00:00                                 -502.520901   \n",
       "2016-01-15 03:00:00                                 -500.857308   \n",
       "2016-01-15 04:00:00                                 -499.838632   \n",
       "\n",
       "                     secondary_cleaner.state.floatbank4_b_air  \\\n",
       "date                                                            \n",
       "2016-01-15 00:00:00                                 12.099931   \n",
       "2016-01-15 01:00:00                                 11.950531   \n",
       "2016-01-15 02:00:00                                 11.912783   \n",
       "2016-01-15 03:00:00                                 11.999550   \n",
       "2016-01-15 04:00:00                                 11.953070   \n",
       "\n",
       "                     secondary_cleaner.state.floatbank4_b_level  \\\n",
       "date                                                              \n",
       "2016-01-15 00:00:00                                 -504.715942   \n",
       "2016-01-15 01:00:00                                 -501.331529   \n",
       "2016-01-15 02:00:00                                 -501.133383   \n",
       "2016-01-15 03:00:00                                 -501.193686   \n",
       "2016-01-15 04:00:00                                 -501.053894   \n",
       "\n",
       "                     secondary_cleaner.state.floatbank5_a_air  \\\n",
       "date                                                            \n",
       "2016-01-15 00:00:00                                  9.925633   \n",
       "2016-01-15 01:00:00                                 10.039245   \n",
       "2016-01-15 02:00:00                                 10.070913   \n",
       "2016-01-15 03:00:00                                  9.970366   \n",
       "2016-01-15 04:00:00                                  9.925709   \n",
       "\n",
       "                     secondary_cleaner.state.floatbank5_a_level  \\\n",
       "date                                                              \n",
       "2016-01-15 00:00:00                                 -498.310211   \n",
       "2016-01-15 01:00:00                                 -500.169983   \n",
       "2016-01-15 02:00:00                                 -500.129135   \n",
       "2016-01-15 03:00:00                                 -499.201640   \n",
       "2016-01-15 04:00:00                                 -501.686727   \n",
       "\n",
       "                     secondary_cleaner.state.floatbank5_b_air  \\\n",
       "date                                                            \n",
       "2016-01-15 00:00:00                                  8.079666   \n",
       "2016-01-15 01:00:00                                  7.984757   \n",
       "2016-01-15 02:00:00                                  8.013877   \n",
       "2016-01-15 03:00:00                                  7.977324   \n",
       "2016-01-15 04:00:00                                  7.894242   \n",
       "\n",
       "                     secondary_cleaner.state.floatbank5_b_level  \\\n",
       "date                                                              \n",
       "2016-01-15 00:00:00                                 -500.470978   \n",
       "2016-01-15 01:00:00                                 -500.582168   \n",
       "2016-01-15 02:00:00                                 -500.517572   \n",
       "2016-01-15 03:00:00                                 -500.255908   \n",
       "2016-01-15 04:00:00                                 -500.356035   \n",
       "\n",
       "                     secondary_cleaner.state.floatbank6_a_air  \\\n",
       "date                                                            \n",
       "2016-01-15 00:00:00                                 14.151341   \n",
       "2016-01-15 01:00:00                                 13.998353   \n",
       "2016-01-15 02:00:00                                 14.028663   \n",
       "2016-01-15 03:00:00                                 14.005551   \n",
       "2016-01-15 04:00:00                                 13.996647   \n",
       "\n",
       "                     secondary_cleaner.state.floatbank6_a_level  \n",
       "date                                                             \n",
       "2016-01-15 00:00:00                                 -605.841980  \n",
       "2016-01-15 01:00:00                                 -599.787184  \n",
       "2016-01-15 02:00:00                                 -601.427363  \n",
       "2016-01-15 03:00:00                                 -599.996129  \n",
       "2016-01-15 04:00:00                                 -601.496691  \n",
       "\n",
       "[5 rows x 86 columns]"
      ]
     },
     "metadata": {},
     "output_type": "display_data"
    }
   ],
   "source": [
    "display(full.head())"
   ]
  },
  {
   "cell_type": "code",
   "execution_count": 39,
   "metadata": {},
   "outputs": [
    {
     "name": "stdout",
     "output_type": "stream",
     "text": [
      "<class 'pandas.core.frame.DataFrame'>\n",
      "DatetimeIndex: 19439 entries, 2016-01-15 00:00:00 to 2018-08-18 10:59:59\n",
      "Data columns (total 86 columns):\n",
      "final.output.concentrate_ag                           19438 non-null float64\n",
      "final.output.concentrate_pb                           19438 non-null float64\n",
      "final.output.concentrate_sol                          19228 non-null float64\n",
      "final.output.concentrate_au                           19439 non-null float64\n",
      "final.output.recovery                                 19439 non-null float64\n",
      "final.output.tail_ag                                  19438 non-null float64\n",
      "final.output.tail_pb                                  19338 non-null float64\n",
      "final.output.tail_sol                                 19433 non-null float64\n",
      "final.output.tail_au                                  19439 non-null float64\n",
      "primary_cleaner.input.sulfate                         19415 non-null float64\n",
      "primary_cleaner.input.depressant                      19402 non-null float64\n",
      "primary_cleaner.input.feed_size                       19439 non-null float64\n",
      "primary_cleaner.input.xanthate                        19335 non-null float64\n",
      "primary_cleaner.output.concentrate_ag                 19439 non-null float64\n",
      "primary_cleaner.output.concentrate_pb                 19323 non-null float64\n",
      "primary_cleaner.output.concentrate_sol                19069 non-null float64\n",
      "primary_cleaner.output.concentrate_au                 19439 non-null float64\n",
      "primary_cleaner.output.tail_ag                        19435 non-null float64\n",
      "primary_cleaner.output.tail_pb                        19418 non-null float64\n",
      "primary_cleaner.output.tail_sol                       19377 non-null float64\n",
      "primary_cleaner.output.tail_au                        19439 non-null float64\n",
      "primary_cleaner.state.floatbank8_a_air                19435 non-null float64\n",
      "primary_cleaner.state.floatbank8_a_level              19438 non-null float64\n",
      "primary_cleaner.state.floatbank8_b_air                19435 non-null float64\n",
      "primary_cleaner.state.floatbank8_b_level              19438 non-null float64\n",
      "primary_cleaner.state.floatbank8_c_air                19437 non-null float64\n",
      "primary_cleaner.state.floatbank8_c_level              19438 non-null float64\n",
      "primary_cleaner.state.floatbank8_d_air                19436 non-null float64\n",
      "primary_cleaner.state.floatbank8_d_level              19438 non-null float64\n",
      "rougher.calculation.sulfate_to_au_concentrate         19437 non-null float64\n",
      "rougher.calculation.floatbank10_sulfate_to_au_feed    19437 non-null float64\n",
      "rougher.calculation.floatbank11_sulfate_to_au_feed    19437 non-null float64\n",
      "rougher.calculation.au_pb_ratio                       19439 non-null float64\n",
      "rougher.input.feed_ag                                 19439 non-null float64\n",
      "rougher.input.feed_pb                                 19339 non-null float64\n",
      "rougher.input.feed_rate                               19428 non-null float64\n",
      "rougher.input.feed_size                               19294 non-null float64\n",
      "rougher.input.feed_sol                                19340 non-null float64\n",
      "rougher.input.feed_au                                 19439 non-null float64\n",
      "rougher.input.floatbank10_sulfate                     19405 non-null float64\n",
      "rougher.input.floatbank10_xanthate                    19431 non-null float64\n",
      "rougher.input.floatbank11_sulfate                     19395 non-null float64\n",
      "rougher.input.floatbank11_xanthate                    18986 non-null float64\n",
      "rougher.output.concentrate_ag                         19439 non-null float64\n",
      "rougher.output.concentrate_pb                         19439 non-null float64\n",
      "rougher.output.concentrate_sol                        19416 non-null float64\n",
      "rougher.output.concentrate_au                         19439 non-null float64\n",
      "rougher.output.recovery                               19439 non-null float64\n",
      "rougher.output.tail_ag                                19438 non-null float64\n",
      "rougher.output.tail_pb                                19439 non-null float64\n",
      "rougher.output.tail_sol                               19439 non-null float64\n",
      "rougher.output.tail_au                                19439 non-null float64\n",
      "rougher.state.floatbank10_a_air                       19438 non-null float64\n",
      "rougher.state.floatbank10_a_level                     19438 non-null float64\n",
      "rougher.state.floatbank10_b_air                       19438 non-null float64\n",
      "rougher.state.floatbank10_b_level                     19438 non-null float64\n",
      "rougher.state.floatbank10_c_air                       19438 non-null float64\n",
      "rougher.state.floatbank10_c_level                     19438 non-null float64\n",
      "rougher.state.floatbank10_d_air                       19439 non-null float64\n",
      "rougher.state.floatbank10_d_level                     19439 non-null float64\n",
      "rougher.state.floatbank10_e_air                       19003 non-null float64\n",
      "rougher.state.floatbank10_e_level                     19439 non-null float64\n",
      "rougher.state.floatbank10_f_air                       19439 non-null float64\n",
      "rougher.state.floatbank10_f_level                     19439 non-null float64\n",
      "secondary_cleaner.output.tail_ag                      19437 non-null float64\n",
      "secondary_cleaner.output.tail_pb                      19427 non-null float64\n",
      "secondary_cleaner.output.tail_sol                     17691 non-null float64\n",
      "secondary_cleaner.output.tail_au                      19439 non-null float64\n",
      "secondary_cleaner.state.floatbank2_a_air              19219 non-null float64\n",
      "secondary_cleaner.state.floatbank2_a_level            19438 non-null float64\n",
      "secondary_cleaner.state.floatbank2_b_air              19416 non-null float64\n",
      "secondary_cleaner.state.floatbank2_b_level            19438 non-null float64\n",
      "secondary_cleaner.state.floatbank3_a_air              19426 non-null float64\n",
      "secondary_cleaner.state.floatbank3_a_level            19438 non-null float64\n",
      "secondary_cleaner.state.floatbank3_b_air              19438 non-null float64\n",
      "secondary_cleaner.state.floatbank3_b_level            19438 non-null float64\n",
      "secondary_cleaner.state.floatbank4_a_air              19433 non-null float64\n",
      "secondary_cleaner.state.floatbank4_a_level            19438 non-null float64\n",
      "secondary_cleaner.state.floatbank4_b_air              19438 non-null float64\n",
      "secondary_cleaner.state.floatbank4_b_level            19438 non-null float64\n",
      "secondary_cleaner.state.floatbank5_a_air              19438 non-null float64\n",
      "secondary_cleaner.state.floatbank5_a_level            19438 non-null float64\n",
      "secondary_cleaner.state.floatbank5_b_air              19438 non-null float64\n",
      "secondary_cleaner.state.floatbank5_b_level            19438 non-null float64\n",
      "secondary_cleaner.state.floatbank6_a_air              19437 non-null float64\n",
      "secondary_cleaner.state.floatbank6_a_level            19438 non-null float64\n",
      "dtypes: float64(86)\n",
      "memory usage: 12.9 MB\n",
      "None\n"
     ]
    }
   ],
   "source": [
    "print(full.info())"
   ]
  },
  {
   "cell_type": "markdown",
   "metadata": {},
   "source": [
    "### Проверка корректности рассчсета обогощения"
   ]
  },
  {
   "cell_type": "code",
   "execution_count": 40,
   "metadata": {},
   "outputs": [],
   "source": [
    "C = train.loc[~train['rougher.output.recovery'].isna(), 'rougher.output.concentrate_au']\n",
    "F = train.loc[~train['rougher.output.recovery'].isna(), 'rougher.input.feed_au']\n",
    "T = train.loc[~train['rougher.output.recovery'].isna(), 'rougher.output.tail_au']\n",
    "rough_recov_calc = C * (F - T) / (F * (C - T)) * 100\n",
    "rough_recov_train = train.loc[~train['rougher.output.recovery'].isna(), 'rougher.output.recovery']"
   ]
  },
  {
   "cell_type": "code",
   "execution_count": 41,
   "metadata": {},
   "outputs": [
    {
     "data": {
      "text/plain": [
       "date\n",
       "2016-01-15 00:00:00    87.107763\n",
       "2016-01-15 01:00:00    86.843261\n",
       "2016-01-15 02:00:00    86.842308\n",
       "2016-01-15 03:00:00    87.226430\n",
       "2016-01-15 04:00:00    86.688794\n",
       "                         ...    \n",
       "2018-08-18 06:59:59    89.574376\n",
       "2018-08-18 07:59:59    87.724007\n",
       "2018-08-18 08:59:59    88.890579\n",
       "2018-08-18 09:59:59    89.858126\n",
       "2018-08-18 10:59:59    89.514960\n",
       "Length: 14149, dtype: float64"
      ]
     },
     "execution_count": 41,
     "metadata": {},
     "output_type": "execute_result"
    }
   ],
   "source": [
    "rough_recov_calc"
   ]
  },
  {
   "cell_type": "code",
   "execution_count": 42,
   "metadata": {},
   "outputs": [
    {
     "data": {
      "text/plain": [
       "date\n",
       "2016-01-15 00:00:00    87.107763\n",
       "2016-01-15 01:00:00    86.843261\n",
       "2016-01-15 02:00:00    86.842308\n",
       "2016-01-15 03:00:00    87.226430\n",
       "2016-01-15 04:00:00    86.688794\n",
       "                         ...    \n",
       "2018-08-18 06:59:59    89.574376\n",
       "2018-08-18 07:59:59    87.724007\n",
       "2018-08-18 08:59:59    88.890579\n",
       "2018-08-18 09:59:59    89.858126\n",
       "2018-08-18 10:59:59    89.514960\n",
       "Name: rougher.output.recovery, Length: 14149, dtype: float64"
      ]
     },
     "execution_count": 42,
     "metadata": {},
     "output_type": "execute_result"
    }
   ],
   "source": [
    "rough_recov_train"
   ]
  },
  {
   "cell_type": "code",
   "execution_count": 43,
   "metadata": {},
   "outputs": [
    {
     "data": {
      "text/plain": [
       "-9.983125437429408e-13"
      ]
     },
     "execution_count": 43,
     "metadata": {},
     "output_type": "execute_result"
    }
   ],
   "source": [
    "(rough_recov_calc-rough_recov_train).sum()"
   ]
  },
  {
   "cell_type": "markdown",
   "metadata": {},
   "source": [
    "**Вывод**"
   ]
  },
  {
   "cell_type": "markdown",
   "metadata": {},
   "source": [
    "Как можно видеть, разница между посчитанными и фактическими значениями очень маленькие. Значит поссчитанные значения корректны"
   ]
  },
  {
   "cell_type": "markdown",
   "metadata": {},
   "source": [
    "### Признаки, недоступные в тестовой выборке"
   ]
  },
  {
   "cell_type": "code",
   "execution_count": 44,
   "metadata": {},
   "outputs": [
    {
     "name": "stdout",
     "output_type": "stream",
     "text": [
      "['primary_cleaner.input.sulfate', 'primary_cleaner.input.depressant', 'primary_cleaner.input.feed_size', 'primary_cleaner.input.xanthate', 'primary_cleaner.state.floatbank8_a_air', 'primary_cleaner.state.floatbank8_a_level', 'primary_cleaner.state.floatbank8_b_air', 'primary_cleaner.state.floatbank8_b_level', 'primary_cleaner.state.floatbank8_c_air', 'primary_cleaner.state.floatbank8_c_level', 'primary_cleaner.state.floatbank8_d_air', 'primary_cleaner.state.floatbank8_d_level', 'rougher.input.feed_ag', 'rougher.input.feed_pb', 'rougher.input.feed_rate', 'rougher.input.feed_size', 'rougher.input.feed_sol', 'rougher.input.feed_au', 'rougher.input.floatbank10_sulfate', 'rougher.input.floatbank10_xanthate', 'rougher.input.floatbank11_sulfate', 'rougher.input.floatbank11_xanthate', 'rougher.state.floatbank10_a_air', 'rougher.state.floatbank10_a_level', 'rougher.state.floatbank10_b_air', 'rougher.state.floatbank10_b_level', 'rougher.state.floatbank10_c_air', 'rougher.state.floatbank10_c_level', 'rougher.state.floatbank10_d_air', 'rougher.state.floatbank10_d_level', 'rougher.state.floatbank10_e_air', 'rougher.state.floatbank10_e_level', 'rougher.state.floatbank10_f_air', 'rougher.state.floatbank10_f_level', 'secondary_cleaner.state.floatbank2_a_air', 'secondary_cleaner.state.floatbank2_a_level', 'secondary_cleaner.state.floatbank2_b_air', 'secondary_cleaner.state.floatbank2_b_level', 'secondary_cleaner.state.floatbank3_a_air', 'secondary_cleaner.state.floatbank3_a_level', 'secondary_cleaner.state.floatbank3_b_air', 'secondary_cleaner.state.floatbank3_b_level', 'secondary_cleaner.state.floatbank4_a_air', 'secondary_cleaner.state.floatbank4_a_level', 'secondary_cleaner.state.floatbank4_b_air', 'secondary_cleaner.state.floatbank4_b_level', 'secondary_cleaner.state.floatbank5_a_air', 'secondary_cleaner.state.floatbank5_a_level', 'secondary_cleaner.state.floatbank5_b_air', 'secondary_cleaner.state.floatbank5_b_level', 'secondary_cleaner.state.floatbank6_a_air', 'secondary_cleaner.state.floatbank6_a_level']\n"
     ]
    }
   ],
   "source": [
    "columns_test = []\n",
    "for i in test.columns:\n",
    "    columns_test.append(i)\n",
    "print(columns_test)"
   ]
  },
  {
   "cell_type": "code",
   "execution_count": 45,
   "metadata": {},
   "outputs": [
    {
     "name": "stdout",
     "output_type": "stream",
     "text": [
      "['final.output.concentrate_ag', 'final.output.concentrate_pb', 'final.output.concentrate_sol', 'final.output.concentrate_au', 'final.output.recovery', 'final.output.tail_ag', 'final.output.tail_pb', 'final.output.tail_sol', 'final.output.tail_au', 'primary_cleaner.input.sulfate', 'primary_cleaner.input.depressant', 'primary_cleaner.input.feed_size', 'primary_cleaner.input.xanthate', 'primary_cleaner.output.concentrate_ag', 'primary_cleaner.output.concentrate_pb', 'primary_cleaner.output.concentrate_sol', 'primary_cleaner.output.concentrate_au', 'primary_cleaner.output.tail_ag', 'primary_cleaner.output.tail_pb', 'primary_cleaner.output.tail_sol', 'primary_cleaner.output.tail_au', 'primary_cleaner.state.floatbank8_a_air', 'primary_cleaner.state.floatbank8_a_level', 'primary_cleaner.state.floatbank8_b_air', 'primary_cleaner.state.floatbank8_b_level', 'primary_cleaner.state.floatbank8_c_air', 'primary_cleaner.state.floatbank8_c_level', 'primary_cleaner.state.floatbank8_d_air', 'primary_cleaner.state.floatbank8_d_level', 'rougher.calculation.sulfate_to_au_concentrate', 'rougher.calculation.floatbank10_sulfate_to_au_feed', 'rougher.calculation.floatbank11_sulfate_to_au_feed', 'rougher.calculation.au_pb_ratio', 'rougher.input.feed_ag', 'rougher.input.feed_pb', 'rougher.input.feed_rate', 'rougher.input.feed_size', 'rougher.input.feed_sol', 'rougher.input.feed_au', 'rougher.input.floatbank10_sulfate', 'rougher.input.floatbank10_xanthate', 'rougher.input.floatbank11_sulfate', 'rougher.input.floatbank11_xanthate', 'rougher.output.concentrate_ag', 'rougher.output.concentrate_pb', 'rougher.output.concentrate_sol', 'rougher.output.concentrate_au', 'rougher.output.recovery', 'rougher.output.tail_ag', 'rougher.output.tail_pb', 'rougher.output.tail_sol', 'rougher.output.tail_au', 'rougher.state.floatbank10_a_air', 'rougher.state.floatbank10_a_level', 'rougher.state.floatbank10_b_air', 'rougher.state.floatbank10_b_level', 'rougher.state.floatbank10_c_air', 'rougher.state.floatbank10_c_level', 'rougher.state.floatbank10_d_air', 'rougher.state.floatbank10_d_level', 'rougher.state.floatbank10_e_air', 'rougher.state.floatbank10_e_level', 'rougher.state.floatbank10_f_air', 'rougher.state.floatbank10_f_level', 'secondary_cleaner.output.tail_ag', 'secondary_cleaner.output.tail_pb', 'secondary_cleaner.output.tail_sol', 'secondary_cleaner.output.tail_au', 'secondary_cleaner.state.floatbank2_a_air', 'secondary_cleaner.state.floatbank2_a_level', 'secondary_cleaner.state.floatbank2_b_air', 'secondary_cleaner.state.floatbank2_b_level', 'secondary_cleaner.state.floatbank3_a_air', 'secondary_cleaner.state.floatbank3_a_level', 'secondary_cleaner.state.floatbank3_b_air', 'secondary_cleaner.state.floatbank3_b_level', 'secondary_cleaner.state.floatbank4_a_air', 'secondary_cleaner.state.floatbank4_a_level', 'secondary_cleaner.state.floatbank4_b_air', 'secondary_cleaner.state.floatbank4_b_level', 'secondary_cleaner.state.floatbank5_a_air', 'secondary_cleaner.state.floatbank5_a_level', 'secondary_cleaner.state.floatbank5_b_air', 'secondary_cleaner.state.floatbank5_b_level', 'secondary_cleaner.state.floatbank6_a_air', 'secondary_cleaner.state.floatbank6_a_level']\n"
     ]
    }
   ],
   "source": [
    "columns_train = []\n",
    "for i in train.columns:\n",
    "    columns_train.append(i)\n",
    "print(columns_train)"
   ]
  },
  {
   "cell_type": "code",
   "execution_count": 46,
   "metadata": {
    "scrolled": true
   },
   "outputs": [
    {
     "name": "stdout",
     "output_type": "stream",
     "text": [
      "final.output.concentrate_pb\n",
      "rougher.output.concentrate_sol\n",
      "primary_cleaner.output.concentrate_sol\n",
      "primary_cleaner.output.tail_pb\n",
      "primary_cleaner.output.concentrate_ag\n",
      "final.output.tail_pb\n",
      "rougher.output.tail_au\n",
      "primary_cleaner.output.tail_au\n",
      "rougher.output.recovery\n",
      "rougher.calculation.sulfate_to_au_concentrate\n",
      "rougher.calculation.floatbank11_sulfate_to_au_feed\n",
      "rougher.calculation.au_pb_ratio\n",
      "rougher.output.tail_sol\n",
      "rougher.output.tail_pb\n",
      "final.output.concentrate_au\n",
      "primary_cleaner.output.concentrate_au\n",
      "final.output.tail_sol\n",
      "final.output.recovery\n",
      "primary_cleaner.output.tail_ag\n",
      "secondary_cleaner.output.tail_ag\n",
      "secondary_cleaner.output.tail_pb\n",
      "final.output.concentrate_sol\n",
      "secondary_cleaner.output.tail_sol\n",
      "final.output.concentrate_ag\n",
      "final.output.tail_ag\n",
      "rougher.calculation.floatbank10_sulfate_to_au_feed\n",
      "primary_cleaner.output.concentrate_pb\n",
      "rougher.output.concentrate_pb\n",
      "final.output.tail_au\n",
      "secondary_cleaner.output.tail_au\n",
      "primary_cleaner.output.tail_sol\n",
      "rougher.output.tail_ag\n",
      "rougher.output.concentrate_ag\n",
      "rougher.output.concentrate_au\n",
      "34\n"
     ]
    }
   ],
   "source": [
    "not_test = list(set(columns_train)-set(columns_test))\n",
    "\n",
    "for i in not_test:\n",
    "    print(i)\n",
    "    \n",
    "print(len(not_test))"
   ]
  },
  {
   "cell_type": "markdown",
   "metadata": {},
   "source": [
    "**Вывод**"
   ]
  },
  {
   "cell_type": "markdown",
   "metadata": {},
   "source": [
    "Обучающая выборка отличаается от тестовой выборки на 34 признака."
   ]
  },
  {
   "cell_type": "markdown",
   "metadata": {},
   "source": [
    "### Предобработка"
   ]
  },
  {
   "cell_type": "code",
   "execution_count": 47,
   "metadata": {},
   "outputs": [],
   "source": [
    "au = train[['rougher.output.concentrate_au', 'primary_cleaner.output.concentrate_au','final.output.concentrate_au']]\n",
    "pb = train[['final.output.concentrate_pb', 'primary_cleaner.output.concentrate_pb', 'rougher.output.concentrate_pb']]\n",
    "ag = train[['final.output.concentrate_ag', 'primary_cleaner.output.concentrate_ag', 'rougher.output.concentrate_ag']]\n",
    "train_chart=train"
   ]
  },
  {
   "cell_type": "code",
   "execution_count": 51,
   "metadata": {},
   "outputs": [],
   "source": [
    "train = train.fillna(method='ffill') \n",
    "test = test.fillna(method='ffill')"
   ]
  },
  {
   "cell_type": "code",
   "execution_count": 52,
   "metadata": {},
   "outputs": [
    {
     "name": "stdout",
     "output_type": "stream",
     "text": [
      "В обучающей выборке : 14149 строк 86 признаков\n",
      "В тестовой выборке: 5290 строк 52 признаков\n"
     ]
    }
   ],
   "source": [
    "print('В обучающей выборке : {} строк {} признаков'.format(train.shape[0],train.shape[1]))\n",
    "print('В тестовой выборке: {} строк {} признаков'.format(test.shape[0], test.shape[1]))"
   ]
  },
  {
   "cell_type": "markdown",
   "metadata": {},
   "source": [
    "**Вывод**"
   ]
  },
  {
   "cell_type": "markdown",
   "metadata": {},
   "source": [
    "В данном этапе мы \"уравняли\" наши выборки по признакам"
   ]
  },
  {
   "cell_type": "markdown",
   "metadata": {},
   "source": [
    "## Анализ данных"
   ]
  },
  {
   "cell_type": "markdown",
   "metadata": {},
   "source": [
    "### Распределение концентрации металлов в зависимости от этапа"
   ]
  },
  {
   "cell_type": "code",
   "execution_count": 53,
   "metadata": {},
   "outputs": [
    {
     "data": {
      "image/png": "[encoded data removed]",
      "text/plain": [
       "<Figure size 594x360 with 1 Axes>"
      ]
     },
     "metadata": {
      "needs_background": "light"
     },
     "output_type": "display_data"
    }
   ],
   "source": [
    "ax = sns.displot(data = au, kind = 'kde')\n",
    "ax.set(title = 'Концентрация золота в зависимости от этапа', xlabel = 'Концентрация')\n",
    "plt.show()"
   ]
  },
  {
   "cell_type": "code",
   "execution_count": 54,
   "metadata": {},
   "outputs": [
    {
     "data": {
      "image/png": "[encoded data removed]",
      "text/plain": [
       "<Figure size 594x360 with 1 Axes>"
      ]
     },
     "metadata": {
      "needs_background": "light"
     },
     "output_type": "display_data"
    }
   ],
   "source": [
    "ax = sns.displot(data = pb, kind = 'kde')\n",
    "ax.set(title = 'Концентрация свинца в зависимости от этапа', xlabel = 'Концентрация')\n",
    "plt.show()"
   ]
  },
  {
   "cell_type": "code",
   "execution_count": 55,
   "metadata": {},
   "outputs": [
    {
     "data": {
      "image/png": "[encoded data removed]",
      "text/plain": [
       "<Figure size 594x360 with 1 Axes>"
      ]
     },
     "metadata": {
      "needs_background": "light"
     },
     "output_type": "display_data"
    }
   ],
   "source": [
    "ax = sns.displot(data = ag, kind = 'kde')\n",
    "ax.set(title = 'Концентрация серебра в зависимости от этапа', xlabel = 'Концентрация')\n",
    "plt.show()"
   ]
  },
  {
   "cell_type": "markdown",
   "metadata": {},
   "source": [
    "**Вывод**"
   ]
  },
  {
   "cell_type": "markdown",
   "metadata": {},
   "source": [
    "Как и ожидалось, с каждым этапом очистки концентрация золота повышается"
   ]
  },
  {
   "cell_type": "markdown",
   "metadata": {},
   "source": [
    "### Сравнение гранул сырья в тестовой и тренеровочной выборке"
   ]
  },
  {
   "cell_type": "code",
   "execution_count": 56,
   "metadata": {},
   "outputs": [
    {
     "data": {
      "text/plain": [
       "<matplotlib.legend.Legend at 0x250a5d37548>"
      ]
     },
     "execution_count": 56,
     "metadata": {},
     "output_type": "execute_result"
    },
    {
     "data": {
      "image/png": "[encoded data removed]",
      "text/plain": [
       "<Figure size 576x360 with 1 Axes>"
      ]
     },
     "metadata": {
      "needs_background": "light"
     },
     "output_type": "display_data"
    }
   ],
   "source": [
    "plt.figure(figsize=(8,5))\n",
    "sns.distplot(test['rougher.input.feed_size'], label='Тестовая выборка')\n",
    "sns.distplot(train['rougher.input.feed_size'], label='Обучающая выборка')\n",
    "plt.legend()"
   ]
  },
  {
   "cell_type": "markdown",
   "metadata": {},
   "source": [
    "**Вывод**"
   ]
  },
  {
   "cell_type": "markdown",
   "metadata": {},
   "source": [
    "Визуально видно, что размеры гранул отличаются не существенно. "
   ]
  },
  {
   "cell_type": "markdown",
   "metadata": {},
   "source": [
    "### Суммарное содержание всех веществ"
   ]
  },
  {
   "cell_type": "code",
   "execution_count": 57,
   "metadata": {},
   "outputs": [
    {
     "name": "stdout",
     "output_type": "stream",
     "text": [
      "date\n",
      "2016-01-15 00:00:00    14.871440\n",
      "2016-01-15 01:00:00    14.905729\n",
      "2016-01-15 02:00:00    14.638299\n",
      "2016-01-15 03:00:00    14.199305\n",
      "2016-01-15 04:00:00    13.511497\n",
      "                         ...    \n",
      "2018-08-18 06:59:59    16.045275\n",
      "2018-08-18 07:59:59    15.104931\n",
      "2018-08-18 08:59:59    14.515579\n",
      "2018-08-18 09:59:59    14.313448\n",
      "2018-08-18 10:59:59    14.399936\n",
      "Length: 14149, dtype: float64\n",
      "0\n"
     ]
    },
    {
     "data": {
      "image/png": "[encoded data removed]",
      "text/plain": [
       "<Figure size 360x360 with 1 Axes>"
      ]
     },
     "metadata": {
      "needs_background": "light"
     },
     "output_type": "display_data"
    }
   ],
   "source": [
    "data_temp = train['rougher.input.feed_au']+train['rougher.input.feed_pb']+train['rougher.input.feed_ag']\n",
    "print(data_temp)\n",
    "print(data_temp.loc[data_temp == 0].count())\n",
    "#data_temp = data_temp.query()\n",
    "ax = sns.displot(data = data_temp)\n",
    "ax.set(title = 'В сырье', xlabel = 'Концентрация')\n",
    "plt.show()"
   ]
  },
  {
   "cell_type": "code",
   "execution_count": 58,
   "metadata": {},
   "outputs": [
    {
     "name": "stdout",
     "output_type": "stream",
     "text": [
      "date\n",
      "2016-01-15 00:00:00    38.395653\n",
      "2016-01-15 01:00:00    38.945647\n",
      "2016-01-15 02:00:00    38.649756\n",
      "2016-01-15 03:00:00    38.411473\n",
      "2016-01-15 04:00:00    38.867359\n",
      "                         ...    \n",
      "2018-08-18 06:59:59    40.712449\n",
      "2018-08-18 07:59:59    40.755632\n",
      "2018-08-18 08:59:59    32.589863\n",
      "2018-08-18 09:59:59    40.148948\n",
      "2018-08-18 10:59:59    40.465768\n",
      "Length: 14149, dtype: float64\n",
      "297\n",
      "0\n"
     ]
    },
    {
     "data": {
      "image/png": "[encoded data removed]",
      "text/plain": [
       "<Figure size 360x360 with 1 Axes>"
      ]
     },
     "metadata": {
      "needs_background": "light"
     },
     "output_type": "display_data"
    }
   ],
   "source": [
    "data_temp = train_chart['rougher.output.concentrate_au']+train_chart['rougher.output.concentrate_pb']+train_chart['rougher.output.concentrate_ag']\n",
    "print(data_temp)\n",
    "print(data_temp.loc[data_temp == 0].count())\n",
    "data_temp = data_temp.loc[data_temp != 0]\n",
    "print(data_temp.loc[data_temp == 0].count())\n",
    "\n",
    "ax = sns.displot(data = data_temp)\n",
    "ax.set(title = 'В черновом', xlabel = 'Концентрация')\n",
    "plt.show()"
   ]
  },
  {
   "cell_type": "code",
   "execution_count": 59,
   "metadata": {},
   "outputs": [
    {
     "name": "stdout",
     "output_type": "stream",
     "text": [
      "date\n",
      "2016-01-15 00:00:00    58.137072\n",
      "2016-01-15 01:00:00    58.699942\n",
      "2016-01-15 02:00:00    58.927421\n",
      "2016-01-15 03:00:00    58.714815\n",
      "2016-01-15 04:00:00    59.065251\n",
      "                         ...    \n",
      "2018-08-18 06:59:59    61.295107\n",
      "2018-08-18 07:59:59    61.412113\n",
      "2018-08-18 08:59:59    61.340054\n",
      "2018-08-18 09:59:59    61.401016\n",
      "2018-08-18 10:59:59    61.635645\n",
      "Length: 14149, dtype: float64\n",
      "58\n",
      "0\n"
     ]
    },
    {
     "data": {
      "image/png": "[encoded data removed]",
      "text/plain": [
       "<Figure size 360x360 with 1 Axes>"
      ]
     },
     "metadata": {
      "needs_background": "light"
     },
     "output_type": "display_data"
    }
   ],
   "source": [
    "data_temp = train_chart['final.output.concentrate_au']+train_chart['final.output.concentrate_pb']+train_chart['final.output.concentrate_ag']\n",
    "print(data_temp)\n",
    "print(data_temp.loc[data_temp == 0].count())\n",
    "data_temp = data_temp.loc[data_temp != 0]\n",
    "print(data_temp.loc[data_temp == 0].count())\n",
    "\n",
    "ax = sns.displot(data = data_temp)\n",
    "ax.set(title = 'В финальном', xlabel = 'Концентрация')\n",
    "plt.show()"
   ]
  },
  {
   "cell_type": "markdown",
   "metadata": {},
   "source": [
    "**Вывод**"
   ]
  },
  {
   "cell_type": "markdown",
   "metadata": {},
   "source": [
    "Мы показали, что общая концентрация с каждым этапом увеличивается"
   ]
  },
  {
   "cell_type": "markdown",
   "metadata": {},
   "source": [
    "## Модель"
   ]
  },
  {
   "cell_type": "code",
   "execution_count": 60,
   "metadata": {},
   "outputs": [],
   "source": [
    "def smape(y_target, y_pred):\n",
    "    smape_1 = ((1/len(y_target)) * np.sum(2 * np.abs(y_target - y_pred) / (np.abs(y_target) + np.abs(y_pred)))) * 100\n",
    "    return smape_1"
   ]
  },
  {
   "cell_type": "code",
   "execution_count": 61,
   "metadata": {},
   "outputs": [
    {
     "data": {
      "text/plain": [
       "(sklearn.ensemble.forest.RandomForestRegressor,\n",
       " sklearn.linear_model.base.LinearRegression)"
      ]
     },
     "execution_count": 61,
     "metadata": {},
     "output_type": "execute_result"
    }
   ],
   "source": [
    "RandomForestRegressor, LinearRegression"
   ]
  },
  {
   "cell_type": "code",
   "execution_count": 62,
   "metadata": {},
   "outputs": [],
   "source": [
    "features = test.columns.values\n",
    "targets = ['rougher.output.recovery', 'final.output.recovery']\n",
    "\n",
    "features_train = train[features].reset_index(drop=True)\n",
    "target_train = train[targets].reset_index(drop=True)\n",
    "features_test = test[features].reset_index(drop=True)\n",
    "target_test = full[targets].loc[test.index].reset_index(drop=True)"
   ]
  },
  {
   "cell_type": "code",
   "execution_count": 63,
   "metadata": {},
   "outputs": [],
   "source": [
    "#поделим наши данные на обучающую и тестовые выборки\n",
    "feature_train_rougher = features_train\n",
    "feature_test_rougher = features_test\n",
    "target_train_rougher = target_train[\"rougher.output.recovery\"]\n",
    "target_test_rougher = target_test[\"rougher.output.recovery\"]\n",
    "\n",
    "\n",
    "feature_train_final = features_train\n",
    "feature_test_final = features_test\n",
    "target_train_final = target_train[\"final.output.recovery\"]\n",
    "target_test_final = target_test[\"final.output.recovery\"]"
   ]
  },
  {
   "cell_type": "code",
   "execution_count": 64,
   "metadata": {},
   "outputs": [
    {
     "data": {
      "text/plain": [
       "(0       70.273583\n",
       " 1       68.910432\n",
       " 2       68.143213\n",
       " 3       67.776393\n",
       " 4       61.467078\n",
       "           ...    \n",
       " 5285    68.919891\n",
       " 5286    68.440582\n",
       " 5287    67.092759\n",
       " 5288    68.061186\n",
       " 5289    71.699976\n",
       " Name: final.output.recovery, Length: 5290, dtype: float64,\n",
       " 0       89.993421\n",
       " 1       88.089657\n",
       " 2       88.412756\n",
       " 3       87.360133\n",
       " 4       83.236367\n",
       "           ...    \n",
       " 5285    95.172585\n",
       " 5286    94.575036\n",
       " 5287    93.018138\n",
       " 5288    92.599042\n",
       " 5289    91.177695\n",
       " Name: rougher.output.recovery, Length: 5290, dtype: float64)"
      ]
     },
     "execution_count": 64,
     "metadata": {},
     "output_type": "execute_result"
    }
   ],
   "source": [
    "target_test_final, target_test_rougher"
   ]
  },
  {
   "cell_type": "code",
   "execution_count": 65,
   "metadata": {},
   "outputs": [
    {
     "data": {
      "text/html": [
       "<div>\n",
       "<style scoped>\n",
       "    .dataframe tbody tr th:only-of-type {\n",
       "        vertical-align: middle;\n",
       "    }\n",
       "\n",
       "    .dataframe tbody tr th {\n",
       "        vertical-align: top;\n",
       "    }\n",
       "\n",
       "    .dataframe thead th {\n",
       "        text-align: right;\n",
       "    }\n",
       "</style>\n",
       "<table border=\"1\" class=\"dataframe\">\n",
       "  <thead>\n",
       "    <tr style=\"text-align: right;\">\n",
       "      <th></th>\n",
       "      <th>primary_cleaner.input.sulfate</th>\n",
       "      <th>primary_cleaner.input.depressant</th>\n",
       "      <th>primary_cleaner.input.feed_size</th>\n",
       "      <th>primary_cleaner.input.xanthate</th>\n",
       "      <th>primary_cleaner.state.floatbank8_a_air</th>\n",
       "      <th>primary_cleaner.state.floatbank8_a_level</th>\n",
       "      <th>primary_cleaner.state.floatbank8_b_air</th>\n",
       "      <th>primary_cleaner.state.floatbank8_b_level</th>\n",
       "      <th>primary_cleaner.state.floatbank8_c_air</th>\n",
       "      <th>primary_cleaner.state.floatbank8_c_level</th>\n",
       "      <th>...</th>\n",
       "      <th>secondary_cleaner.state.floatbank4_a_air</th>\n",
       "      <th>secondary_cleaner.state.floatbank4_a_level</th>\n",
       "      <th>secondary_cleaner.state.floatbank4_b_air</th>\n",
       "      <th>secondary_cleaner.state.floatbank4_b_level</th>\n",
       "      <th>secondary_cleaner.state.floatbank5_a_air</th>\n",
       "      <th>secondary_cleaner.state.floatbank5_a_level</th>\n",
       "      <th>secondary_cleaner.state.floatbank5_b_air</th>\n",
       "      <th>secondary_cleaner.state.floatbank5_b_level</th>\n",
       "      <th>secondary_cleaner.state.floatbank6_a_air</th>\n",
       "      <th>secondary_cleaner.state.floatbank6_a_level</th>\n",
       "    </tr>\n",
       "  </thead>\n",
       "  <tbody>\n",
       "    <tr>\n",
       "      <td>0</td>\n",
       "      <td>210.800909</td>\n",
       "      <td>14.993118</td>\n",
       "      <td>8.08</td>\n",
       "      <td>1.005021</td>\n",
       "      <td>1398.981301</td>\n",
       "      <td>-500.225577</td>\n",
       "      <td>1399.144926</td>\n",
       "      <td>-499.919735</td>\n",
       "      <td>1400.102998</td>\n",
       "      <td>-500.704369</td>\n",
       "      <td>...</td>\n",
       "      <td>12.023554</td>\n",
       "      <td>-497.795834</td>\n",
       "      <td>8.016656</td>\n",
       "      <td>-501.289139</td>\n",
       "      <td>7.946562</td>\n",
       "      <td>-432.317850</td>\n",
       "      <td>4.872511</td>\n",
       "      <td>-500.037437</td>\n",
       "      <td>26.705889</td>\n",
       "      <td>-499.709414</td>\n",
       "    </tr>\n",
       "    <tr>\n",
       "      <td>1</td>\n",
       "      <td>215.392455</td>\n",
       "      <td>14.987471</td>\n",
       "      <td>8.08</td>\n",
       "      <td>0.990469</td>\n",
       "      <td>1398.777912</td>\n",
       "      <td>-500.057435</td>\n",
       "      <td>1398.055362</td>\n",
       "      <td>-499.778182</td>\n",
       "      <td>1396.151033</td>\n",
       "      <td>-499.240168</td>\n",
       "      <td>...</td>\n",
       "      <td>12.058140</td>\n",
       "      <td>-498.695773</td>\n",
       "      <td>8.130979</td>\n",
       "      <td>-499.634209</td>\n",
       "      <td>7.958270</td>\n",
       "      <td>-525.839648</td>\n",
       "      <td>4.878850</td>\n",
       "      <td>-500.162375</td>\n",
       "      <td>25.019940</td>\n",
       "      <td>-499.819438</td>\n",
       "    </tr>\n",
       "  </tbody>\n",
       "</table>\n",
       "<p>2 rows × 52 columns</p>\n",
       "</div>"
      ],
      "text/plain": [
       "   primary_cleaner.input.sulfate  primary_cleaner.input.depressant  \\\n",
       "0                     210.800909                         14.993118   \n",
       "1                     215.392455                         14.987471   \n",
       "\n",
       "   primary_cleaner.input.feed_size  primary_cleaner.input.xanthate  \\\n",
       "0                             8.08                        1.005021   \n",
       "1                             8.08                        0.990469   \n",
       "\n",
       "   primary_cleaner.state.floatbank8_a_air  \\\n",
       "0                             1398.981301   \n",
       "1                             1398.777912   \n",
       "\n",
       "   primary_cleaner.state.floatbank8_a_level  \\\n",
       "0                               -500.225577   \n",
       "1                               -500.057435   \n",
       "\n",
       "   primary_cleaner.state.floatbank8_b_air  \\\n",
       "0                             1399.144926   \n",
       "1                             1398.055362   \n",
       "\n",
       "   primary_cleaner.state.floatbank8_b_level  \\\n",
       "0                               -499.919735   \n",
       "1                               -499.778182   \n",
       "\n",
       "   primary_cleaner.state.floatbank8_c_air  \\\n",
       "0                             1400.102998   \n",
       "1                             1396.151033   \n",
       "\n",
       "   primary_cleaner.state.floatbank8_c_level  ...  \\\n",
       "0                               -500.704369  ...   \n",
       "1                               -499.240168  ...   \n",
       "\n",
       "   secondary_cleaner.state.floatbank4_a_air  \\\n",
       "0                                 12.023554   \n",
       "1                                 12.058140   \n",
       "\n",
       "   secondary_cleaner.state.floatbank4_a_level  \\\n",
       "0                                 -497.795834   \n",
       "1                                 -498.695773   \n",
       "\n",
       "   secondary_cleaner.state.floatbank4_b_air  \\\n",
       "0                                  8.016656   \n",
       "1                                  8.130979   \n",
       "\n",
       "   secondary_cleaner.state.floatbank4_b_level  \\\n",
       "0                                 -501.289139   \n",
       "1                                 -499.634209   \n",
       "\n",
       "   secondary_cleaner.state.floatbank5_a_air  \\\n",
       "0                                  7.946562   \n",
       "1                                  7.958270   \n",
       "\n",
       "   secondary_cleaner.state.floatbank5_a_level  \\\n",
       "0                                 -432.317850   \n",
       "1                                 -525.839648   \n",
       "\n",
       "   secondary_cleaner.state.floatbank5_b_air  \\\n",
       "0                                  4.872511   \n",
       "1                                  4.878850   \n",
       "\n",
       "   secondary_cleaner.state.floatbank5_b_level  \\\n",
       "0                                 -500.037437   \n",
       "1                                 -500.162375   \n",
       "\n",
       "   secondary_cleaner.state.floatbank6_a_air  \\\n",
       "0                                 26.705889   \n",
       "1                                 25.019940   \n",
       "\n",
       "   secondary_cleaner.state.floatbank6_a_level  \n",
       "0                                 -499.709414  \n",
       "1                                 -499.819438  \n",
       "\n",
       "[2 rows x 52 columns]"
      ]
     },
     "execution_count": 65,
     "metadata": {},
     "output_type": "execute_result"
    }
   ],
   "source": [
    "feature_test_final.head(2)"
   ]
  },
  {
   "cell_type": "code",
   "execution_count": 66,
   "metadata": {},
   "outputs": [
    {
     "name": "stdout",
     "output_type": "stream",
     "text": [
      "Размер обучающей выборки_rougher (14149, 52)\n",
      "Размер тестовой выборки_rougher (5290, 52)\n",
      "Размер обучающей выборки_rougher (14149,)\n",
      "Размер тестовой выборки_rougher (5290,)\n"
     ]
    }
   ],
   "source": [
    "print(\"Размер обучающей выборки_rougher\", feature_train_rougher.shape)\n",
    "print(\"Размер тестовой выборки_rougher\", feature_test_rougher.shape)\n",
    "print(\"Размер обучающей выборки_rougher\", target_train_rougher.shape)\n",
    "print(\"Размер тестовой выборки_rougher\", target_test_rougher.shape)"
   ]
  },
  {
   "cell_type": "code",
   "execution_count": 67,
   "metadata": {},
   "outputs": [
    {
     "name": "stdout",
     "output_type": "stream",
     "text": [
      "Размер обучающей выборки_final (14149, 52)\n",
      "Размер тестовой выборки_final (5290, 52)\n",
      "Размер обучающей выборки_final (14149,)\n",
      "Размер тестовой выборки_final (5290,)\n"
     ]
    }
   ],
   "source": [
    "print(\"Размер обучающей выборки_final\", feature_train_final.shape)\n",
    "print(\"Размер тестовой выборки_final\", feature_test_final.shape)\n",
    "print(\"Размер обучающей выборки_final\", target_train_final.shape)\n",
    "print(\"Размер тестовой выборки_final\", target_test_final.shape)"
   ]
  },
  {
   "cell_type": "code",
   "execution_count": 68,
   "metadata": {},
   "outputs": [],
   "source": [
    "#найдем наилучшие значения для случайного леса\n",
    "model_forest = RandomForestRegressor(random_state=12345)"
   ]
  },
  {
   "cell_type": "code",
   "execution_count": 69,
   "metadata": {},
   "outputs": [],
   "source": [
    "tree_params = {'max_depth': range(1, 10), \n",
    "               'max_features': range(1, 10)}\n",
    "\n",
    "tree_grid_roughe = GridSearchCV(model_forest, tree_params, cv=5)"
   ]
  },
  {
   "cell_type": "code",
   "execution_count": 70,
   "metadata": {},
   "outputs": [
    {
     "data": {
      "text/plain": [
       "{'max_depth': 4, 'max_features': 9}"
      ]
     },
     "execution_count": 70,
     "metadata": {},
     "output_type": "execute_result"
    }
   ],
   "source": [
    "tree_grid_roughe.fit(feature_train_rougher, target_train_rougher)\n",
    "tree_grid_roughe.best_params_"
   ]
  },
  {
   "cell_type": "code",
   "execution_count": 91,
   "metadata": {},
   "outputs": [],
   "source": [
    "#создадим и обучим модель\n",
    "model_forest_rougher = RandomForestRegressor(n_estimators=10, max_depth=3, max_features=9, random_state=12345)"
   ]
  },
  {
   "cell_type": "code",
   "execution_count": 92,
   "metadata": {},
   "outputs": [
    {
     "data": {
      "text/plain": [
       "RandomForestRegressor(bootstrap=True, criterion='mse', max_depth=3,\n",
       "                      max_features=9, max_leaf_nodes=None,\n",
       "                      min_impurity_decrease=0.0, min_impurity_split=None,\n",
       "                      min_samples_leaf=1, min_samples_split=2,\n",
       "                      min_weight_fraction_leaf=0.0, n_estimators=10,\n",
       "                      n_jobs=None, oob_score=False, random_state=12345,\n",
       "                      verbose=0, warm_start=False)"
      ]
     },
     "execution_count": 92,
     "metadata": {},
     "output_type": "execute_result"
    }
   ],
   "source": [
    "model_forest_rougher.fit(feature_train_rougher, target_train_rougher)"
   ]
  },
  {
   "cell_type": "code",
   "execution_count": 93,
   "metadata": {},
   "outputs": [],
   "source": [
    "model_forest_pred_rougher = model_forest_rougher.predict(feature_test_rougher)"
   ]
  },
  {
   "cell_type": "code",
   "execution_count": 94,
   "metadata": {},
   "outputs": [
    {
     "data": {
      "text/plain": [
       "10.99794376133949"
      ]
     },
     "execution_count": 94,
     "metadata": {},
     "output_type": "execute_result"
    }
   ],
   "source": [
    "#посчитаем sMAPE\n",
    "smape_rougher_forest = smape(target_test_rougher, model_forest_pred_rougher)\n",
    "smape_rougher_forest"
   ]
  },
  {
   "cell_type": "code",
   "execution_count": 75,
   "metadata": {},
   "outputs": [],
   "source": [
    "#создадим и обучим модель\n",
    "model_linear_rougher = LinearRegression()"
   ]
  },
  {
   "cell_type": "code",
   "execution_count": 76,
   "metadata": {},
   "outputs": [
    {
     "data": {
      "text/plain": [
       "LinearRegression(copy_X=True, fit_intercept=True, n_jobs=None, normalize=False)"
      ]
     },
     "execution_count": 76,
     "metadata": {},
     "output_type": "execute_result"
    }
   ],
   "source": [
    "model_linear_rougher.fit(feature_train_rougher, target_train_rougher)"
   ]
  },
  {
   "cell_type": "code",
   "execution_count": 77,
   "metadata": {},
   "outputs": [],
   "source": [
    "model_linear_pred_rougher = model_linear_rougher.predict(feature_test_rougher)"
   ]
  },
  {
   "cell_type": "code",
   "execution_count": 78,
   "metadata": {},
   "outputs": [
    {
     "data": {
      "text/plain": [
       "9.776504285759593"
      ]
     },
     "execution_count": 78,
     "metadata": {},
     "output_type": "execute_result"
    }
   ],
   "source": [
    "#посчитаем sMAPE\n",
    "smape_rougher_linear = smape(target_test_rougher, model_linear_pred_rougher)\n",
    "smape_rougher_linear"
   ]
  },
  {
   "cell_type": "markdown",
   "metadata": {},
   "source": [
    "**Модель случайного леса показала результат лучше**"
   ]
  },
  {
   "cell_type": "code",
   "execution_count": 79,
   "metadata": {},
   "outputs": [],
   "source": [
    "tree_grid_final = GridSearchCV(model_forest, tree_params, cv=5)"
   ]
  },
  {
   "cell_type": "code",
   "execution_count": 80,
   "metadata": {},
   "outputs": [
    {
     "data": {
      "text/plain": [
       "{'max_depth': 4, 'max_features': 9}"
      ]
     },
     "execution_count": 80,
     "metadata": {},
     "output_type": "execute_result"
    }
   ],
   "source": [
    "tree_grid_final.fit(feature_train_final, target_train_final)\n",
    "tree_grid_final.best_params_"
   ]
  },
  {
   "cell_type": "code",
   "execution_count": 81,
   "metadata": {},
   "outputs": [],
   "source": [
    "model_forest_final = RandomForestRegressor(n_estimators=10, max_depth=3, max_features=9, random_state=12345)"
   ]
  },
  {
   "cell_type": "code",
   "execution_count": 82,
   "metadata": {},
   "outputs": [
    {
     "data": {
      "text/plain": [
       "RandomForestRegressor(bootstrap=True, criterion='mse', max_depth=3,\n",
       "                      max_features=4, max_leaf_nodes=None,\n",
       "                      min_impurity_decrease=0.0, min_impurity_split=None,\n",
       "                      min_samples_leaf=1, min_samples_split=2,\n",
       "                      min_weight_fraction_leaf=0.0, n_estimators=10,\n",
       "                      n_jobs=None, oob_score=False, random_state=12345,\n",
       "                      verbose=0, warm_start=False)"
      ]
     },
     "execution_count": 82,
     "metadata": {},
     "output_type": "execute_result"
    }
   ],
   "source": [
    "model_forest_final.fit(feature_train_final, target_train_final)"
   ]
  },
  {
   "cell_type": "code",
   "execution_count": 83,
   "metadata": {},
   "outputs": [],
   "source": [
    "model_forest_pred_final = model_forest_final.predict(feature_test_final)"
   ]
  },
  {
   "cell_type": "code",
   "execution_count": 84,
   "metadata": {},
   "outputs": [
    {
     "data": {
      "text/plain": [
       "9.07440038148605"
      ]
     },
     "execution_count": 84,
     "metadata": {},
     "output_type": "execute_result"
    }
   ],
   "source": [
    "smape_rougher_final = smape(target_test_final, model_forest_pred_final)\n",
    "smape_rougher_final"
   ]
  },
  {
   "cell_type": "markdown",
   "metadata": {},
   "source": [
    "**Так же модель случайного леса лучше чем линейная регрессия**"
   ]
  },
  {
   "cell_type": "code",
   "execution_count": 85,
   "metadata": {},
   "outputs": [
    {
     "data": {
      "text/plain": [
       "LinearRegression(copy_X=True, fit_intercept=True, n_jobs=None, normalize=False)"
      ]
     },
     "execution_count": 85,
     "metadata": {},
     "output_type": "execute_result"
    }
   ],
   "source": [
    "model_linear_final = LinearRegression()\n",
    "model_linear_final.fit(feature_train_final, target_train_final)"
   ]
  },
  {
   "cell_type": "code",
   "execution_count": 86,
   "metadata": {},
   "outputs": [],
   "source": [
    "model_linear_pred_final = model_linear_final.predict(feature_test_final)"
   ]
  },
  {
   "cell_type": "code",
   "execution_count": 87,
   "metadata": {},
   "outputs": [
    {
     "data": {
      "text/plain": [
       "10.038199311881723"
      ]
     },
     "execution_count": 87,
     "metadata": {},
     "output_type": "execute_result"
    }
   ],
   "source": [
    "smape_final_linear = smape(target_test_final, model_linear_pred_final)\n",
    "smape_final_linear"
   ]
  },
  {
   "cell_type": "code",
   "execution_count": 88,
   "metadata": {},
   "outputs": [
    {
     "data": {
      "text/plain": [
       "9.331081684175803"
      ]
     },
     "execution_count": 88,
     "metadata": {},
     "output_type": "execute_result"
    }
   ],
   "source": [
    "#по формуле считаем финальную sMAPE\n",
    "final_smape = 0.25*smape_rougher_forest + 0.75*smape_rougher_final\n",
    "final_smape"
   ]
  },
  {
   "cell_type": "code",
   "execution_count": 89,
   "metadata": {},
   "outputs": [
    {
     "name": "stdout",
     "output_type": "stream",
     "text": [
      "8.911792577998082\n"
     ]
    }
   ],
   "source": [
    "rougher_median = pd.Series(target_train_rougher.median(), index=target_test_rougher.index)\n",
    "final_median = pd.Series(target_train_final.median(), index=target_test_final.index)\n",
    "\n",
    "total = (smape(target_test_final, final_median)*0.25) + (smape(target_test_rougher, rougher_median)* 0.75)\n",
    "print(total)"
   ]
  },
  {
   "cell_type": "code",
   "execution_count": 90,
   "metadata": {},
   "outputs": [
    {
     "name": "stdout",
     "output_type": "stream",
     "text": [
      "9.479919198122861\n"
     ]
    }
   ],
   "source": [
    "rougher_median = pd.Series(target_train_rougher.median(), index=target_test_rougher.index)\n",
    "final_median = pd.Series(target_train_final.median(), index=target_test_final.index)\n",
    "\n",
    "total = (smape(target_test_rougher, rougher_median)*0.25) + (smape(target_test_final, final_median)* 0.75)\n",
    "print(total)"
   ]
  },
  {
   "cell_type": "markdown",
   "metadata": {},
   "source": [
    "## Вывод"
   ]
  },
  {
   "cell_type": "markdown",
   "metadata": {},
   "source": [
    "\n",
    "- Данные были загружены и изучены\n",
    "- Данные были изучены\n",
    "- Были изучены концентрации веществ на разных этапах\n",
    "- Была изучена общая концентраия веществ на разных стадиях\n",
    "- Были написаны функции для расчёта sMAPE и итоговой sMAPE\n",
    "- Были сравнены разные модели (RandomForestRegressor, LinearRegression)"
   ]
  }
 ],
 "metadata": {
  "ExecuteTimeLog": [
   {
    "duration": 430,
    "start_time": "2022-05-24T09:45:34.660Z"
   },
   {
    "duration": 106,
    "start_time": "2022-05-24T09:47:15.930Z"
   },
   {
    "duration": 20,
    "start_time": "2022-05-24T09:47:49.525Z"
   },
   {
    "duration": 37,
    "start_time": "2022-05-24T09:48:07.274Z"
   },
   {
    "duration": 3770,
    "start_time": "2022-05-24T09:50:05.652Z"
   },
   {
    "duration": 7,
    "start_time": "2022-05-24T09:50:24.644Z"
   },
   {
    "duration": 30,
    "start_time": "2022-05-24T09:50:32.225Z"
   },
   {
    "duration": 34,
    "start_time": "2022-05-24T09:50:51.333Z"
   },
   {
    "duration": 38,
    "start_time": "2022-05-24T09:51:09.775Z"
   },
   {
    "duration": 24,
    "start_time": "2022-05-24T09:51:15.850Z"
   },
   {
    "duration": 18,
    "start_time": "2022-05-24T09:51:23.423Z"
   },
   {
    "duration": 24,
    "start_time": "2022-05-24T09:54:18.389Z"
   },
   {
    "duration": 23,
    "start_time": "2022-05-24T09:54:19.121Z"
   },
   {
    "duration": 21,
    "start_time": "2022-05-24T09:55:07.023Z"
   },
   {
    "duration": 22,
    "start_time": "2022-05-24T09:55:07.667Z"
   },
   {
    "duration": 687,
    "start_time": "2022-05-29T10:50:26.740Z"
   },
   {
    "duration": 3021,
    "start_time": "2022-05-29T10:50:27.429Z"
   },
   {
    "duration": 30,
    "start_time": "2022-05-29T10:50:30.452Z"
   },
   {
    "duration": 23,
    "start_time": "2022-05-29T10:50:30.486Z"
   },
   {
    "duration": 31,
    "start_time": "2022-05-29T10:50:30.511Z"
   },
   {
    "duration": 66,
    "start_time": "2022-05-29T10:50:30.544Z"
   },
   {
    "duration": 48,
    "start_time": "2022-05-29T10:50:30.612Z"
   },
   {
    "duration": 40,
    "start_time": "2022-05-29T10:50:30.662Z"
   },
   {
    "duration": 68,
    "start_time": "2022-05-29T10:50:30.705Z"
   },
   {
    "duration": 14,
    "start_time": "2022-05-29T10:51:01.741Z"
   },
   {
    "duration": 2,
    "start_time": "2022-05-29T10:54:46.861Z"
   },
   {
    "duration": 677,
    "start_time": "2022-05-29T10:54:46.865Z"
   },
   {
    "duration": 18,
    "start_time": "2022-05-29T10:54:47.544Z"
   },
   {
    "duration": 18,
    "start_time": "2022-05-29T10:54:47.564Z"
   },
   {
    "duration": 20,
    "start_time": "2022-05-29T10:54:47.595Z"
   },
   {
    "duration": 14,
    "start_time": "2022-05-29T10:54:47.617Z"
   },
   {
    "duration": 20,
    "start_time": "2022-05-29T10:54:47.632Z"
   },
   {
    "duration": 43,
    "start_time": "2022-05-29T10:54:47.653Z"
   },
   {
    "duration": 33,
    "start_time": "2022-05-29T10:54:47.698Z"
   },
   {
    "duration": 12,
    "start_time": "2022-05-29T10:54:47.733Z"
   },
   {
    "duration": 71,
    "start_time": "2022-05-29T11:24:29.221Z"
   },
   {
    "duration": 182,
    "start_time": "2022-05-29T11:24:46.591Z"
   },
   {
    "duration": 5,
    "start_time": "2022-05-29T11:27:21.341Z"
   },
   {
    "duration": 2,
    "start_time": "2022-05-29T11:29:42.209Z"
   },
   {
    "duration": 659,
    "start_time": "2022-05-29T11:29:42.213Z"
   },
   {
    "duration": 28,
    "start_time": "2022-05-29T11:29:42.874Z"
   },
   {
    "duration": 20,
    "start_time": "2022-05-29T11:29:42.903Z"
   },
   {
    "duration": 20,
    "start_time": "2022-05-29T11:29:42.926Z"
   },
   {
    "duration": 12,
    "start_time": "2022-05-29T11:29:42.948Z"
   },
   {
    "duration": 44,
    "start_time": "2022-05-29T11:29:42.961Z"
   },
   {
    "duration": 23,
    "start_time": "2022-05-29T11:29:43.006Z"
   },
   {
    "duration": 9,
    "start_time": "2022-05-29T11:29:43.031Z"
   },
   {
    "duration": 6,
    "start_time": "2022-05-29T11:29:43.042Z"
   },
   {
    "duration": 6,
    "start_time": "2022-05-29T11:35:04.183Z"
   },
   {
    "duration": 6,
    "start_time": "2022-05-29T11:36:36.414Z"
   },
   {
    "duration": 5,
    "start_time": "2022-05-29T11:36:49.231Z"
   },
   {
    "duration": 3,
    "start_time": "2022-05-29T11:42:13.535Z"
   },
   {
    "duration": 3,
    "start_time": "2022-05-29T11:42:34.711Z"
   },
   {
    "duration": 3,
    "start_time": "2022-05-29T11:44:45.401Z"
   },
   {
    "duration": 3,
    "start_time": "2022-05-29T11:46:55.367Z"
   },
   {
    "duration": 4,
    "start_time": "2022-05-29T11:47:05.034Z"
   },
   {
    "duration": 3,
    "start_time": "2022-05-29T11:47:09.695Z"
   },
   {
    "duration": 3,
    "start_time": "2022-05-29T11:47:41.406Z"
   },
   {
    "duration": 4,
    "start_time": "2022-05-29T11:47:41.897Z"
   },
   {
    "duration": 4,
    "start_time": "2022-05-29T11:47:42.364Z"
   },
   {
    "duration": 3,
    "start_time": "2022-05-29T11:48:11.294Z"
   },
   {
    "duration": 3,
    "start_time": "2022-05-29T11:48:40.966Z"
   },
   {
    "duration": 38,
    "start_time": "2022-05-29T11:49:15.866Z"
   },
   {
    "duration": 9,
    "start_time": "2022-05-29T11:49:25.460Z"
   },
   {
    "duration": 7,
    "start_time": "2022-05-29T11:50:24.418Z"
   },
   {
    "duration": 2,
    "start_time": "2022-05-29T11:50:34.124Z"
   },
   {
    "duration": 3,
    "start_time": "2022-05-29T11:53:05.970Z"
   },
   {
    "duration": 3,
    "start_time": "2022-05-29T11:53:13.571Z"
   },
   {
    "duration": 5,
    "start_time": "2022-05-29T11:53:45.586Z"
   },
   {
    "duration": 437,
    "start_time": "2022-05-29T12:20:19.790Z"
   },
   {
    "duration": 11,
    "start_time": "2022-05-29T12:20:35.149Z"
   },
   {
    "duration": 4,
    "start_time": "2022-05-29T12:21:05.169Z"
   },
   {
    "duration": 10,
    "start_time": "2022-05-29T12:21:09.543Z"
   },
   {
    "duration": 7,
    "start_time": "2022-05-29T12:26:26.602Z"
   },
   {
    "duration": 1188,
    "start_time": "2022-05-29T12:26:50.690Z"
   },
   {
    "duration": 839,
    "start_time": "2022-05-29T12:26:54.697Z"
   },
   {
    "duration": 5,
    "start_time": "2022-05-29T12:28:28.493Z"
   },
   {
    "duration": 1834,
    "start_time": "2022-05-29T12:28:36.589Z"
   },
   {
    "duration": 2889,
    "start_time": "2022-05-29T12:29:07.883Z"
   },
   {
    "duration": 1089,
    "start_time": "2022-05-29T12:29:20.951Z"
   },
   {
    "duration": 6,
    "start_time": "2022-05-29T12:29:56.346Z"
   },
   {
    "duration": 4,
    "start_time": "2022-05-29T12:30:05.776Z"
   },
   {
    "duration": 1358,
    "start_time": "2022-05-29T12:30:10.622Z"
   },
   {
    "duration": 1565,
    "start_time": "2022-05-29T12:30:57.076Z"
   },
   {
    "duration": 1505,
    "start_time": "2022-05-29T12:31:14.720Z"
   },
   {
    "duration": 5,
    "start_time": "2022-05-29T12:32:00.109Z"
   },
   {
    "duration": 22,
    "start_time": "2022-05-29T12:32:00.381Z"
   },
   {
    "duration": 2490,
    "start_time": "2022-05-29T12:32:01.238Z"
   },
   {
    "duration": 2252,
    "start_time": "2022-05-29T12:32:32.839Z"
   },
   {
    "duration": 9,
    "start_time": "2022-05-29T12:36:11.560Z"
   },
   {
    "duration": 7,
    "start_time": "2022-05-29T12:36:21.572Z"
   },
   {
    "duration": 6,
    "start_time": "2022-05-29T12:36:39.737Z"
   },
   {
    "duration": 7,
    "start_time": "2022-05-29T12:36:42.733Z"
   },
   {
    "duration": 4,
    "start_time": "2022-05-29T12:37:09.544Z"
   },
   {
    "duration": 2646,
    "start_time": "2022-05-29T12:37:42.142Z"
   },
   {
    "duration": 108,
    "start_time": "2022-05-29T12:37:59.098Z"
   },
   {
    "duration": 106,
    "start_time": "2022-05-29T12:38:14.462Z"
   },
   {
    "duration": 6,
    "start_time": "2022-05-29T12:38:40.064Z"
   },
   {
    "duration": 43,
    "start_time": "2022-05-29T12:38:55.767Z"
   },
   {
    "duration": 5,
    "start_time": "2022-05-29T12:39:28.062Z"
   },
   {
    "duration": 10,
    "start_time": "2022-05-29T12:39:28.580Z"
   },
   {
    "duration": 5,
    "start_time": "2022-05-29T12:39:31.605Z"
   },
   {
    "duration": 21,
    "start_time": "2022-05-29T12:39:32.144Z"
   },
   {
    "duration": 104,
    "start_time": "2022-05-29T12:39:32.613Z"
   },
   {
    "duration": 102,
    "start_time": "2022-05-29T12:40:04.496Z"
   },
   {
    "duration": 121,
    "start_time": "2022-05-29T12:40:22.482Z"
   },
   {
    "duration": 100,
    "start_time": "2022-05-29T12:41:06.602Z"
   },
   {
    "duration": 109,
    "start_time": "2022-05-29T12:42:16.297Z"
   },
   {
    "duration": 5,
    "start_time": "2022-05-29T12:43:18.305Z"
   },
   {
    "duration": 3819,
    "start_time": "2022-05-29T12:43:27.585Z"
   },
   {
    "duration": 9,
    "start_time": "2022-05-29T12:50:14.859Z"
   },
   {
    "duration": 3591,
    "start_time": "2022-05-29T12:50:15.236Z"
   },
   {
    "duration": 1208,
    "start_time": "2022-05-29T12:50:40.773Z"
   },
   {
    "duration": 9,
    "start_time": "2022-05-29T12:51:20.080Z"
   },
   {
    "duration": 11,
    "start_time": "2022-05-29T12:51:36.472Z"
   },
   {
    "duration": 3,
    "start_time": "2022-05-29T12:52:01.990Z"
   },
   {
    "duration": 1185,
    "start_time": "2022-05-29T12:52:07.070Z"
   },
   {
    "duration": 1212,
    "start_time": "2022-05-29T12:52:46.544Z"
   },
   {
    "duration": 1185,
    "start_time": "2022-05-29T12:53:27.695Z"
   },
   {
    "duration": 1348,
    "start_time": "2022-05-29T12:53:35.897Z"
   },
   {
    "duration": 1381,
    "start_time": "2022-05-29T12:57:20.142Z"
   },
   {
    "duration": 1432,
    "start_time": "2022-05-29T12:57:27.957Z"
   },
   {
    "duration": 26,
    "start_time": "2022-05-29T12:57:54.095Z"
   },
   {
    "duration": 1351,
    "start_time": "2022-05-29T12:58:00.070Z"
   },
   {
    "duration": 1523,
    "start_time": "2022-05-29T12:59:03.560Z"
   },
   {
    "duration": 136,
    "start_time": "2022-05-29T12:59:35.607Z"
   },
   {
    "duration": 137,
    "start_time": "2022-05-29T13:00:21.543Z"
   },
   {
    "duration": 2064,
    "start_time": "2022-05-29T13:00:27.843Z"
   },
   {
    "duration": 10,
    "start_time": "2022-05-29T13:01:57.344Z"
   },
   {
    "duration": 1019,
    "start_time": "2022-05-29T13:02:34.219Z"
   },
   {
    "duration": 97,
    "start_time": "2022-05-29T13:02:49.318Z"
   },
   {
    "duration": 1228,
    "start_time": "2022-05-29T13:03:35.974Z"
   },
   {
    "duration": 1207,
    "start_time": "2022-05-29T13:03:59.821Z"
   },
   {
    "duration": 16,
    "start_time": "2022-05-29T13:04:32.475Z"
   },
   {
    "duration": 1170,
    "start_time": "2022-05-29T13:08:04.647Z"
   },
   {
    "duration": 13,
    "start_time": "2022-05-29T13:08:44.986Z"
   },
   {
    "duration": 1120,
    "start_time": "2022-05-29T13:09:01.980Z"
   },
   {
    "duration": 1137,
    "start_time": "2022-05-29T13:09:17.180Z"
   },
   {
    "duration": 14,
    "start_time": "2022-05-29T13:34:28.765Z"
   },
   {
    "duration": 8,
    "start_time": "2022-05-29T13:34:37.338Z"
   },
   {
    "duration": 17,
    "start_time": "2022-05-29T13:35:28.288Z"
   },
   {
    "duration": 3,
    "start_time": "2022-05-29T13:35:45.754Z"
   },
   {
    "duration": 15,
    "start_time": "2022-05-29T13:35:51.004Z"
   },
   {
    "duration": 777,
    "start_time": "2022-05-29T13:37:13.074Z"
   },
   {
    "duration": 481,
    "start_time": "2022-05-29T13:43:12.893Z"
   },
   {
    "duration": 9,
    "start_time": "2022-05-29T13:43:45.643Z"
   },
   {
    "duration": 444,
    "start_time": "2022-05-29T13:43:53.640Z"
   },
   {
    "duration": 447,
    "start_time": "2022-05-29T13:44:38.352Z"
   },
   {
    "duration": 476,
    "start_time": "2022-05-29T13:45:18.970Z"
   },
   {
    "duration": 472,
    "start_time": "2022-05-29T13:46:05.340Z"
   },
   {
    "duration": 566,
    "start_time": "2022-05-29T13:46:29.416Z"
   },
   {
    "duration": 1092,
    "start_time": "2022-05-29T13:47:16.069Z"
   },
   {
    "duration": 3,
    "start_time": "2022-05-29T14:56:46.563Z"
   },
   {
    "duration": 3,
    "start_time": "2022-05-29T14:56:46.820Z"
   },
   {
    "duration": 8,
    "start_time": "2022-05-29T14:56:47.160Z"
   },
   {
    "duration": 9,
    "start_time": "2022-05-29T14:56:47.673Z"
   },
   {
    "duration": 421,
    "start_time": "2022-05-29T14:57:13.353Z"
   },
   {
    "duration": 34,
    "start_time": "2022-05-29T14:57:18.294Z"
   },
   {
    "duration": 59,
    "start_time": "2022-05-29T14:57:18.994Z"
   },
   {
    "duration": 18,
    "start_time": "2022-05-29T15:00:29.095Z"
   },
   {
    "duration": 4,
    "start_time": "2022-05-29T15:00:35.878Z"
   },
   {
    "duration": 3,
    "start_time": "2022-05-29T15:00:52.660Z"
   },
   {
    "duration": 699,
    "start_time": "2022-05-29T15:00:52.665Z"
   },
   {
    "duration": 27,
    "start_time": "2022-05-29T15:00:53.367Z"
   },
   {
    "duration": 18,
    "start_time": "2022-05-29T15:00:53.396Z"
   },
   {
    "duration": 23,
    "start_time": "2022-05-29T15:00:53.417Z"
   },
   {
    "duration": 16,
    "start_time": "2022-05-29T15:00:53.442Z"
   },
   {
    "duration": 24,
    "start_time": "2022-05-29T15:00:53.495Z"
   },
   {
    "duration": 21,
    "start_time": "2022-05-29T15:00:53.521Z"
   },
   {
    "duration": 10,
    "start_time": "2022-05-29T15:00:53.544Z"
   },
   {
    "duration": 39,
    "start_time": "2022-05-29T15:00:53.556Z"
   },
   {
    "duration": 5,
    "start_time": "2022-05-29T15:00:53.597Z"
   },
   {
    "duration": 12,
    "start_time": "2022-05-29T15:00:53.604Z"
   },
   {
    "duration": 4,
    "start_time": "2022-05-29T15:00:53.617Z"
   },
   {
    "duration": 11,
    "start_time": "2022-05-29T15:00:53.624Z"
   },
   {
    "duration": 12,
    "start_time": "2022-05-29T15:00:53.637Z"
   },
   {
    "duration": 14,
    "start_time": "2022-05-29T15:00:53.650Z"
   },
   {
    "duration": 1249,
    "start_time": "2022-05-29T15:00:53.665Z"
   },
   {
    "duration": 1188,
    "start_time": "2022-05-29T15:00:54.916Z"
   },
   {
    "duration": 1215,
    "start_time": "2022-05-29T15:00:56.105Z"
   },
   {
    "duration": 580,
    "start_time": "2022-05-29T15:00:57.322Z"
   },
   {
    "duration": 448,
    "start_time": "2022-05-29T15:00:57.904Z"
   },
   {
    "duration": 660,
    "start_time": "2022-05-29T15:00:58.354Z"
   },
   {
    "duration": 1247,
    "start_time": "2022-05-29T15:00:59.016Z"
   },
   {
    "duration": 4,
    "start_time": "2022-05-29T15:01:00.265Z"
   },
   {
    "duration": 29,
    "start_time": "2022-05-29T15:01:00.271Z"
   },
   {
    "duration": 29,
    "start_time": "2022-05-29T15:01:00.302Z"
   },
   {
    "duration": 5,
    "start_time": "2022-05-29T15:01:00.333Z"
   },
   {
    "duration": 3,
    "start_time": "2022-05-29T15:04:14.177Z"
   },
   {
    "duration": 3,
    "start_time": "2022-05-29T15:09:45.010Z"
   },
   {
    "duration": 3,
    "start_time": "2022-05-29T15:09:45.416Z"
   },
   {
    "duration": 3,
    "start_time": "2022-05-29T15:09:45.642Z"
   },
   {
    "duration": 12,
    "start_time": "2022-05-29T15:09:46.045Z"
   },
   {
    "duration": 4,
    "start_time": "2022-05-29T15:09:46.287Z"
   },
   {
    "duration": 28,
    "start_time": "2022-05-29T15:10:27.137Z"
   },
   {
    "duration": 10,
    "start_time": "2022-05-29T15:10:42.981Z"
   },
   {
    "duration": 4,
    "start_time": "2022-05-29T15:11:08.478Z"
   },
   {
    "duration": 11,
    "start_time": "2022-05-29T15:14:24.067Z"
   },
   {
    "duration": 3,
    "start_time": "2022-05-29T15:14:54.120Z"
   },
   {
    "duration": 25,
    "start_time": "2022-05-29T15:14:58.081Z"
   },
   {
    "duration": 22,
    "start_time": "2022-05-29T15:15:36.810Z"
   },
   {
    "duration": 22,
    "start_time": "2022-05-29T15:15:43.882Z"
   },
   {
    "duration": 22,
    "start_time": "2022-05-29T15:15:47.068Z"
   },
   {
    "duration": 14,
    "start_time": "2022-05-29T15:21:11.434Z"
   },
   {
    "duration": 6,
    "start_time": "2022-05-29T15:23:52.541Z"
   },
   {
    "duration": 11,
    "start_time": "2022-05-29T15:24:11.797Z"
   },
   {
    "duration": 7,
    "start_time": "2022-05-29T15:24:47.954Z"
   },
   {
    "duration": 5,
    "start_time": "2022-05-29T15:25:04.828Z"
   },
   {
    "duration": 724,
    "start_time": "2022-05-29T15:25:04.836Z"
   },
   {
    "duration": 36,
    "start_time": "2022-05-29T15:25:05.563Z"
   },
   {
    "duration": 28,
    "start_time": "2022-05-29T15:25:05.602Z"
   },
   {
    "duration": 24,
    "start_time": "2022-05-29T15:25:05.633Z"
   },
   {
    "duration": 45,
    "start_time": "2022-05-29T15:25:05.659Z"
   },
   {
    "duration": 24,
    "start_time": "2022-05-29T15:25:05.706Z"
   },
   {
    "duration": 19,
    "start_time": "2022-05-29T15:25:05.732Z"
   },
   {
    "duration": 44,
    "start_time": "2022-05-29T15:25:05.753Z"
   },
   {
    "duration": 9,
    "start_time": "2022-05-29T15:25:05.798Z"
   },
   {
    "duration": 10,
    "start_time": "2022-05-29T15:25:05.810Z"
   },
   {
    "duration": 6,
    "start_time": "2022-05-29T15:25:05.822Z"
   },
   {
    "duration": 10,
    "start_time": "2022-05-29T15:25:05.829Z"
   },
   {
    "duration": 7,
    "start_time": "2022-05-29T15:25:05.840Z"
   },
   {
    "duration": 9,
    "start_time": "2022-05-29T15:25:05.895Z"
   },
   {
    "duration": 8,
    "start_time": "2022-05-29T15:25:05.906Z"
   },
   {
    "duration": 9,
    "start_time": "2022-05-29T15:25:05.916Z"
   },
   {
    "duration": 8,
    "start_time": "2022-05-29T15:25:05.926Z"
   },
   {
    "duration": 1283,
    "start_time": "2022-05-29T15:25:05.936Z"
   },
   {
    "duration": 1309,
    "start_time": "2022-05-29T15:25:07.221Z"
   },
   {
    "duration": 1391,
    "start_time": "2022-05-29T15:25:08.531Z"
   },
   {
    "duration": 558,
    "start_time": "2022-05-29T15:25:09.924Z"
   },
   {
    "duration": 528,
    "start_time": "2022-05-29T15:25:10.484Z"
   },
   {
    "duration": 658,
    "start_time": "2022-05-29T15:25:11.014Z"
   },
   {
    "duration": 965,
    "start_time": "2022-05-29T15:25:11.674Z"
   },
   {
    "duration": 3,
    "start_time": "2022-05-29T15:25:12.641Z"
   },
   {
    "duration": 8,
    "start_time": "2022-05-29T15:25:12.645Z"
   },
   {
    "duration": 8,
    "start_time": "2022-05-29T15:25:12.655Z"
   },
   {
    "duration": 29,
    "start_time": "2022-05-29T15:25:12.667Z"
   },
   {
    "duration": 4,
    "start_time": "2022-05-29T15:25:12.699Z"
   },
   {
    "duration": 24,
    "start_time": "2022-05-29T15:25:12.705Z"
   },
   {
    "duration": 27,
    "start_time": "2022-05-29T15:25:12.731Z"
   },
   {
    "duration": 21,
    "start_time": "2022-05-29T15:25:14.273Z"
   },
   {
    "duration": 14,
    "start_time": "2022-05-29T15:25:18.393Z"
   },
   {
    "duration": 5,
    "start_time": "2022-05-29T15:25:22.047Z"
   },
   {
    "duration": 724,
    "start_time": "2022-05-29T15:25:22.054Z"
   },
   {
    "duration": 29,
    "start_time": "2022-05-29T15:25:22.780Z"
   },
   {
    "duration": 17,
    "start_time": "2022-05-29T15:25:22.811Z"
   },
   {
    "duration": 21,
    "start_time": "2022-05-29T15:25:22.831Z"
   },
   {
    "duration": 48,
    "start_time": "2022-05-29T15:25:22.854Z"
   },
   {
    "duration": 22,
    "start_time": "2022-05-29T15:25:22.904Z"
   },
   {
    "duration": 19,
    "start_time": "2022-05-29T15:25:22.928Z"
   },
   {
    "duration": 14,
    "start_time": "2022-05-29T15:25:22.949Z"
   },
   {
    "duration": 37,
    "start_time": "2022-05-29T15:25:22.965Z"
   },
   {
    "duration": 10,
    "start_time": "2022-05-29T15:25:23.004Z"
   },
   {
    "duration": 6,
    "start_time": "2022-05-29T15:25:23.015Z"
   },
   {
    "duration": 7,
    "start_time": "2022-05-29T15:25:23.022Z"
   },
   {
    "duration": 5,
    "start_time": "2022-05-29T15:25:23.032Z"
   },
   {
    "duration": 4,
    "start_time": "2022-05-29T15:25:23.039Z"
   },
   {
    "duration": 8,
    "start_time": "2022-05-29T15:25:23.045Z"
   },
   {
    "duration": 4,
    "start_time": "2022-05-29T15:25:23.095Z"
   },
   {
    "duration": 9,
    "start_time": "2022-05-29T15:25:23.101Z"
   },
   {
    "duration": 1311,
    "start_time": "2022-05-29T15:25:23.111Z"
   },
   {
    "duration": 1292,
    "start_time": "2022-05-29T15:25:24.424Z"
   },
   {
    "duration": 1239,
    "start_time": "2022-05-29T15:25:25.718Z"
   },
   {
    "duration": 963,
    "start_time": "2022-05-29T15:25:26.959Z"
   },
   {
    "duration": 529,
    "start_time": "2022-05-29T15:25:27.924Z"
   },
   {
    "duration": 733,
    "start_time": "2022-05-29T15:25:28.455Z"
   },
   {
    "duration": 985,
    "start_time": "2022-05-29T15:25:29.190Z"
   },
   {
    "duration": 4,
    "start_time": "2022-05-29T15:25:30.177Z"
   },
   {
    "duration": 21,
    "start_time": "2022-05-29T15:25:30.182Z"
   },
   {
    "duration": 20,
    "start_time": "2022-05-29T15:25:30.204Z"
   },
   {
    "duration": 27,
    "start_time": "2022-05-29T15:25:30.226Z"
   },
   {
    "duration": 13,
    "start_time": "2022-05-29T15:25:30.254Z"
   },
   {
    "duration": 10,
    "start_time": "2022-05-29T15:25:30.269Z"
   },
   {
    "duration": 34,
    "start_time": "2022-05-29T15:25:30.281Z"
   },
   {
    "duration": 6,
    "start_time": "2022-05-29T15:26:09.367Z"
   },
   {
    "duration": 25,
    "start_time": "2022-05-29T15:26:19.473Z"
   },
   {
    "duration": 2582,
    "start_time": "2022-05-29T15:26:29.606Z"
   },
   {
    "duration": 2480,
    "start_time": "2022-05-29T15:26:45.056Z"
   },
   {
    "duration": 5137,
    "start_time": "2022-05-29T15:26:54.873Z"
   },
   {
    "duration": 5133,
    "start_time": "2022-05-29T15:27:05.047Z"
   },
   {
    "duration": 1449,
    "start_time": "2022-05-29T15:27:40.853Z"
   },
   {
    "duration": 5065,
    "start_time": "2022-05-29T15:27:43.623Z"
   },
   {
    "duration": 14766,
    "start_time": "2022-05-29T15:28:22.420Z"
   },
   {
    "duration": 1065,
    "start_time": "2022-05-29T15:30:01.470Z"
   },
   {
    "duration": 4,
    "start_time": "2022-05-29T15:30:36.313Z"
   },
   {
    "duration": 639,
    "start_time": "2022-05-29T15:30:36.322Z"
   },
   {
    "duration": 19,
    "start_time": "2022-05-29T15:30:36.963Z"
   },
   {
    "duration": 29,
    "start_time": "2022-05-29T15:30:36.983Z"
   },
   {
    "duration": 20,
    "start_time": "2022-05-29T15:30:37.015Z"
   },
   {
    "duration": 20,
    "start_time": "2022-05-29T15:30:37.036Z"
   },
   {
    "duration": 38,
    "start_time": "2022-05-29T15:30:37.058Z"
   },
   {
    "duration": 17,
    "start_time": "2022-05-29T15:30:37.098Z"
   },
   {
    "duration": 14,
    "start_time": "2022-05-29T15:30:37.117Z"
   },
   {
    "duration": 10,
    "start_time": "2022-05-29T15:30:37.132Z"
   },
   {
    "duration": 51,
    "start_time": "2022-05-29T15:30:37.145Z"
   },
   {
    "duration": 5,
    "start_time": "2022-05-29T15:30:37.198Z"
   },
   {
    "duration": 8,
    "start_time": "2022-05-29T15:30:37.204Z"
   },
   {
    "duration": 9,
    "start_time": "2022-05-29T15:30:37.214Z"
   },
   {
    "duration": 5,
    "start_time": "2022-05-29T15:30:37.225Z"
   },
   {
    "duration": 13,
    "start_time": "2022-05-29T15:30:37.231Z"
   },
   {
    "duration": 13,
    "start_time": "2022-05-29T15:30:37.246Z"
   },
   {
    "duration": 10,
    "start_time": "2022-05-29T15:30:37.260Z"
   },
   {
    "duration": 1136,
    "start_time": "2022-05-29T15:30:37.272Z"
   },
   {
    "duration": 1175,
    "start_time": "2022-05-29T15:30:38.410Z"
   },
   {
    "duration": 1119,
    "start_time": "2022-05-29T15:30:39.587Z"
   },
   {
    "duration": 557,
    "start_time": "2022-05-29T15:30:40.708Z"
   },
   {
    "duration": 432,
    "start_time": "2022-05-29T15:30:41.268Z"
   },
   {
    "duration": 867,
    "start_time": "2022-05-29T15:30:41.702Z"
   },
   {
    "duration": 879,
    "start_time": "2022-05-29T15:30:42.571Z"
   },
   {
    "duration": 3,
    "start_time": "2022-05-29T15:30:43.452Z"
   },
   {
    "duration": 11,
    "start_time": "2022-05-29T15:30:43.457Z"
   },
   {
    "duration": 13,
    "start_time": "2022-05-29T15:30:43.469Z"
   },
   {
    "duration": 33,
    "start_time": "2022-05-29T15:30:43.485Z"
   },
   {
    "duration": 5026,
    "start_time": "2022-05-29T15:30:43.520Z"
   },
   {
    "duration": 1951,
    "start_time": "2022-05-29T15:30:48.548Z"
   },
   {
    "duration": 14887,
    "start_time": "2022-05-29T15:30:50.501Z"
   },
   {
    "duration": 357,
    "start_time": "2022-05-29T15:31:05.390Z"
   },
   {
    "duration": 12,
    "start_time": "2022-05-29T15:42:17.822Z"
   },
   {
    "duration": 13,
    "start_time": "2022-05-29T15:42:58.880Z"
   },
   {
    "duration": 4,
    "start_time": "2022-05-29T15:44:50.179Z"
   },
   {
    "duration": 4,
    "start_time": "2022-05-29T15:44:50.528Z"
   },
   {
    "duration": 10,
    "start_time": "2022-05-29T15:44:50.819Z"
   },
   {
    "duration": 52,
    "start_time": "2022-05-29T15:45:01.073Z"
   },
   {
    "duration": 5,
    "start_time": "2022-05-29T15:45:41.902Z"
   },
   {
    "duration": 285974,
    "start_time": "2022-05-29T15:45:46.829Z"
   },
   {
    "duration": 3517,
    "start_time": "2022-05-29T15:52:46.076Z"
   },
   {
    "duration": 9,
    "start_time": "2022-05-29T15:59:05.700Z"
   },
   {
    "duration": 9,
    "start_time": "2022-05-29T15:59:09.883Z"
   },
   {
    "duration": 3,
    "start_time": "2022-05-29T16:02:03.104Z"
   },
   {
    "duration": 19,
    "start_time": "2022-05-29T16:02:08.312Z"
   },
   {
    "duration": 5,
    "start_time": "2022-05-29T16:03:03.020Z"
   },
   {
    "duration": 679,
    "start_time": "2022-05-29T16:03:03.028Z"
   },
   {
    "duration": 20,
    "start_time": "2022-05-29T16:03:03.709Z"
   },
   {
    "duration": 37,
    "start_time": "2022-05-29T16:03:03.730Z"
   },
   {
    "duration": 37,
    "start_time": "2022-05-29T16:03:03.769Z"
   },
   {
    "duration": 17,
    "start_time": "2022-05-29T16:03:03.807Z"
   },
   {
    "duration": 27,
    "start_time": "2022-05-29T16:03:03.825Z"
   },
   {
    "duration": 50,
    "start_time": "2022-05-29T16:03:03.854Z"
   },
   {
    "duration": 8,
    "start_time": "2022-05-29T16:03:03.905Z"
   },
   {
    "duration": 23,
    "start_time": "2022-05-29T16:03:03.914Z"
   },
   {
    "duration": 11,
    "start_time": "2022-05-29T16:03:03.939Z"
   },
   {
    "duration": 19,
    "start_time": "2022-05-29T16:03:03.952Z"
   },
   {
    "duration": 36,
    "start_time": "2022-05-29T16:03:03.972Z"
   },
   {
    "duration": 24,
    "start_time": "2022-05-29T16:03:04.012Z"
   },
   {
    "duration": 22,
    "start_time": "2022-05-29T16:03:04.038Z"
   },
   {
    "duration": 29,
    "start_time": "2022-05-29T16:03:04.062Z"
   },
   {
    "duration": 25,
    "start_time": "2022-05-29T16:03:04.093Z"
   },
   {
    "duration": 16,
    "start_time": "2022-05-29T16:03:04.120Z"
   },
   {
    "duration": 23,
    "start_time": "2022-05-29T16:03:04.138Z"
   },
   {
    "duration": 1263,
    "start_time": "2022-05-29T16:03:04.163Z"
   },
   {
    "duration": 1167,
    "start_time": "2022-05-29T16:03:05.427Z"
   },
   {
    "duration": 1213,
    "start_time": "2022-05-29T16:03:06.596Z"
   },
   {
    "duration": 590,
    "start_time": "2022-05-29T16:03:07.811Z"
   },
   {
    "duration": 468,
    "start_time": "2022-05-29T16:03:08.402Z"
   },
   {
    "duration": 668,
    "start_time": "2022-05-29T16:03:08.872Z"
   },
   {
    "duration": 1286,
    "start_time": "2022-05-29T16:03:09.542Z"
   },
   {
    "duration": 19,
    "start_time": "2022-05-29T16:03:10.829Z"
   },
   {
    "duration": 8,
    "start_time": "2022-05-29T16:56:38.652Z"
   },
   {
    "duration": 11,
    "start_time": "2022-05-29T17:00:55.212Z"
   },
   {
    "duration": 6,
    "start_time": "2022-05-29T17:00:58.334Z"
   },
   {
    "duration": 691,
    "start_time": "2022-05-29T17:00:58.342Z"
   },
   {
    "duration": 28,
    "start_time": "2022-05-29T17:00:59.036Z"
   },
   {
    "duration": 43,
    "start_time": "2022-05-29T17:00:59.066Z"
   },
   {
    "duration": 31,
    "start_time": "2022-05-29T17:00:59.111Z"
   },
   {
    "duration": 15,
    "start_time": "2022-05-29T17:00:59.145Z"
   },
   {
    "duration": 51,
    "start_time": "2022-05-29T17:00:59.162Z"
   },
   {
    "duration": 19,
    "start_time": "2022-05-29T17:00:59.215Z"
   },
   {
    "duration": 8,
    "start_time": "2022-05-29T17:00:59.236Z"
   },
   {
    "duration": 5,
    "start_time": "2022-05-29T17:00:59.247Z"
   },
   {
    "duration": 42,
    "start_time": "2022-05-29T17:00:59.253Z"
   },
   {
    "duration": 5,
    "start_time": "2022-05-29T17:00:59.297Z"
   },
   {
    "duration": 5,
    "start_time": "2022-05-29T17:00:59.303Z"
   },
   {
    "duration": 6,
    "start_time": "2022-05-29T17:00:59.310Z"
   },
   {
    "duration": 6,
    "start_time": "2022-05-29T17:00:59.318Z"
   },
   {
    "duration": 8,
    "start_time": "2022-05-29T17:00:59.327Z"
   },
   {
    "duration": 1297,
    "start_time": "2022-05-29T17:00:59.336Z"
   },
   {
    "duration": 1172,
    "start_time": "2022-05-29T17:01:00.635Z"
   },
   {
    "duration": 1214,
    "start_time": "2022-05-29T17:01:01.809Z"
   },
   {
    "duration": 578,
    "start_time": "2022-05-29T17:01:03.025Z"
   },
   {
    "duration": 440,
    "start_time": "2022-05-29T17:01:03.605Z"
   },
   {
    "duration": 605,
    "start_time": "2022-05-29T17:01:04.047Z"
   },
   {
    "duration": 926,
    "start_time": "2022-05-29T17:01:04.654Z"
   },
   {
    "duration": 27,
    "start_time": "2022-05-29T17:01:05.582Z"
   },
   {
    "duration": 4,
    "start_time": "2022-05-29T17:01:43.434Z"
   },
   {
    "duration": 704,
    "start_time": "2022-05-29T17:01:43.440Z"
   },
   {
    "duration": 20,
    "start_time": "2022-05-29T17:01:44.146Z"
   },
   {
    "duration": 32,
    "start_time": "2022-05-29T17:01:44.167Z"
   },
   {
    "duration": 19,
    "start_time": "2022-05-29T17:01:44.201Z"
   },
   {
    "duration": 16,
    "start_time": "2022-05-29T17:01:44.222Z"
   },
   {
    "duration": 23,
    "start_time": "2022-05-29T17:01:44.240Z"
   },
   {
    "duration": 42,
    "start_time": "2022-05-29T17:01:44.265Z"
   },
   {
    "duration": 8,
    "start_time": "2022-05-29T17:01:44.309Z"
   },
   {
    "duration": 14,
    "start_time": "2022-05-29T17:01:44.318Z"
   },
   {
    "duration": 7,
    "start_time": "2022-05-29T17:01:44.334Z"
   },
   {
    "duration": 8,
    "start_time": "2022-05-29T17:01:44.343Z"
   },
   {
    "duration": 6,
    "start_time": "2022-05-29T17:01:44.352Z"
   },
   {
    "duration": 34,
    "start_time": "2022-05-29T17:01:44.361Z"
   },
   {
    "duration": 8,
    "start_time": "2022-05-29T17:01:44.396Z"
   },
   {
    "duration": 6,
    "start_time": "2022-05-29T17:01:44.406Z"
   },
   {
    "duration": 1198,
    "start_time": "2022-05-29T17:01:44.413Z"
   },
   {
    "duration": 1493,
    "start_time": "2022-05-29T17:01:45.613Z"
   },
   {
    "duration": 1212,
    "start_time": "2022-05-29T17:01:47.107Z"
   },
   {
    "duration": 711,
    "start_time": "2022-05-29T17:01:48.321Z"
   },
   {
    "duration": 498,
    "start_time": "2022-05-29T17:01:49.035Z"
   },
   {
    "duration": 626,
    "start_time": "2022-05-29T17:01:49.536Z"
   },
   {
    "duration": 962,
    "start_time": "2022-05-29T17:01:50.164Z"
   },
   {
    "duration": 21,
    "start_time": "2022-05-29T17:01:51.128Z"
   },
   {
    "duration": 3,
    "start_time": "2022-05-29T17:03:49.124Z"
   },
   {
    "duration": 3,
    "start_time": "2022-05-29T17:04:10.013Z"
   },
   {
    "duration": 6,
    "start_time": "2022-05-29T17:04:14.976Z"
   },
   {
    "duration": 3,
    "start_time": "2022-05-29T17:04:15.497Z"
   },
   {
    "duration": 3,
    "start_time": "2022-05-29T17:04:39.720Z"
   },
   {
    "duration": 13,
    "start_time": "2022-05-29T17:05:23.588Z"
   },
   {
    "duration": 5,
    "start_time": "2022-05-29T17:05:29.518Z"
   },
   {
    "duration": 6,
    "start_time": "2022-05-29T17:06:38.054Z"
   },
   {
    "duration": 699,
    "start_time": "2022-05-29T17:06:38.062Z"
   },
   {
    "duration": 20,
    "start_time": "2022-05-29T17:06:38.763Z"
   },
   {
    "duration": 17,
    "start_time": "2022-05-29T17:06:38.793Z"
   },
   {
    "duration": 20,
    "start_time": "2022-05-29T17:06:38.812Z"
   },
   {
    "duration": 12,
    "start_time": "2022-05-29T17:06:38.834Z"
   },
   {
    "duration": 51,
    "start_time": "2022-05-29T17:06:38.847Z"
   },
   {
    "duration": 21,
    "start_time": "2022-05-29T17:06:38.900Z"
   },
   {
    "duration": 10,
    "start_time": "2022-05-29T17:06:38.923Z"
   },
   {
    "duration": 12,
    "start_time": "2022-05-29T17:06:38.934Z"
   },
   {
    "duration": 11,
    "start_time": "2022-05-29T17:06:38.948Z"
   },
   {
    "duration": 7,
    "start_time": "2022-05-29T17:06:38.995Z"
   },
   {
    "duration": 11,
    "start_time": "2022-05-29T17:06:39.006Z"
   },
   {
    "duration": 9,
    "start_time": "2022-05-29T17:06:39.021Z"
   },
   {
    "duration": 19,
    "start_time": "2022-05-29T17:06:39.032Z"
   },
   {
    "duration": 30,
    "start_time": "2022-05-29T17:06:39.053Z"
   },
   {
    "duration": 10,
    "start_time": "2022-05-29T17:06:39.085Z"
   },
   {
    "duration": 10,
    "start_time": "2022-05-29T17:06:39.097Z"
   },
   {
    "duration": 15,
    "start_time": "2022-05-29T17:06:39.109Z"
   },
   {
    "duration": 3,
    "start_time": "2022-05-29T17:06:39.126Z"
   },
   {
    "duration": 14,
    "start_time": "2022-05-29T17:06:39.131Z"
   },
   {
    "duration": 0,
    "start_time": "2022-05-29T17:06:39.147Z"
   },
   {
    "duration": 0,
    "start_time": "2022-05-29T17:06:39.148Z"
   },
   {
    "duration": 0,
    "start_time": "2022-05-29T17:06:39.149Z"
   },
   {
    "duration": 0,
    "start_time": "2022-05-29T17:06:39.150Z"
   },
   {
    "duration": 0,
    "start_time": "2022-05-29T17:06:39.151Z"
   },
   {
    "duration": 0,
    "start_time": "2022-05-29T17:06:39.152Z"
   },
   {
    "duration": 0,
    "start_time": "2022-05-29T17:06:39.153Z"
   },
   {
    "duration": 0,
    "start_time": "2022-05-29T17:06:39.154Z"
   },
   {
    "duration": 4,
    "start_time": "2022-05-29T17:07:36.437Z"
   },
   {
    "duration": 638,
    "start_time": "2022-05-29T17:07:36.443Z"
   },
   {
    "duration": 24,
    "start_time": "2022-05-29T17:07:37.083Z"
   },
   {
    "duration": 18,
    "start_time": "2022-05-29T17:07:37.109Z"
   },
   {
    "duration": 21,
    "start_time": "2022-05-29T17:07:37.129Z"
   },
   {
    "duration": 47,
    "start_time": "2022-05-29T17:07:37.151Z"
   },
   {
    "duration": 19,
    "start_time": "2022-05-29T17:07:37.200Z"
   },
   {
    "duration": 21,
    "start_time": "2022-05-29T17:07:37.220Z"
   },
   {
    "duration": 7,
    "start_time": "2022-05-29T17:07:37.243Z"
   },
   {
    "duration": 10,
    "start_time": "2022-05-29T17:07:37.253Z"
   },
   {
    "duration": 31,
    "start_time": "2022-05-29T17:07:37.264Z"
   },
   {
    "duration": 8,
    "start_time": "2022-05-29T17:07:37.297Z"
   },
   {
    "duration": 10,
    "start_time": "2022-05-29T17:07:37.307Z"
   },
   {
    "duration": 5,
    "start_time": "2022-05-29T17:07:37.318Z"
   },
   {
    "duration": 9,
    "start_time": "2022-05-29T17:07:37.324Z"
   },
   {
    "duration": 5,
    "start_time": "2022-05-29T17:07:37.335Z"
   },
   {
    "duration": 10,
    "start_time": "2022-05-29T17:07:37.341Z"
   },
   {
    "duration": 41,
    "start_time": "2022-05-29T17:07:37.353Z"
   },
   {
    "duration": 2,
    "start_time": "2022-05-29T17:07:37.396Z"
   },
   {
    "duration": 16,
    "start_time": "2022-05-29T17:07:37.400Z"
   },
   {
    "duration": 4,
    "start_time": "2022-05-29T17:07:37.417Z"
   },
   {
    "duration": 1182,
    "start_time": "2022-05-29T17:07:37.423Z"
   },
   {
    "duration": 1180,
    "start_time": "2022-05-29T17:07:38.606Z"
   },
   {
    "duration": 1230,
    "start_time": "2022-05-29T17:07:39.793Z"
   },
   {
    "duration": 551,
    "start_time": "2022-05-29T17:07:41.025Z"
   },
   {
    "duration": 437,
    "start_time": "2022-05-29T17:07:41.578Z"
   },
   {
    "duration": 493,
    "start_time": "2022-05-29T17:07:42.017Z"
   },
   {
    "duration": 0,
    "start_time": "2022-05-29T17:07:42.512Z"
   },
   {
    "duration": 0,
    "start_time": "2022-05-29T17:07:42.514Z"
   },
   {
    "duration": 583,
    "start_time": "2022-05-29T17:08:02.799Z"
   },
   {
    "duration": 5,
    "start_time": "2022-05-29T17:09:38.623Z"
   },
   {
    "duration": 738,
    "start_time": "2022-05-29T17:09:38.629Z"
   },
   {
    "duration": 25,
    "start_time": "2022-05-29T17:09:39.369Z"
   },
   {
    "duration": 16,
    "start_time": "2022-05-29T17:09:39.395Z"
   },
   {
    "duration": 20,
    "start_time": "2022-05-29T17:09:39.413Z"
   },
   {
    "duration": 13,
    "start_time": "2022-05-29T17:09:39.434Z"
   },
   {
    "duration": 49,
    "start_time": "2022-05-29T17:09:39.449Z"
   },
   {
    "duration": 16,
    "start_time": "2022-05-29T17:09:39.500Z"
   },
   {
    "duration": 7,
    "start_time": "2022-05-29T17:09:39.517Z"
   },
   {
    "duration": 6,
    "start_time": "2022-05-29T17:09:39.525Z"
   },
   {
    "duration": 7,
    "start_time": "2022-05-29T17:09:39.532Z"
   },
   {
    "duration": 6,
    "start_time": "2022-05-29T17:09:39.540Z"
   },
   {
    "duration": 4,
    "start_time": "2022-05-29T17:09:39.547Z"
   },
   {
    "duration": 4,
    "start_time": "2022-05-29T17:09:39.596Z"
   },
   {
    "duration": 9,
    "start_time": "2022-05-29T17:09:39.601Z"
   },
   {
    "duration": 5,
    "start_time": "2022-05-29T17:09:39.612Z"
   },
   {
    "duration": 7,
    "start_time": "2022-05-29T17:09:39.619Z"
   },
   {
    "duration": 5,
    "start_time": "2022-05-29T17:09:39.628Z"
   },
   {
    "duration": 8,
    "start_time": "2022-05-29T17:09:39.635Z"
   },
   {
    "duration": 51,
    "start_time": "2022-05-29T17:09:39.645Z"
   },
   {
    "duration": 4,
    "start_time": "2022-05-29T17:09:39.698Z"
   },
   {
    "duration": 1205,
    "start_time": "2022-05-29T17:09:39.703Z"
   },
   {
    "duration": 1500,
    "start_time": "2022-05-29T17:09:40.910Z"
   },
   {
    "duration": 1212,
    "start_time": "2022-05-29T17:09:42.412Z"
   },
   {
    "duration": 713,
    "start_time": "2022-05-29T17:09:43.625Z"
   },
   {
    "duration": 469,
    "start_time": "2022-05-29T17:09:44.339Z"
   },
   {
    "duration": 444,
    "start_time": "2022-05-29T17:09:44.810Z"
   },
   {
    "duration": 0,
    "start_time": "2022-05-29T17:09:45.256Z"
   },
   {
    "duration": 0,
    "start_time": "2022-05-29T17:09:45.257Z"
   },
   {
    "duration": 585,
    "start_time": "2022-05-29T17:10:04.685Z"
   },
   {
    "duration": 859,
    "start_time": "2022-05-29T17:10:33.386Z"
   },
   {
    "duration": 3,
    "start_time": "2022-05-29T17:11:04.418Z"
   },
   {
    "duration": 3,
    "start_time": "2022-05-29T17:11:04.812Z"
   },
   {
    "duration": 7,
    "start_time": "2022-05-29T17:11:06.426Z"
   },
   {
    "duration": 7,
    "start_time": "2022-05-29T17:11:11.856Z"
   },
   {
    "duration": 3,
    "start_time": "2022-05-29T17:12:55.756Z"
   },
   {
    "duration": 6,
    "start_time": "2022-05-29T17:13:11.411Z"
   },
   {
    "duration": 5,
    "start_time": "2022-05-29T17:13:18.223Z"
   },
   {
    "duration": 3,
    "start_time": "2022-05-29T17:13:27.165Z"
   },
   {
    "duration": 3,
    "start_time": "2022-05-29T17:13:36.464Z"
   },
   {
    "duration": 14043,
    "start_time": "2022-05-30T08:20:02.983Z"
   },
   {
    "duration": 17962,
    "start_time": "2022-05-30T08:20:17.042Z"
   },
   {
    "duration": 135,
    "start_time": "2022-05-30T08:25:56.853Z"
   },
   {
    "duration": 121,
    "start_time": "2022-05-30T08:25:57.752Z"
   },
   {
    "duration": 98,
    "start_time": "2022-05-30T08:25:58.462Z"
   },
   {
    "duration": 83,
    "start_time": "2022-05-30T08:25:59.075Z"
   },
   {
    "duration": 208,
    "start_time": "2022-05-30T08:25:59.755Z"
   },
   {
    "duration": 98,
    "start_time": "2022-05-30T08:26:00.168Z"
   },
   {
    "duration": 226,
    "start_time": "2022-05-30T08:26:08.852Z"
   },
   {
    "duration": 62,
    "start_time": "2022-05-30T08:26:09.295Z"
   },
   {
    "duration": 21,
    "start_time": "2022-05-30T08:26:09.553Z"
   },
   {
    "duration": 10,
    "start_time": "2022-05-30T08:26:09.952Z"
   },
   {
    "duration": 10,
    "start_time": "2022-05-30T08:26:58.080Z"
   },
   {
    "duration": 13,
    "start_time": "2022-05-30T08:26:58.554Z"
   },
   {
    "duration": 85,
    "start_time": "2022-05-30T08:26:59.186Z"
   },
   {
    "duration": 35,
    "start_time": "2022-05-30T08:27:18.555Z"
   },
   {
    "duration": 19,
    "start_time": "2022-05-30T08:27:19.752Z"
   },
   {
    "duration": 7,
    "start_time": "2022-05-30T08:27:22.654Z"
   },
   {
    "duration": 12,
    "start_time": "2022-05-30T08:27:23.253Z"
   },
   {
    "duration": 27,
    "start_time": "2022-05-30T08:27:23.456Z"
   },
   {
    "duration": 24,
    "start_time": "2022-05-30T08:27:23.761Z"
   },
   {
    "duration": 3336,
    "start_time": "2022-05-30T08:28:12.653Z"
   },
   {
    "duration": 4307,
    "start_time": "2022-05-30T08:28:16.054Z"
   },
   {
    "duration": 3922,
    "start_time": "2022-05-30T08:28:20.366Z"
   },
   {
    "duration": 2916,
    "start_time": "2022-05-30T08:30:00.559Z"
   },
   {
    "duration": 2011,
    "start_time": "2022-05-30T08:30:13.752Z"
   },
   {
    "duration": 3110,
    "start_time": "2022-05-30T08:30:15.773Z"
   },
   {
    "duration": 4993,
    "start_time": "2022-05-30T08:30:18.885Z"
   },
   {
    "duration": 69,
    "start_time": "2022-05-30T08:38:44.487Z"
   },
   {
    "duration": 15,
    "start_time": "2022-05-30T08:38:52.376Z"
   },
   {
    "duration": 25,
    "start_time": "2022-05-30T08:39:10.452Z"
   },
   {
    "duration": 76,
    "start_time": "2022-05-30T08:39:13.815Z"
   },
   {
    "duration": 16,
    "start_time": "2022-05-30T08:39:14.459Z"
   },
   {
    "duration": 71,
    "start_time": "2022-05-30T08:39:36.581Z"
   },
   {
    "duration": 69,
    "start_time": "2022-05-30T08:39:55.903Z"
   },
   {
    "duration": 82,
    "start_time": "2022-05-30T08:41:07.384Z"
   }
  ],
  "kernelspec": {
   "display_name": "Python 3 (ipykernel)",
   "language": "python",
   "name": "python3"
  },
  "language_info": {
   "codemirror_mode": {
    "name": "ipython",
    "version": 3
   },
   "file_extension": ".py",
   "mimetype": "text/x-python",
   "name": "python",
   "nbconvert_exporter": "python",
   "pygments_lexer": "ipython3",
   "version": "3.9.7"
  },
  "toc": {
   "base_numbering": 1,
   "nav_menu": {},
   "number_sections": true,
   "sideBar": true,
   "skip_h1_title": true,
   "title_cell": "Содержание",
   "title_sidebar": "Contents",
   "toc_cell": true,
   "toc_position": {},
   "toc_section_display": true,
   "toc_window_display": true
  }
 },
 "nbformat": 4,
 "nbformat_minor": 2
}
