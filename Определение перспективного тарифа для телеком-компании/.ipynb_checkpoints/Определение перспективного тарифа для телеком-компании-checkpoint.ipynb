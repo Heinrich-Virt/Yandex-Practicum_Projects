{
 "cells": [
  {
   "cell_type": "markdown",
   "metadata": {
    "toc": true
   },
   "source": [
    "<h1>Содержание<span class=\"tocSkip\"></span></h1>\n",
    "<div class=\"toc\"><ul class=\"toc-item\"><li><span><a href=\"#Описание-проекта\" data-toc-modified-id=\"Описание-проекта-1\"><span class=\"toc-item-num\">1&nbsp;&nbsp;</span>Описание проекта</a></span></li><li><span><a href=\"#Описание-тарифав\" data-toc-modified-id=\"Описание-тарифав-2\"><span class=\"toc-item-num\">2&nbsp;&nbsp;</span>Описание тарифав</a></span></li><li><span><a href=\"#Задача\" data-toc-modified-id=\"Задача-3\"><span class=\"toc-item-num\">3&nbsp;&nbsp;</span>Задача</a></span></li><li><span><a href=\"#Описание-данных\" data-toc-modified-id=\"Описание-данных-4\"><span class=\"toc-item-num\">4&nbsp;&nbsp;</span>Описание данных</a></span></li><li><span><a href=\"#Ознакомление-с-данными\" data-toc-modified-id=\"Ознакомление-с-данными-5\"><span class=\"toc-item-num\">5&nbsp;&nbsp;</span>Ознакомление с данными</a></span><ul class=\"toc-item\"><li><span><a href=\"#Вывод\" data-toc-modified-id=\"Вывод-5.1\"><span class=\"toc-item-num\">5.1&nbsp;&nbsp;</span>Вывод</a></span></li></ul></li><li><span><a href=\"#Предобработка-данных\" data-toc-modified-id=\"Предобработка-данных-6\"><span class=\"toc-item-num\">6&nbsp;&nbsp;</span>Предобработка данных</a></span><ul class=\"toc-item\"><li><span><a href=\"#Работа-с-таблицей-users\" data-toc-modified-id=\"Работа-с-таблицей-users-6.1\"><span class=\"toc-item-num\">6.1&nbsp;&nbsp;</span>Работа с таблицей <code>users</code></a></span></li><li><span><a href=\"#Работа-с-таблицей-calls\" data-toc-modified-id=\"Работа-с-таблицей-calls-6.2\"><span class=\"toc-item-num\">6.2&nbsp;&nbsp;</span>Работа с таблицей <code>calls</code></a></span></li><li><span><a href=\"#Работа-с-таблицей-messgaes\" data-toc-modified-id=\"Работа-с-таблицей-messgaes-6.3\"><span class=\"toc-item-num\">6.3&nbsp;&nbsp;</span>Работа с таблицей <code>messgaes</code></a></span></li><li><span><a href=\"#Работа-с-таблицей-internet\" data-toc-modified-id=\"Работа-с-таблицей-internet-6.4\"><span class=\"toc-item-num\">6.4&nbsp;&nbsp;</span>Работа с таблицей <code>internet</code></a></span></li><li><span><a href=\"#Вывод\" data-toc-modified-id=\"Вывод-6.5\"><span class=\"toc-item-num\">6.5&nbsp;&nbsp;</span>Вывод</a></span></li></ul></li><li><span><a href=\"#Анализ-данных\" data-toc-modified-id=\"Анализ-данных-7\"><span class=\"toc-item-num\">7&nbsp;&nbsp;</span>Анализ данных</a></span><ul class=\"toc-item\"><li><span><a href=\"#Количество-сделанных-звонков-и-израсходованных-минут-разговора-по-месяцам\" data-toc-modified-id=\"Количество-сделанных-звонков-и-израсходованных-минут-разговора-по-месяцам-7.1\"><span class=\"toc-item-num\">7.1&nbsp;&nbsp;</span>Количество сделанных звонков и израсходованных минут разговора по месяцам</a></span></li><li><span><a href=\"#Количество-отправленных-сообщений-по-месяцам\" data-toc-modified-id=\"Количество-отправленных-сообщений-по-месяцам-7.2\"><span class=\"toc-item-num\">7.2&nbsp;&nbsp;</span>Количество отправленных сообщений по месяцам</a></span></li><li><span><a href=\"#Объем-израсходованного-интернет-трафика-по-месяцам\" data-toc-modified-id=\"Объем-израсходованного-интернет-трафика-по-месяцам-7.3\"><span class=\"toc-item-num\">7.3&nbsp;&nbsp;</span>Объем израсходованного интернет-трафика по месяцам</a></span></li><li><span><a href=\"#Помесячная-выручка-каждого-клиента\" data-toc-modified-id=\"Помесячная-выручка-каждого-клиента-7.4\"><span class=\"toc-item-num\">7.4&nbsp;&nbsp;</span>Помесячная выручка каждого клиента</a></span></li><li><span><a href=\"#Удаление-выбросов\" data-toc-modified-id=\"Удаление-выбросов-7.5\"><span class=\"toc-item-num\">7.5&nbsp;&nbsp;</span>Удаление выбросов</a></span></li><li><span><a href=\"#Вывод\" data-toc-modified-id=\"Вывод-7.6\"><span class=\"toc-item-num\">7.6&nbsp;&nbsp;</span>Вывод</a></span></li></ul></li><li><span><a href=\"#Анализ-минут-разговора\" data-toc-modified-id=\"Анализ-минут-разговора-8\"><span class=\"toc-item-num\">8&nbsp;&nbsp;</span>Анализ минут разговора</a></span><ul class=\"toc-item\"><li><span><a href=\"#Вывод\" data-toc-modified-id=\"Вывод-8.1\"><span class=\"toc-item-num\">8.1&nbsp;&nbsp;</span>Вывод</a></span></li></ul></li><li><span><a href=\"#Анализ-количества-сообщений\" data-toc-modified-id=\"Анализ-количества-сообщений-9\"><span class=\"toc-item-num\">9&nbsp;&nbsp;</span>Анализ количества сообщений</a></span><ul class=\"toc-item\"><li><span><a href=\"#Вывод\" data-toc-modified-id=\"Вывод-9.1\"><span class=\"toc-item-num\">9.1&nbsp;&nbsp;</span>Вывод</a></span></li></ul></li><li><span><a href=\"#Анализ-трафика\" data-toc-modified-id=\"Анализ-трафика-10\"><span class=\"toc-item-num\">10&nbsp;&nbsp;</span>Анализ трафика</a></span><ul class=\"toc-item\"><li><span><a href=\"#Вывод\" data-toc-modified-id=\"Вывод-10.1\"><span class=\"toc-item-num\">10.1&nbsp;&nbsp;</span>Вывод</a></span></li></ul></li><li><span><a href=\"#Анализ-выручки\" data-toc-modified-id=\"Анализ-выручки-11\"><span class=\"toc-item-num\">11&nbsp;&nbsp;</span>Анализ выручки</a></span><ul class=\"toc-item\"><li><span><a href=\"#Вывод\" data-toc-modified-id=\"Вывод-11.1\"><span class=\"toc-item-num\">11.1&nbsp;&nbsp;</span>Вывод</a></span></li></ul></li><li><span><a href=\"#Проверка-гипотез\" data-toc-modified-id=\"Проверка-гипотез-12\"><span class=\"toc-item-num\">12&nbsp;&nbsp;</span>Проверка гипотез</a></span><ul class=\"toc-item\"><li><span><a href=\"#Средняя-выручка-пользователей-тарифов-«Ультра»-и-«Смарт»-различаются\" data-toc-modified-id=\"Средняя-выручка-пользователей-тарифов-«Ультра»-и-«Смарт»-различаются-12.1\"><span class=\"toc-item-num\">12.1&nbsp;&nbsp;</span>Средняя выручка пользователей тарифов «Ультра» и «Смарт» различаются</a></span><ul class=\"toc-item\"><li><span><a href=\"#Вывод\" data-toc-modified-id=\"Вывод-12.1.1\"><span class=\"toc-item-num\">12.1.1&nbsp;&nbsp;</span>Вывод</a></span></li></ul></li><li><span><a href=\"#Cредняя-выручка-пользователей-из-Москвы-отличается-от-выручки-пользователей-из-других-регионов\" data-toc-modified-id=\"Cредняя-выручка-пользователей-из-Москвы-отличается-от-выручки-пользователей-из-других-регионов-12.2\"><span class=\"toc-item-num\">12.2&nbsp;&nbsp;</span>Cредняя выручка пользователей из Москвы отличается от выручки пользователей из других регионов</a></span><ul class=\"toc-item\"><li><span><a href=\"#Вывод\" data-toc-modified-id=\"Вывод-12.2.1\"><span class=\"toc-item-num\">12.2.1&nbsp;&nbsp;</span>Вывод</a></span></li></ul></li></ul></li><li><span><a href=\"#Общий-вывод\" data-toc-modified-id=\"Общий-вывод-13\"><span class=\"toc-item-num\">13&nbsp;&nbsp;</span>Общий вывод</a></span></li></ul></div>"
   ]
  },
  {
   "cell_type": "markdown",
   "metadata": {},
   "source": [
    "## Описание проекта\n",
    "\n",
    "«Мегалайн» — федеральный оператор сотовой связи.\n",
    "Клиентам предлагают два тарифных плана: «Смарт» и «Ультра». Чтобы скорректировать рекламный бюджет, коммерческий департамент хочет понять, какой тариф приносит больше денег. Проведем предварительный анализ тарифов на небольшой выборке клиентов. В нашем распоряжении данные 500 пользователей «Мегалайна»: кто они, откуда, каким тарифом пользуются, сколько звонков и сообщений каждый отправил за 2018 год. Проанализируем поведение клиентов и сделаем вывод - какой тариф лучше"
   ]
  },
  {
   "cell_type": "markdown",
   "metadata": {},
   "source": [
    "## Описание тарифав"
   ]
  },
  {
   "cell_type": "markdown",
   "metadata": {},
   "source": [
    "**Тариф «Смарт»**\n",
    "\n",
    "Ежемесячная плата: 550 рублей\n",
    "\n",
    "Включено 500 минут разговора, 50 сообщений и 15 Гб интернет-трафика\n",
    "\n",
    "Стоимость услуг сверх тарифного пакета:\n",
    "\n",
    "минута разговора: 3 рубля\n",
    "\n",
    "сообщение: 3 рубля\n",
    "\n",
    "1 Гб интернет-трафика: 200 рублей\n",
    "\n",
    "\n",
    "\n",
    "**Тариф «Ультра»**\n",
    "\n",
    "Ежемесячная плата: 1950 рублей\n",
    "\n",
    "Включено 3000 минут разговора, 1000 сообщений и 30 Гб интернет-трафика\n",
    "\n",
    "Стоимость услуг сверх тарифного пакета:\n",
    "\n",
    "минута разговора: 1 рубль\n",
    "\n",
    "сообщение: 1 рубль\n",
    "\n",
    "1 Гб интернет-трафика: 150 рублей"
   ]
  },
  {
   "cell_type": "markdown",
   "metadata": {},
   "source": [
    "## Задача\n",
    "**1. Ознакомиться с данными.**\n",
    "\n",
    "**2. Предобработать данные:**\n",
    "- найти пропущенные значение и заполнить их при возможности\n",
    "- найти выбросы и обработак их при возможности\n",
    "- удалить дубликаты\n",
    "- изменить тип данных\n",
    "\n",
    "**3. Проанализировать данные.**\n",
    "\n",
    "Посчитать для каждого пользователя:\n",
    "- количество сделанных звонков и израсходованных минут разговора по месяцам;\n",
    "- количество отправленных сообщений по месяцам;\n",
    "- объем израсходованного интернет-трафика по месяцам;\n",
    "- помесячную выручку с каждого пользователя.\n",
    "\n",
    "Ответить на вопросы:\n",
    "- Описать поведение клиентов оператора, исходя из выборки. \n",
    "- Сколько минут разговора, сколько сообщений и какой объём интернет-трафика требуется пользователям каждого тарифа в месяц.\n",
    "- Посчитать среднее количество, дисперсию и стандартное отклонение. \n",
    "- Построить гистограммы. \n",
    "- Описать распределение.\n",
    "\n",
    "**4. Проверить гипотезы:**\n",
    "- средняя выручка пользователей тарифов «Ультра» и «Смарт» различаются;\n",
    "- средняя выручка пользователей из Москвы отличается от выручки пользователей из других регионов.\n",
    "\n",
    "**5. Сделать заключение**"
   ]
  },
  {
   "cell_type": "markdown",
   "metadata": {},
   "source": [
    "## Описание данных\n",
    "Таблица `users` (информация о пользователях):\n",
    "- user_id — уникальный идентификатор пользователя\n",
    "- first_name — имя пользователя\n",
    "- last_name — фамилия пользователя\n",
    "- age — возраст пользователя (годы)\n",
    "- reg_date — дата подключения тарифа (день, месяц, год)\n",
    "- churn_date — дата прекращения пользования тарифом (если значение пропущено, то тариф ещё действовал на момент выгрузки данных)\n",
    "- city — город проживания пользователя\n",
    "- tariff — название тарифного плана\n",
    "\n",
    "Таблица `calls` (информация о звонках):\n",
    "- id — уникальный номер звонка\n",
    "- call_date — дата звонка\n",
    "- duration — длительность звонка в минутах\n",
    "- user_id — идентификатор пользователя, сделавшего звонок\n",
    "\n",
    "Таблица `messages` (информация о сообщениях):\n",
    "- id — уникальный номер сообщения\n",
    "- message_date — дата сообщения\n",
    "- user_id — идентификатор пользователя, отправившего сообщение\n",
    "\n",
    "Таблица `internet` (информация об интернет-сессиях):\n",
    "- id — уникальный номер сессии\n",
    "- mb_used — объём потраченного за сессию интернет-трафика (в мегабайтах)\n",
    "- session_date — дата интернет-сессии\n",
    "- user_id — идентификатор пользователя\n",
    "\n",
    "Таблица `tariffs` (информация о тарифах):\n",
    "- tariff_name — название тарифа\n",
    "- rub_monthly_fee — ежемесячная абонентская плата в рублях\n",
    "- minutes_included — количество минут разговора в месяц, включённых в абонентскую плату\n",
    "- messages_included — количество сообщений в месяц, включённых в абонентскую плату\n",
    "- mb_per_month_included — объём интернет-трафика, включённого в абонентскую плату (в мегабайтах)\n",
    "- rub_per_minute — стоимость минуты разговора сверх тарифного пакета (например, если в тарифе 100 минут разговора в месяц, то со 101 минуты будет взиматься плата)\n",
    "- rub_per_message — стоимость отправки сообщения сверх тарифного пакета\n",
    "- rub_per_gb — стоимость дополнительного гигабайта интернет-трафика сверх тарифного пакета (1 гигабайт = 1024 мегабайта)"
   ]
  },
  {
   "cell_type": "markdown",
   "metadata": {},
   "source": [
    "## Ознакомление с данными"
   ]
  },
  {
   "cell_type": "code",
   "execution_count": 1,
   "metadata": {},
   "outputs": [],
   "source": [
    "#Импортируем все необходимые библиотеки\n",
    "import pandas as pd\n",
    "import numpy as np\n",
    "import matplotlib.pyplot as plt\n",
    "import seaborn as sns\n",
    "from IPython.display import display\n",
    "import math\n",
    "from scipy import stats as st"
   ]
  },
  {
   "cell_type": "code",
   "execution_count": 2,
   "metadata": {},
   "outputs": [],
   "source": [
    "#читаем данные\n",
    "users_df = pd.read_csv('/datasets/users.csv')\n",
    "tariffs_df = pd.read_csv('/datasets/tariffs.csv')\n",
    "messages_df = pd.read_csv('/datasets/messages.csv')\n",
    "internet_df = pd.read_csv('/datasets/internet.csv')\n",
    "calls_df = pd.read_csv('/datasets/calls.csv')"
   ]
  },
  {
   "cell_type": "code",
   "execution_count": 3,
   "metadata": {},
   "outputs": [
    {
     "name": "stdout",
     "output_type": "stream",
     "text": [
      "<class 'pandas.core.frame.DataFrame'>\n",
      "RangeIndex: 500 entries, 0 to 499\n",
      "Data columns (total 8 columns):\n",
      " #   Column      Non-Null Count  Dtype \n",
      "---  ------      --------------  ----- \n",
      " 0   user_id     500 non-null    int64 \n",
      " 1   age         500 non-null    int64 \n",
      " 2   churn_date  38 non-null     object\n",
      " 3   city        500 non-null    object\n",
      " 4   first_name  500 non-null    object\n",
      " 5   last_name   500 non-null    object\n",
      " 6   reg_date    500 non-null    object\n",
      " 7   tariff      500 non-null    object\n",
      "dtypes: int64(2), object(6)\n",
      "memory usage: 31.4+ KB\n",
      "-----------------------\n",
      "Количество дубликатов: 0\n",
      "-----------------------\n",
      "Количество пропусков: 462\n"
     ]
    },
    {
     "data": {
      "text/html": [
       "<div>\n",
       "<style scoped>\n",
       "    .dataframe tbody tr th:only-of-type {\n",
       "        vertical-align: middle;\n",
       "    }\n",
       "\n",
       "    .dataframe tbody tr th {\n",
       "        vertical-align: top;\n",
       "    }\n",
       "\n",
       "    .dataframe thead th {\n",
       "        text-align: right;\n",
       "    }\n",
       "</style>\n",
       "<table border=\"1\" class=\"dataframe\">\n",
       "  <thead>\n",
       "    <tr style=\"text-align: right;\">\n",
       "      <th></th>\n",
       "      <th>user_id</th>\n",
       "      <th>age</th>\n",
       "      <th>churn_date</th>\n",
       "      <th>city</th>\n",
       "      <th>first_name</th>\n",
       "      <th>last_name</th>\n",
       "      <th>reg_date</th>\n",
       "      <th>tariff</th>\n",
       "    </tr>\n",
       "  </thead>\n",
       "  <tbody>\n",
       "    <tr>\n",
       "      <th>0</th>\n",
       "      <td>1000</td>\n",
       "      <td>52</td>\n",
       "      <td>NaN</td>\n",
       "      <td>Краснодар</td>\n",
       "      <td>Рафаил</td>\n",
       "      <td>Верещагин</td>\n",
       "      <td>2018-05-25</td>\n",
       "      <td>ultra</td>\n",
       "    </tr>\n",
       "    <tr>\n",
       "      <th>1</th>\n",
       "      <td>1001</td>\n",
       "      <td>41</td>\n",
       "      <td>NaN</td>\n",
       "      <td>Москва</td>\n",
       "      <td>Иван</td>\n",
       "      <td>Ежов</td>\n",
       "      <td>2018-11-01</td>\n",
       "      <td>smart</td>\n",
       "    </tr>\n",
       "    <tr>\n",
       "      <th>2</th>\n",
       "      <td>1002</td>\n",
       "      <td>59</td>\n",
       "      <td>NaN</td>\n",
       "      <td>Стерлитамак</td>\n",
       "      <td>Евгений</td>\n",
       "      <td>Абрамович</td>\n",
       "      <td>2018-06-17</td>\n",
       "      <td>smart</td>\n",
       "    </tr>\n",
       "    <tr>\n",
       "      <th>3</th>\n",
       "      <td>1003</td>\n",
       "      <td>23</td>\n",
       "      <td>NaN</td>\n",
       "      <td>Москва</td>\n",
       "      <td>Белла</td>\n",
       "      <td>Белякова</td>\n",
       "      <td>2018-08-17</td>\n",
       "      <td>ultra</td>\n",
       "    </tr>\n",
       "    <tr>\n",
       "      <th>4</th>\n",
       "      <td>1004</td>\n",
       "      <td>68</td>\n",
       "      <td>NaN</td>\n",
       "      <td>Новокузнецк</td>\n",
       "      <td>Татьяна</td>\n",
       "      <td>Авдеенко</td>\n",
       "      <td>2018-05-14</td>\n",
       "      <td>ultra</td>\n",
       "    </tr>\n",
       "    <tr>\n",
       "      <th>5</th>\n",
       "      <td>1005</td>\n",
       "      <td>67</td>\n",
       "      <td>NaN</td>\n",
       "      <td>Набережные Челны</td>\n",
       "      <td>Афанасий</td>\n",
       "      <td>Горлов</td>\n",
       "      <td>2018-01-25</td>\n",
       "      <td>smart</td>\n",
       "    </tr>\n",
       "    <tr>\n",
       "      <th>6</th>\n",
       "      <td>1006</td>\n",
       "      <td>21</td>\n",
       "      <td>NaN</td>\n",
       "      <td>Ульяновск</td>\n",
       "      <td>Леонид</td>\n",
       "      <td>Ермолаев</td>\n",
       "      <td>2018-02-26</td>\n",
       "      <td>smart</td>\n",
       "    </tr>\n",
       "    <tr>\n",
       "      <th>7</th>\n",
       "      <td>1007</td>\n",
       "      <td>65</td>\n",
       "      <td>NaN</td>\n",
       "      <td>Москва</td>\n",
       "      <td>Юна</td>\n",
       "      <td>Березина</td>\n",
       "      <td>2018-04-19</td>\n",
       "      <td>smart</td>\n",
       "    </tr>\n",
       "    <tr>\n",
       "      <th>8</th>\n",
       "      <td>1008</td>\n",
       "      <td>63</td>\n",
       "      <td>NaN</td>\n",
       "      <td>Челябинск</td>\n",
       "      <td>Рустэм</td>\n",
       "      <td>Пономарёв</td>\n",
       "      <td>2018-12-19</td>\n",
       "      <td>smart</td>\n",
       "    </tr>\n",
       "    <tr>\n",
       "      <th>9</th>\n",
       "      <td>1009</td>\n",
       "      <td>24</td>\n",
       "      <td>NaN</td>\n",
       "      <td>Пермь</td>\n",
       "      <td>Василиса</td>\n",
       "      <td>Блинова</td>\n",
       "      <td>2018-03-22</td>\n",
       "      <td>smart</td>\n",
       "    </tr>\n",
       "  </tbody>\n",
       "</table>\n",
       "</div>"
      ],
      "text/plain": [
       "   user_id  age churn_date              city first_name  last_name  \\\n",
       "0     1000   52        NaN         Краснодар     Рафаил  Верещагин   \n",
       "1     1001   41        NaN            Москва       Иван       Ежов   \n",
       "2     1002   59        NaN       Стерлитамак    Евгений  Абрамович   \n",
       "3     1003   23        NaN            Москва      Белла   Белякова   \n",
       "4     1004   68        NaN       Новокузнецк    Татьяна   Авдеенко   \n",
       "5     1005   67        NaN  Набережные Челны   Афанасий     Горлов   \n",
       "6     1006   21        NaN         Ульяновск     Леонид   Ермолаев   \n",
       "7     1007   65        NaN            Москва        Юна   Березина   \n",
       "8     1008   63        NaN         Челябинск     Рустэм  Пономарёв   \n",
       "9     1009   24        NaN             Пермь   Василиса    Блинова   \n",
       "\n",
       "     reg_date tariff  \n",
       "0  2018-05-25  ultra  \n",
       "1  2018-11-01  smart  \n",
       "2  2018-06-17  smart  \n",
       "3  2018-08-17  ultra  \n",
       "4  2018-05-14  ultra  \n",
       "5  2018-01-25  smart  \n",
       "6  2018-02-26  smart  \n",
       "7  2018-04-19  smart  \n",
       "8  2018-12-19  smart  \n",
       "9  2018-03-22  smart  "
      ]
     },
     "metadata": {},
     "output_type": "display_data"
    }
   ],
   "source": [
    "#ознакомимся с таблицей Users\n",
    "users_df.info()\n",
    "print('-----------------------')\n",
    "print('Количество дубликатов:',users_df.duplicated().sum())\n",
    "print('-----------------------')\n",
    "print('Количество пропусков:',users_df.isna().sum().sum())\n",
    "display(users_df.head(10))"
   ]
  },
  {
   "cell_type": "code",
   "execution_count": 4,
   "metadata": {},
   "outputs": [],
   "source": [
    "# присвоим нашим тарифам кодовый вид\n",
    "tarif_dict = {'smart': 0, 'ultra': 1}\n",
    "\n",
    "users_df['tariff'] = users_df['tariff'].map(tarif_dict)\n",
    "\n",
    "users_df['tariff'] = pd.to_numeric(users_df['tariff'], downcast='integer') "
   ]
  },
  {
   "cell_type": "markdown",
   "metadata": {},
   "source": [
    "**Вывод по таблице**\n",
    "- надо заменить тип данных в стобце `churn_date` и `reg_date` на datetime"
   ]
  },
  {
   "cell_type": "code",
   "execution_count": 5,
   "metadata": {},
   "outputs": [
    {
     "name": "stdout",
     "output_type": "stream",
     "text": [
      "<class 'pandas.core.frame.DataFrame'>\n",
      "RangeIndex: 149396 entries, 0 to 149395\n",
      "Data columns (total 5 columns):\n",
      " #   Column        Non-Null Count   Dtype  \n",
      "---  ------        --------------   -----  \n",
      " 0   Unnamed: 0    149396 non-null  int64  \n",
      " 1   id            149396 non-null  object \n",
      " 2   mb_used       149396 non-null  float64\n",
      " 3   session_date  149396 non-null  object \n",
      " 4   user_id       149396 non-null  int64  \n",
      "dtypes: float64(1), int64(2), object(2)\n",
      "memory usage: 5.7+ MB\n",
      "-----------------------\n",
      "Количество дубликатов: 0\n",
      "-----------------------\n",
      "Количество пропусков: 0\n"
     ]
    },
    {
     "data": {
      "text/html": [
       "<div>\n",
       "<style scoped>\n",
       "    .dataframe tbody tr th:only-of-type {\n",
       "        vertical-align: middle;\n",
       "    }\n",
       "\n",
       "    .dataframe tbody tr th {\n",
       "        vertical-align: top;\n",
       "    }\n",
       "\n",
       "    .dataframe thead th {\n",
       "        text-align: right;\n",
       "    }\n",
       "</style>\n",
       "<table border=\"1\" class=\"dataframe\">\n",
       "  <thead>\n",
       "    <tr style=\"text-align: right;\">\n",
       "      <th></th>\n",
       "      <th>Unnamed: 0</th>\n",
       "      <th>id</th>\n",
       "      <th>mb_used</th>\n",
       "      <th>session_date</th>\n",
       "      <th>user_id</th>\n",
       "    </tr>\n",
       "  </thead>\n",
       "  <tbody>\n",
       "    <tr>\n",
       "      <th>0</th>\n",
       "      <td>0</td>\n",
       "      <td>1000_0</td>\n",
       "      <td>112.95</td>\n",
       "      <td>2018-11-25</td>\n",
       "      <td>1000</td>\n",
       "    </tr>\n",
       "    <tr>\n",
       "      <th>1</th>\n",
       "      <td>1</td>\n",
       "      <td>1000_1</td>\n",
       "      <td>1052.81</td>\n",
       "      <td>2018-09-07</td>\n",
       "      <td>1000</td>\n",
       "    </tr>\n",
       "    <tr>\n",
       "      <th>2</th>\n",
       "      <td>2</td>\n",
       "      <td>1000_2</td>\n",
       "      <td>1197.26</td>\n",
       "      <td>2018-06-25</td>\n",
       "      <td>1000</td>\n",
       "    </tr>\n",
       "    <tr>\n",
       "      <th>3</th>\n",
       "      <td>3</td>\n",
       "      <td>1000_3</td>\n",
       "      <td>550.27</td>\n",
       "      <td>2018-08-22</td>\n",
       "      <td>1000</td>\n",
       "    </tr>\n",
       "    <tr>\n",
       "      <th>4</th>\n",
       "      <td>4</td>\n",
       "      <td>1000_4</td>\n",
       "      <td>302.56</td>\n",
       "      <td>2018-09-24</td>\n",
       "      <td>1000</td>\n",
       "    </tr>\n",
       "    <tr>\n",
       "      <th>5</th>\n",
       "      <td>5</td>\n",
       "      <td>1000_5</td>\n",
       "      <td>399.97</td>\n",
       "      <td>2018-10-02</td>\n",
       "      <td>1000</td>\n",
       "    </tr>\n",
       "    <tr>\n",
       "      <th>6</th>\n",
       "      <td>6</td>\n",
       "      <td>1000_6</td>\n",
       "      <td>540.08</td>\n",
       "      <td>2018-09-07</td>\n",
       "      <td>1000</td>\n",
       "    </tr>\n",
       "    <tr>\n",
       "      <th>7</th>\n",
       "      <td>7</td>\n",
       "      <td>1000_7</td>\n",
       "      <td>415.70</td>\n",
       "      <td>2018-07-11</td>\n",
       "      <td>1000</td>\n",
       "    </tr>\n",
       "    <tr>\n",
       "      <th>8</th>\n",
       "      <td>8</td>\n",
       "      <td>1000_8</td>\n",
       "      <td>505.40</td>\n",
       "      <td>2018-10-08</td>\n",
       "      <td>1000</td>\n",
       "    </tr>\n",
       "    <tr>\n",
       "      <th>9</th>\n",
       "      <td>9</td>\n",
       "      <td>1000_9</td>\n",
       "      <td>345.54</td>\n",
       "      <td>2018-09-03</td>\n",
       "      <td>1000</td>\n",
       "    </tr>\n",
       "  </tbody>\n",
       "</table>\n",
       "</div>"
      ],
      "text/plain": [
       "   Unnamed: 0      id  mb_used session_date  user_id\n",
       "0           0  1000_0   112.95   2018-11-25     1000\n",
       "1           1  1000_1  1052.81   2018-09-07     1000\n",
       "2           2  1000_2  1197.26   2018-06-25     1000\n",
       "3           3  1000_3   550.27   2018-08-22     1000\n",
       "4           4  1000_4   302.56   2018-09-24     1000\n",
       "5           5  1000_5   399.97   2018-10-02     1000\n",
       "6           6  1000_6   540.08   2018-09-07     1000\n",
       "7           7  1000_7   415.70   2018-07-11     1000\n",
       "8           8  1000_8   505.40   2018-10-08     1000\n",
       "9           9  1000_9   345.54   2018-09-03     1000"
      ]
     },
     "metadata": {},
     "output_type": "display_data"
    }
   ],
   "source": [
    "#ознакомимся с таблицей Internet\n",
    "internet_df.info()\n",
    "print('-----------------------')\n",
    "print('Количество дубликатов:',internet_df.duplicated().sum())\n",
    "print('-----------------------')\n",
    "print('Количество пропусков:',internet_df.isna().sum().sum())\n",
    "display(internet_df.head(10))"
   ]
  },
  {
   "cell_type": "markdown",
   "metadata": {},
   "source": [
    "**Вывод по таблице**\n",
    "- надо изменить тип данных в столбце `session_date` на date time"
   ]
  },
  {
   "cell_type": "code",
   "execution_count": 6,
   "metadata": {},
   "outputs": [
    {
     "name": "stdout",
     "output_type": "stream",
     "text": [
      "<class 'pandas.core.frame.DataFrame'>\n",
      "RangeIndex: 123036 entries, 0 to 123035\n",
      "Data columns (total 3 columns):\n",
      " #   Column        Non-Null Count   Dtype \n",
      "---  ------        --------------   ----- \n",
      " 0   id            123036 non-null  object\n",
      " 1   message_date  123036 non-null  object\n",
      " 2   user_id       123036 non-null  int64 \n",
      "dtypes: int64(1), object(2)\n",
      "memory usage: 2.8+ MB\n",
      "-----------------------\n",
      "Количество дубликатов: 0\n",
      "-----------------------\n",
      "Количество пропусков: 0\n"
     ]
    },
    {
     "data": {
      "text/html": [
       "<div>\n",
       "<style scoped>\n",
       "    .dataframe tbody tr th:only-of-type {\n",
       "        vertical-align: middle;\n",
       "    }\n",
       "\n",
       "    .dataframe tbody tr th {\n",
       "        vertical-align: top;\n",
       "    }\n",
       "\n",
       "    .dataframe thead th {\n",
       "        text-align: right;\n",
       "    }\n",
       "</style>\n",
       "<table border=\"1\" class=\"dataframe\">\n",
       "  <thead>\n",
       "    <tr style=\"text-align: right;\">\n",
       "      <th></th>\n",
       "      <th>id</th>\n",
       "      <th>message_date</th>\n",
       "      <th>user_id</th>\n",
       "    </tr>\n",
       "  </thead>\n",
       "  <tbody>\n",
       "    <tr>\n",
       "      <th>0</th>\n",
       "      <td>1000_0</td>\n",
       "      <td>2018-06-27</td>\n",
       "      <td>1000</td>\n",
       "    </tr>\n",
       "    <tr>\n",
       "      <th>1</th>\n",
       "      <td>1000_1</td>\n",
       "      <td>2018-10-08</td>\n",
       "      <td>1000</td>\n",
       "    </tr>\n",
       "    <tr>\n",
       "      <th>2</th>\n",
       "      <td>1000_2</td>\n",
       "      <td>2018-08-04</td>\n",
       "      <td>1000</td>\n",
       "    </tr>\n",
       "    <tr>\n",
       "      <th>3</th>\n",
       "      <td>1000_3</td>\n",
       "      <td>2018-06-16</td>\n",
       "      <td>1000</td>\n",
       "    </tr>\n",
       "    <tr>\n",
       "      <th>4</th>\n",
       "      <td>1000_4</td>\n",
       "      <td>2018-12-05</td>\n",
       "      <td>1000</td>\n",
       "    </tr>\n",
       "    <tr>\n",
       "      <th>5</th>\n",
       "      <td>1000_5</td>\n",
       "      <td>2018-06-20</td>\n",
       "      <td>1000</td>\n",
       "    </tr>\n",
       "    <tr>\n",
       "      <th>6</th>\n",
       "      <td>1000_6</td>\n",
       "      <td>2018-11-19</td>\n",
       "      <td>1000</td>\n",
       "    </tr>\n",
       "    <tr>\n",
       "      <th>7</th>\n",
       "      <td>1000_7</td>\n",
       "      <td>2018-10-29</td>\n",
       "      <td>1000</td>\n",
       "    </tr>\n",
       "    <tr>\n",
       "      <th>8</th>\n",
       "      <td>1000_8</td>\n",
       "      <td>2018-06-25</td>\n",
       "      <td>1000</td>\n",
       "    </tr>\n",
       "    <tr>\n",
       "      <th>9</th>\n",
       "      <td>1000_9</td>\n",
       "      <td>2018-12-18</td>\n",
       "      <td>1000</td>\n",
       "    </tr>\n",
       "  </tbody>\n",
       "</table>\n",
       "</div>"
      ],
      "text/plain": [
       "       id message_date  user_id\n",
       "0  1000_0   2018-06-27     1000\n",
       "1  1000_1   2018-10-08     1000\n",
       "2  1000_2   2018-08-04     1000\n",
       "3  1000_3   2018-06-16     1000\n",
       "4  1000_4   2018-12-05     1000\n",
       "5  1000_5   2018-06-20     1000\n",
       "6  1000_6   2018-11-19     1000\n",
       "7  1000_7   2018-10-29     1000\n",
       "8  1000_8   2018-06-25     1000\n",
       "9  1000_9   2018-12-18     1000"
      ]
     },
     "metadata": {},
     "output_type": "display_data"
    }
   ],
   "source": [
    "#ознакомимся с таблицей Messages\n",
    "messages_df.info()\n",
    "print('-----------------------')\n",
    "print('Количество дубликатов:',messages_df.duplicated().sum())\n",
    "print('-----------------------')\n",
    "print('Количество пропусков:',messages_df.isna().sum().sum())\n",
    "display(messages_df.head(10))"
   ]
  },
  {
   "cell_type": "markdown",
   "metadata": {},
   "source": [
    "**Вывод по таблице**\n",
    "- надо заменить тип данных в столбце `message_date` на datetime"
   ]
  },
  {
   "cell_type": "code",
   "execution_count": 7,
   "metadata": {},
   "outputs": [
    {
     "name": "stdout",
     "output_type": "stream",
     "text": [
      "<class 'pandas.core.frame.DataFrame'>\n",
      "RangeIndex: 2 entries, 0 to 1\n",
      "Data columns (total 8 columns):\n",
      " #   Column                 Non-Null Count  Dtype \n",
      "---  ------                 --------------  ----- \n",
      " 0   messages_included      2 non-null      int64 \n",
      " 1   mb_per_month_included  2 non-null      int64 \n",
      " 2   minutes_included       2 non-null      int64 \n",
      " 3   rub_monthly_fee        2 non-null      int64 \n",
      " 4   rub_per_gb             2 non-null      int64 \n",
      " 5   rub_per_message        2 non-null      int64 \n",
      " 6   rub_per_minute         2 non-null      int64 \n",
      " 7   tariff_name            2 non-null      object\n",
      "dtypes: int64(7), object(1)\n",
      "memory usage: 256.0+ bytes\n",
      "-----------------------\n",
      "Количество дубликатов: 0\n",
      "-----------------------\n",
      "Количество пропусков: 0\n"
     ]
    },
    {
     "data": {
      "text/html": [
       "<div>\n",
       "<style scoped>\n",
       "    .dataframe tbody tr th:only-of-type {\n",
       "        vertical-align: middle;\n",
       "    }\n",
       "\n",
       "    .dataframe tbody tr th {\n",
       "        vertical-align: top;\n",
       "    }\n",
       "\n",
       "    .dataframe thead th {\n",
       "        text-align: right;\n",
       "    }\n",
       "</style>\n",
       "<table border=\"1\" class=\"dataframe\">\n",
       "  <thead>\n",
       "    <tr style=\"text-align: right;\">\n",
       "      <th></th>\n",
       "      <th>messages_included</th>\n",
       "      <th>mb_per_month_included</th>\n",
       "      <th>minutes_included</th>\n",
       "      <th>rub_monthly_fee</th>\n",
       "      <th>rub_per_gb</th>\n",
       "      <th>rub_per_message</th>\n",
       "      <th>rub_per_minute</th>\n",
       "      <th>tariff_name</th>\n",
       "    </tr>\n",
       "  </thead>\n",
       "  <tbody>\n",
       "    <tr>\n",
       "      <th>0</th>\n",
       "      <td>50</td>\n",
       "      <td>15360</td>\n",
       "      <td>500</td>\n",
       "      <td>550</td>\n",
       "      <td>200</td>\n",
       "      <td>3</td>\n",
       "      <td>3</td>\n",
       "      <td>smart</td>\n",
       "    </tr>\n",
       "    <tr>\n",
       "      <th>1</th>\n",
       "      <td>1000</td>\n",
       "      <td>30720</td>\n",
       "      <td>3000</td>\n",
       "      <td>1950</td>\n",
       "      <td>150</td>\n",
       "      <td>1</td>\n",
       "      <td>1</td>\n",
       "      <td>ultra</td>\n",
       "    </tr>\n",
       "  </tbody>\n",
       "</table>\n",
       "</div>"
      ],
      "text/plain": [
       "   messages_included  mb_per_month_included  minutes_included  \\\n",
       "0                 50                  15360               500   \n",
       "1               1000                  30720              3000   \n",
       "\n",
       "   rub_monthly_fee  rub_per_gb  rub_per_message  rub_per_minute tariff_name  \n",
       "0              550         200                3               3       smart  \n",
       "1             1950         150                1               1       ultra  "
      ]
     },
     "metadata": {},
     "output_type": "display_data"
    }
   ],
   "source": [
    "#ознакомимся с таблицей Tariffs\n",
    "tariffs_df.info()\n",
    "print('-----------------------')\n",
    "print('Количество дубликатов:',tariffs_df.duplicated().sum())\n",
    "print('-----------------------')\n",
    "print('Количество пропусков:',tariffs_df.isna().sum().sum())\n",
    "display(tariffs_df.head(10))"
   ]
  },
  {
   "cell_type": "code",
   "execution_count": 8,
   "metadata": {},
   "outputs": [
    {
     "name": "stdout",
     "output_type": "stream",
     "text": [
      "<class 'pandas.core.frame.DataFrame'>\n",
      "RangeIndex: 202607 entries, 0 to 202606\n",
      "Data columns (total 4 columns):\n",
      " #   Column     Non-Null Count   Dtype  \n",
      "---  ------     --------------   -----  \n",
      " 0   id         202607 non-null  object \n",
      " 1   call_date  202607 non-null  object \n",
      " 2   duration   202607 non-null  float64\n",
      " 3   user_id    202607 non-null  int64  \n",
      "dtypes: float64(1), int64(1), object(2)\n",
      "memory usage: 6.2+ MB\n",
      "-----------------------\n",
      "Количество дубликатов: 0\n",
      "-----------------------\n",
      "Количество пропусков: 0\n"
     ]
    },
    {
     "data": {
      "text/html": [
       "<div>\n",
       "<style scoped>\n",
       "    .dataframe tbody tr th:only-of-type {\n",
       "        vertical-align: middle;\n",
       "    }\n",
       "\n",
       "    .dataframe tbody tr th {\n",
       "        vertical-align: top;\n",
       "    }\n",
       "\n",
       "    .dataframe thead th {\n",
       "        text-align: right;\n",
       "    }\n",
       "</style>\n",
       "<table border=\"1\" class=\"dataframe\">\n",
       "  <thead>\n",
       "    <tr style=\"text-align: right;\">\n",
       "      <th></th>\n",
       "      <th>id</th>\n",
       "      <th>call_date</th>\n",
       "      <th>duration</th>\n",
       "      <th>user_id</th>\n",
       "    </tr>\n",
       "  </thead>\n",
       "  <tbody>\n",
       "    <tr>\n",
       "      <th>0</th>\n",
       "      <td>1000_0</td>\n",
       "      <td>2018-07-25</td>\n",
       "      <td>0.00</td>\n",
       "      <td>1000</td>\n",
       "    </tr>\n",
       "    <tr>\n",
       "      <th>1</th>\n",
       "      <td>1000_1</td>\n",
       "      <td>2018-08-17</td>\n",
       "      <td>0.00</td>\n",
       "      <td>1000</td>\n",
       "    </tr>\n",
       "    <tr>\n",
       "      <th>2</th>\n",
       "      <td>1000_2</td>\n",
       "      <td>2018-06-11</td>\n",
       "      <td>2.85</td>\n",
       "      <td>1000</td>\n",
       "    </tr>\n",
       "    <tr>\n",
       "      <th>3</th>\n",
       "      <td>1000_3</td>\n",
       "      <td>2018-09-21</td>\n",
       "      <td>13.80</td>\n",
       "      <td>1000</td>\n",
       "    </tr>\n",
       "    <tr>\n",
       "      <th>4</th>\n",
       "      <td>1000_4</td>\n",
       "      <td>2018-12-15</td>\n",
       "      <td>5.18</td>\n",
       "      <td>1000</td>\n",
       "    </tr>\n",
       "    <tr>\n",
       "      <th>5</th>\n",
       "      <td>1000_5</td>\n",
       "      <td>2018-11-02</td>\n",
       "      <td>0.00</td>\n",
       "      <td>1000</td>\n",
       "    </tr>\n",
       "    <tr>\n",
       "      <th>6</th>\n",
       "      <td>1000_6</td>\n",
       "      <td>2018-10-18</td>\n",
       "      <td>0.00</td>\n",
       "      <td>1000</td>\n",
       "    </tr>\n",
       "    <tr>\n",
       "      <th>7</th>\n",
       "      <td>1000_7</td>\n",
       "      <td>2018-08-22</td>\n",
       "      <td>18.31</td>\n",
       "      <td>1000</td>\n",
       "    </tr>\n",
       "    <tr>\n",
       "      <th>8</th>\n",
       "      <td>1000_8</td>\n",
       "      <td>2018-09-15</td>\n",
       "      <td>18.44</td>\n",
       "      <td>1000</td>\n",
       "    </tr>\n",
       "    <tr>\n",
       "      <th>9</th>\n",
       "      <td>1000_9</td>\n",
       "      <td>2018-08-15</td>\n",
       "      <td>0.00</td>\n",
       "      <td>1000</td>\n",
       "    </tr>\n",
       "  </tbody>\n",
       "</table>\n",
       "</div>"
      ],
      "text/plain": [
       "       id   call_date  duration  user_id\n",
       "0  1000_0  2018-07-25      0.00     1000\n",
       "1  1000_1  2018-08-17      0.00     1000\n",
       "2  1000_2  2018-06-11      2.85     1000\n",
       "3  1000_3  2018-09-21     13.80     1000\n",
       "4  1000_4  2018-12-15      5.18     1000\n",
       "5  1000_5  2018-11-02      0.00     1000\n",
       "6  1000_6  2018-10-18      0.00     1000\n",
       "7  1000_7  2018-08-22     18.31     1000\n",
       "8  1000_8  2018-09-15     18.44     1000\n",
       "9  1000_9  2018-08-15      0.00     1000"
      ]
     },
     "metadata": {},
     "output_type": "display_data"
    }
   ],
   "source": [
    "#ознакомимся с таблицей Calls\n",
    "calls_df.info()\n",
    "print('-----------------------')\n",
    "print('Количество дубликатов:',calls_df.duplicated().sum())\n",
    "print('-----------------------')\n",
    "print('Количество пропусков:',calls_df.isna().sum().sum())\n",
    "display(calls_df.head(10))"
   ]
  },
  {
   "cell_type": "markdown",
   "metadata": {},
   "source": [
    "**Вывод по таблице**\n",
    "- надо изменить тип данных в столбце `call_date` на datetime\n",
    "- надо округлить в большую сторону значения в столбце `duration`"
   ]
  },
  {
   "cell_type": "markdown",
   "metadata": {},
   "source": [
    "### Вывод\n",
    "\n",
    "В данных отсутствуют пропуски, кроме столбца `churn_date` в таблице `users`, но эти пропуски являются преднамеренными и несут для нас ценность.\n",
    "\n",
    "Так же все колонки имеют адекватные названия, которые не надо изменять. Хотя, в таблице `internet` есть колонка `Unnamed: 0`, но она лишь дублирует индекс и не помешает нам в анализе, поэтому оставлю ее в первоначальном виде.\n",
    "\n",
    "Есть ошибки в типах данных, которые надо исправить."
   ]
  },
  {
   "cell_type": "markdown",
   "metadata": {},
   "source": [
    "## Предобработка данных"
   ]
  },
  {
   "cell_type": "markdown",
   "metadata": {},
   "source": [
    "### Работа с таблицей `users`"
   ]
  },
  {
   "cell_type": "code",
   "execution_count": 9,
   "metadata": {},
   "outputs": [],
   "source": [
    "#изменим тип данных в столбцах\n",
    "users_df['reg_date'] = pd.to_datetime(users_df['reg_date'], format='%Y-%m-%d')\n",
    "users_df['churn_date'] = pd.to_datetime(users_df['churn_date'], format='%Y-%m-%d')"
   ]
  },
  {
   "cell_type": "code",
   "execution_count": 10,
   "metadata": {},
   "outputs": [
    {
     "name": "stdout",
     "output_type": "stream",
     "text": [
      "<class 'pandas.core.frame.DataFrame'>\n",
      "RangeIndex: 500 entries, 0 to 499\n",
      "Data columns (total 8 columns):\n",
      " #   Column      Non-Null Count  Dtype         \n",
      "---  ------      --------------  -----         \n",
      " 0   user_id     500 non-null    int64         \n",
      " 1   age         500 non-null    int64         \n",
      " 2   churn_date  38 non-null     datetime64[ns]\n",
      " 3   city        500 non-null    object        \n",
      " 4   first_name  500 non-null    object        \n",
      " 5   last_name   500 non-null    object        \n",
      " 6   reg_date    500 non-null    datetime64[ns]\n",
      " 7   tariff      500 non-null    int8          \n",
      "dtypes: datetime64[ns](2), int64(2), int8(1), object(3)\n",
      "memory usage: 28.0+ KB\n"
     ]
    }
   ],
   "source": [
    "users_df.info()"
   ]
  },
  {
   "cell_type": "markdown",
   "metadata": {},
   "source": [
    "### Работа с таблицей `calls`"
   ]
  },
  {
   "cell_type": "code",
   "execution_count": 11,
   "metadata": {},
   "outputs": [],
   "source": [
    "#изменим тип данных в столбце\n",
    "calls_df['call_date'] = pd.to_datetime(calls_df['call_date'], format='%Y-%m-%d')"
   ]
  },
  {
   "cell_type": "code",
   "execution_count": 12,
   "metadata": {
    "scrolled": false
   },
   "outputs": [
    {
     "data": {
      "text/html": [
       "<div>\n",
       "<style scoped>\n",
       "    .dataframe tbody tr th:only-of-type {\n",
       "        vertical-align: middle;\n",
       "    }\n",
       "\n",
       "    .dataframe tbody tr th {\n",
       "        vertical-align: top;\n",
       "    }\n",
       "\n",
       "    .dataframe thead th {\n",
       "        text-align: right;\n",
       "    }\n",
       "</style>\n",
       "<table border=\"1\" class=\"dataframe\">\n",
       "  <thead>\n",
       "    <tr style=\"text-align: right;\">\n",
       "      <th></th>\n",
       "      <th>id</th>\n",
       "      <th>call_date</th>\n",
       "      <th>duration</th>\n",
       "      <th>user_id</th>\n",
       "    </tr>\n",
       "  </thead>\n",
       "  <tbody>\n",
       "    <tr>\n",
       "      <th>0</th>\n",
       "      <td>1000_0</td>\n",
       "      <td>2018-07-25</td>\n",
       "      <td>0</td>\n",
       "      <td>1000</td>\n",
       "    </tr>\n",
       "    <tr>\n",
       "      <th>1</th>\n",
       "      <td>1000_1</td>\n",
       "      <td>2018-08-17</td>\n",
       "      <td>0</td>\n",
       "      <td>1000</td>\n",
       "    </tr>\n",
       "    <tr>\n",
       "      <th>2</th>\n",
       "      <td>1000_2</td>\n",
       "      <td>2018-06-11</td>\n",
       "      <td>3</td>\n",
       "      <td>1000</td>\n",
       "    </tr>\n",
       "    <tr>\n",
       "      <th>3</th>\n",
       "      <td>1000_3</td>\n",
       "      <td>2018-09-21</td>\n",
       "      <td>14</td>\n",
       "      <td>1000</td>\n",
       "    </tr>\n",
       "    <tr>\n",
       "      <th>4</th>\n",
       "      <td>1000_4</td>\n",
       "      <td>2018-12-15</td>\n",
       "      <td>6</td>\n",
       "      <td>1000</td>\n",
       "    </tr>\n",
       "    <tr>\n",
       "      <th>5</th>\n",
       "      <td>1000_5</td>\n",
       "      <td>2018-11-02</td>\n",
       "      <td>0</td>\n",
       "      <td>1000</td>\n",
       "    </tr>\n",
       "    <tr>\n",
       "      <th>6</th>\n",
       "      <td>1000_6</td>\n",
       "      <td>2018-10-18</td>\n",
       "      <td>0</td>\n",
       "      <td>1000</td>\n",
       "    </tr>\n",
       "    <tr>\n",
       "      <th>7</th>\n",
       "      <td>1000_7</td>\n",
       "      <td>2018-08-22</td>\n",
       "      <td>19</td>\n",
       "      <td>1000</td>\n",
       "    </tr>\n",
       "    <tr>\n",
       "      <th>8</th>\n",
       "      <td>1000_8</td>\n",
       "      <td>2018-09-15</td>\n",
       "      <td>19</td>\n",
       "      <td>1000</td>\n",
       "    </tr>\n",
       "    <tr>\n",
       "      <th>9</th>\n",
       "      <td>1000_9</td>\n",
       "      <td>2018-08-15</td>\n",
       "      <td>0</td>\n",
       "      <td>1000</td>\n",
       "    </tr>\n",
       "  </tbody>\n",
       "</table>\n",
       "</div>"
      ],
      "text/plain": [
       "       id  call_date  duration  user_id\n",
       "0  1000_0 2018-07-25         0     1000\n",
       "1  1000_1 2018-08-17         0     1000\n",
       "2  1000_2 2018-06-11         3     1000\n",
       "3  1000_3 2018-09-21        14     1000\n",
       "4  1000_4 2018-12-15         6     1000\n",
       "5  1000_5 2018-11-02         0     1000\n",
       "6  1000_6 2018-10-18         0     1000\n",
       "7  1000_7 2018-08-22        19     1000\n",
       "8  1000_8 2018-09-15        19     1000\n",
       "9  1000_9 2018-08-15         0     1000"
      ]
     },
     "execution_count": 12,
     "metadata": {},
     "output_type": "execute_result"
    }
   ],
   "source": [
    "#округлим большую сторону\n",
    "calls_df['duration'] = calls_df['duration'].apply(math.ceil)\n",
    "calls_df.head(10)"
   ]
  },
  {
   "cell_type": "markdown",
   "metadata": {},
   "source": [
    "### Работа с таблицей `messgaes`"
   ]
  },
  {
   "cell_type": "code",
   "execution_count": 13,
   "metadata": {},
   "outputs": [],
   "source": [
    "#изменим тип данных\n",
    "messages_df['message_date'] = pd.to_datetime(messages_df['message_date'], format='%Y-%m-%d')"
   ]
  },
  {
   "cell_type": "code",
   "execution_count": 14,
   "metadata": {},
   "outputs": [
    {
     "name": "stdout",
     "output_type": "stream",
     "text": [
      "<class 'pandas.core.frame.DataFrame'>\n",
      "RangeIndex: 123036 entries, 0 to 123035\n",
      "Data columns (total 3 columns):\n",
      " #   Column        Non-Null Count   Dtype         \n",
      "---  ------        --------------   -----         \n",
      " 0   id            123036 non-null  object        \n",
      " 1   message_date  123036 non-null  datetime64[ns]\n",
      " 2   user_id       123036 non-null  int64         \n",
      "dtypes: datetime64[ns](1), int64(1), object(1)\n",
      "memory usage: 2.8+ MB\n"
     ]
    }
   ],
   "source": [
    "messages_df.info()"
   ]
  },
  {
   "cell_type": "markdown",
   "metadata": {},
   "source": [
    "### Работа с таблицей `internet`"
   ]
  },
  {
   "cell_type": "code",
   "execution_count": 15,
   "metadata": {},
   "outputs": [],
   "source": [
    "#изменим тип данных\n",
    "internet_df['session_date'] = pd.to_datetime(internet_df['session_date'], format='%Y-%m-%d')"
   ]
  },
  {
   "cell_type": "markdown",
   "metadata": {},
   "source": [
    "### Вывод\n",
    "\n",
    "Все необходимые данные были преобразованы в нужный формат и все необходимые значения были округлены в большую сторону для корректности дальнейших расчетов."
   ]
  },
  {
   "cell_type": "markdown",
   "metadata": {},
   "source": [
    "## Анализ данных"
   ]
  },
  {
   "cell_type": "markdown",
   "metadata": {},
   "source": [
    "### Количество сделанных звонков и израсходованных минут разговора по месяцам"
   ]
  },
  {
   "cell_type": "code",
   "execution_count": 16,
   "metadata": {},
   "outputs": [
    {
     "data": {
      "text/html": [
       "<div>\n",
       "<style scoped>\n",
       "    .dataframe tbody tr th:only-of-type {\n",
       "        vertical-align: middle;\n",
       "    }\n",
       "\n",
       "    .dataframe tbody tr th {\n",
       "        vertical-align: top;\n",
       "    }\n",
       "\n",
       "    .dataframe thead th {\n",
       "        text-align: right;\n",
       "    }\n",
       "</style>\n",
       "<table border=\"1\" class=\"dataframe\">\n",
       "  <thead>\n",
       "    <tr style=\"text-align: right;\">\n",
       "      <th>call_month</th>\n",
       "      <th>1</th>\n",
       "      <th>2</th>\n",
       "      <th>3</th>\n",
       "      <th>4</th>\n",
       "      <th>5</th>\n",
       "      <th>6</th>\n",
       "      <th>7</th>\n",
       "      <th>8</th>\n",
       "      <th>9</th>\n",
       "      <th>10</th>\n",
       "      <th>11</th>\n",
       "      <th>12</th>\n",
       "    </tr>\n",
       "    <tr>\n",
       "      <th>user_id</th>\n",
       "      <th></th>\n",
       "      <th></th>\n",
       "      <th></th>\n",
       "      <th></th>\n",
       "      <th></th>\n",
       "      <th></th>\n",
       "      <th></th>\n",
       "      <th></th>\n",
       "      <th></th>\n",
       "      <th></th>\n",
       "      <th></th>\n",
       "      <th></th>\n",
       "    </tr>\n",
       "  </thead>\n",
       "  <tbody>\n",
       "    <tr>\n",
       "      <th>1000</th>\n",
       "      <td>NaN</td>\n",
       "      <td>NaN</td>\n",
       "      <td>NaN</td>\n",
       "      <td>NaN</td>\n",
       "      <td>22.0</td>\n",
       "      <td>43.0</td>\n",
       "      <td>47.0</td>\n",
       "      <td>52.0</td>\n",
       "      <td>58.0</td>\n",
       "      <td>57.0</td>\n",
       "      <td>43.0</td>\n",
       "      <td>46.0</td>\n",
       "    </tr>\n",
       "    <tr>\n",
       "      <th>1001</th>\n",
       "      <td>NaN</td>\n",
       "      <td>NaN</td>\n",
       "      <td>NaN</td>\n",
       "      <td>NaN</td>\n",
       "      <td>NaN</td>\n",
       "      <td>NaN</td>\n",
       "      <td>NaN</td>\n",
       "      <td>NaN</td>\n",
       "      <td>NaN</td>\n",
       "      <td>NaN</td>\n",
       "      <td>59.0</td>\n",
       "      <td>63.0</td>\n",
       "    </tr>\n",
       "    <tr>\n",
       "      <th>1002</th>\n",
       "      <td>NaN</td>\n",
       "      <td>NaN</td>\n",
       "      <td>NaN</td>\n",
       "      <td>NaN</td>\n",
       "      <td>NaN</td>\n",
       "      <td>15.0</td>\n",
       "      <td>26.0</td>\n",
       "      <td>42.0</td>\n",
       "      <td>36.0</td>\n",
       "      <td>33.0</td>\n",
       "      <td>32.0</td>\n",
       "      <td>33.0</td>\n",
       "    </tr>\n",
       "    <tr>\n",
       "      <th>1003</th>\n",
       "      <td>NaN</td>\n",
       "      <td>NaN</td>\n",
       "      <td>NaN</td>\n",
       "      <td>NaN</td>\n",
       "      <td>NaN</td>\n",
       "      <td>NaN</td>\n",
       "      <td>NaN</td>\n",
       "      <td>55.0</td>\n",
       "      <td>134.0</td>\n",
       "      <td>108.0</td>\n",
       "      <td>115.0</td>\n",
       "      <td>108.0</td>\n",
       "    </tr>\n",
       "    <tr>\n",
       "      <th>1004</th>\n",
       "      <td>NaN</td>\n",
       "      <td>NaN</td>\n",
       "      <td>NaN</td>\n",
       "      <td>NaN</td>\n",
       "      <td>9.0</td>\n",
       "      <td>31.0</td>\n",
       "      <td>22.0</td>\n",
       "      <td>19.0</td>\n",
       "      <td>26.0</td>\n",
       "      <td>29.0</td>\n",
       "      <td>19.0</td>\n",
       "      <td>21.0</td>\n",
       "    </tr>\n",
       "    <tr>\n",
       "      <th>1005</th>\n",
       "      <td>15.0</td>\n",
       "      <td>69.0</td>\n",
       "      <td>77.0</td>\n",
       "      <td>101.0</td>\n",
       "      <td>73.0</td>\n",
       "      <td>80.0</td>\n",
       "      <td>77.0</td>\n",
       "      <td>71.0</td>\n",
       "      <td>66.0</td>\n",
       "      <td>100.0</td>\n",
       "      <td>75.0</td>\n",
       "      <td>84.0</td>\n",
       "    </tr>\n",
       "    <tr>\n",
       "      <th>1006</th>\n",
       "      <td>NaN</td>\n",
       "      <td>3.0</td>\n",
       "      <td>46.0</td>\n",
       "      <td>47.0</td>\n",
       "      <td>56.0</td>\n",
       "      <td>53.0</td>\n",
       "      <td>49.0</td>\n",
       "      <td>42.0</td>\n",
       "      <td>54.0</td>\n",
       "      <td>44.0</td>\n",
       "      <td>62.0</td>\n",
       "      <td>50.0</td>\n",
       "    </tr>\n",
       "    <tr>\n",
       "      <th>1007</th>\n",
       "      <td>NaN</td>\n",
       "      <td>NaN</td>\n",
       "      <td>NaN</td>\n",
       "      <td>25.0</td>\n",
       "      <td>67.0</td>\n",
       "      <td>68.0</td>\n",
       "      <td>69.0</td>\n",
       "      <td>74.0</td>\n",
       "      <td>87.0</td>\n",
       "      <td>69.0</td>\n",
       "      <td>81.0</td>\n",
       "      <td>72.0</td>\n",
       "    </tr>\n",
       "    <tr>\n",
       "      <th>1008</th>\n",
       "      <td>NaN</td>\n",
       "      <td>NaN</td>\n",
       "      <td>NaN</td>\n",
       "      <td>NaN</td>\n",
       "      <td>NaN</td>\n",
       "      <td>NaN</td>\n",
       "      <td>NaN</td>\n",
       "      <td>NaN</td>\n",
       "      <td>NaN</td>\n",
       "      <td>NaN</td>\n",
       "      <td>NaN</td>\n",
       "      <td>52.0</td>\n",
       "    </tr>\n",
       "    <tr>\n",
       "      <th>1009</th>\n",
       "      <td>NaN</td>\n",
       "      <td>NaN</td>\n",
       "      <td>13.0</td>\n",
       "      <td>39.0</td>\n",
       "      <td>28.0</td>\n",
       "      <td>31.0</td>\n",
       "      <td>22.0</td>\n",
       "      <td>33.0</td>\n",
       "      <td>25.0</td>\n",
       "      <td>28.0</td>\n",
       "      <td>39.0</td>\n",
       "      <td>32.0</td>\n",
       "    </tr>\n",
       "  </tbody>\n",
       "</table>\n",
       "</div>"
      ],
      "text/plain": [
       "call_month    1     2     3      4     5     6     7     8      9      10  \\\n",
       "user_id                                                                     \n",
       "1000         NaN   NaN   NaN    NaN  22.0  43.0  47.0  52.0   58.0   57.0   \n",
       "1001         NaN   NaN   NaN    NaN   NaN   NaN   NaN   NaN    NaN    NaN   \n",
       "1002         NaN   NaN   NaN    NaN   NaN  15.0  26.0  42.0   36.0   33.0   \n",
       "1003         NaN   NaN   NaN    NaN   NaN   NaN   NaN  55.0  134.0  108.0   \n",
       "1004         NaN   NaN   NaN    NaN   9.0  31.0  22.0  19.0   26.0   29.0   \n",
       "1005        15.0  69.0  77.0  101.0  73.0  80.0  77.0  71.0   66.0  100.0   \n",
       "1006         NaN   3.0  46.0   47.0  56.0  53.0  49.0  42.0   54.0   44.0   \n",
       "1007         NaN   NaN   NaN   25.0  67.0  68.0  69.0  74.0   87.0   69.0   \n",
       "1008         NaN   NaN   NaN    NaN   NaN   NaN   NaN   NaN    NaN    NaN   \n",
       "1009         NaN   NaN  13.0   39.0  28.0  31.0  22.0  33.0   25.0   28.0   \n",
       "\n",
       "call_month     11     12  \n",
       "user_id                   \n",
       "1000         43.0   46.0  \n",
       "1001         59.0   63.0  \n",
       "1002         32.0   33.0  \n",
       "1003        115.0  108.0  \n",
       "1004         19.0   21.0  \n",
       "1005         75.0   84.0  \n",
       "1006         62.0   50.0  \n",
       "1007         81.0   72.0  \n",
       "1008          NaN   52.0  \n",
       "1009         39.0   32.0  "
      ]
     },
     "metadata": {},
     "output_type": "display_data"
    }
   ],
   "source": [
    "#создадим колонку с номером месяца\n",
    "calls_df['call_month'] = calls_df['call_date'].dt.month\n",
    "\n",
    "#создадим новую таблицу с разбивкой по месяцам и значениями за каждый месяц по количеству звонков\n",
    "calls_month = calls_df.pivot_table(index = 'user_id', columns = 'call_month', values = 'id', aggfunc = 'count')\n",
    "display(calls_month.head(10))"
   ]
  },
  {
   "cell_type": "code",
   "execution_count": 17,
   "metadata": {},
   "outputs": [
    {
     "data": {
      "text/html": [
       "<div>\n",
       "<style scoped>\n",
       "    .dataframe tbody tr th:only-of-type {\n",
       "        vertical-align: middle;\n",
       "    }\n",
       "\n",
       "    .dataframe tbody tr th {\n",
       "        vertical-align: top;\n",
       "    }\n",
       "\n",
       "    .dataframe thead th {\n",
       "        text-align: right;\n",
       "    }\n",
       "</style>\n",
       "<table border=\"1\" class=\"dataframe\">\n",
       "  <thead>\n",
       "    <tr style=\"text-align: right;\">\n",
       "      <th>call_month</th>\n",
       "      <th>1</th>\n",
       "      <th>2</th>\n",
       "      <th>3</th>\n",
       "      <th>4</th>\n",
       "      <th>5</th>\n",
       "      <th>6</th>\n",
       "      <th>7</th>\n",
       "      <th>8</th>\n",
       "      <th>9</th>\n",
       "      <th>10</th>\n",
       "      <th>11</th>\n",
       "      <th>12</th>\n",
       "    </tr>\n",
       "    <tr>\n",
       "      <th>user_id</th>\n",
       "      <th></th>\n",
       "      <th></th>\n",
       "      <th></th>\n",
       "      <th></th>\n",
       "      <th></th>\n",
       "      <th></th>\n",
       "      <th></th>\n",
       "      <th></th>\n",
       "      <th></th>\n",
       "      <th></th>\n",
       "      <th></th>\n",
       "      <th></th>\n",
       "    </tr>\n",
       "  </thead>\n",
       "  <tbody>\n",
       "    <tr>\n",
       "      <th>1000</th>\n",
       "      <td>NaN</td>\n",
       "      <td>NaN</td>\n",
       "      <td>NaN</td>\n",
       "      <td>NaN</td>\n",
       "      <td>159.0</td>\n",
       "      <td>172.0</td>\n",
       "      <td>340.0</td>\n",
       "      <td>408.0</td>\n",
       "      <td>466.0</td>\n",
       "      <td>350.0</td>\n",
       "      <td>338.0</td>\n",
       "      <td>333.0</td>\n",
       "    </tr>\n",
       "    <tr>\n",
       "      <th>1001</th>\n",
       "      <td>NaN</td>\n",
       "      <td>NaN</td>\n",
       "      <td>NaN</td>\n",
       "      <td>NaN</td>\n",
       "      <td>NaN</td>\n",
       "      <td>NaN</td>\n",
       "      <td>NaN</td>\n",
       "      <td>NaN</td>\n",
       "      <td>NaN</td>\n",
       "      <td>NaN</td>\n",
       "      <td>430.0</td>\n",
       "      <td>414.0</td>\n",
       "    </tr>\n",
       "    <tr>\n",
       "      <th>1002</th>\n",
       "      <td>NaN</td>\n",
       "      <td>NaN</td>\n",
       "      <td>NaN</td>\n",
       "      <td>NaN</td>\n",
       "      <td>NaN</td>\n",
       "      <td>117.0</td>\n",
       "      <td>214.0</td>\n",
       "      <td>289.0</td>\n",
       "      <td>206.0</td>\n",
       "      <td>212.0</td>\n",
       "      <td>243.0</td>\n",
       "      <td>236.0</td>\n",
       "    </tr>\n",
       "    <tr>\n",
       "      <th>1003</th>\n",
       "      <td>NaN</td>\n",
       "      <td>NaN</td>\n",
       "      <td>NaN</td>\n",
       "      <td>NaN</td>\n",
       "      <td>NaN</td>\n",
       "      <td>NaN</td>\n",
       "      <td>NaN</td>\n",
       "      <td>380.0</td>\n",
       "      <td>961.0</td>\n",
       "      <td>855.0</td>\n",
       "      <td>824.0</td>\n",
       "      <td>802.0</td>\n",
       "    </tr>\n",
       "    <tr>\n",
       "      <th>1004</th>\n",
       "      <td>NaN</td>\n",
       "      <td>NaN</td>\n",
       "      <td>NaN</td>\n",
       "      <td>NaN</td>\n",
       "      <td>35.0</td>\n",
       "      <td>171.0</td>\n",
       "      <td>135.0</td>\n",
       "      <td>137.0</td>\n",
       "      <td>117.0</td>\n",
       "      <td>145.0</td>\n",
       "      <td>117.0</td>\n",
       "      <td>130.0</td>\n",
       "    </tr>\n",
       "    <tr>\n",
       "      <th>1005</th>\n",
       "      <td>95.0</td>\n",
       "      <td>456.0</td>\n",
       "      <td>606.0</td>\n",
       "      <td>712.0</td>\n",
       "      <td>595.0</td>\n",
       "      <td>612.0</td>\n",
       "      <td>569.0</td>\n",
       "      <td>619.0</td>\n",
       "      <td>479.0</td>\n",
       "      <td>723.0</td>\n",
       "      <td>547.0</td>\n",
       "      <td>592.0</td>\n",
       "    </tr>\n",
       "    <tr>\n",
       "      <th>1006</th>\n",
       "      <td>NaN</td>\n",
       "      <td>42.0</td>\n",
       "      <td>286.0</td>\n",
       "      <td>356.0</td>\n",
       "      <td>370.0</td>\n",
       "      <td>478.0</td>\n",
       "      <td>316.0</td>\n",
       "      <td>275.0</td>\n",
       "      <td>360.0</td>\n",
       "      <td>267.0</td>\n",
       "      <td>372.0</td>\n",
       "      <td>379.0</td>\n",
       "    </tr>\n",
       "    <tr>\n",
       "      <th>1007</th>\n",
       "      <td>NaN</td>\n",
       "      <td>NaN</td>\n",
       "      <td>NaN</td>\n",
       "      <td>198.0</td>\n",
       "      <td>480.0</td>\n",
       "      <td>545.0</td>\n",
       "      <td>577.0</td>\n",
       "      <td>458.0</td>\n",
       "      <td>655.0</td>\n",
       "      <td>465.0</td>\n",
       "      <td>580.0</td>\n",
       "      <td>421.0</td>\n",
       "    </tr>\n",
       "    <tr>\n",
       "      <th>1008</th>\n",
       "      <td>NaN</td>\n",
       "      <td>NaN</td>\n",
       "      <td>NaN</td>\n",
       "      <td>NaN</td>\n",
       "      <td>NaN</td>\n",
       "      <td>NaN</td>\n",
       "      <td>NaN</td>\n",
       "      <td>NaN</td>\n",
       "      <td>NaN</td>\n",
       "      <td>NaN</td>\n",
       "      <td>NaN</td>\n",
       "      <td>339.0</td>\n",
       "    </tr>\n",
       "    <tr>\n",
       "      <th>1009</th>\n",
       "      <td>NaN</td>\n",
       "      <td>NaN</td>\n",
       "      <td>109.0</td>\n",
       "      <td>324.0</td>\n",
       "      <td>170.0</td>\n",
       "      <td>289.0</td>\n",
       "      <td>183.0</td>\n",
       "      <td>249.0</td>\n",
       "      <td>133.0</td>\n",
       "      <td>213.0</td>\n",
       "      <td>290.0</td>\n",
       "      <td>229.0</td>\n",
       "    </tr>\n",
       "  </tbody>\n",
       "</table>\n",
       "</div>"
      ],
      "text/plain": [
       "call_month    1      2      3      4      5      6      7      8      9   \\\n",
       "user_id                                                                    \n",
       "1000         NaN    NaN    NaN    NaN  159.0  172.0  340.0  408.0  466.0   \n",
       "1001         NaN    NaN    NaN    NaN    NaN    NaN    NaN    NaN    NaN   \n",
       "1002         NaN    NaN    NaN    NaN    NaN  117.0  214.0  289.0  206.0   \n",
       "1003         NaN    NaN    NaN    NaN    NaN    NaN    NaN  380.0  961.0   \n",
       "1004         NaN    NaN    NaN    NaN   35.0  171.0  135.0  137.0  117.0   \n",
       "1005        95.0  456.0  606.0  712.0  595.0  612.0  569.0  619.0  479.0   \n",
       "1006         NaN   42.0  286.0  356.0  370.0  478.0  316.0  275.0  360.0   \n",
       "1007         NaN    NaN    NaN  198.0  480.0  545.0  577.0  458.0  655.0   \n",
       "1008         NaN    NaN    NaN    NaN    NaN    NaN    NaN    NaN    NaN   \n",
       "1009         NaN    NaN  109.0  324.0  170.0  289.0  183.0  249.0  133.0   \n",
       "\n",
       "call_month     10     11     12  \n",
       "user_id                          \n",
       "1000        350.0  338.0  333.0  \n",
       "1001          NaN  430.0  414.0  \n",
       "1002        212.0  243.0  236.0  \n",
       "1003        855.0  824.0  802.0  \n",
       "1004        145.0  117.0  130.0  \n",
       "1005        723.0  547.0  592.0  \n",
       "1006        267.0  372.0  379.0  \n",
       "1007        465.0  580.0  421.0  \n",
       "1008          NaN    NaN  339.0  \n",
       "1009        213.0  290.0  229.0  "
      ]
     },
     "metadata": {},
     "output_type": "display_data"
    }
   ],
   "source": [
    "#создадим новую таблицу с разбивкой по месяцам и значениями за каждый месяц по количеству минут\n",
    "minutes_month = calls_df.pivot_table(index = 'user_id',columns = 'call_month',values = 'duration',aggfunc = 'sum')\n",
    "display(minutes_month.head(10))"
   ]
  },
  {
   "cell_type": "code",
   "execution_count": 18,
   "metadata": {},
   "outputs": [
    {
     "data": {
      "text/html": [
       "<div>\n",
       "<style scoped>\n",
       "    .dataframe tbody tr th:only-of-type {\n",
       "        vertical-align: middle;\n",
       "    }\n",
       "\n",
       "    .dataframe tbody tr th {\n",
       "        vertical-align: top;\n",
       "    }\n",
       "\n",
       "    .dataframe thead th {\n",
       "        text-align: right;\n",
       "    }\n",
       "</style>\n",
       "<table border=\"1\" class=\"dataframe\">\n",
       "  <thead>\n",
       "    <tr style=\"text-align: right;\">\n",
       "      <th></th>\n",
       "      <th></th>\n",
       "      <th>duration</th>\n",
       "    </tr>\n",
       "    <tr>\n",
       "      <th>call_month</th>\n",
       "      <th>user_id</th>\n",
       "      <th></th>\n",
       "    </tr>\n",
       "  </thead>\n",
       "  <tbody>\n",
       "    <tr>\n",
       "      <th rowspan=\"5\" valign=\"top\">1</th>\n",
       "      <th>1005</th>\n",
       "      <td>95</td>\n",
       "    </tr>\n",
       "    <tr>\n",
       "      <th>1032</th>\n",
       "      <td>380</td>\n",
       "    </tr>\n",
       "    <tr>\n",
       "      <th>1045</th>\n",
       "      <td>9</td>\n",
       "    </tr>\n",
       "    <tr>\n",
       "      <th>1055</th>\n",
       "      <td>551</td>\n",
       "    </tr>\n",
       "    <tr>\n",
       "      <th>1071</th>\n",
       "      <td>194</td>\n",
       "    </tr>\n",
       "    <tr>\n",
       "      <th>...</th>\n",
       "      <th>...</th>\n",
       "      <td>...</td>\n",
       "    </tr>\n",
       "    <tr>\n",
       "      <th rowspan=\"5\" valign=\"top\">12</th>\n",
       "      <th>1494</th>\n",
       "      <td>418</td>\n",
       "    </tr>\n",
       "    <tr>\n",
       "      <th>1495</th>\n",
       "      <td>1031</td>\n",
       "    </tr>\n",
       "    <tr>\n",
       "      <th>1496</th>\n",
       "      <td>518</td>\n",
       "    </tr>\n",
       "    <tr>\n",
       "      <th>1497</th>\n",
       "      <td>545</td>\n",
       "    </tr>\n",
       "    <tr>\n",
       "      <th>1499</th>\n",
       "      <td>492</td>\n",
       "    </tr>\n",
       "  </tbody>\n",
       "</table>\n",
       "<p>3174 rows × 1 columns</p>\n",
       "</div>"
      ],
      "text/plain": [
       "                    duration\n",
       "call_month user_id          \n",
       "1          1005           95\n",
       "           1032          380\n",
       "           1045            9\n",
       "           1055          551\n",
       "           1071          194\n",
       "...                      ...\n",
       "12         1494          418\n",
       "           1495         1031\n",
       "           1496          518\n",
       "           1497          545\n",
       "           1499          492\n",
       "\n",
       "[3174 rows x 1 columns]"
      ]
     },
     "metadata": {},
     "output_type": "display_data"
    }
   ],
   "source": [
    "minutes_month_test = calls_df.pivot_table(index = ['call_month','user_id'],values = 'duration',aggfunc = 'sum')\n",
    "display(minutes_month_test)"
   ]
  },
  {
   "cell_type": "markdown",
   "metadata": {},
   "source": [
    "### Количество отправленных сообщений по месяцам"
   ]
  },
  {
   "cell_type": "code",
   "execution_count": 19,
   "metadata": {},
   "outputs": [
    {
     "data": {
      "text/html": [
       "<div>\n",
       "<style scoped>\n",
       "    .dataframe tbody tr th:only-of-type {\n",
       "        vertical-align: middle;\n",
       "    }\n",
       "\n",
       "    .dataframe tbody tr th {\n",
       "        vertical-align: top;\n",
       "    }\n",
       "\n",
       "    .dataframe thead th {\n",
       "        text-align: right;\n",
       "    }\n",
       "</style>\n",
       "<table border=\"1\" class=\"dataframe\">\n",
       "  <thead>\n",
       "    <tr style=\"text-align: right;\">\n",
       "      <th>message_month</th>\n",
       "      <th>1</th>\n",
       "      <th>2</th>\n",
       "      <th>3</th>\n",
       "      <th>4</th>\n",
       "      <th>5</th>\n",
       "      <th>6</th>\n",
       "      <th>7</th>\n",
       "      <th>8</th>\n",
       "      <th>9</th>\n",
       "      <th>10</th>\n",
       "      <th>11</th>\n",
       "      <th>12</th>\n",
       "    </tr>\n",
       "    <tr>\n",
       "      <th>user_id</th>\n",
       "      <th></th>\n",
       "      <th></th>\n",
       "      <th></th>\n",
       "      <th></th>\n",
       "      <th></th>\n",
       "      <th></th>\n",
       "      <th></th>\n",
       "      <th></th>\n",
       "      <th></th>\n",
       "      <th></th>\n",
       "      <th></th>\n",
       "      <th></th>\n",
       "    </tr>\n",
       "  </thead>\n",
       "  <tbody>\n",
       "    <tr>\n",
       "      <th>1000</th>\n",
       "      <td>NaN</td>\n",
       "      <td>NaN</td>\n",
       "      <td>NaN</td>\n",
       "      <td>NaN</td>\n",
       "      <td>22.0</td>\n",
       "      <td>60.0</td>\n",
       "      <td>75.0</td>\n",
       "      <td>81.0</td>\n",
       "      <td>57.0</td>\n",
       "      <td>73.0</td>\n",
       "      <td>58.0</td>\n",
       "      <td>70.0</td>\n",
       "    </tr>\n",
       "    <tr>\n",
       "      <th>1002</th>\n",
       "      <td>NaN</td>\n",
       "      <td>NaN</td>\n",
       "      <td>NaN</td>\n",
       "      <td>NaN</td>\n",
       "      <td>NaN</td>\n",
       "      <td>4.0</td>\n",
       "      <td>11.0</td>\n",
       "      <td>13.0</td>\n",
       "      <td>4.0</td>\n",
       "      <td>10.0</td>\n",
       "      <td>16.0</td>\n",
       "      <td>12.0</td>\n",
       "    </tr>\n",
       "    <tr>\n",
       "      <th>1003</th>\n",
       "      <td>NaN</td>\n",
       "      <td>NaN</td>\n",
       "      <td>NaN</td>\n",
       "      <td>NaN</td>\n",
       "      <td>NaN</td>\n",
       "      <td>NaN</td>\n",
       "      <td>NaN</td>\n",
       "      <td>37.0</td>\n",
       "      <td>91.0</td>\n",
       "      <td>83.0</td>\n",
       "      <td>94.0</td>\n",
       "      <td>75.0</td>\n",
       "    </tr>\n",
       "    <tr>\n",
       "      <th>1004</th>\n",
       "      <td>NaN</td>\n",
       "      <td>NaN</td>\n",
       "      <td>NaN</td>\n",
       "      <td>NaN</td>\n",
       "      <td>95.0</td>\n",
       "      <td>134.0</td>\n",
       "      <td>181.0</td>\n",
       "      <td>151.0</td>\n",
       "      <td>146.0</td>\n",
       "      <td>165.0</td>\n",
       "      <td>158.0</td>\n",
       "      <td>162.0</td>\n",
       "    </tr>\n",
       "    <tr>\n",
       "      <th>1005</th>\n",
       "      <td>7.0</td>\n",
       "      <td>38.0</td>\n",
       "      <td>56.0</td>\n",
       "      <td>41.0</td>\n",
       "      <td>42.0</td>\n",
       "      <td>47.0</td>\n",
       "      <td>56.0</td>\n",
       "      <td>64.0</td>\n",
       "      <td>52.0</td>\n",
       "      <td>44.0</td>\n",
       "      <td>51.0</td>\n",
       "      <td>54.0</td>\n",
       "    </tr>\n",
       "    <tr>\n",
       "      <th>1007</th>\n",
       "      <td>NaN</td>\n",
       "      <td>NaN</td>\n",
       "      <td>NaN</td>\n",
       "      <td>11.0</td>\n",
       "      <td>39.0</td>\n",
       "      <td>26.0</td>\n",
       "      <td>26.0</td>\n",
       "      <td>27.0</td>\n",
       "      <td>31.0</td>\n",
       "      <td>18.0</td>\n",
       "      <td>21.0</td>\n",
       "      <td>26.0</td>\n",
       "    </tr>\n",
       "    <tr>\n",
       "      <th>1008</th>\n",
       "      <td>NaN</td>\n",
       "      <td>NaN</td>\n",
       "      <td>NaN</td>\n",
       "      <td>NaN</td>\n",
       "      <td>NaN</td>\n",
       "      <td>NaN</td>\n",
       "      <td>NaN</td>\n",
       "      <td>NaN</td>\n",
       "      <td>NaN</td>\n",
       "      <td>NaN</td>\n",
       "      <td>NaN</td>\n",
       "      <td>56.0</td>\n",
       "    </tr>\n",
       "    <tr>\n",
       "      <th>1009</th>\n",
       "      <td>NaN</td>\n",
       "      <td>NaN</td>\n",
       "      <td>2.0</td>\n",
       "      <td>14.0</td>\n",
       "      <td>7.0</td>\n",
       "      <td>14.0</td>\n",
       "      <td>14.0</td>\n",
       "      <td>9.0</td>\n",
       "      <td>12.0</td>\n",
       "      <td>15.0</td>\n",
       "      <td>11.0</td>\n",
       "      <td>12.0</td>\n",
       "    </tr>\n",
       "    <tr>\n",
       "      <th>1011</th>\n",
       "      <td>NaN</td>\n",
       "      <td>NaN</td>\n",
       "      <td>4.0</td>\n",
       "      <td>7.0</td>\n",
       "      <td>13.0</td>\n",
       "      <td>13.0</td>\n",
       "      <td>13.0</td>\n",
       "      <td>15.0</td>\n",
       "      <td>10.0</td>\n",
       "      <td>17.0</td>\n",
       "      <td>12.0</td>\n",
       "      <td>6.0</td>\n",
       "    </tr>\n",
       "    <tr>\n",
       "      <th>1012</th>\n",
       "      <td>NaN</td>\n",
       "      <td>NaN</td>\n",
       "      <td>2.0</td>\n",
       "      <td>21.0</td>\n",
       "      <td>10.0</td>\n",
       "      <td>15.0</td>\n",
       "      <td>12.0</td>\n",
       "      <td>23.0</td>\n",
       "      <td>14.0</td>\n",
       "      <td>13.0</td>\n",
       "      <td>25.0</td>\n",
       "      <td>15.0</td>\n",
       "    </tr>\n",
       "  </tbody>\n",
       "</table>\n",
       "</div>"
      ],
      "text/plain": [
       "message_month   1     2     3     4     5      6      7      8      9      10  \\\n",
       "user_id                                                                         \n",
       "1000           NaN   NaN   NaN   NaN  22.0   60.0   75.0   81.0   57.0   73.0   \n",
       "1002           NaN   NaN   NaN   NaN   NaN    4.0   11.0   13.0    4.0   10.0   \n",
       "1003           NaN   NaN   NaN   NaN   NaN    NaN    NaN   37.0   91.0   83.0   \n",
       "1004           NaN   NaN   NaN   NaN  95.0  134.0  181.0  151.0  146.0  165.0   \n",
       "1005           7.0  38.0  56.0  41.0  42.0   47.0   56.0   64.0   52.0   44.0   \n",
       "1007           NaN   NaN   NaN  11.0  39.0   26.0   26.0   27.0   31.0   18.0   \n",
       "1008           NaN   NaN   NaN   NaN   NaN    NaN    NaN    NaN    NaN    NaN   \n",
       "1009           NaN   NaN   2.0  14.0   7.0   14.0   14.0    9.0   12.0   15.0   \n",
       "1011           NaN   NaN   4.0   7.0  13.0   13.0   13.0   15.0   10.0   17.0   \n",
       "1012           NaN   NaN   2.0  21.0  10.0   15.0   12.0   23.0   14.0   13.0   \n",
       "\n",
       "message_month     11     12  \n",
       "user_id                      \n",
       "1000            58.0   70.0  \n",
       "1002            16.0   12.0  \n",
       "1003            94.0   75.0  \n",
       "1004           158.0  162.0  \n",
       "1005            51.0   54.0  \n",
       "1007            21.0   26.0  \n",
       "1008             NaN   56.0  \n",
       "1009            11.0   12.0  \n",
       "1011            12.0    6.0  \n",
       "1012            25.0   15.0  "
      ]
     },
     "metadata": {},
     "output_type": "display_data"
    }
   ],
   "source": [
    "#создадим колонку с номером месяца\n",
    "messages_df['message_month'] = messages_df['message_date'].dt.month\n",
    "\n",
    "#создадим новую таблицу с разбивкой по месяцам и значениями за каждый месяц по количеству отправленных сообщений\n",
    "messages_month = messages_df.pivot_table(index = 'user_id', columns = 'message_month', values = 'id', aggfunc = 'count')              \n",
    "display(messages_month.head(10))"
   ]
  },
  {
   "cell_type": "markdown",
   "metadata": {},
   "source": [
    "### Объем израсходованного интернет-трафика по месяцам"
   ]
  },
  {
   "cell_type": "code",
   "execution_count": 20,
   "metadata": {},
   "outputs": [
    {
     "data": {
      "text/html": [
       "<div>\n",
       "<style scoped>\n",
       "    .dataframe tbody tr th:only-of-type {\n",
       "        vertical-align: middle;\n",
       "    }\n",
       "\n",
       "    .dataframe tbody tr th {\n",
       "        vertical-align: top;\n",
       "    }\n",
       "\n",
       "    .dataframe thead th {\n",
       "        text-align: right;\n",
       "    }\n",
       "</style>\n",
       "<table border=\"1\" class=\"dataframe\">\n",
       "  <thead>\n",
       "    <tr style=\"text-align: right;\">\n",
       "      <th>session_month</th>\n",
       "      <th>1</th>\n",
       "      <th>2</th>\n",
       "      <th>3</th>\n",
       "      <th>4</th>\n",
       "      <th>5</th>\n",
       "      <th>6</th>\n",
       "      <th>7</th>\n",
       "      <th>8</th>\n",
       "      <th>9</th>\n",
       "      <th>10</th>\n",
       "      <th>11</th>\n",
       "      <th>12</th>\n",
       "    </tr>\n",
       "    <tr>\n",
       "      <th>user_id</th>\n",
       "      <th></th>\n",
       "      <th></th>\n",
       "      <th></th>\n",
       "      <th></th>\n",
       "      <th></th>\n",
       "      <th></th>\n",
       "      <th></th>\n",
       "      <th></th>\n",
       "      <th></th>\n",
       "      <th></th>\n",
       "      <th></th>\n",
       "      <th></th>\n",
       "    </tr>\n",
       "  </thead>\n",
       "  <tbody>\n",
       "    <tr>\n",
       "      <th>1000</th>\n",
       "      <td>NaN</td>\n",
       "      <td>NaN</td>\n",
       "      <td>NaN</td>\n",
       "      <td>NaN</td>\n",
       "      <td>2253.49</td>\n",
       "      <td>23233.77</td>\n",
       "      <td>14003.64</td>\n",
       "      <td>14055.93</td>\n",
       "      <td>14568.91</td>\n",
       "      <td>14702.49</td>\n",
       "      <td>14756.47</td>\n",
       "      <td>9817.61</td>\n",
       "    </tr>\n",
       "    <tr>\n",
       "      <th>1001</th>\n",
       "      <td>NaN</td>\n",
       "      <td>NaN</td>\n",
       "      <td>NaN</td>\n",
       "      <td>NaN</td>\n",
       "      <td>NaN</td>\n",
       "      <td>NaN</td>\n",
       "      <td>NaN</td>\n",
       "      <td>NaN</td>\n",
       "      <td>NaN</td>\n",
       "      <td>NaN</td>\n",
       "      <td>18429.34</td>\n",
       "      <td>14036.66</td>\n",
       "    </tr>\n",
       "    <tr>\n",
       "      <th>1002</th>\n",
       "      <td>NaN</td>\n",
       "      <td>NaN</td>\n",
       "      <td>NaN</td>\n",
       "      <td>NaN</td>\n",
       "      <td>NaN</td>\n",
       "      <td>10856.82</td>\n",
       "      <td>17580.10</td>\n",
       "      <td>20319.26</td>\n",
       "      <td>16691.08</td>\n",
       "      <td>13888.25</td>\n",
       "      <td>18587.28</td>\n",
       "      <td>18113.73</td>\n",
       "    </tr>\n",
       "    <tr>\n",
       "      <th>1003</th>\n",
       "      <td>NaN</td>\n",
       "      <td>NaN</td>\n",
       "      <td>NaN</td>\n",
       "      <td>NaN</td>\n",
       "      <td>NaN</td>\n",
       "      <td>NaN</td>\n",
       "      <td>NaN</td>\n",
       "      <td>8565.21</td>\n",
       "      <td>12468.87</td>\n",
       "      <td>14768.14</td>\n",
       "      <td>11356.89</td>\n",
       "      <td>10121.53</td>\n",
       "    </tr>\n",
       "    <tr>\n",
       "      <th>1004</th>\n",
       "      <td>NaN</td>\n",
       "      <td>NaN</td>\n",
       "      <td>NaN</td>\n",
       "      <td>NaN</td>\n",
       "      <td>13403.98</td>\n",
       "      <td>17600.02</td>\n",
       "      <td>22229.58</td>\n",
       "      <td>28584.37</td>\n",
       "      <td>15109.03</td>\n",
       "      <td>18475.44</td>\n",
       "      <td>15616.02</td>\n",
       "      <td>18021.04</td>\n",
       "    </tr>\n",
       "    <tr>\n",
       "      <th>1005</th>\n",
       "      <td>2727.97</td>\n",
       "      <td>7383.93</td>\n",
       "      <td>11104.25</td>\n",
       "      <td>9351.72</td>\n",
       "      <td>7865.53</td>\n",
       "      <td>9863.19</td>\n",
       "      <td>7694.56</td>\n",
       "      <td>7543.63</td>\n",
       "      <td>7016.46</td>\n",
       "      <td>7800.93</td>\n",
       "      <td>12666.95</td>\n",
       "      <td>8668.19</td>\n",
       "    </tr>\n",
       "    <tr>\n",
       "      <th>1006</th>\n",
       "      <td>NaN</td>\n",
       "      <td>1392.15</td>\n",
       "      <td>17287.93</td>\n",
       "      <td>13936.70</td>\n",
       "      <td>12965.41</td>\n",
       "      <td>12371.66</td>\n",
       "      <td>19977.60</td>\n",
       "      <td>19303.71</td>\n",
       "      <td>15521.53</td>\n",
       "      <td>19696.60</td>\n",
       "      <td>13259.41</td>\n",
       "      <td>18476.11</td>\n",
       "    </tr>\n",
       "    <tr>\n",
       "      <th>1007</th>\n",
       "      <td>NaN</td>\n",
       "      <td>NaN</td>\n",
       "      <td>NaN</td>\n",
       "      <td>8022.76</td>\n",
       "      <td>17687.27</td>\n",
       "      <td>13654.52</td>\n",
       "      <td>15656.66</td>\n",
       "      <td>20700.40</td>\n",
       "      <td>12613.05</td>\n",
       "      <td>14427.33</td>\n",
       "      <td>16369.61</td>\n",
       "      <td>12494.07</td>\n",
       "    </tr>\n",
       "    <tr>\n",
       "      <th>1008</th>\n",
       "      <td>NaN</td>\n",
       "      <td>NaN</td>\n",
       "      <td>NaN</td>\n",
       "      <td>NaN</td>\n",
       "      <td>NaN</td>\n",
       "      <td>NaN</td>\n",
       "      <td>NaN</td>\n",
       "      <td>NaN</td>\n",
       "      <td>NaN</td>\n",
       "      <td>NaN</td>\n",
       "      <td>NaN</td>\n",
       "      <td>13217.14</td>\n",
       "    </tr>\n",
       "    <tr>\n",
       "      <th>1009</th>\n",
       "      <td>NaN</td>\n",
       "      <td>NaN</td>\n",
       "      <td>7350.15</td>\n",
       "      <td>14709.22</td>\n",
       "      <td>13371.89</td>\n",
       "      <td>16067.51</td>\n",
       "      <td>24725.84</td>\n",
       "      <td>23708.41</td>\n",
       "      <td>21932.59</td>\n",
       "      <td>20081.73</td>\n",
       "      <td>16845.85</td>\n",
       "      <td>18618.02</td>\n",
       "    </tr>\n",
       "  </tbody>\n",
       "</table>\n",
       "</div>"
      ],
      "text/plain": [
       "session_month       1        2         3         4         5         6   \\\n",
       "user_id                                                                   \n",
       "1000               NaN      NaN       NaN       NaN   2253.49  23233.77   \n",
       "1001               NaN      NaN       NaN       NaN       NaN       NaN   \n",
       "1002               NaN      NaN       NaN       NaN       NaN  10856.82   \n",
       "1003               NaN      NaN       NaN       NaN       NaN       NaN   \n",
       "1004               NaN      NaN       NaN       NaN  13403.98  17600.02   \n",
       "1005           2727.97  7383.93  11104.25   9351.72   7865.53   9863.19   \n",
       "1006               NaN  1392.15  17287.93  13936.70  12965.41  12371.66   \n",
       "1007               NaN      NaN       NaN   8022.76  17687.27  13654.52   \n",
       "1008               NaN      NaN       NaN       NaN       NaN       NaN   \n",
       "1009               NaN      NaN   7350.15  14709.22  13371.89  16067.51   \n",
       "\n",
       "session_month        7         8         9         10        11        12  \n",
       "user_id                                                                    \n",
       "1000           14003.64  14055.93  14568.91  14702.49  14756.47   9817.61  \n",
       "1001                NaN       NaN       NaN       NaN  18429.34  14036.66  \n",
       "1002           17580.10  20319.26  16691.08  13888.25  18587.28  18113.73  \n",
       "1003                NaN   8565.21  12468.87  14768.14  11356.89  10121.53  \n",
       "1004           22229.58  28584.37  15109.03  18475.44  15616.02  18021.04  \n",
       "1005            7694.56   7543.63   7016.46   7800.93  12666.95   8668.19  \n",
       "1006           19977.60  19303.71  15521.53  19696.60  13259.41  18476.11  \n",
       "1007           15656.66  20700.40  12613.05  14427.33  16369.61  12494.07  \n",
       "1008                NaN       NaN       NaN       NaN       NaN  13217.14  \n",
       "1009           24725.84  23708.41  21932.59  20081.73  16845.85  18618.02  "
      ]
     },
     "metadata": {},
     "output_type": "display_data"
    }
   ],
   "source": [
    "#создадим колонку с номером месяца\n",
    "internet_df['session_month'] = internet_df['session_date'].dt.month\n",
    "\n",
    "#создадим новую таблицу с разбивкой по месяцам и значениями за каждый месяц по количеству трафика\n",
    "traffic_month = internet_df.pivot_table(index = 'user_id', columns = 'session_month', values = 'mb_used', aggfunc = 'sum')\n",
    "display(traffic_month.head(10))"
   ]
  },
  {
   "cell_type": "markdown",
   "metadata": {},
   "source": [
    "### Помесячная выручка каждого клиента "
   ]
  },
  {
   "cell_type": "code",
   "execution_count": 21,
   "metadata": {},
   "outputs": [],
   "source": [
    "#сгруппируем необходимые данные и переименуем колонки, что далее сделать сводную таблицу\n",
    "calls_month = calls_df.groupby(['user_id', 'call_month'], as_index=False)['duration'].agg('sum')\n",
    "calls_month.columns = ['user_id', 'month', 'call_duration']"
   ]
  },
  {
   "cell_type": "code",
   "execution_count": 22,
   "metadata": {},
   "outputs": [],
   "source": [
    "#сгруппируем необходимые данные и переименуем колонки, что далее сделать сводную таблицу\n",
    "messages_month = messages_df.groupby(['user_id', 'message_month'])['id'].agg('count')\n",
    "messages_month.columns = ['user_id', 'month', 'message_count']"
   ]
  },
  {
   "cell_type": "code",
   "execution_count": 23,
   "metadata": {},
   "outputs": [],
   "source": [
    "#сгруппируем необходимые данные и переименуем колонки, что далее сделать сводную таблицу\n",
    "traffic_month = internet_df.groupby(['user_id', 'session_month'])['mb_used'].agg('sum')\n",
    "traffic_month.columns = ['user_id', 'month', 'traffic']"
   ]
  },
  {
   "cell_type": "code",
   "execution_count": 24,
   "metadata": {
    "scrolled": true
   },
   "outputs": [
    {
     "name": "stdout",
     "output_type": "stream",
     "text": [
      "      user_id  month  call_duration    id   mb_used  tariff             city\n",
      "0        1000      5          159.0  22.0   2253.49       1        Краснодар\n",
      "1        1000      6          172.0  60.0  23233.77       1        Краснодар\n",
      "2        1000      7          340.0  75.0  14003.64       1        Краснодар\n",
      "3        1000      8          408.0  81.0  14055.93       1        Краснодар\n",
      "4        1000      9          466.0  57.0  14568.91       1        Краснодар\n",
      "...       ...    ...            ...   ...       ...     ...              ...\n",
      "3209     1489      9            NaN  32.0  17206.30       0  Санкт-Петербург\n",
      "3210     1489     10            NaN  21.0  19559.44       0  Санкт-Петербург\n",
      "3211     1489     11            NaN  20.0  17491.56       0  Санкт-Петербург\n",
      "3212     1489     12            NaN  35.0  17322.51       0  Санкт-Петербург\n",
      "3213     1476      4            NaN   NaN    530.78       1           Москва\n",
      "\n",
      "[3214 rows x 7 columns]\n"
     ]
    }
   ],
   "source": [
    "#создадим сводную таблицу\n",
    "total = (calls_month\n",
    "            .join(messages_month, on = ['user_id', 'month'], how='outer')\n",
    "            .join(traffic_month, on = ['user_id', 'month'], how='outer')\n",
    "            .merge(users_df[['user_id', 'tariff', 'city']], how='left', on='user_id')\n",
    "           )\n",
    "print(total)"
   ]
  },
  {
   "cell_type": "code",
   "execution_count": 25,
   "metadata": {},
   "outputs": [],
   "source": [
    "total.columns = ['user_id', 'month', 'call_duration', 'message_count', 'traffic', 'tariff', 'city']"
   ]
  },
  {
   "cell_type": "code",
   "execution_count": 26,
   "metadata": {},
   "outputs": [
    {
     "data": {
      "text/html": [
       "<div>\n",
       "<style scoped>\n",
       "    .dataframe tbody tr th:only-of-type {\n",
       "        vertical-align: middle;\n",
       "    }\n",
       "\n",
       "    .dataframe tbody tr th {\n",
       "        vertical-align: top;\n",
       "    }\n",
       "\n",
       "    .dataframe thead th {\n",
       "        text-align: right;\n",
       "    }\n",
       "</style>\n",
       "<table border=\"1\" class=\"dataframe\">\n",
       "  <thead>\n",
       "    <tr style=\"text-align: right;\">\n",
       "      <th></th>\n",
       "      <th>user_id</th>\n",
       "      <th>month</th>\n",
       "      <th>call_duration</th>\n",
       "      <th>message_count</th>\n",
       "      <th>traffic</th>\n",
       "      <th>tariff</th>\n",
       "      <th>city</th>\n",
       "    </tr>\n",
       "  </thead>\n",
       "  <tbody>\n",
       "    <tr>\n",
       "      <th>0</th>\n",
       "      <td>1000</td>\n",
       "      <td>5</td>\n",
       "      <td>159.0</td>\n",
       "      <td>22.0</td>\n",
       "      <td>2253.49</td>\n",
       "      <td>1</td>\n",
       "      <td>Краснодар</td>\n",
       "    </tr>\n",
       "    <tr>\n",
       "      <th>1</th>\n",
       "      <td>1000</td>\n",
       "      <td>6</td>\n",
       "      <td>172.0</td>\n",
       "      <td>60.0</td>\n",
       "      <td>23233.77</td>\n",
       "      <td>1</td>\n",
       "      <td>Краснодар</td>\n",
       "    </tr>\n",
       "    <tr>\n",
       "      <th>2</th>\n",
       "      <td>1000</td>\n",
       "      <td>7</td>\n",
       "      <td>340.0</td>\n",
       "      <td>75.0</td>\n",
       "      <td>14003.64</td>\n",
       "      <td>1</td>\n",
       "      <td>Краснодар</td>\n",
       "    </tr>\n",
       "    <tr>\n",
       "      <th>3</th>\n",
       "      <td>1000</td>\n",
       "      <td>8</td>\n",
       "      <td>408.0</td>\n",
       "      <td>81.0</td>\n",
       "      <td>14055.93</td>\n",
       "      <td>1</td>\n",
       "      <td>Краснодар</td>\n",
       "    </tr>\n",
       "    <tr>\n",
       "      <th>4</th>\n",
       "      <td>1000</td>\n",
       "      <td>9</td>\n",
       "      <td>466.0</td>\n",
       "      <td>57.0</td>\n",
       "      <td>14568.91</td>\n",
       "      <td>1</td>\n",
       "      <td>Краснодар</td>\n",
       "    </tr>\n",
       "    <tr>\n",
       "      <th>...</th>\n",
       "      <td>...</td>\n",
       "      <td>...</td>\n",
       "      <td>...</td>\n",
       "      <td>...</td>\n",
       "      <td>...</td>\n",
       "      <td>...</td>\n",
       "      <td>...</td>\n",
       "    </tr>\n",
       "    <tr>\n",
       "      <th>3209</th>\n",
       "      <td>1489</td>\n",
       "      <td>9</td>\n",
       "      <td>NaN</td>\n",
       "      <td>32.0</td>\n",
       "      <td>17206.30</td>\n",
       "      <td>0</td>\n",
       "      <td>Санкт-Петербург</td>\n",
       "    </tr>\n",
       "    <tr>\n",
       "      <th>3210</th>\n",
       "      <td>1489</td>\n",
       "      <td>10</td>\n",
       "      <td>NaN</td>\n",
       "      <td>21.0</td>\n",
       "      <td>19559.44</td>\n",
       "      <td>0</td>\n",
       "      <td>Санкт-Петербург</td>\n",
       "    </tr>\n",
       "    <tr>\n",
       "      <th>3211</th>\n",
       "      <td>1489</td>\n",
       "      <td>11</td>\n",
       "      <td>NaN</td>\n",
       "      <td>20.0</td>\n",
       "      <td>17491.56</td>\n",
       "      <td>0</td>\n",
       "      <td>Санкт-Петербург</td>\n",
       "    </tr>\n",
       "    <tr>\n",
       "      <th>3212</th>\n",
       "      <td>1489</td>\n",
       "      <td>12</td>\n",
       "      <td>NaN</td>\n",
       "      <td>35.0</td>\n",
       "      <td>17322.51</td>\n",
       "      <td>0</td>\n",
       "      <td>Санкт-Петербург</td>\n",
       "    </tr>\n",
       "    <tr>\n",
       "      <th>3213</th>\n",
       "      <td>1476</td>\n",
       "      <td>4</td>\n",
       "      <td>NaN</td>\n",
       "      <td>NaN</td>\n",
       "      <td>530.78</td>\n",
       "      <td>1</td>\n",
       "      <td>Москва</td>\n",
       "    </tr>\n",
       "  </tbody>\n",
       "</table>\n",
       "<p>3214 rows × 7 columns</p>\n",
       "</div>"
      ],
      "text/plain": [
       "      user_id  month  call_duration  message_count   traffic  tariff  \\\n",
       "0        1000      5          159.0           22.0   2253.49       1   \n",
       "1        1000      6          172.0           60.0  23233.77       1   \n",
       "2        1000      7          340.0           75.0  14003.64       1   \n",
       "3        1000      8          408.0           81.0  14055.93       1   \n",
       "4        1000      9          466.0           57.0  14568.91       1   \n",
       "...       ...    ...            ...            ...       ...     ...   \n",
       "3209     1489      9            NaN           32.0  17206.30       0   \n",
       "3210     1489     10            NaN           21.0  19559.44       0   \n",
       "3211     1489     11            NaN           20.0  17491.56       0   \n",
       "3212     1489     12            NaN           35.0  17322.51       0   \n",
       "3213     1476      4            NaN            NaN    530.78       1   \n",
       "\n",
       "                 city  \n",
       "0           Краснодар  \n",
       "1           Краснодар  \n",
       "2           Краснодар  \n",
       "3           Краснодар  \n",
       "4           Краснодар  \n",
       "...               ...  \n",
       "3209  Санкт-Петербург  \n",
       "3210  Санкт-Петербург  \n",
       "3211  Санкт-Петербург  \n",
       "3212  Санкт-Петербург  \n",
       "3213           Москва  \n",
       "\n",
       "[3214 rows x 7 columns]"
      ]
     },
     "metadata": {},
     "output_type": "display_data"
    }
   ],
   "source": [
    "display(total)"
   ]
  },
  {
   "cell_type": "code",
   "execution_count": 27,
   "metadata": {},
   "outputs": [
    {
     "name": "stdout",
     "output_type": "stream",
     "text": [
      "<class 'pandas.core.frame.DataFrame'>\n",
      "Int64Index: 3214 entries, 0 to 3213\n",
      "Data columns (total 7 columns):\n",
      " #   Column         Non-Null Count  Dtype  \n",
      "---  ------         --------------  -----  \n",
      " 0   user_id        3214 non-null   int64  \n",
      " 1   month          3214 non-null   int64  \n",
      " 2   call_duration  3174 non-null   float64\n",
      " 3   message_count  2717 non-null   float64\n",
      " 4   traffic        3203 non-null   float64\n",
      " 5   tariff         3214 non-null   int8   \n",
      " 6   city           3214 non-null   object \n",
      "dtypes: float64(3), int64(2), int8(1), object(1)\n",
      "memory usage: 178.9+ KB\n"
     ]
    }
   ],
   "source": [
    "total.info()"
   ]
  },
  {
   "cell_type": "code",
   "execution_count": 28,
   "metadata": {},
   "outputs": [],
   "source": [
    "#добавим информацию о тарифах\n",
    "total = total.join(tariffs_df, on = 'tariff', how='left')"
   ]
  },
  {
   "cell_type": "code",
   "execution_count": 29,
   "metadata": {},
   "outputs": [
    {
     "data": {
      "text/html": [
       "<div>\n",
       "<style scoped>\n",
       "    .dataframe tbody tr th:only-of-type {\n",
       "        vertical-align: middle;\n",
       "    }\n",
       "\n",
       "    .dataframe tbody tr th {\n",
       "        vertical-align: top;\n",
       "    }\n",
       "\n",
       "    .dataframe thead th {\n",
       "        text-align: right;\n",
       "    }\n",
       "</style>\n",
       "<table border=\"1\" class=\"dataframe\">\n",
       "  <thead>\n",
       "    <tr style=\"text-align: right;\">\n",
       "      <th></th>\n",
       "      <th>user_id</th>\n",
       "      <th>month</th>\n",
       "      <th>call_duration</th>\n",
       "      <th>message_count</th>\n",
       "      <th>traffic</th>\n",
       "      <th>tariff</th>\n",
       "      <th>city</th>\n",
       "      <th>messages_included</th>\n",
       "      <th>mb_per_month_included</th>\n",
       "      <th>minutes_included</th>\n",
       "      <th>rub_monthly_fee</th>\n",
       "      <th>rub_per_gb</th>\n",
       "      <th>rub_per_message</th>\n",
       "      <th>rub_per_minute</th>\n",
       "      <th>tariff_name</th>\n",
       "    </tr>\n",
       "  </thead>\n",
       "  <tbody>\n",
       "    <tr>\n",
       "      <th>0</th>\n",
       "      <td>1000</td>\n",
       "      <td>5</td>\n",
       "      <td>159.0</td>\n",
       "      <td>22.0</td>\n",
       "      <td>2253.49</td>\n",
       "      <td>1</td>\n",
       "      <td>Краснодар</td>\n",
       "      <td>1000</td>\n",
       "      <td>30720</td>\n",
       "      <td>3000</td>\n",
       "      <td>1950</td>\n",
       "      <td>150</td>\n",
       "      <td>1</td>\n",
       "      <td>1</td>\n",
       "      <td>ultra</td>\n",
       "    </tr>\n",
       "    <tr>\n",
       "      <th>1</th>\n",
       "      <td>1000</td>\n",
       "      <td>6</td>\n",
       "      <td>172.0</td>\n",
       "      <td>60.0</td>\n",
       "      <td>23233.77</td>\n",
       "      <td>1</td>\n",
       "      <td>Краснодар</td>\n",
       "      <td>1000</td>\n",
       "      <td>30720</td>\n",
       "      <td>3000</td>\n",
       "      <td>1950</td>\n",
       "      <td>150</td>\n",
       "      <td>1</td>\n",
       "      <td>1</td>\n",
       "      <td>ultra</td>\n",
       "    </tr>\n",
       "    <tr>\n",
       "      <th>2</th>\n",
       "      <td>1000</td>\n",
       "      <td>7</td>\n",
       "      <td>340.0</td>\n",
       "      <td>75.0</td>\n",
       "      <td>14003.64</td>\n",
       "      <td>1</td>\n",
       "      <td>Краснодар</td>\n",
       "      <td>1000</td>\n",
       "      <td>30720</td>\n",
       "      <td>3000</td>\n",
       "      <td>1950</td>\n",
       "      <td>150</td>\n",
       "      <td>1</td>\n",
       "      <td>1</td>\n",
       "      <td>ultra</td>\n",
       "    </tr>\n",
       "    <tr>\n",
       "      <th>3</th>\n",
       "      <td>1000</td>\n",
       "      <td>8</td>\n",
       "      <td>408.0</td>\n",
       "      <td>81.0</td>\n",
       "      <td>14055.93</td>\n",
       "      <td>1</td>\n",
       "      <td>Краснодар</td>\n",
       "      <td>1000</td>\n",
       "      <td>30720</td>\n",
       "      <td>3000</td>\n",
       "      <td>1950</td>\n",
       "      <td>150</td>\n",
       "      <td>1</td>\n",
       "      <td>1</td>\n",
       "      <td>ultra</td>\n",
       "    </tr>\n",
       "    <tr>\n",
       "      <th>4</th>\n",
       "      <td>1000</td>\n",
       "      <td>9</td>\n",
       "      <td>466.0</td>\n",
       "      <td>57.0</td>\n",
       "      <td>14568.91</td>\n",
       "      <td>1</td>\n",
       "      <td>Краснодар</td>\n",
       "      <td>1000</td>\n",
       "      <td>30720</td>\n",
       "      <td>3000</td>\n",
       "      <td>1950</td>\n",
       "      <td>150</td>\n",
       "      <td>1</td>\n",
       "      <td>1</td>\n",
       "      <td>ultra</td>\n",
       "    </tr>\n",
       "    <tr>\n",
       "      <th>...</th>\n",
       "      <td>...</td>\n",
       "      <td>...</td>\n",
       "      <td>...</td>\n",
       "      <td>...</td>\n",
       "      <td>...</td>\n",
       "      <td>...</td>\n",
       "      <td>...</td>\n",
       "      <td>...</td>\n",
       "      <td>...</td>\n",
       "      <td>...</td>\n",
       "      <td>...</td>\n",
       "      <td>...</td>\n",
       "      <td>...</td>\n",
       "      <td>...</td>\n",
       "      <td>...</td>\n",
       "    </tr>\n",
       "    <tr>\n",
       "      <th>3209</th>\n",
       "      <td>1489</td>\n",
       "      <td>9</td>\n",
       "      <td>NaN</td>\n",
       "      <td>32.0</td>\n",
       "      <td>17206.30</td>\n",
       "      <td>0</td>\n",
       "      <td>Санкт-Петербург</td>\n",
       "      <td>50</td>\n",
       "      <td>15360</td>\n",
       "      <td>500</td>\n",
       "      <td>550</td>\n",
       "      <td>200</td>\n",
       "      <td>3</td>\n",
       "      <td>3</td>\n",
       "      <td>smart</td>\n",
       "    </tr>\n",
       "    <tr>\n",
       "      <th>3210</th>\n",
       "      <td>1489</td>\n",
       "      <td>10</td>\n",
       "      <td>NaN</td>\n",
       "      <td>21.0</td>\n",
       "      <td>19559.44</td>\n",
       "      <td>0</td>\n",
       "      <td>Санкт-Петербург</td>\n",
       "      <td>50</td>\n",
       "      <td>15360</td>\n",
       "      <td>500</td>\n",
       "      <td>550</td>\n",
       "      <td>200</td>\n",
       "      <td>3</td>\n",
       "      <td>3</td>\n",
       "      <td>smart</td>\n",
       "    </tr>\n",
       "    <tr>\n",
       "      <th>3211</th>\n",
       "      <td>1489</td>\n",
       "      <td>11</td>\n",
       "      <td>NaN</td>\n",
       "      <td>20.0</td>\n",
       "      <td>17491.56</td>\n",
       "      <td>0</td>\n",
       "      <td>Санкт-Петербург</td>\n",
       "      <td>50</td>\n",
       "      <td>15360</td>\n",
       "      <td>500</td>\n",
       "      <td>550</td>\n",
       "      <td>200</td>\n",
       "      <td>3</td>\n",
       "      <td>3</td>\n",
       "      <td>smart</td>\n",
       "    </tr>\n",
       "    <tr>\n",
       "      <th>3212</th>\n",
       "      <td>1489</td>\n",
       "      <td>12</td>\n",
       "      <td>NaN</td>\n",
       "      <td>35.0</td>\n",
       "      <td>17322.51</td>\n",
       "      <td>0</td>\n",
       "      <td>Санкт-Петербург</td>\n",
       "      <td>50</td>\n",
       "      <td>15360</td>\n",
       "      <td>500</td>\n",
       "      <td>550</td>\n",
       "      <td>200</td>\n",
       "      <td>3</td>\n",
       "      <td>3</td>\n",
       "      <td>smart</td>\n",
       "    </tr>\n",
       "    <tr>\n",
       "      <th>3213</th>\n",
       "      <td>1476</td>\n",
       "      <td>4</td>\n",
       "      <td>NaN</td>\n",
       "      <td>NaN</td>\n",
       "      <td>530.78</td>\n",
       "      <td>1</td>\n",
       "      <td>Москва</td>\n",
       "      <td>1000</td>\n",
       "      <td>30720</td>\n",
       "      <td>3000</td>\n",
       "      <td>1950</td>\n",
       "      <td>150</td>\n",
       "      <td>1</td>\n",
       "      <td>1</td>\n",
       "      <td>ultra</td>\n",
       "    </tr>\n",
       "  </tbody>\n",
       "</table>\n",
       "<p>3214 rows × 15 columns</p>\n",
       "</div>"
      ],
      "text/plain": [
       "      user_id  month  call_duration  message_count   traffic  tariff  \\\n",
       "0        1000      5          159.0           22.0   2253.49       1   \n",
       "1        1000      6          172.0           60.0  23233.77       1   \n",
       "2        1000      7          340.0           75.0  14003.64       1   \n",
       "3        1000      8          408.0           81.0  14055.93       1   \n",
       "4        1000      9          466.0           57.0  14568.91       1   \n",
       "...       ...    ...            ...            ...       ...     ...   \n",
       "3209     1489      9            NaN           32.0  17206.30       0   \n",
       "3210     1489     10            NaN           21.0  19559.44       0   \n",
       "3211     1489     11            NaN           20.0  17491.56       0   \n",
       "3212     1489     12            NaN           35.0  17322.51       0   \n",
       "3213     1476      4            NaN            NaN    530.78       1   \n",
       "\n",
       "                 city  messages_included  mb_per_month_included  \\\n",
       "0           Краснодар               1000                  30720   \n",
       "1           Краснодар               1000                  30720   \n",
       "2           Краснодар               1000                  30720   \n",
       "3           Краснодар               1000                  30720   \n",
       "4           Краснодар               1000                  30720   \n",
       "...               ...                ...                    ...   \n",
       "3209  Санкт-Петербург                 50                  15360   \n",
       "3210  Санкт-Петербург                 50                  15360   \n",
       "3211  Санкт-Петербург                 50                  15360   \n",
       "3212  Санкт-Петербург                 50                  15360   \n",
       "3213           Москва               1000                  30720   \n",
       "\n",
       "      minutes_included  rub_monthly_fee  rub_per_gb  rub_per_message  \\\n",
       "0                 3000             1950         150                1   \n",
       "1                 3000             1950         150                1   \n",
       "2                 3000             1950         150                1   \n",
       "3                 3000             1950         150                1   \n",
       "4                 3000             1950         150                1   \n",
       "...                ...              ...         ...              ...   \n",
       "3209               500              550         200                3   \n",
       "3210               500              550         200                3   \n",
       "3211               500              550         200                3   \n",
       "3212               500              550         200                3   \n",
       "3213              3000             1950         150                1   \n",
       "\n",
       "      rub_per_minute tariff_name  \n",
       "0                  1       ultra  \n",
       "1                  1       ultra  \n",
       "2                  1       ultra  \n",
       "3                  1       ultra  \n",
       "4                  1       ultra  \n",
       "...              ...         ...  \n",
       "3209               3       smart  \n",
       "3210               3       smart  \n",
       "3211               3       smart  \n",
       "3212               3       smart  \n",
       "3213               1       ultra  \n",
       "\n",
       "[3214 rows x 15 columns]"
      ]
     },
     "metadata": {},
     "output_type": "display_data"
    }
   ],
   "source": [
    "display(total)"
   ]
  },
  {
   "cell_type": "code",
   "execution_count": 30,
   "metadata": {},
   "outputs": [],
   "source": [
    "#заменим пропуски на -1, что бы было удобнее проводить дальнейший анализ\n",
    "total['call_duration'] = total['call_duration'].fillna(-1)\n",
    "total['message_count'] = total['message_count'].fillna(-1)\n",
    "total['traffic'] = total['traffic'].fillna(-1)"
   ]
  },
  {
   "cell_type": "code",
   "execution_count": 31,
   "metadata": {
    "scrolled": false
   },
   "outputs": [
    {
     "data": {
      "text/html": [
       "<div>\n",
       "<style scoped>\n",
       "    .dataframe tbody tr th:only-of-type {\n",
       "        vertical-align: middle;\n",
       "    }\n",
       "\n",
       "    .dataframe tbody tr th {\n",
       "        vertical-align: top;\n",
       "    }\n",
       "\n",
       "    .dataframe thead th {\n",
       "        text-align: right;\n",
       "    }\n",
       "</style>\n",
       "<table border=\"1\" class=\"dataframe\">\n",
       "  <thead>\n",
       "    <tr style=\"text-align: right;\">\n",
       "      <th></th>\n",
       "      <th>user_id</th>\n",
       "      <th>month</th>\n",
       "      <th>call_duration</th>\n",
       "      <th>message_count</th>\n",
       "      <th>traffic</th>\n",
       "      <th>tariff</th>\n",
       "      <th>city</th>\n",
       "      <th>messages_included</th>\n",
       "      <th>mb_per_month_included</th>\n",
       "      <th>minutes_included</th>\n",
       "      <th>rub_monthly_fee</th>\n",
       "      <th>rub_per_gb</th>\n",
       "      <th>rub_per_message</th>\n",
       "      <th>rub_per_minute</th>\n",
       "      <th>tariff_name</th>\n",
       "      <th>earning</th>\n",
       "    </tr>\n",
       "  </thead>\n",
       "  <tbody>\n",
       "    <tr>\n",
       "      <th>0</th>\n",
       "      <td>1000</td>\n",
       "      <td>5</td>\n",
       "      <td>159.0</td>\n",
       "      <td>22.0</td>\n",
       "      <td>2253.49</td>\n",
       "      <td>1</td>\n",
       "      <td>Краснодар</td>\n",
       "      <td>1000</td>\n",
       "      <td>30720</td>\n",
       "      <td>3000</td>\n",
       "      <td>1950</td>\n",
       "      <td>150</td>\n",
       "      <td>1</td>\n",
       "      <td>1</td>\n",
       "      <td>ultra</td>\n",
       "      <td>1950.0</td>\n",
       "    </tr>\n",
       "    <tr>\n",
       "      <th>1</th>\n",
       "      <td>1000</td>\n",
       "      <td>6</td>\n",
       "      <td>172.0</td>\n",
       "      <td>60.0</td>\n",
       "      <td>23233.77</td>\n",
       "      <td>1</td>\n",
       "      <td>Краснодар</td>\n",
       "      <td>1000</td>\n",
       "      <td>30720</td>\n",
       "      <td>3000</td>\n",
       "      <td>1950</td>\n",
       "      <td>150</td>\n",
       "      <td>1</td>\n",
       "      <td>1</td>\n",
       "      <td>ultra</td>\n",
       "      <td>1950.0</td>\n",
       "    </tr>\n",
       "    <tr>\n",
       "      <th>2</th>\n",
       "      <td>1000</td>\n",
       "      <td>7</td>\n",
       "      <td>340.0</td>\n",
       "      <td>75.0</td>\n",
       "      <td>14003.64</td>\n",
       "      <td>1</td>\n",
       "      <td>Краснодар</td>\n",
       "      <td>1000</td>\n",
       "      <td>30720</td>\n",
       "      <td>3000</td>\n",
       "      <td>1950</td>\n",
       "      <td>150</td>\n",
       "      <td>1</td>\n",
       "      <td>1</td>\n",
       "      <td>ultra</td>\n",
       "      <td>1950.0</td>\n",
       "    </tr>\n",
       "    <tr>\n",
       "      <th>3</th>\n",
       "      <td>1000</td>\n",
       "      <td>8</td>\n",
       "      <td>408.0</td>\n",
       "      <td>81.0</td>\n",
       "      <td>14055.93</td>\n",
       "      <td>1</td>\n",
       "      <td>Краснодар</td>\n",
       "      <td>1000</td>\n",
       "      <td>30720</td>\n",
       "      <td>3000</td>\n",
       "      <td>1950</td>\n",
       "      <td>150</td>\n",
       "      <td>1</td>\n",
       "      <td>1</td>\n",
       "      <td>ultra</td>\n",
       "      <td>1950.0</td>\n",
       "    </tr>\n",
       "    <tr>\n",
       "      <th>4</th>\n",
       "      <td>1000</td>\n",
       "      <td>9</td>\n",
       "      <td>466.0</td>\n",
       "      <td>57.0</td>\n",
       "      <td>14568.91</td>\n",
       "      <td>1</td>\n",
       "      <td>Краснодар</td>\n",
       "      <td>1000</td>\n",
       "      <td>30720</td>\n",
       "      <td>3000</td>\n",
       "      <td>1950</td>\n",
       "      <td>150</td>\n",
       "      <td>1</td>\n",
       "      <td>1</td>\n",
       "      <td>ultra</td>\n",
       "      <td>1950.0</td>\n",
       "    </tr>\n",
       "    <tr>\n",
       "      <th>5</th>\n",
       "      <td>1000</td>\n",
       "      <td>10</td>\n",
       "      <td>350.0</td>\n",
       "      <td>73.0</td>\n",
       "      <td>14702.49</td>\n",
       "      <td>1</td>\n",
       "      <td>Краснодар</td>\n",
       "      <td>1000</td>\n",
       "      <td>30720</td>\n",
       "      <td>3000</td>\n",
       "      <td>1950</td>\n",
       "      <td>150</td>\n",
       "      <td>1</td>\n",
       "      <td>1</td>\n",
       "      <td>ultra</td>\n",
       "      <td>1950.0</td>\n",
       "    </tr>\n",
       "    <tr>\n",
       "      <th>6</th>\n",
       "      <td>1000</td>\n",
       "      <td>11</td>\n",
       "      <td>338.0</td>\n",
       "      <td>58.0</td>\n",
       "      <td>14756.47</td>\n",
       "      <td>1</td>\n",
       "      <td>Краснодар</td>\n",
       "      <td>1000</td>\n",
       "      <td>30720</td>\n",
       "      <td>3000</td>\n",
       "      <td>1950</td>\n",
       "      <td>150</td>\n",
       "      <td>1</td>\n",
       "      <td>1</td>\n",
       "      <td>ultra</td>\n",
       "      <td>1950.0</td>\n",
       "    </tr>\n",
       "    <tr>\n",
       "      <th>7</th>\n",
       "      <td>1000</td>\n",
       "      <td>12</td>\n",
       "      <td>333.0</td>\n",
       "      <td>70.0</td>\n",
       "      <td>9817.61</td>\n",
       "      <td>1</td>\n",
       "      <td>Краснодар</td>\n",
       "      <td>1000</td>\n",
       "      <td>30720</td>\n",
       "      <td>3000</td>\n",
       "      <td>1950</td>\n",
       "      <td>150</td>\n",
       "      <td>1</td>\n",
       "      <td>1</td>\n",
       "      <td>ultra</td>\n",
       "      <td>1950.0</td>\n",
       "    </tr>\n",
       "    <tr>\n",
       "      <th>8</th>\n",
       "      <td>1001</td>\n",
       "      <td>11</td>\n",
       "      <td>430.0</td>\n",
       "      <td>-1.0</td>\n",
       "      <td>18429.34</td>\n",
       "      <td>0</td>\n",
       "      <td>Москва</td>\n",
       "      <td>50</td>\n",
       "      <td>15360</td>\n",
       "      <td>500</td>\n",
       "      <td>550</td>\n",
       "      <td>200</td>\n",
       "      <td>3</td>\n",
       "      <td>3</td>\n",
       "      <td>smart</td>\n",
       "      <td>1150.0</td>\n",
       "    </tr>\n",
       "    <tr>\n",
       "      <th>9</th>\n",
       "      <td>1001</td>\n",
       "      <td>12</td>\n",
       "      <td>414.0</td>\n",
       "      <td>-1.0</td>\n",
       "      <td>14036.66</td>\n",
       "      <td>0</td>\n",
       "      <td>Москва</td>\n",
       "      <td>50</td>\n",
       "      <td>15360</td>\n",
       "      <td>500</td>\n",
       "      <td>550</td>\n",
       "      <td>200</td>\n",
       "      <td>3</td>\n",
       "      <td>3</td>\n",
       "      <td>smart</td>\n",
       "      <td>550.0</td>\n",
       "    </tr>\n",
       "  </tbody>\n",
       "</table>\n",
       "</div>"
      ],
      "text/plain": [
       "   user_id  month  call_duration  message_count   traffic  tariff       city  \\\n",
       "0     1000      5          159.0           22.0   2253.49       1  Краснодар   \n",
       "1     1000      6          172.0           60.0  23233.77       1  Краснодар   \n",
       "2     1000      7          340.0           75.0  14003.64       1  Краснодар   \n",
       "3     1000      8          408.0           81.0  14055.93       1  Краснодар   \n",
       "4     1000      9          466.0           57.0  14568.91       1  Краснодар   \n",
       "5     1000     10          350.0           73.0  14702.49       1  Краснодар   \n",
       "6     1000     11          338.0           58.0  14756.47       1  Краснодар   \n",
       "7     1000     12          333.0           70.0   9817.61       1  Краснодар   \n",
       "8     1001     11          430.0           -1.0  18429.34       0     Москва   \n",
       "9     1001     12          414.0           -1.0  14036.66       0     Москва   \n",
       "\n",
       "   messages_included  mb_per_month_included  minutes_included  \\\n",
       "0               1000                  30720              3000   \n",
       "1               1000                  30720              3000   \n",
       "2               1000                  30720              3000   \n",
       "3               1000                  30720              3000   \n",
       "4               1000                  30720              3000   \n",
       "5               1000                  30720              3000   \n",
       "6               1000                  30720              3000   \n",
       "7               1000                  30720              3000   \n",
       "8                 50                  15360               500   \n",
       "9                 50                  15360               500   \n",
       "\n",
       "   rub_monthly_fee  rub_per_gb  rub_per_message  rub_per_minute tariff_name  \\\n",
       "0             1950         150                1               1       ultra   \n",
       "1             1950         150                1               1       ultra   \n",
       "2             1950         150                1               1       ultra   \n",
       "3             1950         150                1               1       ultra   \n",
       "4             1950         150                1               1       ultra   \n",
       "5             1950         150                1               1       ultra   \n",
       "6             1950         150                1               1       ultra   \n",
       "7             1950         150                1               1       ultra   \n",
       "8              550         200                3               3       smart   \n",
       "9              550         200                3               3       smart   \n",
       "\n",
       "   earning  \n",
       "0   1950.0  \n",
       "1   1950.0  \n",
       "2   1950.0  \n",
       "3   1950.0  \n",
       "4   1950.0  \n",
       "5   1950.0  \n",
       "6   1950.0  \n",
       "7   1950.0  \n",
       "8   1150.0  \n",
       "9    550.0  "
      ]
     },
     "metadata": {},
     "output_type": "display_data"
    }
   ],
   "source": [
    "def find_earnings(row): \n",
    "    \n",
    "    # добавим абонентскую плату в выручку\n",
    "    earning = row['rub_monthly_fee']\n",
    "    \n",
    "    # добавим стоимость дополнительных минут в выручку, если они есть\n",
    "    if row['call_duration'] > row['minutes_included']:\n",
    "        earning += (row['call_duration'] - row['minutes_included']) * row['rub_per_minute']\n",
    "        \n",
    "    # добавим стоимость дополнительных сообщений в выручку, если они есть\n",
    "    if row['message_count'] > row['messages_included']:\n",
    "        earning += (row['message_count'] - row['messages_included']) * row['rub_per_message']\n",
    "        \n",
    "    # добавим стоимость дополнительного интернет-трафика в выручку, если он есть\n",
    "    if row['traffic'] > row['mb_per_month_included']:\n",
    "        earning += math.ceil((row['traffic'] - row['mb_per_month_included']) / 1024) * row['rub_per_gb']\n",
    "    return earning\n",
    "\n",
    "# методом apply() применим функцию 'find_earnings' к каждой строке таблицы 'earnings' (axis=1)\n",
    "total['earning'] = total.apply(find_earnings, axis=1)\n",
    "display(total.head(10))"
   ]
  },
  {
   "cell_type": "code",
   "execution_count": 32,
   "metadata": {},
   "outputs": [
    {
     "data": {
      "text/html": [
       "<div>\n",
       "<style scoped>\n",
       "    .dataframe tbody tr th:only-of-type {\n",
       "        vertical-align: middle;\n",
       "    }\n",
       "\n",
       "    .dataframe tbody tr th {\n",
       "        vertical-align: top;\n",
       "    }\n",
       "\n",
       "    .dataframe thead th {\n",
       "        text-align: right;\n",
       "    }\n",
       "</style>\n",
       "<table border=\"1\" class=\"dataframe\">\n",
       "  <thead>\n",
       "    <tr style=\"text-align: right;\">\n",
       "      <th>month</th>\n",
       "      <th>user_id</th>\n",
       "      <th>1</th>\n",
       "      <th>2</th>\n",
       "      <th>3</th>\n",
       "      <th>4</th>\n",
       "      <th>5</th>\n",
       "      <th>6</th>\n",
       "      <th>7</th>\n",
       "      <th>8</th>\n",
       "      <th>9</th>\n",
       "      <th>10</th>\n",
       "      <th>11</th>\n",
       "      <th>12</th>\n",
       "    </tr>\n",
       "  </thead>\n",
       "  <tbody>\n",
       "    <tr>\n",
       "      <th>0</th>\n",
       "      <td>1000</td>\n",
       "      <td>NaN</td>\n",
       "      <td>NaN</td>\n",
       "      <td>NaN</td>\n",
       "      <td>NaN</td>\n",
       "      <td>1950.0</td>\n",
       "      <td>1950.0</td>\n",
       "      <td>1950.0</td>\n",
       "      <td>1950.0</td>\n",
       "      <td>1950.0</td>\n",
       "      <td>1950.0</td>\n",
       "      <td>1950.0</td>\n",
       "      <td>1950.0</td>\n",
       "    </tr>\n",
       "    <tr>\n",
       "      <th>1</th>\n",
       "      <td>1001</td>\n",
       "      <td>NaN</td>\n",
       "      <td>NaN</td>\n",
       "      <td>NaN</td>\n",
       "      <td>NaN</td>\n",
       "      <td>NaN</td>\n",
       "      <td>NaN</td>\n",
       "      <td>NaN</td>\n",
       "      <td>NaN</td>\n",
       "      <td>NaN</td>\n",
       "      <td>NaN</td>\n",
       "      <td>1150.0</td>\n",
       "      <td>550.0</td>\n",
       "    </tr>\n",
       "    <tr>\n",
       "      <th>2</th>\n",
       "      <td>1002</td>\n",
       "      <td>NaN</td>\n",
       "      <td>NaN</td>\n",
       "      <td>NaN</td>\n",
       "      <td>NaN</td>\n",
       "      <td>NaN</td>\n",
       "      <td>550.0</td>\n",
       "      <td>1150.0</td>\n",
       "      <td>1550.0</td>\n",
       "      <td>950.0</td>\n",
       "      <td>550.0</td>\n",
       "      <td>1350.0</td>\n",
       "      <td>1150.0</td>\n",
       "    </tr>\n",
       "    <tr>\n",
       "      <th>3</th>\n",
       "      <td>1003</td>\n",
       "      <td>NaN</td>\n",
       "      <td>NaN</td>\n",
       "      <td>NaN</td>\n",
       "      <td>NaN</td>\n",
       "      <td>NaN</td>\n",
       "      <td>NaN</td>\n",
       "      <td>NaN</td>\n",
       "      <td>1950.0</td>\n",
       "      <td>1950.0</td>\n",
       "      <td>1950.0</td>\n",
       "      <td>1950.0</td>\n",
       "      <td>1950.0</td>\n",
       "    </tr>\n",
       "    <tr>\n",
       "      <th>4</th>\n",
       "      <td>1004</td>\n",
       "      <td>NaN</td>\n",
       "      <td>NaN</td>\n",
       "      <td>NaN</td>\n",
       "      <td>NaN</td>\n",
       "      <td>1950.0</td>\n",
       "      <td>1950.0</td>\n",
       "      <td>1950.0</td>\n",
       "      <td>1950.0</td>\n",
       "      <td>1950.0</td>\n",
       "      <td>1950.0</td>\n",
       "      <td>1950.0</td>\n",
       "      <td>1950.0</td>\n",
       "    </tr>\n",
       "    <tr>\n",
       "      <th>5</th>\n",
       "      <td>1005</td>\n",
       "      <td>550.0</td>\n",
       "      <td>550.0</td>\n",
       "      <td>886.0</td>\n",
       "      <td>1186.0</td>\n",
       "      <td>835.0</td>\n",
       "      <td>886.0</td>\n",
       "      <td>775.0</td>\n",
       "      <td>949.0</td>\n",
       "      <td>556.0</td>\n",
       "      <td>1219.0</td>\n",
       "      <td>694.0</td>\n",
       "      <td>838.0</td>\n",
       "    </tr>\n",
       "    <tr>\n",
       "      <th>6</th>\n",
       "      <td>1006</td>\n",
       "      <td>NaN</td>\n",
       "      <td>550.0</td>\n",
       "      <td>950.0</td>\n",
       "      <td>550.0</td>\n",
       "      <td>550.0</td>\n",
       "      <td>550.0</td>\n",
       "      <td>1550.0</td>\n",
       "      <td>1350.0</td>\n",
       "      <td>750.0</td>\n",
       "      <td>1550.0</td>\n",
       "      <td>550.0</td>\n",
       "      <td>1350.0</td>\n",
       "    </tr>\n",
       "    <tr>\n",
       "      <th>7</th>\n",
       "      <td>1007</td>\n",
       "      <td>NaN</td>\n",
       "      <td>NaN</td>\n",
       "      <td>NaN</td>\n",
       "      <td>550.0</td>\n",
       "      <td>1150.0</td>\n",
       "      <td>685.0</td>\n",
       "      <td>981.0</td>\n",
       "      <td>1750.0</td>\n",
       "      <td>1015.0</td>\n",
       "      <td>550.0</td>\n",
       "      <td>990.0</td>\n",
       "      <td>550.0</td>\n",
       "    </tr>\n",
       "    <tr>\n",
       "      <th>8</th>\n",
       "      <td>1008</td>\n",
       "      <td>NaN</td>\n",
       "      <td>NaN</td>\n",
       "      <td>NaN</td>\n",
       "      <td>NaN</td>\n",
       "      <td>NaN</td>\n",
       "      <td>NaN</td>\n",
       "      <td>NaN</td>\n",
       "      <td>NaN</td>\n",
       "      <td>NaN</td>\n",
       "      <td>NaN</td>\n",
       "      <td>NaN</td>\n",
       "      <td>568.0</td>\n",
       "    </tr>\n",
       "    <tr>\n",
       "      <th>9</th>\n",
       "      <td>1009</td>\n",
       "      <td>NaN</td>\n",
       "      <td>NaN</td>\n",
       "      <td>550.0</td>\n",
       "      <td>550.0</td>\n",
       "      <td>550.0</td>\n",
       "      <td>750.0</td>\n",
       "      <td>2550.0</td>\n",
       "      <td>2350.0</td>\n",
       "      <td>1950.0</td>\n",
       "      <td>1550.0</td>\n",
       "      <td>950.0</td>\n",
       "      <td>1350.0</td>\n",
       "    </tr>\n",
       "  </tbody>\n",
       "</table>\n",
       "</div>"
      ],
      "text/plain": [
       "month  user_id      1      2      3       4       5       6       7       8  \\\n",
       "0         1000    NaN    NaN    NaN     NaN  1950.0  1950.0  1950.0  1950.0   \n",
       "1         1001    NaN    NaN    NaN     NaN     NaN     NaN     NaN     NaN   \n",
       "2         1002    NaN    NaN    NaN     NaN     NaN   550.0  1150.0  1550.0   \n",
       "3         1003    NaN    NaN    NaN     NaN     NaN     NaN     NaN  1950.0   \n",
       "4         1004    NaN    NaN    NaN     NaN  1950.0  1950.0  1950.0  1950.0   \n",
       "5         1005  550.0  550.0  886.0  1186.0   835.0   886.0   775.0   949.0   \n",
       "6         1006    NaN  550.0  950.0   550.0   550.0   550.0  1550.0  1350.0   \n",
       "7         1007    NaN    NaN    NaN   550.0  1150.0   685.0   981.0  1750.0   \n",
       "8         1008    NaN    NaN    NaN     NaN     NaN     NaN     NaN     NaN   \n",
       "9         1009    NaN    NaN  550.0   550.0   550.0   750.0  2550.0  2350.0   \n",
       "\n",
       "month       9      10      11      12  \n",
       "0      1950.0  1950.0  1950.0  1950.0  \n",
       "1         NaN     NaN  1150.0   550.0  \n",
       "2       950.0   550.0  1350.0  1150.0  \n",
       "3      1950.0  1950.0  1950.0  1950.0  \n",
       "4      1950.0  1950.0  1950.0  1950.0  \n",
       "5       556.0  1219.0   694.0   838.0  \n",
       "6       750.0  1550.0   550.0  1350.0  \n",
       "7      1015.0   550.0   990.0   550.0  \n",
       "8         NaN     NaN     NaN   568.0  \n",
       "9      1950.0  1550.0   950.0  1350.0  "
      ]
     },
     "metadata": {},
     "output_type": "display_data"
    }
   ],
   "source": [
    "#создадим сводную таблицу с разбивкой по месяцам и информацией о прибили с каждого клиента\n",
    "total_user_per_month = total.pivot_table(index = 'user_id', columns = 'month', values = 'earning', aggfunc = 'first')\n",
    "total_user_per_month=total_user_per_month.reset_index()\n",
    "display(total_user_per_month.head(10))"
   ]
  },
  {
   "cell_type": "markdown",
   "metadata": {},
   "source": [
    "### Удаление выбросов"
   ]
  },
  {
   "cell_type": "code",
   "execution_count": 33,
   "metadata": {},
   "outputs": [
    {
     "data": {
      "image/png": "[encoded data removed]",
      "text/plain": [
       "<Figure size 2160x1440 with 3 Axes>"
      ]
     },
     "metadata": {
      "needs_background": "light"
     },
     "output_type": "display_data"
    }
   ],
   "source": [
    "#построим график и удалим выбросы\n",
    "fig = plt.figure(figsize = (30, 20))\n",
    "ax1 = fig.add_subplot(1, 3, 1)\n",
    "ax2 = fig.add_subplot(1, 3, 2)\n",
    "ax3 = fig.add_subplot(1, 3, 3)\n",
    "ax1.set_title('Расапределение месячного времени разговора', fontsize = 20)\n",
    "ax2.set_title('Расапределение месячного количества сообщений', fontsize = 20)\n",
    "ax3.set_title('Расапределение месячного трафика', fontsize = 20)\n",
    "\n",
    "sns.boxplot(x = 'tariff', y = 'call_duration', data = total.query('call_duration >= 0'), ax = ax1)\n",
    "sns.boxplot(x = 'tariff', y = 'message_count', data = total.query('message_count >= 0'), ax = ax2)\n",
    "sns.boxplot(x = 'tariff', y = 'traffic', data = total.query('traffic >= 0'), ax = ax3)\n",
    "\n",
    "plt.show()"
   ]
  },
  {
   "cell_type": "code",
   "execution_count": 34,
   "metadata": {},
   "outputs": [
    {
     "name": "stdout",
     "output_type": "stream",
     "text": [
      "характеристики для: call_duration   0\n",
      "count    2223.000000\n",
      "mean      419.062978\n",
      "std       189.325618\n",
      "min         0.000000\n",
      "25%       285.000000\n",
      "50%       423.000000\n",
      "75%       545.500000\n",
      "max      1435.000000\n",
      "Name: call_duration, dtype: float64\n",
      "характеристики для: message_count   0\n",
      "count    1922.000000\n",
      "mean       38.716441\n",
      "std        26.787949\n",
      "min         1.000000\n",
      "25%        17.000000\n",
      "50%        34.000000\n",
      "75%        55.000000\n",
      "max       143.000000\n",
      "Name: message_count, dtype: float64\n",
      "характеристики для: traffic   0\n",
      "count     2228.000000\n",
      "mean     16215.661849\n",
      "std       5861.736234\n",
      "min          0.000000\n",
      "25%      12649.272500\n",
      "50%      16507.740000\n",
      "75%      20043.792500\n",
      "max      38552.450000\n",
      "Name: traffic, dtype: float64\n",
      "характеристики для: call_duration   1\n",
      "count     951.000000\n",
      "mean      545.451104\n",
      "std       306.925754\n",
      "min         0.000000\n",
      "25%       310.000000\n",
      "50%       528.000000\n",
      "75%       756.500000\n",
      "max      1673.000000\n",
      "Name: call_duration, dtype: float64\n",
      "характеристики для: message_count   1\n",
      "count    795.000000\n",
      "mean      61.161006\n",
      "std       45.931026\n",
      "min        1.000000\n",
      "25%       24.000000\n",
      "50%       51.000000\n",
      "75%       87.500000\n",
      "max      224.000000\n",
      "Name: message_count, dtype: float64\n",
      "характеристики для: traffic   1\n",
      "count      975.000000\n",
      "mean     19668.485262\n",
      "std       9943.050284\n",
      "min          0.000000\n",
      "25%      12008.305000\n",
      "50%      19394.290000\n",
      "75%      26896.550000\n",
      "max      49745.690000\n",
      "Name: traffic, dtype: float64\n"
     ]
    }
   ],
   "source": [
    "columns_waste = ['call_duration', 'message_count', 'traffic']\n",
    "tariffs_waste = [0,1]\n",
    "for i in tariffs_waste:\n",
    "    for n in columns_waste:\n",
    "        print('характеристики для:', n, ' ', i)\n",
    "        print(total[(total[n] >= 0) & (total['tariff'] == i)].describe()[n])\n",
    "        a = total[(total[n] >= 0) & (total['tariff'] == i)].describe()[n]"
   ]
  },
  {
   "cell_type": "code",
   "execution_count": 90,
   "metadata": {},
   "outputs": [
    {
     "name": "stdout",
     "output_type": "stream",
     "text": [
      "Крайние значения для тарифа Smart по времени разговора: 929.5\n",
      "Крайние значения для тарифа Ultra по времени разговора: 1422.5\n",
      "Крайние значения для тарифа Smart по количеству сообщений: 112.0\n",
      "Крайние значения для тарифа Ultra по количеству сообщений: 175.25\n",
      "Крайние значения для тарифа Smart по количеству трафика: 30816.5\n",
      "Крайние значения для тарифа Smart по количеству трафика: 1892.5\n",
      "Крайние значения для тарифа Ultra по количеству трафика: 48948.0\n"
     ]
    }
   ],
   "source": [
    "print('Крайние значения для тарифа Smart по времени разговора:',544 + 1.5*(544 - 287))\n",
    "print('Крайние значения для тарифа Ultra по времени разговора:',755 + 1.5*(755 - 310))\n",
    "print('Крайние значения для тарифа Smart по количеству сообщений:',55 + 1.5*(55 - 17))\n",
    "print('Крайние значения для тарифа Ultra по количеству сообщений:',84.5 + 1.5*(84.5 - 24))\n",
    "print('Крайние значения для тарифа Smart по количеству трафика:',19970 + 1.5*(19970 - 12739))\n",
    "print('Крайние значения для тарифа Smart по количеству трафика:',12739 - 1.5*(19970 - 12739))\n",
    "print('Крайние значения для тарифа Ultra по количеству трафика:',26745 + 1.5*(26745 - 11943))"
   ]
  },
  {
   "cell_type": "code",
   "execution_count": 91,
   "metadata": {},
   "outputs": [],
   "source": [
    "def print_outliers_rate(column, tariff, value_left=-999, value_right=10**9):\n",
    " \n",
    "    earnings_tariff = total.loc[total['tariff_name'] == tariff]\n",
    "    num_outliers = len(earnings_tariff.loc[(earnings_tariff[column] >= value_right) |\n",
    "                                           (earnings_tariff[column] <= value_left)]) \n",
    "    \n",
    "    num_vals = sum(earnings_tariff[column] >= 0)\n",
    "    rate = round(num_outliers / num_vals * 100, 2)\n",
    "    print('Доля выбросов для', column, ':', rate, '% от общего количества данных по тарифу', tariff)"
   ]
  },
  {
   "cell_type": "code",
   "execution_count": 92,
   "metadata": {},
   "outputs": [
    {
     "name": "stdout",
     "output_type": "stream",
     "text": [
      "Доля выбросов для call_duration : 0.21 % от общего количества данных по тарифу ultra\n",
      "Доля выбросов для message_count : 2.01 % от общего количества данных по тарифу ultra\n",
      "Доля выбросов для traffic : 0.1 % от общего количества данных по тарифу ultra\n"
     ]
    }
   ],
   "source": [
    "# определим доли выбросов по тарифу ultra\n",
    "print_outliers_rate('call_duration', 'ultra', value_right=1422.5)\n",
    "print_outliers_rate('message_count', 'ultra', value_right=175.25)\n",
    "print_outliers_rate('traffic', 'ultra', value_right=48948)"
   ]
  },
  {
   "cell_type": "code",
   "execution_count": 93,
   "metadata": {},
   "outputs": [
    {
     "name": "stdout",
     "output_type": "stream",
     "text": [
      "Доля выбросов для call_duration : 0.58 % от общего количества данных по тарифу smart\n",
      "Доля выбросов для message_count : 0.78 % от общего количества данных по тарифу smart\n",
      "Доля выбросов для traffic : 2.15 % от общего количества данных по тарифу smart\n"
     ]
    }
   ],
   "source": [
    "# определим доли выбросов по тарифу smart\n",
    "print_outliers_rate('call_duration', 'smart', value_right=929.5)\n",
    "print_outliers_rate('message_count', 'smart', value_right=112)\n",
    "print_outliers_rate('traffic', 'smart', value_left=1892.5, value_right=30816.5)"
   ]
  },
  {
   "cell_type": "code",
   "execution_count": 94,
   "metadata": {},
   "outputs": [],
   "source": [
    "def erase_outliers(column, tariff, value_left=-999, value_right=10**9):\n",
    "    total.drop(total.loc[(total['tariff_name'] == tariff) &\n",
    "                            ((total[column] >= value_right) |\n",
    "                            (total[column] <= value_left))].index,\n",
    "                  inplace=True\n",
    "                 )"
   ]
  },
  {
   "cell_type": "code",
   "execution_count": 95,
   "metadata": {},
   "outputs": [
    {
     "name": "stdout",
     "output_type": "stream",
     "text": [
      "Доля удалённых выбросов: 2.89 %\n"
     ]
    }
   ],
   "source": [
    "#посчитаем долю удаленных выбросов\n",
    "num_rows_before = len(total)\n",
    "\n",
    "erase_outliers('call_duration', 'ultra', value_right=1422.5)\n",
    "erase_outliers('message_count', 'ultra', value_right=175.25)\n",
    "erase_outliers('traffic', 'ultra', value_right=48948)\n",
    "\n",
    "erase_outliers('call_duration', 'smart', value_right=929.5)\n",
    "erase_outliers('message_count', 'smart', value_right=112)\n",
    "erase_outliers('traffic', 'smart', value_left=1892.5, value_right=30816.5)\n",
    "print('Доля удалённых выбросов:', round((num_rows_before - len(total)) / num_rows_before * 100, 2), '%')"
   ]
  },
  {
   "cell_type": "markdown",
   "metadata": {},
   "source": [
    "### Вывод"
   ]
  },
  {
   "cell_type": "markdown",
   "metadata": {},
   "source": [
    "Было посчитано количество звонков и израсходаванных минут по месяцам на каждого клиента.\n",
    "Было посчитано количество сообщений по месяцам на каждого клиента.\n",
    "Было посчитано количество израсходаванного трафика по месяцам на каждого клиента.\n",
    "Была посчитана помесячная выручка для каждого клиента по месяцам.\n",
    "Выбросов оказалось мало и мы их удалили для дальнейшего анализа и проверки гипотез."
   ]
  },
  {
   "cell_type": "markdown",
   "metadata": {},
   "source": [
    "## Анализ минут разговора"
   ]
  },
  {
   "cell_type": "code",
   "execution_count": 96,
   "metadata": {},
   "outputs": [],
   "source": [
    "#создадим отдельнын таблицы с тарифами\n",
    "ultra_df = total.query('tariff == 1')\n",
    "smart_df = total.query('tariff == 0')\n",
    "ultra_df = ultra_df.groupby('user_id')[['call_duration', 'message_count', 'traffic']].agg('mean')\n",
    "smart_df = smart_df.groupby('user_id')[['call_duration', 'message_count', 'traffic']].agg('mean')"
   ]
  },
  {
   "cell_type": "code",
   "execution_count": 97,
   "metadata": {},
   "outputs": [
    {
     "name": "stdout",
     "output_type": "stream",
     "text": [
      "Среднее значение времени разговора тарифа Ultra: 538.54\n",
      "Медианное значение времени разговора тарифа Ultra: 513.33\n",
      "Дисперсия значения времени разговора тарифа Ultra: 71489.56\n",
      "Стандартное отклонение времени разговора тарифа Ultra: 267.38\n",
      "----------------------------------------------------\n",
      "Среднее значение времени разговора тарифа Smart: 417.72\n",
      "Медианное значение времени разговора тарифа Smart: 430.33\n",
      "Дисперсия значения времени разговора тарифа Smart: 21332.53\n",
      "Стандартное отклонение времени разговора тарифа Smart: 146.06\n"
     ]
    }
   ],
   "source": [
    "#посчитаем необходимые нам показатели\n",
    "print('Среднее значение времени разговора тарифа Ultra:', round(ultra_df.query('call_duration >= 0').mean()['call_duration'],2))\n",
    "print('Медианное значение времени разговора тарифа Ultra:', round(ultra_df.query('call_duration >= 0').median()['call_duration'],2))\n",
    "print('Дисперсия значения времени разговора тарифа Ultra:', round(np.var(ultra_df.query('call_duration >= 0')['call_duration']),2))\n",
    "print('Стандартное отклонение времени разговора тарифа Ultra:', round(np.sqrt(np.var(ultra_df.query('call_duration >= 0')['call_duration'])),2))\n",
    "print('----------------------------------------------------')\n",
    "print('Среднее значение времени разговора тарифа Smart:', round(smart_df.query('call_duration >= 0').mean()['call_duration'],2))\n",
    "print('Медианное значение времени разговора тарифа Smart:', round(smart_df.query('call_duration >= 0').median()['call_duration'],2))\n",
    "print('Дисперсия значения времени разговора тарифа Smart:', round(np.var(smart_df.query('call_duration >= 0')['call_duration']),2))\n",
    "print('Стандартное отклонение времени разговора тарифа Smart:', round(np.sqrt(np.var(smart_df.query('call_duration >= 0')['call_duration'])),2))"
   ]
  },
  {
   "cell_type": "code",
   "execution_count": 98,
   "metadata": {},
   "outputs": [
    {
     "name": "stdout",
     "output_type": "stream",
     "text": [
      "99.9 % всех значений тарифа Ultra лежит в диапазоне от 0 до 1356\n",
      "99.9 % всех значений тарифа Smart лежит в диапазоне от 0 до 873\n"
     ]
    }
   ],
   "source": [
    "#посчитаем какие значения лежат в диапазоне 3 сигм\n",
    "print('99.9 % всех значений тарифа Ultra лежит в диапазоне от 0 до', round(st.norm(539.08, 264.24).ppf(0.999)))\n",
    "print('99.9 % всех значений тарифа Smart лежит в диапазоне от 0 до', round(st.norm(415.67, 147.88).ppf(0.999)))"
   ]
  },
  {
   "cell_type": "code",
   "execution_count": 99,
   "metadata": {},
   "outputs": [
    {
     "name": "stdout",
     "output_type": "stream",
     "text": [
      "Доля клиентов, которые превышают лимит по тарифу Smart: 29.68 %\n",
      "Доля клиентов, которые превышают лимит по тарифу Ultra: 0.0 %\n"
     ]
    }
   ],
   "source": [
    "#посчитаем какой процент клиентов переплачивает за дополнительные минуты\n",
    "print('Доля клиентов, которые превышают лимит по тарифу Smart:', round(len(smart_df.query('call_duration >= 500'))*100/len(smart_df), 2), '%')\n",
    "print('Доля клиентов, которые превышают лимит по тарифу Ultra:', round(len(ultra_df.query('call_duration >= 3000'))*100/len(ultra_df), 2), '%')"
   ]
  },
  {
   "cell_type": "code",
   "execution_count": 120,
   "metadata": {},
   "outputs": [
    {
     "data": {
      "image/png": "[encoded data removed]",
      "text/plain": [
       "<Figure size 1080x720 with 1 Axes>"
      ]
     },
     "metadata": {
      "needs_background": "light"
     },
     "output_type": "display_data"
    }
   ],
   "source": [
    "#построим гистограмму для разных тарифов по продолжительности разговора\n",
    "fig = plt.figure(figsize = (15, 10))\n",
    "ax1 = fig.add_subplot()\n",
    "sns.histplot(x = 'call_duration', data = ultra_df, bins = 15, ax = ax1)\n",
    "sns.histplot(x = 'call_duration', data = smart_df, bins = 15, ax = ax1, alpha = 0.2, color = 'blue')\n",
    "ax1.set_title('Гистограмма продолжительноси разговора')\n",
    "ax1.set_xlabel('Продолжительность разговора')\n",
    "ax1.set_ylabel('Количество пользователей')\n",
    "plt.show()"
   ]
  },
  {
   "cell_type": "markdown",
   "metadata": {},
   "source": [
    "### Вывод"
   ]
  },
  {
   "cell_type": "markdown",
   "metadata": {},
   "source": [
    "1) Среднее значение для тарифа Smart 415 мин, а для тарифа Ultra 539 мин\n",
    "\n",
    "2) Гистограммы близки к нормальному распределению\n",
    "\n",
    "3) 99,9 % всех значений лежит в:\n",
    "- для тарифа Smart от 0 до 837\n",
    "- для тарифа Ultra от 0 до 1356\n",
    "\n",
    "4) Клиенты тарифа Ultra не превышают значений по тарифу. А вот около 29 % клиентов тарифа Smart превышают значения по тарифу и доплачивают за минуты."
   ]
  },
  {
   "cell_type": "markdown",
   "metadata": {},
   "source": [
    "## Анализ количества сообщений"
   ]
  },
  {
   "cell_type": "code",
   "execution_count": 101,
   "metadata": {},
   "outputs": [
    {
     "name": "stdout",
     "output_type": "stream",
     "text": [
      "Среднее значение  количества сообщений тарифа Ultra: 62.41\n",
      "Медианное значение времени разговора тарифа Ultra: 57.8\n",
      "Дисперсия значения времени разговора тарифа Ultra: 1599.0\n",
      "Стандартное отклонение времени разговора тарифа Ultra: 39.99\n",
      "----------------------------------------------------\n",
      "Среднее значение количества сообщений тарифа Smart: 37.33\n",
      "Медианное значение количества сообщений тарифа Smart: 33.0\n",
      "Дисперсия значения количества сообщений тарифа Smart: 614.61\n",
      "Стандартное отклонение количества сообщений тарифа Smart: 24.79\n"
     ]
    }
   ],
   "source": [
    "#посчитаем необходимые нам показатели\n",
    "print('Среднее значение  количества сообщений тарифа Ultra:', round(ultra_df.query('message_count >= 0').mean()['message_count'],2))\n",
    "print('Медианное значение времени разговора тарифа Ultra:', round(ultra_df.query('message_count >= 0').median()['message_count'],2))\n",
    "print('Дисперсия значения времени разговора тарифа Ultra:', round(np.var(ultra_df.query('message_count >= 0')['message_count']),2))\n",
    "print('Стандартное отклонение времени разговора тарифа Ultra:', round(np.sqrt(np.var(ultra_df.query('message_count >= 0')['message_count'])),2))\n",
    "print('----------------------------------------------------')\n",
    "print('Среднее значение количества сообщений тарифа Smart:', round(smart_df.query('message_count >= 0').mean()['message_count'],2))\n",
    "print('Медианное значение количества сообщений тарифа Smart:', round(smart_df.query('message_count >= 0').median()['message_count'],2))\n",
    "print('Дисперсия значения количества сообщений тарифа Smart:', round(np.var(smart_df.query('message_count >= 0')['message_count']),2))\n",
    "print('Стандартное отклонение количества сообщений тарифа Smart:', round(np.sqrt(np.var(smart_df.query('message_count >= 0')['message_count'])),2))"
   ]
  },
  {
   "cell_type": "code",
   "execution_count": 102,
   "metadata": {},
   "outputs": [
    {
     "name": "stdout",
     "output_type": "stream",
     "text": [
      "99.9 % всех значений тарифа Ultra лежит в диапазоне от 0 до 189\n",
      "99.9 % всех значений тарифа Smart лежит в диапазоне от 0 до 114\n"
     ]
    }
   ],
   "source": [
    "#посчитаем какие значения лежат в диапазоне 3 сигм\n",
    "print('99.9 % всех значений тарифа Ultra лежит в диапазоне от 0 до', round(st.norm(63.02, 40.82).ppf(0.999)))\n",
    "print('99.9 % всех значений тарифа Smart лежит в диапазоне от 0 до', round(st.norm(37.14, 24.82).ppf(0.999)))"
   ]
  },
  {
   "cell_type": "code",
   "execution_count": 103,
   "metadata": {},
   "outputs": [
    {
     "name": "stdout",
     "output_type": "stream",
     "text": [
      "Доля клиентов, которые превышают лимит по тарифу Smart: 23.34 %\n",
      "Доля клиентов, которые превышают лимит по тарифу Ultra: 0.0 %\n"
     ]
    }
   ],
   "source": [
    "#посчитаем какой процент клиентов переплачивает за дополнительные сообщения\n",
    "print('Доля клиентов, которые превышают лимит по тарифу Smart:', round(len(smart_df.query('message_count >= 50'))*100/len(smart_df), 2), '%')\n",
    "print('Доля клиентов, которые превышают лимит по тарифу Ultra:', round(len(ultra_df.query('message_count >= 1000'))*100/len(ultra_df), 2), '%')"
   ]
  },
  {
   "cell_type": "code",
   "execution_count": 119,
   "metadata": {},
   "outputs": [
    {
     "data": {
      "image/png": "[encoded data removed]",
      "text/plain": [
       "<Figure size 1080x720 with 1 Axes>"
      ]
     },
     "metadata": {
      "needs_background": "light"
     },
     "output_type": "display_data"
    }
   ],
   "source": [
    "#построим гистограмму для разных тарифов по количеству сообщений\n",
    "fig = plt.figure(figsize = (15, 10))\n",
    "ax1 = fig.add_subplot()\n",
    "sns.histplot(x = 'message_count', data = ultra_df, bins = 10, ax = ax1)\n",
    "sns.histplot(x = 'message_count', data = smart_df, bins = 10, ax = ax1, alpha = 0.2, color = 'blue')\n",
    "ax1.set_title('Гистограмма количества сообщений')\n",
    "ax1.set_xlabel('Количество сообщений')\n",
    "ax1.set_ylabel('Количество пользователей')\n",
    "plt.show()"
   ]
  },
  {
   "cell_type": "markdown",
   "metadata": {},
   "source": [
    "### Вывод"
   ]
  },
  {
   "cell_type": "markdown",
   "metadata": {},
   "source": [
    "1) Среднее значение для тарифа Smart 37 сообщений, а для тарифа Ultra 63 сообщения\n",
    "\n",
    "2) Гистограммы отдаленно напоминают половинку от нормального распределения. Не достаточно информативен. Мало клиентов для анализа. Хотя можно заметить, что клиенты тарифа Smart более активно отправляют сообщения.\n",
    "\n",
    "3) 99,9 % всех значений лежит в:\n",
    "- для тарифа Smart от 0 до 114\n",
    "- для тарифа Ultra от 0 до 189\n",
    "\n",
    "4) Клиенты тарифа Ultra не превышают значений по тарифу. А вот около 23 % клиентов тарифа Smart превышают значения по тарифу и доплачивают за сообщения."
   ]
  },
  {
   "cell_type": "markdown",
   "metadata": {},
   "source": [
    "## Анализ трафика"
   ]
  },
  {
   "cell_type": "code",
   "execution_count": 105,
   "metadata": {},
   "outputs": [
    {
     "name": "stdout",
     "output_type": "stream",
     "text": [
      "Среднее значение трафика для тарифа Ultra: 19437.94\n",
      "Медианное значение трафика для тарифа Ultra: 18685.46\n",
      "Дисперсия значения трафика для тарифа Ultra: 64889407.07\n",
      "Стандартное отклонение трафика для тарифа Ultra: 8055.4\n",
      "----------------------------------------------------\n",
      "Среднее значение трафика для тарифа Smart: 16054.09\n",
      "Медианное значение трафика для тарифа Smart: 16233.0\n",
      "Дисперсия значения трафика для тарифа Smart: 15008344.81\n",
      "Стандартное отклонение трафика для тарифа Smart: 3874.06\n"
     ]
    }
   ],
   "source": [
    "#посчитаем необходимые нам показатели\n",
    "print('Среднее значение трафика для тарифа Ultra:', round(ultra_df.query('traffic >= 0').mean()['traffic'],2))\n",
    "print('Медианное значение трафика для тарифа Ultra:', round(ultra_df.query('traffic >= 0').median()['traffic'],2))\n",
    "print('Дисперсия значения трафика для тарифа Ultra:', round(np.var(ultra_df.query('traffic >= 0')['traffic']),2))\n",
    "print('Стандартное отклонение трафика для тарифа Ultra:', round(np.sqrt(np.var(ultra_df.query('traffic >= 0')['traffic'])),2))\n",
    "print('----------------------------------------------------')\n",
    "print('Среднее значение трафика для тарифа Smart:', round(smart_df.query('traffic >= 0').mean()['traffic'],2))\n",
    "print('Медианное значение трафика для тарифа Smart:', round(smart_df.query('traffic >= 0').median()['traffic'],2))\n",
    "print('Дисперсия значения трафика для тарифа Smart:', round(np.var(smart_df.query('traffic >= 0')['traffic']),2))\n",
    "print('Стандартное отклонение трафика для тарифа Smart:', round(np.sqrt(np.var(smart_df.query('traffic >= 0')['traffic'])),2))"
   ]
  },
  {
   "cell_type": "code",
   "execution_count": 106,
   "metadata": {},
   "outputs": [
    {
     "name": "stdout",
     "output_type": "stream",
     "text": [
      "99.9 % всех значений тарифа Ultra лежит в диапазоне от 0 до 44417\n",
      "99.9 % всех значений тарифа Smart лежит в диапазоне от 0 до 28189\n"
     ]
    }
   ],
   "source": [
    "#посчитаем какие значения лежат в диапазоне 3 сигм\n",
    "print('99.9 % всех значений тарифа Ultra лежит в диапазоне от 0 до', round(st.norm(19538, 8051).ppf(0.999)))\n",
    "print('99.9 % всех значений тарифа Smart лежит в диапазоне от 0 до', round(st.norm(16004, 3943).ppf(0.999)))"
   ]
  },
  {
   "cell_type": "code",
   "execution_count": 107,
   "metadata": {},
   "outputs": [
    {
     "name": "stdout",
     "output_type": "stream",
     "text": [
      "Доля клиентов, которые превышают лимит по тарифу Smart: 65.13 %\n",
      "Доля клиентов, которые превышают лимит по тарифу Ultra: 12.16 %\n"
     ]
    }
   ],
   "source": [
    "#посчитаем какой процент клиентов переплачивает за дополнительный трафик\n",
    "print('Доля клиентов, которые превышают лимит по тарифу Smart:', round(len(smart_df.query('traffic >= 15000'))*100/len(smart_df), 2), '%')\n",
    "print('Доля клиентов, которые превышают лимит по тарифу Ultra:', round(len(ultra_df.query('traffic >= 30000'))*100/len(ultra_df), 2), '%')"
   ]
  },
  {
   "cell_type": "code",
   "execution_count": 118,
   "metadata": {},
   "outputs": [
    {
     "data": {
      "image/png": "[encoded data removed]",
      "text/plain": [
       "<Figure size 1080x720 with 1 Axes>"
      ]
     },
     "metadata": {
      "needs_background": "light"
     },
     "output_type": "display_data"
    }
   ],
   "source": [
    "#построим гистограмму для разных тарифов по количеству трафика\n",
    "fig = plt.figure(figsize = (15, 10))\n",
    "ax1 = fig.add_subplot()\n",
    "sns.histplot(x = 'traffic', data = ultra_df, bins = 10, ax = ax1)\n",
    "sns.histplot(x = 'traffic', data = smart_df, bins = 10, ax = ax1, alpha = 0.2, color = 'blue')\n",
    "ax1.set_title('Гистограмма трафика')\n",
    "ax1.set_xlabel('Количество трафика в mb')\n",
    "ax1.set_ylabel('Количество пользователей')\n",
    "plt.show()"
   ]
  },
  {
   "cell_type": "markdown",
   "metadata": {},
   "source": [
    "### Вывод"
   ]
  },
  {
   "cell_type": "markdown",
   "metadata": {},
   "source": [
    "1) Среднее значение для тарифа Smart 16 Гб, а для тарифа Ultra 19.5 Гб.\n",
    "\n",
    "2) Гистограмма напоминает нормальное распределение\n",
    "\n",
    "3) 99,9 % всех значений лежит в:\n",
    "- для тарифа Smart от 0 до 28.2 Гб\n",
    "- для тарифа Ultra от 0 до 44.4 Гб\n",
    "\n",
    "4) 12 % клиентов тарифа Ultra превышают значения по тарифу. Около 64 % клиентов тарифа Smart превышают значения по тарифу и доплачивают за траффик."
   ]
  },
  {
   "cell_type": "markdown",
   "metadata": {},
   "source": [
    "## Анализ выручки"
   ]
  },
  {
   "cell_type": "code",
   "execution_count": 109,
   "metadata": {},
   "outputs": [],
   "source": [
    "#создадим новую таблицу и сгруппируем, что бы построить график для выручки\n",
    "total_month_ultra = total.query('tariff == 1').groupby('user_id')['earning'].agg('mean')\n",
    "total_month_smart = total.query('tariff == 0').groupby('user_id')['earning'].agg('mean')"
   ]
  },
  {
   "cell_type": "code",
   "execution_count": 121,
   "metadata": {},
   "outputs": [
    {
     "data": {
      "image/png": "[encoded data removed]",
      "text/plain": [
       "<Figure size 1080x720 with 1 Axes>"
      ]
     },
     "metadata": {
      "needs_background": "light"
     },
     "output_type": "display_data"
    }
   ],
   "source": [
    "#построим график средней выручки в деньгах и количеству клиентов\n",
    "fig = plt.figure(figsize = (15, 10))\n",
    "ax1 = fig.add_subplot()\n",
    "sns.histplot( data = total_month_smart, bins = 20, ax = ax1)\n",
    "sns.histplot( data = total_month_ultra, bins = 20, ax = ax1, alpha = 0.7, color = 'blue')\n",
    "ax1.set_title('Гистограмма выручки')\n",
    "ax1.set_xlabel('Выручка')\n",
    "ax1.set_ylabel('Количество пользователей')\n",
    "plt.show()"
   ]
  },
  {
   "cell_type": "code",
   "execution_count": 122,
   "metadata": {},
   "outputs": [
    {
     "data": {
      "image/png": "[encoded data removed]",
      "text/plain": [
       "<Figure size 1080x504 with 1 Axes>"
      ]
     },
     "metadata": {
      "needs_background": "light"
     },
     "output_type": "display_data"
    }
   ],
   "source": [
    "#построим график средней выручки по месяцам\n",
    "fig = plt.figure(figsize = (15, 7))\n",
    "ax1 = fig.add_subplot()\n",
    "sns.lineplot( data = total, ax = ax1, x = 'month', y = 'earning', ci = None, hue = 'tariff_name')\n",
    "ax1.set_title('Гистограмма средней выручки по месяцам')\n",
    "ax1.set_xlabel('Месяц')\n",
    "ax1.set_ylabel('Выручка')\n",
    "plt.show()"
   ]
  },
  {
   "cell_type": "code",
   "execution_count": 123,
   "metadata": {},
   "outputs": [
    {
     "data": {
      "image/png": "[encoded data removed]",
      "text/plain": [
       "<Figure size 1080x504 with 1 Axes>"
      ]
     },
     "metadata": {
      "needs_background": "light"
     },
     "output_type": "display_data"
    }
   ],
   "source": [
    "#построим график переплат по месяцам\n",
    "fig = plt.figure(figsize = (15, 7))\n",
    "ax1 = fig.add_subplot()\n",
    "sns.lineplot( data = total, ax = ax1, x = 'month',estimator='mean', y = (total['earning']-total['rub_monthly_fee'])/total['earning'], ci = None, hue = 'tariff_name')\n",
    "ax1.set_title('Гистограмма переплат по месяцам')\n",
    "ax1.set_xlabel('Месяц')\n",
    "ax1.set_ylabel('Переплата')\n",
    "plt.show()"
   ]
  },
  {
   "cell_type": "markdown",
   "metadata": {},
   "source": [
    "### Вывод "
   ]
  },
  {
   "cell_type": "markdown",
   "metadata": {},
   "source": [
    "- Тариф Ultra имеет более стабильный доход. Пользователи почти не переплачивают. Пользователи тарифа Smart регулярно переплачивают и переплачивают с каждым месяцем больше и больше. Поэтому прибыль не столь прогнозируема. \n",
    "- Несмотря на переплаты пользователи тарифа Smart платят меньше, чем пользователи тарифа Ultra.\n",
    "- В целом тариф Ultra выгладет для комании более привлекательным. Прибыль более прогнозируема; заложенные значения по тарифу не достигаются клиентами, а значит компания получает больше, чем планировала."
   ]
  },
  {
   "cell_type": "markdown",
   "metadata": {},
   "source": [
    "## Проверка гипотез"
   ]
  },
  {
   "cell_type": "markdown",
   "metadata": {},
   "source": [
    "### Средняя выручка пользователей тарифов «Ультра» и «Смарт» различаются"
   ]
  },
  {
   "cell_type": "markdown",
   "metadata": {},
   "source": [
    "Проверим гипотезу, что \"Средняя выручка пользователей тарифов «Ультра» и «Смарт» различается\"\n",
    "\n",
    "**H0** = \"Средняя выручка пользователей тарифа «Ультра» равна средней выручке пользователей тарифа «Смарт»\"\n",
    "\n",
    "**H1** = \"Средняя выручка пользователей тарифа «Ультра» не равна средней выручке пользователей тарифа «Смарт»\""
   ]
  },
  {
   "cell_type": "code",
   "execution_count": 113,
   "metadata": {},
   "outputs": [],
   "source": [
    "#создадим таблицы по тарифу и выручке по клиентам\n",
    "#smart = total.query('tariff == 0').groupby('user_id')['earning'].agg('mean')\n",
    "#ultra = total.query('tariff == 1').groupby('user_id')['earning'].agg('mean')"
   ]
  },
  {
   "cell_type": "code",
   "execution_count": 114,
   "metadata": {},
   "outputs": [
    {
     "name": "stdout",
     "output_type": "stream",
     "text": [
      "p-value: 1.0983881269806926e-292\n"
     ]
    }
   ],
   "source": [
    "#проверим гипотезу\n",
    "results = st.ttest_ind(total.query('tariff == 0')['earning'], total.query('tariff == 1')['earning'], equal_var=False)\n",
    "print('p-value:', results.pvalue)"
   ]
  },
  {
   "cell_type": "markdown",
   "metadata": {},
   "source": [
    "#### Вывод"
   ]
  },
  {
   "cell_type": "markdown",
   "metadata": {},
   "source": [
    "У нас есть основания признать нулевую гипотезу маловероятной т.к. полученное p < 0.05\n",
    "Следовательно, у нас достаточно оснований что бы принять альтернативную гипотезу"
   ]
  },
  {
   "cell_type": "markdown",
   "metadata": {},
   "source": [
    "### Cредняя выручка пользователей из Москвы отличается от выручки пользователей из других регионов"
   ]
  },
  {
   "cell_type": "markdown",
   "metadata": {},
   "source": [
    "Проверим гипотезу, что \"Средняя выручка пользователей из Москвы отличается от выручки пользователей из других регионов\"\n",
    "\n",
    "**H0** = \"Средняя выручка пользователей из Москвы равна средней выручке пользователей из других регионов\"\n",
    "\n",
    "**H1** = \"Средняя выручка пользователей из Москвы не равна средней выручке пользователей из других регионов\""
   ]
  },
  {
   "cell_type": "code",
   "execution_count": 115,
   "metadata": {},
   "outputs": [],
   "source": [
    "#создадим таблицы по тарифу и городам\n",
    "#moscow = total.query('city == \"Москва\"').groupby('user_id')['earning'].agg('mean')\n",
    "#other = total.query('city != \"Москва\"').groupby('user_id')['earning'].agg('mean')"
   ]
  },
  {
   "cell_type": "code",
   "execution_count": 125,
   "metadata": {},
   "outputs": [
    {
     "name": "stdout",
     "output_type": "stream",
     "text": [
      "p-value: 0.22962530243455462\n"
     ]
    }
   ],
   "source": [
    "results = st.ttest_ind(total.query('city == \"Москва\"')['earning'], total.query('city != \"Москва\"')['earning'], equal_var=False)\n",
    "print('p-value:', results.pvalue)"
   ]
  },
  {
   "cell_type": "markdown",
   "metadata": {},
   "source": [
    "#### Вывод"
   ]
  },
  {
   "cell_type": "markdown",
   "metadata": {},
   "source": [
    "У нас есть основания не отвергать нулевую гипотезу т.к. полученное p > 0.05. Выручки статистически значимой разницы не имеют. Можно с большой вероятностью говорить, что разница между средними, если такая имеется, получена случайно."
   ]
  },
  {
   "cell_type": "markdown",
   "metadata": {},
   "source": [
    "## Общий вывод"
   ]
  },
  {
   "cell_type": "markdown",
   "metadata": {},
   "source": [
    "1) Были предобработаны данные\n",
    "\n",
    "2) Для каждого клиента было рассчитано количество звонков, минут, сообщений, траффика и месячная выручка. Далее все эти данные били помещены в сводную таблицу \n",
    "\n",
    "3) Были найдены средние значения, дисперсия, стандартное отклонение для пользователей для разных тарифов.\n",
    "\n",
    "4) Было выявленно, что клиенты тарифа Ultra обычно не переплачивают за дополнительные минуты, сообщения или трафик. В то время, как клиенты тарифа Smart переплачивают регулярно.\n",
    "\n",
    "5) С учетом полученных даннных считаю предпочтительным для компании тариф Ultra по следующим причинам:\n",
    "- стабильная выручка\n",
    "- компания формирует стоимость тарифа учитывая износ оборудования. Если пользователь не достигает пороговых значений по тарифу это значит, что оборудование у компании изнашивается меньше, а выручка остается на уровне рассчитаной в силу фиксированного платежа. Таким образом, компания находится в большем плюсе из за фактора оборудования на обслуживание которого надо меньше выделять средств.\n",
    "\n",
    "6) Были проверены гипотезы и сделаны следующие выводы.\n",
    "- \"Средняя выручка пользователей тарифа «Ультра» не равна средней выручке пользователей тарифа «Смарт»\"\n",
    "- \"Средняя выручка пользователей из Москвы равна средней выручке пользователей из других регионов\""
   ]
  }
 ],
 "metadata": {
  "ExecuteTimeLog": [
   {
    "duration": 133,
    "start_time": "2022-03-28T15:32:30.923Z"
   },
   {
    "duration": 1175,
    "start_time": "2022-03-28T15:32:39.716Z"
   },
   {
    "duration": 126,
    "start_time": "2022-03-28T15:33:53.817Z"
   },
   {
    "duration": 107,
    "start_time": "2022-03-28T15:33:59.448Z"
   },
   {
    "duration": 46,
    "start_time": "2022-03-28T15:34:30.935Z"
   },
   {
    "duration": 750,
    "start_time": "2022-03-28T15:36:33.694Z"
   },
   {
    "duration": 16,
    "start_time": "2022-03-28T15:37:35.987Z"
   },
   {
    "duration": 15,
    "start_time": "2022-03-28T15:37:52.190Z"
   },
   {
    "duration": 11,
    "start_time": "2022-03-28T15:39:54.138Z"
   },
   {
    "duration": 20,
    "start_time": "2022-03-28T15:40:03.975Z"
   },
   {
    "duration": 16,
    "start_time": "2022-03-28T15:40:37.185Z"
   },
   {
    "duration": 16,
    "start_time": "2022-03-28T15:40:45.912Z"
   },
   {
    "duration": 53,
    "start_time": "2022-03-28T15:41:34.552Z"
   },
   {
    "duration": 39,
    "start_time": "2022-03-28T15:41:48.199Z"
   },
   {
    "duration": 41,
    "start_time": "2022-03-28T15:42:17.547Z"
   },
   {
    "duration": 16,
    "start_time": "2022-03-28T15:42:39.224Z"
   },
   {
    "duration": 47,
    "start_time": "2022-03-28T15:42:55.093Z"
   },
   {
    "duration": 38,
    "start_time": "2022-03-28T15:43:07.889Z"
   },
   {
    "duration": 18,
    "start_time": "2022-03-28T15:43:20.394Z"
   },
   {
    "duration": 54,
    "start_time": "2022-03-28T15:43:46.231Z"
   },
   {
    "duration": 29,
    "start_time": "2022-03-28T15:46:06.023Z"
   },
   {
    "duration": 25,
    "start_time": "2022-03-28T15:46:15.566Z"
   },
   {
    "duration": 7,
    "start_time": "2022-03-28T15:46:46.228Z"
   },
   {
    "duration": 7,
    "start_time": "2022-03-28T15:47:03.816Z"
   },
   {
    "duration": 18,
    "start_time": "2022-03-28T15:54:19.719Z"
   },
   {
    "duration": 12,
    "start_time": "2022-03-28T15:54:34.924Z"
   },
   {
    "duration": 4,
    "start_time": "2022-03-28T15:54:43.351Z"
   },
   {
    "duration": 13,
    "start_time": "2022-03-28T15:55:28.159Z"
   },
   {
    "duration": 24,
    "start_time": "2022-03-28T15:57:53.498Z"
   },
   {
    "duration": 20,
    "start_time": "2022-03-28T16:02:34.988Z"
   },
   {
    "duration": 36,
    "start_time": "2022-03-28T16:03:22.502Z"
   },
   {
    "duration": 40,
    "start_time": "2022-03-28T16:03:38.280Z"
   },
   {
    "duration": 34,
    "start_time": "2022-03-28T16:03:48.571Z"
   },
   {
    "duration": 23,
    "start_time": "2022-03-28T16:04:07.855Z"
   },
   {
    "duration": 22,
    "start_time": "2022-03-28T16:04:16.710Z"
   },
   {
    "duration": 23,
    "start_time": "2022-03-28T16:05:32.929Z"
   },
   {
    "duration": 43,
    "start_time": "2022-03-28T16:06:49.441Z"
   },
   {
    "duration": 12,
    "start_time": "2022-03-28T16:19:30.317Z"
   },
   {
    "duration": 158,
    "start_time": "2022-03-28T16:19:54.738Z"
   },
   {
    "duration": 214,
    "start_time": "2022-03-28T16:20:02.027Z"
   },
   {
    "duration": 182,
    "start_time": "2022-03-28T16:20:47.654Z"
   },
   {
    "duration": 223,
    "start_time": "2022-03-28T16:21:10.196Z"
   },
   {
    "duration": 32,
    "start_time": "2022-03-28T16:21:31.350Z"
   },
   {
    "duration": 166,
    "start_time": "2022-03-28T16:21:52.913Z"
   },
   {
    "duration": 140,
    "start_time": "2022-03-28T16:22:14.285Z"
   },
   {
    "duration": 28,
    "start_time": "2022-03-28T16:22:32.113Z"
   },
   {
    "duration": 194,
    "start_time": "2022-03-28T16:23:09.715Z"
   },
   {
    "duration": 41,
    "start_time": "2022-03-28T16:26:02.691Z"
   },
   {
    "duration": 41,
    "start_time": "2022-03-28T16:26:50.440Z"
   },
   {
    "duration": 43,
    "start_time": "2022-03-28T16:27:12.218Z"
   },
   {
    "duration": 246,
    "start_time": "2022-03-28T16:27:47.267Z"
   },
   {
    "duration": 126,
    "start_time": "2022-03-28T16:28:23.485Z"
   },
   {
    "duration": 30,
    "start_time": "2022-03-28T16:28:35.773Z"
   },
   {
    "duration": 194,
    "start_time": "2022-03-28T16:28:44.841Z"
   },
   {
    "duration": 294,
    "start_time": "2022-03-28T16:29:10.007Z"
   },
   {
    "duration": 1422,
    "start_time": "2022-03-29T07:26:00.166Z"
   },
   {
    "duration": 93,
    "start_time": "2022-03-29T07:32:01.722Z"
   },
   {
    "duration": 3,
    "start_time": "2022-03-29T07:32:05.577Z"
   },
   {
    "duration": 409,
    "start_time": "2022-03-29T07:32:05.582Z"
   },
   {
    "duration": 26,
    "start_time": "2022-03-29T07:32:05.993Z"
   },
   {
    "duration": 119,
    "start_time": "2022-03-29T07:32:06.022Z"
   },
   {
    "duration": 80,
    "start_time": "2022-03-29T07:32:06.143Z"
   },
   {
    "duration": 17,
    "start_time": "2022-03-29T07:32:06.225Z"
   },
   {
    "duration": 155,
    "start_time": "2022-03-29T07:32:06.243Z"
   },
   {
    "duration": 11,
    "start_time": "2022-03-29T07:45:00.997Z"
   },
   {
    "duration": 5,
    "start_time": "2022-03-29T07:45:17.764Z"
   },
   {
    "duration": 10,
    "start_time": "2022-03-29T07:45:30.541Z"
   },
   {
    "duration": 6,
    "start_time": "2022-03-29T07:45:46.517Z"
   },
   {
    "duration": 32,
    "start_time": "2022-03-29T07:47:15.160Z"
   },
   {
    "duration": 71,
    "start_time": "2022-03-29T08:09:58.540Z"
   },
   {
    "duration": 2343,
    "start_time": "2022-03-29T08:10:06.687Z"
   },
   {
    "duration": 559,
    "start_time": "2022-03-29T08:10:09.033Z"
   },
   {
    "duration": 49,
    "start_time": "2022-03-29T08:10:09.594Z"
   },
   {
    "duration": 201,
    "start_time": "2022-03-29T08:10:09.645Z"
   },
   {
    "duration": 133,
    "start_time": "2022-03-29T08:10:09.849Z"
   },
   {
    "duration": 27,
    "start_time": "2022-03-29T08:10:09.984Z"
   },
   {
    "duration": 296,
    "start_time": "2022-03-29T08:10:10.013Z"
   },
   {
    "duration": 11,
    "start_time": "2022-03-29T08:10:10.312Z"
   },
   {
    "duration": 29,
    "start_time": "2022-03-29T08:10:10.326Z"
   },
   {
    "duration": 90,
    "start_time": "2022-03-29T08:10:10.359Z"
   },
   {
    "duration": 97,
    "start_time": "2022-03-29T08:10:10.451Z"
   },
   {
    "duration": 4,
    "start_time": "2022-03-29T08:10:18.949Z"
   },
   {
    "duration": 37,
    "start_time": "2022-03-29T08:11:13.856Z"
   },
   {
    "duration": 5,
    "start_time": "2022-03-29T08:11:14.473Z"
   },
   {
    "duration": 95,
    "start_time": "2022-03-29T08:12:06.586Z"
   },
   {
    "duration": 236,
    "start_time": "2022-03-29T08:12:31.989Z"
   },
   {
    "duration": 15,
    "start_time": "2022-03-29T08:13:38.777Z"
   },
   {
    "duration": 12,
    "start_time": "2022-03-29T08:13:41.611Z"
   },
   {
    "duration": 11,
    "start_time": "2022-03-29T08:13:47.200Z"
   },
   {
    "duration": 7,
    "start_time": "2022-03-29T08:13:55.887Z"
   },
   {
    "duration": 217,
    "start_time": "2022-03-29T08:15:11.942Z"
   },
   {
    "duration": 174,
    "start_time": "2022-03-29T08:15:39.006Z"
   },
   {
    "duration": 194,
    "start_time": "2022-03-29T08:15:46.999Z"
   },
   {
    "duration": 250,
    "start_time": "2022-03-29T08:16:26.780Z"
   },
   {
    "duration": 229,
    "start_time": "2022-03-29T08:16:37.407Z"
   },
   {
    "duration": 198,
    "start_time": "2022-03-29T08:16:47.492Z"
   },
   {
    "duration": 307,
    "start_time": "2022-03-29T08:16:48.142Z"
   },
   {
    "duration": 236,
    "start_time": "2022-03-29T08:17:16.382Z"
   },
   {
    "duration": 208,
    "start_time": "2022-03-29T08:23:34.351Z"
   },
   {
    "duration": 195,
    "start_time": "2022-03-29T08:23:44.335Z"
   },
   {
    "duration": 207,
    "start_time": "2022-03-29T08:24:06.174Z"
   },
   {
    "duration": 15,
    "start_time": "2022-03-29T08:26:52.316Z"
   },
   {
    "duration": 218,
    "start_time": "2022-03-29T08:27:15.656Z"
   },
   {
    "duration": 198,
    "start_time": "2022-03-29T08:27:31.709Z"
   },
   {
    "duration": 13,
    "start_time": "2022-03-29T08:30:23.988Z"
   },
   {
    "duration": 10,
    "start_time": "2022-03-29T08:31:46.239Z"
   },
   {
    "duration": 11,
    "start_time": "2022-03-29T08:34:14.531Z"
   },
   {
    "duration": 6,
    "start_time": "2022-03-29T08:34:20.200Z"
   },
   {
    "duration": 14,
    "start_time": "2022-03-29T08:34:41.039Z"
   },
   {
    "duration": 85,
    "start_time": "2022-03-29T08:34:48.540Z"
   },
   {
    "duration": 111,
    "start_time": "2022-03-29T08:35:05.434Z"
   },
   {
    "duration": 89,
    "start_time": "2022-03-29T08:35:25.762Z"
   },
   {
    "duration": 89,
    "start_time": "2022-03-29T08:35:30.674Z"
   },
   {
    "duration": 13,
    "start_time": "2022-03-29T08:39:25.054Z"
   },
   {
    "duration": 265,
    "start_time": "2022-03-29T08:40:13.284Z"
   },
   {
    "duration": 329,
    "start_time": "2022-03-29T08:40:40.541Z"
   },
   {
    "duration": 269,
    "start_time": "2022-03-29T08:41:23.580Z"
   },
   {
    "duration": 32,
    "start_time": "2022-03-29T08:43:58.168Z"
   },
   {
    "duration": 21,
    "start_time": "2022-03-29T08:44:45.961Z"
   },
   {
    "duration": 38,
    "start_time": "2022-03-29T08:49:06.424Z"
   },
   {
    "duration": 69,
    "start_time": "2022-03-29T08:54:13.617Z"
   },
   {
    "duration": 71,
    "start_time": "2022-03-29T08:54:22.210Z"
   },
   {
    "duration": 73,
    "start_time": "2022-03-29T08:54:31.719Z"
   },
   {
    "duration": 39,
    "start_time": "2022-03-29T09:12:39.724Z"
   },
   {
    "duration": 113,
    "start_time": "2022-03-29T09:12:55.071Z"
   },
   {
    "duration": 14,
    "start_time": "2022-03-29T09:16:01.268Z"
   },
   {
    "duration": 63,
    "start_time": "2022-03-29T09:16:07.558Z"
   },
   {
    "duration": 75,
    "start_time": "2022-03-29T09:17:52.636Z"
   },
   {
    "duration": 77,
    "start_time": "2022-03-29T09:19:24.524Z"
   },
   {
    "duration": 22,
    "start_time": "2022-03-29T09:38:40.687Z"
   },
   {
    "duration": 22,
    "start_time": "2022-03-29T09:39:11.727Z"
   },
   {
    "duration": 5,
    "start_time": "2022-03-29T09:39:53.359Z"
   },
   {
    "duration": 9,
    "start_time": "2022-03-29T09:40:02.614Z"
   },
   {
    "duration": 12,
    "start_time": "2022-03-29T09:40:12.148Z"
   },
   {
    "duration": 22,
    "start_time": "2022-03-29T09:40:40.481Z"
   },
   {
    "duration": 9,
    "start_time": "2022-03-29T09:40:54.280Z"
   },
   {
    "duration": 24,
    "start_time": "2022-03-29T09:41:09.850Z"
   },
   {
    "duration": 20,
    "start_time": "2022-03-29T09:41:48.923Z"
   },
   {
    "duration": 9,
    "start_time": "2022-03-29T09:41:49.537Z"
   },
   {
    "duration": 4,
    "start_time": "2022-03-29T09:42:40.677Z"
   },
   {
    "duration": 504,
    "start_time": "2022-03-29T09:42:40.684Z"
   },
   {
    "duration": 35,
    "start_time": "2022-03-29T09:42:41.190Z"
   },
   {
    "duration": 163,
    "start_time": "2022-03-29T09:42:41.242Z"
   },
   {
    "duration": 116,
    "start_time": "2022-03-29T09:42:41.408Z"
   },
   {
    "duration": 43,
    "start_time": "2022-03-29T09:42:41.526Z"
   },
   {
    "duration": 221,
    "start_time": "2022-03-29T09:42:41.571Z"
   },
   {
    "duration": 8,
    "start_time": "2022-03-29T09:42:41.795Z"
   },
   {
    "duration": 39,
    "start_time": "2022-03-29T09:42:41.805Z"
   },
   {
    "duration": 54,
    "start_time": "2022-03-29T09:42:41.846Z"
   },
   {
    "duration": 48,
    "start_time": "2022-03-29T09:42:41.902Z"
   },
   {
    "duration": 5,
    "start_time": "2022-03-29T09:42:41.953Z"
   },
   {
    "duration": 9,
    "start_time": "2022-03-29T09:42:41.960Z"
   },
   {
    "duration": 226,
    "start_time": "2022-03-29T09:42:41.973Z"
   },
   {
    "duration": 87,
    "start_time": "2022-03-29T09:42:42.201Z"
   },
   {
    "duration": 10,
    "start_time": "2022-03-29T09:42:42.290Z"
   },
   {
    "duration": 403,
    "start_time": "2022-03-29T09:42:42.303Z"
   },
   {
    "duration": 40,
    "start_time": "2022-03-29T09:42:42.708Z"
   },
   {
    "duration": 22,
    "start_time": "2022-03-29T09:42:42.750Z"
   },
   {
    "duration": 38,
    "start_time": "2022-03-29T09:42:42.774Z"
   },
   {
    "duration": 94,
    "start_time": "2022-03-29T09:42:42.814Z"
   },
   {
    "duration": 131,
    "start_time": "2022-03-29T09:42:42.910Z"
   },
   {
    "duration": 63,
    "start_time": "2022-03-29T09:42:43.043Z"
   },
   {
    "duration": 94,
    "start_time": "2022-03-29T09:42:43.108Z"
   },
   {
    "duration": 93,
    "start_time": "2022-03-29T09:42:43.205Z"
   },
   {
    "duration": 26,
    "start_time": "2022-03-29T09:42:43.300Z"
   },
   {
    "duration": 19,
    "start_time": "2022-03-29T09:42:43.343Z"
   },
   {
    "duration": 8,
    "start_time": "2022-03-29T09:42:43.364Z"
   },
   {
    "duration": 20,
    "start_time": "2022-03-29T09:43:28.721Z"
   },
   {
    "duration": 24,
    "start_time": "2022-03-29T09:44:03.046Z"
   },
   {
    "duration": 9,
    "start_time": "2022-03-29T09:44:03.785Z"
   },
   {
    "duration": 24,
    "start_time": "2022-03-29T09:44:12.086Z"
   },
   {
    "duration": 24,
    "start_time": "2022-03-29T09:45:25.979Z"
   },
   {
    "duration": 21,
    "start_time": "2022-03-29T09:46:24.368Z"
   },
   {
    "duration": 19,
    "start_time": "2022-03-29T09:47:03.777Z"
   },
   {
    "duration": 9,
    "start_time": "2022-03-29T09:47:04.267Z"
   },
   {
    "duration": 18,
    "start_time": "2022-03-29T09:47:05.172Z"
   },
   {
    "duration": 25,
    "start_time": "2022-03-29T09:47:05.725Z"
   },
   {
    "duration": 22,
    "start_time": "2022-03-29T09:47:15.882Z"
   },
   {
    "duration": 31,
    "start_time": "2022-03-29T09:47:26.706Z"
   },
   {
    "duration": 4,
    "start_time": "2022-03-29T09:53:02.283Z"
   },
   {
    "duration": 13,
    "start_time": "2022-03-29T09:53:08.619Z"
   },
   {
    "duration": 19,
    "start_time": "2022-03-29T09:54:49.724Z"
   },
   {
    "duration": 24,
    "start_time": "2022-03-29T09:55:16.691Z"
   },
   {
    "duration": 2470,
    "start_time": "2022-03-29T10:01:04.983Z"
   },
   {
    "duration": 627,
    "start_time": "2022-03-29T10:01:07.457Z"
   },
   {
    "duration": 62,
    "start_time": "2022-03-29T10:01:08.087Z"
   },
   {
    "duration": 236,
    "start_time": "2022-03-29T10:01:08.153Z"
   },
   {
    "duration": 136,
    "start_time": "2022-03-29T10:01:08.391Z"
   },
   {
    "duration": 28,
    "start_time": "2022-03-29T10:01:08.529Z"
   },
   {
    "duration": 228,
    "start_time": "2022-03-29T10:01:08.583Z"
   },
   {
    "duration": 10,
    "start_time": "2022-03-29T10:01:08.814Z"
   },
   {
    "duration": 17,
    "start_time": "2022-03-29T10:01:08.827Z"
   },
   {
    "duration": 73,
    "start_time": "2022-03-29T10:01:08.850Z"
   },
   {
    "duration": 64,
    "start_time": "2022-03-29T10:01:08.926Z"
   },
   {
    "duration": 5,
    "start_time": "2022-03-29T10:01:08.992Z"
   },
   {
    "duration": 18,
    "start_time": "2022-03-29T10:01:08.999Z"
   },
   {
    "duration": 341,
    "start_time": "2022-03-29T10:01:09.019Z"
   },
   {
    "duration": 83,
    "start_time": "2022-03-29T10:01:09.362Z"
   },
   {
    "duration": 11,
    "start_time": "2022-03-29T10:01:09.447Z"
   },
   {
    "duration": 304,
    "start_time": "2022-03-29T10:01:09.461Z"
   },
   {
    "duration": 32,
    "start_time": "2022-03-29T10:01:09.768Z"
   },
   {
    "duration": 21,
    "start_time": "2022-03-29T10:01:09.803Z"
   },
   {
    "duration": 63,
    "start_time": "2022-03-29T10:01:09.826Z"
   },
   {
    "duration": 68,
    "start_time": "2022-03-29T10:01:09.892Z"
   },
   {
    "duration": 113,
    "start_time": "2022-03-29T10:01:09.962Z"
   },
   {
    "duration": 61,
    "start_time": "2022-03-29T10:01:10.083Z"
   },
   {
    "duration": 103,
    "start_time": "2022-03-29T10:01:10.146Z"
   },
   {
    "duration": 117,
    "start_time": "2022-03-29T10:01:10.251Z"
   },
   {
    "duration": 39,
    "start_time": "2022-03-29T10:01:10.371Z"
   },
   {
    "duration": 26,
    "start_time": "2022-03-29T10:01:10.412Z"
   },
   {
    "duration": 10,
    "start_time": "2022-03-29T10:01:10.446Z"
   },
   {
    "duration": 22,
    "start_time": "2022-03-29T10:01:10.483Z"
   },
   {
    "duration": 27,
    "start_time": "2022-03-29T10:01:10.507Z"
   },
   {
    "duration": 4,
    "start_time": "2022-03-29T10:01:10.536Z"
   },
   {
    "duration": 60,
    "start_time": "2022-03-29T10:01:10.542Z"
   },
   {
    "duration": 168,
    "start_time": "2022-03-29T10:01:10.604Z"
   },
   {
    "duration": 19,
    "start_time": "2022-03-29T10:02:11.978Z"
   },
   {
    "duration": 17,
    "start_time": "2022-03-29T10:03:13.495Z"
   },
   {
    "duration": 21,
    "start_time": "2022-03-29T10:03:24.858Z"
   },
   {
    "duration": 20,
    "start_time": "2022-03-29T10:03:41.120Z"
   },
   {
    "duration": 4,
    "start_time": "2022-03-29T10:09:32.382Z"
   },
   {
    "duration": 481,
    "start_time": "2022-03-29T10:09:32.390Z"
   },
   {
    "duration": 37,
    "start_time": "2022-03-29T10:09:32.874Z"
   },
   {
    "duration": 7,
    "start_time": "2022-03-29T10:09:32.914Z"
   },
   {
    "duration": 174,
    "start_time": "2022-03-29T10:09:32.924Z"
   },
   {
    "duration": 120,
    "start_time": "2022-03-29T10:09:33.100Z"
   },
   {
    "duration": 28,
    "start_time": "2022-03-29T10:09:33.223Z"
   },
   {
    "duration": 217,
    "start_time": "2022-03-29T10:09:33.253Z"
   },
   {
    "duration": 8,
    "start_time": "2022-03-29T10:09:33.483Z"
   },
   {
    "duration": 42,
    "start_time": "2022-03-29T10:09:33.494Z"
   },
   {
    "duration": 73,
    "start_time": "2022-03-29T10:09:33.539Z"
   },
   {
    "duration": 49,
    "start_time": "2022-03-29T10:09:33.614Z"
   },
   {
    "duration": 5,
    "start_time": "2022-03-29T10:09:33.668Z"
   },
   {
    "duration": 30,
    "start_time": "2022-03-29T10:09:33.675Z"
   },
   {
    "duration": 316,
    "start_time": "2022-03-29T10:09:33.708Z"
   },
   {
    "duration": 162,
    "start_time": "2022-03-29T10:09:34.027Z"
   },
   {
    "duration": 14,
    "start_time": "2022-03-29T10:09:34.191Z"
   },
   {
    "duration": 445,
    "start_time": "2022-03-29T10:09:34.207Z"
   },
   {
    "duration": 52,
    "start_time": "2022-03-29T10:09:34.655Z"
   },
   {
    "duration": 30,
    "start_time": "2022-03-29T10:09:34.710Z"
   },
   {
    "duration": 69,
    "start_time": "2022-03-29T10:09:34.743Z"
   },
   {
    "duration": 143,
    "start_time": "2022-03-29T10:09:34.815Z"
   },
   {
    "duration": 167,
    "start_time": "2022-03-29T10:09:34.961Z"
   },
   {
    "duration": 95,
    "start_time": "2022-03-29T10:09:35.131Z"
   },
   {
    "duration": 116,
    "start_time": "2022-03-29T10:09:35.229Z"
   },
   {
    "duration": 108,
    "start_time": "2022-03-29T10:09:35.348Z"
   },
   {
    "duration": 50,
    "start_time": "2022-03-29T10:09:35.459Z"
   },
   {
    "duration": 29,
    "start_time": "2022-03-29T10:09:35.512Z"
   },
   {
    "duration": 16,
    "start_time": "2022-03-29T10:09:35.544Z"
   },
   {
    "duration": 45,
    "start_time": "2022-03-29T10:09:35.563Z"
   },
   {
    "duration": 48,
    "start_time": "2022-03-29T10:09:35.611Z"
   },
   {
    "duration": 21,
    "start_time": "2022-03-29T10:09:35.661Z"
   },
   {
    "duration": 29,
    "start_time": "2022-03-29T10:09:35.684Z"
   },
   {
    "duration": 17,
    "start_time": "2022-03-29T10:09:35.716Z"
   },
   {
    "duration": 30,
    "start_time": "2022-03-29T10:09:35.735Z"
   },
   {
    "duration": 44,
    "start_time": "2022-03-29T10:09:50.673Z"
   },
   {
    "duration": 293,
    "start_time": "2022-03-29T10:14:55.701Z"
   },
   {
    "duration": 298,
    "start_time": "2022-03-29T10:15:06.999Z"
   },
   {
    "duration": 49,
    "start_time": "2022-03-29T13:07:31.933Z"
   },
   {
    "duration": 1349,
    "start_time": "2022-03-29T13:07:36.702Z"
   },
   {
    "duration": 369,
    "start_time": "2022-03-29T13:07:38.053Z"
   },
   {
    "duration": 33,
    "start_time": "2022-03-29T13:07:38.423Z"
   },
   {
    "duration": 5,
    "start_time": "2022-03-29T13:07:38.457Z"
   },
   {
    "duration": 130,
    "start_time": "2022-03-29T13:07:38.464Z"
   },
   {
    "duration": 95,
    "start_time": "2022-03-29T13:07:38.596Z"
   },
   {
    "duration": 18,
    "start_time": "2022-03-29T13:07:38.693Z"
   },
   {
    "duration": 155,
    "start_time": "2022-03-29T13:07:38.733Z"
   },
   {
    "duration": 6,
    "start_time": "2022-03-29T13:07:38.890Z"
   },
   {
    "duration": 35,
    "start_time": "2022-03-29T13:07:38.898Z"
   },
   {
    "duration": 33,
    "start_time": "2022-03-29T13:07:38.935Z"
   },
   {
    "duration": 26,
    "start_time": "2022-03-29T13:07:38.969Z"
   },
   {
    "duration": 3,
    "start_time": "2022-03-29T13:07:38.997Z"
   },
   {
    "duration": 18,
    "start_time": "2022-03-29T13:07:39.003Z"
   },
   {
    "duration": 135,
    "start_time": "2022-03-29T13:07:39.032Z"
   },
   {
    "duration": 65,
    "start_time": "2022-03-29T13:07:39.169Z"
   },
   {
    "duration": 7,
    "start_time": "2022-03-29T13:07:39.235Z"
   },
   {
    "duration": 181,
    "start_time": "2022-03-29T13:07:39.244Z"
   },
   {
    "duration": 25,
    "start_time": "2022-03-29T13:07:39.426Z"
   },
   {
    "duration": 14,
    "start_time": "2022-03-29T13:07:39.452Z"
   },
   {
    "duration": 24,
    "start_time": "2022-03-29T13:07:39.468Z"
   },
   {
    "duration": 73,
    "start_time": "2022-03-29T13:07:39.493Z"
   },
   {
    "duration": 78,
    "start_time": "2022-03-29T13:07:39.568Z"
   },
   {
    "duration": 42,
    "start_time": "2022-03-29T13:07:39.648Z"
   },
   {
    "duration": 74,
    "start_time": "2022-03-29T13:07:39.691Z"
   },
   {
    "duration": 52,
    "start_time": "2022-03-29T13:07:39.766Z"
   },
   {
    "duration": 31,
    "start_time": "2022-03-29T13:07:39.819Z"
   },
   {
    "duration": 14,
    "start_time": "2022-03-29T13:07:39.851Z"
   },
   {
    "duration": 6,
    "start_time": "2022-03-29T13:07:39.867Z"
   },
   {
    "duration": 21,
    "start_time": "2022-03-29T13:07:39.875Z"
   },
   {
    "duration": 45,
    "start_time": "2022-03-29T13:07:39.897Z"
   },
   {
    "duration": 4,
    "start_time": "2022-03-29T13:07:39.943Z"
   },
   {
    "duration": 23,
    "start_time": "2022-03-29T13:07:39.948Z"
   },
   {
    "duration": 11,
    "start_time": "2022-03-29T13:07:39.974Z"
   },
   {
    "duration": 6,
    "start_time": "2022-03-29T13:07:39.987Z"
   },
   {
    "duration": 44,
    "start_time": "2022-03-29T13:07:39.995Z"
   },
   {
    "duration": 123,
    "start_time": "2022-03-29T13:07:40.042Z"
   },
   {
    "duration": 28,
    "start_time": "2022-03-29T13:07:40.167Z"
   },
   {
    "duration": 27,
    "start_time": "2022-03-29T13:07:53.134Z"
   },
   {
    "duration": 443,
    "start_time": "2022-03-29T13:09:45.849Z"
   },
   {
    "duration": 207,
    "start_time": "2022-03-29T13:12:52.225Z"
   },
   {
    "duration": 108,
    "start_time": "2022-03-29T13:13:05.225Z"
   },
   {
    "duration": 3,
    "start_time": "2022-03-29T13:14:34.514Z"
   },
   {
    "duration": 78,
    "start_time": "2022-03-29T13:14:45.690Z"
   },
   {
    "duration": 73,
    "start_time": "2022-03-29T13:14:58.330Z"
   },
   {
    "duration": 76,
    "start_time": "2022-03-29T13:18:04.246Z"
   },
   {
    "duration": 103,
    "start_time": "2022-03-29T13:19:26.001Z"
   },
   {
    "duration": 14,
    "start_time": "2022-03-29T13:19:52.104Z"
   },
   {
    "duration": 86,
    "start_time": "2022-03-29T13:20:27.547Z"
   },
   {
    "duration": 15,
    "start_time": "2022-03-29T13:24:20.063Z"
   },
   {
    "duration": 13,
    "start_time": "2022-03-29T13:24:27.415Z"
   },
   {
    "duration": 13,
    "start_time": "2022-03-29T13:24:31.601Z"
   },
   {
    "duration": 8,
    "start_time": "2022-03-29T13:25:01.639Z"
   },
   {
    "duration": 88,
    "start_time": "2022-03-29T13:25:20.866Z"
   },
   {
    "duration": 74,
    "start_time": "2022-03-29T13:25:27.953Z"
   },
   {
    "duration": 7,
    "start_time": "2022-03-29T13:25:34.091Z"
   },
   {
    "duration": 74,
    "start_time": "2022-03-29T13:25:34.542Z"
   },
   {
    "duration": 23,
    "start_time": "2022-03-29T13:25:50.804Z"
   },
   {
    "duration": 226,
    "start_time": "2022-03-29T13:26:36.436Z"
   },
   {
    "duration": 238,
    "start_time": "2022-03-29T13:26:53.113Z"
   },
   {
    "duration": 86,
    "start_time": "2022-03-29T13:27:23.115Z"
   },
   {
    "duration": 280,
    "start_time": "2022-03-29T13:27:56.714Z"
   },
   {
    "duration": 85,
    "start_time": "2022-03-29T13:29:15.590Z"
   },
   {
    "duration": 25,
    "start_time": "2022-03-29T13:31:01.501Z"
   },
   {
    "duration": 24,
    "start_time": "2022-03-29T13:31:04.435Z"
   },
   {
    "duration": 93,
    "start_time": "2022-03-29T13:31:05.876Z"
   },
   {
    "duration": 4,
    "start_time": "2022-03-29T13:34:26.502Z"
   },
   {
    "duration": 111,
    "start_time": "2022-03-29T13:34:28.607Z"
   },
   {
    "duration": 26,
    "start_time": "2022-03-29T13:34:38.897Z"
   },
   {
    "duration": 96,
    "start_time": "2022-03-29T13:34:40.947Z"
   },
   {
    "duration": 7,
    "start_time": "2022-03-29T13:38:54.605Z"
   },
   {
    "duration": 51,
    "start_time": "2022-03-30T08:05:38.032Z"
   },
   {
    "duration": 1451,
    "start_time": "2022-03-30T08:05:42.963Z"
   },
   {
    "duration": 402,
    "start_time": "2022-03-30T08:05:44.417Z"
   },
   {
    "duration": 32,
    "start_time": "2022-03-30T08:05:44.821Z"
   },
   {
    "duration": 6,
    "start_time": "2022-03-30T08:05:44.855Z"
   },
   {
    "duration": 158,
    "start_time": "2022-03-30T08:05:44.863Z"
   },
   {
    "duration": 107,
    "start_time": "2022-03-30T08:05:45.023Z"
   },
   {
    "duration": 23,
    "start_time": "2022-03-30T08:05:45.131Z"
   },
   {
    "duration": 200,
    "start_time": "2022-03-30T08:05:45.156Z"
   },
   {
    "duration": 7,
    "start_time": "2022-03-30T08:05:45.358Z"
   },
   {
    "duration": 13,
    "start_time": "2022-03-30T08:05:45.369Z"
   },
   {
    "duration": 39,
    "start_time": "2022-03-30T08:05:45.401Z"
   },
   {
    "duration": 29,
    "start_time": "2022-03-30T08:05:45.442Z"
   },
   {
    "duration": 4,
    "start_time": "2022-03-30T08:05:45.473Z"
   },
   {
    "duration": 24,
    "start_time": "2022-03-30T08:05:45.478Z"
   },
   {
    "duration": 162,
    "start_time": "2022-03-30T08:05:45.504Z"
   },
   {
    "duration": 68,
    "start_time": "2022-03-30T08:05:45.668Z"
   },
   {
    "duration": 8,
    "start_time": "2022-03-30T08:05:45.738Z"
   },
   {
    "duration": 195,
    "start_time": "2022-03-30T08:05:45.748Z"
   },
   {
    "duration": 24,
    "start_time": "2022-03-30T08:05:45.945Z"
   },
   {
    "duration": 34,
    "start_time": "2022-03-30T08:05:45.970Z"
   },
   {
    "duration": 30,
    "start_time": "2022-03-30T08:05:46.007Z"
   },
   {
    "duration": 76,
    "start_time": "2022-03-30T08:05:46.038Z"
   },
   {
    "duration": 94,
    "start_time": "2022-03-30T08:05:46.116Z"
   },
   {
    "duration": 48,
    "start_time": "2022-03-30T08:05:46.211Z"
   },
   {
    "duration": 77,
    "start_time": "2022-03-30T08:05:46.261Z"
   },
   {
    "duration": 68,
    "start_time": "2022-03-30T08:05:46.340Z"
   },
   {
    "duration": 21,
    "start_time": "2022-03-30T08:05:46.410Z"
   },
   {
    "duration": 15,
    "start_time": "2022-03-30T08:05:46.436Z"
   },
   {
    "duration": 6,
    "start_time": "2022-03-30T08:05:46.454Z"
   },
   {
    "duration": 53,
    "start_time": "2022-03-30T08:05:46.462Z"
   },
   {
    "duration": 22,
    "start_time": "2022-03-30T08:05:46.517Z"
   },
   {
    "duration": 4,
    "start_time": "2022-03-30T08:05:46.540Z"
   },
   {
    "duration": 22,
    "start_time": "2022-03-30T08:05:46.545Z"
   },
   {
    "duration": 32,
    "start_time": "2022-03-30T08:05:46.569Z"
   },
   {
    "duration": 5,
    "start_time": "2022-03-30T08:05:46.603Z"
   },
   {
    "duration": 24,
    "start_time": "2022-03-30T08:05:46.610Z"
   },
   {
    "duration": 5,
    "start_time": "2022-03-30T08:05:46.635Z"
   },
   {
    "duration": 140,
    "start_time": "2022-03-30T08:05:46.642Z"
   },
   {
    "duration": 41,
    "start_time": "2022-03-30T08:05:46.785Z"
   },
   {
    "duration": 29,
    "start_time": "2022-03-30T08:05:46.828Z"
   },
   {
    "duration": 7,
    "start_time": "2022-03-30T08:05:46.859Z"
   },
   {
    "duration": 360,
    "start_time": "2022-03-30T08:05:46.868Z"
   },
   {
    "duration": 113,
    "start_time": "2022-03-30T08:05:47.230Z"
   },
   {
    "duration": 271,
    "start_time": "2022-03-30T08:06:15.832Z"
   },
   {
    "duration": 279,
    "start_time": "2022-03-30T08:06:32.328Z"
   },
   {
    "duration": 928,
    "start_time": "2022-03-30T08:10:54.234Z"
   },
   {
    "duration": 808,
    "start_time": "2022-03-30T08:11:12.177Z"
   },
   {
    "duration": 740,
    "start_time": "2022-03-30T08:11:28.473Z"
   },
   {
    "duration": 524,
    "start_time": "2022-03-30T08:13:20.987Z"
   },
   {
    "duration": 513,
    "start_time": "2022-03-30T08:14:18.820Z"
   },
   {
    "duration": 203,
    "start_time": "2022-03-30T08:14:34.917Z"
   },
   {
    "duration": 300,
    "start_time": "2022-03-30T08:14:58.354Z"
   },
   {
    "duration": 548,
    "start_time": "2022-03-30T08:15:08.303Z"
   },
   {
    "duration": 406,
    "start_time": "2022-03-30T08:15:22.757Z"
   },
   {
    "duration": 2149,
    "start_time": "2022-03-30T13:16:45.148Z"
   },
   {
    "duration": 545,
    "start_time": "2022-03-30T13:16:47.300Z"
   },
   {
    "duration": 62,
    "start_time": "2022-03-30T13:16:47.847Z"
   },
   {
    "duration": 8,
    "start_time": "2022-03-30T13:16:47.911Z"
   },
   {
    "duration": 222,
    "start_time": "2022-03-30T13:16:47.922Z"
   },
   {
    "duration": 177,
    "start_time": "2022-03-30T13:16:48.147Z"
   },
   {
    "duration": 55,
    "start_time": "2022-03-30T13:16:48.327Z"
   },
   {
    "duration": 264,
    "start_time": "2022-03-30T13:16:48.384Z"
   },
   {
    "duration": 9,
    "start_time": "2022-03-30T13:16:48.650Z"
   },
   {
    "duration": 38,
    "start_time": "2022-03-30T13:16:48.661Z"
   },
   {
    "duration": 104,
    "start_time": "2022-03-30T13:16:48.702Z"
   },
   {
    "duration": 38,
    "start_time": "2022-03-30T13:16:48.809Z"
   },
   {
    "duration": 4,
    "start_time": "2022-03-30T13:16:48.850Z"
   },
   {
    "duration": 7,
    "start_time": "2022-03-30T13:16:48.880Z"
   },
   {
    "duration": 289,
    "start_time": "2022-03-30T13:16:48.890Z"
   },
   {
    "duration": 94,
    "start_time": "2022-03-30T13:16:49.183Z"
   },
   {
    "duration": 14,
    "start_time": "2022-03-30T13:16:49.280Z"
   },
   {
    "duration": 306,
    "start_time": "2022-03-30T13:16:49.296Z"
   },
   {
    "duration": 31,
    "start_time": "2022-03-30T13:16:49.604Z"
   },
   {
    "duration": 46,
    "start_time": "2022-03-30T13:16:49.638Z"
   },
   {
    "duration": 37,
    "start_time": "2022-03-30T13:16:49.690Z"
   },
   {
    "duration": 83,
    "start_time": "2022-03-30T13:16:49.729Z"
   },
   {
    "duration": 122,
    "start_time": "2022-03-30T13:16:49.814Z"
   },
   {
    "duration": 77,
    "start_time": "2022-03-30T13:16:49.939Z"
   },
   {
    "duration": 102,
    "start_time": "2022-03-30T13:16:50.018Z"
   },
   {
    "duration": 114,
    "start_time": "2022-03-30T13:16:50.123Z"
   },
   {
    "duration": 55,
    "start_time": "2022-03-30T13:16:50.240Z"
   },
   {
    "duration": 20,
    "start_time": "2022-03-30T13:16:50.297Z"
   },
   {
    "duration": 11,
    "start_time": "2022-03-30T13:16:50.319Z"
   },
   {
    "duration": 62,
    "start_time": "2022-03-30T13:16:50.333Z"
   },
   {
    "duration": 32,
    "start_time": "2022-03-30T13:16:50.397Z"
   },
   {
    "duration": 5,
    "start_time": "2022-03-30T13:16:50.432Z"
   },
   {
    "duration": 64,
    "start_time": "2022-03-30T13:16:50.440Z"
   },
   {
    "duration": 52,
    "start_time": "2022-03-30T13:16:50.507Z"
   },
   {
    "duration": 46,
    "start_time": "2022-03-30T13:16:50.562Z"
   },
   {
    "duration": 65,
    "start_time": "2022-03-30T13:16:50.611Z"
   },
   {
    "duration": 30,
    "start_time": "2022-03-30T13:16:50.679Z"
   },
   {
    "duration": 266,
    "start_time": "2022-03-30T13:16:50.711Z"
   },
   {
    "duration": 62,
    "start_time": "2022-03-30T13:16:50.987Z"
   },
   {
    "duration": 62,
    "start_time": "2022-03-30T13:16:51.052Z"
   },
   {
    "duration": 11,
    "start_time": "2022-03-30T13:16:51.120Z"
   },
   {
    "duration": 910,
    "start_time": "2022-03-30T13:16:51.133Z"
   },
   {
    "duration": 193,
    "start_time": "2022-03-30T13:16:52.045Z"
   },
   {
    "duration": 642,
    "start_time": "2022-03-30T13:17:11.396Z"
   },
   {
    "duration": 342,
    "start_time": "2022-03-30T13:17:18.717Z"
   },
   {
    "duration": 358,
    "start_time": "2022-03-30T13:17:26.262Z"
   },
   {
    "duration": 271,
    "start_time": "2022-03-30T13:19:18.300Z"
   },
   {
    "duration": 411,
    "start_time": "2022-03-30T13:20:13.994Z"
   },
   {
    "duration": 266,
    "start_time": "2022-03-30T13:20:43.434Z"
   },
   {
    "duration": 261,
    "start_time": "2022-03-30T13:20:47.477Z"
   },
   {
    "duration": 282,
    "start_time": "2022-03-30T13:22:24.229Z"
   },
   {
    "duration": 296,
    "start_time": "2022-03-30T13:22:48.543Z"
   },
   {
    "duration": 270,
    "start_time": "2022-03-30T13:23:05.688Z"
   },
   {
    "duration": 45,
    "start_time": "2022-03-30T13:24:47.127Z"
   },
   {
    "duration": 43,
    "start_time": "2022-03-30T13:25:11.836Z"
   },
   {
    "duration": 45,
    "start_time": "2022-03-30T13:25:12.804Z"
   },
   {
    "duration": 42,
    "start_time": "2022-03-30T13:25:27.850Z"
   },
   {
    "duration": 264,
    "start_time": "2022-03-30T13:25:28.551Z"
   },
   {
    "duration": 238,
    "start_time": "2022-03-30T13:28:24.928Z"
   },
   {
    "duration": 255,
    "start_time": "2022-03-30T13:34:32.121Z"
   },
   {
    "duration": 610,
    "start_time": "2022-03-30T13:34:33.872Z"
   },
   {
    "duration": 737,
    "start_time": "2022-03-30T13:34:44.354Z"
   },
   {
    "duration": 907,
    "start_time": "2022-03-30T13:34:54.409Z"
   },
   {
    "duration": 885,
    "start_time": "2022-03-30T13:35:01.495Z"
   },
   {
    "duration": 776,
    "start_time": "2022-03-30T13:35:47.978Z"
   },
   {
    "duration": 962,
    "start_time": "2022-03-30T13:35:53.412Z"
   },
   {
    "duration": 1018,
    "start_time": "2022-03-30T13:36:29.080Z"
   },
   {
    "duration": 1207,
    "start_time": "2022-03-30T13:36:53.117Z"
   },
   {
    "duration": 1342,
    "start_time": "2022-03-30T13:52:56.188Z"
   },
   {
    "duration": 396,
    "start_time": "2022-03-30T13:52:57.532Z"
   },
   {
    "duration": 28,
    "start_time": "2022-03-30T13:52:57.930Z"
   },
   {
    "duration": 5,
    "start_time": "2022-03-30T13:52:57.959Z"
   },
   {
    "duration": 123,
    "start_time": "2022-03-30T13:52:57.966Z"
   },
   {
    "duration": 92,
    "start_time": "2022-03-30T13:52:58.090Z"
   },
   {
    "duration": 20,
    "start_time": "2022-03-30T13:52:58.183Z"
   },
   {
    "duration": 195,
    "start_time": "2022-03-30T13:52:58.205Z"
   },
   {
    "duration": 8,
    "start_time": "2022-03-30T13:52:58.402Z"
   },
   {
    "duration": 71,
    "start_time": "2022-03-30T13:52:58.412Z"
   },
   {
    "duration": 43,
    "start_time": "2022-03-30T13:52:58.486Z"
   },
   {
    "duration": 29,
    "start_time": "2022-03-30T13:52:58.532Z"
   },
   {
    "duration": 4,
    "start_time": "2022-03-30T13:52:58.563Z"
   },
   {
    "duration": 6,
    "start_time": "2022-03-30T13:52:58.570Z"
   },
   {
    "duration": 184,
    "start_time": "2022-03-30T13:52:58.578Z"
   },
   {
    "duration": 64,
    "start_time": "2022-03-30T13:52:58.764Z"
   },
   {
    "duration": 8,
    "start_time": "2022-03-30T13:52:58.838Z"
   },
   {
    "duration": 193,
    "start_time": "2022-03-30T13:52:58.847Z"
   },
   {
    "duration": 21,
    "start_time": "2022-03-30T13:52:59.042Z"
   },
   {
    "duration": 22,
    "start_time": "2022-03-30T13:52:59.065Z"
   },
   {
    "duration": 49,
    "start_time": "2022-03-30T13:52:59.089Z"
   },
   {
    "duration": 78,
    "start_time": "2022-03-30T13:52:59.140Z"
   },
   {
    "duration": 104,
    "start_time": "2022-03-30T13:52:59.220Z"
   },
   {
    "duration": 58,
    "start_time": "2022-03-30T13:52:59.326Z"
   },
   {
    "duration": 81,
    "start_time": "2022-03-30T13:52:59.385Z"
   },
   {
    "duration": 69,
    "start_time": "2022-03-30T13:52:59.468Z"
   },
   {
    "duration": 19,
    "start_time": "2022-03-30T13:52:59.540Z"
   },
   {
    "duration": 14,
    "start_time": "2022-03-30T13:52:59.561Z"
   },
   {
    "duration": 6,
    "start_time": "2022-03-30T13:52:59.577Z"
   },
   {
    "duration": 16,
    "start_time": "2022-03-30T13:52:59.584Z"
   },
   {
    "duration": 50,
    "start_time": "2022-03-30T13:52:59.602Z"
   },
   {
    "duration": 3,
    "start_time": "2022-03-30T13:52:59.653Z"
   },
   {
    "duration": 20,
    "start_time": "2022-03-30T13:52:59.658Z"
   },
   {
    "duration": 20,
    "start_time": "2022-03-30T13:52:59.680Z"
   },
   {
    "duration": 10,
    "start_time": "2022-03-30T13:52:59.702Z"
   },
   {
    "duration": 52,
    "start_time": "2022-03-30T13:52:59.713Z"
   },
   {
    "duration": 9,
    "start_time": "2022-03-30T13:52:59.767Z"
   },
   {
    "duration": 112,
    "start_time": "2022-03-30T13:52:59.778Z"
   },
   {
    "duration": 29,
    "start_time": "2022-03-30T13:52:59.892Z"
   },
   {
    "duration": 563,
    "start_time": "2022-03-30T13:52:59.922Z"
   },
   {
    "duration": 133,
    "start_time": "2022-03-30T13:53:00.489Z"
   },
   {
    "duration": 17,
    "start_time": "2022-03-30T13:53:09.228Z"
   },
   {
    "duration": 42,
    "start_time": "2022-03-30T13:53:20.078Z"
   },
   {
    "duration": 42,
    "start_time": "2022-03-30T13:53:45.677Z"
   },
   {
    "duration": 34,
    "start_time": "2022-03-30T13:54:14.971Z"
   },
   {
    "duration": 62,
    "start_time": "2022-03-30T13:54:34.631Z"
   },
   {
    "duration": 63,
    "start_time": "2022-03-30T13:54:52.027Z"
   },
   {
    "duration": 59,
    "start_time": "2022-03-30T13:54:57.933Z"
   },
   {
    "duration": 65,
    "start_time": "2022-03-30T13:55:52.602Z"
   },
   {
    "duration": 67,
    "start_time": "2022-03-30T13:56:31.141Z"
   },
   {
    "duration": 64,
    "start_time": "2022-03-30T13:57:37.638Z"
   },
   {
    "duration": 65,
    "start_time": "2022-03-30T13:58:25.309Z"
   },
   {
    "duration": 3,
    "start_time": "2022-03-30T14:01:07.684Z"
   },
   {
    "duration": 4,
    "start_time": "2022-03-30T14:02:08.246Z"
   },
   {
    "duration": 4,
    "start_time": "2022-03-30T14:03:03.996Z"
   },
   {
    "duration": 66,
    "start_time": "2022-03-30T14:04:23.135Z"
   },
   {
    "duration": 65,
    "start_time": "2022-03-30T14:04:36.791Z"
   },
   {
    "duration": 63,
    "start_time": "2022-03-30T14:04:43.686Z"
   },
   {
    "duration": 5,
    "start_time": "2022-03-30T14:06:57.587Z"
   },
   {
    "duration": 5,
    "start_time": "2022-03-30T14:07:54.866Z"
   },
   {
    "duration": 37,
    "start_time": "2022-03-30T14:12:28.263Z"
   },
   {
    "duration": 9,
    "start_time": "2022-03-30T14:12:42.573Z"
   },
   {
    "duration": 10,
    "start_time": "2022-03-30T14:13:15.768Z"
   },
   {
    "duration": 9,
    "start_time": "2022-03-30T14:13:44.996Z"
   },
   {
    "duration": 10,
    "start_time": "2022-03-30T14:13:51.610Z"
   },
   {
    "duration": 10,
    "start_time": "2022-03-30T14:14:29.926Z"
   },
   {
    "duration": 9,
    "start_time": "2022-03-30T14:14:40.681Z"
   },
   {
    "duration": 9,
    "start_time": "2022-03-30T14:15:05.550Z"
   },
   {
    "duration": 10,
    "start_time": "2022-03-30T14:15:12.720Z"
   },
   {
    "duration": 108,
    "start_time": "2022-03-30T14:15:35.601Z"
   },
   {
    "duration": 9,
    "start_time": "2022-03-30T14:15:39.621Z"
   },
   {
    "duration": 10,
    "start_time": "2022-03-30T14:16:00.185Z"
   },
   {
    "duration": 14,
    "start_time": "2022-03-30T14:16:26.803Z"
   },
   {
    "duration": 17,
    "start_time": "2022-03-30T14:16:54.823Z"
   },
   {
    "duration": 23,
    "start_time": "2022-03-30T14:17:49.103Z"
   },
   {
    "duration": 47,
    "start_time": "2022-03-30T14:18:52.740Z"
   },
   {
    "duration": 22,
    "start_time": "2022-03-30T14:18:59.920Z"
   },
   {
    "duration": 31,
    "start_time": "2022-03-30T14:20:19.829Z"
   },
   {
    "duration": 10,
    "start_time": "2022-03-30T14:25:52.717Z"
   },
   {
    "duration": 9,
    "start_time": "2022-03-30T14:26:00.907Z"
   },
   {
    "duration": 20,
    "start_time": "2022-03-30T14:26:09.721Z"
   },
   {
    "duration": 18,
    "start_time": "2022-03-30T14:27:30.066Z"
   },
   {
    "duration": 17,
    "start_time": "2022-03-30T14:27:35.604Z"
   },
   {
    "duration": 18,
    "start_time": "2022-03-30T14:27:41.687Z"
   },
   {
    "duration": 16,
    "start_time": "2022-03-30T14:27:50.371Z"
   },
   {
    "duration": 4,
    "start_time": "2022-03-30T14:29:58.937Z"
   },
   {
    "duration": 13,
    "start_time": "2022-03-30T14:32:38.055Z"
   },
   {
    "duration": 4,
    "start_time": "2022-03-30T14:32:59.840Z"
   },
   {
    "duration": 14,
    "start_time": "2022-03-30T14:33:00.747Z"
   },
   {
    "duration": 4,
    "start_time": "2022-03-30T14:33:09.808Z"
   },
   {
    "duration": 4,
    "start_time": "2022-03-30T14:33:24.541Z"
   },
   {
    "duration": 14,
    "start_time": "2022-03-30T14:33:25.090Z"
   },
   {
    "duration": 4,
    "start_time": "2022-03-30T14:33:34.543Z"
   },
   {
    "duration": 20,
    "start_time": "2022-03-30T14:33:35.032Z"
   },
   {
    "duration": 9,
    "start_time": "2022-03-30T14:37:35.738Z"
   },
   {
    "duration": 752,
    "start_time": "2022-03-30T15:12:12.081Z"
   },
   {
    "duration": 11308,
    "start_time": "2022-03-30T15:12:53.315Z"
   },
   {
    "duration": 882,
    "start_time": "2022-03-30T15:14:36.796Z"
   },
   {
    "duration": 878,
    "start_time": "2022-03-30T15:14:59.592Z"
   },
   {
    "duration": 437,
    "start_time": "2022-03-30T15:15:25.410Z"
   },
   {
    "duration": 490,
    "start_time": "2022-03-30T15:16:42.648Z"
   },
   {
    "duration": 457,
    "start_time": "2022-03-30T15:16:48.272Z"
   },
   {
    "duration": 391,
    "start_time": "2022-03-30T15:16:53.861Z"
   },
   {
    "duration": 279,
    "start_time": "2022-03-30T15:18:58.633Z"
   },
   {
    "duration": 368,
    "start_time": "2022-03-30T15:19:07.363Z"
   },
   {
    "duration": 271,
    "start_time": "2022-03-30T15:20:14.204Z"
   },
   {
    "duration": 716,
    "start_time": "2022-03-30T15:20:32.977Z"
   },
   {
    "duration": 658,
    "start_time": "2022-03-30T15:20:39.235Z"
   },
   {
    "duration": 461,
    "start_time": "2022-03-30T15:20:48.094Z"
   },
   {
    "duration": 576,
    "start_time": "2022-03-30T15:21:42.743Z"
   },
   {
    "duration": 118,
    "start_time": "2022-03-30T15:22:21.653Z"
   },
   {
    "duration": 437,
    "start_time": "2022-03-30T15:22:45.663Z"
   },
   {
    "duration": 8,
    "start_time": "2022-03-30T15:33:17.464Z"
   },
   {
    "duration": 5,
    "start_time": "2022-03-30T15:39:40.059Z"
   },
   {
    "duration": 4,
    "start_time": "2022-03-30T15:40:05.744Z"
   },
   {
    "duration": 4,
    "start_time": "2022-03-30T15:40:23.764Z"
   },
   {
    "duration": 5,
    "start_time": "2022-03-30T15:41:31.310Z"
   },
   {
    "duration": 6,
    "start_time": "2022-03-30T15:42:07.081Z"
   },
   {
    "duration": 152,
    "start_time": "2022-03-30T15:42:23.043Z"
   },
   {
    "duration": 7,
    "start_time": "2022-03-30T15:42:34.242Z"
   },
   {
    "duration": 6,
    "start_time": "2022-03-30T15:42:53.090Z"
   },
   {
    "duration": 7,
    "start_time": "2022-03-30T15:43:05.723Z"
   },
   {
    "duration": 16,
    "start_time": "2022-03-30T15:44:46.439Z"
   },
   {
    "duration": 8,
    "start_time": "2022-03-30T15:45:03.551Z"
   },
   {
    "duration": 12,
    "start_time": "2022-03-30T15:46:53.582Z"
   },
   {
    "duration": 138,
    "start_time": "2022-03-30T15:47:25.614Z"
   },
   {
    "duration": 516,
    "start_time": "2022-03-30T15:51:06.348Z"
   },
   {
    "duration": 494,
    "start_time": "2022-03-30T15:52:44.849Z"
   },
   {
    "duration": 523,
    "start_time": "2022-03-30T15:53:17.755Z"
   },
   {
    "duration": 5,
    "start_time": "2022-03-30T15:58:40.639Z"
   },
   {
    "duration": 5,
    "start_time": "2022-03-30T16:01:33.650Z"
   },
   {
    "duration": 18,
    "start_time": "2022-03-30T16:01:44.041Z"
   },
   {
    "duration": 3,
    "start_time": "2022-03-30T16:01:50.785Z"
   },
   {
    "duration": 363,
    "start_time": "2022-03-30T16:01:50.790Z"
   },
   {
    "duration": 23,
    "start_time": "2022-03-30T16:01:51.154Z"
   },
   {
    "duration": 4,
    "start_time": "2022-03-30T16:01:51.179Z"
   },
   {
    "duration": 118,
    "start_time": "2022-03-30T16:01:51.185Z"
   },
   {
    "duration": 87,
    "start_time": "2022-03-30T16:01:51.305Z"
   },
   {
    "duration": 20,
    "start_time": "2022-03-30T16:01:51.393Z"
   },
   {
    "duration": 166,
    "start_time": "2022-03-30T16:01:51.415Z"
   },
   {
    "duration": 5,
    "start_time": "2022-03-30T16:01:51.583Z"
   },
   {
    "duration": 17,
    "start_time": "2022-03-30T16:01:51.590Z"
   },
   {
    "duration": 47,
    "start_time": "2022-03-30T16:01:51.608Z"
   },
   {
    "duration": 25,
    "start_time": "2022-03-30T16:01:51.657Z"
   },
   {
    "duration": 68,
    "start_time": "2022-03-30T16:01:51.684Z"
   },
   {
    "duration": 20,
    "start_time": "2022-03-30T16:01:51.755Z"
   },
   {
    "duration": 15,
    "start_time": "2022-03-30T16:01:51.777Z"
   },
   {
    "duration": 44,
    "start_time": "2022-03-30T16:01:51.794Z"
   },
   {
    "duration": 48,
    "start_time": "2022-03-30T16:01:51.840Z"
   },
   {
    "duration": 84,
    "start_time": "2022-03-30T16:01:51.890Z"
   },
   {
    "duration": 36,
    "start_time": "2022-03-30T16:01:51.976Z"
   },
   {
    "duration": 64,
    "start_time": "2022-03-30T16:01:52.014Z"
   },
   {
    "duration": 61,
    "start_time": "2022-03-30T16:01:52.080Z"
   },
   {
    "duration": 17,
    "start_time": "2022-03-30T16:01:52.143Z"
   },
   {
    "duration": 13,
    "start_time": "2022-03-30T16:01:52.161Z"
   },
   {
    "duration": 5,
    "start_time": "2022-03-30T16:01:52.176Z"
   },
   {
    "duration": 17,
    "start_time": "2022-03-30T16:01:52.183Z"
   },
   {
    "duration": 49,
    "start_time": "2022-03-30T16:01:52.202Z"
   },
   {
    "duration": 3,
    "start_time": "2022-03-30T16:01:52.253Z"
   },
   {
    "duration": 19,
    "start_time": "2022-03-30T16:01:52.257Z"
   },
   {
    "duration": 15,
    "start_time": "2022-03-30T16:01:52.277Z"
   },
   {
    "duration": 9,
    "start_time": "2022-03-30T16:01:52.294Z"
   },
   {
    "duration": 37,
    "start_time": "2022-03-30T16:01:52.304Z"
   },
   {
    "duration": 5,
    "start_time": "2022-03-30T16:01:52.342Z"
   },
   {
    "duration": 116,
    "start_time": "2022-03-30T16:01:52.348Z"
   },
   {
    "duration": 28,
    "start_time": "2022-03-30T16:01:52.466Z"
   },
   {
    "duration": 643,
    "start_time": "2022-03-30T16:01:52.496Z"
   },
   {
    "duration": 65,
    "start_time": "2022-03-30T16:01:53.141Z"
   },
   {
    "duration": 84,
    "start_time": "2022-03-30T16:01:53.208Z"
   },
   {
    "duration": 79,
    "start_time": "2022-03-30T16:01:53.293Z"
   },
   {
    "duration": 6,
    "start_time": "2022-03-30T16:01:53.374Z"
   },
   {
    "duration": 39,
    "start_time": "2022-03-30T16:01:53.382Z"
   },
   {
    "duration": 4,
    "start_time": "2022-03-30T16:01:53.439Z"
   },
   {
    "duration": 110,
    "start_time": "2022-03-30T16:01:53.445Z"
   },
   {
    "duration": 0,
    "start_time": "2022-03-30T16:01:53.557Z"
   },
   {
    "duration": 0,
    "start_time": "2022-03-30T16:01:53.559Z"
   },
   {
    "duration": 0,
    "start_time": "2022-03-30T16:01:53.560Z"
   },
   {
    "duration": 0,
    "start_time": "2022-03-30T16:01:53.561Z"
   },
   {
    "duration": 0,
    "start_time": "2022-03-30T16:01:53.562Z"
   },
   {
    "duration": 1,
    "start_time": "2022-03-30T16:01:53.563Z"
   },
   {
    "duration": 18,
    "start_time": "2022-03-30T16:02:09.898Z"
   },
   {
    "duration": 9,
    "start_time": "2022-03-30T16:02:12.908Z"
   },
   {
    "duration": 12,
    "start_time": "2022-03-30T16:02:13.254Z"
   },
   {
    "duration": 499,
    "start_time": "2022-03-30T16:02:15.587Z"
   },
   {
    "duration": 433,
    "start_time": "2022-03-30T16:02:18.959Z"
   },
   {
    "duration": 472,
    "start_time": "2022-03-30T16:02:20.007Z"
   },
   {
    "duration": 10,
    "start_time": "2022-03-30T16:07:53.020Z"
   },
   {
    "duration": 10,
    "start_time": "2022-03-30T16:08:36.571Z"
   },
   {
    "duration": 4,
    "start_time": "2022-03-30T16:12:38.785Z"
   },
   {
    "duration": 18,
    "start_time": "2022-03-30T16:12:43.646Z"
   },
   {
    "duration": 5,
    "start_time": "2022-03-30T16:13:00.484Z"
   },
   {
    "duration": 5,
    "start_time": "2022-03-30T16:13:09.167Z"
   },
   {
    "duration": 5,
    "start_time": "2022-03-30T16:13:28.203Z"
   },
   {
    "duration": 4,
    "start_time": "2022-03-30T16:14:19.927Z"
   },
   {
    "duration": 4,
    "start_time": "2022-03-30T16:33:24.576Z"
   },
   {
    "duration": 42,
    "start_time": "2022-03-30T16:37:46.275Z"
   },
   {
    "duration": 11,
    "start_time": "2022-03-30T16:38:03.640Z"
   },
   {
    "duration": 16,
    "start_time": "2022-03-30T16:42:34.645Z"
   },
   {
    "duration": 1804,
    "start_time": "2022-03-30T16:42:49.497Z"
   },
   {
    "duration": 15,
    "start_time": "2022-03-30T16:42:56.921Z"
   },
   {
    "duration": 30,
    "start_time": "2022-03-30T16:43:21.260Z"
   },
   {
    "duration": 23,
    "start_time": "2022-03-30T16:44:03.567Z"
   },
   {
    "duration": 23,
    "start_time": "2022-03-30T16:44:39.569Z"
   },
   {
    "duration": 5,
    "start_time": "2022-03-30T16:45:33.943Z"
   },
   {
    "duration": 6,
    "start_time": "2022-03-30T16:45:44.912Z"
   },
   {
    "duration": 6,
    "start_time": "2022-03-30T16:45:51.732Z"
   },
   {
    "duration": 6,
    "start_time": "2022-03-30T16:46:08.607Z"
   },
   {
    "duration": 48,
    "start_time": "2022-03-30T16:48:09.595Z"
   },
   {
    "duration": 5,
    "start_time": "2022-03-30T16:49:01.494Z"
   },
   {
    "duration": 5,
    "start_time": "2022-03-30T16:49:29.630Z"
   },
   {
    "duration": 5,
    "start_time": "2022-03-30T16:49:59.382Z"
   },
   {
    "duration": 7,
    "start_time": "2022-03-30T16:50:35.095Z"
   },
   {
    "duration": 6,
    "start_time": "2022-03-30T16:50:42.374Z"
   },
   {
    "duration": 7,
    "start_time": "2022-03-30T16:52:05.815Z"
   },
   {
    "duration": 11,
    "start_time": "2022-03-30T16:53:36.290Z"
   },
   {
    "duration": 26,
    "start_time": "2022-03-30T16:56:00.334Z"
   },
   {
    "duration": 49,
    "start_time": "2022-03-30T17:04:43.429Z"
   },
   {
    "duration": 1444,
    "start_time": "2022-03-30T17:04:47.537Z"
   },
   {
    "duration": 412,
    "start_time": "2022-03-30T17:04:48.983Z"
   },
   {
    "duration": 29,
    "start_time": "2022-03-30T17:04:49.396Z"
   },
   {
    "duration": 5,
    "start_time": "2022-03-30T17:04:49.438Z"
   },
   {
    "duration": 134,
    "start_time": "2022-03-30T17:04:49.445Z"
   },
   {
    "duration": 104,
    "start_time": "2022-03-30T17:04:49.581Z"
   },
   {
    "duration": 19,
    "start_time": "2022-03-30T17:04:49.687Z"
   },
   {
    "duration": 193,
    "start_time": "2022-03-30T17:04:49.707Z"
   },
   {
    "duration": 6,
    "start_time": "2022-03-30T17:04:49.902Z"
   },
   {
    "duration": 27,
    "start_time": "2022-03-30T17:04:49.912Z"
   },
   {
    "duration": 35,
    "start_time": "2022-03-30T17:04:49.941Z"
   },
   {
    "duration": 27,
    "start_time": "2022-03-30T17:04:49.978Z"
   },
   {
    "duration": 81,
    "start_time": "2022-03-30T17:04:50.007Z"
   },
   {
    "duration": 20,
    "start_time": "2022-03-30T17:04:50.092Z"
   },
   {
    "duration": 38,
    "start_time": "2022-03-30T17:04:50.114Z"
   },
   {
    "duration": 26,
    "start_time": "2022-03-30T17:04:50.154Z"
   },
   {
    "duration": 68,
    "start_time": "2022-03-30T17:04:50.182Z"
   },
   {
    "duration": 93,
    "start_time": "2022-03-30T17:04:50.251Z"
   },
   {
    "duration": 47,
    "start_time": "2022-03-30T17:04:50.345Z"
   },
   {
    "duration": 76,
    "start_time": "2022-03-30T17:04:50.394Z"
   },
   {
    "duration": 56,
    "start_time": "2022-03-30T17:04:50.471Z"
   },
   {
    "duration": 26,
    "start_time": "2022-03-30T17:04:50.538Z"
   },
   {
    "duration": 15,
    "start_time": "2022-03-30T17:04:50.566Z"
   },
   {
    "duration": 6,
    "start_time": "2022-03-30T17:04:50.582Z"
   },
   {
    "duration": 18,
    "start_time": "2022-03-30T17:04:50.589Z"
   },
   {
    "duration": 47,
    "start_time": "2022-03-30T17:04:50.608Z"
   },
   {
    "duration": 3,
    "start_time": "2022-03-30T17:04:50.656Z"
   },
   {
    "duration": 20,
    "start_time": "2022-03-30T17:04:50.661Z"
   },
   {
    "duration": 20,
    "start_time": "2022-03-30T17:04:50.682Z"
   },
   {
    "duration": 9,
    "start_time": "2022-03-30T17:04:50.704Z"
   },
   {
    "duration": 34,
    "start_time": "2022-03-30T17:04:50.714Z"
   },
   {
    "duration": 5,
    "start_time": "2022-03-30T17:04:50.750Z"
   },
   {
    "duration": 121,
    "start_time": "2022-03-30T17:04:50.756Z"
   },
   {
    "duration": 28,
    "start_time": "2022-03-30T17:04:50.879Z"
   },
   {
    "duration": 525,
    "start_time": "2022-03-30T17:04:50.909Z"
   },
   {
    "duration": 66,
    "start_time": "2022-03-30T17:04:51.437Z"
   },
   {
    "duration": 82,
    "start_time": "2022-03-30T17:04:51.505Z"
   },
   {
    "duration": 68,
    "start_time": "2022-03-30T17:04:51.589Z"
   },
   {
    "duration": 6,
    "start_time": "2022-03-30T17:04:51.659Z"
   },
   {
    "duration": 36,
    "start_time": "2022-03-30T17:04:51.667Z"
   },
   {
    "duration": 5,
    "start_time": "2022-03-30T17:04:51.706Z"
   },
   {
    "duration": 40,
    "start_time": "2022-03-30T17:04:51.712Z"
   },
   {
    "duration": 13,
    "start_time": "2022-03-30T17:04:51.754Z"
   },
   {
    "duration": 4,
    "start_time": "2022-03-30T17:04:51.769Z"
   },
   {
    "duration": 22,
    "start_time": "2022-03-30T17:04:51.774Z"
   },
   {
    "duration": 70,
    "start_time": "2022-03-30T17:04:51.799Z"
   },
   {
    "duration": 6,
    "start_time": "2022-03-30T17:04:51.871Z"
   },
   {
    "duration": 582,
    "start_time": "2022-03-30T17:04:51.879Z"
   },
   {
    "duration": 101,
    "start_time": "2022-03-30T17:04:52.463Z"
   },
   {
    "duration": 0,
    "start_time": "2022-03-30T17:04:52.566Z"
   },
   {
    "duration": 6,
    "start_time": "2022-03-30T17:05:13.533Z"
   },
   {
    "duration": 1670,
    "start_time": "2022-03-30T17:06:07.618Z"
   },
   {
    "duration": 19,
    "start_time": "2022-03-30T17:06:39.388Z"
   },
   {
    "duration": 23,
    "start_time": "2022-03-30T17:06:53.475Z"
   },
   {
    "duration": 22,
    "start_time": "2022-03-30T17:07:36.369Z"
   },
   {
    "duration": 19,
    "start_time": "2022-03-30T17:07:55.790Z"
   },
   {
    "duration": 19,
    "start_time": "2022-03-30T17:08:05.970Z"
   },
   {
    "duration": 31,
    "start_time": "2022-03-30T17:08:15.028Z"
   },
   {
    "duration": 25,
    "start_time": "2022-03-30T17:08:33.438Z"
   },
   {
    "duration": 18,
    "start_time": "2022-03-30T17:09:49.933Z"
   },
   {
    "duration": 20,
    "start_time": "2022-03-30T17:10:02.158Z"
   },
   {
    "duration": 10,
    "start_time": "2022-03-30T17:10:04.891Z"
   },
   {
    "duration": 17,
    "start_time": "2022-03-30T17:10:30.177Z"
   },
   {
    "duration": 27,
    "start_time": "2022-03-30T17:10:39.677Z"
   },
   {
    "duration": 7,
    "start_time": "2022-03-30T17:10:42.943Z"
   },
   {
    "duration": 7,
    "start_time": "2022-03-30T17:11:22.410Z"
   },
   {
    "duration": 7,
    "start_time": "2022-03-30T17:11:30.083Z"
   },
   {
    "duration": 592,
    "start_time": "2022-03-30T17:13:25.117Z"
   },
   {
    "duration": 12,
    "start_time": "2022-03-30T17:13:39.255Z"
   },
   {
    "duration": 1003,
    "start_time": "2022-03-30T17:14:11.376Z"
   },
   {
    "duration": 422,
    "start_time": "2022-03-30T17:14:19.991Z"
   },
   {
    "duration": 266,
    "start_time": "2022-03-30T17:14:51.435Z"
   },
   {
    "duration": 313,
    "start_time": "2022-03-30T17:15:05.561Z"
   },
   {
    "duration": 334,
    "start_time": "2022-03-30T17:15:12.679Z"
   },
   {
    "duration": 333,
    "start_time": "2022-03-30T17:15:23.043Z"
   },
   {
    "duration": 442,
    "start_time": "2022-03-30T17:15:57.339Z"
   },
   {
    "duration": 452,
    "start_time": "2022-03-30T17:16:11.595Z"
   },
   {
    "duration": 305,
    "start_time": "2022-03-30T17:16:27.154Z"
   },
   {
    "duration": 346,
    "start_time": "2022-03-30T17:16:58.021Z"
   },
   {
    "duration": 333,
    "start_time": "2022-03-30T17:18:42.124Z"
   },
   {
    "duration": 328,
    "start_time": "2022-03-30T17:19:15.646Z"
   },
   {
    "duration": 286,
    "start_time": "2022-03-30T17:19:48.154Z"
   },
   {
    "duration": 404,
    "start_time": "2022-03-30T17:19:56.004Z"
   },
   {
    "duration": 304,
    "start_time": "2022-03-30T17:20:01.735Z"
   },
   {
    "duration": 286,
    "start_time": "2022-03-30T17:20:41.560Z"
   },
   {
    "duration": 283,
    "start_time": "2022-03-30T17:20:52.663Z"
   },
   {
    "duration": 287,
    "start_time": "2022-03-30T17:21:08.005Z"
   },
   {
    "duration": 429,
    "start_time": "2022-03-30T17:21:15.815Z"
   },
   {
    "duration": 293,
    "start_time": "2022-03-30T17:21:26.821Z"
   },
   {
    "duration": 339,
    "start_time": "2022-03-30T17:21:30.324Z"
   },
   {
    "duration": 279,
    "start_time": "2022-03-30T17:21:35.641Z"
   },
   {
    "duration": 290,
    "start_time": "2022-03-30T17:21:44.425Z"
   },
   {
    "duration": 331,
    "start_time": "2022-03-30T17:21:51.615Z"
   },
   {
    "duration": 321,
    "start_time": "2022-03-30T17:22:03.430Z"
   },
   {
    "duration": 431,
    "start_time": "2022-03-30T17:22:18.126Z"
   },
   {
    "duration": 285,
    "start_time": "2022-03-30T17:22:25.993Z"
   },
   {
    "duration": 224,
    "start_time": "2022-03-30T17:22:37.781Z"
   },
   {
    "duration": 10,
    "start_time": "2022-03-30T17:23:57.555Z"
   },
   {
    "duration": 6,
    "start_time": "2022-03-30T17:27:34.402Z"
   },
   {
    "duration": 6,
    "start_time": "2022-03-30T17:28:05.087Z"
   },
   {
    "duration": 25,
    "start_time": "2022-03-30T17:30:34.982Z"
   },
   {
    "duration": 1570,
    "start_time": "2022-03-30T17:32:07.947Z"
   },
   {
    "duration": 1557,
    "start_time": "2022-03-30T17:32:44.330Z"
   },
   {
    "duration": 1892,
    "start_time": "2022-03-30T17:33:19.587Z"
   },
   {
    "duration": 18,
    "start_time": "2022-03-30T17:33:56.961Z"
   },
   {
    "duration": 21,
    "start_time": "2022-03-30T17:34:04.946Z"
   },
   {
    "duration": 23,
    "start_time": "2022-03-30T17:34:22.905Z"
   },
   {
    "duration": 26,
    "start_time": "2022-03-30T17:35:33.450Z"
   },
   {
    "duration": 12,
    "start_time": "2022-03-30T17:41:10.783Z"
   },
   {
    "duration": 9,
    "start_time": "2022-03-30T17:41:16.857Z"
   },
   {
    "duration": 42,
    "start_time": "2022-03-30T17:41:34.265Z"
   },
   {
    "duration": 7,
    "start_time": "2022-03-30T17:43:07.584Z"
   },
   {
    "duration": 31,
    "start_time": "2022-03-30T17:43:15.026Z"
   },
   {
    "duration": 7,
    "start_time": "2022-03-30T17:43:46.173Z"
   },
   {
    "duration": 9,
    "start_time": "2022-03-30T17:44:01.094Z"
   },
   {
    "duration": 113,
    "start_time": "2022-03-30T17:44:14.957Z"
   },
   {
    "duration": 113,
    "start_time": "2022-03-30T17:44:23.551Z"
   },
   {
    "duration": 7,
    "start_time": "2022-03-30T17:44:33.365Z"
   },
   {
    "duration": 15,
    "start_time": "2022-03-30T17:45:21.080Z"
   },
   {
    "duration": 15,
    "start_time": "2022-03-30T17:45:43.122Z"
   },
   {
    "duration": 237,
    "start_time": "2022-03-30T17:45:47.422Z"
   },
   {
    "duration": 249,
    "start_time": "2022-03-30T17:45:55.680Z"
   },
   {
    "duration": 217,
    "start_time": "2022-03-30T17:46:11.514Z"
   },
   {
    "duration": 14,
    "start_time": "2022-03-30T17:58:22.834Z"
   },
   {
    "duration": 13,
    "start_time": "2022-03-30T17:58:39.877Z"
   },
   {
    "duration": 28,
    "start_time": "2022-03-30T17:58:40.251Z"
   },
   {
    "duration": 6,
    "start_time": "2022-03-30T17:59:31.430Z"
   },
   {
    "duration": 8,
    "start_time": "2022-03-30T17:59:32.846Z"
   },
   {
    "duration": 198,
    "start_time": "2022-03-30T17:59:37.966Z"
   },
   {
    "duration": 27,
    "start_time": "2022-03-30T18:02:42.529Z"
   },
   {
    "duration": 7,
    "start_time": "2022-03-30T18:03:49.208Z"
   },
   {
    "duration": 8,
    "start_time": "2022-03-30T18:04:54.696Z"
   },
   {
    "duration": 207,
    "start_time": "2022-03-30T18:05:48.384Z"
   },
   {
    "duration": 224,
    "start_time": "2022-03-30T18:06:17.736Z"
   },
   {
    "duration": 209,
    "start_time": "2022-03-30T18:07:36.023Z"
   },
   {
    "duration": 328,
    "start_time": "2022-03-30T18:07:42.966Z"
   },
   {
    "duration": 116,
    "start_time": "2022-03-30T18:08:01.226Z"
   },
   {
    "duration": 225,
    "start_time": "2022-03-30T18:08:10.704Z"
   },
   {
    "duration": 222,
    "start_time": "2022-03-30T18:08:23.151Z"
   },
   {
    "duration": 228,
    "start_time": "2022-03-30T18:08:28.607Z"
   },
   {
    "duration": 234,
    "start_time": "2022-03-30T18:08:32.824Z"
   },
   {
    "duration": 258,
    "start_time": "2022-03-30T18:08:40.939Z"
   },
   {
    "duration": 211,
    "start_time": "2022-03-30T18:08:46.617Z"
   },
   {
    "duration": 25,
    "start_time": "2022-03-30T18:22:43.714Z"
   },
   {
    "duration": 27,
    "start_time": "2022-03-30T18:24:53.652Z"
   },
   {
    "duration": 6,
    "start_time": "2022-03-30T18:25:55.058Z"
   },
   {
    "duration": 9,
    "start_time": "2022-03-30T18:26:48.358Z"
   },
   {
    "duration": 7,
    "start_time": "2022-03-30T18:27:09.537Z"
   },
   {
    "duration": 204,
    "start_time": "2022-03-30T18:27:53.669Z"
   },
   {
    "duration": 8,
    "start_time": "2022-03-30T18:32:22.423Z"
   },
   {
    "duration": 8,
    "start_time": "2022-03-30T18:32:24.860Z"
   },
   {
    "duration": 208,
    "start_time": "2022-03-30T18:32:26.801Z"
   },
   {
    "duration": 69,
    "start_time": "2022-03-30T18:41:48.046Z"
   },
   {
    "duration": 1788,
    "start_time": "2022-03-30T18:41:54.908Z"
   },
   {
    "duration": 460,
    "start_time": "2022-03-30T18:41:56.699Z"
   },
   {
    "duration": 47,
    "start_time": "2022-03-30T18:41:57.161Z"
   },
   {
    "duration": 9,
    "start_time": "2022-03-30T18:41:57.212Z"
   },
   {
    "duration": 184,
    "start_time": "2022-03-30T18:41:57.225Z"
   },
   {
    "duration": 125,
    "start_time": "2022-03-30T18:41:57.412Z"
   },
   {
    "duration": 45,
    "start_time": "2022-03-30T18:41:57.539Z"
   },
   {
    "duration": 235,
    "start_time": "2022-03-30T18:41:57.586Z"
   },
   {
    "duration": 9,
    "start_time": "2022-03-30T18:41:57.823Z"
   },
   {
    "duration": 45,
    "start_time": "2022-03-30T18:41:57.834Z"
   },
   {
    "duration": 68,
    "start_time": "2022-03-30T18:41:57.880Z"
   },
   {
    "duration": 35,
    "start_time": "2022-03-30T18:41:57.950Z"
   },
   {
    "duration": 76,
    "start_time": "2022-03-30T18:41:57.988Z"
   },
   {
    "duration": 39,
    "start_time": "2022-03-30T18:41:58.069Z"
   },
   {
    "duration": 23,
    "start_time": "2022-03-30T18:41:58.110Z"
   },
   {
    "duration": 59,
    "start_time": "2022-03-30T18:41:58.136Z"
   },
   {
    "duration": 71,
    "start_time": "2022-03-30T18:41:58.197Z"
   },
   {
    "duration": 113,
    "start_time": "2022-03-30T18:41:58.270Z"
   },
   {
    "duration": 60,
    "start_time": "2022-03-30T18:41:58.385Z"
   },
   {
    "duration": 98,
    "start_time": "2022-03-30T18:41:58.447Z"
   },
   {
    "duration": 83,
    "start_time": "2022-03-30T18:41:58.547Z"
   },
   {
    "duration": 32,
    "start_time": "2022-03-30T18:41:58.632Z"
   },
   {
    "duration": 30,
    "start_time": "2022-03-30T18:41:58.667Z"
   },
   {
    "duration": 8,
    "start_time": "2022-03-30T18:41:58.700Z"
   },
   {
    "duration": 42,
    "start_time": "2022-03-30T18:41:58.710Z"
   },
   {
    "duration": 39,
    "start_time": "2022-03-30T18:41:58.755Z"
   },
   {
    "duration": 15,
    "start_time": "2022-03-30T18:41:58.796Z"
   },
   {
    "duration": 46,
    "start_time": "2022-03-30T18:41:58.813Z"
   },
   {
    "duration": 29,
    "start_time": "2022-03-30T18:41:58.861Z"
   },
   {
    "duration": 23,
    "start_time": "2022-03-30T18:41:58.892Z"
   },
   {
    "duration": 40,
    "start_time": "2022-03-30T18:41:58.917Z"
   },
   {
    "duration": 6,
    "start_time": "2022-03-30T18:41:58.959Z"
   },
   {
    "duration": 179,
    "start_time": "2022-03-30T18:41:58.968Z"
   },
   {
    "duration": 106,
    "start_time": "2022-03-30T18:41:59.149Z"
   },
   {
    "duration": 0,
    "start_time": "2022-03-30T18:41:59.259Z"
   },
   {
    "duration": 0,
    "start_time": "2022-03-30T18:41:59.261Z"
   },
   {
    "duration": 0,
    "start_time": "2022-03-30T18:41:59.262Z"
   },
   {
    "duration": 0,
    "start_time": "2022-03-30T18:41:59.264Z"
   },
   {
    "duration": 0,
    "start_time": "2022-03-30T18:41:59.282Z"
   },
   {
    "duration": 0,
    "start_time": "2022-03-30T18:41:59.285Z"
   },
   {
    "duration": 0,
    "start_time": "2022-03-30T18:41:59.286Z"
   },
   {
    "duration": 0,
    "start_time": "2022-03-30T18:41:59.288Z"
   },
   {
    "duration": 0,
    "start_time": "2022-03-30T18:41:59.290Z"
   },
   {
    "duration": 0,
    "start_time": "2022-03-30T18:41:59.292Z"
   },
   {
    "duration": 0,
    "start_time": "2022-03-30T18:41:59.293Z"
   },
   {
    "duration": 0,
    "start_time": "2022-03-30T18:41:59.295Z"
   },
   {
    "duration": 0,
    "start_time": "2022-03-30T18:41:59.299Z"
   },
   {
    "duration": 0,
    "start_time": "2022-03-30T18:41:59.300Z"
   },
   {
    "duration": 0,
    "start_time": "2022-03-30T18:41:59.302Z"
   },
   {
    "duration": 1,
    "start_time": "2022-03-30T18:41:59.303Z"
   },
   {
    "duration": 0,
    "start_time": "2022-03-30T18:41:59.306Z"
   },
   {
    "duration": 1,
    "start_time": "2022-03-30T18:41:59.307Z"
   },
   {
    "duration": 0,
    "start_time": "2022-03-30T18:41:59.309Z"
   },
   {
    "duration": 0,
    "start_time": "2022-03-30T18:41:59.311Z"
   },
   {
    "duration": 0,
    "start_time": "2022-03-30T18:41:59.313Z"
   },
   {
    "duration": 0,
    "start_time": "2022-03-30T18:41:59.314Z"
   },
   {
    "duration": 44,
    "start_time": "2022-03-30T18:42:36.170Z"
   },
   {
    "duration": 33,
    "start_time": "2022-03-30T18:43:39.297Z"
   },
   {
    "duration": 41,
    "start_time": "2022-03-30T18:45:28.279Z"
   },
   {
    "duration": 41,
    "start_time": "2022-03-30T18:45:37.444Z"
   },
   {
    "duration": 4,
    "start_time": "2022-03-30T18:45:47.851Z"
   },
   {
    "duration": 459,
    "start_time": "2022-03-30T18:45:47.858Z"
   },
   {
    "duration": 33,
    "start_time": "2022-03-30T18:45:48.320Z"
   },
   {
    "duration": 28,
    "start_time": "2022-03-30T18:45:48.356Z"
   },
   {
    "duration": 165,
    "start_time": "2022-03-30T18:45:48.387Z"
   },
   {
    "duration": 127,
    "start_time": "2022-03-30T18:45:48.555Z"
   },
   {
    "duration": 30,
    "start_time": "2022-03-30T18:45:48.684Z"
   },
   {
    "duration": 246,
    "start_time": "2022-03-30T18:45:48.717Z"
   },
   {
    "duration": 17,
    "start_time": "2022-03-30T18:45:48.966Z"
   },
   {
    "duration": 16,
    "start_time": "2022-03-30T18:45:48.989Z"
   },
   {
    "duration": 74,
    "start_time": "2022-03-30T18:45:49.008Z"
   },
   {
    "duration": 34,
    "start_time": "2022-03-30T18:45:49.085Z"
   },
   {
    "duration": 95,
    "start_time": "2022-03-30T18:45:49.121Z"
   },
   {
    "duration": 30,
    "start_time": "2022-03-30T18:45:49.219Z"
   },
   {
    "duration": 37,
    "start_time": "2022-03-30T18:45:49.251Z"
   },
   {
    "duration": 38,
    "start_time": "2022-03-30T18:45:49.290Z"
   },
   {
    "duration": 91,
    "start_time": "2022-03-30T18:45:49.331Z"
   },
   {
    "duration": 116,
    "start_time": "2022-03-30T18:45:49.425Z"
   },
   {
    "duration": 70,
    "start_time": "2022-03-30T18:45:49.543Z"
   },
   {
    "duration": 82,
    "start_time": "2022-03-30T18:45:49.615Z"
   },
   {
    "duration": 86,
    "start_time": "2022-03-30T18:45:49.699Z"
   },
   {
    "duration": 24,
    "start_time": "2022-03-30T18:45:49.787Z"
   },
   {
    "duration": 17,
    "start_time": "2022-03-30T18:45:49.813Z"
   },
   {
    "duration": 8,
    "start_time": "2022-03-30T18:45:49.832Z"
   },
   {
    "duration": 52,
    "start_time": "2022-03-30T18:45:49.842Z"
   },
   {
    "duration": 30,
    "start_time": "2022-03-30T18:45:49.896Z"
   },
   {
    "duration": 5,
    "start_time": "2022-03-30T18:45:49.928Z"
   },
   {
    "duration": 53,
    "start_time": "2022-03-30T18:45:49.939Z"
   },
   {
    "duration": 25,
    "start_time": "2022-03-30T18:45:49.994Z"
   },
   {
    "duration": 32,
    "start_time": "2022-03-30T18:45:50.021Z"
   },
   {
    "duration": 45,
    "start_time": "2022-03-30T18:45:50.055Z"
   },
   {
    "duration": 8,
    "start_time": "2022-03-30T18:45:50.103Z"
   },
   {
    "duration": 206,
    "start_time": "2022-03-30T18:45:50.113Z"
   },
   {
    "duration": 43,
    "start_time": "2022-03-30T18:45:50.322Z"
   },
   {
    "duration": 937,
    "start_time": "2022-03-30T18:45:50.383Z"
   },
   {
    "duration": 128,
    "start_time": "2022-03-30T18:45:51.322Z"
   },
   {
    "duration": 110,
    "start_time": "2022-03-30T18:45:51.453Z"
   },
   {
    "duration": 105,
    "start_time": "2022-03-30T18:45:51.566Z"
   },
   {
    "duration": 9,
    "start_time": "2022-03-30T18:45:51.682Z"
   },
   {
    "duration": 154,
    "start_time": "2022-03-30T18:45:51.693Z"
   },
   {
    "duration": 5,
    "start_time": "2022-03-30T18:45:51.849Z"
   },
   {
    "duration": 45,
    "start_time": "2022-03-30T18:45:51.857Z"
   },
   {
    "duration": 25,
    "start_time": "2022-03-30T18:45:51.904Z"
   },
   {
    "duration": 73,
    "start_time": "2022-03-30T18:45:51.932Z"
   },
   {
    "duration": 10,
    "start_time": "2022-03-30T18:45:52.007Z"
   },
   {
    "duration": 16,
    "start_time": "2022-03-30T18:45:52.020Z"
   },
   {
    "duration": 386,
    "start_time": "2022-03-30T18:45:52.039Z"
   },
   {
    "duration": 37,
    "start_time": "2022-03-30T18:45:52.428Z"
   },
   {
    "duration": 8,
    "start_time": "2022-03-30T18:45:52.482Z"
   },
   {
    "duration": 16,
    "start_time": "2022-03-30T18:45:52.492Z"
   },
   {
    "duration": 423,
    "start_time": "2022-03-30T18:45:52.511Z"
   },
   {
    "duration": 53,
    "start_time": "2022-03-30T18:45:52.936Z"
   },
   {
    "duration": 32,
    "start_time": "2022-03-30T18:45:52.991Z"
   },
   {
    "duration": 26,
    "start_time": "2022-03-30T18:45:53.026Z"
   },
   {
    "duration": 522,
    "start_time": "2022-03-30T18:45:53.055Z"
   },
   {
    "duration": 276,
    "start_time": "2022-03-30T18:45:53.582Z"
   },
   {
    "duration": 11,
    "start_time": "2022-03-30T18:46:46.303Z"
   },
   {
    "duration": 13,
    "start_time": "2022-03-30T18:46:57.100Z"
   },
   {
    "duration": 11,
    "start_time": "2022-03-30T18:47:03.136Z"
   },
   {
    "duration": 10,
    "start_time": "2022-03-30T18:47:15.819Z"
   },
   {
    "duration": 7,
    "start_time": "2022-03-30T18:47:26.215Z"
   },
   {
    "duration": 7,
    "start_time": "2022-03-30T18:47:34.338Z"
   },
   {
    "duration": 5,
    "start_time": "2022-03-30T18:47:46.756Z"
   },
   {
    "duration": 15,
    "start_time": "2022-03-30T18:51:09.333Z"
   },
   {
    "duration": 8,
    "start_time": "2022-03-30T19:27:08.688Z"
   },
   {
    "duration": 400,
    "start_time": "2022-03-30T19:28:08.336Z"
   },
   {
    "duration": 369,
    "start_time": "2022-03-30T19:28:23.496Z"
   },
   {
    "duration": 396,
    "start_time": "2022-03-30T19:28:57.312Z"
   },
   {
    "duration": 366,
    "start_time": "2022-03-30T19:29:04.437Z"
   },
   {
    "duration": 441,
    "start_time": "2022-03-30T19:29:12.256Z"
   },
   {
    "duration": 17,
    "start_time": "2022-03-30T19:34:08.677Z"
   },
   {
    "duration": 16,
    "start_time": "2022-03-30T19:34:09.132Z"
   },
   {
    "duration": 18,
    "start_time": "2022-03-30T19:35:53.977Z"
   },
   {
    "duration": 22,
    "start_time": "2022-03-30T19:35:54.406Z"
   },
   {
    "duration": 1329,
    "start_time": "2022-03-30T19:37:20.463Z"
   },
   {
    "duration": 928,
    "start_time": "2022-03-30T19:37:42.627Z"
   },
   {
    "duration": 447,
    "start_time": "2022-03-30T19:37:57.315Z"
   },
   {
    "duration": 620,
    "start_time": "2022-03-30T19:38:23.926Z"
   },
   {
    "duration": 779,
    "start_time": "2022-03-30T19:39:23.888Z"
   },
   {
    "duration": 567,
    "start_time": "2022-03-30T19:40:55.353Z"
   },
   {
    "duration": 580,
    "start_time": "2022-03-30T19:41:24.863Z"
   },
   {
    "duration": 653,
    "start_time": "2022-03-30T19:42:06.870Z"
   },
   {
    "duration": 296,
    "start_time": "2022-03-30T19:43:09.307Z"
   },
   {
    "duration": 341,
    "start_time": "2022-03-30T19:43:34.825Z"
   },
   {
    "duration": 302,
    "start_time": "2022-03-30T19:44:25.598Z"
   },
   {
    "duration": 170,
    "start_time": "2022-03-30T19:45:09.154Z"
   },
   {
    "duration": 314,
    "start_time": "2022-03-30T19:45:44.289Z"
   },
   {
    "duration": 317,
    "start_time": "2022-03-30T19:46:26.096Z"
   },
   {
    "duration": 297,
    "start_time": "2022-03-30T19:47:09.991Z"
   },
   {
    "duration": 337,
    "start_time": "2022-03-30T19:50:40.654Z"
   },
   {
    "duration": 336,
    "start_time": "2022-03-30T19:50:58.176Z"
   },
   {
    "duration": 312,
    "start_time": "2022-03-30T19:51:37.428Z"
   },
   {
    "duration": 170,
    "start_time": "2022-03-30T19:51:40.640Z"
   },
   {
    "duration": 18,
    "start_time": "2022-03-30T20:14:59.829Z"
   },
   {
    "duration": 16,
    "start_time": "2022-03-30T20:15:00.240Z"
   },
   {
    "duration": 692,
    "start_time": "2022-03-30T20:15:01.520Z"
   },
   {
    "duration": 15,
    "start_time": "2022-03-30T20:15:18.604Z"
   },
   {
    "duration": 8,
    "start_time": "2022-03-30T20:15:19.080Z"
   },
   {
    "duration": 361,
    "start_time": "2022-03-30T20:15:19.637Z"
   },
   {
    "duration": 14,
    "start_time": "2022-03-30T20:42:06.888Z"
   },
   {
    "duration": 61,
    "start_time": "2022-03-30T20:42:31.494Z"
   },
   {
    "duration": 14,
    "start_time": "2022-03-30T20:42:43.320Z"
   },
   {
    "duration": 6,
    "start_time": "2022-03-30T20:43:31.138Z"
   },
   {
    "duration": 5,
    "start_time": "2022-03-30T20:43:45.073Z"
   },
   {
    "duration": 45,
    "start_time": "2022-03-30T20:47:15.145Z"
   },
   {
    "duration": 15,
    "start_time": "2022-03-30T20:47:39.285Z"
   },
   {
    "duration": 6,
    "start_time": "2022-03-30T20:48:02.787Z"
   },
   {
    "duration": 15,
    "start_time": "2022-03-30T20:48:08.107Z"
   },
   {
    "duration": 6,
    "start_time": "2022-03-30T20:48:08.568Z"
   },
   {
    "duration": 6,
    "start_time": "2022-03-30T20:48:47.281Z"
   },
   {
    "duration": 476,
    "start_time": "2022-03-30T20:48:47.289Z"
   },
   {
    "duration": 38,
    "start_time": "2022-03-30T20:48:47.767Z"
   },
   {
    "duration": 7,
    "start_time": "2022-03-30T20:48:47.808Z"
   },
   {
    "duration": 215,
    "start_time": "2022-03-30T20:48:47.817Z"
   },
   {
    "duration": 171,
    "start_time": "2022-03-30T20:48:48.035Z"
   },
   {
    "duration": 37,
    "start_time": "2022-03-30T20:48:48.209Z"
   },
   {
    "duration": 225,
    "start_time": "2022-03-30T20:48:48.249Z"
   },
   {
    "duration": 9,
    "start_time": "2022-03-30T20:48:48.483Z"
   },
   {
    "duration": 16,
    "start_time": "2022-03-30T20:48:48.498Z"
   },
   {
    "duration": 78,
    "start_time": "2022-03-30T20:48:48.516Z"
   },
   {
    "duration": 35,
    "start_time": "2022-03-30T20:48:48.596Z"
   },
   {
    "duration": 103,
    "start_time": "2022-03-30T20:48:48.633Z"
   },
   {
    "duration": 43,
    "start_time": "2022-03-30T20:48:48.739Z"
   },
   {
    "duration": 21,
    "start_time": "2022-03-30T20:48:48.784Z"
   },
   {
    "duration": 34,
    "start_time": "2022-03-30T20:48:48.807Z"
   },
   {
    "duration": 111,
    "start_time": "2022-03-30T20:48:48.844Z"
   },
   {
    "duration": 109,
    "start_time": "2022-03-30T20:48:48.958Z"
   },
   {
    "duration": 63,
    "start_time": "2022-03-30T20:48:49.069Z"
   },
   {
    "duration": 92,
    "start_time": "2022-03-30T20:48:49.134Z"
   },
   {
    "duration": 81,
    "start_time": "2022-03-30T20:48:49.228Z"
   },
   {
    "duration": 26,
    "start_time": "2022-03-30T20:48:49.311Z"
   },
   {
    "duration": 51,
    "start_time": "2022-03-30T20:48:49.340Z"
   },
   {
    "duration": 9,
    "start_time": "2022-03-30T20:48:49.395Z"
   },
   {
    "duration": 21,
    "start_time": "2022-03-30T20:48:49.407Z"
   },
   {
    "duration": 70,
    "start_time": "2022-03-30T20:48:49.431Z"
   },
   {
    "duration": 4,
    "start_time": "2022-03-30T20:48:49.505Z"
   },
   {
    "duration": 23,
    "start_time": "2022-03-30T20:48:49.518Z"
   },
   {
    "duration": 47,
    "start_time": "2022-03-30T20:48:49.543Z"
   },
   {
    "duration": 9,
    "start_time": "2022-03-30T20:48:49.593Z"
   },
   {
    "duration": 29,
    "start_time": "2022-03-30T20:48:49.604Z"
   },
   {
    "duration": 6,
    "start_time": "2022-03-30T20:48:49.636Z"
   },
   {
    "duration": 218,
    "start_time": "2022-03-30T20:48:49.644Z"
   },
   {
    "duration": 55,
    "start_time": "2022-03-30T20:48:49.864Z"
   },
   {
    "duration": 1025,
    "start_time": "2022-03-30T20:48:49.922Z"
   },
   {
    "duration": 103,
    "start_time": "2022-03-30T20:48:50.950Z"
   },
   {
    "duration": 106,
    "start_time": "2022-03-30T20:48:51.055Z"
   },
   {
    "duration": 100,
    "start_time": "2022-03-30T20:48:51.163Z"
   },
   {
    "duration": 19,
    "start_time": "2022-03-30T20:48:51.266Z"
   },
   {
    "duration": 62,
    "start_time": "2022-03-30T20:48:51.288Z"
   },
   {
    "duration": 6,
    "start_time": "2022-03-30T20:48:51.352Z"
   },
   {
    "duration": 49,
    "start_time": "2022-03-30T20:48:51.360Z"
   },
   {
    "duration": 17,
    "start_time": "2022-03-30T20:48:51.412Z"
   },
   {
    "duration": 69,
    "start_time": "2022-03-30T20:48:51.431Z"
   },
   {
    "duration": 8,
    "start_time": "2022-03-30T20:48:51.503Z"
   },
   {
    "duration": 12,
    "start_time": "2022-03-30T20:48:51.513Z"
   },
   {
    "duration": 381,
    "start_time": "2022-03-30T20:48:51.527Z"
   },
   {
    "duration": 38,
    "start_time": "2022-03-30T20:48:51.910Z"
   },
   {
    "duration": 34,
    "start_time": "2022-03-30T20:48:51.951Z"
   },
   {
    "duration": 12,
    "start_time": "2022-03-30T20:48:51.987Z"
   },
   {
    "duration": 384,
    "start_time": "2022-03-30T20:48:52.002Z"
   },
   {
    "duration": 53,
    "start_time": "2022-03-30T20:48:52.388Z"
   },
   {
    "duration": 37,
    "start_time": "2022-03-30T20:48:52.444Z"
   },
   {
    "duration": 14,
    "start_time": "2022-03-30T20:48:52.484Z"
   },
   {
    "duration": 362,
    "start_time": "2022-03-30T20:48:52.501Z"
   },
   {
    "duration": 24,
    "start_time": "2022-03-30T20:48:52.865Z"
   },
   {
    "duration": 376,
    "start_time": "2022-03-30T20:48:52.892Z"
   },
   {
    "duration": 333,
    "start_time": "2022-03-30T20:48:53.270Z"
   },
   {
    "duration": 413,
    "start_time": "2022-03-30T20:48:53.607Z"
   },
   {
    "duration": 16,
    "start_time": "2022-03-30T20:48:54.023Z"
   },
   {
    "duration": 6,
    "start_time": "2022-03-30T20:48:54.041Z"
   },
   {
    "duration": 42,
    "start_time": "2022-03-30T20:48:54.050Z"
   },
   {
    "duration": 8,
    "start_time": "2022-03-30T20:48:54.094Z"
   },
   {
    "duration": 16,
    "start_time": "2022-03-30T20:49:21.367Z"
   },
   {
    "duration": 6,
    "start_time": "2022-03-30T20:49:21.774Z"
   },
   {
    "duration": 1770,
    "start_time": "2022-03-31T06:35:26.962Z"
   },
   {
    "duration": 440,
    "start_time": "2022-03-31T06:35:28.735Z"
   },
   {
    "duration": 26,
    "start_time": "2022-03-31T06:35:29.177Z"
   },
   {
    "duration": 5,
    "start_time": "2022-03-31T06:35:29.205Z"
   },
   {
    "duration": 161,
    "start_time": "2022-03-31T06:35:29.212Z"
   },
   {
    "duration": 123,
    "start_time": "2022-03-31T06:35:29.375Z"
   },
   {
    "duration": 23,
    "start_time": "2022-03-31T06:35:29.500Z"
   },
   {
    "duration": 163,
    "start_time": "2022-03-31T06:35:29.525Z"
   },
   {
    "duration": 6,
    "start_time": "2022-03-31T06:35:29.690Z"
   },
   {
    "duration": 11,
    "start_time": "2022-03-31T06:35:29.699Z"
   },
   {
    "duration": 34,
    "start_time": "2022-03-31T06:35:29.712Z"
   },
   {
    "duration": 51,
    "start_time": "2022-03-31T06:35:29.747Z"
   },
   {
    "duration": 57,
    "start_time": "2022-03-31T06:35:29.800Z"
   },
   {
    "duration": 32,
    "start_time": "2022-03-31T06:35:29.859Z"
   },
   {
    "duration": 13,
    "start_time": "2022-03-31T06:35:29.892Z"
   },
   {
    "duration": 22,
    "start_time": "2022-03-31T06:35:29.907Z"
   },
   {
    "duration": 67,
    "start_time": "2022-03-31T06:35:29.930Z"
   },
   {
    "duration": 72,
    "start_time": "2022-03-31T06:35:29.998Z"
   },
   {
    "duration": 41,
    "start_time": "2022-03-31T06:35:30.072Z"
   },
   {
    "duration": 51,
    "start_time": "2022-03-31T06:35:30.114Z"
   },
   {
    "duration": 48,
    "start_time": "2022-03-31T06:35:30.181Z"
   },
   {
    "duration": 22,
    "start_time": "2022-03-31T06:35:30.231Z"
   },
   {
    "duration": 36,
    "start_time": "2022-03-31T06:35:30.254Z"
   },
   {
    "duration": 6,
    "start_time": "2022-03-31T06:35:30.291Z"
   },
   {
    "duration": 36,
    "start_time": "2022-03-31T06:35:30.298Z"
   },
   {
    "duration": 29,
    "start_time": "2022-03-31T06:35:30.335Z"
   },
   {
    "duration": 10,
    "start_time": "2022-03-31T06:35:30.366Z"
   },
   {
    "duration": 34,
    "start_time": "2022-03-31T06:35:30.381Z"
   },
   {
    "duration": 34,
    "start_time": "2022-03-31T06:35:30.417Z"
   },
   {
    "duration": 31,
    "start_time": "2022-03-31T06:35:30.453Z"
   },
   {
    "duration": 44,
    "start_time": "2022-03-31T06:35:30.486Z"
   },
   {
    "duration": 44,
    "start_time": "2022-03-31T06:35:30.531Z"
   },
   {
    "duration": 128,
    "start_time": "2022-03-31T06:35:30.577Z"
   },
   {
    "duration": 27,
    "start_time": "2022-03-31T06:35:30.707Z"
   },
   {
    "duration": 496,
    "start_time": "2022-03-31T06:35:30.735Z"
   },
   {
    "duration": 72,
    "start_time": "2022-03-31T06:35:31.233Z"
   },
   {
    "duration": 57,
    "start_time": "2022-03-31T06:35:31.307Z"
   },
   {
    "duration": 70,
    "start_time": "2022-03-31T06:35:31.366Z"
   },
   {
    "duration": 5,
    "start_time": "2022-03-31T06:35:31.438Z"
   },
   {
    "duration": 60,
    "start_time": "2022-03-31T06:35:31.445Z"
   },
   {
    "duration": 12,
    "start_time": "2022-03-31T06:35:31.507Z"
   },
   {
    "duration": 43,
    "start_time": "2022-03-31T06:35:31.520Z"
   },
   {
    "duration": 19,
    "start_time": "2022-03-31T06:35:31.565Z"
   },
   {
    "duration": 32,
    "start_time": "2022-03-31T06:35:31.586Z"
   },
   {
    "duration": 7,
    "start_time": "2022-03-31T06:35:31.619Z"
   },
   {
    "duration": 13,
    "start_time": "2022-03-31T06:35:31.628Z"
   },
   {
    "duration": 202,
    "start_time": "2022-03-31T06:35:31.642Z"
   },
   {
    "duration": 35,
    "start_time": "2022-03-31T06:35:31.846Z"
   },
   {
    "duration": 6,
    "start_time": "2022-03-31T06:35:31.883Z"
   },
   {
    "duration": 12,
    "start_time": "2022-03-31T06:35:31.890Z"
   },
   {
    "duration": 198,
    "start_time": "2022-03-31T06:35:31.903Z"
   },
   {
    "duration": 23,
    "start_time": "2022-03-31T06:35:32.102Z"
   },
   {
    "duration": 5,
    "start_time": "2022-03-31T06:35:32.127Z"
   },
   {
    "duration": 10,
    "start_time": "2022-03-31T06:35:32.133Z"
   },
   {
    "duration": 207,
    "start_time": "2022-03-31T06:35:32.145Z"
   },
   {
    "duration": 9,
    "start_time": "2022-03-31T06:35:32.353Z"
   },
   {
    "duration": 201,
    "start_time": "2022-03-31T06:35:32.363Z"
   },
   {
    "duration": 185,
    "start_time": "2022-03-31T06:35:32.566Z"
   },
   {
    "duration": 238,
    "start_time": "2022-03-31T06:35:32.752Z"
   },
   {
    "duration": 9,
    "start_time": "2022-03-31T06:35:32.992Z"
   },
   {
    "duration": 10,
    "start_time": "2022-03-31T06:35:33.002Z"
   },
   {
    "duration": 13,
    "start_time": "2022-03-31T06:35:33.013Z"
   },
   {
    "duration": 6,
    "start_time": "2022-03-31T06:35:33.028Z"
   },
   {
    "duration": 17,
    "start_time": "2022-03-31T06:42:00.846Z"
   },
   {
    "duration": 6,
    "start_time": "2022-03-31T06:44:45.059Z"
   },
   {
    "duration": 11,
    "start_time": "2022-03-31T06:44:47.261Z"
   },
   {
    "duration": 13,
    "start_time": "2022-03-31T06:46:15.931Z"
   },
   {
    "duration": 15,
    "start_time": "2022-03-31T06:46:30.879Z"
   },
   {
    "duration": 65,
    "start_time": "2022-03-31T06:48:47.979Z"
   },
   {
    "duration": 47,
    "start_time": "2022-03-31T06:50:17.093Z"
   },
   {
    "duration": 14,
    "start_time": "2022-03-31T06:55:56.971Z"
   },
   {
    "duration": 16,
    "start_time": "2022-03-31T06:56:02.408Z"
   },
   {
    "duration": 16,
    "start_time": "2022-03-31T06:56:29.417Z"
   },
   {
    "duration": 14,
    "start_time": "2022-03-31T06:56:35.584Z"
   },
   {
    "duration": 16,
    "start_time": "2022-03-31T06:56:42.518Z"
   },
   {
    "duration": 15,
    "start_time": "2022-03-31T06:57:16.064Z"
   },
   {
    "duration": 12,
    "start_time": "2022-03-31T06:57:16.932Z"
   },
   {
    "duration": 10,
    "start_time": "2022-03-31T06:57:22.932Z"
   },
   {
    "duration": 18,
    "start_time": "2022-03-31T07:01:13.085Z"
   },
   {
    "duration": 5,
    "start_time": "2022-03-31T07:01:57.429Z"
   },
   {
    "duration": 16,
    "start_time": "2022-03-31T07:02:41.648Z"
   },
   {
    "duration": 3238,
    "start_time": "2022-03-31T07:04:14.809Z"
   },
   {
    "duration": 19,
    "start_time": "2022-03-31T07:04:35.172Z"
   },
   {
    "duration": 3,
    "start_time": "2022-03-31T07:04:48.408Z"
   },
   {
    "duration": 402,
    "start_time": "2022-03-31T07:04:48.414Z"
   },
   {
    "duration": 22,
    "start_time": "2022-03-31T07:04:48.818Z"
   },
   {
    "duration": 5,
    "start_time": "2022-03-31T07:04:48.841Z"
   },
   {
    "duration": 96,
    "start_time": "2022-03-31T07:04:48.849Z"
   },
   {
    "duration": 80,
    "start_time": "2022-03-31T07:04:48.946Z"
   },
   {
    "duration": 18,
    "start_time": "2022-03-31T07:04:49.027Z"
   },
   {
    "duration": 144,
    "start_time": "2022-03-31T07:04:49.046Z"
   },
   {
    "duration": 6,
    "start_time": "2022-03-31T07:04:49.191Z"
   },
   {
    "duration": 20,
    "start_time": "2022-03-31T07:04:49.198Z"
   },
   {
    "duration": 43,
    "start_time": "2022-03-31T07:04:49.219Z"
   },
   {
    "duration": 52,
    "start_time": "2022-03-31T07:04:49.264Z"
   },
   {
    "duration": 17,
    "start_time": "2022-03-31T07:04:49.319Z"
   },
   {
    "duration": 13,
    "start_time": "2022-03-31T07:04:49.338Z"
   },
   {
    "duration": 34,
    "start_time": "2022-03-31T07:04:49.352Z"
   },
   {
    "duration": 45,
    "start_time": "2022-03-31T07:04:49.388Z"
   },
   {
    "duration": 78,
    "start_time": "2022-03-31T07:04:49.434Z"
   },
   {
    "duration": 32,
    "start_time": "2022-03-31T07:04:49.513Z"
   },
   {
    "duration": 58,
    "start_time": "2022-03-31T07:04:49.547Z"
   },
   {
    "duration": 45,
    "start_time": "2022-03-31T07:04:49.606Z"
   },
   {
    "duration": 29,
    "start_time": "2022-03-31T07:04:49.652Z"
   },
   {
    "duration": 13,
    "start_time": "2022-03-31T07:04:49.682Z"
   },
   {
    "duration": 10,
    "start_time": "2022-03-31T07:04:49.696Z"
   },
   {
    "duration": 18,
    "start_time": "2022-03-31T07:04:49.707Z"
   },
   {
    "duration": 2,
    "start_time": "2022-03-31T07:04:49.727Z"
   },
   {
    "duration": 14,
    "start_time": "2022-03-31T07:04:49.731Z"
   },
   {
    "duration": 38,
    "start_time": "2022-03-31T07:04:49.746Z"
   },
   {
    "duration": 13,
    "start_time": "2022-03-31T07:04:49.785Z"
   },
   {
    "duration": 20,
    "start_time": "2022-03-31T07:04:49.800Z"
   },
   {
    "duration": 4,
    "start_time": "2022-03-31T07:04:49.822Z"
   },
   {
    "duration": 198,
    "start_time": "2022-03-31T07:04:49.828Z"
   },
   {
    "duration": 26,
    "start_time": "2022-03-31T07:04:50.081Z"
   },
   {
    "duration": 893,
    "start_time": "2022-03-31T07:04:50.108Z"
   },
   {
    "duration": 110,
    "start_time": "2022-03-31T07:04:51.002Z"
   },
   {
    "duration": 111,
    "start_time": "2022-03-31T07:04:51.114Z"
   },
   {
    "duration": 158,
    "start_time": "2022-03-31T07:04:51.227Z"
   },
   {
    "duration": 7,
    "start_time": "2022-03-31T07:04:51.388Z"
   },
   {
    "duration": 39,
    "start_time": "2022-03-31T07:04:51.396Z"
   },
   {
    "duration": 3,
    "start_time": "2022-03-31T07:04:51.437Z"
   },
   {
    "duration": 19,
    "start_time": "2022-03-31T07:04:51.442Z"
   },
   {
    "duration": 27,
    "start_time": "2022-03-31T07:04:51.463Z"
   },
   {
    "duration": 23,
    "start_time": "2022-03-31T07:04:51.491Z"
   },
   {
    "duration": 5,
    "start_time": "2022-03-31T07:04:51.516Z"
   },
   {
    "duration": 15,
    "start_time": "2022-03-31T07:04:51.523Z"
   },
   {
    "duration": 203,
    "start_time": "2022-03-31T07:04:51.539Z"
   },
   {
    "duration": 23,
    "start_time": "2022-03-31T07:04:51.744Z"
   },
   {
    "duration": 17,
    "start_time": "2022-03-31T07:04:51.768Z"
   },
   {
    "duration": 11,
    "start_time": "2022-03-31T07:04:51.786Z"
   },
   {
    "duration": 199,
    "start_time": "2022-03-31T07:04:51.799Z"
   },
   {
    "duration": 24,
    "start_time": "2022-03-31T07:04:52.000Z"
   },
   {
    "duration": 5,
    "start_time": "2022-03-31T07:04:52.026Z"
   },
   {
    "duration": 15,
    "start_time": "2022-03-31T07:04:52.033Z"
   },
   {
    "duration": 188,
    "start_time": "2022-03-31T07:04:52.049Z"
   },
   {
    "duration": 10,
    "start_time": "2022-03-31T07:04:52.239Z"
   },
   {
    "duration": 198,
    "start_time": "2022-03-31T07:04:52.250Z"
   },
   {
    "duration": 247,
    "start_time": "2022-03-31T07:04:52.450Z"
   },
   {
    "duration": 168,
    "start_time": "2022-03-31T07:04:52.699Z"
   },
   {
    "duration": 16,
    "start_time": "2022-03-31T07:04:52.868Z"
   },
   {
    "duration": 6,
    "start_time": "2022-03-31T07:04:52.886Z"
   },
   {
    "duration": 16,
    "start_time": "2022-03-31T07:04:52.894Z"
   },
   {
    "duration": 13,
    "start_time": "2022-03-31T07:04:52.912Z"
   },
   {
    "duration": 26,
    "start_time": "2022-03-31T07:07:20.468Z"
   },
   {
    "duration": 423,
    "start_time": "2022-03-31T07:07:42.294Z"
   },
   {
    "duration": 32,
    "start_time": "2022-03-31T07:09:45.270Z"
   },
   {
    "duration": 32,
    "start_time": "2022-03-31T07:09:51.635Z"
   },
   {
    "duration": 6,
    "start_time": "2022-03-31T07:09:55.740Z"
   },
   {
    "duration": 31,
    "start_time": "2022-03-31T07:09:56.614Z"
   },
   {
    "duration": 31,
    "start_time": "2022-03-31T07:10:02.180Z"
   },
   {
    "duration": 3,
    "start_time": "2022-03-31T07:10:13.905Z"
   },
   {
    "duration": 380,
    "start_time": "2022-03-31T07:10:13.910Z"
   },
   {
    "duration": 21,
    "start_time": "2022-03-31T07:10:14.292Z"
   },
   {
    "duration": 5,
    "start_time": "2022-03-31T07:10:14.314Z"
   },
   {
    "duration": 106,
    "start_time": "2022-03-31T07:10:14.321Z"
   },
   {
    "duration": 76,
    "start_time": "2022-03-31T07:10:14.428Z"
   },
   {
    "duration": 18,
    "start_time": "2022-03-31T07:10:14.506Z"
   },
   {
    "duration": 131,
    "start_time": "2022-03-31T07:10:14.525Z"
   },
   {
    "duration": 5,
    "start_time": "2022-03-31T07:10:14.658Z"
   },
   {
    "duration": 23,
    "start_time": "2022-03-31T07:10:14.664Z"
   },
   {
    "duration": 34,
    "start_time": "2022-03-31T07:10:14.689Z"
   },
   {
    "duration": 68,
    "start_time": "2022-03-31T07:10:14.725Z"
   },
   {
    "duration": 19,
    "start_time": "2022-03-31T07:10:14.794Z"
   },
   {
    "duration": 14,
    "start_time": "2022-03-31T07:10:14.815Z"
   },
   {
    "duration": 22,
    "start_time": "2022-03-31T07:10:14.830Z"
   },
   {
    "duration": 73,
    "start_time": "2022-03-31T07:10:14.854Z"
   },
   {
    "duration": 76,
    "start_time": "2022-03-31T07:10:14.929Z"
   },
   {
    "duration": 33,
    "start_time": "2022-03-31T07:10:15.007Z"
   },
   {
    "duration": 61,
    "start_time": "2022-03-31T07:10:15.041Z"
   },
   {
    "duration": 44,
    "start_time": "2022-03-31T07:10:15.104Z"
   },
   {
    "duration": 13,
    "start_time": "2022-03-31T07:10:15.150Z"
   },
   {
    "duration": 12,
    "start_time": "2022-03-31T07:10:15.180Z"
   },
   {
    "duration": 9,
    "start_time": "2022-03-31T07:10:15.194Z"
   },
   {
    "duration": 18,
    "start_time": "2022-03-31T07:10:15.204Z"
   },
   {
    "duration": 3,
    "start_time": "2022-03-31T07:10:15.223Z"
   },
   {
    "duration": 15,
    "start_time": "2022-03-31T07:10:15.227Z"
   },
   {
    "duration": 10,
    "start_time": "2022-03-31T07:10:15.243Z"
   },
   {
    "duration": 29,
    "start_time": "2022-03-31T07:10:15.254Z"
   },
   {
    "duration": 18,
    "start_time": "2022-03-31T07:10:15.285Z"
   },
   {
    "duration": 4,
    "start_time": "2022-03-31T07:10:15.305Z"
   },
   {
    "duration": 118,
    "start_time": "2022-03-31T07:10:15.310Z"
   },
   {
    "duration": 25,
    "start_time": "2022-03-31T07:10:15.430Z"
   },
   {
    "duration": 435,
    "start_time": "2022-03-31T07:10:15.457Z"
   },
   {
    "duration": 58,
    "start_time": "2022-03-31T07:10:15.894Z"
   },
   {
    "duration": 75,
    "start_time": "2022-03-31T07:10:15.954Z"
   },
   {
    "duration": 65,
    "start_time": "2022-03-31T07:10:16.031Z"
   },
   {
    "duration": 5,
    "start_time": "2022-03-31T07:10:16.098Z"
   },
   {
    "duration": 36,
    "start_time": "2022-03-31T07:10:16.105Z"
   },
   {
    "duration": 3,
    "start_time": "2022-03-31T07:10:16.143Z"
   },
   {
    "duration": 42,
    "start_time": "2022-03-31T07:10:16.148Z"
   },
   {
    "duration": 12,
    "start_time": "2022-03-31T07:10:16.194Z"
   },
   {
    "duration": 25,
    "start_time": "2022-03-31T07:10:16.207Z"
   },
   {
    "duration": 6,
    "start_time": "2022-03-31T07:10:16.233Z"
   },
   {
    "duration": 8,
    "start_time": "2022-03-31T07:10:16.240Z"
   },
   {
    "duration": 223,
    "start_time": "2022-03-31T07:10:16.250Z"
   },
   {
    "duration": 29,
    "start_time": "2022-03-31T07:10:16.474Z"
   },
   {
    "duration": 5,
    "start_time": "2022-03-31T07:10:16.505Z"
   },
   {
    "duration": 8,
    "start_time": "2022-03-31T07:10:16.512Z"
   },
   {
    "duration": 210,
    "start_time": "2022-03-31T07:10:16.522Z"
   },
   {
    "duration": 23,
    "start_time": "2022-03-31T07:10:16.733Z"
   },
   {
    "duration": 24,
    "start_time": "2022-03-31T07:10:16.757Z"
   },
   {
    "duration": 8,
    "start_time": "2022-03-31T07:10:16.782Z"
   },
   {
    "duration": 188,
    "start_time": "2022-03-31T07:10:16.791Z"
   },
   {
    "duration": 9,
    "start_time": "2022-03-31T07:10:16.980Z"
   },
   {
    "duration": 198,
    "start_time": "2022-03-31T07:10:16.990Z"
   },
   {
    "duration": 267,
    "start_time": "2022-03-31T07:10:17.190Z"
   },
   {
    "duration": 168,
    "start_time": "2022-03-31T07:10:17.459Z"
   },
   {
    "duration": 10,
    "start_time": "2022-03-31T07:10:17.628Z"
   },
   {
    "duration": 14,
    "start_time": "2022-03-31T07:10:17.639Z"
   },
   {
    "duration": 14,
    "start_time": "2022-03-31T07:10:17.655Z"
   },
   {
    "duration": 18,
    "start_time": "2022-03-31T07:10:17.670Z"
   },
   {
    "duration": 2,
    "start_time": "2022-03-31T07:11:21.777Z"
   },
   {
    "duration": 355,
    "start_time": "2022-03-31T07:11:21.781Z"
   },
   {
    "duration": 22,
    "start_time": "2022-03-31T07:11:22.137Z"
   },
   {
    "duration": 4,
    "start_time": "2022-03-31T07:11:22.161Z"
   },
   {
    "duration": 96,
    "start_time": "2022-03-31T07:11:22.166Z"
   },
   {
    "duration": 83,
    "start_time": "2022-03-31T07:11:22.264Z"
   },
   {
    "duration": 18,
    "start_time": "2022-03-31T07:11:22.349Z"
   },
   {
    "duration": 120,
    "start_time": "2022-03-31T07:11:22.381Z"
   },
   {
    "duration": 5,
    "start_time": "2022-03-31T07:11:22.503Z"
   },
   {
    "duration": 11,
    "start_time": "2022-03-31T07:11:22.511Z"
   },
   {
    "duration": 28,
    "start_time": "2022-03-31T07:11:22.523Z"
   },
   {
    "duration": 69,
    "start_time": "2022-03-31T07:11:22.552Z"
   },
   {
    "duration": 18,
    "start_time": "2022-03-31T07:11:22.623Z"
   },
   {
    "duration": 14,
    "start_time": "2022-03-31T07:11:22.642Z"
   },
   {
    "duration": 38,
    "start_time": "2022-03-31T07:11:22.658Z"
   },
   {
    "duration": 47,
    "start_time": "2022-03-31T07:11:22.698Z"
   },
   {
    "duration": 77,
    "start_time": "2022-03-31T07:11:22.746Z"
   },
   {
    "duration": 33,
    "start_time": "2022-03-31T07:11:22.825Z"
   },
   {
    "duration": 65,
    "start_time": "2022-03-31T07:11:22.860Z"
   },
   {
    "duration": 55,
    "start_time": "2022-03-31T07:11:22.927Z"
   },
   {
    "duration": 14,
    "start_time": "2022-03-31T07:11:22.984Z"
   },
   {
    "duration": 15,
    "start_time": "2022-03-31T07:11:22.999Z"
   },
   {
    "duration": 11,
    "start_time": "2022-03-31T07:11:23.015Z"
   },
   {
    "duration": 19,
    "start_time": "2022-03-31T07:11:23.028Z"
   },
   {
    "duration": 33,
    "start_time": "2022-03-31T07:11:23.048Z"
   },
   {
    "duration": 14,
    "start_time": "2022-03-31T07:11:23.083Z"
   },
   {
    "duration": 9,
    "start_time": "2022-03-31T07:11:23.099Z"
   },
   {
    "duration": 5,
    "start_time": "2022-03-31T07:11:23.113Z"
   },
   {
    "duration": 17,
    "start_time": "2022-03-31T07:11:23.119Z"
   },
   {
    "duration": 4,
    "start_time": "2022-03-31T07:11:23.138Z"
   },
   {
    "duration": 140,
    "start_time": "2022-03-31T07:11:23.144Z"
   },
   {
    "duration": 28,
    "start_time": "2022-03-31T07:11:23.285Z"
   },
   {
    "duration": 437,
    "start_time": "2022-03-31T07:11:23.314Z"
   },
   {
    "duration": 68,
    "start_time": "2022-03-31T07:11:23.753Z"
   },
   {
    "duration": 62,
    "start_time": "2022-03-31T07:11:23.823Z"
   },
   {
    "duration": 58,
    "start_time": "2022-03-31T07:11:23.887Z"
   },
   {
    "duration": 6,
    "start_time": "2022-03-31T07:11:23.946Z"
   },
   {
    "duration": 55,
    "start_time": "2022-03-31T07:11:23.954Z"
   },
   {
    "duration": 4,
    "start_time": "2022-03-31T07:11:24.011Z"
   },
   {
    "duration": 25,
    "start_time": "2022-03-31T07:11:24.017Z"
   },
   {
    "duration": 12,
    "start_time": "2022-03-31T07:11:24.043Z"
   },
   {
    "duration": 43,
    "start_time": "2022-03-31T07:11:24.057Z"
   },
   {
    "duration": 6,
    "start_time": "2022-03-31T07:11:24.102Z"
   },
   {
    "duration": 8,
    "start_time": "2022-03-31T07:11:24.110Z"
   },
   {
    "duration": 207,
    "start_time": "2022-03-31T07:11:24.119Z"
   },
   {
    "duration": 22,
    "start_time": "2022-03-31T07:11:24.328Z"
   },
   {
    "duration": 5,
    "start_time": "2022-03-31T07:11:24.351Z"
   },
   {
    "duration": 25,
    "start_time": "2022-03-31T07:11:24.358Z"
   },
   {
    "duration": 183,
    "start_time": "2022-03-31T07:11:24.384Z"
   },
   {
    "duration": 28,
    "start_time": "2022-03-31T07:11:24.568Z"
   },
   {
    "duration": 6,
    "start_time": "2022-03-31T07:11:24.597Z"
   },
   {
    "duration": 14,
    "start_time": "2022-03-31T07:11:24.605Z"
   },
   {
    "duration": 192,
    "start_time": "2022-03-31T07:11:24.620Z"
   },
   {
    "duration": 9,
    "start_time": "2022-03-31T07:11:24.813Z"
   },
   {
    "duration": 196,
    "start_time": "2022-03-31T07:11:24.824Z"
   },
   {
    "duration": 189,
    "start_time": "2022-03-31T07:11:25.021Z"
   },
   {
    "duration": 163,
    "start_time": "2022-03-31T07:11:25.211Z"
   },
   {
    "duration": 8,
    "start_time": "2022-03-31T07:11:25.380Z"
   },
   {
    "duration": 4,
    "start_time": "2022-03-31T07:11:25.390Z"
   },
   {
    "duration": 10,
    "start_time": "2022-03-31T07:11:25.395Z"
   },
   {
    "duration": 4,
    "start_time": "2022-03-31T07:11:25.406Z"
   },
   {
    "duration": 16,
    "start_time": "2022-03-31T07:12:41.643Z"
   },
   {
    "duration": 17,
    "start_time": "2022-03-31T07:12:44.045Z"
   },
   {
    "duration": 4,
    "start_time": "2022-03-31T07:12:45.995Z"
   },
   {
    "duration": 381,
    "start_time": "2022-03-31T07:12:46.001Z"
   },
   {
    "duration": 23,
    "start_time": "2022-03-31T07:12:46.383Z"
   },
   {
    "duration": 4,
    "start_time": "2022-03-31T07:12:46.408Z"
   },
   {
    "duration": 108,
    "start_time": "2022-03-31T07:12:46.414Z"
   },
   {
    "duration": 75,
    "start_time": "2022-03-31T07:12:46.524Z"
   },
   {
    "duration": 101,
    "start_time": "2022-03-31T07:12:46.601Z"
   },
   {
    "duration": 137,
    "start_time": "2022-03-31T07:12:46.704Z"
   },
   {
    "duration": 6,
    "start_time": "2022-03-31T07:12:46.843Z"
   },
   {
    "duration": 13,
    "start_time": "2022-03-31T07:12:46.852Z"
   },
   {
    "duration": 30,
    "start_time": "2022-03-31T07:12:46.881Z"
   },
   {
    "duration": 69,
    "start_time": "2022-03-31T07:12:46.913Z"
   },
   {
    "duration": 20,
    "start_time": "2022-03-31T07:12:46.984Z"
   },
   {
    "duration": 15,
    "start_time": "2022-03-31T07:12:47.005Z"
   },
   {
    "duration": 23,
    "start_time": "2022-03-31T07:12:47.021Z"
   },
   {
    "duration": 66,
    "start_time": "2022-03-31T07:12:47.045Z"
   },
   {
    "duration": 72,
    "start_time": "2022-03-31T07:12:47.112Z"
   },
   {
    "duration": 33,
    "start_time": "2022-03-31T07:12:47.185Z"
   },
   {
    "duration": 64,
    "start_time": "2022-03-31T07:12:47.219Z"
   },
   {
    "duration": 46,
    "start_time": "2022-03-31T07:12:47.285Z"
   },
   {
    "duration": 13,
    "start_time": "2022-03-31T07:12:47.333Z"
   },
   {
    "duration": 12,
    "start_time": "2022-03-31T07:12:47.348Z"
   },
   {
    "duration": 10,
    "start_time": "2022-03-31T07:12:47.380Z"
   },
   {
    "duration": 18,
    "start_time": "2022-03-31T07:12:47.392Z"
   },
   {
    "duration": 3,
    "start_time": "2022-03-31T07:12:47.411Z"
   },
   {
    "duration": 19,
    "start_time": "2022-03-31T07:12:47.415Z"
   },
   {
    "duration": 10,
    "start_time": "2022-03-31T07:12:47.435Z"
   },
   {
    "duration": 32,
    "start_time": "2022-03-31T07:12:47.449Z"
   },
   {
    "duration": 18,
    "start_time": "2022-03-31T07:12:47.482Z"
   },
   {
    "duration": 4,
    "start_time": "2022-03-31T07:12:47.502Z"
   },
   {
    "duration": 121,
    "start_time": "2022-03-31T07:12:47.507Z"
   },
   {
    "duration": 28,
    "start_time": "2022-03-31T07:12:47.630Z"
   },
   {
    "duration": 453,
    "start_time": "2022-03-31T07:12:47.660Z"
   },
   {
    "duration": 67,
    "start_time": "2022-03-31T07:12:48.114Z"
   },
   {
    "duration": 53,
    "start_time": "2022-03-31T07:12:48.182Z"
   },
   {
    "duration": 68,
    "start_time": "2022-03-31T07:12:48.237Z"
   },
   {
    "duration": 6,
    "start_time": "2022-03-31T07:12:48.306Z"
   },
   {
    "duration": 31,
    "start_time": "2022-03-31T07:12:48.313Z"
   },
   {
    "duration": 3,
    "start_time": "2022-03-31T07:12:48.346Z"
   },
   {
    "duration": 34,
    "start_time": "2022-03-31T07:12:48.351Z"
   },
   {
    "duration": 12,
    "start_time": "2022-03-31T07:12:48.386Z"
   },
   {
    "duration": 24,
    "start_time": "2022-03-31T07:12:48.399Z"
   },
   {
    "duration": 6,
    "start_time": "2022-03-31T07:12:48.424Z"
   },
   {
    "duration": 8,
    "start_time": "2022-03-31T07:12:48.431Z"
   },
   {
    "duration": 221,
    "start_time": "2022-03-31T07:12:48.440Z"
   },
   {
    "duration": 29,
    "start_time": "2022-03-31T07:12:48.662Z"
   },
   {
    "duration": 5,
    "start_time": "2022-03-31T07:12:48.693Z"
   },
   {
    "duration": 7,
    "start_time": "2022-03-31T07:12:48.700Z"
   },
   {
    "duration": 216,
    "start_time": "2022-03-31T07:12:48.708Z"
   },
   {
    "duration": 23,
    "start_time": "2022-03-31T07:12:48.926Z"
   },
   {
    "duration": 5,
    "start_time": "2022-03-31T07:12:48.951Z"
   },
   {
    "duration": 26,
    "start_time": "2022-03-31T07:12:48.958Z"
   },
   {
    "duration": 183,
    "start_time": "2022-03-31T07:12:48.986Z"
   },
   {
    "duration": 17,
    "start_time": "2022-03-31T07:12:49.170Z"
   },
   {
    "duration": 207,
    "start_time": "2022-03-31T07:12:49.189Z"
   },
   {
    "duration": 207,
    "start_time": "2022-03-31T07:12:49.398Z"
   },
   {
    "duration": 176,
    "start_time": "2022-03-31T07:12:49.607Z"
   },
   {
    "duration": 9,
    "start_time": "2022-03-31T07:12:49.785Z"
   },
   {
    "duration": 12,
    "start_time": "2022-03-31T07:12:49.796Z"
   },
   {
    "duration": 15,
    "start_time": "2022-03-31T07:12:49.810Z"
   },
   {
    "duration": 12,
    "start_time": "2022-03-31T07:12:49.827Z"
   },
   {
    "duration": 7,
    "start_time": "2022-03-31T07:20:00.156Z"
   },
   {
    "duration": 9,
    "start_time": "2022-03-31T07:29:37.255Z"
   },
   {
    "duration": 3,
    "start_time": "2022-03-31T07:29:38.054Z"
   },
   {
    "duration": 109,
    "start_time": "2022-03-31T07:43:15.611Z"
   },
   {
    "duration": 3,
    "start_time": "2022-04-11T10:01:45.409Z"
   },
   {
    "duration": 387,
    "start_time": "2022-04-11T10:01:46.869Z"
   },
   {
    "duration": 1578,
    "start_time": "2022-04-11T10:01:57.509Z"
   },
   {
    "duration": 436,
    "start_time": "2022-04-11T10:02:00.634Z"
   },
   {
    "duration": 29,
    "start_time": "2022-04-11T10:02:02.705Z"
   },
   {
    "duration": 5,
    "start_time": "2022-04-11T10:02:07.744Z"
   },
   {
    "duration": 176,
    "start_time": "2022-04-11T10:05:31.599Z"
   },
   {
    "duration": 133,
    "start_time": "2022-04-11T10:05:37.506Z"
   },
   {
    "duration": 130,
    "start_time": "2022-04-11T10:06:22.113Z"
   },
   {
    "duration": 26,
    "start_time": "2022-04-11T10:06:25.253Z"
   },
   {
    "duration": 164,
    "start_time": "2022-04-11T10:06:27.283Z"
   },
   {
    "duration": 7,
    "start_time": "2022-04-11T10:08:00.043Z"
   },
   {
    "duration": 12,
    "start_time": "2022-04-11T10:08:00.971Z"
   },
   {
    "duration": 34,
    "start_time": "2022-04-11T10:08:03.140Z"
   },
   {
    "duration": 61,
    "start_time": "2022-04-11T10:08:06.922Z"
   },
   {
    "duration": 23,
    "start_time": "2022-04-11T10:10:22.118Z"
   },
   {
    "duration": 87,
    "start_time": "2022-04-11T10:27:08.189Z"
   },
   {
    "duration": 48,
    "start_time": "2022-04-11T10:27:12.445Z"
   },
   {
    "duration": 67,
    "start_time": "2022-04-11T10:27:17.932Z"
   },
   {
    "duration": 54,
    "start_time": "2022-04-11T10:30:49.245Z"
   },
   {
    "duration": 100,
    "start_time": "2022-04-11T10:30:50.919Z"
   },
   {
    "duration": 1417,
    "start_time": "2022-04-11T10:31:05.021Z"
   },
   {
    "duration": 436,
    "start_time": "2022-04-11T10:31:06.440Z"
   },
   {
    "duration": 32,
    "start_time": "2022-04-11T10:31:06.878Z"
   },
   {
    "duration": 5,
    "start_time": "2022-04-11T10:31:06.913Z"
   },
   {
    "duration": 137,
    "start_time": "2022-04-11T10:31:06.920Z"
   },
   {
    "duration": 100,
    "start_time": "2022-04-11T10:31:07.059Z"
   },
   {
    "duration": 20,
    "start_time": "2022-04-11T10:31:07.160Z"
   },
   {
    "duration": 163,
    "start_time": "2022-04-11T10:31:07.202Z"
   },
   {
    "duration": 5,
    "start_time": "2022-04-11T10:31:07.367Z"
   },
   {
    "duration": 28,
    "start_time": "2022-04-11T10:31:07.375Z"
   },
   {
    "duration": 36,
    "start_time": "2022-04-11T10:31:07.405Z"
   },
   {
    "duration": 76,
    "start_time": "2022-04-11T10:31:07.443Z"
   },
   {
    "duration": 21,
    "start_time": "2022-04-11T10:31:07.521Z"
   },
   {
    "duration": 16,
    "start_time": "2022-04-11T10:31:07.543Z"
   },
   {
    "duration": 47,
    "start_time": "2022-04-11T10:31:07.561Z"
   },
   {
    "duration": 52,
    "start_time": "2022-04-11T10:31:07.609Z"
   },
   {
    "duration": 94,
    "start_time": "2022-04-11T10:31:07.663Z"
   },
   {
    "duration": 50,
    "start_time": "2022-04-11T10:31:07.759Z"
   },
   {
    "duration": 58,
    "start_time": "2022-04-11T10:31:07.811Z"
   },
   {
    "duration": 55,
    "start_time": "2022-04-11T10:31:19.622Z"
   },
   {
    "duration": 21,
    "start_time": "2022-04-11T10:33:25.279Z"
   },
   {
    "duration": 15,
    "start_time": "2022-04-11T10:33:25.884Z"
   },
   {
    "duration": 12,
    "start_time": "2022-04-11T10:33:26.365Z"
   },
   {
    "duration": 20,
    "start_time": "2022-04-11T10:33:28.164Z"
   },
   {
    "duration": 3,
    "start_time": "2022-04-11T10:33:42.093Z"
   },
   {
    "duration": 25,
    "start_time": "2022-04-11T10:37:59.215Z"
   },
   {
    "duration": 15,
    "start_time": "2022-04-11T10:37:59.809Z"
   },
   {
    "duration": 12,
    "start_time": "2022-04-11T10:38:00.232Z"
   },
   {
    "duration": 30,
    "start_time": "2022-04-11T10:38:00.776Z"
   },
   {
    "duration": 3,
    "start_time": "2022-04-11T10:40:20.124Z"
   },
   {
    "duration": 15,
    "start_time": "2022-04-11T10:40:20.580Z"
   },
   {
    "duration": 11,
    "start_time": "2022-04-11T10:40:36.424Z"
   },
   {
    "duration": 5,
    "start_time": "2022-04-11T10:40:37.324Z"
   },
   {
    "duration": 17,
    "start_time": "2022-04-11T10:40:39.092Z"
   },
   {
    "duration": 5,
    "start_time": "2022-04-11T10:40:40.595Z"
   },
   {
    "duration": 108,
    "start_time": "2022-04-11T10:40:49.127Z"
   },
   {
    "duration": 21,
    "start_time": "2022-04-11T10:41:07.460Z"
   },
   {
    "duration": 27,
    "start_time": "2022-04-11T10:44:05.022Z"
   },
   {
    "duration": 476,
    "start_time": "2022-04-11T10:44:07.499Z"
   },
   {
    "duration": 65,
    "start_time": "2022-04-11T10:44:14.277Z"
   },
   {
    "duration": 59,
    "start_time": "2022-04-11T10:44:16.646Z"
   },
   {
    "duration": 60,
    "start_time": "2022-04-11T10:44:18.078Z"
   },
   {
    "duration": 6,
    "start_time": "2022-04-11T10:44:20.957Z"
   },
   {
    "duration": 11,
    "start_time": "2022-04-11T10:46:24.944Z"
   },
   {
    "duration": 25,
    "start_time": "2022-04-11T10:46:31.997Z"
   },
   {
    "duration": 8,
    "start_time": "2022-04-11T10:46:34.055Z"
   },
   {
    "duration": 7,
    "start_time": "2022-04-11T10:46:35.776Z"
   },
   {
    "duration": 194,
    "start_time": "2022-04-11T10:46:37.192Z"
   },
   {
    "duration": 31,
    "start_time": "2022-04-11T10:47:15.024Z"
   },
   {
    "duration": 8,
    "start_time": "2022-04-11T10:47:15.800Z"
   },
   {
    "duration": 11,
    "start_time": "2022-04-11T10:47:16.192Z"
   },
   {
    "duration": 338,
    "start_time": "2022-04-11T10:47:16.455Z"
   },
   {
    "duration": 32,
    "start_time": "2022-04-11T10:47:43.896Z"
   },
   {
    "duration": 8,
    "start_time": "2022-04-11T10:47:44.758Z"
   },
   {
    "duration": 10,
    "start_time": "2022-04-11T10:47:45.153Z"
   },
   {
    "duration": 318,
    "start_time": "2022-04-11T10:47:45.454Z"
   },
   {
    "duration": 14,
    "start_time": "2022-04-11T10:47:50.488Z"
   },
   {
    "duration": 335,
    "start_time": "2022-04-11T10:47:51.502Z"
   },
   {
    "duration": 286,
    "start_time": "2022-04-11T10:47:53.736Z"
   },
   {
    "duration": 369,
    "start_time": "2022-04-11T10:47:55.197Z"
   },
   {
    "duration": 10,
    "start_time": "2022-04-11T10:48:37.886Z"
   },
   {
    "duration": 5,
    "start_time": "2022-04-11T10:48:44.770Z"
   },
   {
    "duration": 9,
    "start_time": "2022-04-11T10:52:09.244Z"
   },
   {
    "duration": 4,
    "start_time": "2022-04-11T10:52:09.893Z"
   },
   {
    "duration": 1855,
    "start_time": "2022-04-12T12:41:56.392Z"
   },
   {
    "duration": 541,
    "start_time": "2022-04-12T12:41:58.249Z"
   },
   {
    "duration": 54,
    "start_time": "2022-04-12T12:41:58.793Z"
   },
   {
    "duration": 7,
    "start_time": "2022-04-12T12:41:58.850Z"
   },
   {
    "duration": 201,
    "start_time": "2022-04-12T12:41:58.860Z"
   },
   {
    "duration": 142,
    "start_time": "2022-04-12T12:41:59.063Z"
   },
   {
    "duration": 39,
    "start_time": "2022-04-12T12:41:59.208Z"
   },
   {
    "duration": 239,
    "start_time": "2022-04-12T12:41:59.249Z"
   },
   {
    "duration": 9,
    "start_time": "2022-04-12T12:41:59.492Z"
   },
   {
    "duration": 36,
    "start_time": "2022-04-12T12:41:59.505Z"
   },
   {
    "duration": 60,
    "start_time": "2022-04-12T12:41:59.544Z"
   },
   {
    "duration": 86,
    "start_time": "2022-04-12T12:41:59.625Z"
   },
   {
    "duration": 33,
    "start_time": "2022-04-12T12:41:59.725Z"
   },
   {
    "duration": 21,
    "start_time": "2022-04-12T12:41:59.760Z"
   },
   {
    "duration": 63,
    "start_time": "2022-04-12T12:41:59.784Z"
   },
   {
    "duration": 83,
    "start_time": "2022-04-12T12:41:59.850Z"
   },
   {
    "duration": 123,
    "start_time": "2022-04-12T12:41:59.935Z"
   },
   {
    "duration": 79,
    "start_time": "2022-04-12T12:42:00.061Z"
   },
   {
    "duration": 94,
    "start_time": "2022-04-12T12:42:00.143Z"
   },
   {
    "duration": 92,
    "start_time": "2022-04-12T12:42:00.239Z"
   },
   {
    "duration": 31,
    "start_time": "2022-04-12T12:42:00.333Z"
   },
   {
    "duration": 20,
    "start_time": "2022-04-12T12:42:00.366Z"
   },
   {
    "duration": 621,
    "start_time": "2022-04-12T12:42:00.388Z"
   },
   {
    "duration": 0,
    "start_time": "2022-04-12T12:42:01.013Z"
   },
   {
    "duration": 0,
    "start_time": "2022-04-12T12:42:01.015Z"
   },
   {
    "duration": 0,
    "start_time": "2022-04-12T12:42:01.016Z"
   },
   {
    "duration": 0,
    "start_time": "2022-04-12T12:42:01.017Z"
   },
   {
    "duration": 0,
    "start_time": "2022-04-12T12:42:01.019Z"
   },
   {
    "duration": 0,
    "start_time": "2022-04-12T12:42:01.021Z"
   },
   {
    "duration": 0,
    "start_time": "2022-04-12T12:42:01.023Z"
   },
   {
    "duration": 0,
    "start_time": "2022-04-12T12:42:01.025Z"
   },
   {
    "duration": 0,
    "start_time": "2022-04-12T12:42:01.027Z"
   },
   {
    "duration": 0,
    "start_time": "2022-04-12T12:42:01.029Z"
   },
   {
    "duration": 0,
    "start_time": "2022-04-12T12:42:01.031Z"
   },
   {
    "duration": 0,
    "start_time": "2022-04-12T12:42:01.034Z"
   },
   {
    "duration": 0,
    "start_time": "2022-04-12T12:42:01.036Z"
   },
   {
    "duration": 0,
    "start_time": "2022-04-12T12:42:01.038Z"
   },
   {
    "duration": 0,
    "start_time": "2022-04-12T12:42:01.040Z"
   },
   {
    "duration": 0,
    "start_time": "2022-04-12T12:42:01.043Z"
   },
   {
    "duration": 0,
    "start_time": "2022-04-12T12:42:01.044Z"
   },
   {
    "duration": 0,
    "start_time": "2022-04-12T12:42:01.046Z"
   },
   {
    "duration": 0,
    "start_time": "2022-04-12T12:42:01.048Z"
   },
   {
    "duration": 0,
    "start_time": "2022-04-12T12:42:01.050Z"
   },
   {
    "duration": 0,
    "start_time": "2022-04-12T12:42:01.052Z"
   },
   {
    "duration": 0,
    "start_time": "2022-04-12T12:42:01.055Z"
   },
   {
    "duration": 0,
    "start_time": "2022-04-12T12:42:01.056Z"
   },
   {
    "duration": 0,
    "start_time": "2022-04-12T12:42:01.058Z"
   },
   {
    "duration": 0,
    "start_time": "2022-04-12T12:42:01.123Z"
   },
   {
    "duration": 0,
    "start_time": "2022-04-12T12:42:01.127Z"
   },
   {
    "duration": 0,
    "start_time": "2022-04-12T12:42:01.129Z"
   },
   {
    "duration": 0,
    "start_time": "2022-04-12T12:42:01.131Z"
   },
   {
    "duration": 0,
    "start_time": "2022-04-12T12:42:01.133Z"
   },
   {
    "duration": 0,
    "start_time": "2022-04-12T12:42:01.134Z"
   },
   {
    "duration": 0,
    "start_time": "2022-04-12T12:42:01.137Z"
   },
   {
    "duration": 0,
    "start_time": "2022-04-12T12:42:01.139Z"
   },
   {
    "duration": 0,
    "start_time": "2022-04-12T12:42:01.140Z"
   },
   {
    "duration": 0,
    "start_time": "2022-04-12T12:42:01.142Z"
   },
   {
    "duration": 0,
    "start_time": "2022-04-12T12:42:01.145Z"
   },
   {
    "duration": 1,
    "start_time": "2022-04-12T12:42:01.146Z"
   },
   {
    "duration": 0,
    "start_time": "2022-04-12T12:42:01.148Z"
   },
   {
    "duration": 0,
    "start_time": "2022-04-12T12:42:01.150Z"
   },
   {
    "duration": 104,
    "start_time": "2022-04-12T12:50:11.148Z"
   },
   {
    "duration": 35,
    "start_time": "2022-04-12T12:53:23.431Z"
   },
   {
    "duration": 107,
    "start_time": "2022-04-12T12:53:59.378Z"
   },
   {
    "duration": 44,
    "start_time": "2022-04-12T12:54:15.652Z"
   },
   {
    "duration": 48,
    "start_time": "2022-04-12T12:54:57.436Z"
   },
   {
    "duration": 68,
    "start_time": "2022-04-12T12:55:32.354Z"
   },
   {
    "duration": 63,
    "start_time": "2022-04-12T12:56:16.055Z"
   },
   {
    "duration": 44,
    "start_time": "2022-04-12T12:56:26.292Z"
   },
   {
    "duration": 45,
    "start_time": "2022-04-12T12:56:34.475Z"
   },
   {
    "duration": 5,
    "start_time": "2022-04-12T12:59:25.886Z"
   },
   {
    "duration": 581,
    "start_time": "2022-04-12T12:59:25.893Z"
   },
   {
    "duration": 52,
    "start_time": "2022-04-12T12:59:26.477Z"
   },
   {
    "duration": 8,
    "start_time": "2022-04-12T12:59:26.531Z"
   },
   {
    "duration": 196,
    "start_time": "2022-04-12T12:59:26.542Z"
   },
   {
    "duration": 131,
    "start_time": "2022-04-12T12:59:26.740Z"
   },
   {
    "duration": 28,
    "start_time": "2022-04-12T12:59:26.873Z"
   },
   {
    "duration": 220,
    "start_time": "2022-04-12T12:59:26.925Z"
   },
   {
    "duration": 8,
    "start_time": "2022-04-12T12:59:27.147Z"
   },
   {
    "duration": 21,
    "start_time": "2022-04-12T12:59:27.157Z"
   },
   {
    "duration": 73,
    "start_time": "2022-04-12T12:59:27.182Z"
   },
   {
    "duration": 88,
    "start_time": "2022-04-12T12:59:27.258Z"
   },
   {
    "duration": 30,
    "start_time": "2022-04-12T12:59:27.348Z"
   },
   {
    "duration": 21,
    "start_time": "2022-04-12T12:59:27.380Z"
   },
   {
    "duration": 35,
    "start_time": "2022-04-12T12:59:27.425Z"
   },
   {
    "duration": 133,
    "start_time": "2022-04-12T12:59:27.463Z"
   },
   {
    "duration": 70,
    "start_time": "2022-04-12T12:59:27.599Z"
   },
   {
    "duration": 62,
    "start_time": "2022-04-12T12:59:27.671Z"
   },
   {
    "duration": 76,
    "start_time": "2022-04-12T12:59:27.735Z"
   },
   {
    "duration": 77,
    "start_time": "2022-04-12T12:59:27.824Z"
   },
   {
    "duration": 40,
    "start_time": "2022-04-12T12:59:27.903Z"
   },
   {
    "duration": 19,
    "start_time": "2022-04-12T12:59:27.945Z"
   },
   {
    "duration": 469,
    "start_time": "2022-04-12T12:59:27.966Z"
   },
   {
    "duration": 0,
    "start_time": "2022-04-12T12:59:28.438Z"
   },
   {
    "duration": 0,
    "start_time": "2022-04-12T12:59:28.440Z"
   },
   {
    "duration": 0,
    "start_time": "2022-04-12T12:59:28.441Z"
   },
   {
    "duration": 0,
    "start_time": "2022-04-12T12:59:28.443Z"
   },
   {
    "duration": 0,
    "start_time": "2022-04-12T12:59:28.444Z"
   },
   {
    "duration": 0,
    "start_time": "2022-04-12T12:59:28.445Z"
   },
   {
    "duration": 0,
    "start_time": "2022-04-12T12:59:28.447Z"
   },
   {
    "duration": 0,
    "start_time": "2022-04-12T12:59:28.448Z"
   },
   {
    "duration": 0,
    "start_time": "2022-04-12T12:59:28.449Z"
   },
   {
    "duration": 0,
    "start_time": "2022-04-12T12:59:28.450Z"
   },
   {
    "duration": 0,
    "start_time": "2022-04-12T12:59:28.452Z"
   },
   {
    "duration": 0,
    "start_time": "2022-04-12T12:59:28.453Z"
   },
   {
    "duration": 0,
    "start_time": "2022-04-12T12:59:28.454Z"
   },
   {
    "duration": 0,
    "start_time": "2022-04-12T12:59:28.455Z"
   },
   {
    "duration": 0,
    "start_time": "2022-04-12T12:59:28.456Z"
   },
   {
    "duration": 0,
    "start_time": "2022-04-12T12:59:28.458Z"
   },
   {
    "duration": 0,
    "start_time": "2022-04-12T12:59:28.459Z"
   },
   {
    "duration": 0,
    "start_time": "2022-04-12T12:59:28.460Z"
   },
   {
    "duration": 0,
    "start_time": "2022-04-12T12:59:28.462Z"
   },
   {
    "duration": 0,
    "start_time": "2022-04-12T12:59:28.463Z"
   },
   {
    "duration": 0,
    "start_time": "2022-04-12T12:59:28.465Z"
   },
   {
    "duration": 0,
    "start_time": "2022-04-12T12:59:28.466Z"
   },
   {
    "duration": 0,
    "start_time": "2022-04-12T12:59:28.468Z"
   },
   {
    "duration": 0,
    "start_time": "2022-04-12T12:59:28.469Z"
   },
   {
    "duration": 0,
    "start_time": "2022-04-12T12:59:28.470Z"
   },
   {
    "duration": 0,
    "start_time": "2022-04-12T12:59:28.472Z"
   },
   {
    "duration": 0,
    "start_time": "2022-04-12T12:59:28.473Z"
   },
   {
    "duration": 0,
    "start_time": "2022-04-12T12:59:28.474Z"
   },
   {
    "duration": 0,
    "start_time": "2022-04-12T12:59:28.475Z"
   },
   {
    "duration": 0,
    "start_time": "2022-04-12T12:59:28.525Z"
   },
   {
    "duration": 0,
    "start_time": "2022-04-12T12:59:28.526Z"
   },
   {
    "duration": 0,
    "start_time": "2022-04-12T12:59:28.528Z"
   },
   {
    "duration": 0,
    "start_time": "2022-04-12T12:59:28.529Z"
   },
   {
    "duration": 0,
    "start_time": "2022-04-12T12:59:28.530Z"
   },
   {
    "duration": 0,
    "start_time": "2022-04-12T12:59:28.532Z"
   },
   {
    "duration": 0,
    "start_time": "2022-04-12T12:59:28.533Z"
   },
   {
    "duration": 0,
    "start_time": "2022-04-12T12:59:28.535Z"
   },
   {
    "duration": 0,
    "start_time": "2022-04-12T12:59:28.536Z"
   },
   {
    "duration": 4,
    "start_time": "2022-04-12T13:00:06.319Z"
   },
   {
    "duration": 566,
    "start_time": "2022-04-12T13:00:06.327Z"
   },
   {
    "duration": 46,
    "start_time": "2022-04-12T13:00:06.896Z"
   },
   {
    "duration": 8,
    "start_time": "2022-04-12T13:00:06.944Z"
   },
   {
    "duration": 217,
    "start_time": "2022-04-12T13:00:06.955Z"
   },
   {
    "duration": 135,
    "start_time": "2022-04-12T13:00:07.174Z"
   },
   {
    "duration": 44,
    "start_time": "2022-04-12T13:00:07.311Z"
   },
   {
    "duration": 228,
    "start_time": "2022-04-12T13:00:07.357Z"
   },
   {
    "duration": 8,
    "start_time": "2022-04-12T13:00:07.587Z"
   },
   {
    "duration": 44,
    "start_time": "2022-04-12T13:00:07.597Z"
   },
   {
    "duration": 66,
    "start_time": "2022-04-12T13:00:07.646Z"
   },
   {
    "duration": 88,
    "start_time": "2022-04-12T13:00:07.714Z"
   },
   {
    "duration": 42,
    "start_time": "2022-04-12T13:00:07.805Z"
   },
   {
    "duration": 31,
    "start_time": "2022-04-12T13:00:07.850Z"
   },
   {
    "duration": 77,
    "start_time": "2022-04-12T13:00:07.884Z"
   },
   {
    "duration": 170,
    "start_time": "2022-04-12T13:00:07.964Z"
   },
   {
    "duration": 95,
    "start_time": "2022-04-12T13:00:08.137Z"
   },
   {
    "duration": 56,
    "start_time": "2022-04-12T13:00:08.234Z"
   },
   {
    "duration": 140,
    "start_time": "2022-04-12T13:00:08.293Z"
   },
   {
    "duration": 90,
    "start_time": "2022-04-12T13:00:08.435Z"
   },
   {
    "duration": 24,
    "start_time": "2022-04-12T13:00:08.528Z"
   },
   {
    "duration": 20,
    "start_time": "2022-04-12T13:00:08.554Z"
   },
   {
    "duration": 50,
    "start_time": "2022-04-12T13:00:08.577Z"
   },
   {
    "duration": 33,
    "start_time": "2022-04-12T13:00:08.630Z"
   },
   {
    "duration": 4,
    "start_time": "2022-04-12T13:00:08.666Z"
   },
   {
    "duration": 52,
    "start_time": "2022-04-12T13:00:08.673Z"
   },
   {
    "duration": 18,
    "start_time": "2022-04-12T13:00:08.728Z"
   },
   {
    "duration": 10,
    "start_time": "2022-04-12T13:00:08.749Z"
   },
   {
    "duration": 70,
    "start_time": "2022-04-12T13:00:08.766Z"
   },
   {
    "duration": 21,
    "start_time": "2022-04-12T13:00:08.839Z"
   },
   {
    "duration": 193,
    "start_time": "2022-04-12T13:00:08.862Z"
   },
   {
    "duration": 45,
    "start_time": "2022-04-12T13:00:09.057Z"
   },
   {
    "duration": 961,
    "start_time": "2022-04-12T13:00:09.104Z"
   },
   {
    "duration": 119,
    "start_time": "2022-04-12T13:00:10.068Z"
   },
   {
    "duration": 104,
    "start_time": "2022-04-12T13:00:10.189Z"
   },
   {
    "duration": 103,
    "start_time": "2022-04-12T13:00:10.295Z"
   },
   {
    "duration": 9,
    "start_time": "2022-04-12T13:00:10.400Z"
   },
   {
    "duration": 55,
    "start_time": "2022-04-12T13:00:10.425Z"
   },
   {
    "duration": 5,
    "start_time": "2022-04-12T13:00:10.483Z"
   },
   {
    "duration": 57,
    "start_time": "2022-04-12T13:00:10.491Z"
   },
   {
    "duration": 19,
    "start_time": "2022-04-12T13:00:10.550Z"
   },
   {
    "duration": 70,
    "start_time": "2022-04-12T13:00:10.571Z"
   },
   {
    "duration": 9,
    "start_time": "2022-04-12T13:00:10.643Z"
   },
   {
    "duration": 15,
    "start_time": "2022-04-12T13:00:10.655Z"
   },
   {
    "duration": 518,
    "start_time": "2022-04-12T13:00:10.672Z"
   },
   {
    "duration": 52,
    "start_time": "2022-04-12T13:00:11.193Z"
   },
   {
    "duration": 9,
    "start_time": "2022-04-12T13:00:11.248Z"
   },
   {
    "duration": 13,
    "start_time": "2022-04-12T13:00:11.259Z"
   },
   {
    "duration": 407,
    "start_time": "2022-04-12T13:00:11.274Z"
   },
   {
    "duration": 57,
    "start_time": "2022-04-12T13:00:11.683Z"
   },
   {
    "duration": 9,
    "start_time": "2022-04-12T13:00:11.742Z"
   },
   {
    "duration": 14,
    "start_time": "2022-04-12T13:00:11.753Z"
   },
   {
    "duration": 421,
    "start_time": "2022-04-12T13:00:11.769Z"
   },
   {
    "duration": 14,
    "start_time": "2022-04-12T13:00:12.192Z"
   },
   {
    "duration": 443,
    "start_time": "2022-04-12T13:00:12.208Z"
   },
   {
    "duration": 464,
    "start_time": "2022-04-12T13:00:12.654Z"
   },
   {
    "duration": 342,
    "start_time": "2022-04-12T13:00:13.124Z"
   },
   {
    "duration": 16,
    "start_time": "2022-04-12T13:00:13.468Z"
   },
   {
    "duration": 9,
    "start_time": "2022-04-12T13:00:13.486Z"
   },
   {
    "duration": 34,
    "start_time": "2022-04-12T13:00:13.498Z"
   },
   {
    "duration": 8,
    "start_time": "2022-04-12T13:00:13.534Z"
   },
   {
    "duration": 54,
    "start_time": "2022-04-12T13:01:52.966Z"
   },
   {
    "duration": 52,
    "start_time": "2022-04-12T13:01:58.873Z"
   },
   {
    "duration": 51,
    "start_time": "2022-04-12T13:02:05.954Z"
   },
   {
    "duration": 52,
    "start_time": "2022-04-12T13:02:10.225Z"
   },
   {
    "duration": 54,
    "start_time": "2022-04-12T13:02:23.230Z"
   },
   {
    "duration": 53,
    "start_time": "2022-04-12T13:02:28.643Z"
   },
   {
    "duration": 8,
    "start_time": "2022-04-12T13:04:46.719Z"
   },
   {
    "duration": 10,
    "start_time": "2022-04-12T13:05:29.678Z"
   },
   {
    "duration": 37,
    "start_time": "2022-04-12T13:06:34.104Z"
   },
   {
    "duration": 14,
    "start_time": "2022-04-12T13:07:24.895Z"
   },
   {
    "duration": 48,
    "start_time": "2022-04-14T08:34:02.494Z"
   },
   {
    "duration": 1272,
    "start_time": "2022-04-14T08:34:06.782Z"
   },
   {
    "duration": 354,
    "start_time": "2022-04-14T08:34:08.056Z"
   },
   {
    "duration": 26,
    "start_time": "2022-04-14T08:34:08.412Z"
   },
   {
    "duration": 5,
    "start_time": "2022-04-14T08:34:08.454Z"
   },
   {
    "duration": 116,
    "start_time": "2022-04-14T08:34:08.461Z"
   },
   {
    "duration": 99,
    "start_time": "2022-04-14T08:34:08.579Z"
   },
   {
    "duration": 21,
    "start_time": "2022-04-14T08:34:08.681Z"
   },
   {
    "duration": 177,
    "start_time": "2022-04-14T08:34:08.704Z"
   },
   {
    "duration": 7,
    "start_time": "2022-04-14T08:34:08.883Z"
   },
   {
    "duration": 24,
    "start_time": "2022-04-14T08:34:08.893Z"
   },
   {
    "duration": 55,
    "start_time": "2022-04-14T08:34:08.918Z"
   },
   {
    "duration": 58,
    "start_time": "2022-04-14T08:34:08.975Z"
   },
   {
    "duration": 29,
    "start_time": "2022-04-14T08:34:09.035Z"
   },
   {
    "duration": 15,
    "start_time": "2022-04-14T08:34:09.066Z"
   },
   {
    "duration": 25,
    "start_time": "2022-04-14T08:34:09.083Z"
   },
   {
    "duration": 97,
    "start_time": "2022-04-14T08:34:09.110Z"
   },
   {
    "duration": 51,
    "start_time": "2022-04-14T08:34:09.209Z"
   },
   {
    "duration": 33,
    "start_time": "2022-04-14T08:34:09.262Z"
   },
   {
    "duration": 71,
    "start_time": "2022-04-14T08:34:09.296Z"
   },
   {
    "duration": 51,
    "start_time": "2022-04-14T08:34:09.368Z"
   },
   {
    "duration": 89,
    "start_time": "2022-04-14T08:34:09.420Z"
   },
   {
    "duration": 0,
    "start_time": "2022-04-14T08:34:09.511Z"
   },
   {
    "duration": 0,
    "start_time": "2022-04-14T08:34:09.512Z"
   },
   {
    "duration": 0,
    "start_time": "2022-04-14T08:34:09.513Z"
   },
   {
    "duration": 0,
    "start_time": "2022-04-14T08:34:09.515Z"
   },
   {
    "duration": 0,
    "start_time": "2022-04-14T08:34:09.516Z"
   },
   {
    "duration": 0,
    "start_time": "2022-04-14T08:34:09.517Z"
   },
   {
    "duration": 0,
    "start_time": "2022-04-14T08:34:09.518Z"
   },
   {
    "duration": 0,
    "start_time": "2022-04-14T08:34:09.519Z"
   },
   {
    "duration": 0,
    "start_time": "2022-04-14T08:34:09.521Z"
   },
   {
    "duration": 0,
    "start_time": "2022-04-14T08:34:09.521Z"
   },
   {
    "duration": 0,
    "start_time": "2022-04-14T08:34:09.523Z"
   },
   {
    "duration": 0,
    "start_time": "2022-04-14T08:34:09.524Z"
   },
   {
    "duration": 0,
    "start_time": "2022-04-14T08:34:09.525Z"
   },
   {
    "duration": 0,
    "start_time": "2022-04-14T08:34:09.526Z"
   },
   {
    "duration": 0,
    "start_time": "2022-04-14T08:34:09.528Z"
   },
   {
    "duration": 0,
    "start_time": "2022-04-14T08:34:09.555Z"
   },
   {
    "duration": 0,
    "start_time": "2022-04-14T08:34:09.556Z"
   },
   {
    "duration": 0,
    "start_time": "2022-04-14T08:34:09.557Z"
   },
   {
    "duration": 0,
    "start_time": "2022-04-14T08:34:09.557Z"
   },
   {
    "duration": 0,
    "start_time": "2022-04-14T08:34:09.559Z"
   },
   {
    "duration": 0,
    "start_time": "2022-04-14T08:34:09.560Z"
   },
   {
    "duration": 0,
    "start_time": "2022-04-14T08:34:09.561Z"
   },
   {
    "duration": 0,
    "start_time": "2022-04-14T08:34:09.562Z"
   },
   {
    "duration": 0,
    "start_time": "2022-04-14T08:34:09.563Z"
   },
   {
    "duration": 0,
    "start_time": "2022-04-14T08:34:09.564Z"
   },
   {
    "duration": 0,
    "start_time": "2022-04-14T08:34:09.566Z"
   },
   {
    "duration": 0,
    "start_time": "2022-04-14T08:34:09.567Z"
   },
   {
    "duration": 0,
    "start_time": "2022-04-14T08:34:09.568Z"
   },
   {
    "duration": 0,
    "start_time": "2022-04-14T08:34:09.569Z"
   },
   {
    "duration": 0,
    "start_time": "2022-04-14T08:34:09.570Z"
   },
   {
    "duration": 0,
    "start_time": "2022-04-14T08:34:09.572Z"
   },
   {
    "duration": 0,
    "start_time": "2022-04-14T08:34:09.573Z"
   },
   {
    "duration": 0,
    "start_time": "2022-04-14T08:34:09.574Z"
   },
   {
    "duration": 0,
    "start_time": "2022-04-14T08:34:09.575Z"
   },
   {
    "duration": 0,
    "start_time": "2022-04-14T08:34:09.576Z"
   },
   {
    "duration": 0,
    "start_time": "2022-04-14T08:34:09.577Z"
   },
   {
    "duration": 0,
    "start_time": "2022-04-14T08:34:09.578Z"
   },
   {
    "duration": 0,
    "start_time": "2022-04-14T08:34:09.579Z"
   },
   {
    "duration": 0,
    "start_time": "2022-04-14T08:34:09.580Z"
   },
   {
    "duration": 0,
    "start_time": "2022-04-14T08:34:09.581Z"
   },
   {
    "duration": 0,
    "start_time": "2022-04-14T08:34:09.582Z"
   },
   {
    "duration": 0,
    "start_time": "2022-04-14T08:34:09.582Z"
   },
   {
    "duration": 20,
    "start_time": "2022-04-14T08:34:31.978Z"
   },
   {
    "duration": 18,
    "start_time": "2022-04-14T08:34:40.641Z"
   },
   {
    "duration": 17,
    "start_time": "2022-04-14T08:35:04.125Z"
   },
   {
    "duration": 1531,
    "start_time": "2022-04-14T08:35:18.665Z"
   },
   {
    "duration": 2,
    "start_time": "2022-04-14T08:35:40.255Z"
   },
   {
    "duration": 358,
    "start_time": "2022-04-14T08:35:40.259Z"
   },
   {
    "duration": 20,
    "start_time": "2022-04-14T08:35:40.619Z"
   },
   {
    "duration": 17,
    "start_time": "2022-04-14T08:35:40.640Z"
   },
   {
    "duration": 95,
    "start_time": "2022-04-14T08:35:40.659Z"
   },
   {
    "duration": 68,
    "start_time": "2022-04-14T08:35:40.756Z"
   },
   {
    "duration": 30,
    "start_time": "2022-04-14T08:35:40.825Z"
   },
   {
    "duration": 143,
    "start_time": "2022-04-14T08:35:40.857Z"
   },
   {
    "duration": 6,
    "start_time": "2022-04-14T08:35:41.002Z"
   },
   {
    "duration": 13,
    "start_time": "2022-04-14T08:35:41.009Z"
   },
   {
    "duration": 49,
    "start_time": "2022-04-14T08:35:41.025Z"
   },
   {
    "duration": 53,
    "start_time": "2022-04-14T08:35:41.076Z"
   },
   {
    "duration": 35,
    "start_time": "2022-04-14T08:35:41.131Z"
   },
   {
    "duration": 15,
    "start_time": "2022-04-14T08:35:41.167Z"
   },
   {
    "duration": 22,
    "start_time": "2022-04-14T08:35:41.183Z"
   },
   {
    "duration": 87,
    "start_time": "2022-04-14T08:35:41.206Z"
   },
   {
    "duration": 39,
    "start_time": "2022-04-14T08:35:41.294Z"
   },
   {
    "duration": 43,
    "start_time": "2022-04-14T08:35:41.335Z"
   },
   {
    "duration": 48,
    "start_time": "2022-04-14T08:35:41.380Z"
   },
   {
    "duration": 62,
    "start_time": "2022-04-14T08:35:41.430Z"
   },
   {
    "duration": 15,
    "start_time": "2022-04-14T08:35:41.494Z"
   },
   {
    "duration": 1610,
    "start_time": "2022-04-14T08:35:41.511Z"
   },
   {
    "duration": 0,
    "start_time": "2022-04-14T08:35:43.125Z"
   },
   {
    "duration": 0,
    "start_time": "2022-04-14T08:35:43.126Z"
   },
   {
    "duration": 0,
    "start_time": "2022-04-14T08:35:43.127Z"
   },
   {
    "duration": 0,
    "start_time": "2022-04-14T08:35:43.128Z"
   },
   {
    "duration": 0,
    "start_time": "2022-04-14T08:35:43.129Z"
   },
   {
    "duration": 0,
    "start_time": "2022-04-14T08:35:43.130Z"
   },
   {
    "duration": 0,
    "start_time": "2022-04-14T08:35:43.131Z"
   },
   {
    "duration": 0,
    "start_time": "2022-04-14T08:35:43.132Z"
   },
   {
    "duration": 0,
    "start_time": "2022-04-14T08:35:43.132Z"
   },
   {
    "duration": 0,
    "start_time": "2022-04-14T08:35:43.133Z"
   },
   {
    "duration": 0,
    "start_time": "2022-04-14T08:35:43.134Z"
   },
   {
    "duration": 0,
    "start_time": "2022-04-14T08:35:43.136Z"
   },
   {
    "duration": 0,
    "start_time": "2022-04-14T08:35:43.137Z"
   },
   {
    "duration": 0,
    "start_time": "2022-04-14T08:35:43.137Z"
   },
   {
    "duration": 0,
    "start_time": "2022-04-14T08:35:43.138Z"
   },
   {
    "duration": 0,
    "start_time": "2022-04-14T08:35:43.139Z"
   },
   {
    "duration": 0,
    "start_time": "2022-04-14T08:35:43.140Z"
   },
   {
    "duration": 1,
    "start_time": "2022-04-14T08:35:43.141Z"
   },
   {
    "duration": 0,
    "start_time": "2022-04-14T08:35:43.143Z"
   },
   {
    "duration": 0,
    "start_time": "2022-04-14T08:35:43.144Z"
   },
   {
    "duration": 0,
    "start_time": "2022-04-14T08:35:43.145Z"
   },
   {
    "duration": 0,
    "start_time": "2022-04-14T08:35:43.146Z"
   },
   {
    "duration": 0,
    "start_time": "2022-04-14T08:35:43.147Z"
   },
   {
    "duration": 0,
    "start_time": "2022-04-14T08:35:43.148Z"
   },
   {
    "duration": 0,
    "start_time": "2022-04-14T08:35:43.149Z"
   },
   {
    "duration": 0,
    "start_time": "2022-04-14T08:35:43.150Z"
   },
   {
    "duration": 0,
    "start_time": "2022-04-14T08:35:43.151Z"
   },
   {
    "duration": 0,
    "start_time": "2022-04-14T08:35:43.152Z"
   },
   {
    "duration": 0,
    "start_time": "2022-04-14T08:35:43.153Z"
   },
   {
    "duration": 0,
    "start_time": "2022-04-14T08:35:43.154Z"
   },
   {
    "duration": 0,
    "start_time": "2022-04-14T08:35:43.155Z"
   },
   {
    "duration": 0,
    "start_time": "2022-04-14T08:35:43.156Z"
   },
   {
    "duration": 0,
    "start_time": "2022-04-14T08:35:43.157Z"
   },
   {
    "duration": 0,
    "start_time": "2022-04-14T08:35:43.158Z"
   },
   {
    "duration": 0,
    "start_time": "2022-04-14T08:35:43.159Z"
   },
   {
    "duration": 0,
    "start_time": "2022-04-14T08:35:43.160Z"
   },
   {
    "duration": 0,
    "start_time": "2022-04-14T08:35:43.161Z"
   },
   {
    "duration": 0,
    "start_time": "2022-04-14T08:35:43.162Z"
   },
   {
    "duration": 0,
    "start_time": "2022-04-14T08:35:43.163Z"
   },
   {
    "duration": 0,
    "start_time": "2022-04-14T08:35:43.165Z"
   },
   {
    "duration": 0,
    "start_time": "2022-04-14T08:35:43.166Z"
   },
   {
    "duration": 169,
    "start_time": "2022-04-14T08:36:18.880Z"
   },
   {
    "duration": 23,
    "start_time": "2022-04-14T08:36:34.299Z"
   },
   {
    "duration": 19,
    "start_time": "2022-04-14T08:37:00.023Z"
   },
   {
    "duration": 1634,
    "start_time": "2022-04-14T08:37:12.516Z"
   },
   {
    "duration": 1618,
    "start_time": "2022-04-14T08:37:33.990Z"
   },
   {
    "duration": 13,
    "start_time": "2022-04-14T08:37:54.253Z"
   },
   {
    "duration": 10,
    "start_time": "2022-04-14T08:37:57.096Z"
   },
   {
    "duration": 13,
    "start_time": "2022-04-14T08:38:16.235Z"
   },
   {
    "duration": 135,
    "start_time": "2022-04-14T08:38:35.877Z"
   },
   {
    "duration": 17,
    "start_time": "2022-04-14T08:38:43.679Z"
   },
   {
    "duration": 16,
    "start_time": "2022-04-14T08:38:52.534Z"
   },
   {
    "duration": 2,
    "start_time": "2022-04-14T08:40:16.159Z"
   },
   {
    "duration": 378,
    "start_time": "2022-04-14T08:40:16.163Z"
   },
   {
    "duration": 27,
    "start_time": "2022-04-14T08:40:16.543Z"
   },
   {
    "duration": 4,
    "start_time": "2022-04-14T08:40:16.571Z"
   },
   {
    "duration": 104,
    "start_time": "2022-04-14T08:40:16.578Z"
   },
   {
    "duration": 93,
    "start_time": "2022-04-14T08:40:16.684Z"
   },
   {
    "duration": 20,
    "start_time": "2022-04-14T08:40:16.779Z"
   },
   {
    "duration": 164,
    "start_time": "2022-04-14T08:40:16.801Z"
   },
   {
    "duration": 6,
    "start_time": "2022-04-14T08:40:16.967Z"
   },
   {
    "duration": 18,
    "start_time": "2022-04-14T08:40:16.974Z"
   },
   {
    "duration": 33,
    "start_time": "2022-04-14T08:40:16.995Z"
   },
   {
    "duration": 80,
    "start_time": "2022-04-14T08:40:17.030Z"
   },
   {
    "duration": 20,
    "start_time": "2022-04-14T08:40:17.112Z"
   },
   {
    "duration": 23,
    "start_time": "2022-04-14T08:40:17.134Z"
   },
   {
    "duration": 23,
    "start_time": "2022-04-14T08:40:17.159Z"
   },
   {
    "duration": 95,
    "start_time": "2022-04-14T08:40:17.183Z"
   },
   {
    "duration": 39,
    "start_time": "2022-04-14T08:40:17.280Z"
   },
   {
    "duration": 46,
    "start_time": "2022-04-14T08:40:17.320Z"
   },
   {
    "duration": 47,
    "start_time": "2022-04-14T08:40:17.367Z"
   },
   {
    "duration": 61,
    "start_time": "2022-04-14T08:40:17.415Z"
   },
   {
    "duration": 15,
    "start_time": "2022-04-14T08:40:17.478Z"
   },
   {
    "duration": 13,
    "start_time": "2022-04-14T08:40:17.494Z"
   },
   {
    "duration": 10,
    "start_time": "2022-04-14T08:40:17.508Z"
   },
   {
    "duration": 44,
    "start_time": "2022-04-14T08:40:17.519Z"
   },
   {
    "duration": 3,
    "start_time": "2022-04-14T08:40:17.564Z"
   },
   {
    "duration": 15,
    "start_time": "2022-04-14T08:40:17.568Z"
   },
   {
    "duration": 9,
    "start_time": "2022-04-14T08:40:17.585Z"
   },
   {
    "duration": 7,
    "start_time": "2022-04-14T08:40:17.596Z"
   },
   {
    "duration": 18,
    "start_time": "2022-04-14T08:40:17.606Z"
   },
   {
    "duration": 33,
    "start_time": "2022-04-14T08:40:17.625Z"
   },
   {
    "duration": 114,
    "start_time": "2022-04-14T08:40:17.660Z"
   },
   {
    "duration": 26,
    "start_time": "2022-04-14T08:40:17.776Z"
   },
   {
    "duration": 464,
    "start_time": "2022-04-14T08:40:17.804Z"
   },
   {
    "duration": 57,
    "start_time": "2022-04-14T08:40:18.269Z"
   },
   {
    "duration": 70,
    "start_time": "2022-04-14T08:40:18.328Z"
   },
   {
    "duration": 64,
    "start_time": "2022-04-14T08:40:18.399Z"
   },
   {
    "duration": 30,
    "start_time": "2022-04-14T08:40:18.464Z"
   },
   {
    "duration": 6,
    "start_time": "2022-04-14T08:40:18.496Z"
   },
   {
    "duration": 54,
    "start_time": "2022-04-14T08:40:18.503Z"
   },
   {
    "duration": 3,
    "start_time": "2022-04-14T08:40:18.559Z"
   },
   {
    "duration": 22,
    "start_time": "2022-04-14T08:40:18.563Z"
   },
   {
    "duration": 11,
    "start_time": "2022-04-14T08:40:18.586Z"
   },
   {
    "duration": 25,
    "start_time": "2022-04-14T08:40:18.599Z"
   },
   {
    "duration": 6,
    "start_time": "2022-04-14T08:40:18.625Z"
   },
   {
    "duration": 9,
    "start_time": "2022-04-14T08:40:18.655Z"
   },
   {
    "duration": 203,
    "start_time": "2022-04-14T08:40:18.665Z"
   },
   {
    "duration": 23,
    "start_time": "2022-04-14T08:40:18.870Z"
   },
   {
    "duration": 6,
    "start_time": "2022-04-14T08:40:18.895Z"
   },
   {
    "duration": 8,
    "start_time": "2022-04-14T08:40:18.903Z"
   },
   {
    "duration": 208,
    "start_time": "2022-04-14T08:40:18.912Z"
   },
   {
    "duration": 36,
    "start_time": "2022-04-14T08:40:19.122Z"
   },
   {
    "duration": 11,
    "start_time": "2022-04-14T08:40:19.159Z"
   },
   {
    "duration": 11,
    "start_time": "2022-04-14T08:40:19.172Z"
   },
   {
    "duration": 196,
    "start_time": "2022-04-14T08:40:19.185Z"
   },
   {
    "duration": 10,
    "start_time": "2022-04-14T08:40:19.382Z"
   },
   {
    "duration": 211,
    "start_time": "2022-04-14T08:40:19.393Z"
   },
   {
    "duration": 254,
    "start_time": "2022-04-14T08:40:19.606Z"
   },
   {
    "duration": 186,
    "start_time": "2022-04-14T08:40:19.862Z"
   },
   {
    "duration": 10,
    "start_time": "2022-04-14T08:40:20.050Z"
   },
   {
    "duration": 24,
    "start_time": "2022-04-14T08:40:20.062Z"
   },
   {
    "duration": 7,
    "start_time": "2022-04-14T08:40:20.088Z"
   },
   {
    "duration": 18,
    "start_time": "2022-04-14T08:40:20.096Z"
   },
   {
    "duration": 12,
    "start_time": "2022-04-14T08:40:20.116Z"
   },
   {
    "duration": 4,
    "start_time": "2022-04-14T08:44:08.893Z"
   },
   {
    "duration": 14,
    "start_time": "2022-04-14T08:44:09.703Z"
   },
   {
    "duration": 6,
    "start_time": "2022-04-14T08:45:49.826Z"
   },
   {
    "duration": 14,
    "start_time": "2022-04-14T08:45:50.951Z"
   },
   {
    "duration": 3,
    "start_time": "2022-04-14T08:45:58.397Z"
   },
   {
    "duration": 1305,
    "start_time": "2022-04-14T08:45:58.402Z"
   },
   {
    "duration": 135,
    "start_time": "2022-04-14T08:45:59.710Z"
   },
   {
    "duration": 5,
    "start_time": "2022-04-14T08:45:59.847Z"
   },
   {
    "duration": 283,
    "start_time": "2022-04-14T08:45:59.854Z"
   },
   {
    "duration": 83,
    "start_time": "2022-04-14T08:46:00.138Z"
   },
   {
    "duration": 38,
    "start_time": "2022-04-14T08:46:00.223Z"
   },
   {
    "duration": 141,
    "start_time": "2022-04-14T08:46:00.263Z"
   },
   {
    "duration": 6,
    "start_time": "2022-04-14T08:46:00.406Z"
   },
   {
    "duration": 14,
    "start_time": "2022-04-14T08:46:00.413Z"
   },
   {
    "duration": 47,
    "start_time": "2022-04-14T08:46:00.430Z"
   },
   {
    "duration": 56,
    "start_time": "2022-04-14T08:46:00.479Z"
   },
   {
    "duration": 31,
    "start_time": "2022-04-14T08:46:00.537Z"
   },
   {
    "duration": 16,
    "start_time": "2022-04-14T08:46:00.570Z"
   },
   {
    "duration": 25,
    "start_time": "2022-04-14T08:46:00.588Z"
   },
   {
    "duration": 91,
    "start_time": "2022-04-14T08:46:00.615Z"
   },
   {
    "duration": 35,
    "start_time": "2022-04-14T08:46:00.707Z"
   },
   {
    "duration": 34,
    "start_time": "2022-04-14T08:46:00.743Z"
   },
   {
    "duration": 67,
    "start_time": "2022-04-14T08:46:00.778Z"
   },
   {
    "duration": 46,
    "start_time": "2022-04-14T08:46:00.846Z"
   },
   {
    "duration": 16,
    "start_time": "2022-04-14T08:46:00.893Z"
   },
   {
    "duration": 24,
    "start_time": "2022-04-14T08:46:00.910Z"
   },
   {
    "duration": 21,
    "start_time": "2022-04-14T08:46:00.936Z"
   },
   {
    "duration": 32,
    "start_time": "2022-04-14T08:46:00.958Z"
   },
   {
    "duration": 3,
    "start_time": "2022-04-14T08:46:00.991Z"
   },
   {
    "duration": 39,
    "start_time": "2022-04-14T08:46:00.996Z"
   },
   {
    "duration": 18,
    "start_time": "2022-04-14T08:46:01.037Z"
   },
   {
    "duration": 28,
    "start_time": "2022-04-14T08:46:01.057Z"
   },
   {
    "duration": 37,
    "start_time": "2022-04-14T08:46:01.090Z"
   },
   {
    "duration": 17,
    "start_time": "2022-04-14T08:46:01.129Z"
   },
   {
    "duration": 129,
    "start_time": "2022-04-14T08:46:01.148Z"
   },
   {
    "duration": 27,
    "start_time": "2022-04-14T08:46:01.280Z"
   },
   {
    "duration": 475,
    "start_time": "2022-04-14T08:46:01.309Z"
   },
   {
    "duration": 5,
    "start_time": "2022-04-14T08:46:01.787Z"
   },
   {
    "duration": 49,
    "start_time": "2022-04-14T08:46:01.794Z"
   },
   {
    "duration": 79,
    "start_time": "2022-04-14T08:46:01.845Z"
   },
   {
    "duration": 59,
    "start_time": "2022-04-14T08:46:01.926Z"
   },
   {
    "duration": 80,
    "start_time": "2022-04-14T08:46:01.987Z"
   },
   {
    "duration": 32,
    "start_time": "2022-04-14T08:46:02.069Z"
   },
   {
    "duration": 17,
    "start_time": "2022-04-14T08:46:02.103Z"
   },
   {
    "duration": 59,
    "start_time": "2022-04-14T08:46:02.122Z"
   },
   {
    "duration": 59,
    "start_time": "2022-04-14T08:46:02.182Z"
   },
   {
    "duration": 40,
    "start_time": "2022-04-14T08:46:02.243Z"
   },
   {
    "duration": 37,
    "start_time": "2022-04-14T08:46:02.285Z"
   },
   {
    "duration": 50,
    "start_time": "2022-04-14T08:46:02.324Z"
   },
   {
    "duration": 26,
    "start_time": "2022-04-14T08:46:02.375Z"
   },
   {
    "duration": 21,
    "start_time": "2022-04-14T08:46:02.403Z"
   },
   {
    "duration": 228,
    "start_time": "2022-04-14T08:46:02.426Z"
   },
   {
    "duration": 25,
    "start_time": "2022-04-14T08:46:02.656Z"
   },
   {
    "duration": 41,
    "start_time": "2022-04-14T08:46:02.683Z"
   },
   {
    "duration": 25,
    "start_time": "2022-04-14T08:46:02.726Z"
   },
   {
    "duration": 217,
    "start_time": "2022-04-14T08:46:02.753Z"
   },
   {
    "duration": 23,
    "start_time": "2022-04-14T08:46:02.972Z"
   },
   {
    "duration": 35,
    "start_time": "2022-04-14T08:46:02.996Z"
   },
   {
    "duration": 35,
    "start_time": "2022-04-14T08:46:03.033Z"
   },
   {
    "duration": 215,
    "start_time": "2022-04-14T08:46:03.070Z"
   },
   {
    "duration": 10,
    "start_time": "2022-04-14T08:46:03.287Z"
   },
   {
    "duration": 229,
    "start_time": "2022-04-14T08:46:03.298Z"
   },
   {
    "duration": 194,
    "start_time": "2022-04-14T08:46:03.529Z"
   },
   {
    "duration": 184,
    "start_time": "2022-04-14T08:46:03.725Z"
   },
   {
    "duration": 10,
    "start_time": "2022-04-14T08:46:03.912Z"
   },
   {
    "duration": 37,
    "start_time": "2022-04-14T08:46:03.923Z"
   },
   {
    "duration": 10,
    "start_time": "2022-04-14T08:46:03.962Z"
   },
   {
    "duration": 11,
    "start_time": "2022-04-14T08:46:03.973Z"
   },
   {
    "duration": 20,
    "start_time": "2022-04-14T08:46:03.985Z"
   },
   {
    "duration": 12,
    "start_time": "2022-04-14T08:48:28.658Z"
   },
   {
    "duration": 3,
    "start_time": "2022-04-14T08:48:45.560Z"
   },
   {
    "duration": 394,
    "start_time": "2022-04-14T08:48:45.565Z"
   },
   {
    "duration": 21,
    "start_time": "2022-04-14T08:48:45.960Z"
   },
   {
    "duration": 34,
    "start_time": "2022-04-14T08:48:45.983Z"
   },
   {
    "duration": 121,
    "start_time": "2022-04-14T08:48:46.019Z"
   },
   {
    "duration": 70,
    "start_time": "2022-04-14T08:48:46.142Z"
   },
   {
    "duration": 121,
    "start_time": "2022-04-14T08:48:46.214Z"
   },
   {
    "duration": 144,
    "start_time": "2022-04-14T08:48:46.336Z"
   },
   {
    "duration": 6,
    "start_time": "2022-04-14T08:48:46.481Z"
   },
   {
    "duration": 25,
    "start_time": "2022-04-14T08:48:46.488Z"
   },
   {
    "duration": 39,
    "start_time": "2022-04-14T08:48:46.516Z"
   },
   {
    "duration": 54,
    "start_time": "2022-04-14T08:48:46.556Z"
   },
   {
    "duration": 21,
    "start_time": "2022-04-14T08:48:46.611Z"
   },
   {
    "duration": 27,
    "start_time": "2022-04-14T08:48:46.633Z"
   },
   {
    "duration": 23,
    "start_time": "2022-04-14T08:48:46.662Z"
   },
   {
    "duration": 82,
    "start_time": "2022-04-14T08:48:46.687Z"
   },
   {
    "duration": 34,
    "start_time": "2022-04-14T08:48:46.770Z"
   },
   {
    "duration": 25,
    "start_time": "2022-04-14T08:48:46.805Z"
   },
   {
    "duration": 70,
    "start_time": "2022-04-14T08:48:46.831Z"
   },
   {
    "duration": 53,
    "start_time": "2022-04-14T08:48:46.903Z"
   },
   {
    "duration": 14,
    "start_time": "2022-04-14T08:48:46.958Z"
   },
   {
    "duration": 29,
    "start_time": "2022-04-14T08:48:46.974Z"
   },
   {
    "duration": 35,
    "start_time": "2022-04-14T08:48:47.004Z"
   },
   {
    "duration": 33,
    "start_time": "2022-04-14T08:48:47.041Z"
   },
   {
    "duration": 39,
    "start_time": "2022-04-14T08:48:47.076Z"
   },
   {
    "duration": 40,
    "start_time": "2022-04-14T08:48:47.116Z"
   },
   {
    "duration": 16,
    "start_time": "2022-04-14T08:48:47.157Z"
   },
   {
    "duration": 11,
    "start_time": "2022-04-14T08:48:47.175Z"
   },
   {
    "duration": 25,
    "start_time": "2022-04-14T08:48:47.190Z"
   },
   {
    "duration": 4,
    "start_time": "2022-04-14T08:48:47.216Z"
   },
   {
    "duration": 111,
    "start_time": "2022-04-14T08:48:47.221Z"
   },
   {
    "duration": 33,
    "start_time": "2022-04-14T08:48:47.333Z"
   },
   {
    "duration": 430,
    "start_time": "2022-04-14T08:48:47.368Z"
   },
   {
    "duration": 5,
    "start_time": "2022-04-14T08:48:47.799Z"
   },
   {
    "duration": 17,
    "start_time": "2022-04-14T08:48:47.805Z"
   },
   {
    "duration": 30,
    "start_time": "2022-04-14T08:48:47.824Z"
   },
   {
    "duration": 55,
    "start_time": "2022-04-14T08:48:47.856Z"
   },
   {
    "duration": 71,
    "start_time": "2022-04-14T08:48:47.913Z"
   },
   {
    "duration": 55,
    "start_time": "2022-04-14T08:48:47.986Z"
   },
   {
    "duration": 31,
    "start_time": "2022-04-14T08:48:48.055Z"
   },
   {
    "duration": 7,
    "start_time": "2022-04-14T08:48:48.087Z"
   },
   {
    "duration": 58,
    "start_time": "2022-04-14T08:48:48.096Z"
   },
   {
    "duration": 3,
    "start_time": "2022-04-14T08:48:48.156Z"
   },
   {
    "duration": 18,
    "start_time": "2022-04-14T08:48:48.160Z"
   },
   {
    "duration": 11,
    "start_time": "2022-04-14T08:48:48.179Z"
   },
   {
    "duration": 22,
    "start_time": "2022-04-14T08:48:48.191Z"
   },
   {
    "duration": 5,
    "start_time": "2022-04-14T08:48:48.215Z"
   },
   {
    "duration": 38,
    "start_time": "2022-04-14T08:48:48.222Z"
   },
   {
    "duration": 196,
    "start_time": "2022-04-14T08:48:48.262Z"
   },
   {
    "duration": 26,
    "start_time": "2022-04-14T08:48:48.460Z"
   },
   {
    "duration": 7,
    "start_time": "2022-04-14T08:48:48.487Z"
   },
   {
    "duration": 8,
    "start_time": "2022-04-14T08:48:48.496Z"
   },
   {
    "duration": 215,
    "start_time": "2022-04-14T08:48:48.505Z"
   },
   {
    "duration": 32,
    "start_time": "2022-04-14T08:48:48.722Z"
   },
   {
    "duration": 6,
    "start_time": "2022-04-14T08:48:48.756Z"
   },
   {
    "duration": 9,
    "start_time": "2022-04-14T08:48:48.764Z"
   },
   {
    "duration": 199,
    "start_time": "2022-04-14T08:48:48.774Z"
   },
   {
    "duration": 12,
    "start_time": "2022-04-14T08:48:48.975Z"
   },
   {
    "duration": 206,
    "start_time": "2022-04-14T08:48:48.988Z"
   },
   {
    "duration": 193,
    "start_time": "2022-04-14T08:48:49.197Z"
   },
   {
    "duration": 183,
    "start_time": "2022-04-14T08:48:49.393Z"
   },
   {
    "duration": 10,
    "start_time": "2022-04-14T08:48:49.578Z"
   },
   {
    "duration": 21,
    "start_time": "2022-04-14T08:48:49.590Z"
   },
   {
    "duration": 9,
    "start_time": "2022-04-14T08:48:49.613Z"
   },
   {
    "duration": 39,
    "start_time": "2022-04-14T08:48:49.624Z"
   },
   {
    "duration": 4,
    "start_time": "2022-04-14T08:48:49.665Z"
   },
   {
    "duration": 4,
    "start_time": "2022-04-14T08:53:50.172Z"
   },
   {
    "duration": 359,
    "start_time": "2022-04-14T08:53:50.178Z"
   },
   {
    "duration": 25,
    "start_time": "2022-04-14T08:53:50.539Z"
   },
   {
    "duration": 6,
    "start_time": "2022-04-14T08:53:50.565Z"
   },
   {
    "duration": 108,
    "start_time": "2022-04-14T08:53:50.572Z"
   },
   {
    "duration": 87,
    "start_time": "2022-04-14T08:53:50.681Z"
   },
   {
    "duration": 18,
    "start_time": "2022-04-14T08:53:50.770Z"
   },
   {
    "duration": 154,
    "start_time": "2022-04-14T08:53:50.789Z"
   },
   {
    "duration": 14,
    "start_time": "2022-04-14T08:53:50.945Z"
   },
   {
    "duration": 14,
    "start_time": "2022-04-14T08:53:50.960Z"
   },
   {
    "duration": 35,
    "start_time": "2022-04-14T08:53:50.976Z"
   },
   {
    "duration": 74,
    "start_time": "2022-04-14T08:53:51.012Z"
   },
   {
    "duration": 19,
    "start_time": "2022-04-14T08:53:51.088Z"
   },
   {
    "duration": 14,
    "start_time": "2022-04-14T08:53:51.109Z"
   },
   {
    "duration": 45,
    "start_time": "2022-04-14T08:53:51.125Z"
   },
   {
    "duration": 71,
    "start_time": "2022-04-14T08:53:51.172Z"
   },
   {
    "duration": 33,
    "start_time": "2022-04-14T08:53:51.254Z"
   },
   {
    "duration": 24,
    "start_time": "2022-04-14T08:53:51.289Z"
   },
   {
    "duration": 74,
    "start_time": "2022-04-14T08:53:51.315Z"
   },
   {
    "duration": 50,
    "start_time": "2022-04-14T08:53:51.390Z"
   },
   {
    "duration": 15,
    "start_time": "2022-04-14T08:53:51.454Z"
   },
   {
    "duration": 17,
    "start_time": "2022-04-14T08:53:51.470Z"
   },
   {
    "duration": 25,
    "start_time": "2022-04-14T08:53:51.488Z"
   },
   {
    "duration": 41,
    "start_time": "2022-04-14T08:53:51.515Z"
   },
   {
    "duration": 19,
    "start_time": "2022-04-14T08:53:51.557Z"
   },
   {
    "duration": 44,
    "start_time": "2022-04-14T08:53:51.578Z"
   },
   {
    "duration": 37,
    "start_time": "2022-04-14T08:53:51.624Z"
   },
   {
    "duration": 27,
    "start_time": "2022-04-14T08:53:51.662Z"
   },
   {
    "duration": 48,
    "start_time": "2022-04-14T08:53:51.693Z"
   },
   {
    "duration": 29,
    "start_time": "2022-04-14T08:53:51.743Z"
   },
   {
    "duration": 118,
    "start_time": "2022-04-14T08:53:51.773Z"
   },
   {
    "duration": 27,
    "start_time": "2022-04-14T08:53:51.892Z"
   },
   {
    "duration": 462,
    "start_time": "2022-04-14T08:53:51.921Z"
   },
   {
    "duration": 6,
    "start_time": "2022-04-14T08:53:52.385Z"
   },
   {
    "duration": 25,
    "start_time": "2022-04-14T08:53:52.392Z"
   },
   {
    "duration": 25,
    "start_time": "2022-04-14T08:53:52.418Z"
   },
   {
    "duration": 17,
    "start_time": "2022-04-14T08:53:52.444Z"
   },
   {
    "duration": 173,
    "start_time": "2022-04-14T08:53:52.462Z"
   },
   {
    "duration": 62,
    "start_time": "2022-04-14T08:53:52.636Z"
   },
   {
    "duration": 69,
    "start_time": "2022-04-14T08:53:52.700Z"
   },
   {
    "duration": 47,
    "start_time": "2022-04-14T08:53:52.770Z"
   },
   {
    "duration": 63,
    "start_time": "2022-04-14T08:53:52.819Z"
   },
   {
    "duration": 6,
    "start_time": "2022-04-14T08:53:52.884Z"
   },
   {
    "duration": 20,
    "start_time": "2022-04-14T08:53:52.892Z"
   },
   {
    "duration": 12,
    "start_time": "2022-04-14T08:53:52.914Z"
   },
   {
    "duration": 47,
    "start_time": "2022-04-14T08:53:52.928Z"
   },
   {
    "duration": 7,
    "start_time": "2022-04-14T08:53:52.977Z"
   },
   {
    "duration": 14,
    "start_time": "2022-04-14T08:53:52.986Z"
   },
   {
    "duration": 216,
    "start_time": "2022-04-14T08:53:53.002Z"
   },
   {
    "duration": 40,
    "start_time": "2022-04-14T08:53:53.220Z"
   },
   {
    "duration": 6,
    "start_time": "2022-04-14T08:53:53.262Z"
   },
   {
    "duration": 15,
    "start_time": "2022-04-14T08:53:53.270Z"
   },
   {
    "duration": 206,
    "start_time": "2022-04-14T08:53:53.287Z"
   },
   {
    "duration": 25,
    "start_time": "2022-04-14T08:53:53.495Z"
   },
   {
    "duration": 7,
    "start_time": "2022-04-14T08:53:53.522Z"
   },
   {
    "duration": 27,
    "start_time": "2022-04-14T08:53:53.531Z"
   },
   {
    "duration": 198,
    "start_time": "2022-04-14T08:53:53.559Z"
   },
   {
    "duration": 13,
    "start_time": "2022-04-14T08:53:53.758Z"
   },
   {
    "duration": 341,
    "start_time": "2022-04-14T08:53:53.772Z"
   },
   {
    "duration": 640,
    "start_time": "2022-04-14T08:53:54.115Z"
   },
   {
    "duration": 532,
    "start_time": "2022-04-14T08:53:54.757Z"
   },
   {
    "duration": 10,
    "start_time": "2022-04-14T08:53:55.291Z"
   },
   {
    "duration": 21,
    "start_time": "2022-04-14T08:53:55.354Z"
   },
   {
    "duration": 9,
    "start_time": "2022-04-14T08:53:55.376Z"
   },
   {
    "duration": 11,
    "start_time": "2022-04-14T08:53:55.387Z"
   },
   {
    "duration": 4,
    "start_time": "2022-04-14T08:53:55.454Z"
   },
   {
    "duration": 19,
    "start_time": "2022-04-14T09:01:05.010Z"
   },
   {
    "duration": 3,
    "start_time": "2022-04-14T09:02:52.598Z"
   },
   {
    "duration": 146,
    "start_time": "2022-04-14T09:03:07.626Z"
   },
   {
    "duration": 151,
    "start_time": "2022-04-14T09:04:02.518Z"
   },
   {
    "duration": 8,
    "start_time": "2022-04-14T09:04:13.909Z"
   },
   {
    "duration": 9,
    "start_time": "2022-04-14T09:04:18.769Z"
   },
   {
    "duration": 127,
    "start_time": "2022-04-14T09:04:33.769Z"
   },
   {
    "duration": 124,
    "start_time": "2022-04-14T09:04:46.917Z"
   },
   {
    "duration": 5,
    "start_time": "2022-04-14T09:05:26.527Z"
   },
   {
    "duration": 149,
    "start_time": "2022-04-14T09:05:41.187Z"
   },
   {
    "duration": 11,
    "start_time": "2022-04-14T09:06:08.638Z"
   },
   {
    "duration": 9,
    "start_time": "2022-04-14T09:06:21.860Z"
   },
   {
    "duration": 155,
    "start_time": "2022-04-14T09:06:32.740Z"
   },
   {
    "duration": 10,
    "start_time": "2022-04-14T09:14:40.389Z"
   },
   {
    "duration": 14,
    "start_time": "2022-04-14T09:17:13.853Z"
   },
   {
    "duration": 15,
    "start_time": "2022-04-14T09:17:17.439Z"
   },
   {
    "duration": 17,
    "start_time": "2022-04-14T09:18:22.562Z"
   },
   {
    "duration": 52,
    "start_time": "2022-04-14T15:19:24.719Z"
   },
   {
    "duration": 1416,
    "start_time": "2022-04-14T15:19:30.095Z"
   },
   {
    "duration": 390,
    "start_time": "2022-04-14T15:19:31.513Z"
   },
   {
    "duration": 30,
    "start_time": "2022-04-14T15:19:31.905Z"
   },
   {
    "duration": 6,
    "start_time": "2022-04-14T15:19:31.937Z"
   },
   {
    "duration": 126,
    "start_time": "2022-04-14T15:19:31.944Z"
   },
   {
    "duration": 96,
    "start_time": "2022-04-14T15:19:32.072Z"
   },
   {
    "duration": 19,
    "start_time": "2022-04-14T15:19:32.169Z"
   },
   {
    "duration": 185,
    "start_time": "2022-04-14T15:19:32.189Z"
   },
   {
    "duration": 6,
    "start_time": "2022-04-14T15:19:32.375Z"
   },
   {
    "duration": 33,
    "start_time": "2022-04-14T15:19:32.384Z"
   },
   {
    "duration": 32,
    "start_time": "2022-04-14T15:19:32.420Z"
   },
   {
    "duration": 79,
    "start_time": "2022-04-14T15:19:32.454Z"
   },
   {
    "duration": 21,
    "start_time": "2022-04-14T15:19:32.534Z"
   },
   {
    "duration": 14,
    "start_time": "2022-04-14T15:19:32.557Z"
   },
   {
    "duration": 56,
    "start_time": "2022-04-14T15:19:32.573Z"
   },
   {
    "duration": 90,
    "start_time": "2022-04-14T15:19:32.631Z"
   },
   {
    "duration": 46,
    "start_time": "2022-04-14T15:19:32.725Z"
   },
   {
    "duration": 52,
    "start_time": "2022-04-14T15:19:32.772Z"
   },
   {
    "duration": 58,
    "start_time": "2022-04-14T15:19:32.826Z"
   },
   {
    "duration": 71,
    "start_time": "2022-04-14T15:19:32.885Z"
   },
   {
    "duration": 14,
    "start_time": "2022-04-14T15:19:32.957Z"
   },
   {
    "duration": 13,
    "start_time": "2022-04-14T15:19:32.973Z"
   },
   {
    "duration": 31,
    "start_time": "2022-04-14T15:19:32.988Z"
   },
   {
    "duration": 21,
    "start_time": "2022-04-14T15:19:33.022Z"
   },
   {
    "duration": 3,
    "start_time": "2022-04-14T15:19:33.044Z"
   },
   {
    "duration": 17,
    "start_time": "2022-04-14T15:19:33.049Z"
   },
   {
    "duration": 12,
    "start_time": "2022-04-14T15:19:33.068Z"
   },
   {
    "duration": 8,
    "start_time": "2022-04-14T15:19:33.112Z"
   },
   {
    "duration": 20,
    "start_time": "2022-04-14T15:19:33.122Z"
   },
   {
    "duration": 5,
    "start_time": "2022-04-14T15:19:33.143Z"
   },
   {
    "duration": 136,
    "start_time": "2022-04-14T15:19:33.149Z"
   },
   {
    "duration": 41,
    "start_time": "2022-04-14T15:19:33.287Z"
   },
   {
    "duration": 531,
    "start_time": "2022-04-14T15:19:33.330Z"
   },
   {
    "duration": 381,
    "start_time": "2022-04-14T15:19:33.863Z"
   },
   {
    "duration": 6,
    "start_time": "2022-04-14T15:19:34.245Z"
   },
   {
    "duration": 7,
    "start_time": "2022-04-14T15:19:34.253Z"
   },
   {
    "duration": 16,
    "start_time": "2022-04-14T15:19:34.262Z"
   },
   {
    "duration": 34,
    "start_time": "2022-04-14T15:19:34.279Z"
   },
   {
    "duration": 5,
    "start_time": "2022-04-14T15:19:34.315Z"
   },
   {
    "duration": 19,
    "start_time": "2022-04-14T15:19:34.322Z"
   },
   {
    "duration": 12,
    "start_time": "2022-04-14T15:19:34.343Z"
   },
   {
    "duration": 57,
    "start_time": "2022-04-14T15:19:34.357Z"
   },
   {
    "duration": 9,
    "start_time": "2022-04-14T15:19:34.416Z"
   },
   {
    "duration": 10,
    "start_time": "2022-04-14T15:19:34.427Z"
   },
   {
    "duration": 315,
    "start_time": "2022-04-14T15:19:34.438Z"
   },
   {
    "duration": 0,
    "start_time": "2022-04-14T15:19:34.755Z"
   },
   {
    "duration": 0,
    "start_time": "2022-04-14T15:19:34.756Z"
   },
   {
    "duration": 0,
    "start_time": "2022-04-14T15:19:34.757Z"
   },
   {
    "duration": 0,
    "start_time": "2022-04-14T15:19:34.759Z"
   },
   {
    "duration": 0,
    "start_time": "2022-04-14T15:19:34.760Z"
   },
   {
    "duration": 0,
    "start_time": "2022-04-14T15:19:34.761Z"
   },
   {
    "duration": 0,
    "start_time": "2022-04-14T15:19:34.762Z"
   },
   {
    "duration": 0,
    "start_time": "2022-04-14T15:19:34.763Z"
   },
   {
    "duration": 0,
    "start_time": "2022-04-14T15:19:34.764Z"
   },
   {
    "duration": 0,
    "start_time": "2022-04-14T15:19:34.766Z"
   },
   {
    "duration": 0,
    "start_time": "2022-04-14T15:19:34.767Z"
   },
   {
    "duration": 0,
    "start_time": "2022-04-14T15:19:34.768Z"
   },
   {
    "duration": 0,
    "start_time": "2022-04-14T15:19:34.769Z"
   },
   {
    "duration": 0,
    "start_time": "2022-04-14T15:19:34.770Z"
   },
   {
    "duration": 0,
    "start_time": "2022-04-14T15:19:34.771Z"
   },
   {
    "duration": 0,
    "start_time": "2022-04-14T15:19:34.772Z"
   },
   {
    "duration": 211,
    "start_time": "2022-04-14T15:19:48.509Z"
   },
   {
    "duration": 224,
    "start_time": "2022-04-14T15:20:18.041Z"
   },
   {
    "duration": 243,
    "start_time": "2022-04-14T15:22:42.872Z"
   },
   {
    "duration": 265,
    "start_time": "2022-04-14T15:23:02.100Z"
   },
   {
    "duration": 324,
    "start_time": "2022-04-14T15:23:29.527Z"
   },
   {
    "duration": 227,
    "start_time": "2022-04-14T15:29:11.778Z"
   },
   {
    "duration": 247,
    "start_time": "2022-04-14T15:29:39.571Z"
   },
   {
    "duration": 239,
    "start_time": "2022-04-14T15:30:19.583Z"
   },
   {
    "duration": 243,
    "start_time": "2022-04-14T15:30:28.048Z"
   },
   {
    "duration": 3,
    "start_time": "2022-04-14T15:30:43.030Z"
   },
   {
    "duration": 404,
    "start_time": "2022-04-14T15:30:43.038Z"
   },
   {
    "duration": 24,
    "start_time": "2022-04-14T15:30:43.444Z"
   },
   {
    "duration": 5,
    "start_time": "2022-04-14T15:30:43.470Z"
   },
   {
    "duration": 151,
    "start_time": "2022-04-14T15:30:43.477Z"
   },
   {
    "duration": 99,
    "start_time": "2022-04-14T15:30:43.630Z"
   },
   {
    "duration": 21,
    "start_time": "2022-04-14T15:30:43.731Z"
   },
   {
    "duration": 188,
    "start_time": "2022-04-14T15:30:43.753Z"
   },
   {
    "duration": 7,
    "start_time": "2022-04-14T15:30:43.943Z"
   },
   {
    "duration": 19,
    "start_time": "2022-04-14T15:30:43.952Z"
   },
   {
    "duration": 51,
    "start_time": "2022-04-14T15:30:43.973Z"
   },
   {
    "duration": 60,
    "start_time": "2022-04-14T15:30:44.026Z"
   },
   {
    "duration": 70,
    "start_time": "2022-04-14T15:30:44.088Z"
   },
   {
    "duration": 27,
    "start_time": "2022-04-14T15:30:44.160Z"
   },
   {
    "duration": 31,
    "start_time": "2022-04-14T15:30:44.191Z"
   },
   {
    "duration": 74,
    "start_time": "2022-04-14T15:30:44.224Z"
   },
   {
    "duration": 48,
    "start_time": "2022-04-14T15:30:44.300Z"
   },
   {
    "duration": 26,
    "start_time": "2022-04-14T15:30:44.349Z"
   },
   {
    "duration": 82,
    "start_time": "2022-04-14T15:30:44.376Z"
   },
   {
    "duration": 64,
    "start_time": "2022-04-14T15:30:44.460Z"
   },
   {
    "duration": 16,
    "start_time": "2022-04-14T15:30:44.525Z"
   },
   {
    "duration": 14,
    "start_time": "2022-04-14T15:30:44.542Z"
   },
   {
    "duration": 10,
    "start_time": "2022-04-14T15:30:44.558Z"
   },
   {
    "duration": 55,
    "start_time": "2022-04-14T15:30:44.570Z"
   },
   {
    "duration": 4,
    "start_time": "2022-04-14T15:30:44.627Z"
   },
   {
    "duration": 17,
    "start_time": "2022-04-14T15:30:44.633Z"
   },
   {
    "duration": 13,
    "start_time": "2022-04-14T15:30:44.652Z"
   },
   {
    "duration": 7,
    "start_time": "2022-04-14T15:30:44.667Z"
   },
   {
    "duration": 53,
    "start_time": "2022-04-14T15:30:44.676Z"
   },
   {
    "duration": 6,
    "start_time": "2022-04-14T15:30:44.731Z"
   },
   {
    "duration": 134,
    "start_time": "2022-04-14T15:30:44.738Z"
   },
   {
    "duration": 49,
    "start_time": "2022-04-14T15:30:44.874Z"
   },
   {
    "duration": 534,
    "start_time": "2022-04-14T15:30:44.925Z"
   },
   {
    "duration": 378,
    "start_time": "2022-04-14T15:30:45.460Z"
   },
   {
    "duration": 6,
    "start_time": "2022-04-14T15:30:45.840Z"
   },
   {
    "duration": 6,
    "start_time": "2022-04-14T15:30:45.848Z"
   },
   {
    "duration": 16,
    "start_time": "2022-04-14T15:30:45.856Z"
   },
   {
    "duration": 48,
    "start_time": "2022-04-14T15:30:45.874Z"
   },
   {
    "duration": 3,
    "start_time": "2022-04-14T15:30:45.925Z"
   },
   {
    "duration": 18,
    "start_time": "2022-04-14T15:30:45.930Z"
   },
   {
    "duration": 12,
    "start_time": "2022-04-14T15:30:45.949Z"
   },
   {
    "duration": 59,
    "start_time": "2022-04-14T15:30:45.965Z"
   },
   {
    "duration": 5,
    "start_time": "2022-04-14T15:30:46.026Z"
   },
   {
    "duration": 10,
    "start_time": "2022-04-14T15:30:46.033Z"
   },
   {
    "duration": 285,
    "start_time": "2022-04-14T15:30:46.044Z"
   },
   {
    "duration": 26,
    "start_time": "2022-04-14T15:30:46.331Z"
   },
   {
    "duration": 6,
    "start_time": "2022-04-14T15:30:46.359Z"
   },
   {
    "duration": 9,
    "start_time": "2022-04-14T15:30:46.367Z"
   },
   {
    "duration": 263,
    "start_time": "2022-04-14T15:30:46.378Z"
   },
   {
    "duration": 26,
    "start_time": "2022-04-14T15:30:46.643Z"
   },
   {
    "duration": 7,
    "start_time": "2022-04-14T15:30:46.670Z"
   },
   {
    "duration": 35,
    "start_time": "2022-04-14T15:30:46.679Z"
   },
   {
    "duration": 244,
    "start_time": "2022-04-14T15:30:46.716Z"
   },
   {
    "duration": 10,
    "start_time": "2022-04-14T15:30:46.962Z"
   },
   {
    "duration": 402,
    "start_time": "2022-04-14T15:30:46.974Z"
   },
   {
    "duration": 217,
    "start_time": "2022-04-14T15:30:47.378Z"
   },
   {
    "duration": 210,
    "start_time": "2022-04-14T15:30:47.596Z"
   },
   {
    "duration": 7,
    "start_time": "2022-04-14T15:30:47.808Z"
   },
   {
    "duration": 11,
    "start_time": "2022-04-14T15:30:47.820Z"
   },
   {
    "duration": 10,
    "start_time": "2022-04-14T15:30:47.833Z"
   },
   {
    "duration": 10,
    "start_time": "2022-04-14T15:30:47.845Z"
   },
   {
    "duration": 240,
    "start_time": "2022-04-14T15:31:45.347Z"
   },
   {
    "duration": 235,
    "start_time": "2022-04-14T15:32:29.408Z"
   },
   {
    "duration": 242,
    "start_time": "2022-04-14T15:32:42.520Z"
   },
   {
    "duration": 250,
    "start_time": "2022-04-14T15:32:51.282Z"
   },
   {
    "duration": 226,
    "start_time": "2022-04-14T15:34:58.847Z"
   },
   {
    "duration": 209,
    "start_time": "2022-04-14T15:35:56.765Z"
   },
   {
    "duration": 220,
    "start_time": "2022-04-14T15:36:56.025Z"
   },
   {
    "duration": 90,
    "start_time": "2022-04-14T15:37:49.379Z"
   },
   {
    "duration": 13,
    "start_time": "2022-04-14T15:38:44.123Z"
   },
   {
    "duration": 1506,
    "start_time": "2022-04-14T20:28:49.637Z"
   },
   {
    "duration": 368,
    "start_time": "2022-04-14T20:28:51.145Z"
   },
   {
    "duration": 35,
    "start_time": "2022-04-14T20:28:51.515Z"
   },
   {
    "duration": 4,
    "start_time": "2022-04-14T20:28:51.552Z"
   },
   {
    "duration": 122,
    "start_time": "2022-04-14T20:28:51.559Z"
   },
   {
    "duration": 92,
    "start_time": "2022-04-14T20:28:51.683Z"
   },
   {
    "duration": 19,
    "start_time": "2022-04-14T20:28:51.777Z"
   },
   {
    "duration": 171,
    "start_time": "2022-04-14T20:28:51.798Z"
   },
   {
    "duration": 6,
    "start_time": "2022-04-14T20:28:51.971Z"
   },
   {
    "duration": 14,
    "start_time": "2022-04-14T20:28:51.978Z"
   },
   {
    "duration": 56,
    "start_time": "2022-04-14T20:28:51.994Z"
   },
   {
    "duration": 58,
    "start_time": "2022-04-14T20:28:52.052Z"
   },
   {
    "duration": 32,
    "start_time": "2022-04-14T20:28:52.112Z"
   },
   {
    "duration": 13,
    "start_time": "2022-04-14T20:28:52.147Z"
   },
   {
    "duration": 22,
    "start_time": "2022-04-14T20:28:52.162Z"
   },
   {
    "duration": 104,
    "start_time": "2022-04-14T20:28:52.185Z"
   },
   {
    "duration": 56,
    "start_time": "2022-04-14T20:28:52.291Z"
   },
   {
    "duration": 34,
    "start_time": "2022-04-14T20:28:52.349Z"
   },
   {
    "duration": 71,
    "start_time": "2022-04-14T20:28:52.385Z"
   },
   {
    "duration": 49,
    "start_time": "2022-04-14T20:28:52.458Z"
   },
   {
    "duration": 31,
    "start_time": "2022-04-14T20:28:52.509Z"
   },
   {
    "duration": 13,
    "start_time": "2022-04-14T20:28:52.541Z"
   },
   {
    "duration": 9,
    "start_time": "2022-04-14T20:28:52.556Z"
   },
   {
    "duration": 18,
    "start_time": "2022-04-14T20:28:52.566Z"
   },
   {
    "duration": 2,
    "start_time": "2022-04-14T20:28:52.586Z"
   },
   {
    "duration": 52,
    "start_time": "2022-04-14T20:28:52.590Z"
   },
   {
    "duration": 16,
    "start_time": "2022-04-14T20:28:52.644Z"
   },
   {
    "duration": 6,
    "start_time": "2022-04-14T20:28:52.662Z"
   },
   {
    "duration": 18,
    "start_time": "2022-04-14T20:28:52.670Z"
   },
   {
    "duration": 5,
    "start_time": "2022-04-14T20:28:52.690Z"
   },
   {
    "duration": 154,
    "start_time": "2022-04-14T20:28:52.697Z"
   },
   {
    "duration": 27,
    "start_time": "2022-04-14T20:28:52.853Z"
   },
   {
    "duration": 476,
    "start_time": "2022-04-14T20:28:52.882Z"
   },
   {
    "duration": 327,
    "start_time": "2022-04-14T20:29:11.280Z"
   },
   {
    "duration": 5,
    "start_time": "2022-04-14T20:29:17.412Z"
   },
   {
    "duration": 4,
    "start_time": "2022-04-14T20:29:22.541Z"
   },
   {
    "duration": 5,
    "start_time": "2022-04-14T20:29:26.593Z"
   },
   {
    "duration": 4,
    "start_time": "2022-04-14T20:29:37.345Z"
   },
   {
    "duration": 5,
    "start_time": "2022-04-14T20:30:33.537Z"
   }
  ],
  "kernelspec": {
   "display_name": "Python 3 (ipykernel)",
   "language": "python",
   "name": "python3"
  },
  "language_info": {
   "codemirror_mode": {
    "name": "ipython",
    "version": 3
   },
   "file_extension": ".py",
   "mimetype": "text/x-python",
   "name": "python",
   "nbconvert_exporter": "python",
   "pygments_lexer": "ipython3",
   "version": "3.9.7"
  },
  "toc": {
   "base_numbering": "1",
   "nav_menu": {},
   "number_sections": true,
   "sideBar": true,
   "skip_h1_title": true,
   "title_cell": "Содержание",
   "title_sidebar": "Contents",
   "toc_cell": true,
   "toc_position": {
    "height": "562px",
    "left": "25px",
    "top": "111.125px",
    "width": "323px"
   },
   "toc_section_display": true,
   "toc_window_display": true
  }
 },
 "nbformat": 4,
 "nbformat_minor": 2
}
