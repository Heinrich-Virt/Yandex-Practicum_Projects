{
 "cells": [
  {
   "cell_type": "markdown",
   "metadata": {
    "id": "VUC88oWjTJw2"
   },
   "source": [
    "\n",
    "# Яндекс.Музыка\n",
    "\n",
    "Сравнение Москвы и Петербурга окружено мифами. Например:\n",
    " * Москва — мегаполис, подчинённый жёсткому ритму рабочей недели;\n",
    " * Петербург — культурная столица, со своими вкусами.\n",
    "\n",
    "На данных Яндекс.Музыки вы сравните поведение пользователей двух столиц.\n",
    "\n",
    "**Цель исследования** — проверьте три гипотезы:\n",
    "1. Активность пользователей зависит от дня недели. Причём в Москве и Петербурге это проявляется по-разному.\n",
    "2. В понедельник утром в Москве преобладают одни жанры, а в Петербурге — другие. Так же и вечером пятницы преобладают разные жанры — в зависимости от города. \n",
    "3. Москва и Петербург предпочитают разные жанры музыки. В Москве чаще слушают поп-музыку, в Петербурге — русский рэп.\n",
    "\n",
    "**Ход исследования**\n",
    "\n",
    "Данные о поведении пользователей вы получите из файла `yandex_music_project.csv`. О качестве данных ничего не известно. Поэтому перед проверкой гипотез понадобится обзор данных. \n",
    "\n",
    "Вы проверите данные на ошибки и оцените их влияние на исследование. Затем, на этапе предобработки вы поищете возможность исправить самые критичные ошибки данных.\n",
    " \n",
    "Таким образом, исследование пройдёт в три этапа:\n",
    " 1. Обзор данных.\n",
    " 2. Предобработка данных.\n",
    " 3. Проверка гипотез.\n",
    "\n"
   ]
  },
  {
   "cell_type": "markdown",
   "metadata": {
    "id": "Ml1hmfXC_Zcs"
   },
   "source": [
    "## Обзор данных\n",
    "\n",
    "\n"
   ]
  },
  {
   "cell_type": "code",
   "execution_count": 2,
   "metadata": {
    "id": "AXN7PHPN_Zcs"
   },
   "outputs": [],
   "source": [
    "import pandas as pd"
   ]
  },
  {
   "cell_type": "code",
   "execution_count": 3,
   "metadata": {
    "id": "fFVu7vqh_Zct"
   },
   "outputs": [],
   "source": [
    "df = pd.read_csv(\"/datasets/yandex_music_project.csv\")"
   ]
  },
  {
   "cell_type": "code",
   "execution_count": 4,
   "metadata": {
    "id": "oWTVX3gW_Zct"
   },
   "outputs": [
    {
     "data": {
      "text/html": [
       "<div>\n",
       "<style scoped>\n",
       "    .dataframe tbody tr th:only-of-type {\n",
       "        vertical-align: middle;\n",
       "    }\n",
       "\n",
       "    .dataframe tbody tr th {\n",
       "        vertical-align: top;\n",
       "    }\n",
       "\n",
       "    .dataframe thead th {\n",
       "        text-align: right;\n",
       "    }\n",
       "</style>\n",
       "<table border=\"1\" class=\"dataframe\">\n",
       "  <thead>\n",
       "    <tr style=\"text-align: right;\">\n",
       "      <th></th>\n",
       "      <th>userID</th>\n",
       "      <th>Track</th>\n",
       "      <th>artist</th>\n",
       "      <th>genre</th>\n",
       "      <th>City</th>\n",
       "      <th>time</th>\n",
       "      <th>Day</th>\n",
       "    </tr>\n",
       "  </thead>\n",
       "  <tbody>\n",
       "    <tr>\n",
       "      <td>0</td>\n",
       "      <td>FFB692EC</td>\n",
       "      <td>Kamigata To Boots</td>\n",
       "      <td>The Mass Missile</td>\n",
       "      <td>rock</td>\n",
       "      <td>Saint-Petersburg</td>\n",
       "      <td>20:28:33</td>\n",
       "      <td>Wednesday</td>\n",
       "    </tr>\n",
       "    <tr>\n",
       "      <td>1</td>\n",
       "      <td>55204538</td>\n",
       "      <td>Delayed Because of Accident</td>\n",
       "      <td>Andreas Rönnberg</td>\n",
       "      <td>rock</td>\n",
       "      <td>Moscow</td>\n",
       "      <td>14:07:09</td>\n",
       "      <td>Friday</td>\n",
       "    </tr>\n",
       "    <tr>\n",
       "      <td>2</td>\n",
       "      <td>20EC38</td>\n",
       "      <td>Funiculì funiculà</td>\n",
       "      <td>Mario Lanza</td>\n",
       "      <td>pop</td>\n",
       "      <td>Saint-Petersburg</td>\n",
       "      <td>20:58:07</td>\n",
       "      <td>Wednesday</td>\n",
       "    </tr>\n",
       "    <tr>\n",
       "      <td>3</td>\n",
       "      <td>A3DD03C9</td>\n",
       "      <td>Dragons in the Sunset</td>\n",
       "      <td>Fire + Ice</td>\n",
       "      <td>folk</td>\n",
       "      <td>Saint-Petersburg</td>\n",
       "      <td>08:37:09</td>\n",
       "      <td>Monday</td>\n",
       "    </tr>\n",
       "    <tr>\n",
       "      <td>4</td>\n",
       "      <td>E2DC1FAE</td>\n",
       "      <td>Soul People</td>\n",
       "      <td>Space Echo</td>\n",
       "      <td>dance</td>\n",
       "      <td>Moscow</td>\n",
       "      <td>08:34:34</td>\n",
       "      <td>Monday</td>\n",
       "    </tr>\n",
       "    <tr>\n",
       "      <td>5</td>\n",
       "      <td>842029A1</td>\n",
       "      <td>Преданная</td>\n",
       "      <td>IMPERVTOR</td>\n",
       "      <td>rusrap</td>\n",
       "      <td>Saint-Petersburg</td>\n",
       "      <td>13:09:41</td>\n",
       "      <td>Friday</td>\n",
       "    </tr>\n",
       "    <tr>\n",
       "      <td>6</td>\n",
       "      <td>4CB90AA5</td>\n",
       "      <td>True</td>\n",
       "      <td>Roman Messer</td>\n",
       "      <td>dance</td>\n",
       "      <td>Moscow</td>\n",
       "      <td>13:00:07</td>\n",
       "      <td>Wednesday</td>\n",
       "    </tr>\n",
       "    <tr>\n",
       "      <td>7</td>\n",
       "      <td>F03E1C1F</td>\n",
       "      <td>Feeling This Way</td>\n",
       "      <td>Polina Griffith</td>\n",
       "      <td>dance</td>\n",
       "      <td>Moscow</td>\n",
       "      <td>20:47:49</td>\n",
       "      <td>Wednesday</td>\n",
       "    </tr>\n",
       "    <tr>\n",
       "      <td>8</td>\n",
       "      <td>8FA1D3BE</td>\n",
       "      <td>И вновь продолжается бой</td>\n",
       "      <td>NaN</td>\n",
       "      <td>ruspop</td>\n",
       "      <td>Moscow</td>\n",
       "      <td>09:17:40</td>\n",
       "      <td>Friday</td>\n",
       "    </tr>\n",
       "    <tr>\n",
       "      <td>9</td>\n",
       "      <td>E772D5C0</td>\n",
       "      <td>Pessimist</td>\n",
       "      <td>NaN</td>\n",
       "      <td>dance</td>\n",
       "      <td>Saint-Petersburg</td>\n",
       "      <td>21:20:49</td>\n",
       "      <td>Wednesday</td>\n",
       "    </tr>\n",
       "  </tbody>\n",
       "</table>\n",
       "</div>"
      ],
      "text/plain": [
       "     userID                        Track            artist   genre  \\\n",
       "0  FFB692EC            Kamigata To Boots  The Mass Missile    rock   \n",
       "1  55204538  Delayed Because of Accident  Andreas Rönnberg    rock   \n",
       "2    20EC38            Funiculì funiculà       Mario Lanza     pop   \n",
       "3  A3DD03C9        Dragons in the Sunset        Fire + Ice    folk   \n",
       "4  E2DC1FAE                  Soul People        Space Echo   dance   \n",
       "5  842029A1                    Преданная         IMPERVTOR  rusrap   \n",
       "6  4CB90AA5                         True      Roman Messer   dance   \n",
       "7  F03E1C1F             Feeling This Way   Polina Griffith   dance   \n",
       "8  8FA1D3BE     И вновь продолжается бой               NaN  ruspop   \n",
       "9  E772D5C0                    Pessimist               NaN   dance   \n",
       "\n",
       "             City        time        Day  \n",
       "0  Saint-Petersburg  20:28:33  Wednesday  \n",
       "1            Moscow  14:07:09     Friday  \n",
       "2  Saint-Petersburg  20:58:07  Wednesday  \n",
       "3  Saint-Petersburg  08:37:09     Monday  \n",
       "4            Moscow  08:34:34     Monday  \n",
       "5  Saint-Petersburg  13:09:41     Friday  \n",
       "6            Moscow  13:00:07  Wednesday  \n",
       "7            Moscow  20:47:49  Wednesday  \n",
       "8            Moscow  09:17:40     Friday  \n",
       "9  Saint-Petersburg  21:20:49  Wednesday  "
      ]
     },
     "execution_count": 4,
     "metadata": {},
     "output_type": "execute_result"
    }
   ],
   "source": [
    "df.head(10)"
   ]
  },
  {
   "cell_type": "code",
   "execution_count": 5,
   "metadata": {
    "id": "DSf2kIb-_Zct"
   },
   "outputs": [
    {
     "name": "stdout",
     "output_type": "stream",
     "text": [
      "<class 'pandas.core.frame.DataFrame'>\n",
      "RangeIndex: 65079 entries, 0 to 65078\n",
      "Data columns (total 7 columns):\n",
      "  userID    65079 non-null object\n",
      "Track       63848 non-null object\n",
      "artist      57876 non-null object\n",
      "genre       63881 non-null object\n",
      "  City      65079 non-null object\n",
      "time        65079 non-null object\n",
      "Day         65079 non-null object\n",
      "dtypes: object(7)\n",
      "memory usage: 3.5+ MB\n"
     ]
    }
   ],
   "source": [
    "df.info()"
   ]
  },
  {
   "cell_type": "markdown",
   "metadata": {
    "id": "MCB6-dXG_Zct"
   },
   "source": [
    "**Выводы**\n",
    "\n",
    "В каждой строке таблицы — данные о прослушанном треке. Часть колонок описывает саму композицию: название, исполнителя и жанр. Остальные данные рассказывают о пользователе: из какого он города, когда он слушал музыку. \n",
    "\n",
    "Предварительно можно утверждать, что, данных достаточно для проверки гипотез. Но встречаются пропуски в данных, а в названиях колонок — расхождения с хорошим стилем.\n",
    "\n",
    "Чтобы двигаться дальше, нужно устранить проблемы в данных."
   ]
  },
  {
   "cell_type": "markdown",
   "metadata": {
    "id": "SjYF6Ub9_Zct"
   },
   "source": [
    "## Предобработка данных"
   ]
  },
  {
   "cell_type": "markdown",
   "metadata": {
    "id": "dIaKXr29_Zct"
   },
   "source": [
    "### Стиль заголовков"
   ]
  },
  {
   "cell_type": "code",
   "execution_count": 40,
   "metadata": {
    "id": "oKOTdF_Q_Zct"
   },
   "outputs": [
    {
     "data": {
      "text/plain": [
       "Index(['user_id', 'track', 'artist', 'genre', 'city', 'time', 'day'], dtype='object')"
      ]
     },
     "execution_count": 40,
     "metadata": {},
     "output_type": "execute_result"
    }
   ],
   "source": [
    "df.columns"
   ]
  },
  {
   "cell_type": "code",
   "execution_count": 7,
   "metadata": {
    "id": "ISlFqs5y_Zct"
   },
   "outputs": [],
   "source": [
    "df = df.rename(columns={'  userID':'user_id', 'Track':'track', '  City  ':'city', 'Day':'day'})"
   ]
  },
  {
   "cell_type": "code",
   "execution_count": 8,
   "metadata": {
    "id": "d4NOAmTW_Zct"
   },
   "outputs": [
    {
     "name": "stdout",
     "output_type": "stream",
     "text": [
      "Index(['user_id', 'track', 'artist', 'genre', 'city', 'time', 'day'], dtype='object')\n"
     ]
    }
   ],
   "source": [
    "df.columns"
   ]
  },
  {
   "cell_type": "markdown",
   "metadata": {
    "id": "5ISfbcfY_Zct"
   },
   "source": [
    "### Пропуски значений"
   ]
  },
  {
   "cell_type": "code",
   "execution_count": 9,
   "metadata": {
    "id": "RskX29qr_Zct"
   },
   "outputs": [
    {
     "name": "stdout",
     "output_type": "stream",
     "text": [
      "user_id       0\n",
      "track      1231\n",
      "artist     7203\n",
      "genre      1198\n",
      "city          0\n",
      "time          0\n",
      "day           0\n",
      "dtype: int64\n"
     ]
    }
   ],
   "source": [
    "# подсчёт пропусков\n",
    "print(df.isna().sum())"
   ]
  },
  {
   "cell_type": "code",
   "execution_count": 10,
   "metadata": {
    "id": "KplB5qWs_Zct"
   },
   "outputs": [],
   "source": [
    "columns_to_replace = [\"track\", \"artist\", \"genre\"]\n",
    "for i in columns_to_replace:\n",
    "    df[i] = df[i].fillna(\"unknown\")"
   ]
  },
  {
   "cell_type": "code",
   "execution_count": 11,
   "metadata": {
    "id": "Tq4nYRX4_Zct"
   },
   "outputs": [
    {
     "name": "stdout",
     "output_type": "stream",
     "text": [
      "user_id    0\n",
      "track      0\n",
      "artist     0\n",
      "genre      0\n",
      "city       0\n",
      "time       0\n",
      "day        0\n",
      "dtype: int64\n"
     ]
    }
   ],
   "source": [
    "print(df.isna().sum())"
   ]
  },
  {
   "cell_type": "markdown",
   "metadata": {
    "id": "BWKRtBJ3_Zct"
   },
   "source": [
    "### Дубликаты"
   ]
  },
  {
   "cell_type": "code",
   "execution_count": 12,
   "metadata": {
    "id": "36eES_S0_Zct"
   },
   "outputs": [
    {
     "name": "stdout",
     "output_type": "stream",
     "text": [
      "3826\n"
     ]
    }
   ],
   "source": [
    "print(df.duplicated().sum())"
   ]
  },
  {
   "cell_type": "code",
   "execution_count": 13,
   "metadata": {
    "id": "exFHq6tt_Zct"
   },
   "outputs": [],
   "source": [
    "df=df.drop_duplicates().reset_index(drop=True)"
   ]
  },
  {
   "cell_type": "code",
   "execution_count": 14,
   "metadata": {
    "id": "-8PuNWQ0_Zct"
   },
   "outputs": [
    {
     "name": "stdout",
     "output_type": "stream",
     "text": [
      "0\n"
     ]
    }
   ],
   "source": [
    "print(df.duplicated().sum())"
   ]
  },
  {
   "cell_type": "code",
   "execution_count": 50,
   "metadata": {
    "id": "JIUcqzZN_Zct"
   },
   "outputs": [
    {
     "name": "stdout",
     "output_type": "stream",
     "text": [
      "['acid', 'acoustic', 'action', 'adult', 'africa', 'afrikaans', 'alternative', 'alternativepunk', 'ambient', 'americana', 'animated', 'anime', 'arabesk', 'arabic', 'arena', 'argentinetango', 'art', 'audiobook', 'author', 'avantgarde', 'axé', 'baile', 'balkan', 'beats', 'bigroom', 'black', 'bluegrass', 'blues', 'bollywood', 'bossa', 'brazilian', 'breakbeat', 'breaks', 'broadway', 'cantautori', 'cantopop', 'canzone', 'caribbean', 'caucasian', 'celtic', 'chamber', 'chanson', 'children', 'chill', 'chinese', 'choral', 'christian', 'christmas', 'classical', 'classicmetal', 'club', 'colombian', 'comedy', 'conjazz', 'contemporary', 'country', 'cuban', 'dance', 'dancehall', 'dancepop', 'dark', 'death', 'deep', 'deutschrock', 'deutschspr', 'dirty', 'disco', 'dnb', 'documentary', 'downbeat', 'downtempo', 'drum', 'dub', 'dubstep', 'eastern', 'easy', 'electronic', 'electropop', 'emo', 'entehno', 'epicmetal', 'estrada', 'ethnic', 'eurofolk', 'european', 'experimental', 'extrememetal', 'fado', 'fairytail', 'film', 'fitness', 'flamenco', 'folk', 'folklore', 'folkmetal', 'folkrock', 'folktronica', 'forró', 'frankreich', 'französisch', 'french', 'funk', 'future', 'gangsta', 'garage', 'german', 'ghazal', 'gitarre', 'glitch', 'gospel', 'gothic', 'grime', 'grunge', 'gypsy', 'handsup', \"hard'n'heavy\", 'hardcore', 'hardstyle', 'hardtechno', 'hiphop', 'historisch', 'holiday', 'horror', 'house', 'hymn', 'idm', 'independent', 'indian', 'indie', 'indipop', 'industrial', 'inspirational', 'instrumental', 'international', 'irish', 'jam', 'japanese', 'jazz', 'jewish', 'jpop', 'jungle', 'k-pop', 'karadeniz', 'karaoke', 'kayokyoku', 'korean', 'laiko', 'latin', 'latino', 'leftfield', 'local', 'lounge', 'loungeelectronic', 'lovers', 'malaysian', 'mandopop', 'marschmusik', 'meditative', 'mediterranean', 'melodic', 'metal', 'metalcore', 'mexican', 'middle', 'minimal', 'miscellaneous', 'modern', 'mood', 'mpb', 'muslim', 'native', 'neoklassik', 'neue', 'new', 'newage', 'newwave', 'nu', 'nujazz', 'numetal', 'oceania', 'old', 'opera', 'orchestral', 'other', 'piano', 'podcasts', 'pop', 'popdance', 'popelectronic', 'popeurodance', 'poprussian', 'post', 'posthardcore', 'postrock', 'power', 'progmetal', 'progressive', 'psychedelic', 'punjabi', 'punk', 'quebecois', 'ragga', 'ram', 'rancheras', 'rap', 'rave', 'reggae', 'reggaeton', 'regional', 'relax', 'religious', 'retro', 'rhythm', 'rnb', 'rnr', 'rock', 'rockabilly', 'rockalternative', 'rockindie', 'rockother', 'romance', 'roots', 'ruspop', 'rusrap', 'rusrock', 'russian', 'salsa', 'samba', 'scenic', 'schlager', 'self', 'sertanejo', 'shanson', 'shoegazing', 'showtunes', 'singer', 'ska', 'skarock', 'slow', 'smooth', 'soft', 'soul', 'soulful', 'sound', 'soundtrack', 'southern', 'specialty', 'speech', 'spiritual', 'sport', 'stonerrock', 'surf', 'swing', 'synthpop', 'synthrock', 'sängerportrait', 'tango', 'tanzorchester', 'taraftar', 'tatar', 'tech', 'techno', 'teen', 'thrash', 'top', 'traditional', 'tradjazz', 'trance', 'tribal', 'trip', 'triphop', 'tropical', 'türk', 'türkçe', 'ukrrock', 'unknown', 'urban', 'uzbek', 'variété', 'vi', 'videogame', 'vocal', 'western', 'world', 'worldbeat', 'ïîï', 'электроника']\n"
     ]
    }
   ],
   "source": [
    "# Просмотр уникальных названий жанров\n",
    "print(sorted(df[\"genre\"].unique()))"
   ]
  },
  {
   "cell_type": "code",
   "execution_count": 16,
   "metadata": {
    "id": "ErNDkmns_Zct"
   },
   "outputs": [],
   "source": [
    "# Функция для замены неявных дубликатов\n",
    "def replace_wrong_genres(wrong_genres, correct_genre):\n",
    "    df['genre'] = df['genre'].replace(wrong_genres, correct_genre)"
   ]
  },
  {
   "cell_type": "code",
   "execution_count": 17,
   "metadata": {
    "id": "YN5i2hpmSo09"
   },
   "outputs": [],
   "source": [
    "# Устранение неявных дубликатов\n",
    "wrong_hiphop = ['hip', 'hop', 'hip-hop']\n",
    "correct_name = 'hiphop'\n",
    "for i in wrong_hiphop:\n",
    "    replace_wrong_genres(i, correct_name)"
   ]
  },
  {
   "cell_type": "code",
   "execution_count": 18,
   "metadata": {
    "id": "wvixALnFG15m"
   },
   "outputs": [
    {
     "name": "stdout",
     "output_type": "stream",
     "text": [
      "['acid', 'acoustic', 'action', 'adult', 'africa', 'afrikaans', 'alternative', 'alternativepunk', 'ambient', 'americana', 'animated', 'anime', 'arabesk', 'arabic', 'arena', 'argentinetango', 'art', 'audiobook', 'author', 'avantgarde', 'axé', 'baile', 'balkan', 'beats', 'bigroom', 'black', 'bluegrass', 'blues', 'bollywood', 'bossa', 'brazilian', 'breakbeat', 'breaks', 'broadway', 'cantautori', 'cantopop', 'canzone', 'caribbean', 'caucasian', 'celtic', 'chamber', 'chanson', 'children', 'chill', 'chinese', 'choral', 'christian', 'christmas', 'classical', 'classicmetal', 'club', 'colombian', 'comedy', 'conjazz', 'contemporary', 'country', 'cuban', 'dance', 'dancehall', 'dancepop', 'dark', 'death', 'deep', 'deutschrock', 'deutschspr', 'dirty', 'disco', 'dnb', 'documentary', 'downbeat', 'downtempo', 'drum', 'dub', 'dubstep', 'eastern', 'easy', 'electronic', 'electropop', 'emo', 'entehno', 'epicmetal', 'estrada', 'ethnic', 'eurofolk', 'european', 'experimental', 'extrememetal', 'fado', 'fairytail', 'film', 'fitness', 'flamenco', 'folk', 'folklore', 'folkmetal', 'folkrock', 'folktronica', 'forró', 'frankreich', 'französisch', 'french', 'funk', 'future', 'gangsta', 'garage', 'german', 'ghazal', 'gitarre', 'glitch', 'gospel', 'gothic', 'grime', 'grunge', 'gypsy', 'handsup', \"hard'n'heavy\", 'hardcore', 'hardstyle', 'hardtechno', 'hiphop', 'historisch', 'holiday', 'horror', 'house', 'hymn', 'idm', 'independent', 'indian', 'indie', 'indipop', 'industrial', 'inspirational', 'instrumental', 'international', 'irish', 'jam', 'japanese', 'jazz', 'jewish', 'jpop', 'jungle', 'k-pop', 'karadeniz', 'karaoke', 'kayokyoku', 'korean', 'laiko', 'latin', 'latino', 'leftfield', 'local', 'lounge', 'loungeelectronic', 'lovers', 'malaysian', 'mandopop', 'marschmusik', 'meditative', 'mediterranean', 'melodic', 'metal', 'metalcore', 'mexican', 'middle', 'minimal', 'miscellaneous', 'modern', 'mood', 'mpb', 'muslim', 'native', 'neoklassik', 'neue', 'new', 'newage', 'newwave', 'nu', 'nujazz', 'numetal', 'oceania', 'old', 'opera', 'orchestral', 'other', 'piano', 'podcasts', 'pop', 'popdance', 'popelectronic', 'popeurodance', 'poprussian', 'post', 'posthardcore', 'postrock', 'power', 'progmetal', 'progressive', 'psychedelic', 'punjabi', 'punk', 'quebecois', 'ragga', 'ram', 'rancheras', 'rap', 'rave', 'reggae', 'reggaeton', 'regional', 'relax', 'religious', 'retro', 'rhythm', 'rnb', 'rnr', 'rock', 'rockabilly', 'rockalternative', 'rockindie', 'rockother', 'romance', 'roots', 'ruspop', 'rusrap', 'rusrock', 'russian', 'salsa', 'samba', 'scenic', 'schlager', 'self', 'sertanejo', 'shanson', 'shoegazing', 'showtunes', 'singer', 'ska', 'skarock', 'slow', 'smooth', 'soft', 'soul', 'soulful', 'sound', 'soundtrack', 'southern', 'specialty', 'speech', 'spiritual', 'sport', 'stonerrock', 'surf', 'swing', 'synthpop', 'synthrock', 'sängerportrait', 'tango', 'tanzorchester', 'taraftar', 'tatar', 'tech', 'techno', 'teen', 'thrash', 'top', 'traditional', 'tradjazz', 'trance', 'tribal', 'trip', 'triphop', 'tropical', 'türk', 'türkçe', 'ukrrock', 'unknown', 'urban', 'uzbek', 'variété', 'vi', 'videogame', 'vocal', 'western', 'world', 'worldbeat', 'ïîï', 'электроника']\n"
     ]
    }
   ],
   "source": [
    "# Проверка на неявные дубликаты\n",
    "print(sorted(df['genre'].unique()))"
   ]
  },
  {
   "cell_type": "markdown",
   "metadata": {
    "id": "jz6a9-7HQUDd"
   },
   "source": [
    "**Выводы**\n",
    "\n",
    "Предобработка обнаружила три проблемы в данных:\n",
    "\n",
    "- нарушения в стиле заголовков,\n",
    "- пропущенные значения,\n",
    "- дубликаты — явные и неявные."
   ]
  },
  {
   "cell_type": "markdown",
   "metadata": {
    "id": "WttZHXH0SqKk"
   },
   "source": [
    "## Проверка гипотез"
   ]
  },
  {
   "cell_type": "markdown",
   "metadata": {
    "id": "Im936VVi_Zcu"
   },
   "source": [
    "### Сравнение поведения пользователей двух столиц"
   ]
  },
  {
   "cell_type": "markdown",
   "metadata": {
    "id": "nwt_MuaL_Zcu"
   },
   "source": [
    "Первая гипотеза утверждает, что пользователи по-разному слушают музыку в Москве и Санкт-Петербурге."
   ]
  },
  {
   "cell_type": "code",
   "execution_count": 19,
   "metadata": {
    "id": "0_Qs96oh_Zcu"
   },
   "outputs": [
    {
     "name": "stdout",
     "output_type": "stream",
     "text": [
      "city\n",
      "Moscow              42741\n",
      "Saint-Petersburg    18512\n",
      "Name: city, dtype: int64\n"
     ]
    }
   ],
   "source": [
    "# Подсчёт прослушиваний в каждом городе\n",
    "print(df.groupby('city')['city'].count())"
   ]
  },
  {
   "cell_type": "code",
   "execution_count": 20,
   "metadata": {
    "id": "uZMKjiJz_Zcu"
   },
   "outputs": [
    {
     "name": "stdout",
     "output_type": "stream",
     "text": [
      "day\n",
      "Friday       21840\n",
      "Monday       21354\n",
      "Wednesday    18059\n",
      "Name: day, dtype: int64\n"
     ]
    }
   ],
   "source": [
    "# Подсчёт прослушиваний в каждый из трёх дней\n",
    "print(df.groupby('day')['day'].count())"
   ]
  },
  {
   "cell_type": "code",
   "execution_count": 21,
   "metadata": {
    "id": "Nz3GdQB1_Zcu"
   },
   "outputs": [],
   "source": [
    "# <создание функции number_tracks()>\n",
    "def number_tracks(day, city):\n",
    "    track_list = df[df['day'] == day]\n",
    "    track_list = track_list[track_list['city'] == city]\n",
    "    track_list_count = track_list['user_id'].count()\n",
    "    return track_list_count"
   ]
  },
  {
   "cell_type": "code",
   "execution_count": 22,
   "metadata": {
    "id": "rJcRATNQ_Zcu"
   },
   "outputs": [],
   "source": [
    "# количество прослушиваний в Москве по понедельникам\n",
    "moscow_monday = number_tracks('Monday', 'Moscow')"
   ]
  },
  {
   "cell_type": "code",
   "execution_count": 23,
   "metadata": {
    "id": "hq_ncZ5T_Zcu"
   },
   "outputs": [],
   "source": [
    "# количество прослушиваний в Санкт-Петербурге по понедельникам\n",
    "saint_setersburg_monday = number_tracks('Monday', 'Saint-Petersburg')"
   ]
  },
  {
   "cell_type": "code",
   "execution_count": 24,
   "metadata": {
    "id": "_NTy2VPU_Zcu"
   },
   "outputs": [],
   "source": [
    "# количество прослушиваний в Москве по средам\n",
    "moscow_wednesday = number_tracks('Wednesday', 'Moscow')"
   ]
  },
  {
   "cell_type": "code",
   "execution_count": 25,
   "metadata": {
    "id": "j2y3TAwo_Zcu"
   },
   "outputs": [],
   "source": [
    "# количество прослушиваний в Санкт-Петербурге по средам\n",
    "saint_setersburg_wednesday = number_tracks('Wednesday', 'Saint-Petersburg')"
   ]
  },
  {
   "cell_type": "code",
   "execution_count": 26,
   "metadata": {
    "id": "vYDw5u_K_Zcu"
   },
   "outputs": [],
   "source": [
    "# количество прослушиваний в Москве по пятницам\n",
    "moscow_friday = number_tracks('Friday', 'Moscow')"
   ]
  },
  {
   "cell_type": "code",
   "execution_count": 27,
   "metadata": {
    "id": "8_yzFtW3_Zcu"
   },
   "outputs": [],
   "source": [
    "# количество прослушиваний в Санкт-Петербурге по пятницам\n",
    "saint_setersburg_friday = number_tracks('Friday', 'Saint-Petersburg')"
   ]
  },
  {
   "cell_type": "code",
   "execution_count": 28,
   "metadata": {
    "id": "APAcLpOr_Zcu"
   },
   "outputs": [
    {
     "data": {
      "text/html": [
       "<div>\n",
       "<style scoped>\n",
       "    .dataframe tbody tr th:only-of-type {\n",
       "        vertical-align: middle;\n",
       "    }\n",
       "\n",
       "    .dataframe tbody tr th {\n",
       "        vertical-align: top;\n",
       "    }\n",
       "\n",
       "    .dataframe thead th {\n",
       "        text-align: right;\n",
       "    }\n",
       "</style>\n",
       "<table border=\"1\" class=\"dataframe\">\n",
       "  <thead>\n",
       "    <tr style=\"text-align: right;\">\n",
       "      <th></th>\n",
       "      <th>city</th>\n",
       "      <th>monday</th>\n",
       "      <th>wednesday</th>\n",
       "      <th>friday</th>\n",
       "    </tr>\n",
       "  </thead>\n",
       "  <tbody>\n",
       "    <tr>\n",
       "      <td>0</td>\n",
       "      <td>Moscow</td>\n",
       "      <td>15740</td>\n",
       "      <td>11056</td>\n",
       "      <td>15945</td>\n",
       "    </tr>\n",
       "    <tr>\n",
       "      <td>1</td>\n",
       "      <td>Saint-Petersburg</td>\n",
       "      <td>5614</td>\n",
       "      <td>7003</td>\n",
       "      <td>5895</td>\n",
       "    </tr>\n",
       "  </tbody>\n",
       "</table>\n",
       "</div>"
      ],
      "text/plain": [
       "               city  monday  wednesday  friday\n",
       "0            Moscow   15740      11056   15945\n",
       "1  Saint-Petersburg    5614       7003    5895"
      ]
     },
     "metadata": {},
     "output_type": "display_data"
    }
   ],
   "source": [
    "data = [[\"Moscow\", moscow_monday, moscow_wednesday, moscow_friday],\n",
    "        [\"Saint-Petersburg\", saint_setersburg_monday, saint_setersburg_wednesday, saint_setersburg_friday]]\n",
    "table_result = pd.DataFrame(columns = ['city', 'monday', 'wednesday', 'friday'], data = data)\n",
    "display(table_result)"
   ]
  },
  {
   "cell_type": "markdown",
   "metadata": {
    "id": "atZAxtq4_Zcu"
   },
   "source": [
    "### Музыка в начале и в конце недели"
   ]
  },
  {
   "cell_type": "markdown",
   "metadata": {
    "id": "eXrQqXFH_Zcu"
   },
   "source": [
    "Согласно второй гипотезе, утром в понедельник в Москве преобладают одни жанры, а в Петербурге — другие. Так же и вечером пятницы преобладают разные жанры — в зависимости от города."
   ]
  },
  {
   "cell_type": "code",
   "execution_count": 29,
   "metadata": {
    "id": "qeaFfM_P_Zcu"
   },
   "outputs": [],
   "source": [
    "# получение таблицы moscow_general из тех строк таблицы df, \n",
    "# для которых значение в столбце 'city' равно 'Moscow'\n",
    "moscow_general = df[df['city']==\"Moscow\"]"
   ]
  },
  {
   "cell_type": "code",
   "execution_count": 30,
   "metadata": {
    "id": "ORaVRKto_Zcu"
   },
   "outputs": [],
   "source": [
    "# получение таблицы spb_general из тех строк таблицы df,\n",
    "# для которых значение в столбце 'city' равно 'Saint-Petersburg'\n",
    "spb_general = df[df['city']==\"Saint-Petersburg\"]"
   ]
  },
  {
   "cell_type": "code",
   "execution_count": 31,
   "metadata": {
    "id": "laJT9BYl_Zcu"
   },
   "outputs": [],
   "source": [
    "def genre_weekday(table, day, time1, time2):\n",
    "    genre_df = table[table[\"day\"] == day]\n",
    "    genre_df = genre_df[genre_df[\"time\"] > time1]\n",
    "    genre_df = genre_df[genre_df[\"time\"] < time2]\n",
    "    genre_df_count = genre_df.groupby('genre')['genre'].count()\n",
    "    genre_df_sorted = genre_df_count.sort_values(ascending = False)\n",
    "    return genre_df_sorted.head(10)"
   ]
  },
  {
   "cell_type": "code",
   "execution_count": 32,
   "metadata": {
    "id": "yz7itPUQ_Zcu"
   },
   "outputs": [
    {
     "data": {
      "text/plain": [
       "genre\n",
       "pop            781\n",
       "dance          549\n",
       "electronic     480\n",
       "rock           474\n",
       "hiphop         286\n",
       "ruspop         186\n",
       "world          181\n",
       "rusrap         175\n",
       "alternative    164\n",
       "unknown        161\n",
       "Name: genre, dtype: int64"
      ]
     },
     "execution_count": 32,
     "metadata": {},
     "output_type": "execute_result"
    }
   ],
   "source": [
    "genre_weekday(moscow_general, 'Monday', '07:00', '11:00')"
   ]
  },
  {
   "cell_type": "code",
   "execution_count": 52,
   "metadata": {
    "id": "EzXVRE1o_Zcu"
   },
   "outputs": [
    {
     "data": {
      "text/plain": [
       "genre\n",
       "pop            713\n",
       "rock           517\n",
       "dance          495\n",
       "electronic     482\n",
       "hiphop         273\n",
       "world          208\n",
       "ruspop         170\n",
       "alternative    163\n",
       "classical      163\n",
       "rusrap         142\n",
       "Name: genre, dtype: int64"
      ]
     },
     "execution_count": 52,
     "metadata": {},
     "output_type": "execute_result"
    }
   ],
   "source": [
    "# вызов функции для вечера пятницы в Москве\n",
    "genre_weekday(moscow_general, 'Friday', '17:00', '23:00')"
   ]
  },
  {
   "cell_type": "code",
   "execution_count": 51,
   "metadata": {
    "id": "JZaEKu5v_Zcu"
   },
   "outputs": [
    {
     "data": {
      "text/plain": [
       "genre\n",
       "pop            256\n",
       "rock           216\n",
       "electronic     216\n",
       "dance          210\n",
       "hiphop          97\n",
       "alternative     63\n",
       "jazz            61\n",
       "classical       60\n",
       "rusrap          59\n",
       "world           54\n",
       "Name: genre, dtype: int64"
      ]
     },
     "execution_count": 51,
     "metadata": {},
     "output_type": "execute_result"
    }
   ],
   "source": [
    "# вызов функции для вечера пятницы в Петербурге\n",
    "genre_weekday(spb_general, 'Friday', '17:00', '23:00')"
   ]
  },
  {
   "cell_type": "markdown",
   "metadata": {
    "id": "JolODAqr_Zcu"
   },
   "source": [
    "### Жанровые предпочтения в Москве и Петербурге\n",
    "\n",
    "Гипотеза: Петербург — столица рэпа, музыку этого жанра там слушают чаще, чем в Москве.  А Москва — город контрастов, в котором, тем не менее, преобладает поп-музыка."
   ]
  },
  {
   "cell_type": "code",
   "execution_count": 36,
   "metadata": {
    "id": "r19lIPke_Zcu"
   },
   "outputs": [],
   "source": [
    "moscow_genres = moscow_general.groupby('genre')['genre'].count().sort_values(ascending = False)"
   ]
  },
  {
   "cell_type": "code",
   "execution_count": 37,
   "metadata": {
    "id": "WhCSooF8_Zcv"
   },
   "outputs": [
    {
     "data": {
      "text/plain": [
       "genre\n",
       "pop            5892\n",
       "dance          4435\n",
       "rock           3965\n",
       "electronic     3786\n",
       "hiphop         2096\n",
       "classical      1616\n",
       "world          1432\n",
       "alternative    1379\n",
       "ruspop         1372\n",
       "rusrap         1161\n",
       "Name: genre, dtype: int64"
      ]
     },
     "execution_count": 37,
     "metadata": {},
     "output_type": "execute_result"
    }
   ],
   "source": [
    "# просмотр первых 10 строк moscow_genres\n",
    "moscow_genres.head(10)"
   ]
  },
  {
   "cell_type": "code",
   "execution_count": 38,
   "metadata": {
    "id": "gluLIpE7_Zcv"
   },
   "outputs": [],
   "source": [
    "spb_genres = spb_general.groupby('genre')['genre'].count().sort_values(ascending = False)"
   ]
  },
  {
   "cell_type": "code",
   "execution_count": 39,
   "metadata": {
    "id": "uaGJHjVU_Zcv"
   },
   "outputs": [
    {
     "data": {
      "text/plain": [
       "genre\n",
       "pop            2431\n",
       "dance          1932\n",
       "rock           1879\n",
       "electronic     1736\n",
       "hiphop          960\n",
       "alternative     649\n",
       "classical       646\n",
       "rusrap          564\n",
       "ruspop          538\n",
       "world           515\n",
       "Name: genre, dtype: int64"
      ]
     },
     "execution_count": 39,
     "metadata": {},
     "output_type": "execute_result"
    }
   ],
   "source": [
    "# просмотр первых 10 строк spb_genres\n",
    "spb_genres.head(10)"
   ]
  },
  {
   "cell_type": "markdown",
   "metadata": {
    "id": "nVhnJEm__Zcv"
   },
   "source": [
    "Гипотеза частично подтвердилась:\n",
    "* Поп-музыка — самый популярный жанр в Москве, как и предполагала гипотеза. Более того, в топ-10 жанров встречается близкий жанр — русская популярная музыка.\n",
    "* Вопреки ожиданиям, рэп одинаково популярен в Москве и Петербурге. \n"
   ]
  },
  {
   "cell_type": "markdown",
   "metadata": {
    "id": "ykKQ0N65_Zcv"
   },
   "source": [
    "## Итоги исследования"
   ]
  },
  {
   "cell_type": "markdown",
   "metadata": {
    "id": "tjUwbHb3_Zcv"
   },
   "source": [
    "Были проверены три гипотезы:\n",
    "\n",
    "1. День недели по-разному влияет на активность пользователей в Москве и Петербурге. \n",
    "\n",
    "Первая гипотеза полностью подтвердилась.\n",
    "\n",
    "2. Музыкальные предпочтения не сильно меняются в течение недели — будь то Москва или Петербург. Небольшие различия заметны в начале недели, по понедельникам:\n",
    "* в Москве слушают музыку жанра “world”,\n",
    "* в Петербурге — джаз и классику.\n",
    "\n",
    "Таким образом, вторая гипотеза подтвердилась лишь отчасти. Этот результат мог оказаться иным, если бы не пропуски в данных.\n",
    "\n",
    "3. Во вкусах пользователей Москвы и Петербурга больше общего чем различий. Вопреки ожиданиям, предпочтения жанров в Петербурге напоминают московские.\n",
    "\n",
    "Третья гипотеза не подтвердилась. Если различия в предпочтениях и существуют, на основной массе пользователей они незаметны."
   ]
  },
  {
   "cell_type": "code",
   "execution_count": null,
   "metadata": {},
   "outputs": [],
   "source": []
  }
 ],
 "metadata": {
  "ExecuteTimeLog": [
   {
    "duration": 722,
    "start_time": "2022-02-07T08:10:03.333Z"
   },
   {
    "duration": 183,
    "start_time": "2022-02-07T08:10:04.209Z"
   },
   {
    "duration": 26,
    "start_time": "2022-02-07T08:14:32.957Z"
   },
   {
    "duration": 34,
    "start_time": "2022-02-07T08:15:02.743Z"
   },
   {
    "duration": 326,
    "start_time": "2022-02-07T08:19:07.611Z"
   },
   {
    "duration": 7,
    "start_time": "2022-02-07T08:19:18.684Z"
   },
   {
    "duration": 5,
    "start_time": "2022-02-07T08:19:28.813Z"
   },
   {
    "duration": 24,
    "start_time": "2022-02-07T08:36:49.040Z"
   },
   {
    "duration": 5,
    "start_time": "2022-02-07T08:37:14.500Z"
   },
   {
    "duration": 33,
    "start_time": "2022-02-07T08:38:29.929Z"
   },
   {
    "duration": 28,
    "start_time": "2022-02-07T08:38:44.094Z"
   },
   {
    "duration": 21,
    "start_time": "2022-02-07T08:42:23.490Z"
   },
   {
    "duration": 29,
    "start_time": "2022-02-07T08:42:53.135Z"
   },
   {
    "duration": 82,
    "start_time": "2022-02-07T08:43:45.249Z"
   },
   {
    "duration": 77,
    "start_time": "2022-02-07T08:43:56.833Z"
   },
   {
    "duration": 110,
    "start_time": "2022-02-07T08:45:10.588Z"
   },
   {
    "duration": 76,
    "start_time": "2022-02-07T08:45:35.240Z"
   },
   {
    "duration": 85,
    "start_time": "2022-02-07T08:46:05.421Z"
   },
   {
    "duration": 73,
    "start_time": "2022-02-07T08:46:08.481Z"
   },
   {
    "duration": 9,
    "start_time": "2022-02-07T08:46:55.549Z"
   },
   {
    "duration": 332,
    "start_time": "2022-02-07T19:47:52.014Z"
   },
   {
    "duration": 4,
    "start_time": "2022-02-07T19:47:58.390Z"
   },
   {
    "duration": 1684,
    "start_time": "2022-02-07T19:48:00.192Z"
   },
   {
    "duration": 337,
    "start_time": "2022-02-07T19:48:37.902Z"
   },
   {
    "duration": 732,
    "start_time": "2022-02-07T19:48:43.678Z"
   },
   {
    "duration": 176,
    "start_time": "2022-02-07T19:48:44.959Z"
   },
   {
    "duration": 27,
    "start_time": "2022-02-07T19:48:46.188Z"
   },
   {
    "duration": 32,
    "start_time": "2022-02-07T19:48:47.827Z"
   },
   {
    "duration": 4,
    "start_time": "2022-02-07T19:48:49.873Z"
   },
   {
    "duration": 26,
    "start_time": "2022-02-07T19:48:50.624Z"
   },
   {
    "duration": 5,
    "start_time": "2022-02-07T19:48:51.331Z"
   },
   {
    "duration": 33,
    "start_time": "2022-02-07T19:48:52.017Z"
   },
   {
    "duration": 22,
    "start_time": "2022-02-07T19:48:53.212Z"
   },
   {
    "duration": 29,
    "start_time": "2022-02-07T19:48:53.919Z"
   },
   {
    "duration": 81,
    "start_time": "2022-02-07T19:48:55.009Z"
   },
   {
    "duration": 103,
    "start_time": "2022-02-07T19:48:55.746Z"
   },
   {
    "duration": 74,
    "start_time": "2022-02-07T19:48:56.546Z"
   },
   {
    "duration": 8,
    "start_time": "2022-02-07T19:48:57.884Z"
   },
   {
    "duration": 4,
    "start_time": "2022-02-07T19:48:59.737Z"
   },
   {
    "duration": 13,
    "start_time": "2022-02-07T19:49:01.360Z"
   },
   {
    "duration": 8,
    "start_time": "2022-02-07T19:50:58.010Z"
   },
   {
    "duration": 8,
    "start_time": "2022-02-07T19:51:34.081Z"
   },
   {
    "duration": 81,
    "start_time": "2022-02-07T19:53:55.213Z"
   },
   {
    "duration": 14,
    "start_time": "2022-02-07T19:54:13.407Z"
   },
   {
    "duration": 15,
    "start_time": "2022-02-07T19:54:27.786Z"
   },
   {
    "duration": 13,
    "start_time": "2022-02-07T19:54:38.428Z"
   },
   {
    "duration": 12,
    "start_time": "2022-02-07T19:56:23.857Z"
   },
   {
    "duration": 14,
    "start_time": "2022-02-07T19:56:31.514Z"
   },
   {
    "duration": 12,
    "start_time": "2022-02-07T19:57:08.317Z"
   },
   {
    "duration": 5,
    "start_time": "2022-02-07T20:06:35.288Z"
   },
   {
    "duration": 1074,
    "start_time": "2022-02-07T20:07:26.834Z"
   },
   {
    "duration": 4,
    "start_time": "2022-02-07T20:08:08.106Z"
   },
   {
    "duration": 26,
    "start_time": "2022-02-07T20:08:09.667Z"
   },
   {
    "duration": 5,
    "start_time": "2022-02-07T20:08:52.607Z"
   },
   {
    "duration": 21,
    "start_time": "2022-02-07T20:08:53.424Z"
   },
   {
    "duration": 20,
    "start_time": "2022-02-07T20:09:30.017Z"
   },
   {
    "duration": 20,
    "start_time": "2022-02-07T20:09:49.581Z"
   },
   {
    "duration": 326,
    "start_time": "2022-02-08T08:20:04.322Z"
   },
   {
    "duration": 619,
    "start_time": "2022-02-08T08:20:24.739Z"
   },
   {
    "duration": 160,
    "start_time": "2022-02-08T08:20:25.360Z"
   },
   {
    "duration": 18,
    "start_time": "2022-02-08T08:20:25.522Z"
   },
   {
    "duration": 38,
    "start_time": "2022-02-08T08:20:25.541Z"
   },
   {
    "duration": 10,
    "start_time": "2022-02-08T08:20:25.581Z"
   },
   {
    "duration": 33,
    "start_time": "2022-02-08T08:20:25.593Z"
   },
   {
    "duration": 12,
    "start_time": "2022-02-08T08:20:25.628Z"
   },
   {
    "duration": 30,
    "start_time": "2022-02-08T08:20:25.642Z"
   },
   {
    "duration": 19,
    "start_time": "2022-02-08T08:20:25.675Z"
   },
   {
    "duration": 27,
    "start_time": "2022-02-08T08:20:25.696Z"
   },
   {
    "duration": 65,
    "start_time": "2022-02-08T08:20:25.724Z"
   },
   {
    "duration": 89,
    "start_time": "2022-02-08T08:20:25.791Z"
   },
   {
    "duration": 57,
    "start_time": "2022-02-08T08:20:25.882Z"
   },
   {
    "duration": 6,
    "start_time": "2022-02-08T08:20:25.941Z"
   },
   {
    "duration": 6,
    "start_time": "2022-02-08T08:20:25.949Z"
   },
   {
    "duration": 17,
    "start_time": "2022-02-08T08:20:25.957Z"
   },
   {
    "duration": 11,
    "start_time": "2022-02-08T08:20:25.976Z"
   },
   {
    "duration": 10,
    "start_time": "2022-02-08T08:20:25.988Z"
   },
   {
    "duration": 27,
    "start_time": "2022-02-08T08:20:26.000Z"
   },
   {
    "duration": 5,
    "start_time": "2022-02-08T08:20:26.029Z"
   },
   {
    "duration": 43,
    "start_time": "2022-02-08T08:20:26.036Z"
   },
   {
    "duration": 29,
    "start_time": "2022-02-08T08:20:26.080Z"
   },
   {
    "duration": 15,
    "start_time": "2022-02-08T08:20:26.112Z"
   },
   {
    "duration": 16,
    "start_time": "2022-02-08T08:20:26.129Z"
   },
   {
    "duration": 18,
    "start_time": "2022-02-08T08:20:26.147Z"
   },
   {
    "duration": 16,
    "start_time": "2022-02-08T08:20:26.167Z"
   },
   {
    "duration": 2,
    "start_time": "2022-02-08T08:20:26.184Z"
   },
   {
    "duration": 30,
    "start_time": "2022-02-08T08:20:26.188Z"
   },
   {
    "duration": 2,
    "start_time": "2022-02-08T08:20:26.220Z"
   },
   {
    "duration": 12,
    "start_time": "2022-02-08T08:20:26.223Z"
   },
   {
    "duration": 9,
    "start_time": "2022-02-08T08:20:26.236Z"
   },
   {
    "duration": 12,
    "start_time": "2022-02-08T08:20:26.247Z"
   },
   {
    "duration": 9,
    "start_time": "2022-02-08T08:20:26.260Z"
   },
   {
    "duration": 10,
    "start_time": "2022-02-08T08:20:26.271Z"
   },
   {
    "duration": 9,
    "start_time": "2022-02-08T08:20:26.283Z"
   },
   {
    "duration": 10,
    "start_time": "2022-02-08T08:20:26.294Z"
   },
   {
    "duration": 7,
    "start_time": "2022-02-08T08:20:26.306Z"
   },
   {
    "duration": 6,
    "start_time": "2022-02-08T08:20:26.315Z"
   },
   {
    "duration": 82,
    "start_time": "2022-02-08T08:32:46.087Z"
   },
   {
    "duration": 123,
    "start_time": "2022-02-08T08:32:53.532Z"
   },
   {
    "duration": 324,
    "start_time": "2022-02-08T08:33:04.750Z"
   },
   {
    "duration": 252,
    "start_time": "2022-02-08T08:40:22.982Z"
   },
   {
    "duration": 17,
    "start_time": "2022-02-08T08:40:32.426Z"
   },
   {
    "duration": 15,
    "start_time": "2022-02-08T08:40:33.034Z"
   },
   {
    "duration": 14,
    "start_time": "2022-02-08T08:40:33.630Z"
   },
   {
    "duration": 14,
    "start_time": "2022-02-08T08:40:34.268Z"
   },
   {
    "duration": 22,
    "start_time": "2022-02-08T08:40:35.096Z"
   },
   {
    "duration": 14,
    "start_time": "2022-02-08T08:40:35.785Z"
   },
   {
    "duration": 254,
    "start_time": "2022-02-08T08:40:37.535Z"
   },
   {
    "duration": 4,
    "start_time": "2022-02-08T08:41:07.350Z"
   },
   {
    "duration": 5,
    "start_time": "2022-02-08T08:41:29.580Z"
   },
   {
    "duration": 474,
    "start_time": "2022-02-08T08:41:39.422Z"
   },
   {
    "duration": 7,
    "start_time": "2022-02-08T08:42:06.169Z"
   },
   {
    "duration": 8,
    "start_time": "2022-02-08T08:42:12.588Z"
   },
   {
    "duration": 12,
    "start_time": "2022-02-08T08:47:58.573Z"
   },
   {
    "duration": 9,
    "start_time": "2022-02-08T08:47:59.607Z"
   },
   {
    "duration": 683,
    "start_time": "2022-02-08T18:44:13.778Z"
   },
   {
    "duration": 115,
    "start_time": "2022-02-08T18:44:14.463Z"
   },
   {
    "duration": 15,
    "start_time": "2022-02-08T18:44:14.580Z"
   },
   {
    "duration": 36,
    "start_time": "2022-02-08T18:44:14.597Z"
   },
   {
    "duration": 3,
    "start_time": "2022-02-08T18:44:14.634Z"
   },
   {
    "duration": 19,
    "start_time": "2022-02-08T18:44:14.638Z"
   },
   {
    "duration": 3,
    "start_time": "2022-02-08T18:44:14.658Z"
   },
   {
    "duration": 33,
    "start_time": "2022-02-08T18:44:14.664Z"
   },
   {
    "duration": 44,
    "start_time": "2022-02-08T18:44:14.700Z"
   },
   {
    "duration": 33,
    "start_time": "2022-02-08T18:44:14.746Z"
   },
   {
    "duration": 84,
    "start_time": "2022-02-08T18:44:14.780Z"
   },
   {
    "duration": 88,
    "start_time": "2022-02-08T18:44:14.865Z"
   },
   {
    "duration": 78,
    "start_time": "2022-02-08T18:44:14.955Z"
   },
   {
    "duration": 6,
    "start_time": "2022-02-08T18:44:15.034Z"
   },
   {
    "duration": 6,
    "start_time": "2022-02-08T18:44:15.042Z"
   },
   {
    "duration": 12,
    "start_time": "2022-02-08T18:44:15.049Z"
   },
   {
    "duration": 5,
    "start_time": "2022-02-08T18:44:15.062Z"
   },
   {
    "duration": 13,
    "start_time": "2022-02-08T18:44:15.069Z"
   },
   {
    "duration": 8,
    "start_time": "2022-02-08T18:44:15.084Z"
   },
   {
    "duration": 3,
    "start_time": "2022-02-08T18:44:15.094Z"
   },
   {
    "duration": 36,
    "start_time": "2022-02-08T18:44:15.098Z"
   },
   {
    "duration": 10,
    "start_time": "2022-02-08T18:44:15.136Z"
   },
   {
    "duration": 10,
    "start_time": "2022-02-08T18:44:15.149Z"
   },
   {
    "duration": 10,
    "start_time": "2022-02-08T18:44:15.160Z"
   },
   {
    "duration": 11,
    "start_time": "2022-02-08T18:44:15.172Z"
   },
   {
    "duration": 11,
    "start_time": "2022-02-08T18:44:15.184Z"
   },
   {
    "duration": 33,
    "start_time": "2022-02-08T18:44:15.197Z"
   },
   {
    "duration": 13,
    "start_time": "2022-02-08T18:44:15.231Z"
   },
   {
    "duration": 9,
    "start_time": "2022-02-08T18:44:15.245Z"
   },
   {
    "duration": 101,
    "start_time": "2022-02-08T18:44:15.255Z"
   },
   {
    "duration": 1278,
    "start_time": "2022-02-08T18:44:14.080Z"
   },
   {
    "duration": 1275,
    "start_time": "2022-02-08T18:44:14.084Z"
   },
   {
    "duration": 1275,
    "start_time": "2022-02-08T18:44:14.085Z"
   },
   {
    "duration": 1275,
    "start_time": "2022-02-08T18:44:14.086Z"
   },
   {
    "duration": 1273,
    "start_time": "2022-02-08T18:44:14.089Z"
   },
   {
    "duration": 1273,
    "start_time": "2022-02-08T18:44:14.090Z"
   },
   {
    "duration": 1274,
    "start_time": "2022-02-08T18:44:14.091Z"
   },
   {
    "duration": 1274,
    "start_time": "2022-02-08T18:44:14.092Z"
   },
   {
    "duration": 2,
    "start_time": "2022-02-08T20:46:45.331Z"
   },
   {
    "duration": 122,
    "start_time": "2022-02-08T20:46:45.335Z"
   },
   {
    "duration": 9,
    "start_time": "2022-02-08T20:46:45.459Z"
   },
   {
    "duration": 21,
    "start_time": "2022-02-08T20:46:45.470Z"
   },
   {
    "duration": 4,
    "start_time": "2022-02-08T20:46:45.493Z"
   },
   {
    "duration": 29,
    "start_time": "2022-02-08T20:46:45.498Z"
   },
   {
    "duration": 2,
    "start_time": "2022-02-08T20:46:45.529Z"
   },
   {
    "duration": 20,
    "start_time": "2022-02-08T20:46:45.534Z"
   },
   {
    "duration": 14,
    "start_time": "2022-02-08T20:46:45.556Z"
   },
   {
    "duration": 17,
    "start_time": "2022-02-08T20:46:45.571Z"
   },
   {
    "duration": 66,
    "start_time": "2022-02-08T20:46:45.590Z"
   },
   {
    "duration": 49,
    "start_time": "2022-02-08T20:46:45.658Z"
   },
   {
    "duration": 53,
    "start_time": "2022-02-08T20:46:45.708Z"
   },
   {
    "duration": 5,
    "start_time": "2022-02-08T20:46:45.763Z"
   },
   {
    "duration": 3,
    "start_time": "2022-02-08T20:46:45.769Z"
   },
   {
    "duration": 22,
    "start_time": "2022-02-08T20:46:45.773Z"
   },
   {
    "duration": 10,
    "start_time": "2022-02-08T20:46:45.796Z"
   },
   {
    "duration": 19,
    "start_time": "2022-02-08T20:46:45.807Z"
   },
   {
    "duration": 14,
    "start_time": "2022-02-08T20:46:45.827Z"
   },
   {
    "duration": 10,
    "start_time": "2022-02-08T20:46:45.843Z"
   },
   {
    "duration": 23,
    "start_time": "2022-02-08T20:46:45.854Z"
   },
   {
    "duration": 15,
    "start_time": "2022-02-08T20:46:45.878Z"
   },
   {
    "duration": 18,
    "start_time": "2022-02-08T20:46:45.895Z"
   },
   {
    "duration": 9,
    "start_time": "2022-02-08T20:46:45.915Z"
   },
   {
    "duration": 22,
    "start_time": "2022-02-08T20:46:45.925Z"
   },
   {
    "duration": 14,
    "start_time": "2022-02-08T20:46:45.949Z"
   },
   {
    "duration": 15,
    "start_time": "2022-02-08T20:46:45.964Z"
   },
   {
    "duration": 23,
    "start_time": "2022-02-08T20:46:45.980Z"
   },
   {
    "duration": 8,
    "start_time": "2022-02-08T20:46:46.004Z"
   },
   {
    "duration": 105,
    "start_time": "2022-02-08T20:46:46.013Z"
   },
   {
    "duration": -202,
    "start_time": "2022-02-08T20:46:46.321Z"
   },
   {
    "duration": -202,
    "start_time": "2022-02-08T20:46:46.322Z"
   },
   {
    "duration": -202,
    "start_time": "2022-02-08T20:46:46.323Z"
   },
   {
    "duration": -202,
    "start_time": "2022-02-08T20:46:46.324Z"
   },
   {
    "duration": -202,
    "start_time": "2022-02-08T20:46:46.325Z"
   },
   {
    "duration": -203,
    "start_time": "2022-02-08T20:46:46.327Z"
   },
   {
    "duration": -204,
    "start_time": "2022-02-08T20:46:46.328Z"
   },
   {
    "duration": -204,
    "start_time": "2022-02-08T20:46:46.329Z"
   },
   {
    "duration": 3,
    "start_time": "2022-02-08T21:04:14.592Z"
   },
   {
    "duration": 17,
    "start_time": "2022-02-08T21:05:13.338Z"
   },
   {
    "duration": 12,
    "start_time": "2022-02-08T21:07:37.993Z"
   },
   {
    "duration": 23,
    "start_time": "2022-02-08T21:07:59.088Z"
   },
   {
    "duration": 13,
    "start_time": "2022-02-08T21:08:19.510Z"
   },
   {
    "duration": 357,
    "start_time": "2022-02-08T21:11:48.167Z"
   },
   {
    "duration": 336,
    "start_time": "2022-02-08T21:12:04.432Z"
   },
   {
    "duration": 20,
    "start_time": "2022-02-08T21:12:20.653Z"
   },
   {
    "duration": 19,
    "start_time": "2022-02-08T21:12:34.693Z"
   },
   {
    "duration": 336,
    "start_time": "2022-02-08T21:12:42.619Z"
   },
   {
    "duration": 23,
    "start_time": "2022-02-08T21:12:54.063Z"
   },
   {
    "duration": 7,
    "start_time": "2022-02-08T21:13:56.880Z"
   },
   {
    "duration": 330,
    "start_time": "2022-02-08T21:15:28.075Z"
   },
   {
    "duration": 7,
    "start_time": "2022-02-08T21:15:37.123Z"
   },
   {
    "duration": 5,
    "start_time": "2022-02-08T21:15:38.695Z"
   },
   {
    "duration": 5,
    "start_time": "2022-02-08T21:16:15.206Z"
   },
   {
    "duration": 4,
    "start_time": "2022-02-08T21:16:29.801Z"
   },
   {
    "duration": 5,
    "start_time": "2022-02-08T21:16:43.607Z"
   },
   {
    "duration": 4,
    "start_time": "2022-02-08T21:16:55.095Z"
   },
   {
    "duration": 114,
    "start_time": "2022-02-08T21:18:13.314Z"
   },
   {
    "duration": 110,
    "start_time": "2022-02-08T21:18:25.886Z"
   },
   {
    "duration": 8,
    "start_time": "2022-02-08T21:18:40.367Z"
   },
   {
    "duration": 2,
    "start_time": "2022-02-08T21:18:44.720Z"
   },
   {
    "duration": 126,
    "start_time": "2022-02-08T21:18:44.724Z"
   },
   {
    "duration": 9,
    "start_time": "2022-02-08T21:18:44.852Z"
   },
   {
    "duration": 22,
    "start_time": "2022-02-08T21:18:44.863Z"
   },
   {
    "duration": 3,
    "start_time": "2022-02-08T21:18:44.886Z"
   },
   {
    "duration": 36,
    "start_time": "2022-02-08T21:18:44.891Z"
   },
   {
    "duration": 3,
    "start_time": "2022-02-08T21:18:44.928Z"
   },
   {
    "duration": 21,
    "start_time": "2022-02-08T21:18:44.933Z"
   },
   {
    "duration": 18,
    "start_time": "2022-02-08T21:18:44.956Z"
   },
   {
    "duration": 18,
    "start_time": "2022-02-08T21:18:44.976Z"
   },
   {
    "duration": 71,
    "start_time": "2022-02-08T21:18:44.996Z"
   },
   {
    "duration": 59,
    "start_time": "2022-02-08T21:18:45.068Z"
   },
   {
    "duration": 42,
    "start_time": "2022-02-08T21:18:45.129Z"
   },
   {
    "duration": 5,
    "start_time": "2022-02-08T21:18:45.172Z"
   },
   {
    "duration": 2,
    "start_time": "2022-02-08T21:18:45.179Z"
   },
   {
    "duration": 10,
    "start_time": "2022-02-08T21:18:45.182Z"
   },
   {
    "duration": 4,
    "start_time": "2022-02-08T21:18:45.194Z"
   },
   {
    "duration": 32,
    "start_time": "2022-02-08T21:18:45.200Z"
   },
   {
    "duration": 8,
    "start_time": "2022-02-08T21:18:45.233Z"
   },
   {
    "duration": 2,
    "start_time": "2022-02-08T21:18:45.243Z"
   },
   {
    "duration": 18,
    "start_time": "2022-02-08T21:18:45.247Z"
   },
   {
    "duration": 11,
    "start_time": "2022-02-08T21:18:45.266Z"
   },
   {
    "duration": 11,
    "start_time": "2022-02-08T21:18:45.278Z"
   },
   {
    "duration": 38,
    "start_time": "2022-02-08T21:18:45.290Z"
   },
   {
    "duration": 13,
    "start_time": "2022-02-08T21:18:45.330Z"
   },
   {
    "duration": 12,
    "start_time": "2022-02-08T21:18:45.344Z"
   },
   {
    "duration": 8,
    "start_time": "2022-02-08T21:18:45.358Z"
   },
   {
    "duration": 13,
    "start_time": "2022-02-08T21:18:45.367Z"
   },
   {
    "duration": 7,
    "start_time": "2022-02-08T21:18:45.382Z"
   },
   {
    "duration": 3,
    "start_time": "2022-02-08T21:18:45.391Z"
   },
   {
    "duration": 44,
    "start_time": "2022-02-08T21:18:45.396Z"
   },
   {
    "duration": 10,
    "start_time": "2022-02-08T21:18:45.441Z"
   },
   {
    "duration": 14,
    "start_time": "2022-02-08T21:18:45.453Z"
   },
   {
    "duration": 10,
    "start_time": "2022-02-08T21:18:45.469Z"
   },
   {
    "duration": 7,
    "start_time": "2022-02-08T21:18:45.480Z"
   },
   {
    "duration": 4,
    "start_time": "2022-02-08T21:18:45.488Z"
   },
   {
    "duration": 35,
    "start_time": "2022-02-08T21:18:45.493Z"
   },
   {
    "duration": 4,
    "start_time": "2022-02-08T21:18:45.529Z"
   },
   {
    "duration": 290,
    "start_time": "2022-02-13T19:59:01.764Z"
   },
   {
    "duration": 575,
    "start_time": "2022-02-13T19:59:19.861Z"
   },
   {
    "duration": 190,
    "start_time": "2022-02-13T19:59:20.438Z"
   },
   {
    "duration": 18,
    "start_time": "2022-02-13T19:59:20.630Z"
   },
   {
    "duration": 30,
    "start_time": "2022-02-13T19:59:20.651Z"
   },
   {
    "duration": 3,
    "start_time": "2022-02-13T19:59:20.683Z"
   },
   {
    "duration": 43,
    "start_time": "2022-02-13T19:59:20.687Z"
   },
   {
    "duration": 4,
    "start_time": "2022-02-13T19:59:20.731Z"
   },
   {
    "duration": 30,
    "start_time": "2022-02-13T19:59:20.738Z"
   },
   {
    "duration": 21,
    "start_time": "2022-02-13T19:59:20.770Z"
   },
   {
    "duration": 40,
    "start_time": "2022-02-13T19:59:20.793Z"
   },
   {
    "duration": 66,
    "start_time": "2022-02-13T19:59:20.835Z"
   },
   {
    "duration": 91,
    "start_time": "2022-02-13T19:59:20.903Z"
   },
   {
    "duration": 68,
    "start_time": "2022-02-13T19:59:20.996Z"
   },
   {
    "duration": 6,
    "start_time": "2022-02-13T19:59:21.066Z"
   },
   {
    "duration": 5,
    "start_time": "2022-02-13T19:59:21.073Z"
   },
   {
    "duration": 12,
    "start_time": "2022-02-13T19:59:21.079Z"
   },
   {
    "duration": 26,
    "start_time": "2022-02-13T19:59:21.093Z"
   },
   {
    "duration": 9,
    "start_time": "2022-02-13T19:59:21.121Z"
   },
   {
    "duration": 13,
    "start_time": "2022-02-13T19:59:21.132Z"
   },
   {
    "duration": 4,
    "start_time": "2022-02-13T19:59:21.146Z"
   },
   {
    "duration": 27,
    "start_time": "2022-02-13T19:59:21.152Z"
   },
   {
    "duration": 12,
    "start_time": "2022-02-13T19:59:21.181Z"
   },
   {
    "duration": 35,
    "start_time": "2022-02-13T19:59:21.195Z"
   },
   {
    "duration": 14,
    "start_time": "2022-02-13T19:59:21.232Z"
   },
   {
    "duration": 20,
    "start_time": "2022-02-13T19:59:21.248Z"
   },
   {
    "duration": 13,
    "start_time": "2022-02-13T19:59:21.270Z"
   },
   {
    "duration": 9,
    "start_time": "2022-02-13T19:59:21.284Z"
   },
   {
    "duration": 30,
    "start_time": "2022-02-13T19:59:21.294Z"
   },
   {
    "duration": 9,
    "start_time": "2022-02-13T19:59:21.326Z"
   },
   {
    "duration": 5,
    "start_time": "2022-02-13T19:59:21.336Z"
   },
   {
    "duration": 31,
    "start_time": "2022-02-13T19:59:21.342Z"
   },
   {
    "duration": 13,
    "start_time": "2022-02-13T19:59:21.375Z"
   },
   {
    "duration": 33,
    "start_time": "2022-02-13T19:59:21.389Z"
   },
   {
    "duration": 12,
    "start_time": "2022-02-13T19:59:21.423Z"
   },
   {
    "duration": 8,
    "start_time": "2022-02-13T19:59:21.436Z"
   },
   {
    "duration": 4,
    "start_time": "2022-02-13T19:59:21.446Z"
   },
   {
    "duration": 8,
    "start_time": "2022-02-13T19:59:21.452Z"
   },
   {
    "duration": 7,
    "start_time": "2022-02-13T19:59:21.461Z"
   },
   {
    "duration": 5,
    "start_time": "2022-02-13T19:59:46.600Z"
   },
   {
    "duration": 270,
    "start_time": "2022-02-13T20:00:59.081Z"
   },
   {
    "duration": 295,
    "start_time": "2022-02-13T20:03:11.041Z"
   },
   {
    "duration": 239,
    "start_time": "2022-02-13T20:04:55.669Z"
   },
   {
    "duration": 243,
    "start_time": "2022-02-13T20:05:08.053Z"
   },
   {
    "duration": 7,
    "start_time": "2022-02-13T20:05:19.014Z"
   },
   {
    "duration": 9,
    "start_time": "2022-02-13T20:05:29.068Z"
   },
   {
    "duration": 6,
    "start_time": "2022-02-13T20:05:47.263Z"
   },
   {
    "duration": 53,
    "start_time": "2022-02-13T20:07:29.599Z"
   },
   {
    "duration": 51,
    "start_time": "2022-02-13T20:08:44.346Z"
   },
   {
    "duration": 8,
    "start_time": "2022-02-13T20:09:55.368Z"
   },
   {
    "duration": 14,
    "start_time": "2022-02-13T20:13:12.710Z"
   },
   {
    "duration": 18,
    "start_time": "2022-02-13T20:13:32.276Z"
   }
  ],
  "colab": {
   "collapsed_sections": [
    "E0vqbgi9ay0H",
    "VUC88oWjTJw2"
   ],
   "name": "yandex_music_project_2021.2.ipynb",
   "provenance": []
  },
  "kernelspec": {
   "display_name": "Python 3 (ipykernel)",
   "language": "python",
   "name": "python3"
  },
  "language_info": {
   "codemirror_mode": {
    "name": "ipython",
    "version": 3
   },
   "file_extension": ".py",
   "mimetype": "text/x-python",
   "name": "python",
   "nbconvert_exporter": "python",
   "pygments_lexer": "ipython3",
   "version": "3.9.7"
  },
  "toc": {
   "base_numbering": 1,
   "nav_menu": {},
   "number_sections": true,
   "sideBar": true,
   "skip_h1_title": true,
   "title_cell": "Table of Contents",
   "title_sidebar": "Contents",
   "toc_cell": false,
   "toc_position": {
    "height": "calc(100% - 180px)",
    "left": "10px",
    "top": "150px",
    "width": "165px"
   },
   "toc_section_display": true,
   "toc_window_display": true
  }
 },
 "nbformat": 4,
 "nbformat_minor": 1
}
