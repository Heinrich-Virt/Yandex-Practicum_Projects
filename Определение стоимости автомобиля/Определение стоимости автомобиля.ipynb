{
 "cells": [
  {
   "cell_type": "markdown",
   "metadata": {},
   "source": [
    "## Обработка данных"
   ]
  },
  {
   "cell_type": "code",
   "execution_count": 1,
   "metadata": {},
   "outputs": [
    {
     "name": "stdout",
     "output_type": "stream",
     "text": [
      "Requirement already satisfied: lightgbm in c:\\users\\ego\\anaconda3\\envs\\praktikum_env_win_new\\lib\\site-packages (3.3.2)\n",
      "Requirement already satisfied: scikit-learn!=0.22.0 in c:\\users\\ego\\anaconda3\\envs\\praktikum_env_win_new\\lib\\site-packages (from lightgbm) (0.21.2)\n",
      "Requirement already satisfied: numpy in c:\\users\\ego\\anaconda3\\envs\\praktikum_env_win_new\\lib\\site-packages (from lightgbm) (1.21.5)\n",
      "Requirement already satisfied: scipy in c:\\users\\ego\\anaconda3\\envs\\praktikum_env_win_new\\lib\\site-packages (from lightgbm) (1.7.3)\n",
      "Requirement already satisfied: wheel in c:\\users\\ego\\anaconda3\\envs\\praktikum_env_win_new\\lib\\site-packages (from lightgbm) (0.37.1)\n",
      "Requirement already satisfied: joblib>=0.11 in c:\\users\\ego\\anaconda3\\envs\\praktikum_env_win_new\\lib\\site-packages (from scikit-learn!=0.22.0->lightgbm) (1.1.0)\n",
      "Requirement already satisfied: catboost in c:\\users\\ego\\anaconda3\\envs\\praktikum_env_win_new\\lib\\site-packages (1.0.6)\n",
      "Requirement already satisfied: pandas>=0.24.0 in c:\\users\\ego\\anaconda3\\envs\\praktikum_env_win_new\\lib\\site-packages (from catboost) (1.3.5)\n",
      "Requirement already satisfied: matplotlib in c:\\users\\ego\\anaconda3\\envs\\praktikum_env_win_new\\lib\\site-packages (from catboost) (3.5.2)\n",
      "Requirement already satisfied: plotly in c:\\users\\ego\\anaconda3\\envs\\praktikum_env_win_new\\lib\\site-packages (from catboost) (4.1.0)\n",
      "Requirement already satisfied: numpy>=1.16.0 in c:\\users\\ego\\anaconda3\\envs\\praktikum_env_win_new\\lib\\site-packages (from catboost) (1.21.5)\n",
      "Requirement already satisfied: six in c:\\users\\ego\\anaconda3\\envs\\praktikum_env_win_new\\lib\\site-packages (from catboost) (1.16.0)\n",
      "Requirement already satisfied: scipy in c:\\users\\ego\\anaconda3\\envs\\praktikum_env_win_new\\lib\\site-packages (from catboost) (1.7.3)\n",
      "Requirement already satisfied: graphviz in c:\\users\\ego\\anaconda3\\envs\\praktikum_env_win_new\\lib\\site-packages (from catboost) (0.20)\n",
      "Requirement already satisfied: pytz>=2017.3 in c:\\users\\ego\\anaconda3\\envs\\praktikum_env_win_new\\lib\\site-packages (from pandas>=0.24.0->catboost) (2022.1)\n",
      "Requirement already satisfied: python-dateutil>=2.7.3 in c:\\users\\ego\\anaconda3\\envs\\praktikum_env_win_new\\lib\\site-packages (from pandas>=0.24.0->catboost) (2.8.2)\n",
      "Requirement already satisfied: pillow>=6.2.0 in c:\\users\\ego\\anaconda3\\envs\\praktikum_env_win_new\\lib\\site-packages (from matplotlib->catboost) (9.1.1)\n",
      "Requirement already satisfied: pyparsing>=2.2.1 in c:\\users\\ego\\anaconda3\\envs\\praktikum_env_win_new\\lib\\site-packages (from matplotlib->catboost) (3.0.7)\n",
      "Requirement already satisfied: cycler>=0.10 in c:\\users\\ego\\anaconda3\\envs\\praktikum_env_win_new\\lib\\site-packages (from matplotlib->catboost) (0.11.0)\n",
      "Requirement already satisfied: fonttools>=4.22.0 in c:\\users\\ego\\anaconda3\\envs\\praktikum_env_win_new\\lib\\site-packages (from matplotlib->catboost) (4.33.3)\n",
      "Requirement already satisfied: packaging>=20.0 in c:\\users\\ego\\anaconda3\\envs\\praktikum_env_win_new\\lib\\site-packages (from matplotlib->catboost) (21.3)\n",
      "Requirement already satisfied: kiwisolver>=1.0.1 in c:\\users\\ego\\anaconda3\\envs\\praktikum_env_win_new\\lib\\site-packages (from matplotlib->catboost) (1.4.2)\n",
      "Requirement already satisfied: retrying>=1.3.3 in c:\\users\\ego\\anaconda3\\envs\\praktikum_env_win_new\\lib\\site-packages (from plotly->catboost) (1.3.3)\n",
      "Requirement already satisfied: typing-extensions in c:\\users\\ego\\anaconda3\\envs\\praktikum_env_win_new\\lib\\site-packages (from kiwisolver>=1.0.1->matplotlib->catboost) (4.1.1)\n"
     ]
    }
   ],
   "source": [
    "!pip install lightgbm\n",
    "!pip install catboost"
   ]
  },
  {
   "cell_type": "code",
   "execution_count": 2,
   "metadata": {},
   "outputs": [
    {
     "name": "stderr",
     "output_type": "stream",
     "text": [
      "C:\\Users\\EGO\\anaconda3\\envs\\praktikum_env_win_new\\lib\\site-packages\\sklearn\\linear_model\\least_angle.py:30: DeprecationWarning: `np.float` is a deprecated alias for the builtin `float`. To silence this warning, use `float` by itself. Doing this will not modify any behavior and is safe. If you specifically wanted the numpy scalar type, use `np.float64` here.\n",
      "Deprecated in NumPy 1.20; for more details and guidance: https://numpy.org/devdocs/release/1.20.0-notes.html#deprecations\n",
      "  method='lar', copy_X=True, eps=np.finfo(np.float).eps,\n",
      "C:\\Users\\EGO\\anaconda3\\envs\\praktikum_env_win_new\\lib\\site-packages\\sklearn\\linear_model\\least_angle.py:167: DeprecationWarning: `np.float` is a deprecated alias for the builtin `float`. To silence this warning, use `float` by itself. Doing this will not modify any behavior and is safe. If you specifically wanted the numpy scalar type, use `np.float64` here.\n",
      "Deprecated in NumPy 1.20; for more details and guidance: https://numpy.org/devdocs/release/1.20.0-notes.html#deprecations\n",
      "  method='lar', copy_X=True, eps=np.finfo(np.float).eps,\n",
      "C:\\Users\\EGO\\anaconda3\\envs\\praktikum_env_win_new\\lib\\site-packages\\sklearn\\linear_model\\least_angle.py:284: DeprecationWarning: `np.float` is a deprecated alias for the builtin `float`. To silence this warning, use `float` by itself. Doing this will not modify any behavior and is safe. If you specifically wanted the numpy scalar type, use `np.float64` here.\n",
      "Deprecated in NumPy 1.20; for more details and guidance: https://numpy.org/devdocs/release/1.20.0-notes.html#deprecations\n",
      "  eps=np.finfo(np.float).eps, copy_Gram=True, verbose=0,\n",
      "C:\\Users\\EGO\\anaconda3\\envs\\praktikum_env_win_new\\lib\\site-packages\\sklearn\\linear_model\\least_angle.py:862: DeprecationWarning: `np.float` is a deprecated alias for the builtin `float`. To silence this warning, use `float` by itself. Doing this will not modify any behavior and is safe. If you specifically wanted the numpy scalar type, use `np.float64` here.\n",
      "Deprecated in NumPy 1.20; for more details and guidance: https://numpy.org/devdocs/release/1.20.0-notes.html#deprecations\n",
      "  eps=np.finfo(np.float).eps, copy_X=True, fit_path=True,\n",
      "C:\\Users\\EGO\\anaconda3\\envs\\praktikum_env_win_new\\lib\\site-packages\\sklearn\\linear_model\\least_angle.py:1101: DeprecationWarning: `np.float` is a deprecated alias for the builtin `float`. To silence this warning, use `float` by itself. Doing this will not modify any behavior and is safe. If you specifically wanted the numpy scalar type, use `np.float64` here.\n",
      "Deprecated in NumPy 1.20; for more details and guidance: https://numpy.org/devdocs/release/1.20.0-notes.html#deprecations\n",
      "  eps=np.finfo(np.float).eps, copy_X=True, fit_path=True,\n",
      "C:\\Users\\EGO\\anaconda3\\envs\\praktikum_env_win_new\\lib\\site-packages\\sklearn\\linear_model\\least_angle.py:1127: DeprecationWarning: `np.float` is a deprecated alias for the builtin `float`. To silence this warning, use `float` by itself. Doing this will not modify any behavior and is safe. If you specifically wanted the numpy scalar type, use `np.float64` here.\n",
      "Deprecated in NumPy 1.20; for more details and guidance: https://numpy.org/devdocs/release/1.20.0-notes.html#deprecations\n",
      "  eps=np.finfo(np.float).eps, positive=False):\n",
      "C:\\Users\\EGO\\anaconda3\\envs\\praktikum_env_win_new\\lib\\site-packages\\sklearn\\linear_model\\least_angle.py:1362: DeprecationWarning: `np.float` is a deprecated alias for the builtin `float`. To silence this warning, use `float` by itself. Doing this will not modify any behavior and is safe. If you specifically wanted the numpy scalar type, use `np.float64` here.\n",
      "Deprecated in NumPy 1.20; for more details and guidance: https://numpy.org/devdocs/release/1.20.0-notes.html#deprecations\n",
      "  max_n_alphas=1000, n_jobs=None, eps=np.finfo(np.float).eps,\n",
      "C:\\Users\\EGO\\anaconda3\\envs\\praktikum_env_win_new\\lib\\site-packages\\sklearn\\linear_model\\least_angle.py:1602: DeprecationWarning: `np.float` is a deprecated alias for the builtin `float`. To silence this warning, use `float` by itself. Doing this will not modify any behavior and is safe. If you specifically wanted the numpy scalar type, use `np.float64` here.\n",
      "Deprecated in NumPy 1.20; for more details and guidance: https://numpy.org/devdocs/release/1.20.0-notes.html#deprecations\n",
      "  max_n_alphas=1000, n_jobs=None, eps=np.finfo(np.float).eps,\n",
      "C:\\Users\\EGO\\anaconda3\\envs\\praktikum_env_win_new\\lib\\site-packages\\sklearn\\linear_model\\least_angle.py:1738: DeprecationWarning: `np.float` is a deprecated alias for the builtin `float`. To silence this warning, use `float` by itself. Doing this will not modify any behavior and is safe. If you specifically wanted the numpy scalar type, use `np.float64` here.\n",
      "Deprecated in NumPy 1.20; for more details and guidance: https://numpy.org/devdocs/release/1.20.0-notes.html#deprecations\n",
      "  eps=np.finfo(np.float).eps, copy_X=True, positive=False):\n",
      "C:\\Users\\EGO\\anaconda3\\envs\\praktikum_env_win_new\\lib\\site-packages\\sklearn\\decomposition\\online_lda.py:29: DeprecationWarning: `np.float` is a deprecated alias for the builtin `float`. To silence this warning, use `float` by itself. Doing this will not modify any behavior and is safe. If you specifically wanted the numpy scalar type, use `np.float64` here.\n",
      "Deprecated in NumPy 1.20; for more details and guidance: https://numpy.org/devdocs/release/1.20.0-notes.html#deprecations\n",
      "  EPS = np.finfo(np.float).eps\n"
     ]
    }
   ],
   "source": [
    "import pandas as pd\n",
    "import os\n",
    "import seaborn as sns\n",
    "from sklearn.model_selection import train_test_split, GridSearchCV\n",
    "from sklearn.metrics import mean_squared_error\n",
    "from sklearn.linear_model import LinearRegression\n",
    "from sklearn.tree import DecisionTreeRegressor\n",
    "from lightgbm import LGBMRegressor\n",
    "from sklearn.preprocessing import OrdinalEncoder "
   ]
  },
  {
   "cell_type": "code",
   "execution_count": 3,
   "metadata": {
    "scrolled": true
   },
   "outputs": [
    {
     "data": {
      "text/html": [
       "<div>\n",
       "<style scoped>\n",
       "    .dataframe tbody tr th:only-of-type {\n",
       "        vertical-align: middle;\n",
       "    }\n",
       "\n",
       "    .dataframe tbody tr th {\n",
       "        vertical-align: top;\n",
       "    }\n",
       "\n",
       "    .dataframe thead th {\n",
       "        text-align: right;\n",
       "    }\n",
       "</style>\n",
       "<table border=\"1\" class=\"dataframe\">\n",
       "  <thead>\n",
       "    <tr style=\"text-align: right;\">\n",
       "      <th></th>\n",
       "      <th>DateCrawled</th>\n",
       "      <th>Price</th>\n",
       "      <th>VehicleType</th>\n",
       "      <th>RegistrationYear</th>\n",
       "      <th>Gearbox</th>\n",
       "      <th>Power</th>\n",
       "      <th>Model</th>\n",
       "      <th>Kilometer</th>\n",
       "      <th>RegistrationMonth</th>\n",
       "      <th>FuelType</th>\n",
       "      <th>Brand</th>\n",
       "      <th>NotRepaired</th>\n",
       "      <th>DateCreated</th>\n",
       "      <th>NumberOfPictures</th>\n",
       "      <th>PostalCode</th>\n",
       "      <th>LastSeen</th>\n",
       "    </tr>\n",
       "  </thead>\n",
       "  <tbody>\n",
       "    <tr>\n",
       "      <th>0</th>\n",
       "      <td>2016-03-24 11:52:17</td>\n",
       "      <td>480</td>\n",
       "      <td>NaN</td>\n",
       "      <td>1993</td>\n",
       "      <td>manual</td>\n",
       "      <td>0</td>\n",
       "      <td>golf</td>\n",
       "      <td>150000</td>\n",
       "      <td>0</td>\n",
       "      <td>petrol</td>\n",
       "      <td>volkswagen</td>\n",
       "      <td>NaN</td>\n",
       "      <td>2016-03-24 00:00:00</td>\n",
       "      <td>0</td>\n",
       "      <td>70435</td>\n",
       "      <td>2016-04-07 03:16:57</td>\n",
       "    </tr>\n",
       "    <tr>\n",
       "      <th>1</th>\n",
       "      <td>2016-03-24 10:58:45</td>\n",
       "      <td>18300</td>\n",
       "      <td>coupe</td>\n",
       "      <td>2011</td>\n",
       "      <td>manual</td>\n",
       "      <td>190</td>\n",
       "      <td>NaN</td>\n",
       "      <td>125000</td>\n",
       "      <td>5</td>\n",
       "      <td>gasoline</td>\n",
       "      <td>audi</td>\n",
       "      <td>yes</td>\n",
       "      <td>2016-03-24 00:00:00</td>\n",
       "      <td>0</td>\n",
       "      <td>66954</td>\n",
       "      <td>2016-04-07 01:46:50</td>\n",
       "    </tr>\n",
       "    <tr>\n",
       "      <th>2</th>\n",
       "      <td>2016-03-14 12:52:21</td>\n",
       "      <td>9800</td>\n",
       "      <td>suv</td>\n",
       "      <td>2004</td>\n",
       "      <td>auto</td>\n",
       "      <td>163</td>\n",
       "      <td>grand</td>\n",
       "      <td>125000</td>\n",
       "      <td>8</td>\n",
       "      <td>gasoline</td>\n",
       "      <td>jeep</td>\n",
       "      <td>NaN</td>\n",
       "      <td>2016-03-14 00:00:00</td>\n",
       "      <td>0</td>\n",
       "      <td>90480</td>\n",
       "      <td>2016-04-05 12:47:46</td>\n",
       "    </tr>\n",
       "    <tr>\n",
       "      <th>3</th>\n",
       "      <td>2016-03-17 16:54:04</td>\n",
       "      <td>1500</td>\n",
       "      <td>small</td>\n",
       "      <td>2001</td>\n",
       "      <td>manual</td>\n",
       "      <td>75</td>\n",
       "      <td>golf</td>\n",
       "      <td>150000</td>\n",
       "      <td>6</td>\n",
       "      <td>petrol</td>\n",
       "      <td>volkswagen</td>\n",
       "      <td>no</td>\n",
       "      <td>2016-03-17 00:00:00</td>\n",
       "      <td>0</td>\n",
       "      <td>91074</td>\n",
       "      <td>2016-03-17 17:40:17</td>\n",
       "    </tr>\n",
       "    <tr>\n",
       "      <th>4</th>\n",
       "      <td>2016-03-31 17:25:20</td>\n",
       "      <td>3600</td>\n",
       "      <td>small</td>\n",
       "      <td>2008</td>\n",
       "      <td>manual</td>\n",
       "      <td>69</td>\n",
       "      <td>fabia</td>\n",
       "      <td>90000</td>\n",
       "      <td>7</td>\n",
       "      <td>gasoline</td>\n",
       "      <td>skoda</td>\n",
       "      <td>no</td>\n",
       "      <td>2016-03-31 00:00:00</td>\n",
       "      <td>0</td>\n",
       "      <td>60437</td>\n",
       "      <td>2016-04-06 10:17:21</td>\n",
       "    </tr>\n",
       "  </tbody>\n",
       "</table>\n",
       "</div>"
      ],
      "text/plain": [
       "           DateCrawled  Price VehicleType  RegistrationYear Gearbox  Power  \\\n",
       "0  2016-03-24 11:52:17    480         NaN              1993  manual      0   \n",
       "1  2016-03-24 10:58:45  18300       coupe              2011  manual    190   \n",
       "2  2016-03-14 12:52:21   9800         suv              2004    auto    163   \n",
       "3  2016-03-17 16:54:04   1500       small              2001  manual     75   \n",
       "4  2016-03-31 17:25:20   3600       small              2008  manual     69   \n",
       "\n",
       "   Model  Kilometer  RegistrationMonth  FuelType       Brand NotRepaired  \\\n",
       "0   golf     150000                  0    petrol  volkswagen         NaN   \n",
       "1    NaN     125000                  5  gasoline        audi         yes   \n",
       "2  grand     125000                  8  gasoline        jeep         NaN   \n",
       "3   golf     150000                  6    petrol  volkswagen          no   \n",
       "4  fabia      90000                  7  gasoline       skoda          no   \n",
       "\n",
       "           DateCreated  NumberOfPictures  PostalCode             LastSeen  \n",
       "0  2016-03-24 00:00:00                 0       70435  2016-04-07 03:16:57  \n",
       "1  2016-03-24 00:00:00                 0       66954  2016-04-07 01:46:50  \n",
       "2  2016-03-14 00:00:00                 0       90480  2016-04-05 12:47:46  \n",
       "3  2016-03-17 00:00:00                 0       91074  2016-03-17 17:40:17  \n",
       "4  2016-03-31 00:00:00                 0       60437  2016-04-06 10:17:21  "
      ]
     },
     "metadata": {},
     "output_type": "display_data"
    },
    {
     "name": "stdout",
     "output_type": "stream",
     "text": [
      "<class 'pandas.core.frame.DataFrame'>\n",
      "RangeIndex: 354369 entries, 0 to 354368\n",
      "Data columns (total 16 columns):\n",
      " #   Column             Non-Null Count   Dtype \n",
      "---  ------             --------------   ----- \n",
      " 0   DateCrawled        354369 non-null  object\n",
      " 1   Price              354369 non-null  int64 \n",
      " 2   VehicleType        316879 non-null  object\n",
      " 3   RegistrationYear   354369 non-null  int64 \n",
      " 4   Gearbox            334536 non-null  object\n",
      " 5   Power              354369 non-null  int64 \n",
      " 6   Model              334664 non-null  object\n",
      " 7   Kilometer          354369 non-null  int64 \n",
      " 8   RegistrationMonth  354369 non-null  int64 \n",
      " 9   FuelType           321474 non-null  object\n",
      " 10  Brand              354369 non-null  object\n",
      " 11  NotRepaired        283215 non-null  object\n",
      " 12  DateCreated        354369 non-null  object\n",
      " 13  NumberOfPictures   354369 non-null  int64 \n",
      " 14  PostalCode         354369 non-null  int64 \n",
      " 15  LastSeen           354369 non-null  object\n",
      "dtypes: int64(7), object(9)\n",
      "memory usage: 43.3+ MB\n",
      "None\n"
     ]
    }
   ],
   "source": [
    "pth1 = 'autos.csv'\n",
    "pth2 = '/datasets/autos.csv'\n",
    "\n",
    "if os.path.exists(pth1):\n",
    "    df = pd.read_csv(pth1)\n",
    "    display(df.head())\n",
    "    print(df.info())\n",
    "elif os.path.exists(pth2):\n",
    "    df = pd.read_csv(pth2)\n",
    "    display(df.head())\n",
    "    print(df.info())\n",
    "else:\n",
    "    print('Something is wrong') "
   ]
  },
  {
   "cell_type": "code",
   "execution_count": 4,
   "metadata": {},
   "outputs": [
    {
     "name": "stdout",
     "output_type": "stream",
     "text": [
      "DateCrawled              0\n",
      "Price                    0\n",
      "VehicleType          37490\n",
      "RegistrationYear         0\n",
      "Gearbox              19833\n",
      "Power                    0\n",
      "Model                19705\n",
      "Kilometer                0\n",
      "RegistrationMonth        0\n",
      "FuelType             32895\n",
      "Brand                    0\n",
      "NotRepaired          71154\n",
      "DateCreated              0\n",
      "NumberOfPictures         0\n",
      "PostalCode               0\n",
      "LastSeen                 0\n",
      "dtype: int64\n",
      "------------------------------------\n",
      "Количество дубликатов: 4\n"
     ]
    }
   ],
   "source": [
    "print(df.isna().sum())\n",
    "print('------------------------------------')\n",
    "print('Количество дубликатов:',  df.duplicated().sum())"
   ]
  },
  {
   "cell_type": "code",
   "execution_count": 5,
   "metadata": {},
   "outputs": [],
   "source": [
    "df = df.drop_duplicates()"
   ]
  },
  {
   "cell_type": "markdown",
   "metadata": {},
   "source": [
    "## Предобработка данных"
   ]
  },
  {
   "cell_type": "markdown",
   "metadata": {},
   "source": [
    "**Price**"
   ]
  },
  {
   "cell_type": "code",
   "execution_count": 7,
   "metadata": {},
   "outputs": [
    {
     "data": {
      "text/plain": [
       "<AxesSubplot:xlabel='Price', ylabel='Count'>"
      ]
     },
     "execution_count": 7,
     "metadata": {},
     "output_type": "execute_result"
    },
    {
     "data": {
      "image/png": "[encoded data removed]",
      "text/plain": [
       "<Figure size 432x288 with 1 Axes>"
      ]
     },
     "metadata": {
      "needs_background": "light"
     },
     "output_type": "display_data"
    }
   ],
   "source": [
    "sns.histplot(df['Price'], bins=20)"
   ]
  },
  {
   "cell_type": "markdown",
   "metadata": {},
   "source": [
    "Проверим сколько людей отдают автомобиль 'бесплатно'"
   ]
  },
  {
   "cell_type": "code",
   "execution_count": 8,
   "metadata": {},
   "outputs": [
    {
     "name": "stdout",
     "output_type": "stream",
     "text": [
      "10772\n"
     ]
    }
   ],
   "source": [
    "print(len(df[df['Price'] == 0]))"
   ]
  },
  {
   "cell_type": "code",
   "execution_count": 9,
   "metadata": {},
   "outputs": [],
   "source": [
    "df = df[df['Price'] != 0]"
   ]
  },
  {
   "cell_type": "markdown",
   "metadata": {},
   "source": [
    "**VehicleType**"
   ]
  },
  {
   "cell_type": "code",
   "execution_count": 10,
   "metadata": {},
   "outputs": [
    {
     "data": {
      "text/plain": [
       "sedan          89405\n",
       "small          78017\n",
       "wagon          63700\n",
       "bus            28345\n",
       "convertible    19865\n",
       "coupe          15634\n",
       "suv            11791\n",
       "other           3086\n",
       "Name: VehicleType, dtype: int64"
      ]
     },
     "execution_count": 10,
     "metadata": {},
     "output_type": "execute_result"
    }
   ],
   "source": [
    "df['VehicleType'].value_counts()"
   ]
  },
  {
   "cell_type": "markdown",
   "metadata": {},
   "source": [
    "Заполним пропуски с помощью 'other'"
   ]
  },
  {
   "cell_type": "code",
   "execution_count": 11,
   "metadata": {},
   "outputs": [],
   "source": [
    "df['VehicleType'] = df['VehicleType'].fillna('other')"
   ]
  },
  {
   "cell_type": "code",
   "execution_count": 12,
   "metadata": {},
   "outputs": [
    {
     "data": {
      "text/plain": [
       "<AxesSubplot:xlabel='VehicleType', ylabel='Count'>"
      ]
     },
     "execution_count": 12,
     "metadata": {},
     "output_type": "execute_result"
    },
    {
     "data": {
      "image/png": "[encoded data removed]",
      "text/plain": [
       "<Figure size 432x288 with 1 Axes>"
      ]
     },
     "metadata": {
      "needs_background": "light"
     },
     "output_type": "display_data"
    }
   ],
   "source": [
    "sns.histplot(df['VehicleType'], bins=20)"
   ]
  },
  {
   "cell_type": "markdown",
   "metadata": {},
   "source": [
    "**Gearbox**"
   ]
  },
  {
   "cell_type": "code",
   "execution_count": 13,
   "metadata": {},
   "outputs": [
    {
     "data": {
      "text/plain": [
       "manual    261371\n",
       "auto       64867\n",
       "Name: Gearbox, dtype: int64"
      ]
     },
     "execution_count": 13,
     "metadata": {},
     "output_type": "execute_result"
    }
   ],
   "source": [
    "df['Gearbox'].value_counts()"
   ]
  },
  {
   "cell_type": "markdown",
   "metadata": {},
   "source": [
    "Заполним пропущенные значения с помощью 'unknown'"
   ]
  },
  {
   "cell_type": "code",
   "execution_count": 14,
   "metadata": {},
   "outputs": [],
   "source": [
    "df['Gearbox'] = df['Gearbox'].fillna('unknown')"
   ]
  },
  {
   "cell_type": "code",
   "execution_count": 15,
   "metadata": {},
   "outputs": [
    {
     "data": {
      "text/plain": [
       "<AxesSubplot:xlabel='Gearbox', ylabel='Count'>"
      ]
     },
     "execution_count": 15,
     "metadata": {},
     "output_type": "execute_result"
    },
    {
     "data": {
      "image/png": "[encoded data removed]",
      "text/plain": [
       "<Figure size 432x288 with 1 Axes>"
      ]
     },
     "metadata": {
      "needs_background": "light"
     },
     "output_type": "display_data"
    }
   ],
   "source": [
    "sns.histplot(df['Gearbox'], bins=20)"
   ]
  },
  {
   "cell_type": "markdown",
   "metadata": {},
   "source": [
    "**Model** "
   ]
  },
  {
   "cell_type": "code",
   "execution_count": 16,
   "metadata": {},
   "outputs": [
    {
     "data": {
      "text/plain": [
       "golf                  28246\n",
       "other                 23706\n",
       "3er                   19179\n",
       "polo                  12628\n",
       "corsa                 12197\n",
       "                      ...  \n",
       "serie_2                   8\n",
       "rangerover                4\n",
       "serie_3                   3\n",
       "range_rover_evoque        2\n",
       "serie_1                   1\n",
       "Name: Model, Length: 250, dtype: int64"
      ]
     },
     "execution_count": 16,
     "metadata": {},
     "output_type": "execute_result"
    }
   ],
   "source": [
    "df['Model'].value_counts()"
   ]
  },
  {
   "cell_type": "markdown",
   "metadata": {},
   "source": [
    "Заполним пропущенные значения с помощью 'other'"
   ]
  },
  {
   "cell_type": "code",
   "execution_count": 17,
   "metadata": {},
   "outputs": [],
   "source": [
    "df['Model'] = df['Model'].fillna('other')"
   ]
  },
  {
   "cell_type": "markdown",
   "metadata": {},
   "source": [
    "**FuelType**"
   ]
  },
  {
   "cell_type": "code",
   "execution_count": 18,
   "metadata": {},
   "outputs": [
    {
     "data": {
      "text/plain": [
       "petrol      210762\n",
       "gasoline     97167\n",
       "lpg           5166\n",
       "cng            554\n",
       "hybrid         227\n",
       "other          170\n",
       "electric        88\n",
       "Name: FuelType, dtype: int64"
      ]
     },
     "execution_count": 18,
     "metadata": {},
     "output_type": "execute_result"
    }
   ],
   "source": [
    "df['FuelType'].value_counts()"
   ]
  },
  {
   "cell_type": "markdown",
   "metadata": {},
   "source": [
    "По старой логике запоним с помошью 'other'"
   ]
  },
  {
   "cell_type": "code",
   "execution_count": 19,
   "metadata": {},
   "outputs": [],
   "source": [
    "df['FuelType'] = df['FuelType'].fillna('other')"
   ]
  },
  {
   "cell_type": "code",
   "execution_count": 20,
   "metadata": {},
   "outputs": [
    {
     "data": {
      "text/plain": [
       "<AxesSubplot:xlabel='FuelType', ylabel='Count'>"
      ]
     },
     "execution_count": 20,
     "metadata": {},
     "output_type": "execute_result"
    },
    {
     "data": {
      "image/png": "[encoded data removed]",
      "text/plain": [
       "<Figure size 432x288 with 1 Axes>"
      ]
     },
     "metadata": {
      "needs_background": "light"
     },
     "output_type": "display_data"
    }
   ],
   "source": [
    "sns.histplot(df['FuelType'], bins=20)"
   ]
  },
  {
   "cell_type": "markdown",
   "metadata": {},
   "source": [
    "**NotRepaired**"
   ]
  },
  {
   "cell_type": "code",
   "execution_count": 21,
   "metadata": {},
   "outputs": [
    {
     "data": {
      "text/plain": [
       "no     243679\n",
       "yes     34048\n",
       "Name: NotRepaired, dtype: int64"
      ]
     },
     "execution_count": 21,
     "metadata": {},
     "output_type": "execute_result"
    }
   ],
   "source": [
    "df['NotRepaired'].value_counts()"
   ]
  },
  {
   "cell_type": "code",
   "execution_count": 22,
   "metadata": {},
   "outputs": [],
   "source": [
    "df['NotRepaired'] = df['NotRepaired'].fillna('unknown')"
   ]
  },
  {
   "cell_type": "code",
   "execution_count": 23,
   "metadata": {},
   "outputs": [
    {
     "data": {
      "text/plain": [
       "<AxesSubplot:xlabel='NotRepaired', ylabel='Count'>"
      ]
     },
     "execution_count": 23,
     "metadata": {},
     "output_type": "execute_result"
    },
    {
     "data": {
      "image/png": "[encoded data removed]",
      "text/plain": [
       "<Figure size 432x288 with 1 Axes>"
      ]
     },
     "metadata": {
      "needs_background": "light"
     },
     "output_type": "display_data"
    }
   ],
   "source": [
    "sns.histplot(df['NotRepaired'], bins=20)"
   ]
  },
  {
   "cell_type": "markdown",
   "metadata": {},
   "source": [
    "**Результат**"
   ]
  },
  {
   "cell_type": "code",
   "execution_count": 24,
   "metadata": {},
   "outputs": [
    {
     "name": "stdout",
     "output_type": "stream",
     "text": [
      "DateCrawled          0\n",
      "Price                0\n",
      "VehicleType          0\n",
      "RegistrationYear     0\n",
      "Gearbox              0\n",
      "Power                0\n",
      "Model                0\n",
      "Kilometer            0\n",
      "RegistrationMonth    0\n",
      "FuelType             0\n",
      "Brand                0\n",
      "NotRepaired          0\n",
      "DateCreated          0\n",
      "NumberOfPictures     0\n",
      "PostalCode           0\n",
      "LastSeen             0\n",
      "dtype: int64\n"
     ]
    }
   ],
   "source": [
    "print(df.isna().sum())"
   ]
  },
  {
   "cell_type": "markdown",
   "metadata": {},
   "source": [
    "**DateCrawled**"
   ]
  },
  {
   "cell_type": "code",
   "execution_count": 25,
   "metadata": {},
   "outputs": [
    {
     "data": {
      "text/plain": [
       "2016-03-05 14:06:22    1\n",
       "2016-03-05 14:06:23    1\n",
       "2016-03-05 14:06:24    3\n",
       "2016-03-05 14:06:25    2\n",
       "2016-03-05 14:06:26    1\n",
       "                      ..\n",
       "2016-04-07 14:36:53    1\n",
       "2016-04-07 14:36:54    1\n",
       "2016-04-07 14:36:55    1\n",
       "2016-04-07 14:36:56    1\n",
       "2016-04-07 14:36:58    1\n",
       "Name: DateCrawled, Length: 265135, dtype: int64"
      ]
     },
     "execution_count": 25,
     "metadata": {},
     "output_type": "execute_result"
    }
   ],
   "source": [
    "df['DateCrawled'].value_counts().sort_index()"
   ]
  },
  {
   "cell_type": "markdown",
   "metadata": {},
   "source": [
    "**RegistrationYear**"
   ]
  },
  {
   "cell_type": "code",
   "execution_count": 26,
   "metadata": {},
   "outputs": [
    {
     "data": {
      "text/plain": [
       "1000    31\n",
       "1001     1\n",
       "1039     1\n",
       "1111     1\n",
       "1234     4\n",
       "        ..\n",
       "8500     1\n",
       "8888     1\n",
       "9000     2\n",
       "9450     1\n",
       "9999    18\n",
       "Name: RegistrationYear, Length: 140, dtype: int64"
      ]
     },
     "execution_count": 26,
     "metadata": {},
     "output_type": "execute_result"
    }
   ],
   "source": [
    "df['RegistrationYear'].value_counts().sort_index()"
   ]
  },
  {
   "cell_type": "code",
   "execution_count": 27,
   "metadata": {},
   "outputs": [
    {
     "data": {
      "text/plain": [
       "<AxesSubplot:xlabel='RegistrationYear', ylabel='Count'>"
      ]
     },
     "execution_count": 27,
     "metadata": {},
     "output_type": "execute_result"
    },
    {
     "data": {
      "image/png": "[encoded data removed]",
      "text/plain": [
       "<Figure size 432x288 with 1 Axes>"
      ]
     },
     "metadata": {
      "needs_background": "light"
     },
     "output_type": "display_data"
    }
   ],
   "source": [
    "sns.histplot(df['RegistrationYear'], bins=100)"
   ]
  },
  {
   "cell_type": "code",
   "execution_count": 28,
   "metadata": {},
   "outputs": [],
   "source": [
    "df = df.query('1920 < RegistrationYear < 2016')"
   ]
  },
  {
   "cell_type": "code",
   "execution_count": 29,
   "metadata": {},
   "outputs": [
    {
     "data": {
      "text/plain": [
       "1923       2\n",
       "1925       1\n",
       "1927       1\n",
       "1928       2\n",
       "1929       7\n",
       "        ... \n",
       "2011    9837\n",
       "2012    7119\n",
       "2013    4096\n",
       "2014    2505\n",
       "2015    1243\n",
       "Name: RegistrationYear, Length: 90, dtype: int64"
      ]
     },
     "execution_count": 29,
     "metadata": {},
     "output_type": "execute_result"
    }
   ],
   "source": [
    "df['RegistrationYear'].value_counts().sort_index()"
   ]
  },
  {
   "cell_type": "code",
   "execution_count": 30,
   "metadata": {},
   "outputs": [
    {
     "data": {
      "text/plain": [
       "<AxesSubplot:xlabel='RegistrationYear', ylabel='Count'>"
      ]
     },
     "execution_count": 30,
     "metadata": {},
     "output_type": "execute_result"
    },
    {
     "data": {
      "image/png": "[encoded data removed]",
      "text/plain": [
       "<Figure size 432x288 with 1 Axes>"
      ]
     },
     "metadata": {
      "needs_background": "light"
     },
     "output_type": "display_data"
    }
   ],
   "source": [
    "sns.histplot(df['RegistrationYear'], bins=50)"
   ]
  },
  {
   "cell_type": "markdown",
   "metadata": {},
   "source": [
    "**Power**"
   ]
  },
  {
   "cell_type": "code",
   "execution_count": 31,
   "metadata": {},
   "outputs": [
    {
     "data": {
      "text/plain": [
       "0        30243\n",
       "1           25\n",
       "2            8\n",
       "3            8\n",
       "4           30\n",
       "         ...  \n",
       "17932        1\n",
       "19208        1\n",
       "19211        1\n",
       "19312        1\n",
       "20000        1\n",
       "Name: Power, Length: 672, dtype: int64"
      ]
     },
     "execution_count": 31,
     "metadata": {},
     "output_type": "execute_result"
    }
   ],
   "source": [
    "df['Power'].value_counts().sort_index()"
   ]
  },
  {
   "cell_type": "markdown",
   "metadata": {},
   "source": [
    "Интернет говорит, что максимум для авто находится около 2000 лошадиных сил. Всё что выше можно смело удалить. У менее специфичных авто лошадиные силы могут достигать почти 500 (2022 Ford Super Duty F-350). Поэтому заменим средним всё что выше 500. \n",
    "\n",
    "Так же, у нас есть ретро авто. Возьму за эталон Ford Model A. У него около 40 лошадиных сил. Возьму люфт в 10 лошадиных сил. Получается, что всё что меньше 30 заменим средним знаением."
   ]
  },
  {
   "cell_type": "code",
   "execution_count": 32,
   "metadata": {},
   "outputs": [
    {
     "name": "stdout",
     "output_type": "stream",
     "text": [
      "                DateCrawled  Price  VehicleType  RegistrationYear  Gearbox  \\\n",
      "0       2016-03-24 11:52:17    480        other              1993   manual   \n",
      "1       2016-03-24 10:58:45  18300        coupe              2011   manual   \n",
      "2       2016-03-14 12:52:21   9800          suv              2004     auto   \n",
      "3       2016-03-17 16:54:04   1500        small              2001   manual   \n",
      "4       2016-03-31 17:25:20   3600        small              2008   manual   \n",
      "...                     ...    ...          ...               ...      ...   \n",
      "354363  2016-03-27 20:36:20   1150          bus              2000   manual   \n",
      "354365  2016-03-14 17:48:27   2200        other              2005  unknown   \n",
      "354366  2016-03-05 19:56:21   1199  convertible              2000     auto   \n",
      "354367  2016-03-19 18:57:12   9200          bus              1996   manual   \n",
      "354368  2016-03-20 19:41:08   3400        wagon              2002   manual   \n",
      "\n",
      "        Power        Model  Kilometer  RegistrationMonth  FuelType  \\\n",
      "0         105         golf     150000                  0    petrol   \n",
      "1         190        other     125000                  5  gasoline   \n",
      "2         163        grand     125000                  8  gasoline   \n",
      "3          75         golf     150000                  6    petrol   \n",
      "4          69        fabia      90000                  7  gasoline   \n",
      "...       ...          ...        ...                ...       ...   \n",
      "354363    105       zafira     150000                  3    petrol   \n",
      "354365    105        other      20000                  1     other   \n",
      "354366    101       fortwo     125000                  3    petrol   \n",
      "354367    102  transporter     150000                  3  gasoline   \n",
      "354368    100         golf     150000                  6  gasoline   \n",
      "\n",
      "                 Brand NotRepaired          DateCreated  NumberOfPictures  \\\n",
      "0           volkswagen     unknown  2016-03-24 00:00:00                 0   \n",
      "1                 audi         yes  2016-03-24 00:00:00                 0   \n",
      "2                 jeep     unknown  2016-03-14 00:00:00                 0   \n",
      "3           volkswagen          no  2016-03-17 00:00:00                 0   \n",
      "4                skoda          no  2016-03-31 00:00:00                 0   \n",
      "...                ...         ...                  ...               ...   \n",
      "354363            opel          no  2016-03-27 00:00:00                 0   \n",
      "354365  sonstige_autos     unknown  2016-03-14 00:00:00                 0   \n",
      "354366           smart          no  2016-03-05 00:00:00                 0   \n",
      "354367      volkswagen          no  2016-03-19 00:00:00                 0   \n",
      "354368      volkswagen     unknown  2016-03-20 00:00:00                 0   \n",
      "\n",
      "        PostalCode             LastSeen  \n",
      "0            70435  2016-04-07 03:16:57  \n",
      "1            66954  2016-04-07 01:46:50  \n",
      "2            90480  2016-04-05 12:47:46  \n",
      "3            91074  2016-03-17 17:40:17  \n",
      "4            60437  2016-04-06 10:17:21  \n",
      "...            ...                  ...  \n",
      "354363       26624  2016-03-29 10:17:23  \n",
      "354365       39576  2016-04-06 00:46:52  \n",
      "354366       26135  2016-03-11 18:17:12  \n",
      "354367       87439  2016-04-07 07:15:26  \n",
      "354368       40764  2016-03-24 12:45:21  \n",
      "\n",
      "[320737 rows x 16 columns]\n"
     ]
    }
   ],
   "source": [
    "median_p = df['Power'].median()\n",
    "df.loc[(df['Power'] > 500), 'Power'] = median_p\n",
    "df.loc[(df['Power'] < 30), 'Power'] = median_p\n",
    "print(df)"
   ]
  },
  {
   "cell_type": "code",
   "execution_count": 33,
   "metadata": {},
   "outputs": [
    {
     "data": {
      "text/plain": [
       "30      32\n",
       "31       7\n",
       "32       3\n",
       "33      48\n",
       "34     171\n",
       "      ... \n",
       "476     31\n",
       "487      2\n",
       "489      1\n",
       "490      1\n",
       "500     33\n",
       "Name: Power, Length: 377, dtype: int64"
      ]
     },
     "execution_count": 33,
     "metadata": {},
     "output_type": "execute_result"
    }
   ],
   "source": [
    "df['Power'].value_counts().sort_index()"
   ]
  },
  {
   "cell_type": "code",
   "execution_count": 34,
   "metadata": {},
   "outputs": [
    {
     "data": {
      "text/plain": [
       "<AxesSubplot:xlabel='Power', ylabel='Count'>"
      ]
     },
     "execution_count": 34,
     "metadata": {},
     "output_type": "execute_result"
    },
    {
     "data": {
      "image/png": "[encoded data removed]",
      "text/plain": [
       "<Figure size 432x288 with 1 Axes>"
      ]
     },
     "metadata": {
      "needs_background": "light"
     },
     "output_type": "display_data"
    }
   ],
   "source": [
    "sns.histplot(df['Power'], bins=100)"
   ]
  },
  {
   "cell_type": "code",
   "execution_count": 35,
   "metadata": {},
   "outputs": [
    {
     "name": "stdout",
     "output_type": "stream",
     "text": [
      "<class 'pandas.core.frame.DataFrame'>\n",
      "Int64Index: 320737 entries, 0 to 354368\n",
      "Data columns (total 16 columns):\n",
      " #   Column             Non-Null Count   Dtype \n",
      "---  ------             --------------   ----- \n",
      " 0   DateCrawled        320737 non-null  object\n",
      " 1   Price              320737 non-null  int64 \n",
      " 2   VehicleType        320737 non-null  object\n",
      " 3   RegistrationYear   320737 non-null  int64 \n",
      " 4   Gearbox            320737 non-null  object\n",
      " 5   Power              320737 non-null  int64 \n",
      " 6   Model              320737 non-null  object\n",
      " 7   Kilometer          320737 non-null  int64 \n",
      " 8   RegistrationMonth  320737 non-null  int64 \n",
      " 9   FuelType           320737 non-null  object\n",
      " 10  Brand              320737 non-null  object\n",
      " 11  NotRepaired        320737 non-null  object\n",
      " 12  DateCreated        320737 non-null  object\n",
      " 13  NumberOfPictures   320737 non-null  int64 \n",
      " 14  PostalCode         320737 non-null  int64 \n",
      " 15  LastSeen           320737 non-null  object\n",
      "dtypes: int64(7), object(9)\n",
      "memory usage: 41.6+ MB\n",
      "None\n"
     ]
    }
   ],
   "source": [
    "print(df.info())"
   ]
  },
  {
   "cell_type": "code",
   "execution_count": 36,
   "metadata": {},
   "outputs": [],
   "source": [
    "df = df.drop(['NumberOfPictures','LastSeen', 'PostalCode', 'DateCrawled', 'RegistrationMonth', 'DateCreated'], axis=1)"
   ]
  },
  {
   "cell_type": "markdown",
   "metadata": {},
   "source": [
    "## Обучение моделей"
   ]
  },
  {
   "cell_type": "markdown",
   "metadata": {},
   "source": [
    "Разбиваем на обучающею и на тестовую выборки"
   ]
  },
  {
   "cell_type": "code",
   "execution_count": 37,
   "metadata": {},
   "outputs": [],
   "source": [
    "target=df['Price']\n",
    "features=df.drop('Price', axis=1)\n",
    "features_train, features_test, target_train, target_test = train_test_split(\n",
    "        features,target, test_size=0.25, random_state=777)"
   ]
  },
  {
   "cell_type": "markdown",
   "metadata": {},
   "source": [
    "Разбиваем на обучающею и на тестовую выборки для простых моделей"
   ]
  },
  {
   "cell_type": "code",
   "execution_count": 38,
   "metadata": {},
   "outputs": [],
   "source": [
    "df_ohe = pd.get_dummies(df, drop_first=True)"
   ]
  },
  {
   "cell_type": "code",
   "execution_count": 39,
   "metadata": {},
   "outputs": [],
   "source": [
    "target_ohe=df_ohe['Price']\n",
    "features_ohe=df_ohe.drop('Price', axis=1)\n",
    "features_train_ohe, features_test_ohe, target_train_ohe, target_test_ohe = train_test_split(\n",
    "        features_ohe,target_ohe, test_size=0.25, random_state=12345)"
   ]
  },
  {
   "cell_type": "markdown",
   "metadata": {},
   "source": [
    "### Константная модель"
   ]
  },
  {
   "cell_type": "code",
   "execution_count": 40,
   "metadata": {},
   "outputs": [
    {
     "name": "stdout",
     "output_type": "stream",
     "text": [
      "RMSE константной модели: 4565.74\n"
     ]
    }
   ],
   "source": [
    "predict = predicted_const = pd.Series(target_test.mean(), index=target_test.index)\n",
    "rmse= mean_squared_error(target_test,predict)**0.5\n",
    "print('RMSE константной модели: {:.2f}'. format(rmse))"
   ]
  },
  {
   "cell_type": "markdown",
   "metadata": {},
   "source": [
    "### Линейная регрессия"
   ]
  },
  {
   "cell_type": "code",
   "execution_count": 41,
   "metadata": {
    "scrolled": true
   },
   "outputs": [
    {
     "name": "stderr",
     "output_type": "stream",
     "text": [
      "C:\\Users\\EGO\\anaconda3\\envs\\praktikum_env_win_new\\lib\\site-packages\\sklearn\\model_selection\\_split.py:442: DeprecationWarning: `np.int` is a deprecated alias for the builtin `int`. To silence this warning, use `int` by itself. Doing this will not modify any behavior and is safe. When replacing `np.int`, you may wish to use e.g. `np.int64` or `np.int32` to specify the precision. If you wish to review your current use, check the release note link for additional information.\n",
      "Deprecated in NumPy 1.20; for more details and guidance: https://numpy.org/devdocs/release/1.20.0-notes.html#deprecations\n",
      "  fold_sizes = np.full(n_splits, n_samples // n_splits, dtype=np.int)\n",
      "C:\\Users\\EGO\\anaconda3\\envs\\praktikum_env_win_new\\lib\\site-packages\\sklearn\\model_selection\\_split.py:102: DeprecationWarning: `np.bool` is a deprecated alias for the builtin `bool`. To silence this warning, use `bool` by itself. Doing this will not modify any behavior and is safe. If you specifically wanted the numpy scalar type, use `np.bool_` here.\n",
      "Deprecated in NumPy 1.20; for more details and guidance: https://numpy.org/devdocs/release/1.20.0-notes.html#deprecations\n",
      "  test_mask = np.zeros(_num_samples(X), dtype=np.bool)\n",
      "C:\\Users\\EGO\\anaconda3\\envs\\praktikum_env_win_new\\lib\\site-packages\\sklearn\\model_selection\\_split.py:102: DeprecationWarning: `np.bool` is a deprecated alias for the builtin `bool`. To silence this warning, use `bool` by itself. Doing this will not modify any behavior and is safe. If you specifically wanted the numpy scalar type, use `np.bool_` here.\n",
      "Deprecated in NumPy 1.20; for more details and guidance: https://numpy.org/devdocs/release/1.20.0-notes.html#deprecations\n",
      "  test_mask = np.zeros(_num_samples(X), dtype=np.bool)\n",
      "C:\\Users\\EGO\\anaconda3\\envs\\praktikum_env_win_new\\lib\\site-packages\\sklearn\\model_selection\\_split.py:102: DeprecationWarning: `np.bool` is a deprecated alias for the builtin `bool`. To silence this warning, use `bool` by itself. Doing this will not modify any behavior and is safe. If you specifically wanted the numpy scalar type, use `np.bool_` here.\n",
      "Deprecated in NumPy 1.20; for more details and guidance: https://numpy.org/devdocs/release/1.20.0-notes.html#deprecations\n",
      "  test_mask = np.zeros(_num_samples(X), dtype=np.bool)\n",
      "C:\\Users\\EGO\\anaconda3\\envs\\praktikum_env_win_new\\lib\\site-packages\\sklearn\\model_selection\\_split.py:102: DeprecationWarning: `np.bool` is a deprecated alias for the builtin `bool`. To silence this warning, use `bool` by itself. Doing this will not modify any behavior and is safe. If you specifically wanted the numpy scalar type, use `np.bool_` here.\n",
      "Deprecated in NumPy 1.20; for more details and guidance: https://numpy.org/devdocs/release/1.20.0-notes.html#deprecations\n",
      "  test_mask = np.zeros(_num_samples(X), dtype=np.bool)\n",
      "C:\\Users\\EGO\\anaconda3\\envs\\praktikum_env_win_new\\lib\\site-packages\\sklearn\\model_selection\\_split.py:102: DeprecationWarning: `np.bool` is a deprecated alias for the builtin `bool`. To silence this warning, use `bool` by itself. Doing this will not modify any behavior and is safe. If you specifically wanted the numpy scalar type, use `np.bool_` here.\n",
      "Deprecated in NumPy 1.20; for more details and guidance: https://numpy.org/devdocs/release/1.20.0-notes.html#deprecations\n",
      "  test_mask = np.zeros(_num_samples(X), dtype=np.bool)\n",
      "C:\\Users\\EGO\\anaconda3\\envs\\praktikum_env_win_new\\lib\\site-packages\\sklearn\\model_selection\\_search.py:793: DeprecationWarning: `np.int` is a deprecated alias for the builtin `int`. To silence this warning, use `int` by itself. Doing this will not modify any behavior and is safe. When replacing `np.int`, you may wish to use e.g. `np.int64` or `np.int32` to specify the precision. If you wish to review your current use, check the release note link for additional information.\n",
      "Deprecated in NumPy 1.20; for more details and guidance: https://numpy.org/devdocs/release/1.20.0-notes.html#deprecations\n",
      "  dtype=np.int)\n"
     ]
    },
    {
     "name": "stdout",
     "output_type": "stream",
     "text": [
      "RMSE модели:2651.14\n",
      "Лучшие гиперпараметры:  {'copy_X': True, 'fit_intercept': True, 'normalize': False}\n",
      "Wall time: 1min 23s\n"
     ]
    }
   ],
   "source": [
    "%%time\n",
    "liner_reg = LinearRegression()\n",
    "param = {'fit_intercept' : [True, False], 'normalize' : [True, False], 'copy_X' : [True, False]}\n",
    "grid = GridSearchCV(liner_reg, param, scoring='neg_mean_squared_error', cv=5)\n",
    "grid.fit(features_train_ohe, target_train_ohe)\n",
    "rmse=(-grid.best_score_)**0.5\n",
    "print('RMSE модели:{:.2f}'.format(rmse))\n",
    "print('Лучшие гиперпараметры: ', grid.best_params_)"
   ]
  },
  {
   "cell_type": "markdown",
   "metadata": {},
   "source": [
    "### Решающее дерево "
   ]
  },
  {
   "cell_type": "code",
   "execution_count": 45,
   "metadata": {},
   "outputs": [
    {
     "name": "stderr",
     "output_type": "stream",
     "text": [
      "C:\\Users\\EGO\\anaconda3\\envs\\praktikum_env_win_new\\lib\\site-packages\\sklearn\\preprocessing\\_encoders.py:110: DeprecationWarning: `np.int` is a deprecated alias for the builtin `int`. To silence this warning, use `int` by itself. Doing this will not modify any behavior and is safe. When replacing `np.int`, you may wish to use e.g. `np.int64` or `np.int32` to specify the precision. If you wish to review your current use, check the release note link for additional information.\n",
      "Deprecated in NumPy 1.20; for more details and guidance: https://numpy.org/devdocs/release/1.20.0-notes.html#deprecations\n",
      "  X_int = np.zeros((n_samples, n_features), dtype=np.int)\n",
      "C:\\Users\\EGO\\anaconda3\\envs\\praktikum_env_win_new\\lib\\site-packages\\sklearn\\preprocessing\\_encoders.py:111: DeprecationWarning: `np.bool` is a deprecated alias for the builtin `bool`. To silence this warning, use `bool` by itself. Doing this will not modify any behavior and is safe. If you specifically wanted the numpy scalar type, use `np.bool_` here.\n",
      "Deprecated in NumPy 1.20; for more details and guidance: https://numpy.org/devdocs/release/1.20.0-notes.html#deprecations\n",
      "  X_mask = np.ones((n_samples, n_features), dtype=np.bool)\n"
     ]
    }
   ],
   "source": [
    "df_ordinal = df\n",
    "encoder = OrdinalEncoder()\n",
    "encoder.fit(df_ordinal[['VehicleType', 'Gearbox', 'Model', 'FuelType', 'Brand', 'NotRepaired']])\n",
    "df_ordinal[['VehicleType', 'Gearbox', 'Model', 'FuelType', 'Brand', 'NotRepaired']] = encoder.transform(df[['VehicleType', 'Gearbox', 'Model', 'FuelType', 'Brand', 'NotRepaired']])"
   ]
  },
  {
   "cell_type": "code",
   "execution_count": 46,
   "metadata": {},
   "outputs": [
    {
     "data": {
      "text/html": [
       "<div>\n",
       "<style scoped>\n",
       "    .dataframe tbody tr th:only-of-type {\n",
       "        vertical-align: middle;\n",
       "    }\n",
       "\n",
       "    .dataframe tbody tr th {\n",
       "        vertical-align: top;\n",
       "    }\n",
       "\n",
       "    .dataframe thead th {\n",
       "        text-align: right;\n",
       "    }\n",
       "</style>\n",
       "<table border=\"1\" class=\"dataframe\">\n",
       "  <thead>\n",
       "    <tr style=\"text-align: right;\">\n",
       "      <th></th>\n",
       "      <th>Price</th>\n",
       "      <th>VehicleType</th>\n",
       "      <th>RegistrationYear</th>\n",
       "      <th>Gearbox</th>\n",
       "      <th>Power</th>\n",
       "      <th>Model</th>\n",
       "      <th>Kilometer</th>\n",
       "      <th>FuelType</th>\n",
       "      <th>Brand</th>\n",
       "      <th>NotRepaired</th>\n",
       "    </tr>\n",
       "  </thead>\n",
       "  <tbody>\n",
       "    <tr>\n",
       "      <th>0</th>\n",
       "      <td>480</td>\n",
       "      <td>3.0</td>\n",
       "      <td>1993</td>\n",
       "      <td>1.0</td>\n",
       "      <td>105</td>\n",
       "      <td>116.0</td>\n",
       "      <td>150000</td>\n",
       "      <td>6.0</td>\n",
       "      <td>38.0</td>\n",
       "      <td>1.0</td>\n",
       "    </tr>\n",
       "    <tr>\n",
       "      <th>1</th>\n",
       "      <td>18300</td>\n",
       "      <td>2.0</td>\n",
       "      <td>2011</td>\n",
       "      <td>1.0</td>\n",
       "      <td>190</td>\n",
       "      <td>166.0</td>\n",
       "      <td>125000</td>\n",
       "      <td>2.0</td>\n",
       "      <td>1.0</td>\n",
       "      <td>2.0</td>\n",
       "    </tr>\n",
       "    <tr>\n",
       "      <th>2</th>\n",
       "      <td>9800</td>\n",
       "      <td>6.0</td>\n",
       "      <td>2004</td>\n",
       "      <td>0.0</td>\n",
       "      <td>163</td>\n",
       "      <td>117.0</td>\n",
       "      <td>125000</td>\n",
       "      <td>2.0</td>\n",
       "      <td>14.0</td>\n",
       "      <td>1.0</td>\n",
       "    </tr>\n",
       "    <tr>\n",
       "      <th>3</th>\n",
       "      <td>1500</td>\n",
       "      <td>5.0</td>\n",
       "      <td>2001</td>\n",
       "      <td>1.0</td>\n",
       "      <td>75</td>\n",
       "      <td>116.0</td>\n",
       "      <td>150000</td>\n",
       "      <td>6.0</td>\n",
       "      <td>38.0</td>\n",
       "      <td>0.0</td>\n",
       "    </tr>\n",
       "    <tr>\n",
       "      <th>4</th>\n",
       "      <td>3600</td>\n",
       "      <td>5.0</td>\n",
       "      <td>2008</td>\n",
       "      <td>1.0</td>\n",
       "      <td>69</td>\n",
       "      <td>101.0</td>\n",
       "      <td>90000</td>\n",
       "      <td>2.0</td>\n",
       "      <td>31.0</td>\n",
       "      <td>0.0</td>\n",
       "    </tr>\n",
       "  </tbody>\n",
       "</table>\n",
       "</div>"
      ],
      "text/plain": [
       "   Price  VehicleType  RegistrationYear  Gearbox  Power  Model  Kilometer  \\\n",
       "0    480          3.0              1993      1.0    105  116.0     150000   \n",
       "1  18300          2.0              2011      1.0    190  166.0     125000   \n",
       "2   9800          6.0              2004      0.0    163  117.0     125000   \n",
       "3   1500          5.0              2001      1.0     75  116.0     150000   \n",
       "4   3600          5.0              2008      1.0     69  101.0      90000   \n",
       "\n",
       "   FuelType  Brand  NotRepaired  \n",
       "0       6.0   38.0          1.0  \n",
       "1       2.0    1.0          2.0  \n",
       "2       2.0   14.0          1.0  \n",
       "3       6.0   38.0          0.0  \n",
       "4       2.0   31.0          0.0  "
      ]
     },
     "metadata": {},
     "output_type": "display_data"
    }
   ],
   "source": [
    "display(df_ordinal.head())"
   ]
  },
  {
   "cell_type": "code",
   "execution_count": 47,
   "metadata": {},
   "outputs": [],
   "source": [
    "target_ordinal=df_ordinal['Price']\n",
    "features_ordinal=df_ordinal.drop('Price', axis=1)\n",
    "features_train_ordinal, features_test_ordinal, target_train_ordinal, target_test_ordinal = train_test_split(\n",
    "        features_ordinal,target_ordinal, test_size=0.25, random_state=12345)"
   ]
  },
  {
   "cell_type": "code",
   "execution_count": 48,
   "metadata": {},
   "outputs": [
    {
     "name": "stderr",
     "output_type": "stream",
     "text": [
      "C:\\Users\\EGO\\anaconda3\\envs\\praktikum_env_win_new\\lib\\site-packages\\sklearn\\model_selection\\_split.py:442: DeprecationWarning: `np.int` is a deprecated alias for the builtin `int`. To silence this warning, use `int` by itself. Doing this will not modify any behavior and is safe. When replacing `np.int`, you may wish to use e.g. `np.int64` or `np.int32` to specify the precision. If you wish to review your current use, check the release note link for additional information.\n",
      "Deprecated in NumPy 1.20; for more details and guidance: https://numpy.org/devdocs/release/1.20.0-notes.html#deprecations\n",
      "  fold_sizes = np.full(n_splits, n_samples // n_splits, dtype=np.int)\n",
      "C:\\Users\\EGO\\anaconda3\\envs\\praktikum_env_win_new\\lib\\site-packages\\sklearn\\model_selection\\_split.py:102: DeprecationWarning: `np.bool` is a deprecated alias for the builtin `bool`. To silence this warning, use `bool` by itself. Doing this will not modify any behavior and is safe. If you specifically wanted the numpy scalar type, use `np.bool_` here.\n",
      "Deprecated in NumPy 1.20; for more details and guidance: https://numpy.org/devdocs/release/1.20.0-notes.html#deprecations\n",
      "  test_mask = np.zeros(_num_samples(X), dtype=np.bool)\n",
      "C:\\Users\\EGO\\anaconda3\\envs\\praktikum_env_win_new\\lib\\site-packages\\sklearn\\model_selection\\_split.py:102: DeprecationWarning: `np.bool` is a deprecated alias for the builtin `bool`. To silence this warning, use `bool` by itself. Doing this will not modify any behavior and is safe. If you specifically wanted the numpy scalar type, use `np.bool_` here.\n",
      "Deprecated in NumPy 1.20; for more details and guidance: https://numpy.org/devdocs/release/1.20.0-notes.html#deprecations\n",
      "  test_mask = np.zeros(_num_samples(X), dtype=np.bool)\n",
      "C:\\Users\\EGO\\anaconda3\\envs\\praktikum_env_win_new\\lib\\site-packages\\sklearn\\model_selection\\_split.py:102: DeprecationWarning: `np.bool` is a deprecated alias for the builtin `bool`. To silence this warning, use `bool` by itself. Doing this will not modify any behavior and is safe. If you specifically wanted the numpy scalar type, use `np.bool_` here.\n",
      "Deprecated in NumPy 1.20; for more details and guidance: https://numpy.org/devdocs/release/1.20.0-notes.html#deprecations\n",
      "  test_mask = np.zeros(_num_samples(X), dtype=np.bool)\n",
      "C:\\Users\\EGO\\anaconda3\\envs\\praktikum_env_win_new\\lib\\site-packages\\sklearn\\model_selection\\_split.py:102: DeprecationWarning: `np.bool` is a deprecated alias for the builtin `bool`. To silence this warning, use `bool` by itself. Doing this will not modify any behavior and is safe. If you specifically wanted the numpy scalar type, use `np.bool_` here.\n",
      "Deprecated in NumPy 1.20; for more details and guidance: https://numpy.org/devdocs/release/1.20.0-notes.html#deprecations\n",
      "  test_mask = np.zeros(_num_samples(X), dtype=np.bool)\n",
      "C:\\Users\\EGO\\anaconda3\\envs\\praktikum_env_win_new\\lib\\site-packages\\sklearn\\model_selection\\_split.py:102: DeprecationWarning: `np.bool` is a deprecated alias for the builtin `bool`. To silence this warning, use `bool` by itself. Doing this will not modify any behavior and is safe. If you specifically wanted the numpy scalar type, use `np.bool_` here.\n",
      "Deprecated in NumPy 1.20; for more details and guidance: https://numpy.org/devdocs/release/1.20.0-notes.html#deprecations\n",
      "  test_mask = np.zeros(_num_samples(X), dtype=np.bool)\n",
      "C:\\Users\\EGO\\anaconda3\\envs\\praktikum_env_win_new\\lib\\site-packages\\sklearn\\model_selection\\_search.py:793: DeprecationWarning: `np.int` is a deprecated alias for the builtin `int`. To silence this warning, use `int` by itself. Doing this will not modify any behavior and is safe. When replacing `np.int`, you may wish to use e.g. `np.int64` or `np.int32` to specify the precision. If you wish to review your current use, check the release note link for additional information.\n",
      "Deprecated in NumPy 1.20; for more details and guidance: https://numpy.org/devdocs/release/1.20.0-notes.html#deprecations\n",
      "  dtype=np.int)\n"
     ]
    },
    {
     "name": "stdout",
     "output_type": "stream",
     "text": [
      "RMSE модели:1911.94\n",
      "Лучшие гиперпараметры:  {'max_depth': 15}\n",
      "Wall time: 15.3 s\n"
     ]
    }
   ],
   "source": [
    "%%time\n",
    "tr = DecisionTreeRegressor(random_state=777)\n",
    "param = {'max_depth': range(1, 21, 2)}\n",
    "grid = GridSearchCV(tr, param, scoring='neg_mean_squared_error', cv=5)\n",
    "grid.fit(features_train_ordinal, target_train_ordinal)\n",
    "rmse=(-grid.best_score_)**0.5\n",
    "print('RMSE модели:{:.2f}'.format(rmse))\n",
    "print('Лучшие гиперпараметры: ', grid.best_params_)"
   ]
  },
  {
   "cell_type": "markdown",
   "metadata": {},
   "source": [
    "**LightGBM**"
   ]
  },
  {
   "cell_type": "code",
   "execution_count": 52,
   "metadata": {},
   "outputs": [],
   "source": [
    "df[['VehicleType','Gearbox', 'Model', 'FuelType','Brand','NotRepaired']]= df[['VehicleType', 'Gearbox', 'Model', 'FuelType','Brand','NotRepaired']].astype('category')"
   ]
  },
  {
   "cell_type": "code",
   "execution_count": 53,
   "metadata": {},
   "outputs": [],
   "source": [
    "target_lgb=df['Price']\n",
    "features_lgb=df.drop('Price', axis=1)\n",
    "features_train_lgb, features_test_lgb, target_train_lgb, target_test_lgb = train_test_split(\n",
    "        features_lgb,target_lgb, test_size=0.25, random_state=777)"
   ]
  },
  {
   "cell_type": "code",
   "execution_count": 54,
   "metadata": {},
   "outputs": [
    {
     "name": "stdout",
     "output_type": "stream",
     "text": [
      "[LightGBM] [Warning] Unknown parameter: categorial_features\n"
     ]
    },
    {
     "name": "stderr",
     "output_type": "stream",
     "text": [
      "C:\\Users\\EGO\\anaconda3\\envs\\praktikum_env_win_new\\lib\\site-packages\\sklearn\\model_selection\\_split.py:442: DeprecationWarning: `np.int` is a deprecated alias for the builtin `int`. To silence this warning, use `int` by itself. Doing this will not modify any behavior and is safe. When replacing `np.int`, you may wish to use e.g. `np.int64` or `np.int32` to specify the precision. If you wish to review your current use, check the release note link for additional information.\n",
      "Deprecated in NumPy 1.20; for more details and guidance: https://numpy.org/devdocs/release/1.20.0-notes.html#deprecations\n",
      "  fold_sizes = np.full(n_splits, n_samples // n_splits, dtype=np.int)\n",
      "C:\\Users\\EGO\\anaconda3\\envs\\praktikum_env_win_new\\lib\\site-packages\\sklearn\\model_selection\\_split.py:102: DeprecationWarning: `np.bool` is a deprecated alias for the builtin `bool`. To silence this warning, use `bool` by itself. Doing this will not modify any behavior and is safe. If you specifically wanted the numpy scalar type, use `np.bool_` here.\n",
      "Deprecated in NumPy 1.20; for more details and guidance: https://numpy.org/devdocs/release/1.20.0-notes.html#deprecations\n",
      "  test_mask = np.zeros(_num_samples(X), dtype=np.bool)\n",
      "C:\\Users\\EGO\\anaconda3\\envs\\praktikum_env_win_new\\lib\\site-packages\\sklearn\\model_selection\\_split.py:102: DeprecationWarning: `np.bool` is a deprecated alias for the builtin `bool`. To silence this warning, use `bool` by itself. Doing this will not modify any behavior and is safe. If you specifically wanted the numpy scalar type, use `np.bool_` here.\n",
      "Deprecated in NumPy 1.20; for more details and guidance: https://numpy.org/devdocs/release/1.20.0-notes.html#deprecations\n",
      "  test_mask = np.zeros(_num_samples(X), dtype=np.bool)\n",
      "C:\\Users\\EGO\\anaconda3\\envs\\praktikum_env_win_new\\lib\\site-packages\\sklearn\\model_selection\\_split.py:102: DeprecationWarning: `np.bool` is a deprecated alias for the builtin `bool`. To silence this warning, use `bool` by itself. Doing this will not modify any behavior and is safe. If you specifically wanted the numpy scalar type, use `np.bool_` here.\n",
      "Deprecated in NumPy 1.20; for more details and guidance: https://numpy.org/devdocs/release/1.20.0-notes.html#deprecations\n",
      "  test_mask = np.zeros(_num_samples(X), dtype=np.bool)\n",
      "C:\\Users\\EGO\\anaconda3\\envs\\praktikum_env_win_new\\lib\\site-packages\\sklearn\\model_selection\\_split.py:102: DeprecationWarning: `np.bool` is a deprecated alias for the builtin `bool`. To silence this warning, use `bool` by itself. Doing this will not modify any behavior and is safe. If you specifically wanted the numpy scalar type, use `np.bool_` here.\n",
      "Deprecated in NumPy 1.20; for more details and guidance: https://numpy.org/devdocs/release/1.20.0-notes.html#deprecations\n",
      "  test_mask = np.zeros(_num_samples(X), dtype=np.bool)\n",
      "C:\\Users\\EGO\\anaconda3\\envs\\praktikum_env_win_new\\lib\\site-packages\\sklearn\\model_selection\\_split.py:102: DeprecationWarning: `np.bool` is a deprecated alias for the builtin `bool`. To silence this warning, use `bool` by itself. Doing this will not modify any behavior and is safe. If you specifically wanted the numpy scalar type, use `np.bool_` here.\n",
      "Deprecated in NumPy 1.20; for more details and guidance: https://numpy.org/devdocs/release/1.20.0-notes.html#deprecations\n",
      "  test_mask = np.zeros(_num_samples(X), dtype=np.bool)\n"
     ]
    },
    {
     "name": "stdout",
     "output_type": "stream",
     "text": [
      "[LightGBM] [Warning] Unknown parameter: categorial_features\n",
      "[LightGBM] [Warning] Unknown parameter: categorial_features\n",
      "[LightGBM] [Warning] Unknown parameter: categorial_features\n",
      "[LightGBM] [Warning] Unknown parameter: categorial_features\n",
      "[LightGBM] [Warning] Unknown parameter: categorial_features\n",
      "[LightGBM] [Warning] Unknown parameter: categorial_features\n",
      "[LightGBM] [Warning] Unknown parameter: categorial_features\n",
      "[LightGBM] [Warning] Unknown parameter: categorial_features\n",
      "[LightGBM] [Warning] Unknown parameter: categorial_features\n",
      "[LightGBM] [Warning] Unknown parameter: categorial_features\n",
      "[LightGBM] [Warning] Unknown parameter: categorial_features\n",
      "[LightGBM] [Warning] Unknown parameter: categorial_features\n",
      "[LightGBM] [Warning] Unknown parameter: categorial_features\n",
      "[LightGBM] [Warning] Unknown parameter: categorial_features\n",
      "[LightGBM] [Warning] Unknown parameter: categorial_features\n",
      "[LightGBM] [Warning] Unknown parameter: categorial_features\n",
      "[LightGBM] [Warning] Unknown parameter: categorial_features\n",
      "[LightGBM] [Warning] Unknown parameter: categorial_features\n",
      "[LightGBM] [Warning] Unknown parameter: categorial_features\n",
      "[LightGBM] [Warning] Unknown parameter: categorial_features\n",
      "[LightGBM] [Warning] Unknown parameter: categorial_features\n",
      "[LightGBM] [Warning] Unknown parameter: categorial_features\n",
      "[LightGBM] [Warning] Unknown parameter: categorial_features\n",
      "[LightGBM] [Warning] Unknown parameter: categorial_features\n",
      "[LightGBM] [Warning] Unknown parameter: categorial_features\n",
      "[LightGBM] [Warning] Unknown parameter: categorial_features\n",
      "[LightGBM] [Warning] Unknown parameter: categorial_features\n",
      "[LightGBM] [Warning] Unknown parameter: categorial_features\n",
      "[LightGBM] [Warning] Unknown parameter: categorial_features\n",
      "[LightGBM] [Warning] Unknown parameter: categorial_features\n",
      "[LightGBM] [Warning] Unknown parameter: categorial_features\n",
      "[LightGBM] [Warning] Unknown parameter: categorial_features\n",
      "[LightGBM] [Warning] Unknown parameter: categorial_features\n",
      "[LightGBM] [Warning] Unknown parameter: categorial_features\n",
      "[LightGBM] [Warning] Unknown parameter: categorial_features\n",
      "[LightGBM] [Warning] Unknown parameter: categorial_features\n",
      "[LightGBM] [Warning] Unknown parameter: categorial_features\n",
      "[LightGBM] [Warning] Unknown parameter: categorial_features\n",
      "[LightGBM] [Warning] Unknown parameter: categorial_features\n",
      "[LightGBM] [Warning] Unknown parameter: categorial_features\n",
      "[LightGBM] [Warning] Unknown parameter: categorial_features\n",
      "[LightGBM] [Warning] Unknown parameter: categorial_features\n",
      "[LightGBM] [Warning] Unknown parameter: categorial_features\n",
      "[LightGBM] [Warning] Unknown parameter: categorial_features\n",
      "[LightGBM] [Warning] Unknown parameter: categorial_features\n",
      "[LightGBM] [Warning] Unknown parameter: categorial_features\n",
      "[LightGBM] [Warning] Unknown parameter: categorial_features\n",
      "[LightGBM] [Warning] Unknown parameter: categorial_features\n",
      "[LightGBM] [Warning] Unknown parameter: categorial_features\n",
      "[LightGBM] [Warning] Unknown parameter: categorial_features\n",
      "[LightGBM] [Warning] Unknown parameter: categorial_features\n",
      "[LightGBM] [Warning] Unknown parameter: categorial_features\n",
      "[LightGBM] [Warning] Unknown parameter: categorial_features\n",
      "[LightGBM] [Warning] Unknown parameter: categorial_features\n",
      "[LightGBM] [Warning] Unknown parameter: categorial_features\n",
      "[LightGBM] [Warning] Unknown parameter: categorial_features\n",
      "[LightGBM] [Warning] Unknown parameter: categorial_features\n",
      "[LightGBM] [Warning] Unknown parameter: categorial_features\n",
      "[LightGBM] [Warning] Unknown parameter: categorial_features\n",
      "[LightGBM] [Warning] Unknown parameter: categorial_features\n",
      "[LightGBM] [Warning] Unknown parameter: categorial_features\n",
      "[LightGBM] [Warning] Unknown parameter: categorial_features\n",
      "[LightGBM] [Warning] Unknown parameter: categorial_features\n",
      "[LightGBM] [Warning] Unknown parameter: categorial_features\n",
      "[LightGBM] [Warning] Unknown parameter: categorial_features\n",
      "[LightGBM] [Warning] Unknown parameter: categorial_features\n",
      "[LightGBM] [Warning] Unknown parameter: categorial_features\n",
      "[LightGBM] [Warning] Unknown parameter: categorial_features\n",
      "[LightGBM] [Warning] Unknown parameter: categorial_features\n",
      "[LightGBM] [Warning] Unknown parameter: categorial_features\n",
      "[LightGBM] [Warning] Unknown parameter: categorial_features\n",
      "[LightGBM] [Warning] Unknown parameter: categorial_features\n",
      "[LightGBM] [Warning] Unknown parameter: categorial_features\n",
      "[LightGBM] [Warning] Unknown parameter: categorial_features\n",
      "[LightGBM] [Warning] Unknown parameter: categorial_features\n",
      "[LightGBM] [Warning] Unknown parameter: categorial_features\n",
      "[LightGBM] [Warning] Unknown parameter: categorial_features\n",
      "[LightGBM] [Warning] Unknown parameter: categorial_features\n",
      "[LightGBM] [Warning] Unknown parameter: categorial_features\n",
      "[LightGBM] [Warning] Unknown parameter: categorial_features\n",
      "[LightGBM] [Warning] Unknown parameter: categorial_features\n",
      "[LightGBM] [Warning] Unknown parameter: categorial_features\n",
      "[LightGBM] [Warning] Unknown parameter: categorial_features\n",
      "[LightGBM] [Warning] Unknown parameter: categorial_features\n",
      "[LightGBM] [Warning] Unknown parameter: categorial_features\n",
      "[LightGBM] [Warning] Unknown parameter: categorial_features\n",
      "[LightGBM] [Warning] Unknown parameter: categorial_features\n",
      "[LightGBM] [Warning] Unknown parameter: categorial_features\n",
      "[LightGBM] [Warning] Unknown parameter: categorial_features\n",
      "[LightGBM] [Warning] Unknown parameter: categorial_features\n",
      "[LightGBM] [Warning] Unknown parameter: categorial_features\n",
      "[LightGBM] [Warning] Unknown parameter: categorial_features\n",
      "[LightGBM] [Warning] Unknown parameter: categorial_features\n",
      "[LightGBM] [Warning] Unknown parameter: categorial_features\n",
      "[LightGBM] [Warning] Unknown parameter: categorial_features\n",
      "[LightGBM] [Warning] Unknown parameter: categorial_features\n",
      "[LightGBM] [Warning] Unknown parameter: categorial_features\n",
      "[LightGBM] [Warning] Unknown parameter: categorial_features\n",
      "[LightGBM] [Warning] Unknown parameter: categorial_features\n",
      "[LightGBM] [Warning] Unknown parameter: categorial_features\n",
      "[LightGBM] [Warning] Unknown parameter: categorial_features\n",
      "[LightGBM] [Warning] Unknown parameter: categorial_features\n",
      "[LightGBM] [Warning] Unknown parameter: categorial_features\n",
      "[LightGBM] [Warning] Unknown parameter: categorial_features\n",
      "[LightGBM] [Warning] Unknown parameter: categorial_features\n",
      "[LightGBM] [Warning] Unknown parameter: categorial_features\n",
      "[LightGBM] [Warning] Unknown parameter: categorial_features\n",
      "[LightGBM] [Warning] Unknown parameter: categorial_features\n",
      "[LightGBM] [Warning] Unknown parameter: categorial_features\n",
      "[LightGBM] [Warning] Unknown parameter: categorial_features\n",
      "[LightGBM] [Warning] Unknown parameter: categorial_features\n",
      "[LightGBM] [Warning] Unknown parameter: categorial_features\n",
      "[LightGBM] [Warning] Unknown parameter: categorial_features\n",
      "[LightGBM] [Warning] Unknown parameter: categorial_features\n",
      "[LightGBM] [Warning] Unknown parameter: categorial_features\n",
      "[LightGBM] [Warning] Unknown parameter: categorial_features\n",
      "[LightGBM] [Warning] Unknown parameter: categorial_features\n",
      "[LightGBM] [Warning] Unknown parameter: categorial_features\n",
      "[LightGBM] [Warning] Unknown parameter: categorial_features\n",
      "[LightGBM] [Warning] Unknown parameter: categorial_features\n",
      "[LightGBM] [Warning] Unknown parameter: categorial_features\n",
      "[LightGBM] [Warning] Unknown parameter: categorial_features\n",
      "[LightGBM] [Warning] Unknown parameter: categorial_features\n",
      "[LightGBM] [Warning] Unknown parameter: categorial_features\n",
      "[LightGBM] [Warning] Unknown parameter: categorial_features\n",
      "[LightGBM] [Warning] Unknown parameter: categorial_features\n",
      "[LightGBM] [Warning] Unknown parameter: categorial_features\n",
      "[LightGBM] [Warning] Unknown parameter: categorial_features\n",
      "[LightGBM] [Warning] Unknown parameter: categorial_features\n",
      "[LightGBM] [Warning] Unknown parameter: categorial_features\n",
      "[LightGBM] [Warning] Unknown parameter: categorial_features\n",
      "[LightGBM] [Warning] Unknown parameter: categorial_features\n",
      "[LightGBM] [Warning] Unknown parameter: categorial_features\n",
      "[LightGBM] [Warning] Unknown parameter: categorial_features\n",
      "[LightGBM] [Warning] Unknown parameter: categorial_features\n",
      "[LightGBM] [Warning] Unknown parameter: categorial_features\n",
      "[LightGBM] [Warning] Unknown parameter: categorial_features\n",
      "[LightGBM] [Warning] Unknown parameter: categorial_features\n",
      "[LightGBM] [Warning] Unknown parameter: categorial_features\n",
      "[LightGBM] [Warning] Unknown parameter: categorial_features\n",
      "[LightGBM] [Warning] Unknown parameter: categorial_features\n",
      "[LightGBM] [Warning] Unknown parameter: categorial_features\n",
      "[LightGBM] [Warning] Unknown parameter: categorial_features\n",
      "[LightGBM] [Warning] Unknown parameter: categorial_features\n",
      "[LightGBM] [Warning] Unknown parameter: categorial_features\n",
      "[LightGBM] [Warning] Unknown parameter: categorial_features\n",
      "[LightGBM] [Warning] Unknown parameter: categorial_features\n",
      "[LightGBM] [Warning] Unknown parameter: categorial_features\n",
      "[LightGBM] [Warning] Unknown parameter: categorial_features\n",
      "[LightGBM] [Warning] Unknown parameter: categorial_features\n",
      "[LightGBM] [Warning] Unknown parameter: categorial_features\n",
      "[LightGBM] [Warning] Unknown parameter: categorial_features\n",
      "[LightGBM] [Warning] Unknown parameter: categorial_features\n",
      "[LightGBM] [Warning] Unknown parameter: categorial_features\n",
      "[LightGBM] [Warning] Unknown parameter: categorial_features\n",
      "[LightGBM] [Warning] Unknown parameter: categorial_features\n",
      "[LightGBM] [Warning] Unknown parameter: categorial_features\n",
      "[LightGBM] [Warning] Unknown parameter: categorial_features\n",
      "[LightGBM] [Warning] Unknown parameter: categorial_features\n",
      "[LightGBM] [Warning] Unknown parameter: categorial_features\n",
      "[LightGBM] [Warning] Unknown parameter: categorial_features\n",
      "[LightGBM] [Warning] Unknown parameter: categorial_features\n",
      "[LightGBM] [Warning] Unknown parameter: categorial_features\n",
      "[LightGBM] [Warning] Unknown parameter: categorial_features\n",
      "[LightGBM] [Warning] Unknown parameter: categorial_features\n",
      "[LightGBM] [Warning] Unknown parameter: categorial_features\n",
      "[LightGBM] [Warning] Unknown parameter: categorial_features\n",
      "[LightGBM] [Warning] Unknown parameter: categorial_features\n",
      "[LightGBM] [Warning] Unknown parameter: categorial_features\n",
      "[LightGBM] [Warning] Unknown parameter: categorial_features\n",
      "[LightGBM] [Warning] Unknown parameter: categorial_features\n",
      "[LightGBM] [Warning] Unknown parameter: categorial_features\n",
      "[LightGBM] [Warning] Unknown parameter: categorial_features\n",
      "[LightGBM] [Warning] Unknown parameter: categorial_features\n",
      "[LightGBM] [Warning] Unknown parameter: categorial_features\n",
      "[LightGBM] [Warning] Unknown parameter: categorial_features\n",
      "[LightGBM] [Warning] Unknown parameter: categorial_features\n",
      "[LightGBM] [Warning] Unknown parameter: categorial_features\n",
      "[LightGBM] [Warning] Unknown parameter: categorial_features\n"
     ]
    },
    {
     "name": "stderr",
     "output_type": "stream",
     "text": [
      "C:\\Users\\EGO\\anaconda3\\envs\\praktikum_env_win_new\\lib\\site-packages\\sklearn\\model_selection\\_search.py:793: DeprecationWarning: `np.int` is a deprecated alias for the builtin `int`. To silence this warning, use `int` by itself. Doing this will not modify any behavior and is safe. When replacing `np.int`, you may wish to use e.g. `np.int64` or `np.int32` to specify the precision. If you wish to review your current use, check the release note link for additional information.\n",
      "Deprecated in NumPy 1.20; for more details and guidance: https://numpy.org/devdocs/release/1.20.0-notes.html#deprecations\n",
      "  dtype=np.int)\n"
     ]
    },
    {
     "name": "stdout",
     "output_type": "stream",
     "text": [
      "[LightGBM] [Warning] Unknown parameter: categorial_features\n",
      "RMSE модели:1594.11\n",
      "Лучшие гиперпараметры для модели градиентного бустинга:  {'boosting_type': 'dart', 'learning_rate': 0.5, 'max_depth': 10}\n",
      "Wall time: 2min 19s\n"
     ]
    }
   ],
   "source": [
    "%%time\n",
    "categorial_features = ['VehicleType','Gearbox', 'Model', 'FuelType','Brand','NotRepaired']\n",
    "lgb=LGBMRegressor(random_state=777, categorial_features=categorial_features)\n",
    "lgb_params = {'learning_rate':[0.1, 0.3, 0.5, 0.7], 'max_depth': [5, 10, 15],'boosting_type':['gbdt', 'dart', 'goss']}\n",
    "lgb_grid= GridSearchCV(lgb, lgb_params, scoring='neg_mean_squared_error',  cv=5)\n",
    "lgb_grid.fit(features_lgb, target_lgb)\n",
    "rmse=(-lgb_grid.best_score_)**0.5\n",
    "print('RMSE модели:{:.2f}'.format(rmse))\n",
    "print('Лучшие гиперпараметры для модели градиентного бустинга: ',lgb_grid.best_params_)"
   ]
  },
  {
   "cell_type": "code",
   "execution_count": 59,
   "metadata": {},
   "outputs": [
    {
     "name": "stdout",
     "output_type": "stream",
     "text": [
      "Wall time: 961 ms\n"
     ]
    },
    {
     "data": {
      "text/plain": [
       "LGBMRegressor(boosting_type='dart',\n",
       "              categorial_features=['VehicleType', 'Gearbox', 'Model',\n",
       "                                   'FuelType', 'Brand', 'NotRepaired'],\n",
       "              class_weight=None, colsample_bytree=1.0, importance_type='split',\n",
       "              learning_rate=0.5, max_depth=10, min_child_samples=20,\n",
       "              min_child_weight=0.001, min_split_gain=0.0, n_estimators=100,\n",
       "              n_jobs=-1, num_leaves=31, objective=None, random_state=777,\n",
       "              reg_alpha=0.0, reg_lambda=0.0, silent='warn', subsample=1.0,\n",
       "              subsample_for_bin=200000, subsample_freq=0)"
      ]
     },
     "execution_count": 59,
     "metadata": {},
     "output_type": "execute_result"
    }
   ],
   "source": [
    "%%time\n",
    "lgb_test = LGBMRegressor(categorial_features=categorial_features, learning_rate=0.5,max_depth=10, random_state=777, boosting_type='dart')\n",
    "lgb_test.fit(features_train_lgb, target_train_lgb)"
   ]
  },
  {
   "cell_type": "code",
   "execution_count": 60,
   "metadata": {},
   "outputs": [
    {
     "name": "stdout",
     "output_type": "stream",
     "text": [
      "Wall time: 88.1 ms\n"
     ]
    }
   ],
   "source": [
    "%%time\n",
    "predictions_lgb=lgb_test.predict(features_test_lgb)"
   ]
  },
  {
   "cell_type": "code",
   "execution_count": 61,
   "metadata": {},
   "outputs": [
    {
     "name": "stdout",
     "output_type": "stream",
     "text": [
      "RMSE для модели LGBM: 1592.67\n"
     ]
    }
   ],
   "source": [
    "mse = mean_squared_error(target_test_lgb,predictions_lgb)\n",
    "print('RMSE для модели LGBM: {:.2f}'.format((mse.mean()**0.5)))"
   ]
  },
  {
   "cell_type": "markdown",
   "metadata": {},
   "source": [
    "## Анализ моделей"
   ]
  },
  {
   "cell_type": "code",
   "execution_count": 64,
   "metadata": {},
   "outputs": [
    {
     "data": {
      "text/html": [
       "<div>\n",
       "<style scoped>\n",
       "    .dataframe tbody tr th:only-of-type {\n",
       "        vertical-align: middle;\n",
       "    }\n",
       "\n",
       "    .dataframe tbody tr th {\n",
       "        vertical-align: top;\n",
       "    }\n",
       "\n",
       "    .dataframe thead th {\n",
       "        text-align: right;\n",
       "    }\n",
       "</style>\n",
       "<table border=\"1\" class=\"dataframe\">\n",
       "  <thead>\n",
       "    <tr style=\"text-align: right;\">\n",
       "      <th></th>\n",
       "      <th>Модель</th>\n",
       "      <th>RMSE кросс-валидации</th>\n",
       "      <th>Результат на тестовой выборке</th>\n",
       "      <th>Время поиска параметров</th>\n",
       "    </tr>\n",
       "  </thead>\n",
       "  <tbody>\n",
       "    <tr>\n",
       "      <th>0</th>\n",
       "      <td>Linear Regression</td>\n",
       "      <td>2651.14</td>\n",
       "      <td>-</td>\n",
       "      <td>1min 23s</td>\n",
       "    </tr>\n",
       "    <tr>\n",
       "      <th>1</th>\n",
       "      <td>DecisionTree</td>\n",
       "      <td>1911.94</td>\n",
       "      <td>-</td>\n",
       "      <td>15.3 s</td>\n",
       "    </tr>\n",
       "    <tr>\n",
       "      <th>2</th>\n",
       "      <td>LightGBM</td>\n",
       "      <td>1594.11</td>\n",
       "      <td>1592.67</td>\n",
       "      <td>2min 19s</td>\n",
       "    </tr>\n",
       "  </tbody>\n",
       "</table>\n",
       "</div>"
      ],
      "text/plain": [
       "              Модель RMSE кросс-валидации  Результат на тестовой выборке  \\\n",
       "0  Linear Regression               2651.14                             -   \n",
       "1       DecisionTree               1911.94                             -   \n",
       "2           LightGBM               1594.11                       1592.67   \n",
       "\n",
       "  Время поиска параметров  \n",
       "0                1min 23s  \n",
       "1                  15.3 s  \n",
       "2                2min 19s  "
      ]
     },
     "metadata": {},
     "output_type": "display_data"
    }
   ],
   "source": [
    "data={'Модель': ['Linear Regression', 'DecisionTree', 'LightGBM'],\n",
    "     'RMSE кросс-валидации ':['2651.14' , '1911.94' , '1594.11'], 'Результат на тестовой выборке' : ['-', '-', '1592.67'], 'Время поиска параметров' : ['1min 23s', '15.3 s', '2min 19s']}\n",
    "pivot=pd.DataFrame.from_dict(data)\n",
    "display(pivot)"
   ]
  },
  {
   "cell_type": "markdown",
   "metadata": {},
   "source": [
    "## Вывод"
   ]
  },
  {
   "cell_type": "markdown",
   "metadata": {},
   "source": [
    "Были протестированы 3 модели. Линейная регрессия, дерево решений и модель градиентного бустинга. \n",
    "По результату побеждает модель градиентного бустинга. Но она более требовательна и требуется больше времени. "
   ]
  }
 ],
 "metadata": {
  "ExecuteTimeLog": [
   {
    "duration": 399,
    "start_time": "2022-07-10T17:01:59.537Z"
   },
   {
    "duration": 2800,
    "start_time": "2022-07-10T17:25:52.890Z"
   },
   {
    "duration": 947,
    "start_time": "2022-07-10T17:26:47.642Z"
   },
   {
    "duration": 121,
    "start_time": "2022-07-10T17:34:08.841Z"
   },
   {
    "duration": 574,
    "start_time": "2022-07-10T17:35:59.210Z"
   },
   {
    "duration": 574,
    "start_time": "2022-07-10T17:36:05.339Z"
   },
   {
    "duration": 596,
    "start_time": "2022-07-10T17:36:26.987Z"
   },
   {
    "duration": 78,
    "start_time": "2022-07-10T17:36:46.414Z"
   },
   {
    "duration": 515,
    "start_time": "2022-07-10T17:36:51.068Z"
   },
   {
    "duration": 586,
    "start_time": "2022-07-10T17:37:03.361Z"
   },
   {
    "duration": 8,
    "start_time": "2022-07-10T17:38:42.690Z"
   },
   {
    "duration": 949,
    "start_time": "2022-07-10T17:39:04.495Z"
   },
   {
    "duration": 3,
    "start_time": "2022-07-10T17:42:37.257Z"
   },
   {
    "duration": 4423,
    "start_time": "2022-07-10T17:42:37.261Z"
   },
   {
    "duration": 537,
    "start_time": "2022-07-10T17:42:41.686Z"
   },
   {
    "duration": 449,
    "start_time": "2022-07-10T17:46:44.897Z"
   },
   {
    "duration": 35,
    "start_time": "2022-07-10T17:55:54.342Z"
   },
   {
    "duration": 326,
    "start_time": "2022-07-10T18:03:23.349Z"
   },
   {
    "duration": 69,
    "start_time": "2022-07-10T18:05:40.967Z"
   },
   {
    "duration": 5,
    "start_time": "2022-07-10T18:05:56.879Z"
   },
   {
    "duration": 5,
    "start_time": "2022-07-10T18:06:16.466Z"
   },
   {
    "duration": 4,
    "start_time": "2022-07-10T18:06:31.987Z"
   },
   {
    "duration": 74,
    "start_time": "2022-07-10T18:06:43.254Z"
   },
   {
    "duration": 10,
    "start_time": "2022-07-10T18:06:47.963Z"
   },
   {
    "duration": 10,
    "start_time": "2022-07-10T18:07:48.945Z"
   },
   {
    "duration": 42,
    "start_time": "2022-07-10T18:08:29.177Z"
   },
   {
    "duration": 30,
    "start_time": "2022-07-10T18:08:38.516Z"
   },
   {
    "duration": 658,
    "start_time": "2022-07-10T18:18:55.317Z"
   },
   {
    "duration": 576,
    "start_time": "2022-07-10T18:19:24.115Z"
   },
   {
    "duration": 3,
    "start_time": "2022-07-10T18:19:35.223Z"
   },
   {
    "duration": 946,
    "start_time": "2022-07-10T18:19:35.229Z"
   },
   {
    "duration": 581,
    "start_time": "2022-07-10T18:19:36.177Z"
   },
   {
    "duration": 543,
    "start_time": "2022-07-10T18:19:36.760Z"
   },
   {
    "duration": 45,
    "start_time": "2022-07-10T18:19:37.305Z"
   },
   {
    "duration": 354,
    "start_time": "2022-07-10T18:19:37.353Z"
   },
   {
    "duration": 9,
    "start_time": "2022-07-10T18:19:37.709Z"
   },
   {
    "duration": 31,
    "start_time": "2022-07-10T18:19:37.721Z"
   },
   {
    "duration": 676,
    "start_time": "2022-07-10T18:19:37.754Z"
   },
   {
    "duration": 3,
    "start_time": "2022-07-10T18:20:50.950Z"
   },
   {
    "duration": 988,
    "start_time": "2022-07-10T18:20:50.955Z"
   },
   {
    "duration": 599,
    "start_time": "2022-07-10T18:20:51.946Z"
   },
   {
    "duration": 511,
    "start_time": "2022-07-10T18:20:52.547Z"
   },
   {
    "duration": 50,
    "start_time": "2022-07-10T18:20:53.060Z"
   },
   {
    "duration": 395,
    "start_time": "2022-07-10T18:20:53.112Z"
   },
   {
    "duration": 11,
    "start_time": "2022-07-10T18:20:53.510Z"
   },
   {
    "duration": 3,
    "start_time": "2022-07-10T18:20:53.523Z"
   },
   {
    "duration": 657,
    "start_time": "2022-07-10T18:20:53.528Z"
   },
   {
    "duration": 704,
    "start_time": "2022-07-10T18:24:36.978Z"
   },
   {
    "duration": 3,
    "start_time": "2022-07-10T18:25:58.256Z"
   },
   {
    "duration": 1068,
    "start_time": "2022-07-10T18:25:58.262Z"
   },
   {
    "duration": 644,
    "start_time": "2022-07-10T18:25:59.332Z"
   },
   {
    "duration": 3,
    "start_time": "2022-07-10T18:25:59.978Z"
   },
   {
    "duration": 28,
    "start_time": "2022-07-10T18:25:59.984Z"
   },
   {
    "duration": 414,
    "start_time": "2022-07-10T18:26:00.014Z"
   },
   {
    "duration": 13,
    "start_time": "2022-07-10T18:26:00.430Z"
   },
   {
    "duration": 11,
    "start_time": "2022-07-10T18:26:00.446Z"
   },
   {
    "duration": 757,
    "start_time": "2022-07-10T18:26:00.459Z"
   },
   {
    "duration": 83,
    "start_time": "2022-07-10T18:27:53.464Z"
   },
   {
    "duration": 5205,
    "start_time": "2022-07-10T18:28:03.270Z"
   },
   {
    "duration": 9,
    "start_time": "2022-07-10T18:30:26.676Z"
   },
   {
    "duration": 1631,
    "start_time": "2022-07-10T18:30:32.657Z"
   },
   {
    "duration": 46,
    "start_time": "2022-07-10T18:30:46.193Z"
   },
   {
    "duration": 10,
    "start_time": "2022-07-10T18:31:59.975Z"
   },
   {
    "duration": 1266,
    "start_time": "2022-07-10T18:32:07.496Z"
   },
   {
    "duration": 21,
    "start_time": "2022-07-10T18:32:23.819Z"
   },
   {
    "duration": 1344,
    "start_time": "2022-07-10T18:34:30.156Z"
   },
   {
    "duration": 3,
    "start_time": "2022-07-10T18:35:00.053Z"
   },
   {
    "duration": 995,
    "start_time": "2022-07-10T18:35:00.058Z"
   },
   {
    "duration": 560,
    "start_time": "2022-07-10T18:35:01.055Z"
   },
   {
    "duration": 2,
    "start_time": "2022-07-10T18:35:01.618Z"
   },
   {
    "duration": 10,
    "start_time": "2022-07-10T18:35:01.623Z"
   },
   {
    "duration": 362,
    "start_time": "2022-07-10T18:35:01.635Z"
   },
   {
    "duration": 15,
    "start_time": "2022-07-10T18:35:01.999Z"
   },
   {
    "duration": 3,
    "start_time": "2022-07-10T18:35:02.016Z"
   },
   {
    "duration": 37,
    "start_time": "2022-07-10T18:35:02.021Z"
   },
   {
    "duration": 43,
    "start_time": "2022-07-10T18:35:02.060Z"
   },
   {
    "duration": 30,
    "start_time": "2022-07-10T18:35:02.105Z"
   },
   {
    "duration": 29,
    "start_time": "2022-07-10T18:36:55.602Z"
   },
   {
    "duration": 51,
    "start_time": "2022-07-10T18:45:47.023Z"
   },
   {
    "duration": 110,
    "start_time": "2022-07-10T18:46:23.937Z"
   },
   {
    "duration": 22,
    "start_time": "2022-07-10T18:48:00.163Z"
   },
   {
    "duration": 44,
    "start_time": "2022-07-10T18:49:20.699Z"
   },
   {
    "duration": 19,
    "start_time": "2022-07-10T18:53:55.315Z"
   },
   {
    "duration": 3,
    "start_time": "2022-07-10T18:54:46.571Z"
   },
   {
    "duration": 1058,
    "start_time": "2022-07-10T18:54:46.576Z"
   },
   {
    "duration": 559,
    "start_time": "2022-07-10T18:54:47.636Z"
   },
   {
    "duration": 470,
    "start_time": "2022-07-10T18:54:48.197Z"
   },
   {
    "duration": 49,
    "start_time": "2022-07-10T18:54:48.669Z"
   },
   {
    "duration": 397,
    "start_time": "2022-07-10T18:54:48.720Z"
   },
   {
    "duration": 11,
    "start_time": "2022-07-10T18:54:49.118Z"
   },
   {
    "duration": 34,
    "start_time": "2022-07-10T18:54:49.131Z"
   },
   {
    "duration": 54,
    "start_time": "2022-07-10T18:54:49.168Z"
   },
   {
    "duration": 26,
    "start_time": "2022-07-10T18:54:49.224Z"
   },
   {
    "duration": 60,
    "start_time": "2022-07-10T18:54:49.253Z"
   },
   {
    "duration": 28,
    "start_time": "2022-07-10T18:54:49.315Z"
   },
   {
    "duration": 41,
    "start_time": "2022-07-10T18:54:49.346Z"
   },
   {
    "duration": 40,
    "start_time": "2022-07-10T18:54:49.400Z"
   },
   {
    "duration": 35,
    "start_time": "2022-07-10T18:54:49.442Z"
   },
   {
    "duration": 27,
    "start_time": "2022-07-10T18:54:49.480Z"
   },
   {
    "duration": 32,
    "start_time": "2022-07-10T18:59:21.944Z"
   },
   {
    "duration": 23,
    "start_time": "2022-07-10T18:59:41.545Z"
   },
   {
    "duration": 86,
    "start_time": "2022-07-10T19:00:05.475Z"
   },
   {
    "duration": 490,
    "start_time": "2022-07-10T19:01:39.536Z"
   },
   {
    "duration": 4218,
    "start_time": "2022-07-10T19:02:08.073Z"
   },
   {
    "duration": 4077,
    "start_time": "2022-07-10T19:02:29.019Z"
   },
   {
    "duration": 3898,
    "start_time": "2022-07-10T19:02:37.863Z"
   },
   {
    "duration": 497,
    "start_time": "2022-07-10T19:03:08.294Z"
   },
   {
    "duration": 433,
    "start_time": "2022-07-10T19:03:23.465Z"
   },
   {
    "duration": 379,
    "start_time": "2022-07-10T19:03:47.766Z"
   },
   {
    "duration": 4,
    "start_time": "2022-07-10T19:03:57.668Z"
   },
   {
    "duration": 1381,
    "start_time": "2022-07-10T19:03:57.675Z"
   },
   {
    "duration": 622,
    "start_time": "2022-07-10T19:03:59.059Z"
   },
   {
    "duration": 544,
    "start_time": "2022-07-10T19:03:59.684Z"
   },
   {
    "duration": 67,
    "start_time": "2022-07-10T19:04:00.231Z"
   },
   {
    "duration": 455,
    "start_time": "2022-07-10T19:04:00.301Z"
   },
   {
    "duration": 15,
    "start_time": "2022-07-10T19:04:00.758Z"
   },
   {
    "duration": 45,
    "start_time": "2022-07-10T19:04:00.775Z"
   },
   {
    "duration": 38,
    "start_time": "2022-07-10T19:04:00.822Z"
   },
   {
    "duration": 36,
    "start_time": "2022-07-10T19:04:00.862Z"
   },
   {
    "duration": 444,
    "start_time": "2022-07-10T19:04:00.901Z"
   },
   {
    "duration": 33,
    "start_time": "2022-07-10T19:04:01.347Z"
   },
   {
    "duration": 19,
    "start_time": "2022-07-10T19:04:01.399Z"
   },
   {
    "duration": 426,
    "start_time": "2022-07-10T19:04:01.422Z"
   },
   {
    "duration": 35,
    "start_time": "2022-07-10T19:04:01.851Z"
   },
   {
    "duration": 34,
    "start_time": "2022-07-10T19:04:01.897Z"
   },
   {
    "duration": 46,
    "start_time": "2022-07-10T19:04:01.934Z"
   },
   {
    "duration": 451,
    "start_time": "2022-07-10T19:04:01.998Z"
   },
   {
    "duration": 0,
    "start_time": "2022-07-10T19:04:02.451Z"
   },
   {
    "duration": 0,
    "start_time": "2022-07-10T19:04:02.453Z"
   },
   {
    "duration": 0,
    "start_time": "2022-07-10T19:04:02.455Z"
   },
   {
    "duration": 0,
    "start_time": "2022-07-10T19:04:02.456Z"
   },
   {
    "duration": 0,
    "start_time": "2022-07-10T19:04:02.458Z"
   },
   {
    "duration": 3,
    "start_time": "2022-07-10T19:04:36.467Z"
   },
   {
    "duration": 1120,
    "start_time": "2022-07-10T19:04:36.473Z"
   },
   {
    "duration": 685,
    "start_time": "2022-07-10T19:04:37.594Z"
   },
   {
    "duration": 591,
    "start_time": "2022-07-10T19:04:38.281Z"
   },
   {
    "duration": 73,
    "start_time": "2022-07-10T19:04:38.875Z"
   },
   {
    "duration": 482,
    "start_time": "2022-07-10T19:04:38.952Z"
   },
   {
    "duration": 15,
    "start_time": "2022-07-10T19:04:39.436Z"
   },
   {
    "duration": 46,
    "start_time": "2022-07-10T19:04:39.453Z"
   },
   {
    "duration": 54,
    "start_time": "2022-07-10T19:04:39.502Z"
   },
   {
    "duration": 22,
    "start_time": "2022-07-10T19:04:39.557Z"
   },
   {
    "duration": 452,
    "start_time": "2022-07-10T19:04:39.600Z"
   },
   {
    "duration": 30,
    "start_time": "2022-07-10T19:04:40.054Z"
   },
   {
    "duration": 32,
    "start_time": "2022-07-10T19:04:40.099Z"
   },
   {
    "duration": 488,
    "start_time": "2022-07-10T19:04:40.136Z"
   },
   {
    "duration": 57,
    "start_time": "2022-07-10T19:04:40.627Z"
   },
   {
    "duration": 34,
    "start_time": "2022-07-10T19:04:40.699Z"
   },
   {
    "duration": 36,
    "start_time": "2022-07-10T19:04:40.735Z"
   },
   {
    "duration": 27,
    "start_time": "2022-07-10T19:04:40.799Z"
   },
   {
    "duration": 49,
    "start_time": "2022-07-10T19:04:40.829Z"
   },
   {
    "duration": 42,
    "start_time": "2022-07-10T19:04:40.881Z"
   },
   {
    "duration": 450,
    "start_time": "2022-07-10T19:04:40.926Z"
   },
   {
    "duration": 106,
    "start_time": "2022-07-10T19:04:41.378Z"
   },
   {
    "duration": 462,
    "start_time": "2022-07-10T19:04:56.802Z"
   },
   {
    "duration": 3,
    "start_time": "2022-07-10T19:05:01.249Z"
   },
   {
    "duration": 1052,
    "start_time": "2022-07-10T19:05:01.254Z"
   },
   {
    "duration": 680,
    "start_time": "2022-07-10T19:05:02.310Z"
   },
   {
    "duration": 682,
    "start_time": "2022-07-10T19:05:02.991Z"
   },
   {
    "duration": 54,
    "start_time": "2022-07-10T19:05:03.677Z"
   },
   {
    "duration": 409,
    "start_time": "2022-07-10T19:05:03.734Z"
   },
   {
    "duration": 11,
    "start_time": "2022-07-10T19:05:04.145Z"
   },
   {
    "duration": 41,
    "start_time": "2022-07-10T19:05:04.158Z"
   },
   {
    "duration": 34,
    "start_time": "2022-07-10T19:05:04.201Z"
   },
   {
    "duration": 36,
    "start_time": "2022-07-10T19:05:04.237Z"
   },
   {
    "duration": 481,
    "start_time": "2022-07-10T19:05:04.275Z"
   },
   {
    "duration": 45,
    "start_time": "2022-07-10T19:05:04.758Z"
   },
   {
    "duration": 30,
    "start_time": "2022-07-10T19:05:04.806Z"
   },
   {
    "duration": 428,
    "start_time": "2022-07-10T19:05:04.841Z"
   },
   {
    "duration": 37,
    "start_time": "2022-07-10T19:05:05.271Z"
   },
   {
    "duration": 25,
    "start_time": "2022-07-10T19:05:05.310Z"
   },
   {
    "duration": 66,
    "start_time": "2022-07-10T19:05:05.337Z"
   },
   {
    "duration": 35,
    "start_time": "2022-07-10T19:05:05.405Z"
   },
   {
    "duration": 462,
    "start_time": "2022-07-10T19:05:05.443Z"
   },
   {
    "duration": 32,
    "start_time": "2022-07-10T19:05:05.908Z"
   },
   {
    "duration": 27,
    "start_time": "2022-07-10T19:05:05.943Z"
   },
   {
    "duration": 446,
    "start_time": "2022-07-10T19:05:05.972Z"
   },
   {
    "duration": 111,
    "start_time": "2022-07-10T19:05:06.420Z"
   },
   {
    "duration": 10,
    "start_time": "2022-07-10T19:08:39.166Z"
   },
   {
    "duration": 11,
    "start_time": "2022-07-10T19:09:17.972Z"
   },
   {
    "duration": 15,
    "start_time": "2022-07-10T19:09:27.367Z"
   },
   {
    "duration": 9,
    "start_time": "2022-07-10T19:10:11.754Z"
   },
   {
    "duration": 334,
    "start_time": "2022-07-10T19:10:39.746Z"
   },
   {
    "duration": 399,
    "start_time": "2022-07-10T19:10:49.074Z"
   },
   {
    "duration": 32,
    "start_time": "2022-07-10T19:12:01.753Z"
   },
   {
    "duration": 13,
    "start_time": "2022-07-10T19:12:08.112Z"
   },
   {
    "duration": 473,
    "start_time": "2022-07-10T19:12:31.238Z"
   },
   {
    "duration": 418,
    "start_time": "2022-07-10T19:12:36.046Z"
   },
   {
    "duration": 11,
    "start_time": "2022-07-10T19:13:30.254Z"
   },
   {
    "duration": 4,
    "start_time": "2022-07-10T19:23:32.495Z"
   },
   {
    "duration": 1067,
    "start_time": "2022-07-10T19:23:32.501Z"
   },
   {
    "duration": 624,
    "start_time": "2022-07-10T19:23:33.571Z"
   },
   {
    "duration": 542,
    "start_time": "2022-07-10T19:23:34.201Z"
   },
   {
    "duration": 72,
    "start_time": "2022-07-10T19:23:34.746Z"
   },
   {
    "duration": 408,
    "start_time": "2022-07-10T19:23:34.822Z"
   },
   {
    "duration": 9,
    "start_time": "2022-07-10T19:23:35.233Z"
   },
   {
    "duration": 26,
    "start_time": "2022-07-10T19:23:35.244Z"
   },
   {
    "duration": 60,
    "start_time": "2022-07-10T19:23:35.272Z"
   },
   {
    "duration": 18,
    "start_time": "2022-07-10T19:23:35.334Z"
   },
   {
    "duration": 469,
    "start_time": "2022-07-10T19:23:35.354Z"
   },
   {
    "duration": 50,
    "start_time": "2022-07-10T19:23:35.825Z"
   },
   {
    "duration": 34,
    "start_time": "2022-07-10T19:23:35.877Z"
   },
   {
    "duration": 456,
    "start_time": "2022-07-10T19:23:35.917Z"
   },
   {
    "duration": 60,
    "start_time": "2022-07-10T19:23:36.374Z"
   },
   {
    "duration": 19,
    "start_time": "2022-07-10T19:23:36.436Z"
   },
   {
    "duration": 30,
    "start_time": "2022-07-10T19:23:36.457Z"
   },
   {
    "duration": 34,
    "start_time": "2022-07-10T19:23:36.500Z"
   },
   {
    "duration": 539,
    "start_time": "2022-07-10T19:23:36.536Z"
   },
   {
    "duration": 51,
    "start_time": "2022-07-10T19:23:37.077Z"
   },
   {
    "duration": 31,
    "start_time": "2022-07-10T19:23:37.130Z"
   },
   {
    "duration": 450,
    "start_time": "2022-07-10T19:23:37.163Z"
   },
   {
    "duration": 115,
    "start_time": "2022-07-10T19:23:37.618Z"
   },
   {
    "duration": 19,
    "start_time": "2022-07-10T19:23:37.740Z"
   },
   {
    "duration": 462,
    "start_time": "2022-07-10T19:23:37.761Z"
   },
   {
    "duration": 41,
    "start_time": "2022-07-10T19:23:38.225Z"
   },
   {
    "duration": 8,
    "start_time": "2022-07-10T19:23:38.268Z"
   },
   {
    "duration": 407,
    "start_time": "2022-07-10T19:23:38.278Z"
   },
   {
    "duration": 19,
    "start_time": "2022-07-10T19:23:38.687Z"
   },
   {
    "duration": 109,
    "start_time": "2022-07-10T19:23:38.711Z"
   },
   {
    "duration": 55,
    "start_time": "2022-07-10T19:25:08.795Z"
   },
   {
    "duration": 441,
    "start_time": "2022-07-10T19:25:23.700Z"
   },
   {
    "duration": 422,
    "start_time": "2022-07-10T19:25:28.882Z"
   },
   {
    "duration": 31,
    "start_time": "2022-07-10T19:25:48.128Z"
   },
   {
    "duration": 23,
    "start_time": "2022-07-10T21:00:52.617Z"
   },
   {
    "duration": 397,
    "start_time": "2022-07-10T21:01:30.747Z"
   },
   {
    "duration": 103,
    "start_time": "2022-07-10T21:01:39.246Z"
   },
   {
    "duration": 1036,
    "start_time": "2022-07-10T21:03:13.863Z"
   },
   {
    "duration": 669,
    "start_time": "2022-07-10T21:03:28.264Z"
   },
   {
    "duration": 3,
    "start_time": "2022-07-10T21:08:12.979Z"
   },
   {
    "duration": 6,
    "start_time": "2022-07-10T21:08:49.972Z"
   },
   {
    "duration": 4,
    "start_time": "2022-07-10T21:12:40.556Z"
   },
   {
    "duration": 94,
    "start_time": "2022-07-10T21:13:03.691Z"
   },
   {
    "duration": 23,
    "start_time": "2022-07-10T21:13:27.457Z"
   },
   {
    "duration": 4,
    "start_time": "2022-07-10T21:13:31.647Z"
   },
   {
    "duration": 114,
    "start_time": "2022-07-10T21:23:29.250Z"
   },
   {
    "duration": 79,
    "start_time": "2022-07-10T21:23:50.469Z"
   },
   {
    "duration": 4,
    "start_time": "2022-07-10T21:24:16.224Z"
   },
   {
    "duration": 135,
    "start_time": "2022-07-10T21:24:41.733Z"
   },
   {
    "duration": 1586,
    "start_time": "2022-07-10T21:24:46.084Z"
   },
   {
    "duration": 3041,
    "start_time": "2022-07-10T21:24:47.672Z"
   },
   {
    "duration": 614,
    "start_time": "2022-07-10T21:24:50.715Z"
   },
   {
    "duration": 596,
    "start_time": "2022-07-10T21:24:51.332Z"
   },
   {
    "duration": 60,
    "start_time": "2022-07-10T21:24:51.930Z"
   },
   {
    "duration": 359,
    "start_time": "2022-07-10T21:24:51.998Z"
   },
   {
    "duration": 12,
    "start_time": "2022-07-10T21:24:52.359Z"
   },
   {
    "duration": 53,
    "start_time": "2022-07-10T21:24:52.373Z"
   },
   {
    "duration": 30,
    "start_time": "2022-07-10T21:24:52.428Z"
   },
   {
    "duration": 40,
    "start_time": "2022-07-10T21:24:52.461Z"
   },
   {
    "duration": 415,
    "start_time": "2022-07-10T21:24:52.503Z"
   },
   {
    "duration": 30,
    "start_time": "2022-07-10T21:24:52.920Z"
   },
   {
    "duration": 23,
    "start_time": "2022-07-10T21:24:52.952Z"
   },
   {
    "duration": 382,
    "start_time": "2022-07-10T21:24:52.978Z"
   },
   {
    "duration": 39,
    "start_time": "2022-07-10T21:24:53.363Z"
   },
   {
    "duration": 18,
    "start_time": "2022-07-10T21:24:53.404Z"
   },
   {
    "duration": 31,
    "start_time": "2022-07-10T21:24:53.424Z"
   },
   {
    "duration": 45,
    "start_time": "2022-07-10T21:24:53.457Z"
   },
   {
    "duration": 429,
    "start_time": "2022-07-10T21:24:53.504Z"
   },
   {
    "duration": 32,
    "start_time": "2022-07-10T21:24:53.935Z"
   },
   {
    "duration": 42,
    "start_time": "2022-07-10T21:24:53.969Z"
   },
   {
    "duration": 390,
    "start_time": "2022-07-10T21:24:54.014Z"
   },
   {
    "duration": 92,
    "start_time": "2022-07-10T21:24:54.406Z"
   },
   {
    "duration": 10,
    "start_time": "2022-07-10T21:24:54.500Z"
   },
   {
    "duration": 489,
    "start_time": "2022-07-10T21:24:54.512Z"
   },
   {
    "duration": 38,
    "start_time": "2022-07-10T21:24:55.003Z"
   },
   {
    "duration": 9,
    "start_time": "2022-07-10T21:24:55.043Z"
   },
   {
    "duration": 380,
    "start_time": "2022-07-10T21:24:55.056Z"
   },
   {
    "duration": 13,
    "start_time": "2022-07-10T21:24:55.438Z"
   },
   {
    "duration": 50,
    "start_time": "2022-07-10T21:24:55.454Z"
   },
   {
    "duration": 398,
    "start_time": "2022-07-10T21:24:55.506Z"
   },
   {
    "duration": 100,
    "start_time": "2022-07-10T21:24:55.906Z"
   },
   {
    "duration": 968,
    "start_time": "2022-07-10T21:24:56.007Z"
   },
   {
    "duration": 643,
    "start_time": "2022-07-10T21:24:56.978Z"
   },
   {
    "duration": 7,
    "start_time": "2022-07-10T21:24:57.623Z"
   },
   {
    "duration": 1193174,
    "start_time": "2022-07-10T21:24:57.633Z"
   },
   {
    "duration": 160,
    "start_time": "2022-07-10T21:47:59.760Z"
   },
   {
    "duration": 219298,
    "start_time": "2022-07-10T21:50:24.215Z"
   },
   {
    "duration": 1905,
    "start_time": "2022-07-11T10:30:49.786Z"
   },
   {
    "duration": 7,
    "start_time": "2022-07-11T10:31:15.991Z"
   },
   {
    "duration": 1543,
    "start_time": "2022-07-11T10:31:16.000Z"
   },
   {
    "duration": 749,
    "start_time": "2022-07-11T10:31:17.545Z"
   },
   {
    "duration": 594,
    "start_time": "2022-07-11T10:31:18.304Z"
   },
   {
    "duration": 48,
    "start_time": "2022-07-11T10:31:18.907Z"
   },
   {
    "duration": 428,
    "start_time": "2022-07-11T10:31:18.957Z"
   },
   {
    "duration": 18,
    "start_time": "2022-07-11T10:31:19.396Z"
   },
   {
    "duration": 41,
    "start_time": "2022-07-11T10:31:19.417Z"
   },
   {
    "duration": 62,
    "start_time": "2022-07-11T10:31:19.460Z"
   },
   {
    "duration": 19,
    "start_time": "2022-07-11T10:31:19.524Z"
   },
   {
    "duration": 508,
    "start_time": "2022-07-11T10:31:19.545Z"
   },
   {
    "duration": 66,
    "start_time": "2022-07-11T10:31:20.056Z"
   },
   {
    "duration": 25,
    "start_time": "2022-07-11T10:31:20.125Z"
   },
   {
    "duration": 476,
    "start_time": "2022-07-11T10:31:20.152Z"
   },
   {
    "duration": 64,
    "start_time": "2022-07-11T10:31:20.630Z"
   },
   {
    "duration": 46,
    "start_time": "2022-07-11T10:31:20.697Z"
   },
   {
    "duration": 55,
    "start_time": "2022-07-11T10:31:20.745Z"
   },
   {
    "duration": 38,
    "start_time": "2022-07-11T10:31:20.803Z"
   },
   {
    "duration": 512,
    "start_time": "2022-07-11T10:31:20.843Z"
   },
   {
    "duration": 67,
    "start_time": "2022-07-11T10:31:21.357Z"
   },
   {
    "duration": 34,
    "start_time": "2022-07-11T10:31:21.426Z"
   },
   {
    "duration": 569,
    "start_time": "2022-07-11T10:31:21.462Z"
   },
   {
    "duration": 117,
    "start_time": "2022-07-11T10:31:22.033Z"
   },
   {
    "duration": 62,
    "start_time": "2022-07-11T10:31:22.160Z"
   },
   {
    "duration": 508,
    "start_time": "2022-07-11T10:31:22.225Z"
   },
   {
    "duration": 59,
    "start_time": "2022-07-11T10:31:22.735Z"
   },
   {
    "duration": 34,
    "start_time": "2022-07-11T10:31:22.799Z"
   },
   {
    "duration": 453,
    "start_time": "2022-07-11T10:31:22.836Z"
   },
   {
    "duration": 13,
    "start_time": "2022-07-11T10:31:23.291Z"
   },
   {
    "duration": 51,
    "start_time": "2022-07-11T10:31:23.306Z"
   },
   {
    "duration": 419,
    "start_time": "2022-07-11T10:31:23.359Z"
   },
   {
    "duration": 104,
    "start_time": "2022-07-11T10:31:23.780Z"
   },
   {
    "duration": 957,
    "start_time": "2022-07-11T10:31:23.886Z"
   },
   {
    "duration": 677,
    "start_time": "2022-07-11T10:31:24.844Z"
   },
   {
    "duration": 5,
    "start_time": "2022-07-11T10:31:25.523Z"
   },
   {
    "duration": 2616681,
    "start_time": "2022-07-11T10:31:25.530Z"
   },
   {
    "duration": 1854,
    "start_time": "2022-07-11T11:17:28.895Z"
   },
   {
    "duration": 1135,
    "start_time": "2022-07-11T11:17:30.751Z"
   },
   {
    "duration": 737,
    "start_time": "2022-07-11T11:17:31.887Z"
   },
   {
    "duration": 609,
    "start_time": "2022-07-11T11:17:32.627Z"
   },
   {
    "duration": 52,
    "start_time": "2022-07-11T11:17:33.239Z"
   },
   {
    "duration": 364,
    "start_time": "2022-07-11T11:17:33.293Z"
   },
   {
    "duration": 16,
    "start_time": "2022-07-11T11:17:33.667Z"
   },
   {
    "duration": 54,
    "start_time": "2022-07-11T11:17:33.684Z"
   },
   {
    "duration": 43,
    "start_time": "2022-07-11T11:17:33.740Z"
   },
   {
    "duration": 48,
    "start_time": "2022-07-11T11:17:33.785Z"
   },
   {
    "duration": 486,
    "start_time": "2022-07-11T11:17:33.835Z"
   },
   {
    "duration": 45,
    "start_time": "2022-07-11T11:17:34.323Z"
   },
   {
    "duration": 35,
    "start_time": "2022-07-11T11:17:34.375Z"
   },
   {
    "duration": 448,
    "start_time": "2022-07-11T11:17:34.413Z"
   },
   {
    "duration": 50,
    "start_time": "2022-07-11T11:17:34.869Z"
   },
   {
    "duration": 22,
    "start_time": "2022-07-11T11:17:34.920Z"
   },
   {
    "duration": 55,
    "start_time": "2022-07-11T11:17:34.944Z"
   },
   {
    "duration": 27,
    "start_time": "2022-07-11T11:17:35.002Z"
   },
   {
    "duration": 488,
    "start_time": "2022-07-11T11:17:35.031Z"
   },
   {
    "duration": 31,
    "start_time": "2022-07-11T11:17:35.520Z"
   },
   {
    "duration": 41,
    "start_time": "2022-07-11T11:17:35.553Z"
   },
   {
    "duration": 529,
    "start_time": "2022-07-11T11:17:35.596Z"
   },
   {
    "duration": 115,
    "start_time": "2022-07-11T11:17:36.127Z"
   },
   {
    "duration": 33,
    "start_time": "2022-07-11T11:17:36.244Z"
   },
   {
    "duration": 431,
    "start_time": "2022-07-11T11:17:36.278Z"
   },
   {
    "duration": 33,
    "start_time": "2022-07-11T11:17:36.711Z"
   },
   {
    "duration": 26,
    "start_time": "2022-07-11T11:17:36.746Z"
   },
   {
    "duration": 366,
    "start_time": "2022-07-11T11:17:36.774Z"
   },
   {
    "duration": 9,
    "start_time": "2022-07-11T11:17:37.142Z"
   },
   {
    "duration": 40,
    "start_time": "2022-07-11T11:17:37.152Z"
   },
   {
    "duration": 416,
    "start_time": "2022-07-11T11:17:37.196Z"
   },
   {
    "duration": 108,
    "start_time": "2022-07-11T11:17:37.613Z"
   },
   {
    "duration": 945,
    "start_time": "2022-07-11T11:17:37.723Z"
   },
   {
    "duration": 679,
    "start_time": "2022-07-11T11:17:38.670Z"
   },
   {
    "duration": 6,
    "start_time": "2022-07-11T11:17:39.351Z"
   },
   {
    "duration": 1660,
    "start_time": "2022-07-11T12:10:41.706Z"
   },
   {
    "duration": 1120,
    "start_time": "2022-07-11T12:10:43.373Z"
   },
   {
    "duration": 700,
    "start_time": "2022-07-11T12:10:44.500Z"
   },
   {
    "duration": 584,
    "start_time": "2022-07-11T12:10:45.202Z"
   },
   {
    "duration": 50,
    "start_time": "2022-07-11T12:10:45.788Z"
   },
   {
    "duration": 370,
    "start_time": "2022-07-11T12:10:45.839Z"
   },
   {
    "duration": 9,
    "start_time": "2022-07-11T12:10:46.211Z"
   },
   {
    "duration": 53,
    "start_time": "2022-07-11T12:10:46.222Z"
   },
   {
    "duration": 44,
    "start_time": "2022-07-11T12:10:46.277Z"
   },
   {
    "duration": 31,
    "start_time": "2022-07-11T12:10:46.323Z"
   },
   {
    "duration": 465,
    "start_time": "2022-07-11T12:10:46.356Z"
   },
   {
    "duration": 33,
    "start_time": "2022-07-11T12:10:46.823Z"
   },
   {
    "duration": 48,
    "start_time": "2022-07-11T12:10:46.881Z"
   },
   {
    "duration": 414,
    "start_time": "2022-07-11T12:10:46.931Z"
   },
   {
    "duration": 57,
    "start_time": "2022-07-11T12:10:47.346Z"
   },
   {
    "duration": 26,
    "start_time": "2022-07-11T12:10:47.405Z"
   },
   {
    "duration": 61,
    "start_time": "2022-07-11T12:10:47.433Z"
   },
   {
    "duration": 21,
    "start_time": "2022-07-11T12:10:47.496Z"
   },
   {
    "duration": 476,
    "start_time": "2022-07-11T12:10:47.519Z"
   },
   {
    "duration": 34,
    "start_time": "2022-07-11T12:10:47.997Z"
   },
   {
    "duration": 39,
    "start_time": "2022-07-11T12:10:48.033Z"
   },
   {
    "duration": 540,
    "start_time": "2022-07-11T12:10:48.075Z"
   },
   {
    "duration": 108,
    "start_time": "2022-07-11T12:10:48.617Z"
   },
   {
    "duration": 8,
    "start_time": "2022-07-11T12:10:48.727Z"
   },
   {
    "duration": 444,
    "start_time": "2022-07-11T12:10:48.737Z"
   },
   {
    "duration": 41,
    "start_time": "2022-07-11T12:10:49.183Z"
   },
   {
    "duration": 9,
    "start_time": "2022-07-11T12:10:49.225Z"
   },
   {
    "duration": 374,
    "start_time": "2022-07-11T12:10:49.235Z"
   },
   {
    "duration": 8,
    "start_time": "2022-07-11T12:10:49.611Z"
   },
   {
    "duration": 27,
    "start_time": "2022-07-11T12:10:49.621Z"
   },
   {
    "duration": 374,
    "start_time": "2022-07-11T12:10:49.672Z"
   },
   {
    "duration": 100,
    "start_time": "2022-07-11T12:10:50.047Z"
   },
   {
    "duration": 957,
    "start_time": "2022-07-11T12:10:50.149Z"
   },
   {
    "duration": 665,
    "start_time": "2022-07-11T12:10:51.108Z"
   },
   {
    "duration": 8,
    "start_time": "2022-07-11T12:10:51.775Z"
   },
   {
    "duration": 2425779,
    "start_time": "2022-07-11T12:10:51.785Z"
   },
   {
    "duration": 29201,
    "start_time": "2022-07-11T12:51:17.572Z"
   },
   {
    "duration": 401,
    "start_time": "2022-07-11T12:51:46.864Z"
   },
   {
    "duration": 207,
    "start_time": "2022-07-11T12:51:47.268Z"
   },
   {
    "duration": 0,
    "start_time": "2022-07-11T12:51:47.477Z"
   },
   {
    "duration": 6094,
    "start_time": "2022-07-12T18:17:06.260Z"
   },
   {
    "duration": 2396,
    "start_time": "2022-07-12T18:17:12.357Z"
   },
   {
    "duration": 3938,
    "start_time": "2022-07-12T18:17:14.755Z"
   },
   {
    "duration": 664,
    "start_time": "2022-07-12T18:17:18.695Z"
   },
   {
    "duration": 571,
    "start_time": "2022-07-12T18:17:19.361Z"
   },
   {
    "duration": 43,
    "start_time": "2022-07-12T18:17:19.935Z"
   },
   {
    "duration": 450,
    "start_time": "2022-07-12T18:17:19.980Z"
   },
   {
    "duration": 11,
    "start_time": "2022-07-12T18:17:20.432Z"
   },
   {
    "duration": 40,
    "start_time": "2022-07-12T18:17:20.445Z"
   },
   {
    "duration": 60,
    "start_time": "2022-07-12T18:17:20.489Z"
   },
   {
    "duration": 19,
    "start_time": "2022-07-12T18:17:20.550Z"
   },
   {
    "duration": 475,
    "start_time": "2022-07-12T18:17:20.571Z"
   },
   {
    "duration": 30,
    "start_time": "2022-07-12T18:17:21.048Z"
   },
   {
    "duration": 46,
    "start_time": "2022-07-12T18:17:21.080Z"
   },
   {
    "duration": 432,
    "start_time": "2022-07-12T18:17:21.133Z"
   },
   {
    "duration": 51,
    "start_time": "2022-07-12T18:17:21.567Z"
   },
   {
    "duration": 32,
    "start_time": "2022-07-12T18:17:21.620Z"
   },
   {
    "duration": 31,
    "start_time": "2022-07-12T18:17:21.654Z"
   },
   {
    "duration": 36,
    "start_time": "2022-07-12T18:17:21.687Z"
   },
   {
    "duration": 511,
    "start_time": "2022-07-12T18:17:21.729Z"
   },
   {
    "duration": 31,
    "start_time": "2022-07-12T18:17:22.243Z"
   },
   {
    "duration": 77,
    "start_time": "2022-07-12T18:17:22.276Z"
   },
   {
    "duration": 590,
    "start_time": "2022-07-12T18:17:22.356Z"
   },
   {
    "duration": 92,
    "start_time": "2022-07-12T18:17:22.949Z"
   },
   {
    "duration": 10,
    "start_time": "2022-07-12T18:17:23.044Z"
   },
   {
    "duration": 490,
    "start_time": "2022-07-12T18:17:23.057Z"
   },
   {
    "duration": 32,
    "start_time": "2022-07-12T18:17:23.549Z"
   },
   {
    "duration": 44,
    "start_time": "2022-07-12T18:17:23.585Z"
   },
   {
    "duration": 415,
    "start_time": "2022-07-12T18:17:23.631Z"
   },
   {
    "duration": 10,
    "start_time": "2022-07-12T18:17:24.048Z"
   },
   {
    "duration": 47,
    "start_time": "2022-07-12T18:17:24.060Z"
   },
   {
    "duration": 528,
    "start_time": "2022-07-12T18:17:24.110Z"
   },
   {
    "duration": 4,
    "start_time": "2022-07-12T18:18:28.298Z"
   },
   {
    "duration": 1582,
    "start_time": "2022-07-14T11:43:53.542Z"
   },
   {
    "duration": 3036,
    "start_time": "2022-07-14T11:45:49.894Z"
   },
   {
    "duration": 833,
    "start_time": "2022-07-14T11:50:26.047Z"
   },
   {
    "duration": 58,
    "start_time": "2022-07-14T12:00:24.692Z"
   },
   {
    "duration": 54,
    "start_time": "2022-07-14T12:00:46.623Z"
   },
   {
    "duration": 50,
    "start_time": "2022-07-14T12:01:06.092Z"
   },
   {
    "duration": 21,
    "start_time": "2022-07-14T12:14:31.268Z"
   },
   {
    "duration": 86,
    "start_time": "2022-07-14T12:14:45.377Z"
   },
   {
    "duration": 54,
    "start_time": "2022-07-14T12:14:53.060Z"
   },
   {
    "duration": 52,
    "start_time": "2022-07-14T12:14:58.380Z"
   },
   {
    "duration": 4588,
    "start_time": "2022-07-14T12:15:10.523Z"
   },
   {
    "duration": 5,
    "start_time": "2022-07-14T12:15:15.113Z"
   },
   {
    "duration": 1044,
    "start_time": "2022-07-14T12:15:15.121Z"
   },
   {
    "duration": 516,
    "start_time": "2022-07-14T12:15:16.167Z"
   },
   {
    "duration": 446,
    "start_time": "2022-07-14T12:15:16.686Z"
   },
   {
    "duration": 2,
    "start_time": "2022-07-14T12:15:17.134Z"
   },
   {
    "duration": 323,
    "start_time": "2022-07-14T12:15:17.140Z"
   },
   {
    "duration": 12,
    "start_time": "2022-07-14T12:15:17.465Z"
   },
   {
    "duration": 66,
    "start_time": "2022-07-14T12:15:17.479Z"
   },
   {
    "duration": 30,
    "start_time": "2022-07-14T12:15:17.547Z"
   },
   {
    "duration": 27,
    "start_time": "2022-07-14T12:15:17.578Z"
   },
   {
    "duration": 423,
    "start_time": "2022-07-14T12:15:17.607Z"
   },
   {
    "duration": 30,
    "start_time": "2022-07-14T12:15:18.039Z"
   },
   {
    "duration": 29,
    "start_time": "2022-07-14T12:15:18.072Z"
   },
   {
    "duration": 371,
    "start_time": "2022-07-14T12:15:18.103Z"
   },
   {
    "duration": 31,
    "start_time": "2022-07-14T12:15:18.476Z"
   },
   {
    "duration": 33,
    "start_time": "2022-07-14T12:15:18.509Z"
   },
   {
    "duration": 32,
    "start_time": "2022-07-14T12:15:18.544Z"
   },
   {
    "duration": 23,
    "start_time": "2022-07-14T12:15:18.577Z"
   },
   {
    "duration": 422,
    "start_time": "2022-07-14T12:15:18.602Z"
   },
   {
    "duration": 36,
    "start_time": "2022-07-14T12:15:19.026Z"
   },
   {
    "duration": 23,
    "start_time": "2022-07-14T12:15:19.063Z"
   },
   {
    "duration": 459,
    "start_time": "2022-07-14T12:15:19.088Z"
   },
   {
    "duration": 110,
    "start_time": "2022-07-14T12:15:19.548Z"
   },
   {
    "duration": 856,
    "start_time": "2022-07-14T12:15:19.660Z"
   },
   {
    "duration": 10,
    "start_time": "2022-07-14T12:15:20.517Z"
   },
   {
    "duration": 411,
    "start_time": "2022-07-14T12:15:20.528Z"
   },
   {
    "duration": 51,
    "start_time": "2022-07-14T12:15:20.940Z"
   },
   {
    "duration": 8,
    "start_time": "2022-07-14T12:15:20.993Z"
   },
   {
    "duration": 328,
    "start_time": "2022-07-14T12:15:21.003Z"
   },
   {
    "duration": 11,
    "start_time": "2022-07-14T12:15:21.333Z"
   },
   {
    "duration": 40,
    "start_time": "2022-07-14T12:15:21.346Z"
   },
   {
    "duration": 20,
    "start_time": "2022-07-14T12:15:21.387Z"
   },
   {
    "duration": 74,
    "start_time": "2022-07-14T12:15:21.408Z"
   },
   {
    "duration": 401,
    "start_time": "2022-07-14T12:15:21.484Z"
   },
   {
    "duration": 26,
    "start_time": "2022-07-14T12:15:21.887Z"
   },
   {
    "duration": 90,
    "start_time": "2022-07-14T12:15:21.915Z"
   },
   {
    "duration": 949,
    "start_time": "2022-07-14T12:15:22.007Z"
   },
   {
    "duration": 508,
    "start_time": "2022-07-14T12:15:22.957Z"
   },
   {
    "duration": 127,
    "start_time": "2022-07-14T12:15:23.467Z"
   },
   {
    "duration": 0,
    "start_time": "2022-07-14T12:15:23.597Z"
   },
   {
    "duration": 0,
    "start_time": "2022-07-14T12:15:23.598Z"
   },
   {
    "duration": 0,
    "start_time": "2022-07-14T12:15:23.599Z"
   },
   {
    "duration": 0,
    "start_time": "2022-07-14T12:15:23.600Z"
   },
   {
    "duration": 0,
    "start_time": "2022-07-14T12:15:23.601Z"
   },
   {
    "duration": 0,
    "start_time": "2022-07-14T12:15:23.602Z"
   },
   {
    "duration": 0,
    "start_time": "2022-07-14T12:15:23.603Z"
   },
   {
    "duration": 0,
    "start_time": "2022-07-14T12:15:23.605Z"
   },
   {
    "duration": 0,
    "start_time": "2022-07-14T12:15:23.606Z"
   },
   {
    "duration": 1,
    "start_time": "2022-07-14T12:15:23.606Z"
   },
   {
    "duration": 0,
    "start_time": "2022-07-14T12:15:23.608Z"
   },
   {
    "duration": 0,
    "start_time": "2022-07-14T12:15:23.610Z"
   },
   {
    "duration": 0,
    "start_time": "2022-07-14T12:15:23.611Z"
   },
   {
    "duration": 0,
    "start_time": "2022-07-14T12:15:23.612Z"
   },
   {
    "duration": 0,
    "start_time": "2022-07-14T12:15:23.612Z"
   },
   {
    "duration": 0,
    "start_time": "2022-07-14T12:15:23.641Z"
   },
   {
    "duration": 4165,
    "start_time": "2022-07-14T12:16:47.009Z"
   },
   {
    "duration": 4,
    "start_time": "2022-07-14T12:16:51.176Z"
   },
   {
    "duration": 976,
    "start_time": "2022-07-14T12:16:51.182Z"
   },
   {
    "duration": 568,
    "start_time": "2022-07-14T12:16:52.159Z"
   },
   {
    "duration": 479,
    "start_time": "2022-07-14T12:16:52.730Z"
   },
   {
    "duration": 2,
    "start_time": "2022-07-14T12:16:53.211Z"
   },
   {
    "duration": 347,
    "start_time": "2022-07-14T12:16:53.215Z"
   },
   {
    "duration": 13,
    "start_time": "2022-07-14T12:16:53.563Z"
   },
   {
    "duration": 69,
    "start_time": "2022-07-14T12:16:53.578Z"
   },
   {
    "duration": 30,
    "start_time": "2022-07-14T12:16:53.649Z"
   },
   {
    "duration": 32,
    "start_time": "2022-07-14T12:16:53.681Z"
   },
   {
    "duration": 404,
    "start_time": "2022-07-14T12:16:53.714Z"
   },
   {
    "duration": 31,
    "start_time": "2022-07-14T12:16:54.120Z"
   },
   {
    "duration": 22,
    "start_time": "2022-07-14T12:16:54.154Z"
   },
   {
    "duration": 384,
    "start_time": "2022-07-14T12:16:54.178Z"
   },
   {
    "duration": 33,
    "start_time": "2022-07-14T12:16:54.564Z"
   },
   {
    "duration": 23,
    "start_time": "2022-07-14T12:16:54.598Z"
   },
   {
    "duration": 43,
    "start_time": "2022-07-14T12:16:54.622Z"
   },
   {
    "duration": 22,
    "start_time": "2022-07-14T12:16:54.667Z"
   },
   {
    "duration": 424,
    "start_time": "2022-07-14T12:16:54.691Z"
   },
   {
    "duration": 34,
    "start_time": "2022-07-14T12:16:55.117Z"
   },
   {
    "duration": 25,
    "start_time": "2022-07-14T12:16:55.153Z"
   },
   {
    "duration": 376,
    "start_time": "2022-07-14T12:16:55.180Z"
   },
   {
    "duration": 119,
    "start_time": "2022-07-14T12:16:55.557Z"
   },
   {
    "duration": 870,
    "start_time": "2022-07-14T12:16:55.678Z"
   },
   {
    "duration": 8,
    "start_time": "2022-07-14T12:16:56.550Z"
   },
   {
    "duration": 510,
    "start_time": "2022-07-14T12:16:56.559Z"
   },
   {
    "duration": 54,
    "start_time": "2022-07-14T12:16:57.071Z"
   },
   {
    "duration": 18,
    "start_time": "2022-07-14T12:16:57.127Z"
   },
   {
    "duration": 318,
    "start_time": "2022-07-14T12:16:57.147Z"
   },
   {
    "duration": 10,
    "start_time": "2022-07-14T12:16:57.467Z"
   },
   {
    "duration": 63,
    "start_time": "2022-07-14T12:16:57.479Z"
   },
   {
    "duration": 20,
    "start_time": "2022-07-14T12:16:57.543Z"
   },
   {
    "duration": 45,
    "start_time": "2022-07-14T12:16:57.565Z"
   },
   {
    "duration": 415,
    "start_time": "2022-07-14T12:16:57.612Z"
   },
   {
    "duration": 35,
    "start_time": "2022-07-14T12:16:58.029Z"
   },
   {
    "duration": 90,
    "start_time": "2022-07-14T12:16:58.066Z"
   },
   {
    "duration": 747,
    "start_time": "2022-07-14T12:16:58.158Z"
   },
   {
    "duration": 460,
    "start_time": "2022-07-14T12:16:58.907Z"
   },
   {
    "duration": 14,
    "start_time": "2022-07-14T12:16:59.369Z"
   },
   {
    "duration": 0,
    "start_time": "2022-07-14T12:16:59.385Z"
   },
   {
    "duration": 0,
    "start_time": "2022-07-14T12:16:59.386Z"
   },
   {
    "duration": 0,
    "start_time": "2022-07-14T12:16:59.387Z"
   },
   {
    "duration": 0,
    "start_time": "2022-07-14T12:16:59.388Z"
   },
   {
    "duration": 0,
    "start_time": "2022-07-14T12:16:59.389Z"
   },
   {
    "duration": 0,
    "start_time": "2022-07-14T12:16:59.390Z"
   },
   {
    "duration": 0,
    "start_time": "2022-07-14T12:16:59.391Z"
   },
   {
    "duration": 0,
    "start_time": "2022-07-14T12:16:59.392Z"
   },
   {
    "duration": 0,
    "start_time": "2022-07-14T12:16:59.393Z"
   },
   {
    "duration": 0,
    "start_time": "2022-07-14T12:16:59.394Z"
   },
   {
    "duration": 0,
    "start_time": "2022-07-14T12:16:59.395Z"
   },
   {
    "duration": 0,
    "start_time": "2022-07-14T12:16:59.396Z"
   },
   {
    "duration": 0,
    "start_time": "2022-07-14T12:16:59.398Z"
   },
   {
    "duration": 1,
    "start_time": "2022-07-14T12:16:59.398Z"
   },
   {
    "duration": 0,
    "start_time": "2022-07-14T12:16:59.399Z"
   },
   {
    "duration": 0,
    "start_time": "2022-07-14T12:16:59.400Z"
   },
   {
    "duration": 11,
    "start_time": "2022-07-14T12:17:36.066Z"
   },
   {
    "duration": 4342,
    "start_time": "2022-07-14T12:18:26.526Z"
   },
   {
    "duration": 4,
    "start_time": "2022-07-14T12:18:30.870Z"
   },
   {
    "duration": 1073,
    "start_time": "2022-07-14T12:18:30.876Z"
   },
   {
    "duration": 592,
    "start_time": "2022-07-14T12:18:31.951Z"
   },
   {
    "duration": 500,
    "start_time": "2022-07-14T12:18:32.546Z"
   },
   {
    "duration": 3,
    "start_time": "2022-07-14T12:18:33.048Z"
   },
   {
    "duration": 327,
    "start_time": "2022-07-14T12:18:33.053Z"
   },
   {
    "duration": 12,
    "start_time": "2022-07-14T12:18:33.382Z"
   },
   {
    "duration": 66,
    "start_time": "2022-07-14T12:18:33.395Z"
   },
   {
    "duration": 32,
    "start_time": "2022-07-14T12:18:33.463Z"
   },
   {
    "duration": 20,
    "start_time": "2022-07-14T12:18:33.496Z"
   },
   {
    "duration": 425,
    "start_time": "2022-07-14T12:18:33.518Z"
   },
   {
    "duration": 31,
    "start_time": "2022-07-14T12:18:33.945Z"
   },
   {
    "duration": 20,
    "start_time": "2022-07-14T12:18:33.981Z"
   },
   {
    "duration": 388,
    "start_time": "2022-07-14T12:18:34.003Z"
   },
   {
    "duration": 50,
    "start_time": "2022-07-14T12:18:34.393Z"
   },
   {
    "duration": 23,
    "start_time": "2022-07-14T12:18:34.445Z"
   },
   {
    "duration": 48,
    "start_time": "2022-07-14T12:18:34.471Z"
   },
   {
    "duration": 37,
    "start_time": "2022-07-14T12:18:34.521Z"
   },
   {
    "duration": 402,
    "start_time": "2022-07-14T12:18:34.560Z"
   },
   {
    "duration": 29,
    "start_time": "2022-07-14T12:18:34.964Z"
   },
   {
    "duration": 23,
    "start_time": "2022-07-14T12:18:34.995Z"
   },
   {
    "duration": 407,
    "start_time": "2022-07-14T12:18:35.020Z"
   },
   {
    "duration": 126,
    "start_time": "2022-07-14T12:18:35.429Z"
   },
   {
    "duration": 946,
    "start_time": "2022-07-14T12:18:35.557Z"
   },
   {
    "duration": 8,
    "start_time": "2022-07-14T12:18:36.505Z"
   },
   {
    "duration": 534,
    "start_time": "2022-07-14T12:18:36.515Z"
   },
   {
    "duration": 54,
    "start_time": "2022-07-14T12:18:37.051Z"
   },
   {
    "duration": 9,
    "start_time": "2022-07-14T12:18:37.106Z"
   },
   {
    "duration": 333,
    "start_time": "2022-07-14T12:18:37.116Z"
   },
   {
    "duration": 8,
    "start_time": "2022-07-14T12:18:37.451Z"
   },
   {
    "duration": 59,
    "start_time": "2022-07-14T12:18:37.461Z"
   },
   {
    "duration": 29,
    "start_time": "2022-07-14T12:18:37.522Z"
   },
   {
    "duration": 11,
    "start_time": "2022-07-14T12:18:37.552Z"
   },
   {
    "duration": 445,
    "start_time": "2022-07-14T12:18:37.564Z"
   },
   {
    "duration": 42,
    "start_time": "2022-07-14T12:18:38.011Z"
   },
   {
    "duration": 85,
    "start_time": "2022-07-14T12:18:38.055Z"
   },
   {
    "duration": 909,
    "start_time": "2022-07-14T12:18:38.142Z"
   },
   {
    "duration": 499,
    "start_time": "2022-07-14T12:18:39.053Z"
   },
   {
    "duration": 16,
    "start_time": "2022-07-14T12:18:39.554Z"
   },
   {
    "duration": 0,
    "start_time": "2022-07-14T12:18:39.573Z"
   },
   {
    "duration": 0,
    "start_time": "2022-07-14T12:18:39.575Z"
   },
   {
    "duration": 0,
    "start_time": "2022-07-14T12:18:39.576Z"
   },
   {
    "duration": 0,
    "start_time": "2022-07-14T12:18:39.578Z"
   },
   {
    "duration": 0,
    "start_time": "2022-07-14T12:18:39.579Z"
   },
   {
    "duration": 0,
    "start_time": "2022-07-14T12:18:39.581Z"
   },
   {
    "duration": 0,
    "start_time": "2022-07-14T12:18:39.582Z"
   },
   {
    "duration": 0,
    "start_time": "2022-07-14T12:18:39.584Z"
   },
   {
    "duration": 0,
    "start_time": "2022-07-14T12:18:39.585Z"
   },
   {
    "duration": 0,
    "start_time": "2022-07-14T12:18:39.587Z"
   },
   {
    "duration": 0,
    "start_time": "2022-07-14T12:18:39.588Z"
   },
   {
    "duration": 0,
    "start_time": "2022-07-14T12:18:39.590Z"
   },
   {
    "duration": 0,
    "start_time": "2022-07-14T12:18:39.591Z"
   },
   {
    "duration": 0,
    "start_time": "2022-07-14T12:18:39.593Z"
   },
   {
    "duration": 0,
    "start_time": "2022-07-14T12:18:39.641Z"
   },
   {
    "duration": 0,
    "start_time": "2022-07-14T12:18:39.642Z"
   },
   {
    "duration": 13,
    "start_time": "2022-07-14T12:22:03.922Z"
   },
   {
    "duration": 68,
    "start_time": "2022-07-14T12:22:49.230Z"
   },
   {
    "duration": 4219,
    "start_time": "2022-07-14T12:22:57.711Z"
   },
   {
    "duration": 5,
    "start_time": "2022-07-14T12:23:01.933Z"
   },
   {
    "duration": 993,
    "start_time": "2022-07-14T12:23:01.939Z"
   },
   {
    "duration": 586,
    "start_time": "2022-07-14T12:23:02.939Z"
   },
   {
    "duration": 499,
    "start_time": "2022-07-14T12:23:03.527Z"
   },
   {
    "duration": 2,
    "start_time": "2022-07-14T12:23:04.028Z"
   },
   {
    "duration": 317,
    "start_time": "2022-07-14T12:23:04.040Z"
   },
   {
    "duration": 12,
    "start_time": "2022-07-14T12:23:04.359Z"
   },
   {
    "duration": 47,
    "start_time": "2022-07-14T12:23:04.373Z"
   },
   {
    "duration": 45,
    "start_time": "2022-07-14T12:23:04.423Z"
   },
   {
    "duration": 18,
    "start_time": "2022-07-14T12:23:04.470Z"
   },
   {
    "duration": 415,
    "start_time": "2022-07-14T12:23:04.490Z"
   },
   {
    "duration": 36,
    "start_time": "2022-07-14T12:23:04.907Z"
   },
   {
    "duration": 22,
    "start_time": "2022-07-14T12:23:04.945Z"
   },
   {
    "duration": 410,
    "start_time": "2022-07-14T12:23:04.969Z"
   },
   {
    "duration": 35,
    "start_time": "2022-07-14T12:23:05.381Z"
   },
   {
    "duration": 29,
    "start_time": "2022-07-14T12:23:05.417Z"
   },
   {
    "duration": 32,
    "start_time": "2022-07-14T12:23:05.448Z"
   },
   {
    "duration": 22,
    "start_time": "2022-07-14T12:23:05.482Z"
   },
   {
    "duration": 430,
    "start_time": "2022-07-14T12:23:05.505Z"
   },
   {
    "duration": 31,
    "start_time": "2022-07-14T12:23:05.940Z"
   },
   {
    "duration": 26,
    "start_time": "2022-07-14T12:23:05.973Z"
   },
   {
    "duration": 385,
    "start_time": "2022-07-14T12:23:06.001Z"
   },
   {
    "duration": 131,
    "start_time": "2022-07-14T12:23:06.388Z"
   },
   {
    "duration": 929,
    "start_time": "2022-07-14T12:23:06.521Z"
   },
   {
    "duration": 8,
    "start_time": "2022-07-14T12:23:07.452Z"
   },
   {
    "duration": 411,
    "start_time": "2022-07-14T12:23:07.462Z"
   },
   {
    "duration": 50,
    "start_time": "2022-07-14T12:23:07.878Z"
   },
   {
    "duration": 8,
    "start_time": "2022-07-14T12:23:07.941Z"
   },
   {
    "duration": 348,
    "start_time": "2022-07-14T12:23:07.951Z"
   },
   {
    "duration": 9,
    "start_time": "2022-07-14T12:23:08.300Z"
   },
   {
    "duration": 38,
    "start_time": "2022-07-14T12:23:08.311Z"
   },
   {
    "duration": 11,
    "start_time": "2022-07-14T12:23:08.351Z"
   },
   {
    "duration": 577,
    "start_time": "2022-07-14T12:23:08.363Z"
   },
   {
    "duration": 126,
    "start_time": "2022-07-14T12:23:08.941Z"
   },
   {
    "duration": 34,
    "start_time": "2022-07-14T12:23:09.069Z"
   },
   {
    "duration": 98,
    "start_time": "2022-07-14T12:23:09.105Z"
   },
   {
    "duration": 984,
    "start_time": "2022-07-14T12:23:09.205Z"
   },
   {
    "duration": 508,
    "start_time": "2022-07-14T12:23:10.191Z"
   },
   {
    "duration": 14,
    "start_time": "2022-07-14T12:23:10.701Z"
   },
   {
    "duration": 0,
    "start_time": "2022-07-14T12:23:10.717Z"
   },
   {
    "duration": 0,
    "start_time": "2022-07-14T12:23:10.718Z"
   },
   {
    "duration": 0,
    "start_time": "2022-07-14T12:23:10.719Z"
   },
   {
    "duration": 0,
    "start_time": "2022-07-14T12:23:10.720Z"
   },
   {
    "duration": 0,
    "start_time": "2022-07-14T12:23:10.721Z"
   },
   {
    "duration": 0,
    "start_time": "2022-07-14T12:23:10.740Z"
   },
   {
    "duration": 0,
    "start_time": "2022-07-14T12:23:10.741Z"
   },
   {
    "duration": 0,
    "start_time": "2022-07-14T12:23:10.743Z"
   },
   {
    "duration": 0,
    "start_time": "2022-07-14T12:23:10.744Z"
   },
   {
    "duration": 0,
    "start_time": "2022-07-14T12:23:10.745Z"
   },
   {
    "duration": 0,
    "start_time": "2022-07-14T12:23:10.746Z"
   },
   {
    "duration": 0,
    "start_time": "2022-07-14T12:23:10.747Z"
   },
   {
    "duration": 0,
    "start_time": "2022-07-14T12:23:10.748Z"
   },
   {
    "duration": 0,
    "start_time": "2022-07-14T12:23:10.749Z"
   },
   {
    "duration": 0,
    "start_time": "2022-07-14T12:23:10.750Z"
   },
   {
    "duration": 0,
    "start_time": "2022-07-14T12:23:10.752Z"
   },
   {
    "duration": 9,
    "start_time": "2022-07-14T12:37:24.515Z"
   },
   {
    "duration": 3,
    "start_time": "2022-07-14T12:37:32.877Z"
   },
   {
    "duration": 596,
    "start_time": "2022-07-14T12:37:39.483Z"
   },
   {
    "duration": 22,
    "start_time": "2022-07-14T12:38:07.725Z"
   },
   {
    "duration": 4155,
    "start_time": "2022-07-14T12:38:51.320Z"
   },
   {
    "duration": 5,
    "start_time": "2022-07-14T12:38:55.477Z"
   },
   {
    "duration": 973,
    "start_time": "2022-07-14T12:38:55.483Z"
   },
   {
    "duration": 557,
    "start_time": "2022-07-14T12:38:56.458Z"
   },
   {
    "duration": 478,
    "start_time": "2022-07-14T12:38:57.018Z"
   },
   {
    "duration": 3,
    "start_time": "2022-07-14T12:38:57.497Z"
   },
   {
    "duration": 355,
    "start_time": "2022-07-14T12:38:57.502Z"
   },
   {
    "duration": 12,
    "start_time": "2022-07-14T12:38:57.859Z"
   },
   {
    "duration": 48,
    "start_time": "2022-07-14T12:38:57.873Z"
   },
   {
    "duration": 46,
    "start_time": "2022-07-14T12:38:57.922Z"
   },
   {
    "duration": 20,
    "start_time": "2022-07-14T12:38:57.970Z"
   },
   {
    "duration": 401,
    "start_time": "2022-07-14T12:38:57.991Z"
   },
   {
    "duration": 29,
    "start_time": "2022-07-14T12:38:58.394Z"
   },
   {
    "duration": 26,
    "start_time": "2022-07-14T12:38:58.426Z"
   },
   {
    "duration": 380,
    "start_time": "2022-07-14T12:38:58.454Z"
   },
   {
    "duration": 31,
    "start_time": "2022-07-14T12:38:58.840Z"
   },
   {
    "duration": 21,
    "start_time": "2022-07-14T12:38:58.873Z"
   },
   {
    "duration": 29,
    "start_time": "2022-07-14T12:38:58.895Z"
   },
   {
    "duration": 19,
    "start_time": "2022-07-14T12:38:58.940Z"
   },
   {
    "duration": 414,
    "start_time": "2022-07-14T12:38:58.960Z"
   },
   {
    "duration": 30,
    "start_time": "2022-07-14T12:38:59.376Z"
   },
   {
    "duration": 35,
    "start_time": "2022-07-14T12:38:59.408Z"
   },
   {
    "duration": 357,
    "start_time": "2022-07-14T12:38:59.445Z"
   },
   {
    "duration": 122,
    "start_time": "2022-07-14T12:38:59.804Z"
   },
   {
    "duration": 945,
    "start_time": "2022-07-14T12:38:59.928Z"
   },
   {
    "duration": 9,
    "start_time": "2022-07-14T12:39:00.875Z"
   },
   {
    "duration": 415,
    "start_time": "2022-07-14T12:39:00.887Z"
   },
   {
    "duration": 64,
    "start_time": "2022-07-14T12:39:01.304Z"
   },
   {
    "duration": 10,
    "start_time": "2022-07-14T12:39:01.369Z"
   },
   {
    "duration": 318,
    "start_time": "2022-07-14T12:39:01.381Z"
   },
   {
    "duration": 8,
    "start_time": "2022-07-14T12:39:01.701Z"
   },
   {
    "duration": 38,
    "start_time": "2022-07-14T12:39:01.711Z"
   },
   {
    "duration": 11,
    "start_time": "2022-07-14T12:39:01.751Z"
   },
   {
    "duration": 410,
    "start_time": "2022-07-14T12:39:01.763Z"
   },
   {
    "duration": 124,
    "start_time": "2022-07-14T12:39:02.175Z"
   },
   {
    "duration": 50,
    "start_time": "2022-07-14T12:39:02.301Z"
   },
   {
    "duration": 91,
    "start_time": "2022-07-14T12:39:02.353Z"
   },
   {
    "duration": 858,
    "start_time": "2022-07-14T12:39:02.446Z"
   },
   {
    "duration": 488,
    "start_time": "2022-07-14T12:39:03.307Z"
   },
   {
    "duration": 6,
    "start_time": "2022-07-14T12:39:03.797Z"
   },
   {
    "duration": 35088,
    "start_time": "2022-07-14T12:39:03.806Z"
   },
   {
    "duration": 20899,
    "start_time": "2022-07-14T12:39:38.896Z"
   },
   {
    "duration": 174,
    "start_time": "2022-07-14T12:39:59.797Z"
   },
   {
    "duration": 11,
    "start_time": "2022-07-14T12:39:59.974Z"
   },
   {
    "duration": 0,
    "start_time": "2022-07-14T12:39:59.988Z"
   },
   {
    "duration": 0,
    "start_time": "2022-07-14T12:39:59.990Z"
   },
   {
    "duration": 0,
    "start_time": "2022-07-14T12:39:59.991Z"
   },
   {
    "duration": 0,
    "start_time": "2022-07-14T12:39:59.992Z"
   },
   {
    "duration": 0,
    "start_time": "2022-07-14T12:39:59.993Z"
   },
   {
    "duration": 0,
    "start_time": "2022-07-14T12:39:59.994Z"
   },
   {
    "duration": 0,
    "start_time": "2022-07-14T12:39:59.995Z"
   },
   {
    "duration": 0,
    "start_time": "2022-07-14T12:39:59.996Z"
   },
   {
    "duration": 0,
    "start_time": "2022-07-14T12:39:59.997Z"
   },
   {
    "duration": 0,
    "start_time": "2022-07-14T12:39:59.998Z"
   },
   {
    "duration": 0,
    "start_time": "2022-07-14T12:39:59.999Z"
   },
   {
    "duration": 0,
    "start_time": "2022-07-14T12:40:00.000Z"
   },
   {
    "duration": 0,
    "start_time": "2022-07-14T12:40:00.001Z"
   },
   {
    "duration": 0,
    "start_time": "2022-07-14T12:40:00.005Z"
   },
   {
    "duration": 16,
    "start_time": "2022-07-14T12:40:05.378Z"
   },
   {
    "duration": 13,
    "start_time": "2022-07-14T12:40:20.163Z"
   },
   {
    "duration": 604,
    "start_time": "2022-07-14T12:40:21.959Z"
   },
   {
    "duration": 17,
    "start_time": "2022-07-14T12:40:23.261Z"
   },
   {
    "duration": 47,
    "start_time": "2022-07-14T12:44:50.791Z"
   },
   {
    "duration": 69,
    "start_time": "2022-07-15T10:13:40.725Z"
   },
   {
    "duration": 3,
    "start_time": "2022-07-15T10:13:43.673Z"
   },
   {
    "duration": 5332,
    "start_time": "2022-07-16T10:39:58.044Z"
   },
   {
    "duration": 1871,
    "start_time": "2022-07-16T10:40:03.377Z"
   },
   {
    "duration": 1527,
    "start_time": "2022-07-16T10:40:05.251Z"
   },
   {
    "duration": 714,
    "start_time": "2022-07-16T10:40:06.780Z"
   },
   {
    "duration": 611,
    "start_time": "2022-07-16T10:40:07.496Z"
   },
   {
    "duration": 10,
    "start_time": "2022-07-16T10:40:08.108Z"
   },
   {
    "duration": 397,
    "start_time": "2022-07-16T10:40:08.120Z"
   },
   {
    "duration": 17,
    "start_time": "2022-07-16T10:40:08.519Z"
   },
   {
    "duration": 59,
    "start_time": "2022-07-16T10:40:08.539Z"
   },
   {
    "duration": 75,
    "start_time": "2022-07-16T10:40:08.601Z"
   },
   {
    "duration": 24,
    "start_time": "2022-07-16T10:40:08.677Z"
   },
   {
    "duration": 558,
    "start_time": "2022-07-16T10:40:08.703Z"
   },
   {
    "duration": 31,
    "start_time": "2022-07-16T10:40:09.263Z"
   },
   {
    "duration": 42,
    "start_time": "2022-07-16T10:40:09.296Z"
   },
   {
    "duration": 520,
    "start_time": "2022-07-16T10:40:09.340Z"
   },
   {
    "duration": 54,
    "start_time": "2022-07-16T10:40:09.862Z"
   },
   {
    "duration": 57,
    "start_time": "2022-07-16T10:40:09.918Z"
   },
   {
    "duration": 40,
    "start_time": "2022-07-16T10:40:09.977Z"
   },
   {
    "duration": 50,
    "start_time": "2022-07-16T10:40:10.019Z"
   },
   {
    "duration": 498,
    "start_time": "2022-07-16T10:40:10.071Z"
   },
   {
    "duration": 40,
    "start_time": "2022-07-16T10:40:10.571Z"
   },
   {
    "duration": 40,
    "start_time": "2022-07-16T10:40:10.613Z"
   },
   {
    "duration": 552,
    "start_time": "2022-07-16T10:40:10.655Z"
   },
   {
    "duration": 152,
    "start_time": "2022-07-16T10:40:11.216Z"
   },
   {
    "duration": 1004,
    "start_time": "2022-07-16T10:40:12.743Z"
   },
   {
    "duration": 9,
    "start_time": "2022-07-16T10:40:13.750Z"
   },
   {
    "duration": 483,
    "start_time": "2022-07-16T10:40:13.760Z"
   },
   {
    "duration": 53,
    "start_time": "2022-07-16T10:40:14.246Z"
   },
   {
    "duration": 8,
    "start_time": "2022-07-16T10:40:15.482Z"
   },
   {
    "duration": 376,
    "start_time": "2022-07-16T10:40:15.864Z"
   },
   {
    "duration": 9,
    "start_time": "2022-07-16T10:40:16.663Z"
   },
   {
    "duration": 26,
    "start_time": "2022-07-16T10:40:17.759Z"
   },
   {
    "duration": 19,
    "start_time": "2022-07-16T10:40:19.610Z"
   },
   {
    "duration": 464,
    "start_time": "2022-07-16T10:40:19.952Z"
   },
   {
    "duration": 181,
    "start_time": "2022-07-16T10:40:21.571Z"
   },
   {
    "duration": 35,
    "start_time": "2022-07-16T10:40:21.977Z"
   },
   {
    "duration": 100,
    "start_time": "2022-07-16T10:40:22.890Z"
   },
   {
    "duration": 766,
    "start_time": "2022-07-16T10:40:23.943Z"
   },
   {
    "duration": 549,
    "start_time": "2022-07-16T10:40:25.144Z"
   },
   {
    "duration": 6,
    "start_time": "2022-07-16T10:40:30.011Z"
   },
   {
    "duration": 735,
    "start_time": "2022-07-16T10:40:39.450Z"
   },
   {
    "duration": 15,
    "start_time": "2022-07-16T10:40:41.766Z"
   },
   {
    "duration": 5103,
    "start_time": "2022-07-16T13:35:37.120Z"
   },
   {
    "duration": 1752,
    "start_time": "2022-07-16T13:35:42.230Z"
   },
   {
    "duration": 1575,
    "start_time": "2022-07-16T13:35:43.984Z"
   },
   {
    "duration": 658,
    "start_time": "2022-07-16T13:35:45.561Z"
   },
   {
    "duration": 591,
    "start_time": "2022-07-16T13:35:46.223Z"
   },
   {
    "duration": 3,
    "start_time": "2022-07-16T13:35:46.816Z"
   },
   {
    "duration": 362,
    "start_time": "2022-07-16T13:35:46.820Z"
   },
   {
    "duration": 13,
    "start_time": "2022-07-16T13:35:47.184Z"
   },
   {
    "duration": 92,
    "start_time": "2022-07-16T13:35:47.199Z"
   },
   {
    "duration": 40,
    "start_time": "2022-07-16T13:35:47.294Z"
   },
   {
    "duration": 66,
    "start_time": "2022-07-16T13:35:47.336Z"
   },
   {
    "duration": 489,
    "start_time": "2022-07-16T13:35:47.405Z"
   },
   {
    "duration": 42,
    "start_time": "2022-07-16T13:35:47.895Z"
   },
   {
    "duration": 40,
    "start_time": "2022-07-16T13:35:47.939Z"
   },
   {
    "duration": 419,
    "start_time": "2022-07-16T13:35:47.980Z"
   },
   {
    "duration": 54,
    "start_time": "2022-07-16T13:35:48.401Z"
   },
   {
    "duration": 24,
    "start_time": "2022-07-16T13:35:48.457Z"
   },
   {
    "duration": 32,
    "start_time": "2022-07-16T13:35:48.482Z"
   },
   {
    "duration": 35,
    "start_time": "2022-07-16T13:35:48.525Z"
   },
   {
    "duration": 484,
    "start_time": "2022-07-16T13:35:48.562Z"
   },
   {
    "duration": 55,
    "start_time": "2022-07-16T13:35:49.048Z"
   },
   {
    "duration": 57,
    "start_time": "2022-07-16T13:35:49.105Z"
   },
   {
    "duration": 535,
    "start_time": "2022-07-16T13:35:49.165Z"
   },
   {
    "duration": 148,
    "start_time": "2022-07-16T13:35:49.702Z"
   },
   {
    "duration": 1046,
    "start_time": "2022-07-16T13:35:49.853Z"
   },
   {
    "duration": 9,
    "start_time": "2022-07-16T13:35:50.901Z"
   },
   {
    "duration": 450,
    "start_time": "2022-07-16T13:35:50.912Z"
   },
   {
    "duration": 64,
    "start_time": "2022-07-16T13:35:51.366Z"
   },
   {
    "duration": 13,
    "start_time": "2022-07-16T13:35:51.432Z"
   },
   {
    "duration": 339,
    "start_time": "2022-07-16T13:35:51.447Z"
   },
   {
    "duration": 9,
    "start_time": "2022-07-16T13:35:51.787Z"
   },
   {
    "duration": 49,
    "start_time": "2022-07-16T13:35:51.798Z"
   },
   {
    "duration": 14,
    "start_time": "2022-07-16T13:35:51.849Z"
   },
   {
    "duration": 435,
    "start_time": "2022-07-16T13:35:51.865Z"
   },
   {
    "duration": 160,
    "start_time": "2022-07-16T13:35:52.302Z"
   },
   {
    "duration": 30,
    "start_time": "2022-07-16T13:35:52.464Z"
   },
   {
    "duration": 117,
    "start_time": "2022-07-16T13:35:52.496Z"
   },
   {
    "duration": 900,
    "start_time": "2022-07-16T13:35:52.616Z"
   },
   {
    "duration": 551,
    "start_time": "2022-07-16T13:35:53.518Z"
   },
   {
    "duration": 7,
    "start_time": "2022-07-16T13:35:54.071Z"
   },
   {
    "duration": 35960,
    "start_time": "2022-07-16T13:35:54.081Z"
   },
   {
    "duration": 4,
    "start_time": "2022-07-16T13:36:30.044Z"
   },
   {
    "duration": 12,
    "start_time": "2022-07-16T13:36:30.050Z"
   },
   {
    "duration": 10,
    "start_time": "2022-07-16T13:36:30.064Z"
   },
   {
    "duration": 1289,
    "start_time": "2022-07-16T13:36:30.077Z"
   },
   {
    "duration": 0,
    "start_time": "2022-07-16T13:36:31.368Z"
   },
   {
    "duration": 0,
    "start_time": "2022-07-16T13:36:31.369Z"
   },
   {
    "duration": 0,
    "start_time": "2022-07-16T13:36:31.371Z"
   },
   {
    "duration": 0,
    "start_time": "2022-07-16T13:36:31.372Z"
   },
   {
    "duration": 0,
    "start_time": "2022-07-16T13:36:31.373Z"
   },
   {
    "duration": 0,
    "start_time": "2022-07-16T13:36:31.374Z"
   },
   {
    "duration": 0,
    "start_time": "2022-07-16T13:36:31.375Z"
   },
   {
    "duration": 0,
    "start_time": "2022-07-16T13:36:31.376Z"
   },
   {
    "duration": 0,
    "start_time": "2022-07-16T13:36:31.377Z"
   },
   {
    "duration": 0,
    "start_time": "2022-07-16T13:36:31.378Z"
   },
   {
    "duration": 0,
    "start_time": "2022-07-16T13:36:31.379Z"
   },
   {
    "duration": 0,
    "start_time": "2022-07-16T13:36:31.380Z"
   },
   {
    "duration": 0,
    "start_time": "2022-07-16T13:36:31.380Z"
   },
   {
    "duration": 1203,
    "start_time": "2022-07-16T13:36:43.941Z"
   },
   {
    "duration": 214,
    "start_time": "2022-07-16T13:36:55.251Z"
   },
   {
    "duration": 933,
    "start_time": "2022-07-16T13:37:20.762Z"
   },
   {
    "duration": 558,
    "start_time": "2022-07-16T13:37:37.822Z"
   },
   {
    "duration": 1221,
    "start_time": "2022-07-16T13:37:51.745Z"
   },
   {
    "duration": 1153,
    "start_time": "2022-07-16T13:38:37.099Z"
   },
   {
    "duration": 221,
    "start_time": "2022-07-16T13:38:57.641Z"
   },
   {
    "duration": 1297,
    "start_time": "2022-07-16T14:05:22.709Z"
   },
   {
    "duration": 20,
    "start_time": "2022-07-16T14:05:27.481Z"
   },
   {
    "duration": 74,
    "start_time": "2022-07-16T14:06:05.873Z"
   },
   {
    "duration": 20919,
    "start_time": "2022-07-16T14:06:13.084Z"
   },
   {
    "duration": 670,
    "start_time": "2022-07-16T14:06:41.441Z"
   },
   {
    "duration": 28,
    "start_time": "2022-07-16T14:06:47.165Z"
   },
   {
    "duration": 6,
    "start_time": "2022-07-16T14:06:50.891Z"
   }
  ],
  "kernelspec": {
   "display_name": "Python 3 (ipykernel)",
   "language": "python",
   "name": "python3"
  },
  "language_info": {
   "codemirror_mode": {
    "name": "ipython",
    "version": 3
   },
   "file_extension": ".py",
   "mimetype": "text/x-python",
   "name": "python",
   "nbconvert_exporter": "python",
   "pygments_lexer": "ipython3",
   "version": "3.9.7"
  },
  "toc": {
   "base_numbering": 1,
   "nav_menu": {},
   "number_sections": true,
   "sideBar": true,
   "skip_h1_title": true,
   "title_cell": "Table of Contents",
   "title_sidebar": "Contents",
   "toc_cell": false,
   "toc_position": {},
   "toc_section_display": true,
   "toc_window_display": false
  }
 },
 "nbformat": 4,
 "nbformat_minor": 2
}
