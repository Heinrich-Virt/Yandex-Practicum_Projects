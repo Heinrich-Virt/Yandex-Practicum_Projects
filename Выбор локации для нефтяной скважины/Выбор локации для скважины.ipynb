{
 "cells": [
  {
   "cell_type": "markdown",
   "metadata": {},
   "source": [
    "## Загрузка и подготовка данных"
   ]
  },
  {
   "cell_type": "code",
   "execution_count": 78,
   "metadata": {},
   "outputs": [],
   "source": [
    "import pandas as pd\n",
    "from sklearn.model_selection import train_test_split\n",
    "from sklearn.linear_model import LinearRegression\n",
    "from sklearn.metrics import mean_squared_error\n",
    "import numpy as np\n",
    "from scipy import stats as st"
   ]
  },
  {
   "cell_type": "markdown",
   "metadata": {},
   "source": [
    "Загрузка файлов"
   ]
  },
  {
   "cell_type": "code",
   "execution_count": 79,
   "metadata": {},
   "outputs": [],
   "source": [
    "geo0 = pd.read_csv('/datasets/geo_data_0.csv')\n",
    "geo1 = pd.read_csv('/datasets/geo_data_1.csv')\n",
    "geo2 = pd.read_csv('/datasets/geo_data_2.csv')"
   ]
  },
  {
   "cell_type": "code",
   "execution_count": 80,
   "metadata": {},
   "outputs": [
    {
     "data": {
      "text/html": [
       "<div>\n",
       "<style scoped>\n",
       "    .dataframe tbody tr th:only-of-type {\n",
       "        vertical-align: middle;\n",
       "    }\n",
       "\n",
       "    .dataframe tbody tr th {\n",
       "        vertical-align: top;\n",
       "    }\n",
       "\n",
       "    .dataframe thead th {\n",
       "        text-align: right;\n",
       "    }\n",
       "</style>\n",
       "<table border=\"1\" class=\"dataframe\">\n",
       "  <thead>\n",
       "    <tr style=\"text-align: right;\">\n",
       "      <th></th>\n",
       "      <th>id</th>\n",
       "      <th>f0</th>\n",
       "      <th>f1</th>\n",
       "      <th>f2</th>\n",
       "      <th>product</th>\n",
       "    </tr>\n",
       "  </thead>\n",
       "  <tbody>\n",
       "    <tr>\n",
       "      <th>0</th>\n",
       "      <td>txEyH</td>\n",
       "      <td>0.705745</td>\n",
       "      <td>-0.497823</td>\n",
       "      <td>1.221170</td>\n",
       "      <td>105.280062</td>\n",
       "    </tr>\n",
       "    <tr>\n",
       "      <th>1</th>\n",
       "      <td>2acmU</td>\n",
       "      <td>1.334711</td>\n",
       "      <td>-0.340164</td>\n",
       "      <td>4.365080</td>\n",
       "      <td>73.037750</td>\n",
       "    </tr>\n",
       "    <tr>\n",
       "      <th>2</th>\n",
       "      <td>409Wp</td>\n",
       "      <td>1.022732</td>\n",
       "      <td>0.151990</td>\n",
       "      <td>1.419926</td>\n",
       "      <td>85.265647</td>\n",
       "    </tr>\n",
       "    <tr>\n",
       "      <th>3</th>\n",
       "      <td>iJLyR</td>\n",
       "      <td>-0.032172</td>\n",
       "      <td>0.139033</td>\n",
       "      <td>2.978566</td>\n",
       "      <td>168.620776</td>\n",
       "    </tr>\n",
       "    <tr>\n",
       "      <th>4</th>\n",
       "      <td>Xdl7t</td>\n",
       "      <td>1.988431</td>\n",
       "      <td>0.155413</td>\n",
       "      <td>4.751769</td>\n",
       "      <td>154.036647</td>\n",
       "    </tr>\n",
       "    <tr>\n",
       "      <th>...</th>\n",
       "      <td>...</td>\n",
       "      <td>...</td>\n",
       "      <td>...</td>\n",
       "      <td>...</td>\n",
       "      <td>...</td>\n",
       "    </tr>\n",
       "    <tr>\n",
       "      <th>99995</th>\n",
       "      <td>DLsed</td>\n",
       "      <td>0.971957</td>\n",
       "      <td>0.370953</td>\n",
       "      <td>6.075346</td>\n",
       "      <td>110.744026</td>\n",
       "    </tr>\n",
       "    <tr>\n",
       "      <th>99996</th>\n",
       "      <td>QKivN</td>\n",
       "      <td>1.392429</td>\n",
       "      <td>-0.382606</td>\n",
       "      <td>1.273912</td>\n",
       "      <td>122.346843</td>\n",
       "    </tr>\n",
       "    <tr>\n",
       "      <th>99997</th>\n",
       "      <td>3rnvd</td>\n",
       "      <td>1.029585</td>\n",
       "      <td>0.018787</td>\n",
       "      <td>-1.348308</td>\n",
       "      <td>64.375443</td>\n",
       "    </tr>\n",
       "    <tr>\n",
       "      <th>99998</th>\n",
       "      <td>7kl59</td>\n",
       "      <td>0.998163</td>\n",
       "      <td>-0.528582</td>\n",
       "      <td>1.583869</td>\n",
       "      <td>74.040764</td>\n",
       "    </tr>\n",
       "    <tr>\n",
       "      <th>99999</th>\n",
       "      <td>1CWhH</td>\n",
       "      <td>1.764754</td>\n",
       "      <td>-0.266417</td>\n",
       "      <td>5.722849</td>\n",
       "      <td>149.633246</td>\n",
       "    </tr>\n",
       "  </tbody>\n",
       "</table>\n",
       "<p>100000 rows × 5 columns</p>\n",
       "</div>"
      ],
      "text/plain": [
       "          id        f0        f1        f2     product\n",
       "0      txEyH  0.705745 -0.497823  1.221170  105.280062\n",
       "1      2acmU  1.334711 -0.340164  4.365080   73.037750\n",
       "2      409Wp  1.022732  0.151990  1.419926   85.265647\n",
       "3      iJLyR -0.032172  0.139033  2.978566  168.620776\n",
       "4      Xdl7t  1.988431  0.155413  4.751769  154.036647\n",
       "...      ...       ...       ...       ...         ...\n",
       "99995  DLsed  0.971957  0.370953  6.075346  110.744026\n",
       "99996  QKivN  1.392429 -0.382606  1.273912  122.346843\n",
       "99997  3rnvd  1.029585  0.018787 -1.348308   64.375443\n",
       "99998  7kl59  0.998163 -0.528582  1.583869   74.040764\n",
       "99999  1CWhH  1.764754 -0.266417  5.722849  149.633246\n",
       "\n",
       "[100000 rows x 5 columns]"
      ]
     },
     "metadata": {},
     "output_type": "display_data"
    },
    {
     "name": "stdout",
     "output_type": "stream",
     "text": [
      "<class 'pandas.core.frame.DataFrame'>\n",
      "RangeIndex: 100000 entries, 0 to 99999\n",
      "Data columns (total 5 columns):\n",
      " #   Column   Non-Null Count   Dtype  \n",
      "---  ------   --------------   -----  \n",
      " 0   id       100000 non-null  object \n",
      " 1   f0       100000 non-null  float64\n",
      " 2   f1       100000 non-null  float64\n",
      " 3   f2       100000 non-null  float64\n",
      " 4   product  100000 non-null  float64\n",
      "dtypes: float64(4), object(1)\n",
      "memory usage: 3.8+ MB\n",
      "None\n"
     ]
    }
   ],
   "source": [
    "display(geo0)\n",
    "print(geo0.info())"
   ]
  },
  {
   "cell_type": "code",
   "execution_count": 81,
   "metadata": {},
   "outputs": [
    {
     "name": "stdout",
     "output_type": "stream",
     "text": [
      "7.23826247979405\n",
      "-8.760003624213763\n"
     ]
    }
   ],
   "source": [
    "print(geo2['f0'].max())\n",
    "print(geo2['f0'].min())"
   ]
  },
  {
   "cell_type": "code",
   "execution_count": 82,
   "metadata": {},
   "outputs": [
    {
     "data": {
      "text/html": [
       "<div>\n",
       "<style scoped>\n",
       "    .dataframe tbody tr th:only-of-type {\n",
       "        vertical-align: middle;\n",
       "    }\n",
       "\n",
       "    .dataframe tbody tr th {\n",
       "        vertical-align: top;\n",
       "    }\n",
       "\n",
       "    .dataframe thead th {\n",
       "        text-align: right;\n",
       "    }\n",
       "</style>\n",
       "<table border=\"1\" class=\"dataframe\">\n",
       "  <thead>\n",
       "    <tr style=\"text-align: right;\">\n",
       "      <th></th>\n",
       "      <th>id</th>\n",
       "      <th>f0</th>\n",
       "      <th>f1</th>\n",
       "      <th>f2</th>\n",
       "      <th>product</th>\n",
       "    </tr>\n",
       "  </thead>\n",
       "  <tbody>\n",
       "    <tr>\n",
       "      <th>0</th>\n",
       "      <td>kBEdx</td>\n",
       "      <td>-15.001348</td>\n",
       "      <td>-8.276000</td>\n",
       "      <td>-0.005876</td>\n",
       "      <td>3.179103</td>\n",
       "    </tr>\n",
       "    <tr>\n",
       "      <th>1</th>\n",
       "      <td>62mP7</td>\n",
       "      <td>14.272088</td>\n",
       "      <td>-3.475083</td>\n",
       "      <td>0.999183</td>\n",
       "      <td>26.953261</td>\n",
       "    </tr>\n",
       "    <tr>\n",
       "      <th>2</th>\n",
       "      <td>vyE1P</td>\n",
       "      <td>6.263187</td>\n",
       "      <td>-5.948386</td>\n",
       "      <td>5.001160</td>\n",
       "      <td>134.766305</td>\n",
       "    </tr>\n",
       "    <tr>\n",
       "      <th>3</th>\n",
       "      <td>KcrkZ</td>\n",
       "      <td>-13.081196</td>\n",
       "      <td>-11.506057</td>\n",
       "      <td>4.999415</td>\n",
       "      <td>137.945408</td>\n",
       "    </tr>\n",
       "    <tr>\n",
       "      <th>4</th>\n",
       "      <td>AHL4O</td>\n",
       "      <td>12.702195</td>\n",
       "      <td>-8.147433</td>\n",
       "      <td>5.004363</td>\n",
       "      <td>134.766305</td>\n",
       "    </tr>\n",
       "    <tr>\n",
       "      <th>...</th>\n",
       "      <td>...</td>\n",
       "      <td>...</td>\n",
       "      <td>...</td>\n",
       "      <td>...</td>\n",
       "      <td>...</td>\n",
       "    </tr>\n",
       "    <tr>\n",
       "      <th>99995</th>\n",
       "      <td>QywKC</td>\n",
       "      <td>9.535637</td>\n",
       "      <td>-6.878139</td>\n",
       "      <td>1.998296</td>\n",
       "      <td>53.906522</td>\n",
       "    </tr>\n",
       "    <tr>\n",
       "      <th>99996</th>\n",
       "      <td>ptvty</td>\n",
       "      <td>-10.160631</td>\n",
       "      <td>-12.558096</td>\n",
       "      <td>5.005581</td>\n",
       "      <td>137.945408</td>\n",
       "    </tr>\n",
       "    <tr>\n",
       "      <th>99997</th>\n",
       "      <td>09gWa</td>\n",
       "      <td>-7.378891</td>\n",
       "      <td>-3.084104</td>\n",
       "      <td>4.998651</td>\n",
       "      <td>137.945408</td>\n",
       "    </tr>\n",
       "    <tr>\n",
       "      <th>99998</th>\n",
       "      <td>rqwUm</td>\n",
       "      <td>0.665714</td>\n",
       "      <td>-6.152593</td>\n",
       "      <td>1.000146</td>\n",
       "      <td>30.132364</td>\n",
       "    </tr>\n",
       "    <tr>\n",
       "      <th>99999</th>\n",
       "      <td>relB0</td>\n",
       "      <td>-3.426139</td>\n",
       "      <td>-7.794274</td>\n",
       "      <td>-0.003299</td>\n",
       "      <td>3.179103</td>\n",
       "    </tr>\n",
       "  </tbody>\n",
       "</table>\n",
       "<p>100000 rows × 5 columns</p>\n",
       "</div>"
      ],
      "text/plain": [
       "          id         f0         f1        f2     product\n",
       "0      kBEdx -15.001348  -8.276000 -0.005876    3.179103\n",
       "1      62mP7  14.272088  -3.475083  0.999183   26.953261\n",
       "2      vyE1P   6.263187  -5.948386  5.001160  134.766305\n",
       "3      KcrkZ -13.081196 -11.506057  4.999415  137.945408\n",
       "4      AHL4O  12.702195  -8.147433  5.004363  134.766305\n",
       "...      ...        ...        ...       ...         ...\n",
       "99995  QywKC   9.535637  -6.878139  1.998296   53.906522\n",
       "99996  ptvty -10.160631 -12.558096  5.005581  137.945408\n",
       "99997  09gWa  -7.378891  -3.084104  4.998651  137.945408\n",
       "99998  rqwUm   0.665714  -6.152593  1.000146   30.132364\n",
       "99999  relB0  -3.426139  -7.794274 -0.003299    3.179103\n",
       "\n",
       "[100000 rows x 5 columns]"
      ]
     },
     "metadata": {},
     "output_type": "display_data"
    },
    {
     "name": "stdout",
     "output_type": "stream",
     "text": [
      "<class 'pandas.core.frame.DataFrame'>\n",
      "RangeIndex: 100000 entries, 0 to 99999\n",
      "Data columns (total 5 columns):\n",
      " #   Column   Non-Null Count   Dtype  \n",
      "---  ------   --------------   -----  \n",
      " 0   id       100000 non-null  object \n",
      " 1   f0       100000 non-null  float64\n",
      " 2   f1       100000 non-null  float64\n",
      " 3   f2       100000 non-null  float64\n",
      " 4   product  100000 non-null  float64\n",
      "dtypes: float64(4), object(1)\n",
      "memory usage: 3.8+ MB\n",
      "None\n"
     ]
    }
   ],
   "source": [
    "display(geo1)\n",
    "print(geo1.info())"
   ]
  },
  {
   "cell_type": "code",
   "execution_count": 83,
   "metadata": {},
   "outputs": [
    {
     "name": "stdout",
     "output_type": "stream",
     "text": [
      "7.844801270084258\n",
      "-7.084019760867246\n"
     ]
    }
   ],
   "source": [
    "print(geo2['f1'].max())\n",
    "print(geo2['f1'].min())"
   ]
  },
  {
   "cell_type": "code",
   "execution_count": 84,
   "metadata": {},
   "outputs": [
    {
     "data": {
      "text/html": [
       "<div>\n",
       "<style scoped>\n",
       "    .dataframe tbody tr th:only-of-type {\n",
       "        vertical-align: middle;\n",
       "    }\n",
       "\n",
       "    .dataframe tbody tr th {\n",
       "        vertical-align: top;\n",
       "    }\n",
       "\n",
       "    .dataframe thead th {\n",
       "        text-align: right;\n",
       "    }\n",
       "</style>\n",
       "<table border=\"1\" class=\"dataframe\">\n",
       "  <thead>\n",
       "    <tr style=\"text-align: right;\">\n",
       "      <th></th>\n",
       "      <th>id</th>\n",
       "      <th>f0</th>\n",
       "      <th>f1</th>\n",
       "      <th>f2</th>\n",
       "      <th>product</th>\n",
       "    </tr>\n",
       "  </thead>\n",
       "  <tbody>\n",
       "    <tr>\n",
       "      <th>0</th>\n",
       "      <td>fwXo0</td>\n",
       "      <td>-1.146987</td>\n",
       "      <td>0.963328</td>\n",
       "      <td>-0.828965</td>\n",
       "      <td>27.758673</td>\n",
       "    </tr>\n",
       "    <tr>\n",
       "      <th>1</th>\n",
       "      <td>WJtFt</td>\n",
       "      <td>0.262778</td>\n",
       "      <td>0.269839</td>\n",
       "      <td>-2.530187</td>\n",
       "      <td>56.069697</td>\n",
       "    </tr>\n",
       "    <tr>\n",
       "      <th>2</th>\n",
       "      <td>ovLUW</td>\n",
       "      <td>0.194587</td>\n",
       "      <td>0.289035</td>\n",
       "      <td>-5.586433</td>\n",
       "      <td>62.871910</td>\n",
       "    </tr>\n",
       "    <tr>\n",
       "      <th>3</th>\n",
       "      <td>q6cA6</td>\n",
       "      <td>2.236060</td>\n",
       "      <td>-0.553760</td>\n",
       "      <td>0.930038</td>\n",
       "      <td>114.572842</td>\n",
       "    </tr>\n",
       "    <tr>\n",
       "      <th>4</th>\n",
       "      <td>WPMUX</td>\n",
       "      <td>-0.515993</td>\n",
       "      <td>1.716266</td>\n",
       "      <td>5.899011</td>\n",
       "      <td>149.600746</td>\n",
       "    </tr>\n",
       "    <tr>\n",
       "      <th>...</th>\n",
       "      <td>...</td>\n",
       "      <td>...</td>\n",
       "      <td>...</td>\n",
       "      <td>...</td>\n",
       "      <td>...</td>\n",
       "    </tr>\n",
       "    <tr>\n",
       "      <th>99995</th>\n",
       "      <td>4GxBu</td>\n",
       "      <td>-1.777037</td>\n",
       "      <td>1.125220</td>\n",
       "      <td>6.263374</td>\n",
       "      <td>172.327046</td>\n",
       "    </tr>\n",
       "    <tr>\n",
       "      <th>99996</th>\n",
       "      <td>YKFjq</td>\n",
       "      <td>-1.261523</td>\n",
       "      <td>-0.894828</td>\n",
       "      <td>2.524545</td>\n",
       "      <td>138.748846</td>\n",
       "    </tr>\n",
       "    <tr>\n",
       "      <th>99997</th>\n",
       "      <td>tKPY3</td>\n",
       "      <td>-1.199934</td>\n",
       "      <td>-2.957637</td>\n",
       "      <td>5.219411</td>\n",
       "      <td>157.080080</td>\n",
       "    </tr>\n",
       "    <tr>\n",
       "      <th>99998</th>\n",
       "      <td>nmxp2</td>\n",
       "      <td>-2.419896</td>\n",
       "      <td>2.417221</td>\n",
       "      <td>-5.548444</td>\n",
       "      <td>51.795253</td>\n",
       "    </tr>\n",
       "    <tr>\n",
       "      <th>99999</th>\n",
       "      <td>V9kWn</td>\n",
       "      <td>-2.551421</td>\n",
       "      <td>-2.025625</td>\n",
       "      <td>6.090891</td>\n",
       "      <td>102.775767</td>\n",
       "    </tr>\n",
       "  </tbody>\n",
       "</table>\n",
       "<p>100000 rows × 5 columns</p>\n",
       "</div>"
      ],
      "text/plain": [
       "          id        f0        f1        f2     product\n",
       "0      fwXo0 -1.146987  0.963328 -0.828965   27.758673\n",
       "1      WJtFt  0.262778  0.269839 -2.530187   56.069697\n",
       "2      ovLUW  0.194587  0.289035 -5.586433   62.871910\n",
       "3      q6cA6  2.236060 -0.553760  0.930038  114.572842\n",
       "4      WPMUX -0.515993  1.716266  5.899011  149.600746\n",
       "...      ...       ...       ...       ...         ...\n",
       "99995  4GxBu -1.777037  1.125220  6.263374  172.327046\n",
       "99996  YKFjq -1.261523 -0.894828  2.524545  138.748846\n",
       "99997  tKPY3 -1.199934 -2.957637  5.219411  157.080080\n",
       "99998  nmxp2 -2.419896  2.417221 -5.548444   51.795253\n",
       "99999  V9kWn -2.551421 -2.025625  6.090891  102.775767\n",
       "\n",
       "[100000 rows x 5 columns]"
      ]
     },
     "metadata": {},
     "output_type": "display_data"
    },
    {
     "name": "stdout",
     "output_type": "stream",
     "text": [
      "<class 'pandas.core.frame.DataFrame'>\n",
      "RangeIndex: 100000 entries, 0 to 99999\n",
      "Data columns (total 5 columns):\n",
      " #   Column   Non-Null Count   Dtype  \n",
      "---  ------   --------------   -----  \n",
      " 0   id       100000 non-null  object \n",
      " 1   f0       100000 non-null  float64\n",
      " 2   f1       100000 non-null  float64\n",
      " 3   f2       100000 non-null  float64\n",
      " 4   product  100000 non-null  float64\n",
      "dtypes: float64(4), object(1)\n",
      "memory usage: 3.8+ MB\n",
      "None\n"
     ]
    }
   ],
   "source": [
    "display(geo2)\n",
    "print(geo2.info())"
   ]
  },
  {
   "cell_type": "code",
   "execution_count": 85,
   "metadata": {},
   "outputs": [
    {
     "name": "stdout",
     "output_type": "stream",
     "text": [
      "16.73940205869952\n",
      "-11.97033454147699\n"
     ]
    }
   ],
   "source": [
    "print(geo2['f2'].max())\n",
    "print(geo2['f2'].min())"
   ]
  },
  {
   "cell_type": "markdown",
   "metadata": {},
   "source": [
    "### Вывод"
   ]
  },
  {
   "cell_type": "markdown",
   "metadata": {},
   "source": [
    "Данные загружены. Пропусков не обнаружено."
   ]
  },
  {
   "cell_type": "markdown",
   "metadata": {},
   "source": [
    "## Обучение и проверка модели"
   ]
  },
  {
   "cell_type": "code",
   "execution_count": 86,
   "metadata": {},
   "outputs": [],
   "source": [
    "model = LinearRegression()"
   ]
  },
  {
   "cell_type": "markdown",
   "metadata": {},
   "source": [
    "Созданим функцию для обучения модели"
   ]
  },
  {
   "cell_type": "code",
   "execution_count": 87,
   "metadata": {},
   "outputs": [],
   "source": [
    "def predict_target (data):\n",
    "    features = data.drop(['id', 'product'], axis = 1)\n",
    "    target = data['product']\n",
    "    features_train, features_valid, target_train, target_valid = train_test_split(features, target, test_size=.25, random_state=666)\n",
    "    model.fit(features_train, target_train)\n",
    "    return pd.Series(model.predict(features_valid)), target_valid"
   ]
  },
  {
   "cell_type": "code",
   "execution_count": 88,
   "metadata": {},
   "outputs": [],
   "source": [
    "predicted_0, target_0 = predict_target(geo0)"
   ]
  },
  {
   "cell_type": "code",
   "execution_count": 89,
   "metadata": {},
   "outputs": [],
   "source": [
    "predicted_1, target_1 = predict_target(geo1)"
   ]
  },
  {
   "cell_type": "code",
   "execution_count": 90,
   "metadata": {},
   "outputs": [],
   "source": [
    "predicted_2, target_2 = predict_target(geo2)"
   ]
  },
  {
   "cell_type": "markdown",
   "metadata": {},
   "source": [
    "Создадим функцию для рассчета RMSE"
   ]
  },
  {
   "cell_type": "code",
   "execution_count": 91,
   "metadata": {},
   "outputs": [],
   "source": [
    "def rmse (answers, predictions):\n",
    "    mse = mean_squared_error(answers, predictions)\n",
    "    print('Средний запас сырья:', predictions.mean())\n",
    "    print('RMSE:', mse ** 0.5)"
   ]
  },
  {
   "cell_type": "code",
   "execution_count": 92,
   "metadata": {},
   "outputs": [
    {
     "name": "stdout",
     "output_type": "stream",
     "text": [
      "Средний запас сырья: 92.59883747361135\n",
      "RMSE: 37.78852914975086\n"
     ]
    }
   ],
   "source": [
    "rmse(target_0, predicted_0)"
   ]
  },
  {
   "cell_type": "code",
   "execution_count": 93,
   "metadata": {},
   "outputs": [
    {
     "name": "stdout",
     "output_type": "stream",
     "text": [
      "Средний запас сырья: 69.11960454214399\n",
      "RMSE: 0.8899276270922486\n"
     ]
    }
   ],
   "source": [
    "rmse(target_1, predicted_1)"
   ]
  },
  {
   "cell_type": "code",
   "execution_count": 94,
   "metadata": {},
   "outputs": [
    {
     "name": "stdout",
     "output_type": "stream",
     "text": [
      "Средний запас сырья: 95.05831290258574\n",
      "RMSE: 40.008583723061925\n"
     ]
    }
   ],
   "source": [
    "rmse(target_2, predicted_2)"
   ]
  },
  {
   "cell_type": "markdown",
   "metadata": {},
   "source": [
    "## Подготовка к расчёту прибыли"
   ]
  },
  {
   "cell_type": "markdown",
   "metadata": {},
   "source": [
    "Посчитаем минимальное содержание для безубыточности "
   ]
  },
  {
   "cell_type": "code",
   "execution_count": 95,
   "metadata": {},
   "outputs": [],
   "source": [
    "BUDGET = 10**10\n",
    "COUNT = 200\n",
    "COST = 450000"
   ]
  },
  {
   "cell_type": "code",
   "execution_count": 96,
   "metadata": {
    "scrolled": true
   },
   "outputs": [
    {
     "name": "stdout",
     "output_type": "stream",
     "text": [
      "минимальное среднее количество, чтобы проект был прибыльным: 111.11111111111111\n"
     ]
    }
   ],
   "source": [
    "min_produce = BUDGET/(COUNT*COST)\n",
    "print('минимальное среднее количество, чтобы проект был прибыльным: '+str(min_produce))"
   ]
  },
  {
   "cell_type": "code",
   "execution_count": 97,
   "metadata": {},
   "outputs": [],
   "source": [
    "def profit(target, probabilities):\n",
    "    target = pd.Series(target).reset_index(drop=True)\n",
    "    probabilities = pd.Series(probabilities).reset_index(drop=True)\n",
    "    probs_sorted = probabilities.sort_values(ascending=False)\n",
    "    selected = target[probs_sorted.index][:200]\n",
    "    return ((COST * selected.sum()) - BUDGET) / 1000000000"
   ]
  },
  {
   "cell_type": "markdown",
   "metadata": {},
   "source": [
    "## Расчёт прибыли и рисков "
   ]
  },
  {
   "cell_type": "code",
   "execution_count": 98,
   "metadata": {},
   "outputs": [],
   "source": [
    "state = np.random.RandomState(12345)"
   ]
  },
  {
   "cell_type": "code",
   "execution_count": 99,
   "metadata": {},
   "outputs": [],
   "source": [
    "def bootstrap (target, predictions):\n",
    "    values = []\n",
    "    for i in range(1000):\n",
    "        target_subsample = target.reset_index(drop=True).sample(500, replace=True, random_state=state)\n",
    "        probs_subsample = predictions[target_subsample.index]\n",
    "        rev = profit(target_subsample, probs_subsample)\n",
    "        values.append(rev)\n",
    "\n",
    "    values = pd.Series(values)\n",
    "    lower = values.quantile(0.05)\n",
    "    confidence_interval = (values.quantile(0.025), values.quantile(0.975))\n",
    "    mean = values.mean()\n",
    "\n",
    "    print(\"Средняя выручка:\", mean)\n",
    "    print(\"Доверительный интервал:\", confidence_interval)\n",
    "    print(\"Риски убытка:\", (values < 0).mean())"
   ]
  },
  {
   "cell_type": "code",
   "execution_count": 100,
   "metadata": {},
   "outputs": [
    {
     "name": "stdout",
     "output_type": "stream",
     "text": [
      "Средняя выручка: 0.43069839930828546\n",
      "Доверительный интервал: (-0.10671743695636005, 0.9307130825630421)\n",
      "Риски убытка: 0.052\n"
     ]
    }
   ],
   "source": [
    "bootstrap(target_0, predicted_0)"
   ]
  },
  {
   "cell_type": "code",
   "execution_count": 101,
   "metadata": {},
   "outputs": [
    {
     "name": "stdout",
     "output_type": "stream",
     "text": [
      "Средняя выручка: 0.48536834632742604\n",
      "Доверительный интервал: (0.08284952787924067, 0.8787523728795791)\n",
      "Риски убытка: 0.005\n"
     ]
    }
   ],
   "source": [
    "bootstrap(target_1, predicted_1)"
   ]
  },
  {
   "cell_type": "code",
   "execution_count": 102,
   "metadata": {},
   "outputs": [
    {
     "name": "stdout",
     "output_type": "stream",
     "text": [
      "Средняя выручка: 0.3484111749716312\n",
      "Доверительный интервал: (-0.18284438789284505, 0.8567012626397866)\n",
      "Риски убытка: 0.098\n"
     ]
    }
   ],
   "source": [
    "bootstrap(target_2, predicted_2)"
   ]
  },
  {
   "cell_type": "markdown",
   "metadata": {},
   "source": [
    "## Вывод общий"
   ]
  },
  {
   "cell_type": "markdown",
   "metadata": {},
   "source": [
    "- Средний необходимый минимум запасов для точки безубыточности 111.11\n",
    "- При применении техники bootstrap:\n",
    "- Оценка средней прибыли максимальна для региона 1 (480.91 млн.).\n",
    "- Риск убытков для региона 1 (1.3%)\n",
    "- Рекомендуем регион 1 для разработки."
   ]
  },
  {
   "cell_type": "code",
   "execution_count": null,
   "metadata": {},
   "outputs": [],
   "source": [
    "   "
   ]
  }
 ],
 "metadata": {
  "ExecuteTimeLog": [
   {
    "duration": 53,
    "start_time": "2022-05-22T13:17:00.131Z"
   },
   {
    "duration": 529,
    "start_time": "2022-05-22T13:17:02.872Z"
   },
   {
    "duration": 25,
    "start_time": "2022-05-22T13:17:03.403Z"
   },
   {
    "duration": 331,
    "start_time": "2022-05-22T13:17:10.654Z"
   },
   {
    "duration": 466,
    "start_time": "2022-05-22T13:25:05.195Z"
   },
   {
    "duration": 19,
    "start_time": "2022-05-22T13:25:40.462Z"
   },
   {
    "duration": 12,
    "start_time": "2022-05-22T13:26:05.553Z"
   },
   {
    "duration": 22,
    "start_time": "2022-05-22T13:26:27.631Z"
   },
   {
    "duration": 22,
    "start_time": "2022-05-22T13:26:38.803Z"
   },
   {
    "duration": 24,
    "start_time": "2022-05-22T13:26:44.844Z"
   },
   {
    "duration": 3,
    "start_time": "2022-05-22T13:33:27.728Z"
   },
   {
    "duration": 4,
    "start_time": "2022-05-22T13:33:39.185Z"
   },
   {
    "duration": 5,
    "start_time": "2022-05-22T13:33:49.316Z"
   },
   {
    "duration": 21,
    "start_time": "2022-05-22T13:34:11.257Z"
   },
   {
    "duration": 5,
    "start_time": "2022-05-22T13:34:12.885Z"
   },
   {
    "duration": 22,
    "start_time": "2022-05-22T13:34:13.316Z"
   },
   {
    "duration": 4,
    "start_time": "2022-05-22T13:34:13.748Z"
   },
   {
    "duration": 21,
    "start_time": "2022-05-22T13:34:14.174Z"
   },
   {
    "duration": 5,
    "start_time": "2022-05-22T13:34:16.340Z"
   },
   {
    "duration": 7,
    "start_time": "2022-05-22T13:37:28.951Z"
   },
   {
    "duration": 3,
    "start_time": "2022-05-22T13:52:28.997Z"
   },
   {
    "duration": 3,
    "start_time": "2022-05-22T13:53:46.872Z"
   },
   {
    "duration": 10,
    "start_time": "2022-05-22T13:55:24.868Z"
   },
   {
    "duration": 700,
    "start_time": "2022-05-22T13:55:49.840Z"
   },
   {
    "duration": 206,
    "start_time": "2022-05-22T13:55:52.313Z"
   },
   {
    "duration": 4,
    "start_time": "2022-05-22T13:56:12.067Z"
   },
   {
    "duration": 4,
    "start_time": "2022-05-22T13:56:26.705Z"
   },
   {
    "duration": 24,
    "start_time": "2022-05-22T13:56:35.185Z"
   },
   {
    "duration": 8,
    "start_time": "2022-05-22T13:57:08.318Z"
   },
   {
    "duration": 9,
    "start_time": "2022-05-22T13:57:15.969Z"
   },
   {
    "duration": 4,
    "start_time": "2022-05-22T13:57:16.371Z"
   },
   {
    "duration": 101,
    "start_time": "2022-05-22T13:57:16.794Z"
   },
   {
    "duration": 24,
    "start_time": "2022-05-22T13:57:17.569Z"
   },
   {
    "duration": 24,
    "start_time": "2022-05-22T13:57:31.689Z"
   },
   {
    "duration": 2,
    "start_time": "2022-05-22T14:04:17.381Z"
   },
   {
    "duration": 3,
    "start_time": "2022-05-22T14:05:09.368Z"
   },
   {
    "duration": 6,
    "start_time": "2022-05-22T14:12:15.743Z"
   },
   {
    "duration": 3,
    "start_time": "2022-05-22T14:13:24.781Z"
   },
   {
    "duration": 4,
    "start_time": "2022-05-22T14:13:42.321Z"
   },
   {
    "duration": 5,
    "start_time": "2022-05-22T14:14:09.714Z"
   },
   {
    "duration": 4,
    "start_time": "2022-05-22T14:14:11.446Z"
   },
   {
    "duration": 3,
    "start_time": "2022-05-22T14:14:14.294Z"
   },
   {
    "duration": 349,
    "start_time": "2022-05-22T14:14:14.299Z"
   },
   {
    "duration": 22,
    "start_time": "2022-05-22T14:14:14.649Z"
   },
   {
    "duration": 4,
    "start_time": "2022-05-22T14:14:14.673Z"
   },
   {
    "duration": 22,
    "start_time": "2022-05-22T14:14:14.693Z"
   },
   {
    "duration": 4,
    "start_time": "2022-05-22T14:14:14.716Z"
   },
   {
    "duration": 24,
    "start_time": "2022-05-22T14:14:14.721Z"
   },
   {
    "duration": 4,
    "start_time": "2022-05-22T14:14:14.746Z"
   },
   {
    "duration": 10,
    "start_time": "2022-05-22T14:14:14.751Z"
   },
   {
    "duration": 33,
    "start_time": "2022-05-22T14:14:14.762Z"
   },
   {
    "duration": 100,
    "start_time": "2022-05-22T14:14:14.796Z"
   },
   {
    "duration": 108,
    "start_time": "2022-05-22T14:14:14.898Z"
   },
   {
    "duration": 192,
    "start_time": "2022-05-22T14:14:15.008Z"
   },
   {
    "duration": 92,
    "start_time": "2022-05-22T14:14:15.203Z"
   },
   {
    "duration": 100,
    "start_time": "2022-05-22T14:14:15.298Z"
   },
   {
    "duration": 7,
    "start_time": "2022-05-22T14:14:15.400Z"
   },
   {
    "duration": 12,
    "start_time": "2022-05-22T14:14:15.409Z"
   },
   {
    "duration": 31,
    "start_time": "2022-05-22T14:14:26.821Z"
   },
   {
    "duration": 10,
    "start_time": "2022-05-22T14:14:33.983Z"
   },
   {
    "duration": 5,
    "start_time": "2022-05-22T14:14:40.042Z"
   },
   {
    "duration": 4,
    "start_time": "2022-05-22T14:15:13.288Z"
   },
   {
    "duration": 6,
    "start_time": "2022-05-22T14:15:43.549Z"
   },
   {
    "duration": 3,
    "start_time": "2022-05-22T14:16:07.593Z"
   },
   {
    "duration": 326,
    "start_time": "2022-05-22T14:16:07.598Z"
   },
   {
    "duration": 22,
    "start_time": "2022-05-22T14:16:07.925Z"
   },
   {
    "duration": 4,
    "start_time": "2022-05-22T14:16:07.948Z"
   },
   {
    "duration": 40,
    "start_time": "2022-05-22T14:16:07.954Z"
   },
   {
    "duration": 5,
    "start_time": "2022-05-22T14:16:07.996Z"
   },
   {
    "duration": 23,
    "start_time": "2022-05-22T14:16:08.002Z"
   },
   {
    "duration": 4,
    "start_time": "2022-05-22T14:16:08.027Z"
   },
   {
    "duration": 17,
    "start_time": "2022-05-22T14:16:08.033Z"
   },
   {
    "duration": 16,
    "start_time": "2022-05-22T14:16:08.052Z"
   },
   {
    "duration": 35,
    "start_time": "2022-05-22T14:16:08.069Z"
   },
   {
    "duration": 199,
    "start_time": "2022-05-22T14:16:08.106Z"
   },
   {
    "duration": 196,
    "start_time": "2022-05-22T14:16:08.310Z"
   },
   {
    "duration": 2,
    "start_time": "2022-05-22T14:16:08.509Z"
   },
   {
    "duration": 5,
    "start_time": "2022-05-22T14:16:08.596Z"
   },
   {
    "duration": 99,
    "start_time": "2022-05-22T14:16:08.602Z"
   },
   {
    "duration": 7,
    "start_time": "2022-05-22T14:16:08.702Z"
   },
   {
    "duration": 8,
    "start_time": "2022-05-22T14:16:08.710Z"
   },
   {
    "duration": 8,
    "start_time": "2022-05-22T14:16:08.719Z"
   },
   {
    "duration": 4,
    "start_time": "2022-05-22T15:19:44.955Z"
   },
   {
    "duration": 13,
    "start_time": "2022-05-22T15:19:45.418Z"
   },
   {
    "duration": 5,
    "start_time": "2022-05-22T15:27:51.419Z"
   },
   {
    "duration": 13,
    "start_time": "2022-05-22T15:27:52.009Z"
   },
   {
    "duration": 3,
    "start_time": "2022-05-22T15:29:28.000Z"
   },
   {
    "duration": 4,
    "start_time": "2022-05-22T15:32:34.840Z"
   },
   {
    "duration": 8,
    "start_time": "2022-05-22T15:32:37.209Z"
   },
   {
    "duration": 3,
    "start_time": "2022-05-22T15:33:16.206Z"
   },
   {
    "duration": 3,
    "start_time": "2022-05-22T15:33:22.712Z"
   },
   {
    "duration": 5,
    "start_time": "2022-05-22T15:33:23.356Z"
   },
   {
    "duration": 3,
    "start_time": "2022-05-22T15:33:26.249Z"
   },
   {
    "duration": 3,
    "start_time": "2022-05-22T15:33:26.687Z"
   },
   {
    "duration": 5,
    "start_time": "2022-05-22T15:33:27.202Z"
   },
   {
    "duration": 18,
    "start_time": "2022-05-22T15:33:28.291Z"
   },
   {
    "duration": 4,
    "start_time": "2022-05-22T15:33:50.019Z"
   },
   {
    "duration": 3,
    "start_time": "2022-05-22T15:33:50.373Z"
   },
   {
    "duration": 4,
    "start_time": "2022-05-22T15:33:51.066Z"
   },
   {
    "duration": 3,
    "start_time": "2022-05-22T15:33:51.375Z"
   },
   {
    "duration": 5,
    "start_time": "2022-05-22T15:33:51.732Z"
   },
   {
    "duration": 18,
    "start_time": "2022-05-22T15:33:52.233Z"
   },
   {
    "duration": 3,
    "start_time": "2022-05-22T15:34:16.878Z"
   },
   {
    "duration": 3,
    "start_time": "2022-05-22T15:34:17.227Z"
   },
   {
    "duration": 5,
    "start_time": "2022-05-22T15:34:17.536Z"
   },
   {
    "duration": 17,
    "start_time": "2022-05-22T15:34:17.943Z"
   },
   {
    "duration": 5,
    "start_time": "2022-05-22T15:34:55.830Z"
   },
   {
    "duration": 18,
    "start_time": "2022-05-22T15:34:56.360Z"
   },
   {
    "duration": 41,
    "start_time": "2022-05-22T15:37:20.949Z"
   },
   {
    "duration": 13,
    "start_time": "2022-05-22T15:37:25.213Z"
   },
   {
    "duration": 4,
    "start_time": "2022-05-22T15:40:37.929Z"
   },
   {
    "duration": 60,
    "start_time": "2022-05-22T15:40:38.434Z"
   },
   {
    "duration": 21,
    "start_time": "2022-05-22T15:40:40.087Z"
   },
   {
    "duration": 22,
    "start_time": "2022-05-22T15:41:27.501Z"
   },
   {
    "duration": 4,
    "start_time": "2022-05-22T15:41:31.021Z"
   },
   {
    "duration": 4,
    "start_time": "2022-05-22T15:41:31.742Z"
   },
   {
    "duration": 5,
    "start_time": "2022-05-22T15:41:38.384Z"
   },
   {
    "duration": 24,
    "start_time": "2022-05-22T15:41:39.163Z"
   },
   {
    "duration": 3,
    "start_time": "2022-05-22T15:42:15.465Z"
   },
   {
    "duration": 332,
    "start_time": "2022-05-22T15:42:15.470Z"
   },
   {
    "duration": 22,
    "start_time": "2022-05-22T15:42:15.804Z"
   },
   {
    "duration": 4,
    "start_time": "2022-05-22T15:42:15.827Z"
   },
   {
    "duration": 21,
    "start_time": "2022-05-22T15:42:15.833Z"
   },
   {
    "duration": 4,
    "start_time": "2022-05-22T15:42:15.855Z"
   },
   {
    "duration": 50,
    "start_time": "2022-05-22T15:42:15.860Z"
   },
   {
    "duration": 3,
    "start_time": "2022-05-22T15:42:15.912Z"
   },
   {
    "duration": 10,
    "start_time": "2022-05-22T15:42:15.917Z"
   },
   {
    "duration": 10,
    "start_time": "2022-05-22T15:42:15.928Z"
   },
   {
    "duration": 58,
    "start_time": "2022-05-22T15:42:15.939Z"
   },
   {
    "duration": 108,
    "start_time": "2022-05-22T15:42:15.999Z"
   },
   {
    "duration": 209,
    "start_time": "2022-05-22T15:42:16.109Z"
   },
   {
    "duration": 73,
    "start_time": "2022-05-22T15:42:16.321Z"
   },
   {
    "duration": 10,
    "start_time": "2022-05-22T15:42:16.396Z"
   },
   {
    "duration": 6,
    "start_time": "2022-05-22T15:42:16.494Z"
   },
   {
    "duration": 16,
    "start_time": "2022-05-22T15:42:16.501Z"
   },
   {
    "duration": 0,
    "start_time": "2022-05-22T15:42:16.518Z"
   },
   {
    "duration": 0,
    "start_time": "2022-05-22T15:42:16.519Z"
   },
   {
    "duration": 0,
    "start_time": "2022-05-22T15:42:16.520Z"
   },
   {
    "duration": 3,
    "start_time": "2022-05-22T15:44:45.711Z"
   },
   {
    "duration": 4,
    "start_time": "2022-05-22T15:49:22.409Z"
   },
   {
    "duration": 65,
    "start_time": "2022-05-22T15:49:32.231Z"
   },
   {
    "duration": 23,
    "start_time": "2022-05-22T15:49:33.720Z"
   },
   {
    "duration": 28,
    "start_time": "2022-05-22T15:49:34.266Z"
   },
   {
    "duration": 3,
    "start_time": "2022-05-22T15:49:37.196Z"
   },
   {
    "duration": 3,
    "start_time": "2022-05-22T15:49:37.623Z"
   },
   {
    "duration": 3,
    "start_time": "2022-05-22T15:49:40.817Z"
   },
   {
    "duration": 14,
    "start_time": "2022-05-22T15:49:41.699Z"
   },
   {
    "duration": 4,
    "start_time": "2022-05-22T15:53:24.830Z"
   },
   {
    "duration": 26,
    "start_time": "2022-05-22T15:53:25.452Z"
   },
   {
    "duration": 2,
    "start_time": "2022-05-22T15:53:30.268Z"
   },
   {
    "duration": 350,
    "start_time": "2022-05-22T15:53:30.272Z"
   },
   {
    "duration": 21,
    "start_time": "2022-05-22T15:53:30.625Z"
   },
   {
    "duration": 18,
    "start_time": "2022-05-22T15:53:30.648Z"
   },
   {
    "duration": 35,
    "start_time": "2022-05-22T15:53:30.668Z"
   },
   {
    "duration": 6,
    "start_time": "2022-05-22T15:53:30.706Z"
   },
   {
    "duration": 36,
    "start_time": "2022-05-22T15:53:30.714Z"
   },
   {
    "duration": 11,
    "start_time": "2022-05-22T15:53:30.752Z"
   },
   {
    "duration": 14,
    "start_time": "2022-05-22T15:53:30.765Z"
   },
   {
    "duration": 8,
    "start_time": "2022-05-22T15:53:30.780Z"
   },
   {
    "duration": 30,
    "start_time": "2022-05-22T15:53:30.793Z"
   },
   {
    "duration": 181,
    "start_time": "2022-05-22T15:53:30.824Z"
   },
   {
    "duration": 192,
    "start_time": "2022-05-22T15:53:31.007Z"
   },
   {
    "duration": 98,
    "start_time": "2022-05-22T15:53:31.201Z"
   },
   {
    "duration": 100,
    "start_time": "2022-05-22T15:53:31.303Z"
   },
   {
    "duration": 6,
    "start_time": "2022-05-22T15:53:31.405Z"
   },
   {
    "duration": 23,
    "start_time": "2022-05-22T15:53:31.413Z"
   },
   {
    "duration": 0,
    "start_time": "2022-05-22T15:53:31.437Z"
   },
   {
    "duration": 0,
    "start_time": "2022-05-22T15:53:31.438Z"
   },
   {
    "duration": 0,
    "start_time": "2022-05-22T15:53:31.439Z"
   },
   {
    "duration": 18,
    "start_time": "2022-05-22T15:54:05.324Z"
   },
   {
    "duration": 4,
    "start_time": "2022-05-22T15:54:25.891Z"
   },
   {
    "duration": 49,
    "start_time": "2022-05-22T15:54:26.447Z"
   },
   {
    "duration": 9,
    "start_time": "2022-05-22T15:57:57.680Z"
   },
   {
    "duration": 3,
    "start_time": "2022-05-22T15:57:58.027Z"
   },
   {
    "duration": 3,
    "start_time": "2022-05-22T15:57:58.527Z"
   },
   {
    "duration": 26,
    "start_time": "2022-05-22T15:57:58.978Z"
   },
   {
    "duration": 27,
    "start_time": "2022-05-22T15:58:40.678Z"
   },
   {
    "duration": 19,
    "start_time": "2022-05-22T15:58:40.999Z"
   },
   {
    "duration": 19,
    "start_time": "2022-05-22T15:58:41.284Z"
   },
   {
    "duration": 3,
    "start_time": "2022-05-22T15:58:51.211Z"
   },
   {
    "duration": 6,
    "start_time": "2022-05-22T15:59:04.562Z"
   },
   {
    "duration": 5,
    "start_time": "2022-05-22T15:59:28.394Z"
   },
   {
    "duration": 4,
    "start_time": "2022-05-22T15:59:28.774Z"
   },
   {
    "duration": 4,
    "start_time": "2022-05-22T16:01:08.313Z"
   },
   {
    "duration": 8,
    "start_time": "2022-05-22T16:01:16.979Z"
   },
   {
    "duration": 3,
    "start_time": "2022-05-22T16:01:28.379Z"
   },
   {
    "duration": 8,
    "start_time": "2022-05-22T16:01:28.789Z"
   },
   {
    "duration": 4,
    "start_time": "2022-05-22T16:02:16.722Z"
   },
   {
    "duration": 18,
    "start_time": "2022-05-22T16:02:17.208Z"
   },
   {
    "duration": 1244,
    "start_time": "2022-05-22T16:02:31.022Z"
   },
   {
    "duration": 2,
    "start_time": "2022-05-22T16:02:59.306Z"
   },
   {
    "duration": 1625,
    "start_time": "2022-05-22T16:03:05.172Z"
   },
   {
    "duration": 1146,
    "start_time": "2022-05-22T16:03:59.844Z"
   },
   {
    "duration": 1175,
    "start_time": "2022-05-22T16:04:02.334Z"
   },
   {
    "duration": 3,
    "start_time": "2022-05-22T16:31:55.413Z"
   },
   {
    "duration": 326,
    "start_time": "2022-05-22T16:31:55.417Z"
   },
   {
    "duration": 22,
    "start_time": "2022-05-22T16:31:55.745Z"
   },
   {
    "duration": 4,
    "start_time": "2022-05-22T16:31:55.769Z"
   },
   {
    "duration": 35,
    "start_time": "2022-05-22T16:31:55.775Z"
   },
   {
    "duration": 3,
    "start_time": "2022-05-22T16:31:55.812Z"
   },
   {
    "duration": 25,
    "start_time": "2022-05-22T16:31:55.817Z"
   },
   {
    "duration": 4,
    "start_time": "2022-05-22T16:31:55.844Z"
   },
   {
    "duration": 18,
    "start_time": "2022-05-22T16:31:55.849Z"
   },
   {
    "duration": 6,
    "start_time": "2022-05-22T16:31:55.869Z"
   },
   {
    "duration": 4,
    "start_time": "2022-05-22T16:31:55.893Z"
   },
   {
    "duration": 23,
    "start_time": "2022-05-22T16:31:55.899Z"
   },
   {
    "duration": 173,
    "start_time": "2022-05-22T16:31:55.923Z"
   },
   {
    "duration": 196,
    "start_time": "2022-05-22T16:31:56.098Z"
   },
   {
    "duration": 4,
    "start_time": "2022-05-22T16:31:56.297Z"
   },
   {
    "duration": 99,
    "start_time": "2022-05-22T16:31:56.303Z"
   },
   {
    "duration": 5,
    "start_time": "2022-05-22T16:31:56.404Z"
   },
   {
    "duration": 5,
    "start_time": "2022-05-22T16:31:56.410Z"
   },
   {
    "duration": 3,
    "start_time": "2022-05-22T16:31:56.417Z"
   },
   {
    "duration": 5,
    "start_time": "2022-05-22T16:31:56.422Z"
   },
   {
    "duration": 5,
    "start_time": "2022-05-22T16:31:56.428Z"
   },
   {
    "duration": 10,
    "start_time": "2022-05-22T16:31:56.434Z"
   },
   {
    "duration": 2,
    "start_time": "2022-05-22T16:31:56.445Z"
   },
   {
    "duration": 4,
    "start_time": "2022-05-22T16:31:56.449Z"
   },
   {
    "duration": 1230,
    "start_time": "2022-05-22T16:31:56.455Z"
   },
   {
    "duration": 1219,
    "start_time": "2022-05-22T16:31:57.687Z"
   },
   {
    "duration": 1210,
    "start_time": "2022-05-22T16:31:58.907Z"
   },
   {
    "duration": 33,
    "start_time": "2022-05-22T16:40:50.257Z"
   },
   {
    "duration": 3,
    "start_time": "2022-05-22T16:43:41.576Z"
   },
   {
    "duration": 3,
    "start_time": "2022-05-22T16:43:45.323Z"
   },
   {
    "duration": 318,
    "start_time": "2022-05-22T16:43:45.327Z"
   },
   {
    "duration": 23,
    "start_time": "2022-05-22T16:43:45.647Z"
   },
   {
    "duration": 5,
    "start_time": "2022-05-22T16:43:45.671Z"
   },
   {
    "duration": 34,
    "start_time": "2022-05-22T16:43:45.678Z"
   },
   {
    "duration": 7,
    "start_time": "2022-05-22T16:43:45.714Z"
   },
   {
    "duration": 32,
    "start_time": "2022-05-22T16:43:45.723Z"
   },
   {
    "duration": 25,
    "start_time": "2022-05-22T16:43:45.756Z"
   },
   {
    "duration": 18,
    "start_time": "2022-05-22T16:43:45.782Z"
   },
   {
    "duration": 25,
    "start_time": "2022-05-22T16:43:45.802Z"
   },
   {
    "duration": 52,
    "start_time": "2022-05-22T16:43:45.829Z"
   },
   {
    "duration": 113,
    "start_time": "2022-05-22T16:43:45.894Z"
   },
   {
    "duration": 193,
    "start_time": "2022-05-22T16:43:46.009Z"
   },
   {
    "duration": 186,
    "start_time": "2022-05-22T16:43:46.209Z"
   },
   {
    "duration": 25,
    "start_time": "2022-05-22T16:43:46.396Z"
   },
   {
    "duration": 21,
    "start_time": "2022-05-22T16:43:46.422Z"
   },
   {
    "duration": 17,
    "start_time": "2022-05-22T16:43:46.445Z"
   },
   {
    "duration": 9,
    "start_time": "2022-05-22T16:43:46.463Z"
   },
   {
    "duration": 25,
    "start_time": "2022-05-22T16:43:46.473Z"
   },
   {
    "duration": 10,
    "start_time": "2022-05-22T16:43:46.499Z"
   },
   {
    "duration": 19,
    "start_time": "2022-05-22T16:43:46.510Z"
   },
   {
    "duration": 13,
    "start_time": "2022-05-22T16:43:46.530Z"
   },
   {
    "duration": 13,
    "start_time": "2022-05-22T16:43:46.544Z"
   },
   {
    "duration": 1304,
    "start_time": "2022-05-22T16:43:46.558Z"
   },
   {
    "duration": 1219,
    "start_time": "2022-05-22T16:43:47.863Z"
   },
   {
    "duration": 1188,
    "start_time": "2022-05-22T16:43:49.084Z"
   },
   {
    "duration": 2,
    "start_time": "2022-05-22T16:46:57.994Z"
   },
   {
    "duration": 3,
    "start_time": "2022-05-22T16:46:58.379Z"
   },
   {
    "duration": 3,
    "start_time": "2022-05-22T16:48:22.365Z"
   },
   {
    "duration": 4,
    "start_time": "2022-05-22T17:06:50.600Z"
   },
   {
    "duration": 1189,
    "start_time": "2022-05-22T17:06:50.988Z"
   },
   {
    "duration": 4,
    "start_time": "2022-05-22T17:08:54.737Z"
   },
   {
    "duration": 1223,
    "start_time": "2022-05-22T17:08:55.159Z"
   },
   {
    "duration": 1191,
    "start_time": "2022-05-22T17:08:59.544Z"
   },
   {
    "duration": 1190,
    "start_time": "2022-05-22T17:09:01.800Z"
   },
   {
    "duration": 1243,
    "start_time": "2022-05-22T17:09:03.890Z"
   },
   {
    "duration": 1231,
    "start_time": "2022-05-22T17:09:07.726Z"
   },
   {
    "duration": 5,
    "start_time": "2022-05-22T17:09:29.713Z"
   },
   {
    "duration": 1187,
    "start_time": "2022-05-22T17:09:30.219Z"
   },
   {
    "duration": 1186,
    "start_time": "2022-05-22T17:09:31.407Z"
   },
   {
    "duration": 1178,
    "start_time": "2022-05-22T17:09:32.594Z"
   },
   {
    "duration": 10,
    "start_time": "2022-05-23T16:23:26.739Z"
   },
   {
    "duration": 57,
    "start_time": "2022-05-23T16:23:28.754Z"
   },
   {
    "duration": 990,
    "start_time": "2022-05-23T16:23:32.322Z"
   },
   {
    "duration": 731,
    "start_time": "2022-05-23T16:23:33.314Z"
   },
   {
    "duration": 81,
    "start_time": "2022-05-23T16:23:34.047Z"
   },
   {
    "duration": 4,
    "start_time": "2022-05-23T16:23:34.130Z"
   },
   {
    "duration": 21,
    "start_time": "2022-05-23T16:23:34.136Z"
   },
   {
    "duration": 4,
    "start_time": "2022-05-23T16:23:34.159Z"
   },
   {
    "duration": 44,
    "start_time": "2022-05-23T16:23:34.165Z"
   },
   {
    "duration": 4,
    "start_time": "2022-05-23T16:23:34.211Z"
   },
   {
    "duration": 9,
    "start_time": "2022-05-23T16:23:34.217Z"
   },
   {
    "duration": 12,
    "start_time": "2022-05-23T16:23:34.229Z"
   },
   {
    "duration": 53,
    "start_time": "2022-05-23T16:23:34.242Z"
   },
   {
    "duration": 108,
    "start_time": "2022-05-23T16:23:34.297Z"
   },
   {
    "duration": 191,
    "start_time": "2022-05-23T16:23:34.408Z"
   },
   {
    "duration": 4,
    "start_time": "2022-05-23T16:23:34.602Z"
   },
   {
    "duration": 90,
    "start_time": "2022-05-23T16:23:34.608Z"
   },
   {
    "duration": 105,
    "start_time": "2022-05-23T16:23:34.700Z"
   },
   {
    "duration": 5,
    "start_time": "2022-05-23T16:23:34.807Z"
   },
   {
    "duration": 4,
    "start_time": "2022-05-23T16:23:34.813Z"
   },
   {
    "duration": 6,
    "start_time": "2022-05-23T16:23:34.819Z"
   },
   {
    "duration": 5,
    "start_time": "2022-05-23T16:23:34.827Z"
   },
   {
    "duration": 4,
    "start_time": "2022-05-23T16:23:34.834Z"
   },
   {
    "duration": 6,
    "start_time": "2022-05-23T16:23:34.840Z"
   },
   {
    "duration": 1197,
    "start_time": "2022-05-23T16:23:34.847Z"
   },
   {
    "duration": 1142,
    "start_time": "2022-05-23T16:23:36.046Z"
   },
   {
    "duration": 1123,
    "start_time": "2022-05-23T16:23:37.189Z"
   },
   {
    "duration": 2,
    "start_time": "2022-05-23T16:31:04.482Z"
   },
   {
    "duration": 360,
    "start_time": "2022-05-23T16:31:04.486Z"
   },
   {
    "duration": 23,
    "start_time": "2022-05-23T16:31:04.847Z"
   },
   {
    "duration": 4,
    "start_time": "2022-05-23T16:31:04.871Z"
   },
   {
    "duration": 21,
    "start_time": "2022-05-23T16:31:04.893Z"
   },
   {
    "duration": 4,
    "start_time": "2022-05-23T16:31:04.916Z"
   },
   {
    "duration": 21,
    "start_time": "2022-05-23T16:31:04.921Z"
   },
   {
    "duration": 4,
    "start_time": "2022-05-23T16:31:04.944Z"
   },
   {
    "duration": 4,
    "start_time": "2022-05-23T16:31:04.949Z"
   },
   {
    "duration": 5,
    "start_time": "2022-05-23T16:31:04.954Z"
   },
   {
    "duration": 50,
    "start_time": "2022-05-23T16:31:04.960Z"
   },
   {
    "duration": 190,
    "start_time": "2022-05-23T16:31:05.012Z"
   },
   {
    "duration": 195,
    "start_time": "2022-05-23T16:31:05.204Z"
   },
   {
    "duration": 4,
    "start_time": "2022-05-23T16:31:05.403Z"
   },
   {
    "duration": 91,
    "start_time": "2022-05-23T16:31:05.408Z"
   },
   {
    "duration": 101,
    "start_time": "2022-05-23T16:31:05.501Z"
   },
   {
    "duration": 6,
    "start_time": "2022-05-23T16:31:05.604Z"
   },
   {
    "duration": 10,
    "start_time": "2022-05-23T16:31:05.612Z"
   },
   {
    "duration": 8,
    "start_time": "2022-05-23T16:31:05.623Z"
   },
   {
    "duration": 4,
    "start_time": "2022-05-23T16:31:05.633Z"
   },
   {
    "duration": 8,
    "start_time": "2022-05-23T16:31:05.638Z"
   },
   {
    "duration": 7,
    "start_time": "2022-05-23T16:31:05.647Z"
   },
   {
    "duration": 1139,
    "start_time": "2022-05-23T16:31:05.655Z"
   },
   {
    "duration": 1158,
    "start_time": "2022-05-23T16:31:06.796Z"
   },
   {
    "duration": 1264,
    "start_time": "2022-05-23T16:31:07.955Z"
   },
   {
    "duration": 3,
    "start_time": "2022-05-23T16:31:32.490Z"
   },
   {
    "duration": 356,
    "start_time": "2022-05-23T16:31:32.495Z"
   },
   {
    "duration": 23,
    "start_time": "2022-05-23T16:31:32.853Z"
   },
   {
    "duration": 17,
    "start_time": "2022-05-23T16:31:32.877Z"
   },
   {
    "duration": 24,
    "start_time": "2022-05-23T16:31:32.896Z"
   },
   {
    "duration": 4,
    "start_time": "2022-05-23T16:31:32.922Z"
   },
   {
    "duration": 25,
    "start_time": "2022-05-23T16:31:32.927Z"
   },
   {
    "duration": 4,
    "start_time": "2022-05-23T16:31:32.953Z"
   },
   {
    "duration": 6,
    "start_time": "2022-05-23T16:31:32.958Z"
   },
   {
    "duration": 4,
    "start_time": "2022-05-23T16:31:32.994Z"
   },
   {
    "duration": 26,
    "start_time": "2022-05-23T16:31:33.000Z"
   },
   {
    "duration": 173,
    "start_time": "2022-05-23T16:31:33.028Z"
   },
   {
    "duration": 203,
    "start_time": "2022-05-23T16:31:33.203Z"
   },
   {
    "duration": 6,
    "start_time": "2022-05-23T16:31:33.408Z"
   },
   {
    "duration": 91,
    "start_time": "2022-05-23T16:31:33.415Z"
   },
   {
    "duration": 5,
    "start_time": "2022-05-23T16:31:33.595Z"
   },
   {
    "duration": 4,
    "start_time": "2022-05-23T16:31:33.602Z"
   },
   {
    "duration": 11,
    "start_time": "2022-05-23T16:31:33.607Z"
   },
   {
    "duration": 6,
    "start_time": "2022-05-23T16:31:33.620Z"
   },
   {
    "duration": 7,
    "start_time": "2022-05-23T16:31:33.627Z"
   },
   {
    "duration": 6,
    "start_time": "2022-05-23T16:31:33.635Z"
   },
   {
    "duration": 6,
    "start_time": "2022-05-23T16:31:33.642Z"
   },
   {
    "duration": 1198,
    "start_time": "2022-05-23T16:31:33.649Z"
   },
   {
    "duration": 1157,
    "start_time": "2022-05-23T16:31:34.848Z"
   },
   {
    "duration": 1164,
    "start_time": "2022-05-23T16:31:36.007Z"
   },
   {
    "duration": 3,
    "start_time": "2022-05-23T16:39:59.307Z"
   },
   {
    "duration": 358,
    "start_time": "2022-05-23T16:39:59.311Z"
   },
   {
    "duration": 27,
    "start_time": "2022-05-23T16:39:59.670Z"
   },
   {
    "duration": 4,
    "start_time": "2022-05-23T16:39:59.699Z"
   },
   {
    "duration": 38,
    "start_time": "2022-05-23T16:39:59.705Z"
   },
   {
    "duration": 4,
    "start_time": "2022-05-23T16:39:59.745Z"
   },
   {
    "duration": 30,
    "start_time": "2022-05-23T16:39:59.750Z"
   },
   {
    "duration": 13,
    "start_time": "2022-05-23T16:39:59.781Z"
   },
   {
    "duration": 3,
    "start_time": "2022-05-23T16:39:59.795Z"
   },
   {
    "duration": 4,
    "start_time": "2022-05-23T16:39:59.801Z"
   },
   {
    "duration": 29,
    "start_time": "2022-05-23T16:39:59.807Z"
   },
   {
    "duration": 173,
    "start_time": "2022-05-23T16:39:59.838Z"
   },
   {
    "duration": 181,
    "start_time": "2022-05-23T16:40:00.014Z"
   },
   {
    "duration": 108,
    "start_time": "2022-05-23T16:40:00.197Z"
   },
   {
    "duration": 97,
    "start_time": "2022-05-23T16:40:00.308Z"
   },
   {
    "duration": 15,
    "start_time": "2022-05-23T16:40:00.407Z"
   },
   {
    "duration": 10,
    "start_time": "2022-05-23T16:40:00.423Z"
   },
   {
    "duration": 11,
    "start_time": "2022-05-23T16:40:00.435Z"
   },
   {
    "duration": 16,
    "start_time": "2022-05-23T16:40:00.448Z"
   },
   {
    "duration": 9,
    "start_time": "2022-05-23T16:40:00.466Z"
   },
   {
    "duration": 12,
    "start_time": "2022-05-23T16:40:00.477Z"
   },
   {
    "duration": 8,
    "start_time": "2022-05-23T16:40:00.491Z"
   },
   {
    "duration": 1197,
    "start_time": "2022-05-23T16:40:00.501Z"
   },
   {
    "duration": 1225,
    "start_time": "2022-05-23T16:40:01.700Z"
   },
   {
    "duration": 1192,
    "start_time": "2022-05-23T16:40:02.927Z"
   }
  ],
  "kernelspec": {
   "display_name": "Python 3 (ipykernel)",
   "language": "python",
   "name": "python3"
  },
  "language_info": {
   "codemirror_mode": {
    "name": "ipython",
    "version": 3
   },
   "file_extension": ".py",
   "mimetype": "text/x-python",
   "name": "python",
   "nbconvert_exporter": "python",
   "pygments_lexer": "ipython3",
   "version": "3.9.7"
  },
  "toc": {
   "base_numbering": 1,
   "nav_menu": {},
   "number_sections": true,
   "sideBar": true,
   "skip_h1_title": true,
   "title_cell": "Table of Contents",
   "title_sidebar": "Contents",
   "toc_cell": true,
   "toc_position": {},
   "toc_section_display": true,
   "toc_window_display": false
  }
 },
 "nbformat": 4,
 "nbformat_minor": 2
}
