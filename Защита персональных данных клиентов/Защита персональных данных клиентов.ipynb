{
 "cells": [
  {
   "cell_type": "markdown",
   "metadata": {},
   "source": [
    "## Загрузка данных"
   ]
  },
  {
   "cell_type": "code",
   "execution_count": 1,
   "metadata": {},
   "outputs": [],
   "source": [
    "import pandas as pd\n",
    "import numpy as np \n",
    "from sklearn.preprocessing import StandardScaler\n",
    "from sklearn.linear_model import LinearRegression\n",
    "from sklearn.metrics import r2_score, mean_squared_error"
   ]
  },
  {
   "cell_type": "code",
   "execution_count": 2,
   "metadata": {},
   "outputs": [
    {
     "data": {
      "text/html": [
       "<div>\n",
       "<style scoped>\n",
       "    .dataframe tbody tr th:only-of-type {\n",
       "        vertical-align: middle;\n",
       "    }\n",
       "\n",
       "    .dataframe tbody tr th {\n",
       "        vertical-align: top;\n",
       "    }\n",
       "\n",
       "    .dataframe thead th {\n",
       "        text-align: right;\n",
       "    }\n",
       "</style>\n",
       "<table border=\"1\" class=\"dataframe\">\n",
       "  <thead>\n",
       "    <tr style=\"text-align: right;\">\n",
       "      <th></th>\n",
       "      <th>Пол</th>\n",
       "      <th>Возраст</th>\n",
       "      <th>Зарплата</th>\n",
       "      <th>Члены семьи</th>\n",
       "      <th>Страховые выплаты</th>\n",
       "    </tr>\n",
       "  </thead>\n",
       "  <tbody>\n",
       "    <tr>\n",
       "      <th>0</th>\n",
       "      <td>1</td>\n",
       "      <td>41.0</td>\n",
       "      <td>49600.0</td>\n",
       "      <td>1</td>\n",
       "      <td>0</td>\n",
       "    </tr>\n",
       "    <tr>\n",
       "      <th>1</th>\n",
       "      <td>0</td>\n",
       "      <td>46.0</td>\n",
       "      <td>38000.0</td>\n",
       "      <td>1</td>\n",
       "      <td>1</td>\n",
       "    </tr>\n",
       "    <tr>\n",
       "      <th>2</th>\n",
       "      <td>0</td>\n",
       "      <td>29.0</td>\n",
       "      <td>21000.0</td>\n",
       "      <td>0</td>\n",
       "      <td>0</td>\n",
       "    </tr>\n",
       "    <tr>\n",
       "      <th>3</th>\n",
       "      <td>0</td>\n",
       "      <td>21.0</td>\n",
       "      <td>41700.0</td>\n",
       "      <td>2</td>\n",
       "      <td>0</td>\n",
       "    </tr>\n",
       "    <tr>\n",
       "      <th>4</th>\n",
       "      <td>1</td>\n",
       "      <td>28.0</td>\n",
       "      <td>26100.0</td>\n",
       "      <td>0</td>\n",
       "      <td>0</td>\n",
       "    </tr>\n",
       "  </tbody>\n",
       "</table>\n",
       "</div>"
      ],
      "text/plain": [
       "   Пол  Возраст  Зарплата  Члены семьи  Страховые выплаты\n",
       "0    1     41.0   49600.0            1                  0\n",
       "1    0     46.0   38000.0            1                  1\n",
       "2    0     29.0   21000.0            0                  0\n",
       "3    0     21.0   41700.0            2                  0\n",
       "4    1     28.0   26100.0            0                  0"
      ]
     },
     "metadata": {},
     "output_type": "display_data"
    },
    {
     "name": "stdout",
     "output_type": "stream",
     "text": [
      "<class 'pandas.core.frame.DataFrame'>\n",
      "RangeIndex: 5000 entries, 0 to 4999\n",
      "Data columns (total 5 columns):\n",
      " #   Column             Non-Null Count  Dtype  \n",
      "---  ------             --------------  -----  \n",
      " 0   Пол                5000 non-null   int64  \n",
      " 1   Возраст            5000 non-null   float64\n",
      " 2   Зарплата           5000 non-null   float64\n",
      " 3   Члены семьи        5000 non-null   int64  \n",
      " 4   Страховые выплаты  5000 non-null   int64  \n",
      "dtypes: float64(2), int64(3)\n",
      "memory usage: 195.4 KB\n"
     ]
    },
    {
     "data": {
      "text/plain": [
       "None"
      ]
     },
     "metadata": {},
     "output_type": "display_data"
    }
   ],
   "source": [
    "df = pd.read_csv('/datasets/insurance.csv')\n",
    "display(df.head())\n",
    "display(df.info())"
   ]
  },
  {
   "cell_type": "code",
   "execution_count": 3,
   "metadata": {},
   "outputs": [
    {
     "data": {
      "text/html": [
       "<div>\n",
       "<style scoped>\n",
       "    .dataframe tbody tr th:only-of-type {\n",
       "        vertical-align: middle;\n",
       "    }\n",
       "\n",
       "    .dataframe tbody tr th {\n",
       "        vertical-align: top;\n",
       "    }\n",
       "\n",
       "    .dataframe thead th {\n",
       "        text-align: right;\n",
       "    }\n",
       "</style>\n",
       "<table border=\"1\" class=\"dataframe\">\n",
       "  <thead>\n",
       "    <tr style=\"text-align: right;\">\n",
       "      <th></th>\n",
       "      <th>Пол</th>\n",
       "      <th>Возраст</th>\n",
       "      <th>Зарплата</th>\n",
       "      <th>Члены семьи</th>\n",
       "      <th>Страховые выплаты</th>\n",
       "    </tr>\n",
       "  </thead>\n",
       "  <tbody>\n",
       "    <tr>\n",
       "      <th>count</th>\n",
       "      <td>5000.000000</td>\n",
       "      <td>5000.000000</td>\n",
       "      <td>5000.000000</td>\n",
       "      <td>5000.000000</td>\n",
       "      <td>5000.000000</td>\n",
       "    </tr>\n",
       "    <tr>\n",
       "      <th>mean</th>\n",
       "      <td>0.499000</td>\n",
       "      <td>30.952800</td>\n",
       "      <td>39916.360000</td>\n",
       "      <td>1.194200</td>\n",
       "      <td>0.148000</td>\n",
       "    </tr>\n",
       "    <tr>\n",
       "      <th>std</th>\n",
       "      <td>0.500049</td>\n",
       "      <td>8.440807</td>\n",
       "      <td>9900.083569</td>\n",
       "      <td>1.091387</td>\n",
       "      <td>0.463183</td>\n",
       "    </tr>\n",
       "    <tr>\n",
       "      <th>min</th>\n",
       "      <td>0.000000</td>\n",
       "      <td>18.000000</td>\n",
       "      <td>5300.000000</td>\n",
       "      <td>0.000000</td>\n",
       "      <td>0.000000</td>\n",
       "    </tr>\n",
       "    <tr>\n",
       "      <th>25%</th>\n",
       "      <td>0.000000</td>\n",
       "      <td>24.000000</td>\n",
       "      <td>33300.000000</td>\n",
       "      <td>0.000000</td>\n",
       "      <td>0.000000</td>\n",
       "    </tr>\n",
       "    <tr>\n",
       "      <th>50%</th>\n",
       "      <td>0.000000</td>\n",
       "      <td>30.000000</td>\n",
       "      <td>40200.000000</td>\n",
       "      <td>1.000000</td>\n",
       "      <td>0.000000</td>\n",
       "    </tr>\n",
       "    <tr>\n",
       "      <th>75%</th>\n",
       "      <td>1.000000</td>\n",
       "      <td>37.000000</td>\n",
       "      <td>46600.000000</td>\n",
       "      <td>2.000000</td>\n",
       "      <td>0.000000</td>\n",
       "    </tr>\n",
       "    <tr>\n",
       "      <th>max</th>\n",
       "      <td>1.000000</td>\n",
       "      <td>65.000000</td>\n",
       "      <td>79000.000000</td>\n",
       "      <td>6.000000</td>\n",
       "      <td>5.000000</td>\n",
       "    </tr>\n",
       "  </tbody>\n",
       "</table>\n",
       "</div>"
      ],
      "text/plain": [
       "               Пол      Возраст      Зарплата  Члены семьи  Страховые выплаты\n",
       "count  5000.000000  5000.000000   5000.000000  5000.000000        5000.000000\n",
       "mean      0.499000    30.952800  39916.360000     1.194200           0.148000\n",
       "std       0.500049     8.440807   9900.083569     1.091387           0.463183\n",
       "min       0.000000    18.000000   5300.000000     0.000000           0.000000\n",
       "25%       0.000000    24.000000  33300.000000     0.000000           0.000000\n",
       "50%       0.000000    30.000000  40200.000000     1.000000           0.000000\n",
       "75%       1.000000    37.000000  46600.000000     2.000000           0.000000\n",
       "max       1.000000    65.000000  79000.000000     6.000000           5.000000"
      ]
     },
     "metadata": {},
     "output_type": "display_data"
    }
   ],
   "source": [
    "display(df.describe())"
   ]
  },
  {
   "cell_type": "markdown",
   "metadata": {},
   "source": [
    "## Умножение матриц"
   ]
  },
  {
   "cell_type": "markdown",
   "metadata": {},
   "source": [
    "Обозначения:\n",
    "\n",
    "- $X$ — матрица признаков (нулевой столбец состоит из единиц)\n",
    "\n",
    "- $y$ — вектор целевого признака\n",
    "\n",
    "- $P$ — матрица, на которую умножаются признаки\n",
    "\n",
    "- $w$ — вектор весов линейной регрессии (нулевой элемент равен сдвигу)"
   ]
  },
  {
   "cell_type": "markdown",
   "metadata": {},
   "source": [
    "Предсказания:\n",
    "\n",
    "$$\n",
    "a = Xw\n",
    "$$\n",
    "\n",
    "Задача обучения:\n",
    "\n",
    "$$\n",
    "w = \\arg\\min_w MSE(Xw, y)\n",
    "$$\n",
    "\n",
    "Формула обучения:\n",
    "\n",
    "$$\n",
    "w = (X^T X)^{-1} X^T y\n",
    "$$"
   ]
  },
  {
   "cell_type": "markdown",
   "metadata": {},
   "source": [
    "**Ответ:** Нет, не изменится.\n",
    "\n",
    "**Обоснование:** "
   ]
  },
  {
   "cell_type": "markdown",
   "metadata": {},
   "source": [
    "Допустим $X_{1}$ = $X$ умножают на обратимую матрицу $Y$, тогда:"
   ]
  },
  {
   "cell_type": "markdown",
   "metadata": {},
   "source": [
    "<br><center>$w_{1}=(X_{1}^TX_{1})^{-1}X_{1}^Ty$</center></br>\n",
    "<br><center>$w_{1}=((XY)^TXY)^{-1}(XY)^Ty$</center></br>\n",
    "<br><center>$w_{1}=(Y^TX^TXY)^{-1}Y^TX^Ty$</center></br>\n",
    "<br><center>$w_{1}=Y^{-1} (X^TX)^{-1} (Y^{T})^{-1}      Y^TX^Ty$</center></br>\n",
    "<br><center>$w_{1}=Y^{-1} (X^TX)^{-1}X^Ty$</center></br>\n",
    "<br><center>$w_{1}=Y^{-1}w$</center></br>\n",
    "<br><center>$a_{1}=XYY^{-1}w$</center></br>\n",
    "<br><center>$a_{1}=Xw$</center></br>\n",
    "<br><center>$a_{1}=a$</center></br>"
   ]
  },
  {
   "cell_type": "markdown",
   "metadata": {},
   "source": [
    "## Алгоритм преобразования и проверка"
   ]
  },
  {
   "cell_type": "markdown",
   "metadata": {},
   "source": [
    "**Алгоритм**\n",
    "\n",
    "Умножаем признаки на обратимую матрицу"
   ]
  },
  {
   "cell_type": "markdown",
   "metadata": {},
   "source": [
    "**Обоснование**\n",
    "\n",
    "Обосновано в предыдущем пункте"
   ]
  },
  {
   "cell_type": "markdown",
   "metadata": {},
   "source": [
    "**Проверка**"
   ]
  },
  {
   "cell_type": "code",
   "execution_count": 4,
   "metadata": {},
   "outputs": [],
   "source": [
    "features = df.drop('Страховые выплаты', axis = 1)\n",
    "target = df['Страховые выплаты']"
   ]
  },
  {
   "cell_type": "code",
   "execution_count": 5,
   "metadata": {},
   "outputs": [
    {
     "name": "stdout",
     "output_type": "stream",
     "text": [
      "(5000, 4)\n"
     ]
    }
   ],
   "source": [
    "print(features.shape)"
   ]
  },
  {
   "cell_type": "code",
   "execution_count": 18,
   "metadata": {},
   "outputs": [],
   "source": [
    "rows = features.shape[1]\n",
    "columns = features.shape[1]\n",
    "np.random.seed(777)\n",
    "r_matrix = np.random.randint(0,10000,size=(rows, columns))"
   ]
  },
  {
   "cell_type": "code",
   "execution_count": 19,
   "metadata": {},
   "outputs": [
    {
     "data": {
      "text/plain": [
       "array([[2982, 7767, 4017, 5789],\n",
       "       [ 985, 3578, 9511, 8082],\n",
       "       [6541, 6798, 3931, 2898],\n",
       "       [8532, 7711, 3146, 6994]])"
      ]
     },
     "execution_count": 19,
     "metadata": {},
     "output_type": "execute_result"
    }
   ],
   "source": [
    "r_matrix"
   ]
  },
  {
   "cell_type": "code",
   "execution_count": 8,
   "metadata": {},
   "outputs": [
    {
     "name": "stdout",
     "output_type": "stream",
     "text": [
      "Матица обратима\n"
     ]
    }
   ],
   "source": [
    "try:\n",
    "    _ = np.linalg.inv(r_matrix)\n",
    "except:\n",
    "    print('Матица не обратима')\n",
    "else:\n",
    "    print('Матица обратима')"
   ]
  },
  {
   "cell_type": "markdown",
   "metadata": {},
   "source": [
    "**Обычная модель**"
   ]
  },
  {
   "cell_type": "code",
   "execution_count": 9,
   "metadata": {},
   "outputs": [
    {
     "name": "stdout",
     "output_type": "stream",
     "text": [
      "MSE: 0.1233\n",
      "Коэффициент детерминации: 0.4249\n"
     ]
    }
   ],
   "source": [
    "model = LinearRegression()\n",
    "model.fit(features, target)\n",
    "predict = model.predict(features)\n",
    "r2 = r2_score(target,predict)\n",
    "mse = mean_squared_error(target, predict)\n",
    "print('MSE: {:.4f}'.format(mse))\n",
    "print('Коэффициент детерминации: {:.4f}'.format(r2))"
   ]
  },
  {
   "cell_type": "markdown",
   "metadata": {},
   "source": [
    "**Модель с умножением на матрицу**"
   ]
  },
  {
   "cell_type": "code",
   "execution_count": 10,
   "metadata": {},
   "outputs": [],
   "source": [
    "features_mod = features @ r_matrix"
   ]
  },
  {
   "cell_type": "code",
   "execution_count": 11,
   "metadata": {},
   "outputs": [
    {
     "name": "stdout",
     "output_type": "stream",
     "text": [
      "MSE: 0.1233\n",
      "Коэффициент детерминации: 0.4249\n"
     ]
    }
   ],
   "source": [
    "model = LinearRegression()\n",
    "model.fit(features_mod, target)\n",
    "predict = model.predict(features_mod)\n",
    "r2 = r2_score(target,predict)\n",
    "mse = mean_squared_error(target, predict)\n",
    "print('MSE: {:.4f}'.format(mse))\n",
    "print('Коэффициент детерминации: {:.4f}'.format(r2))"
   ]
  },
  {
   "cell_type": "markdown",
   "metadata": {},
   "source": [
    "## Вывод"
   ]
  },
  {
   "cell_type": "markdown",
   "metadata": {},
   "source": [
    "Данные зашифрованы. \n",
    "Модель умноженная на матрицу и модель с исходными признаками имеют одинаковые результаты."
   ]
  }
 ],
 "metadata": {
  "ExecuteTimeLog": [
   {
    "duration": 47,
    "start_time": "2022-06-25T15:58:15.256Z"
   },
   {
    "duration": 1119,
    "start_time": "2022-06-25T15:58:18.649Z"
   },
   {
    "duration": 109,
    "start_time": "2022-06-25T15:58:19.770Z"
   },
   {
    "duration": 22,
    "start_time": "2022-06-25T15:59:28.494Z"
   },
   {
    "duration": 69,
    "start_time": "2022-06-25T16:14:33.333Z"
   },
   {
    "duration": 4,
    "start_time": "2022-06-25T16:40:02.198Z"
   },
   {
    "duration": 2,
    "start_time": "2022-06-25T16:41:16.487Z"
   },
   {
    "duration": 55,
    "start_time": "2022-06-25T16:49:24.754Z"
   },
   {
    "duration": 3,
    "start_time": "2022-06-25T16:49:36.051Z"
   },
   {
    "duration": 4,
    "start_time": "2022-06-25T16:50:00.308Z"
   },
   {
    "duration": 9,
    "start_time": "2022-06-25T16:53:31.452Z"
   },
   {
    "duration": 3,
    "start_time": "2022-06-25T16:53:40.610Z"
   },
   {
    "duration": 20,
    "start_time": "2022-06-25T16:53:43.205Z"
   },
   {
    "duration": 11,
    "start_time": "2022-06-25T16:53:51.258Z"
   },
   {
    "duration": 54,
    "start_time": "2022-06-25T17:06:55.333Z"
   },
   {
    "duration": 4,
    "start_time": "2022-06-25T17:10:14.873Z"
   },
   {
    "duration": 15,
    "start_time": "2022-06-25T17:13:05.780Z"
   },
   {
    "duration": 3,
    "start_time": "2022-06-25T17:16:03.752Z"
   },
   {
    "duration": 76,
    "start_time": "2022-06-25T17:16:27.600Z"
   },
   {
    "duration": 11,
    "start_time": "2022-06-25T17:17:29.933Z"
   },
   {
    "duration": 4,
    "start_time": "2022-06-25T17:18:21.964Z"
   },
   {
    "duration": 3,
    "start_time": "2022-06-25T17:18:57.539Z"
   },
   {
    "duration": 42,
    "start_time": "2022-06-25T17:18:57.545Z"
   },
   {
    "duration": 20,
    "start_time": "2022-06-25T17:18:57.588Z"
   },
   {
    "duration": 4,
    "start_time": "2022-06-25T17:18:57.610Z"
   },
   {
    "duration": 6,
    "start_time": "2022-06-25T17:18:57.616Z"
   },
   {
    "duration": 8,
    "start_time": "2022-06-25T17:18:57.624Z"
   },
   {
    "duration": 7,
    "start_time": "2022-06-25T17:18:57.633Z"
   },
   {
    "duration": 18,
    "start_time": "2022-06-25T17:18:57.642Z"
   },
   {
    "duration": 93,
    "start_time": "2022-06-25T17:18:57.661Z"
   },
   {
    "duration": 105,
    "start_time": "2022-06-25T17:18:57.756Z"
   },
   {
    "duration": 1216,
    "start_time": "2022-06-26T19:16:45.064Z"
   },
   {
    "duration": 141,
    "start_time": "2022-06-26T19:16:46.285Z"
   },
   {
    "duration": 34,
    "start_time": "2022-06-26T19:16:46.428Z"
   },
   {
    "duration": 5,
    "start_time": "2022-06-26T19:16:46.465Z"
   },
   {
    "duration": 7,
    "start_time": "2022-06-26T19:16:46.473Z"
   },
   {
    "duration": 7,
    "start_time": "2022-06-26T19:16:46.482Z"
   },
   {
    "duration": 14,
    "start_time": "2022-06-26T19:16:46.490Z"
   },
   {
    "duration": 53,
    "start_time": "2022-06-26T19:16:46.506Z"
   },
   {
    "duration": 90,
    "start_time": "2022-06-26T19:16:46.562Z"
   },
   {
    "duration": 88,
    "start_time": "2022-06-26T19:16:46.654Z"
   },
   {
    "duration": 99,
    "start_time": "2022-06-26T19:16:46.744Z"
   },
   {
    "duration": 4,
    "start_time": "2022-06-26T19:26:54.688Z"
   },
   {
    "duration": 5,
    "start_time": "2022-06-26T19:26:56.644Z"
   },
   {
    "duration": 5,
    "start_time": "2022-06-26T19:27:01.064Z"
   },
   {
    "duration": 5,
    "start_time": "2022-06-26T19:27:02.570Z"
   },
   {
    "duration": 5,
    "start_time": "2022-06-26T19:27:06.812Z"
   },
   {
    "duration": 6,
    "start_time": "2022-06-26T19:27:08.262Z"
   },
   {
    "duration": 5,
    "start_time": "2022-06-26T19:27:13.466Z"
   },
   {
    "duration": 6,
    "start_time": "2022-06-26T19:27:15.161Z"
   }
  ],
  "kernelspec": {
   "display_name": "Python 3 (ipykernel)",
   "language": "python",
   "name": "python3"
  },
  "language_info": {
   "codemirror_mode": {
    "name": "ipython",
    "version": 3
   },
   "file_extension": ".py",
   "mimetype": "text/x-python",
   "name": "python",
   "nbconvert_exporter": "python",
   "pygments_lexer": "ipython3",
   "version": "3.9.7"
  },
  "toc": {
   "base_numbering": 1,
   "nav_menu": {},
   "number_sections": true,
   "sideBar": true,
   "skip_h1_title": true,
   "title_cell": "Содержание",
   "title_sidebar": "Contents",
   "toc_cell": true,
   "toc_position": {},
   "toc_section_display": true,
   "toc_window_display": true
  }
 },
 "nbformat": 4,
 "nbformat_minor": 2
}
