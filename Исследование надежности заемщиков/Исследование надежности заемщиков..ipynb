{
 "cells": [
  {
   "cell_type": "markdown",
   "id": "54d3cc03",
   "metadata": {},
   "source": [
    "# Исследование надежности заемщиков."
   ]
  },
  {
   "cell_type": "markdown",
   "id": "701beb0c",
   "metadata": {},
   "source": [
    "<b>Цель данного проекта выяснить:</b>\n",
    "   * влияет ли семейное положение на факт погошения кредита в срок \n",
    "   * влияет ли количество детей на факт погошения кредита в срок "
   ]
  },
  {
   "cell_type": "markdown",
   "id": "64d23e1c",
   "metadata": {},
   "source": [
    "<b>Пояснение к данным:</b>\n",
    "- children — количество детей в семье\n",
    "- days_employed — общий трудовой стаж в днях\n",
    "- dob_years — возраст клиента в годах\n",
    "- education — уровень образования клиента\n",
    "- education_id — идентификатор уровня образования\n",
    "- family_status — семейное положение\n",
    "- family_status_id — идентификатор семейного положения\n",
    "- gender — пол клиента\n",
    "- income_type — тип занятости\n",
    "- debt — имел ли задолженность по возврату кредитов\n",
    "- total_income — ежемесячный доход\n",
    "- purpose — цель получения кредита"
   ]
  },
  {
   "cell_type": "markdown",
   "id": "712e5da1",
   "metadata": {},
   "source": [
    "<b>План работы:</b>\n",
    "- Ознакомление с данными\n",
    "- Предобработка данных\n",
    "- Анализ данных"
   ]
  },
  {
   "cell_type": "markdown",
   "id": "e7dbc2b3",
   "metadata": {},
   "source": [
    "## Шаг 1. Обзор данных"
   ]
  },
  {
   "cell_type": "code",
   "execution_count": 1181,
   "id": "950356a8",
   "metadata": {},
   "outputs": [],
   "source": [
    "import pandas as pd\n",
    "from pymystem3 import Mystem"
   ]
  },
  {
   "cell_type": "code",
   "execution_count": 1182,
   "id": "c9843f19",
   "metadata": {},
   "outputs": [
    {
     "name": "stdout",
     "output_type": "stream",
     "text": [
      "<class 'pandas.core.frame.DataFrame'>\n",
      "RangeIndex: 21525 entries, 0 to 21524\n",
      "Data columns (total 12 columns):\n",
      "children            21525 non-null int64\n",
      "days_employed       19351 non-null float64\n",
      "dob_years           21525 non-null int64\n",
      "education           21525 non-null object\n",
      "education_id        21525 non-null int64\n",
      "family_status       21525 non-null object\n",
      "family_status_id    21525 non-null int64\n",
      "gender              21525 non-null object\n",
      "income_type         21525 non-null object\n",
      "debt                21525 non-null int64\n",
      "total_income        19351 non-null float64\n",
      "purpose             21525 non-null object\n",
      "dtypes: float64(2), int64(5), object(5)\n",
      "memory usage: 2.0+ MB\n"
     ]
    }
   ],
   "source": [
    "df = pd.read_csv('/datasets/data.csv')\n",
    "\n",
    "#Знакомство с таблицей\n",
    "df.info()"
   ]
  },
  {
   "cell_type": "markdown",
   "id": "4670b1b3",
   "metadata": {},
   "source": [
    "Количество пропусков в таблице"
   ]
  },
  {
   "cell_type": "code",
   "execution_count": 1183,
   "id": "902b3f08",
   "metadata": {},
   "outputs": [
    {
     "name": "stdout",
     "output_type": "stream",
     "text": [
      "children               0\n",
      "days_employed       2174\n",
      "dob_years              0\n",
      "education              0\n",
      "education_id           0\n",
      "family_status          0\n",
      "family_status_id       0\n",
      "gender                 0\n",
      "income_type            0\n",
      "debt                   0\n",
      "total_income        2174\n",
      "purpose                0\n",
      "dtype: int64\n"
     ]
    }
   ],
   "source": [
    "print(df.isna().sum())"
   ]
  },
  {
   "cell_type": "code",
   "execution_count": 1184,
   "id": "2b83603e",
   "metadata": {},
   "outputs": [],
   "source": [
    "df_null_days = df['days_employed'].isna().sum()\n",
    "df_null_income = df['total_income'].isna().sum()"
   ]
  },
  {
   "cell_type": "markdown",
   "id": "3fabc07e",
   "metadata": {},
   "source": [
    "**Причины пропусков**\n",
    "\n",
    "Как правило причинами является человеческий фактор или техническая ошибка, когда вводили результаты в таблицу. Бывают и другие причины, но для ответа на этот вопрос нужно знать каждый конкретный случай."
   ]
  },
  {
   "cell_type": "markdown",
   "id": "b916bb93",
   "metadata": {},
   "source": [
    "Данные для расчета доли пропущенных значений:"
   ]
  },
  {
   "cell_type": "code",
   "execution_count": 1185,
   "id": "c39f7a68",
   "metadata": {},
   "outputs": [],
   "source": [
    "count_days_employed = df['days_employed'].count()\n",
    "count_total_income = df['total_income'].count()"
   ]
  },
  {
   "cell_type": "markdown",
   "id": "f8f580b5",
   "metadata": {},
   "source": [
    "Доля пропущенных значений:"
   ]
  },
  {
   "cell_type": "code",
   "execution_count": 1186,
   "id": "7caf5d77",
   "metadata": {},
   "outputs": [
    {
     "name": "stdout",
     "output_type": "stream",
     "text": [
      "Доля пропущенных значений в days_employed: 11%\n",
      "Доля пропущенных значений в total_income: 11%\n"
     ]
    }
   ],
   "source": [
    "print('Доля пропущенных значений в days_employed: {:.0%}'.format(df_null_days/count_days_employed))\n",
    "print('Доля пропущенных значений в total_income: {:.0%}'.format(df_null_income/count_total_income))"
   ]
  },
  {
   "cell_type": "markdown",
   "id": "e779601a",
   "metadata": {},
   "source": [
    "## Шаг 2.1 Заполнение пропусков медианным значением"
   ]
  },
  {
   "cell_type": "markdown",
   "id": "2a291f25",
   "metadata": {},
   "source": [
    "Заполнение пропусков медианным значением:"
   ]
  },
  {
   "cell_type": "code",
   "execution_count": 1187,
   "id": "da080794",
   "metadata": {},
   "outputs": [],
   "source": [
    "df = df.fillna({'total_income': df.groupby('income_type')['total_income'].transform('median')})\n",
    "df = df.fillna({'days_employed': df.groupby('income_type')['days_employed'].transform('median')})"
   ]
  },
  {
   "cell_type": "markdown",
   "id": "acc9874e",
   "metadata": {},
   "source": [
    "Проверка корректности применения метода:"
   ]
  },
  {
   "cell_type": "code",
   "execution_count": 1188,
   "id": "fd6b23c2",
   "metadata": {},
   "outputs": [
    {
     "name": "stdout",
     "output_type": "stream",
     "text": [
      "children            0\n",
      "days_employed       0\n",
      "dob_years           0\n",
      "education           0\n",
      "education_id        0\n",
      "family_status       0\n",
      "family_status_id    0\n",
      "gender              0\n",
      "income_type         0\n",
      "debt                0\n",
      "total_income        0\n",
      "purpose             0\n",
      "dtype: int64\n"
     ]
    }
   ],
   "source": [
    "print(df.isna().sum())"
   ]
  },
  {
   "cell_type": "markdown",
   "id": "4fdb7957",
   "metadata": {},
   "source": [
    "**Использование медианы**\n",
    "\n",
    "Использование медианы лучще для заполнения, потому что в таком случае будут менишие искажения при расчетах, если у нас имеются \"выбросы\""
   ]
  },
  {
   "cell_type": "markdown",
   "id": "58b69a27",
   "metadata": {},
   "source": [
    "## Шаг 2.2 Проверка данных на аномалии и исправления."
   ]
  },
  {
   "cell_type": "markdown",
   "id": "71cd7f5b",
   "metadata": {},
   "source": [
    "### Нахождение аномальных значений"
   ]
  },
  {
   "cell_type": "markdown",
   "id": "9226aac2",
   "metadata": {},
   "source": [
    "Обзор таблици для поиска аномальных значений:"
   ]
  },
  {
   "cell_type": "code",
   "execution_count": 1189,
   "id": "193c25a2",
   "metadata": {},
   "outputs": [
    {
     "name": "stdout",
     "output_type": "stream",
     "text": [
      " 0     14149\n",
      " 1      4818\n",
      " 2      2055\n",
      " 3       330\n",
      " 20       76\n",
      "-1        47\n",
      " 4        41\n",
      " 5         9\n",
      "Name: children, dtype: int64\n",
      " \n",
      "Максимальное значение:  20\n",
      "-----------------------------------\n",
      "-1574.202821      1105\n",
      "-1547.382223       509\n",
      " 365213.306266     414\n",
      "-2689.368353       147\n",
      "-520.848083          2\n",
      " 396078.542064       1\n",
      "-4906.125062         1\n",
      "-4236.274243         1\n",
      "-6620.396473         1\n",
      "-1238.560080         1\n",
      "Name: days_employed, dtype: int64\n",
      " \n",
      "Максимальное значение:  401755.40047533\n",
      "-----------------------------------\n",
      "35    617\n",
      "40    609\n",
      "41    607\n",
      "34    603\n",
      "38    598\n",
      "42    597\n",
      "33    581\n",
      "39    573\n",
      "31    560\n",
      "36    555\n",
      "Name: dob_years, dtype: int64\n",
      " \n",
      "Максимальное значение:  75\n",
      "-----------------------------------\n",
      "среднее                13750\n",
      "высшее                  4718\n",
      "СРЕДНЕЕ                  772\n",
      "Среднее                  711\n",
      "неоконченное высшее      668\n",
      "ВЫСШЕЕ                   274\n",
      "Высшее                   268\n",
      "начальное                250\n",
      "Неоконченное высшее       47\n",
      "НЕОКОНЧЕННОЕ ВЫСШЕЕ       29\n",
      "Name: education, dtype: int64\n",
      " \n",
      "Максимальное значение:  ученая степень\n",
      "-----------------------------------\n",
      "1    15233\n",
      "0     5260\n",
      "2      744\n",
      "3      282\n",
      "4        6\n",
      "Name: education_id, dtype: int64\n",
      " \n",
      "Максимальное значение:  4\n",
      "-----------------------------------\n",
      "женат / замужем          12380\n",
      "гражданский брак          4177\n",
      "Не женат / не замужем     2813\n",
      "в разводе                 1195\n",
      "вдовец / вдова             960\n",
      "Name: family_status, dtype: int64\n",
      " \n",
      "Максимальное значение:  женат / замужем\n",
      "-----------------------------------\n",
      "0    12380\n",
      "1     4177\n",
      "4     2813\n",
      "3     1195\n",
      "2      960\n",
      "Name: family_status_id, dtype: int64\n",
      " \n",
      "Максимальное значение:  4\n",
      "-----------------------------------\n",
      "F      14236\n",
      "M       7288\n",
      "XNA        1\n",
      "Name: gender, dtype: int64\n",
      " \n",
      "Максимальное значение:  XNA\n",
      "-----------------------------------\n",
      "сотрудник          11119\n",
      "компаньон           5085\n",
      "пенсионер           3856\n",
      "госслужащий         1459\n",
      "безработный            2\n",
      "предприниматель        2\n",
      "в декрете              1\n",
      "студент                1\n",
      "Name: income_type, dtype: int64\n",
      " \n",
      "Максимальное значение:  студент\n",
      "-----------------------------------\n",
      "0    19784\n",
      "1     1741\n",
      "Name: debt, dtype: int64\n",
      " \n",
      "Максимальное значение:  1\n",
      "-----------------------------------\n",
      "142594.396847    1105\n",
      "172357.950966     509\n",
      "118514.486412     414\n",
      "150447.935283     147\n",
      "499163.144947       2\n",
      "112874.418757       1\n",
      "91053.547017        1\n",
      "122421.963500       1\n",
      "198271.837248       1\n",
      "109113.601678       1\n",
      "Name: total_income, dtype: int64\n",
      " \n",
      "Максимальное значение:  2265604.028722744\n",
      "-----------------------------------\n",
      "свадьба                                  797\n",
      "на проведение свадьбы                    777\n",
      "сыграть свадьбу                          774\n",
      "операции с недвижимостью                 676\n",
      "покупка коммерческой недвижимости        664\n",
      "покупка жилья для сдачи                  653\n",
      "операции с жильем                        653\n",
      "операции с коммерческой недвижимостью    651\n",
      "покупка жилья                            647\n",
      "жилье                                    647\n",
      "Name: purpose, dtype: int64\n",
      " \n",
      "Максимальное значение:  сыграть свадьбу\n",
      "-----------------------------------\n"
     ]
    }
   ],
   "source": [
    "df_columns = df.columns\n",
    "\n",
    "for i in df_columns:\n",
    "    print(df[i].value_counts().head(10))\n",
    "    print(' ')\n",
    "    print('Максимальное значение: ',df[i].max())\n",
    "    print('-----------------------------------')"
   ]
  },
  {
   "cell_type": "markdown",
   "id": "6a39b3ff",
   "metadata": {},
   "source": [
    "### Обработка аномальных значений в `gender`"
   ]
  },
  {
   "cell_type": "markdown",
   "id": "c6c1fe07",
   "metadata": {},
   "source": [
    "Удаление одной строки с неопределяемым гендером:"
   ]
  },
  {
   "cell_type": "code",
   "execution_count": 1190,
   "id": "96c01d97",
   "metadata": {},
   "outputs": [],
   "source": [
    "df = df[df['gender']!='xna']"
   ]
  },
  {
   "cell_type": "markdown",
   "id": "a2ed779f",
   "metadata": {},
   "source": [
    "Проверка корректности удаления:"
   ]
  },
  {
   "cell_type": "code",
   "execution_count": 1191,
   "id": "35c824f9",
   "metadata": {},
   "outputs": [
    {
     "name": "stdout",
     "output_type": "stream",
     "text": [
      "21525\n",
      "F      14236\n",
      "M       7288\n",
      "XNA        1\n",
      "Name: gender, dtype: int64\n"
     ]
    }
   ],
   "source": [
    "print(df.shape[0])\n",
    "print(df['gender'].value_counts())"
   ]
  },
  {
   "cell_type": "markdown",
   "id": "db779663",
   "metadata": {},
   "source": [
    "### Обработка аномальных значений в `children`"
   ]
  },
  {
   "cell_type": "markdown",
   "id": "6089aa22",
   "metadata": {},
   "source": [
    "Замена ошибочных значений:"
   ]
  },
  {
   "cell_type": "code",
   "execution_count": 1192,
   "id": "ca716f58",
   "metadata": {},
   "outputs": [
    {
     "name": "stdout",
     "output_type": "stream",
     "text": [
      "0    14149\n",
      "1     4865\n",
      "2     2131\n",
      "3      330\n",
      "4       41\n",
      "5        9\n",
      "Name: children, dtype: int64\n"
     ]
    }
   ],
   "source": [
    "df.loc[df['children'] == 20, 'children'] = 2\n",
    "df.loc[df['children'] == -1, 'children'] = 1\n",
    "print(df['children'].value_counts().head(10))"
   ]
  },
  {
   "cell_type": "markdown",
   "id": "30f10ccf",
   "metadata": {},
   "source": [
    "### Обработка аномальных значений в `days_employed`"
   ]
  },
  {
   "cell_type": "markdown",
   "id": "ed3da141",
   "metadata": {},
   "source": [
    "**Найденные проблемы**\n",
    "\n",
    "- отрицательный стаж\n",
    "- нецелое число стажа в днях\n",
    "- слишком большой стаж у некоторых значений (порядка 1000 лет)\n",
    "\n",
    "Для нашего анализа данный столбец не нужен, поэтому просто удалим его"
   ]
  },
  {
   "cell_type": "code",
   "execution_count": 1193,
   "id": "2648bc5f",
   "metadata": {},
   "outputs": [],
   "source": [
    "df = df.drop(columns = ['days_employed'], axis = 1)"
   ]
  },
  {
   "cell_type": "markdown",
   "id": "7cd3e51d",
   "metadata": {},
   "source": [
    "## Шаг 2.3. Изменение типов данных в столбце `total_income`"
   ]
  },
  {
   "cell_type": "code",
   "execution_count": 1194,
   "id": "534325b1",
   "metadata": {},
   "outputs": [
    {
     "name": "stdout",
     "output_type": "stream",
     "text": [
      "Average memory usage: 0.16 MB\n"
     ]
    }
   ],
   "source": [
    "selected_dtype_float = df.select_dtypes(include='float')\n",
    "mean_usage_float = selected_dtype_float.memory_usage(deep=True).mean()\n",
    "mean_usage_mb_float = mean_usage_float / 1024 ** 2\n",
    "print(\"Average memory usage: {:03.2f} MB\".format(mean_usage_mb_float))"
   ]
  },
  {
   "cell_type": "code",
   "execution_count": 1195,
   "id": "b0358522",
   "metadata": {},
   "outputs": [
    {
     "name": "stdout",
     "output_type": "stream",
     "text": [
      "Average memory usage: 0.12 MB\n"
     ]
    }
   ],
   "source": [
    "df['total_income'] = df['total_income'].astype('uint32')\n",
    "\n",
    "selected_dtype_unit = df.select_dtypes(include='uint32')\n",
    "mean_usage_unit = selected_dtype_unit.memory_usage(deep=True).mean()\n",
    "mean_usage_mb_unit = mean_usage_unit / 1024 ** 2\n",
    "print(\"Average memory usage: {:03.2f} MB\".format(mean_usage_mb_unit))"
   ]
  },
  {
   "cell_type": "code",
   "execution_count": 1196,
   "id": "974f228f",
   "metadata": {},
   "outputs": [
    {
     "name": "stdout",
     "output_type": "stream",
     "text": [
      "Сэкономлено: 25.0%\n"
     ]
    }
   ],
   "source": [
    "print(f'Сэкономлено: {100-(mean_usage_mb_unit*100/mean_usage_mb_float)}%')"
   ]
  },
  {
   "cell_type": "markdown",
   "id": "61edacfa",
   "metadata": {},
   "source": [
    "## Шаг 2.4. Удаление дубликатов."
   ]
  },
  {
   "cell_type": "markdown",
   "id": "9e8ba4d2",
   "metadata": {},
   "source": [
    "Для поиска дубликатов надо привести все значения к одному виду. \n",
    "Переведем столбци с типом \"object\" в нижний регистр:"
   ]
  },
  {
   "cell_type": "code",
   "execution_count": 1197,
   "id": "c6a95000",
   "metadata": {},
   "outputs": [],
   "source": [
    "object_type = ['education', 'family_status', 'gender', 'income_type', 'purpose']\n",
    "for i in object_type:\n",
    "    df[i] = df[i].str.lower()"
   ]
  },
  {
   "cell_type": "markdown",
   "id": "6af36526",
   "metadata": {},
   "source": [
    "Посмотрим на количество дубликатов:"
   ]
  },
  {
   "cell_type": "code",
   "execution_count": 1198,
   "id": "f5187542",
   "metadata": {},
   "outputs": [
    {
     "name": "stdout",
     "output_type": "stream",
     "text": [
      "71\n"
     ]
    }
   ],
   "source": [
    "print(df.duplicated().sum())"
   ]
  },
  {
   "cell_type": "markdown",
   "id": "923d261c",
   "metadata": {},
   "source": [
    "Удалим явные дубликаты:"
   ]
  },
  {
   "cell_type": "code",
   "execution_count": 1199,
   "id": "b437edcf",
   "metadata": {},
   "outputs": [],
   "source": [
    "df = df.drop_duplicates()"
   ]
  },
  {
   "cell_type": "markdown",
   "id": "70489968",
   "metadata": {},
   "source": [
    "Снова проверим количество дубликатов:"
   ]
  },
  {
   "cell_type": "code",
   "execution_count": 1200,
   "id": "f35ea4d9",
   "metadata": {},
   "outputs": [
    {
     "name": "stdout",
     "output_type": "stream",
     "text": [
      "0\n"
     ]
    }
   ],
   "source": [
    "print(df.duplicated().sum())"
   ]
  },
  {
   "cell_type": "code",
   "execution_count": 1201,
   "id": "45e34c4c",
   "metadata": {},
   "outputs": [],
   "source": [
    "df_reserve = df #в конце объяснение зачем это. Техническая проблема. Не пойму как решить."
   ]
  },
  {
   "cell_type": "markdown",
   "id": "5c2da47a",
   "metadata": {},
   "source": [
    "## Шаг 2.5. Формирование дополнительных датафреймов словарей, декомпозиция исходного датафрейма."
   ]
  },
  {
   "cell_type": "code",
   "execution_count": 1202,
   "id": "f1b020ea",
   "metadata": {},
   "outputs": [
    {
     "name": "stdout",
     "output_type": "stream",
     "text": [
      "      family_status  family_status_id\n",
      "0   женат / замужем                 0\n",
      "1   женат / замужем                 0\n",
      "2   женат / замужем                 0\n",
      "3   женат / замужем                 0\n",
      "4  гражданский брак                 1\n",
      "5  гражданский брак                 1\n",
      "6   женат / замужем                 0\n",
      "7   женат / замужем                 0\n",
      "8  гражданский брак                 1\n",
      "9   женат / замужем                 0\n"
     ]
    }
   ],
   "source": [
    "df_education = df[['education', 'education_id']]\n",
    "df_family = df[['family_status', 'family_status_id']]\n",
    "\n",
    "df = df.drop(columns = ['education', 'family_status'], axis = 1)\n",
    "print(df_family.head(10))"
   ]
  },
  {
   "cell_type": "markdown",
   "id": "0a2ada77",
   "metadata": {},
   "source": [
    "## Шаг 2.6. Категоризация дохода."
   ]
  },
  {
   "cell_type": "markdown",
   "id": "609731ec",
   "metadata": {},
   "source": [
    "Создание функции для категоризации по доходу:"
   ]
  },
  {
   "cell_type": "code",
   "execution_count": 1203,
   "id": "724968e6",
   "metadata": {},
   "outputs": [],
   "source": [
    "def category (income):\n",
    "    if income <= 30000:\n",
    "        return 'E'\n",
    "    if income >=30001 and income <= 50000:\n",
    "        return 'D'\n",
    "    if income >=50001 and income <= 200000:\n",
    "        return 'C'\n",
    "    if income >=200001 and income <= 1000000:\n",
    "        return 'B'\n",
    "    if income >=1000001:\n",
    "        return 'A'"
   ]
  },
  {
   "cell_type": "markdown",
   "id": "861bdf81",
   "metadata": {},
   "source": [
    "Создание нового столбца с категоризацией по доходу:"
   ]
  },
  {
   "cell_type": "code",
   "execution_count": 1204,
   "id": "b17bc446",
   "metadata": {},
   "outputs": [],
   "source": [
    "df['total_income_category'] = df['total_income'].apply(category)"
   ]
  },
  {
   "cell_type": "markdown",
   "id": "f244f83f",
   "metadata": {},
   "source": [
    "## Шаг 2.7. Категоризация целей кредита."
   ]
  },
  {
   "cell_type": "markdown",
   "id": "fd51be9d",
   "metadata": {},
   "source": [
    "Создание функции для категоризации по цели кредита:"
   ]
  },
  {
   "cell_type": "code",
   "execution_count": 1205,
   "id": "c19de04f",
   "metadata": {},
   "outputs": [],
   "source": [
    "def purpose_credit(purpose):\n",
    "    if 'жиль' in purpose:\n",
    "        return 'операции с недвижимостью'\n",
    "    elif 'недвиж' in purpose:\n",
    "        return 'операции с недвижимостью'\n",
    "    elif 'автомоб' in purpose:\n",
    "        return 'операции с автомобилем'\n",
    "    elif 'образ' in purpose:\n",
    "        return 'проведение свадьбы'\n",
    "    elif 'свадь' in purpose:\n",
    "        return 'получение образования'"
   ]
  },
  {
   "cell_type": "markdown",
   "id": "4e6a8fa4",
   "metadata": {},
   "source": [
    "Создание нового столбца с категоризацией по цели кредита:"
   ]
  },
  {
   "cell_type": "code",
   "execution_count": 1206,
   "id": "d9dcc5ef",
   "metadata": {},
   "outputs": [],
   "source": [
    "df['purpose_category'] = df['purpose'].apply(purpose_credit)"
   ]
  },
  {
   "cell_type": "markdown",
   "id": "4f44163c",
   "metadata": {},
   "source": [
    "Проверка результата:"
   ]
  },
  {
   "cell_type": "code",
   "execution_count": 1207,
   "id": "ab47ec8a",
   "metadata": {},
   "outputs": [
    {
     "name": "stdout",
     "output_type": "stream",
     "text": [
      "0    операции с недвижимостью\n",
      "1      операции с автомобилем\n",
      "2    операции с недвижимостью\n",
      "3          проведение свадьбы\n",
      "4       получение образования\n",
      "5    операции с недвижимостью\n",
      "6    операции с недвижимостью\n",
      "7          проведение свадьбы\n",
      "8       получение образования\n",
      "9    операции с недвижимостью\n",
      "Name: purpose_category, dtype: object\n"
     ]
    }
   ],
   "source": [
    "print(df['purpose_category'].head(10))"
   ]
  },
  {
   "cell_type": "markdown",
   "id": "edb5e91d",
   "metadata": {},
   "source": [
    "### Ответы на вопросы."
   ]
  },
  {
   "cell_type": "markdown",
   "id": "7ac3c1e9",
   "metadata": {},
   "source": [
    "##### Вопрос 1: Есть ли зависимость между количеством детей и возвратом кредита в срок?"
   ]
  },
  {
   "cell_type": "markdown",
   "id": "03f4d696",
   "metadata": {},
   "source": [
    "Создание новой рабочей таблици:"
   ]
  },
  {
   "cell_type": "code",
   "execution_count": 1208,
   "id": "01132f9b",
   "metadata": {},
   "outputs": [],
   "source": [
    "df_children_debt = df[['children', 'debt']]"
   ]
  },
  {
   "cell_type": "markdown",
   "id": "e25cdfb8",
   "metadata": {},
   "source": [
    "Группировка по количеству детей. Создание новых колоное для дальнейшего расчета:"
   ]
  },
  {
   "cell_type": "code",
   "execution_count": 1209,
   "id": "253b4aaf",
   "metadata": {},
   "outputs": [],
   "source": [
    "children_with_debt = df_children_debt.groupby('children').agg({'debt':['count','sum']})"
   ]
  },
  {
   "cell_type": "code",
   "execution_count": 1210,
   "id": "fe90657d",
   "metadata": {},
   "outputs": [
    {
     "data": {
      "text/html": [
       "<div>\n",
       "<style scoped>\n",
       "    .dataframe tbody tr th:only-of-type {\n",
       "        vertical-align: middle;\n",
       "    }\n",
       "\n",
       "    .dataframe tbody tr th {\n",
       "        vertical-align: top;\n",
       "    }\n",
       "\n",
       "    .dataframe thead tr th {\n",
       "        text-align: left;\n",
       "    }\n",
       "\n",
       "    .dataframe thead tr:last-of-type th {\n",
       "        text-align: right;\n",
       "    }\n",
       "</style>\n",
       "<table border=\"1\" class=\"dataframe\">\n",
       "  <thead>\n",
       "    <tr>\n",
       "      <th></th>\n",
       "      <th colspan=\"2\" halign=\"left\">debt</th>\n",
       "      <th>overdue_loan</th>\n",
       "    </tr>\n",
       "    <tr>\n",
       "      <th></th>\n",
       "      <th>count</th>\n",
       "      <th>sum</th>\n",
       "      <th></th>\n",
       "    </tr>\n",
       "    <tr>\n",
       "      <th>children</th>\n",
       "      <th></th>\n",
       "      <th></th>\n",
       "      <th></th>\n",
       "    </tr>\n",
       "  </thead>\n",
       "  <tbody>\n",
       "    <tr>\n",
       "      <td>4</td>\n",
       "      <td>41</td>\n",
       "      <td>4</td>\n",
       "      <td>9.76</td>\n",
       "    </tr>\n",
       "    <tr>\n",
       "      <td>2</td>\n",
       "      <td>2128</td>\n",
       "      <td>202</td>\n",
       "      <td>9.49</td>\n",
       "    </tr>\n",
       "    <tr>\n",
       "      <td>1</td>\n",
       "      <td>4855</td>\n",
       "      <td>445</td>\n",
       "      <td>9.17</td>\n",
       "    </tr>\n",
       "    <tr>\n",
       "      <td>3</td>\n",
       "      <td>330</td>\n",
       "      <td>27</td>\n",
       "      <td>8.18</td>\n",
       "    </tr>\n",
       "    <tr>\n",
       "      <td>0</td>\n",
       "      <td>14091</td>\n",
       "      <td>1063</td>\n",
       "      <td>7.54</td>\n",
       "    </tr>\n",
       "    <tr>\n",
       "      <td>5</td>\n",
       "      <td>9</td>\n",
       "      <td>0</td>\n",
       "      <td>0.00</td>\n",
       "    </tr>\n",
       "  </tbody>\n",
       "</table>\n",
       "</div>"
      ],
      "text/plain": [
       "           debt       overdue_loan\n",
       "          count   sum             \n",
       "children                          \n",
       "4            41     4         9.76\n",
       "2          2128   202         9.49\n",
       "1          4855   445         9.17\n",
       "3           330    27         8.18\n",
       "0         14091  1063         7.54\n",
       "5             9     0         0.00"
      ]
     },
     "execution_count": 1210,
     "metadata": {},
     "output_type": "execute_result"
    }
   ],
   "source": [
    "children_with_debt['overdue_loan'] = round(children_with_debt['debt']['sum']*100/children_with_debt['debt']['count'], 2)\n",
    "children_with_debt.sort_values(by = 'overdue_loan', ascending = False)"
   ]
  },
  {
   "cell_type": "markdown",
   "id": "a583c791",
   "metadata": {},
   "source": [
    "##### Вывод 1:"
   ]
  },
  {
   "cell_type": "markdown",
   "id": "037601c1",
   "metadata": {},
   "source": [
    "Заемщики с детьми возвращают кредиты реже, чем заемщики без детей. \n",
    "По заемщикам с 5 детьми нельзя делать выводы. Выборка слишком маленькая. \n",
    "Тоже самое касается заемщиков с 4 детьми."
   ]
  },
  {
   "cell_type": "markdown",
   "id": "3dce8edb",
   "metadata": {},
   "source": [
    "##### Вопрос 2: Есть ли зависимость между семейным положением и возвратом кредита в срок?"
   ]
  },
  {
   "cell_type": "code",
   "execution_count": 1212,
   "id": "dcddbdc1",
   "metadata": {},
   "outputs": [],
   "source": [
    "df_rel = df_reserve[['family_status', 'debt']]"
   ]
  },
  {
   "cell_type": "code",
   "execution_count": 1213,
   "id": "d9f05ba6",
   "metadata": {},
   "outputs": [
    {
     "data": {
      "text/html": [
       "<div>\n",
       "<style scoped>\n",
       "    .dataframe tbody tr th:only-of-type {\n",
       "        vertical-align: middle;\n",
       "    }\n",
       "\n",
       "    .dataframe tbody tr th {\n",
       "        vertical-align: top;\n",
       "    }\n",
       "\n",
       "    .dataframe thead tr th {\n",
       "        text-align: left;\n",
       "    }\n",
       "\n",
       "    .dataframe thead tr:last-of-type th {\n",
       "        text-align: right;\n",
       "    }\n",
       "</style>\n",
       "<table border=\"1\" class=\"dataframe\">\n",
       "  <thead>\n",
       "    <tr>\n",
       "      <th></th>\n",
       "      <th colspan=\"2\" halign=\"left\">debt</th>\n",
       "      <th>overdue_loan</th>\n",
       "    </tr>\n",
       "    <tr>\n",
       "      <th></th>\n",
       "      <th>count</th>\n",
       "      <th>sum</th>\n",
       "      <th></th>\n",
       "    </tr>\n",
       "    <tr>\n",
       "      <th>family_status</th>\n",
       "      <th></th>\n",
       "      <th></th>\n",
       "      <th></th>\n",
       "    </tr>\n",
       "  </thead>\n",
       "  <tbody>\n",
       "    <tr>\n",
       "      <td>не женат / не замужем</td>\n",
       "      <td>2810</td>\n",
       "      <td>274</td>\n",
       "      <td>9.75</td>\n",
       "    </tr>\n",
       "    <tr>\n",
       "      <td>гражданский брак</td>\n",
       "      <td>4151</td>\n",
       "      <td>388</td>\n",
       "      <td>9.35</td>\n",
       "    </tr>\n",
       "    <tr>\n",
       "      <td>женат / замужем</td>\n",
       "      <td>12339</td>\n",
       "      <td>931</td>\n",
       "      <td>7.55</td>\n",
       "    </tr>\n",
       "    <tr>\n",
       "      <td>в разводе</td>\n",
       "      <td>1195</td>\n",
       "      <td>85</td>\n",
       "      <td>7.11</td>\n",
       "    </tr>\n",
       "    <tr>\n",
       "      <td>вдовец / вдова</td>\n",
       "      <td>959</td>\n",
       "      <td>63</td>\n",
       "      <td>6.57</td>\n",
       "    </tr>\n",
       "  </tbody>\n",
       "</table>\n",
       "</div>"
      ],
      "text/plain": [
       "                        debt      overdue_loan\n",
       "                       count  sum             \n",
       "family_status                                 \n",
       "не женат / не замужем   2810  274         9.75\n",
       "гражданский брак        4151  388         9.35\n",
       "женат / замужем        12339  931         7.55\n",
       "в разводе               1195   85         7.11\n",
       "вдовец / вдова           959   63         6.57"
      ]
     },
     "execution_count": 1213,
     "metadata": {},
     "output_type": "execute_result"
    }
   ],
   "source": [
    "df_rel_group = df_rel.groupby('family_status').agg({'debt':['count','sum']})\n",
    "df_rel_group['overdue_loan'] = round(df_rel_group['debt']['sum']*100/df_rel_group['debt']['count'], 2)\n",
    "df_rel_group.sort_values(by = 'overdue_loan', ascending = False)"
   ]
  },
  {
   "cell_type": "markdown",
   "id": "045610c5",
   "metadata": {},
   "source": [
    "##### Вывод 2:"
   ]
  },
  {
   "cell_type": "markdown",
   "id": "618ca013",
   "metadata": {},
   "source": [
    "Одинокие люди реже возвращают кредиты, чем люди с партнером."
   ]
  },
  {
   "cell_type": "markdown",
   "id": "3efd6358",
   "metadata": {},
   "source": [
    "##### Вопрос 3: Есть ли зависимость между уровнем дохада и возвратом кредита в срок?"
   ]
  },
  {
   "cell_type": "code",
   "execution_count": 1214,
   "id": "c5d7b0e9",
   "metadata": {},
   "outputs": [
    {
     "data": {
      "text/html": [
       "<div>\n",
       "<style scoped>\n",
       "    .dataframe tbody tr th:only-of-type {\n",
       "        vertical-align: middle;\n",
       "    }\n",
       "\n",
       "    .dataframe tbody tr th {\n",
       "        vertical-align: top;\n",
       "    }\n",
       "\n",
       "    .dataframe thead tr th {\n",
       "        text-align: left;\n",
       "    }\n",
       "\n",
       "    .dataframe thead tr:last-of-type th {\n",
       "        text-align: right;\n",
       "    }\n",
       "</style>\n",
       "<table border=\"1\" class=\"dataframe\">\n",
       "  <thead>\n",
       "    <tr>\n",
       "      <th></th>\n",
       "      <th colspan=\"2\" halign=\"left\">debt</th>\n",
       "      <th>overdue_loan</th>\n",
       "    </tr>\n",
       "    <tr>\n",
       "      <th></th>\n",
       "      <th>count</th>\n",
       "      <th>sum</th>\n",
       "      <th></th>\n",
       "    </tr>\n",
       "    <tr>\n",
       "      <th>total_income_category</th>\n",
       "      <th></th>\n",
       "      <th></th>\n",
       "      <th></th>\n",
       "    </tr>\n",
       "  </thead>\n",
       "  <tbody>\n",
       "    <tr>\n",
       "      <td>E</td>\n",
       "      <td>22</td>\n",
       "      <td>2</td>\n",
       "      <td>9.09</td>\n",
       "    </tr>\n",
       "    <tr>\n",
       "      <td>C</td>\n",
       "      <td>16015</td>\n",
       "      <td>1360</td>\n",
       "      <td>8.49</td>\n",
       "    </tr>\n",
       "    <tr>\n",
       "      <td>A</td>\n",
       "      <td>25</td>\n",
       "      <td>2</td>\n",
       "      <td>8.00</td>\n",
       "    </tr>\n",
       "    <tr>\n",
       "      <td>B</td>\n",
       "      <td>5042</td>\n",
       "      <td>356</td>\n",
       "      <td>7.06</td>\n",
       "    </tr>\n",
       "    <tr>\n",
       "      <td>D</td>\n",
       "      <td>350</td>\n",
       "      <td>21</td>\n",
       "      <td>6.00</td>\n",
       "    </tr>\n",
       "  </tbody>\n",
       "</table>\n",
       "</div>"
      ],
      "text/plain": [
       "                        debt       overdue_loan\n",
       "                       count   sum             \n",
       "total_income_category                          \n",
       "E                         22     2         9.09\n",
       "C                      16015  1360         8.49\n",
       "A                         25     2         8.00\n",
       "B                       5042   356         7.06\n",
       "D                        350    21         6.00"
      ]
     },
     "execution_count": 1214,
     "metadata": {},
     "output_type": "execute_result"
    }
   ],
   "source": [
    "df_total_income = df[['total_income_category','debt']]\n",
    "df_total_income_group = df_total_income.groupby('total_income_category').agg({'debt':['count', 'sum']})\n",
    "df_total_income_group['overdue_loan']= round(df_total_income_group['debt']['sum']*100/df_total_income_group['debt']['count'], 2)\n",
    "df_total_income_group.sort_values(by = 'overdue_loan', ascending = False)"
   ]
  },
  {
   "cell_type": "markdown",
   "id": "fca8909f",
   "metadata": {},
   "source": [
    "##### Вывод 3:"
   ]
  },
  {
   "cell_type": "markdown",
   "id": "0e68f35d",
   "metadata": {},
   "source": [
    "Люди с достатком от 50001 - 200000 реже остальных категорий возвращают кредит.\n",
    "\n",
    "Из данных можно сделать заключение, что люди с низким достатком реже возвращают кредиты, чем остальные категории заемщиков. Но для данного вывода мало оснований. В категории 'Е' всего 22 заемщика. Выборка слишком маленькая.\n",
    "Тоже самое касается и категории с самым высоким достатком."
   ]
  },
  {
   "cell_type": "markdown",
   "id": "41269202",
   "metadata": {},
   "source": [
    "##### Вопрос 4: Как разные цели кредита влияют на его возврат в срок?"
   ]
  },
  {
   "cell_type": "code",
   "execution_count": 1215,
   "id": "e42733ce",
   "metadata": {},
   "outputs": [
    {
     "data": {
      "text/html": [
       "<div>\n",
       "<style scoped>\n",
       "    .dataframe tbody tr th:only-of-type {\n",
       "        vertical-align: middle;\n",
       "    }\n",
       "\n",
       "    .dataframe tbody tr th {\n",
       "        vertical-align: top;\n",
       "    }\n",
       "\n",
       "    .dataframe thead tr th {\n",
       "        text-align: left;\n",
       "    }\n",
       "\n",
       "    .dataframe thead tr:last-of-type th {\n",
       "        text-align: right;\n",
       "    }\n",
       "</style>\n",
       "<table border=\"1\" class=\"dataframe\">\n",
       "  <thead>\n",
       "    <tr>\n",
       "      <th></th>\n",
       "      <th colspan=\"2\" halign=\"left\">debt</th>\n",
       "      <th>overdue_loan</th>\n",
       "    </tr>\n",
       "    <tr>\n",
       "      <th></th>\n",
       "      <th>count</th>\n",
       "      <th>sum</th>\n",
       "      <th></th>\n",
       "    </tr>\n",
       "    <tr>\n",
       "      <th>purpose_category</th>\n",
       "      <th></th>\n",
       "      <th></th>\n",
       "      <th></th>\n",
       "    </tr>\n",
       "  </thead>\n",
       "  <tbody>\n",
       "    <tr>\n",
       "      <td>операции с автомобилем</td>\n",
       "      <td>4306</td>\n",
       "      <td>403</td>\n",
       "      <td>9.36</td>\n",
       "    </tr>\n",
       "    <tr>\n",
       "      <td>проведение свадьбы</td>\n",
       "      <td>4013</td>\n",
       "      <td>370</td>\n",
       "      <td>9.22</td>\n",
       "    </tr>\n",
       "    <tr>\n",
       "      <td>получение образования</td>\n",
       "      <td>2324</td>\n",
       "      <td>186</td>\n",
       "      <td>8.00</td>\n",
       "    </tr>\n",
       "    <tr>\n",
       "      <td>операции с недвижимостью</td>\n",
       "      <td>10811</td>\n",
       "      <td>782</td>\n",
       "      <td>7.23</td>\n",
       "    </tr>\n",
       "  </tbody>\n",
       "</table>\n",
       "</div>"
      ],
      "text/plain": [
       "                           debt      overdue_loan\n",
       "                          count  sum             \n",
       "purpose_category                                 \n",
       "операции с автомобилем     4306  403         9.36\n",
       "проведение свадьбы         4013  370         9.22\n",
       "получение образования      2324  186         8.00\n",
       "операции с недвижимостью  10811  782         7.23"
      ]
     },
     "execution_count": 1215,
     "metadata": {},
     "output_type": "execute_result"
    }
   ],
   "source": [
    "df_purpose = df[['purpose_category', 'debt']]\n",
    "df_purpose_group = df_purpose.groupby('purpose_category').agg({'debt':['count', 'sum']})\n",
    "df_purpose_group['overdue_loan'] = round(df_purpose_group['debt']['sum']*100/df_purpose_group['debt']['count'], 2)\n",
    "df_purpose_group.sort_values(by = 'overdue_loan', ascending = False)"
   ]
  },
  {
   "cell_type": "markdown",
   "id": "eb1b1335",
   "metadata": {},
   "source": [
    "##### Вывод 4:"
   ]
  },
  {
   "cell_type": "markdown",
   "id": "d22123b7",
   "metadata": {},
   "source": [
    "Автокредиты и кредиты на свадьбу возвращают реже, чем остальные виды кредитов."
   ]
  },
  {
   "cell_type": "markdown",
   "id": "d3b2ef2a",
   "metadata": {},
   "source": [
    "## Общий вывод:"
   ]
  },
  {
   "cell_type": "markdown",
   "id": "74a753b4",
   "metadata": {},
   "source": [
    "Самый надежный заемщик выглядит следующи образом:\n",
    "Человек без детей, женат/замужем, с достатком от 200001 - 1000000, с целью получения кредита для недвижимости.\n",
    "\n",
    "Самый ненадежный заемщик выглядит следующи образом:\n",
    "Человек с 2 детьми, без мужа/жены, с достатком 50001 - 200000, с целью получения кредита для операций с автомобилем или на свадьбу."
   ]
  }
 ],
 "metadata": {
  "ExecuteTimeLog": [
   {
    "duration": 642,
    "start_time": "2022-02-21T08:52:12.192Z"
   },
   {
    "duration": 49,
    "start_time": "2022-02-21T08:52:19.389Z"
   },
   {
    "duration": 760,
    "start_time": "2022-02-21T08:52:46.701Z"
   },
   {
    "duration": 54,
    "start_time": "2022-02-21T08:52:57.484Z"
   },
   {
    "duration": 1272,
    "start_time": "2022-02-21T08:55:58.889Z"
   },
   {
    "duration": 52,
    "start_time": "2022-02-21T08:56:39.110Z"
   },
   {
    "duration": 656,
    "start_time": "2022-02-21T08:56:52.953Z"
   },
   {
    "duration": 48,
    "start_time": "2022-02-21T08:57:33.662Z"
   },
   {
    "duration": 53,
    "start_time": "2022-02-21T08:57:41.782Z"
   },
   {
    "duration": 51,
    "start_time": "2022-02-21T08:58:47.043Z"
   },
   {
    "duration": 539,
    "start_time": "2022-02-21T09:29:29.030Z"
   },
   {
    "duration": 99,
    "start_time": "2022-02-21T09:29:53.499Z"
   },
   {
    "duration": 50,
    "start_time": "2022-02-21T09:29:58.203Z"
   },
   {
    "duration": 43,
    "start_time": "2022-02-21T09:30:06.783Z"
   },
   {
    "duration": 43,
    "start_time": "2022-02-21T09:30:42.110Z"
   },
   {
    "duration": 621,
    "start_time": "2022-02-23T11:22:16.757Z"
   },
   {
    "duration": 78,
    "start_time": "2022-02-23T11:22:36.709Z"
   },
   {
    "duration": 16,
    "start_time": "2022-02-23T11:23:09.683Z"
   },
   {
    "duration": 10,
    "start_time": "2022-02-23T11:23:17.878Z"
   },
   {
    "duration": 9,
    "start_time": "2022-02-23T11:24:17.180Z"
   },
   {
    "duration": 521,
    "start_time": "2022-02-23T11:25:24.160Z"
   },
   {
    "duration": 6,
    "start_time": "2022-02-23T11:25:52.291Z"
   },
   {
    "duration": 11,
    "start_time": "2022-02-23T11:26:00.070Z"
   },
   {
    "duration": 389,
    "start_time": "2022-02-23T11:28:08.424Z"
   },
   {
    "duration": 13,
    "start_time": "2022-02-23T11:28:24.496Z"
   },
   {
    "duration": 53,
    "start_time": "2022-02-23T11:29:08.953Z"
   },
   {
    "duration": 16,
    "start_time": "2022-02-23T11:29:09.649Z"
   },
   {
    "duration": 7,
    "start_time": "2022-02-23T11:29:35.245Z"
   },
   {
    "duration": 5,
    "start_time": "2022-02-23T11:29:51.614Z"
   },
   {
    "duration": 55,
    "start_time": "2022-02-23T11:30:00.640Z"
   },
   {
    "duration": 22,
    "start_time": "2022-02-23T11:30:01.156Z"
   },
   {
    "duration": 4,
    "start_time": "2022-02-23T11:30:40.823Z"
   },
   {
    "duration": 5,
    "start_time": "2022-02-23T11:31:20.287Z"
   },
   {
    "duration": 11,
    "start_time": "2022-02-23T11:32:24.202Z"
   },
   {
    "duration": 6,
    "start_time": "2022-02-23T11:32:25.882Z"
   },
   {
    "duration": 6,
    "start_time": "2022-02-23T11:32:37.878Z"
   },
   {
    "duration": 56,
    "start_time": "2022-02-23T11:32:42.029Z"
   },
   {
    "duration": 15,
    "start_time": "2022-02-23T11:32:42.695Z"
   },
   {
    "duration": 15,
    "start_time": "2022-02-23T11:32:47.347Z"
   },
   {
    "duration": 10,
    "start_time": "2022-02-23T11:33:01.459Z"
   },
   {
    "duration": 11,
    "start_time": "2022-02-23T11:33:12.386Z"
   },
   {
    "duration": 50,
    "start_time": "2022-02-23T11:33:35.744Z"
   },
   {
    "duration": 11,
    "start_time": "2022-02-23T11:33:36.163Z"
   },
   {
    "duration": 5,
    "start_time": "2022-02-23T11:33:40.755Z"
   },
   {
    "duration": 10,
    "start_time": "2022-02-23T11:43:18.112Z"
   },
   {
    "duration": 12,
    "start_time": "2022-02-23T11:44:01.958Z"
   },
   {
    "duration": 11,
    "start_time": "2022-02-23T11:44:39.374Z"
   },
   {
    "duration": 10,
    "start_time": "2022-02-23T11:44:51.054Z"
   },
   {
    "duration": 11,
    "start_time": "2022-02-23T11:50:26.740Z"
   },
   {
    "duration": 80,
    "start_time": "2022-02-23T11:50:41.675Z"
   },
   {
    "duration": 12,
    "start_time": "2022-02-23T11:50:42.301Z"
   },
   {
    "duration": 10,
    "start_time": "2022-02-23T11:52:46.722Z"
   },
   {
    "duration": 12,
    "start_time": "2022-02-23T11:53:18.684Z"
   },
   {
    "duration": 12,
    "start_time": "2022-02-23T11:53:33.864Z"
   },
   {
    "duration": 11,
    "start_time": "2022-02-23T11:54:29.900Z"
   },
   {
    "duration": 11,
    "start_time": "2022-02-23T11:55:22.074Z"
   },
   {
    "duration": 4,
    "start_time": "2022-02-23T11:55:25.460Z"
   },
   {
    "duration": 7,
    "start_time": "2022-02-23T11:55:48.505Z"
   },
   {
    "duration": 14,
    "start_time": "2022-02-23T11:56:09.305Z"
   },
   {
    "duration": 57,
    "start_time": "2022-02-23T11:57:32.936Z"
   },
   {
    "duration": 10,
    "start_time": "2022-02-23T11:57:55.614Z"
   },
   {
    "duration": 5,
    "start_time": "2022-02-23T11:58:03.035Z"
   },
   {
    "duration": 10,
    "start_time": "2022-02-23T12:09:01.923Z"
   },
   {
    "duration": 6,
    "start_time": "2022-02-23T12:09:02.493Z"
   },
   {
    "duration": 12,
    "start_time": "2022-02-23T12:09:03.614Z"
   },
   {
    "duration": 13,
    "start_time": "2022-02-23T12:10:42.788Z"
   },
   {
    "duration": 52,
    "start_time": "2022-02-23T12:21:43.355Z"
   },
   {
    "duration": 9,
    "start_time": "2022-02-23T12:21:44.663Z"
   },
   {
    "duration": 5,
    "start_time": "2022-02-23T12:21:45.423Z"
   },
   {
    "duration": 12,
    "start_time": "2022-02-23T12:21:47.086Z"
   },
   {
    "duration": 53,
    "start_time": "2022-02-23T12:24:41.517Z"
   },
   {
    "duration": 53,
    "start_time": "2022-02-23T12:24:43.741Z"
   },
   {
    "duration": 10,
    "start_time": "2022-02-23T12:24:44.588Z"
   },
   {
    "duration": 5,
    "start_time": "2022-02-23T12:24:45.037Z"
   },
   {
    "duration": 13,
    "start_time": "2022-02-23T12:24:46.264Z"
   },
   {
    "duration": 6,
    "start_time": "2022-02-23T12:32:30.951Z"
   },
   {
    "duration": 13,
    "start_time": "2022-02-23T12:32:31.816Z"
   },
   {
    "duration": 250,
    "start_time": "2022-02-23T12:33:22.607Z"
   },
   {
    "duration": 250,
    "start_time": "2022-02-23T12:33:29.371Z"
   },
   {
    "duration": 6,
    "start_time": "2022-02-23T12:34:08.902Z"
   },
   {
    "duration": 10,
    "start_time": "2022-02-23T12:43:25.967Z"
   },
   {
    "duration": 255,
    "start_time": "2022-02-23T12:44:00.756Z"
   },
   {
    "duration": 6166,
    "start_time": "2022-02-23T12:44:39.577Z"
   },
   {
    "duration": 36,
    "start_time": "2022-02-23T12:45:03.842Z"
   },
   {
    "duration": 40,
    "start_time": "2022-02-23T12:45:39.886Z"
   },
   {
    "duration": 38,
    "start_time": "2022-02-23T12:45:52.614Z"
   },
   {
    "duration": 43,
    "start_time": "2022-02-23T12:46:03.946Z"
   },
   {
    "duration": 37,
    "start_time": "2022-02-23T12:46:58.547Z"
   },
   {
    "duration": 6482,
    "start_time": "2022-02-23T12:59:49.955Z"
   },
   {
    "duration": 6909,
    "start_time": "2022-02-23T13:00:31.287Z"
   },
   {
    "duration": 6901,
    "start_time": "2022-02-23T13:01:06.904Z"
   },
   {
    "duration": 12,
    "start_time": "2022-02-23T13:01:35.689Z"
   },
   {
    "duration": 12,
    "start_time": "2022-02-23T13:03:39.948Z"
   },
   {
    "duration": 8,
    "start_time": "2022-02-23T13:05:31.466Z"
   },
   {
    "duration": 8,
    "start_time": "2022-02-23T13:10:59.764Z"
   },
   {
    "duration": 7,
    "start_time": "2022-02-23T13:11:11.712Z"
   },
   {
    "duration": 12,
    "start_time": "2022-02-23T13:11:16.236Z"
   },
   {
    "duration": 7,
    "start_time": "2022-02-23T13:11:17.759Z"
   },
   {
    "duration": 52,
    "start_time": "2022-02-23T13:11:25.483Z"
   },
   {
    "duration": 9,
    "start_time": "2022-02-23T13:11:25.538Z"
   },
   {
    "duration": 7,
    "start_time": "2022-02-23T13:11:25.549Z"
   },
   {
    "duration": 24,
    "start_time": "2022-02-23T13:11:25.558Z"
   },
   {
    "duration": 57,
    "start_time": "2022-02-23T13:11:25.584Z"
   },
   {
    "duration": 10,
    "start_time": "2022-02-23T13:11:25.643Z"
   },
   {
    "duration": 35,
    "start_time": "2022-02-23T13:11:25.655Z"
   },
   {
    "duration": 9,
    "start_time": "2022-02-23T13:12:12.503Z"
   },
   {
    "duration": 10,
    "start_time": "2022-02-23T13:14:03.253Z"
   },
   {
    "duration": 310,
    "start_time": "2022-02-23T13:14:54.278Z"
   },
   {
    "duration": 244,
    "start_time": "2022-02-23T13:16:57.375Z"
   },
   {
    "duration": 10,
    "start_time": "2022-02-23T13:17:04.062Z"
   },
   {
    "duration": 6,
    "start_time": "2022-02-23T13:18:00.890Z"
   },
   {
    "duration": 8,
    "start_time": "2022-02-23T13:18:21.853Z"
   },
   {
    "duration": 13,
    "start_time": "2022-02-23T13:19:08.527Z"
   },
   {
    "duration": 10,
    "start_time": "2022-02-23T13:19:17.174Z"
   },
   {
    "duration": 10,
    "start_time": "2022-02-23T13:19:31.304Z"
   },
   {
    "duration": 10,
    "start_time": "2022-02-23T13:19:36.738Z"
   },
   {
    "duration": 58,
    "start_time": "2022-02-23T13:19:43.008Z"
   },
   {
    "duration": 9,
    "start_time": "2022-02-23T13:19:43.068Z"
   },
   {
    "duration": 5,
    "start_time": "2022-02-23T13:19:43.080Z"
   },
   {
    "duration": 21,
    "start_time": "2022-02-23T13:19:43.086Z"
   },
   {
    "duration": 36,
    "start_time": "2022-02-23T13:19:43.118Z"
   },
   {
    "duration": 12,
    "start_time": "2022-02-23T13:19:43.156Z"
   },
   {
    "duration": 10,
    "start_time": "2022-02-23T13:19:43.170Z"
   },
   {
    "duration": 11,
    "start_time": "2022-02-23T13:19:55.764Z"
   },
   {
    "duration": 9,
    "start_time": "2022-02-23T13:22:20.475Z"
   },
   {
    "duration": 8,
    "start_time": "2022-02-23T13:22:33.462Z"
   },
   {
    "duration": 8,
    "start_time": "2022-02-23T13:26:47.823Z"
   },
   {
    "duration": 9,
    "start_time": "2022-02-23T13:27:24.548Z"
   },
   {
    "duration": 6,
    "start_time": "2022-02-23T13:27:35.430Z"
   },
   {
    "duration": 40,
    "start_time": "2022-02-23T13:33:38.502Z"
   },
   {
    "duration": 44,
    "start_time": "2022-02-23T13:35:39.532Z"
   },
   {
    "duration": 45,
    "start_time": "2022-02-23T13:35:58.731Z"
   },
   {
    "duration": 471,
    "start_time": "2022-02-23T15:26:36.567Z"
   },
   {
    "duration": 255,
    "start_time": "2022-02-23T15:26:48.426Z"
   },
   {
    "duration": 826,
    "start_time": "2022-02-23T15:26:55.917Z"
   },
   {
    "duration": 16,
    "start_time": "2022-02-23T15:26:56.746Z"
   },
   {
    "duration": 7,
    "start_time": "2022-02-23T15:26:56.765Z"
   },
   {
    "duration": 18,
    "start_time": "2022-02-23T15:26:56.774Z"
   },
   {
    "duration": 103,
    "start_time": "2022-02-23T15:26:56.794Z"
   },
   {
    "duration": 15,
    "start_time": "2022-02-23T15:26:56.899Z"
   },
   {
    "duration": 401,
    "start_time": "2022-02-23T15:26:56.916Z"
   },
   {
    "duration": -93,
    "start_time": "2022-02-23T15:26:57.412Z"
   },
   {
    "duration": 280,
    "start_time": "2022-02-23T15:27:06.952Z"
   },
   {
    "duration": 45,
    "start_time": "2022-02-23T15:28:11.138Z"
   },
   {
    "duration": 9,
    "start_time": "2022-02-23T15:29:17.188Z"
   },
   {
    "duration": 36,
    "start_time": "2022-02-23T15:30:05.384Z"
   },
   {
    "duration": 73,
    "start_time": "2022-02-23T15:33:25.219Z"
   },
   {
    "duration": 274,
    "start_time": "2022-02-23T15:33:25.295Z"
   },
   {
    "duration": -88,
    "start_time": "2022-02-23T15:33:25.660Z"
   },
   {
    "duration": -87,
    "start_time": "2022-02-23T15:33:25.661Z"
   },
   {
    "duration": -125,
    "start_time": "2022-02-23T15:33:25.700Z"
   },
   {
    "duration": -124,
    "start_time": "2022-02-23T15:33:25.701Z"
   },
   {
    "duration": -123,
    "start_time": "2022-02-23T15:33:25.701Z"
   },
   {
    "duration": -125,
    "start_time": "2022-02-23T15:33:25.704Z"
   },
   {
    "duration": -125,
    "start_time": "2022-02-23T15:33:25.705Z"
   },
   {
    "duration": -123,
    "start_time": "2022-02-23T15:33:25.705Z"
   },
   {
    "duration": -123,
    "start_time": "2022-02-23T15:33:25.706Z"
   },
   {
    "duration": 457,
    "start_time": "2022-02-23T15:34:51.635Z"
   },
   {
    "duration": 304,
    "start_time": "2022-02-23T15:35:52.650Z"
   },
   {
    "duration": 293,
    "start_time": "2022-02-23T15:36:17.565Z"
   },
   {
    "duration": 88,
    "start_time": "2022-02-23T15:36:41.405Z"
   },
   {
    "duration": 375,
    "start_time": "2022-02-23T15:37:11.319Z"
   },
   {
    "duration": 16,
    "start_time": "2022-02-23T15:37:38.521Z"
   },
   {
    "duration": 16,
    "start_time": "2022-02-23T15:38:03.580Z"
   },
   {
    "duration": 23,
    "start_time": "2022-02-23T15:38:14.706Z"
   },
   {
    "duration": 66,
    "start_time": "2022-02-23T15:43:13.822Z"
   },
   {
    "duration": 34,
    "start_time": "2022-02-23T15:43:22.396Z"
   },
   {
    "duration": 49,
    "start_time": "2022-02-23T15:43:56.061Z"
   },
   {
    "duration": 26,
    "start_time": "2022-02-23T15:44:00.839Z"
   },
   {
    "duration": 49,
    "start_time": "2022-02-23T15:44:37.777Z"
   },
   {
    "duration": 7,
    "start_time": "2022-02-23T15:46:37.641Z"
   },
   {
    "duration": 319,
    "start_time": "2022-02-23T15:56:09.183Z"
   },
   {
    "duration": 284,
    "start_time": "2022-02-23T15:56:18.821Z"
   },
   {
    "duration": 1950,
    "start_time": "2022-02-23T15:56:32.735Z"
   },
   {
    "duration": 1930,
    "start_time": "2022-02-23T15:56:42.942Z"
   },
   {
    "duration": 380,
    "start_time": "2022-02-23T15:57:24.087Z"
   },
   {
    "duration": 10,
    "start_time": "2022-02-23T15:59:50.156Z"
   },
   {
    "duration": 8,
    "start_time": "2022-02-23T16:00:40.866Z"
   },
   {
    "duration": 25,
    "start_time": "2022-02-23T16:03:13.724Z"
   },
   {
    "duration": 286,
    "start_time": "2022-02-23T16:03:17.254Z"
   },
   {
    "duration": 284,
    "start_time": "2022-02-23T16:03:23.278Z"
   },
   {
    "duration": 287,
    "start_time": "2022-02-23T16:04:07.534Z"
   },
   {
    "duration": 67,
    "start_time": "2022-02-23T16:04:12.807Z"
   },
   {
    "duration": 14,
    "start_time": "2022-02-23T16:04:12.878Z"
   },
   {
    "duration": 7,
    "start_time": "2022-02-23T16:04:12.895Z"
   },
   {
    "duration": 15,
    "start_time": "2022-02-23T16:04:12.905Z"
   },
   {
    "duration": 110,
    "start_time": "2022-02-23T16:04:12.922Z"
   },
   {
    "duration": 32,
    "start_time": "2022-02-23T16:04:13.035Z"
   },
   {
    "duration": 34,
    "start_time": "2022-02-23T16:04:13.070Z"
   },
   {
    "duration": 7,
    "start_time": "2022-02-23T16:04:13.106Z"
   },
   {
    "duration": 101,
    "start_time": "2022-02-23T16:04:13.117Z"
   },
   {
    "duration": 47,
    "start_time": "2022-02-23T16:04:13.221Z"
   },
   {
    "duration": 45,
    "start_time": "2022-02-23T16:04:13.271Z"
   },
   {
    "duration": 47,
    "start_time": "2022-02-23T16:04:13.318Z"
   },
   {
    "duration": 278,
    "start_time": "2022-02-23T16:04:42.269Z"
   },
   {
    "duration": 69,
    "start_time": "2022-02-23T16:04:47.521Z"
   },
   {
    "duration": 12,
    "start_time": "2022-02-23T16:04:47.593Z"
   },
   {
    "duration": 7,
    "start_time": "2022-02-23T16:04:47.608Z"
   },
   {
    "duration": 44,
    "start_time": "2022-02-23T16:04:47.618Z"
   },
   {
    "duration": 69,
    "start_time": "2022-02-23T16:04:47.665Z"
   },
   {
    "duration": 36,
    "start_time": "2022-02-23T16:04:47.736Z"
   },
   {
    "duration": 34,
    "start_time": "2022-02-23T16:04:47.774Z"
   },
   {
    "duration": 10,
    "start_time": "2022-02-23T16:04:47.811Z"
   },
   {
    "duration": 68,
    "start_time": "2022-02-23T16:04:47.860Z"
   },
   {
    "duration": 51,
    "start_time": "2022-02-23T16:04:47.931Z"
   },
   {
    "duration": 45,
    "start_time": "2022-02-23T16:04:47.984Z"
   },
   {
    "duration": 35,
    "start_time": "2022-02-23T16:04:48.032Z"
   },
   {
    "duration": 15,
    "start_time": "2022-02-23T16:05:29.658Z"
   },
   {
    "duration": 71,
    "start_time": "2022-02-23T16:06:00.415Z"
   },
   {
    "duration": 13,
    "start_time": "2022-02-23T16:06:00.489Z"
   },
   {
    "duration": 9,
    "start_time": "2022-02-23T16:06:00.505Z"
   },
   {
    "duration": 47,
    "start_time": "2022-02-23T16:06:00.516Z"
   },
   {
    "duration": 101,
    "start_time": "2022-02-23T16:06:00.566Z"
   },
   {
    "duration": 16,
    "start_time": "2022-02-23T16:06:00.669Z"
   },
   {
    "duration": 6,
    "start_time": "2022-02-23T16:06:00.688Z"
   },
   {
    "duration": 13,
    "start_time": "2022-02-23T16:06:00.696Z"
   },
   {
    "duration": 99,
    "start_time": "2022-02-23T16:06:00.713Z"
   },
   {
    "duration": 46,
    "start_time": "2022-02-23T16:06:00.816Z"
   },
   {
    "duration": 49,
    "start_time": "2022-02-23T16:06:00.865Z"
   },
   {
    "duration": 15,
    "start_time": "2022-02-23T16:06:00.917Z"
   },
   {
    "duration": 24,
    "start_time": "2022-02-23T16:06:00.962Z"
   },
   {
    "duration": 7,
    "start_time": "2022-02-23T16:12:41.920Z"
   },
   {
    "duration": 22,
    "start_time": "2022-02-23T16:14:10.390Z"
   },
   {
    "duration": 28,
    "start_time": "2022-02-23T16:14:17.772Z"
   },
   {
    "duration": 14,
    "start_time": "2022-02-23T16:14:26.028Z"
   },
   {
    "duration": 23,
    "start_time": "2022-02-23T16:14:42.193Z"
   },
   {
    "duration": 21,
    "start_time": "2022-02-23T16:15:00.427Z"
   },
   {
    "duration": 7,
    "start_time": "2022-02-23T16:28:27.296Z"
   },
   {
    "duration": 7,
    "start_time": "2022-02-23T16:28:41.352Z"
   },
   {
    "duration": 326,
    "start_time": "2022-02-23T16:34:53.437Z"
   },
   {
    "duration": 91,
    "start_time": "2022-02-23T16:35:14.637Z"
   },
   {
    "duration": 296,
    "start_time": "2022-02-23T16:35:20.078Z"
   },
   {
    "duration": 6,
    "start_time": "2022-02-23T16:36:09.715Z"
   },
   {
    "duration": 12,
    "start_time": "2022-02-23T16:37:21.473Z"
   },
   {
    "duration": 10,
    "start_time": "2022-02-23T16:37:39.223Z"
   },
   {
    "duration": 99,
    "start_time": "2022-02-23T16:38:34.670Z"
   },
   {
    "duration": 342,
    "start_time": "2022-02-23T16:38:50.017Z"
   },
   {
    "duration": 14,
    "start_time": "2022-02-23T16:39:05.180Z"
   },
   {
    "duration": 8,
    "start_time": "2022-02-23T16:39:45.592Z"
   },
   {
    "duration": 11,
    "start_time": "2022-02-23T16:40:29.082Z"
   },
   {
    "duration": 97,
    "start_time": "2022-02-23T16:41:12.005Z"
   },
   {
    "duration": 13,
    "start_time": "2022-02-23T16:41:20.717Z"
   },
   {
    "duration": 12,
    "start_time": "2022-02-23T16:44:22.669Z"
   },
   {
    "duration": 11,
    "start_time": "2022-02-23T16:46:55.123Z"
   },
   {
    "duration": 271,
    "start_time": "2022-02-23T16:47:12.245Z"
   },
   {
    "duration": 11,
    "start_time": "2022-02-23T16:47:23.021Z"
   },
   {
    "duration": 11,
    "start_time": "2022-02-23T16:47:36.404Z"
   },
   {
    "duration": 15,
    "start_time": "2022-02-23T16:48:03.923Z"
   },
   {
    "duration": 16,
    "start_time": "2022-02-23T16:48:18.716Z"
   },
   {
    "duration": 15,
    "start_time": "2022-02-23T16:49:39.745Z"
   },
   {
    "duration": 675,
    "start_time": "2022-02-23T16:56:50.122Z"
   },
   {
    "duration": 13,
    "start_time": "2022-02-23T16:57:06.645Z"
   },
   {
    "duration": 102,
    "start_time": "2022-02-23T16:57:07.669Z"
   },
   {
    "duration": -94,
    "start_time": "2022-02-23T16:57:39.377Z"
   },
   {
    "duration": 12,
    "start_time": "2022-02-23T16:57:51.709Z"
   },
   {
    "duration": 108,
    "start_time": "2022-02-23T16:57:52.532Z"
   },
   {
    "duration": 12,
    "start_time": "2022-02-23T16:58:17.201Z"
   },
   {
    "duration": 105,
    "start_time": "2022-02-23T16:58:17.919Z"
   },
   {
    "duration": 23,
    "start_time": "2022-02-23T17:02:33.913Z"
   },
   {
    "duration": 70,
    "start_time": "2022-02-23T17:03:08.194Z"
   },
   {
    "duration": 14,
    "start_time": "2022-02-23T17:03:08.267Z"
   },
   {
    "duration": 6,
    "start_time": "2022-02-23T17:03:08.284Z"
   },
   {
    "duration": 17,
    "start_time": "2022-02-23T17:03:08.293Z"
   },
   {
    "duration": 117,
    "start_time": "2022-02-23T17:03:08.313Z"
   },
   {
    "duration": 36,
    "start_time": "2022-02-23T17:03:08.432Z"
   },
   {
    "duration": 9,
    "start_time": "2022-02-23T17:03:08.471Z"
   },
   {
    "duration": 12,
    "start_time": "2022-02-23T17:03:08.483Z"
   },
   {
    "duration": 95,
    "start_time": "2022-02-23T17:03:08.500Z"
   },
   {
    "duration": 37,
    "start_time": "2022-02-23T17:03:08.598Z"
   },
   {
    "duration": 67,
    "start_time": "2022-02-23T17:03:08.638Z"
   },
   {
    "duration": 13,
    "start_time": "2022-02-23T17:03:08.708Z"
   },
   {
    "duration": 41,
    "start_time": "2022-02-23T17:03:08.724Z"
   },
   {
    "duration": 5,
    "start_time": "2022-02-23T17:03:08.768Z"
   },
   {
    "duration": 16,
    "start_time": "2022-02-23T17:03:08.775Z"
   },
   {
    "duration": 13,
    "start_time": "2022-02-23T17:03:08.793Z"
   },
   {
    "duration": 143,
    "start_time": "2022-02-23T17:03:08.809Z"
   },
   {
    "duration": 21,
    "start_time": "2022-02-23T17:03:36.058Z"
   },
   {
    "duration": 14,
    "start_time": "2022-02-23T17:07:20.144Z"
   },
   {
    "duration": 4258,
    "start_time": "2022-02-23T17:07:20.903Z"
   },
   {
    "duration": 15,
    "start_time": "2022-02-23T17:07:54.744Z"
   },
   {
    "duration": 21,
    "start_time": "2022-02-23T17:07:55.685Z"
   },
   {
    "duration": 13,
    "start_time": "2022-02-23T17:08:40.212Z"
   },
   {
    "duration": 19,
    "start_time": "2022-02-23T17:08:40.662Z"
   },
   {
    "duration": 15,
    "start_time": "2022-02-23T17:09:05.488Z"
   },
   {
    "duration": 15,
    "start_time": "2022-02-23T17:09:06.086Z"
   },
   {
    "duration": 5,
    "start_time": "2022-02-23T17:17:16.545Z"
   },
   {
    "duration": 16,
    "start_time": "2022-02-23T17:17:17.208Z"
   },
   {
    "duration": 87,
    "start_time": "2022-02-23T17:19:26.422Z"
   },
   {
    "duration": 73,
    "start_time": "2022-02-23T17:19:34.003Z"
   },
   {
    "duration": 64,
    "start_time": "2022-02-23T17:19:48.845Z"
   },
   {
    "duration": 33,
    "start_time": "2022-02-23T17:23:36.538Z"
   },
   {
    "duration": 16,
    "start_time": "2022-02-23T17:27:24.140Z"
   },
   {
    "duration": 6,
    "start_time": "2022-02-23T17:38:35.219Z"
   },
   {
    "duration": 426,
    "start_time": "2022-02-23T17:38:49.683Z"
   },
   {
    "duration": 10,
    "start_time": "2022-02-23T17:38:58.601Z"
   },
   {
    "duration": 8,
    "start_time": "2022-02-23T17:42:12.175Z"
   },
   {
    "duration": 10,
    "start_time": "2022-02-23T17:42:39.194Z"
   },
   {
    "duration": 16,
    "start_time": "2022-02-23T17:43:27.788Z"
   },
   {
    "duration": 330,
    "start_time": "2022-02-23T17:43:55.430Z"
   },
   {
    "duration": 13,
    "start_time": "2022-02-23T17:44:18.818Z"
   },
   {
    "duration": 9,
    "start_time": "2022-02-23T17:44:45.501Z"
   },
   {
    "duration": 14,
    "start_time": "2022-02-23T17:46:26.765Z"
   },
   {
    "duration": 14,
    "start_time": "2022-02-23T17:55:30.871Z"
   },
   {
    "duration": 337,
    "start_time": "2022-02-23T17:56:23.475Z"
   },
   {
    "duration": 301,
    "start_time": "2022-02-23T17:57:05.835Z"
   },
   {
    "duration": 298,
    "start_time": "2022-02-23T17:57:32.717Z"
   },
   {
    "duration": 100,
    "start_time": "2022-02-23T17:57:52.010Z"
   },
   {
    "duration": 364,
    "start_time": "2022-02-23T17:58:04.918Z"
   },
   {
    "duration": 433,
    "start_time": "2022-02-23T17:59:21.095Z"
   },
   {
    "duration": 305,
    "start_time": "2022-02-23T17:59:28.678Z"
   },
   {
    "duration": 312,
    "start_time": "2022-02-23T17:59:33.796Z"
   },
   {
    "duration": 280,
    "start_time": "2022-02-23T17:59:34.348Z"
   },
   {
    "duration": 323,
    "start_time": "2022-02-23T18:00:00.179Z"
   },
   {
    "duration": 14,
    "start_time": "2022-02-23T18:00:09.129Z"
   },
   {
    "duration": 317,
    "start_time": "2022-02-23T18:00:09.874Z"
   },
   {
    "duration": 4,
    "start_time": "2022-02-23T18:00:18.937Z"
   },
   {
    "duration": 4,
    "start_time": "2022-02-23T18:00:26.529Z"
   },
   {
    "duration": 381,
    "start_time": "2022-02-23T18:01:10.461Z"
   },
   {
    "duration": 459,
    "start_time": "2022-02-23T18:01:17.327Z"
   },
   {
    "duration": 307,
    "start_time": "2022-02-23T18:01:51.826Z"
   },
   {
    "duration": 16,
    "start_time": "2022-02-23T18:02:12.504Z"
   },
   {
    "duration": 98,
    "start_time": "2022-02-23T18:03:05.060Z"
   },
   {
    "duration": -70,
    "start_time": "2022-02-23T18:03:18.995Z"
   },
   {
    "duration": 7763,
    "start_time": "2022-02-23T18:03:18.982Z"
   },
   {
    "duration": 18,
    "start_time": "2022-02-23T18:05:04.395Z"
   },
   {
    "duration": 350,
    "start_time": "2022-02-23T18:05:51.207Z"
   },
   {
    "duration": 15,
    "start_time": "2022-02-23T18:05:56.904Z"
   },
   {
    "duration": 5,
    "start_time": "2022-02-23T18:05:57.601Z"
   },
   {
    "duration": 317,
    "start_time": "2022-02-23T18:07:29.156Z"
   },
   {
    "duration": 13,
    "start_time": "2022-02-23T18:07:32.378Z"
   },
   {
    "duration": 4,
    "start_time": "2022-02-23T18:07:32.814Z"
   },
   {
    "duration": 299,
    "start_time": "2022-02-23T18:09:21.147Z"
   },
   {
    "duration": 310,
    "start_time": "2022-02-23T18:10:27.304Z"
   },
   {
    "duration": 22,
    "start_time": "2022-02-23T18:10:36.549Z"
   },
   {
    "duration": 14,
    "start_time": "2022-02-23T18:10:51.092Z"
   },
   {
    "duration": 5,
    "start_time": "2022-02-23T18:10:54.132Z"
   },
   {
    "duration": 307,
    "start_time": "2022-02-23T18:12:14.488Z"
   },
   {
    "duration": 15,
    "start_time": "2022-02-23T18:12:16.021Z"
   },
   {
    "duration": 4,
    "start_time": "2022-02-23T18:12:16.553Z"
   },
   {
    "duration": 15,
    "start_time": "2022-02-23T18:13:22.886Z"
   },
   {
    "duration": 4,
    "start_time": "2022-02-23T18:13:23.623Z"
   },
   {
    "duration": 7,
    "start_time": "2022-02-23T18:14:06.675Z"
   },
   {
    "duration": 15,
    "start_time": "2022-02-23T18:14:12.713Z"
   },
   {
    "duration": 5,
    "start_time": "2022-02-23T18:14:13.202Z"
   },
   {
    "duration": 17,
    "start_time": "2022-02-23T18:14:45.651Z"
   },
   {
    "duration": 5,
    "start_time": "2022-02-23T18:14:46.196Z"
   },
   {
    "duration": 22,
    "start_time": "2022-02-23T18:16:35.364Z"
   },
   {
    "duration": 14,
    "start_time": "2022-02-23T18:17:28.185Z"
   },
   {
    "duration": 5,
    "start_time": "2022-02-23T18:17:28.783Z"
   },
   {
    "duration": 13,
    "start_time": "2022-02-23T18:20:40.834Z"
   },
   {
    "duration": 5,
    "start_time": "2022-02-23T18:20:44.538Z"
   },
   {
    "duration": 17,
    "start_time": "2022-02-23T18:22:03.156Z"
   },
   {
    "duration": 5,
    "start_time": "2022-02-23T18:22:03.736Z"
   },
   {
    "duration": 340,
    "start_time": "2022-02-23T18:27:19.826Z"
   },
   {
    "duration": 66,
    "start_time": "2022-02-23T18:27:45.777Z"
   },
   {
    "duration": 19,
    "start_time": "2022-02-23T18:27:45.846Z"
   },
   {
    "duration": 8,
    "start_time": "2022-02-23T18:27:45.869Z"
   },
   {
    "duration": 20,
    "start_time": "2022-02-23T18:27:45.881Z"
   },
   {
    "duration": 120,
    "start_time": "2022-02-23T18:27:45.904Z"
   },
   {
    "duration": 38,
    "start_time": "2022-02-23T18:27:46.027Z"
   },
   {
    "duration": 10,
    "start_time": "2022-02-23T18:27:46.068Z"
   },
   {
    "duration": 12,
    "start_time": "2022-02-23T18:27:46.082Z"
   },
   {
    "duration": 106,
    "start_time": "2022-02-23T18:27:46.099Z"
   },
   {
    "duration": 33,
    "start_time": "2022-02-23T18:27:46.208Z"
   },
   {
    "duration": 65,
    "start_time": "2022-02-23T18:27:46.243Z"
   },
   {
    "duration": 12,
    "start_time": "2022-02-23T18:27:46.311Z"
   },
   {
    "duration": 8,
    "start_time": "2022-02-23T18:27:46.327Z"
   },
   {
    "duration": 44,
    "start_time": "2022-02-23T18:27:46.337Z"
   },
   {
    "duration": 5,
    "start_time": "2022-02-23T18:27:46.383Z"
   },
   {
    "duration": 17,
    "start_time": "2022-02-23T18:27:46.390Z"
   },
   {
    "duration": 12,
    "start_time": "2022-02-23T18:27:46.410Z"
   },
   {
    "duration": 91,
    "start_time": "2022-02-23T18:27:46.424Z"
   },
   {
    "duration": 5,
    "start_time": "2022-02-23T18:27:46.517Z"
   },
   {
    "duration": 304,
    "start_time": "2022-02-23T18:27:46.524Z"
   },
   {
    "duration": 318,
    "start_time": "2022-02-23T18:28:31.274Z"
   },
   {
    "duration": 67,
    "start_time": "2022-02-23T18:28:41.897Z"
   },
   {
    "duration": 15,
    "start_time": "2022-02-23T18:28:41.968Z"
   },
   {
    "duration": 14,
    "start_time": "2022-02-23T18:28:41.987Z"
   },
   {
    "duration": 47,
    "start_time": "2022-02-23T18:28:42.004Z"
   },
   {
    "duration": 103,
    "start_time": "2022-02-23T18:28:42.054Z"
   },
   {
    "duration": 25,
    "start_time": "2022-02-23T18:28:42.160Z"
   },
   {
    "duration": 9,
    "start_time": "2022-02-23T18:28:42.188Z"
   },
   {
    "duration": 11,
    "start_time": "2022-02-23T18:28:42.199Z"
   },
   {
    "duration": 98,
    "start_time": "2022-02-23T18:28:42.214Z"
   },
   {
    "duration": 36,
    "start_time": "2022-02-23T18:28:42.315Z"
   },
   {
    "duration": 53,
    "start_time": "2022-02-23T18:28:42.365Z"
   },
   {
    "duration": 19,
    "start_time": "2022-02-23T18:28:42.420Z"
   },
   {
    "duration": 18,
    "start_time": "2022-02-23T18:28:42.467Z"
   },
   {
    "duration": 41,
    "start_time": "2022-02-23T18:28:42.487Z"
   },
   {
    "duration": 12,
    "start_time": "2022-02-23T18:28:42.531Z"
   },
   {
    "duration": 29,
    "start_time": "2022-02-23T18:28:42.546Z"
   },
   {
    "duration": 17,
    "start_time": "2022-02-23T18:28:42.579Z"
   },
   {
    "duration": 19,
    "start_time": "2022-02-23T18:28:42.598Z"
   },
   {
    "duration": 12,
    "start_time": "2022-02-23T18:28:42.621Z"
   },
   {
    "duration": 390,
    "start_time": "2022-02-23T18:28:42.636Z"
   },
   {
    "duration": 5,
    "start_time": "2022-02-23T18:30:12.190Z"
   },
   {
    "duration": 340,
    "start_time": "2022-02-23T18:34:40.552Z"
   },
   {
    "duration": 1294,
    "start_time": "2022-02-23T18:34:48.834Z"
   },
   {
    "duration": 16,
    "start_time": "2022-02-23T18:34:50.132Z"
   },
   {
    "duration": 8,
    "start_time": "2022-02-23T18:34:50.152Z"
   },
   {
    "duration": 32,
    "start_time": "2022-02-23T18:34:50.167Z"
   },
   {
    "duration": 92,
    "start_time": "2022-02-23T18:34:50.203Z"
   },
   {
    "duration": 18,
    "start_time": "2022-02-23T18:34:50.298Z"
   },
   {
    "duration": 47,
    "start_time": "2022-02-23T18:34:50.320Z"
   },
   {
    "duration": 18,
    "start_time": "2022-02-23T18:34:50.371Z"
   },
   {
    "duration": 84,
    "start_time": "2022-02-23T18:34:50.393Z"
   },
   {
    "duration": 48,
    "start_time": "2022-02-23T18:34:50.481Z"
   },
   {
    "duration": 75,
    "start_time": "2022-02-23T18:34:50.532Z"
   },
   {
    "duration": 20,
    "start_time": "2022-02-23T18:34:50.609Z"
   },
   {
    "duration": 33,
    "start_time": "2022-02-23T18:34:50.632Z"
   },
   {
    "duration": 18,
    "start_time": "2022-02-23T18:34:50.668Z"
   },
   {
    "duration": 5,
    "start_time": "2022-02-23T18:34:50.689Z"
   },
   {
    "duration": 23,
    "start_time": "2022-02-23T18:34:50.697Z"
   },
   {
    "duration": 40,
    "start_time": "2022-02-23T18:34:50.723Z"
   },
   {
    "duration": 22,
    "start_time": "2022-02-23T18:34:50.767Z"
   },
   {
    "duration": 13,
    "start_time": "2022-02-23T18:34:50.792Z"
   },
   {
    "duration": 351,
    "start_time": "2022-02-23T18:37:31.307Z"
   },
   {
    "duration": 1022,
    "start_time": "2022-02-23T18:37:36.644Z"
   },
   {
    "duration": 14,
    "start_time": "2022-02-23T18:37:37.669Z"
   },
   {
    "duration": 10,
    "start_time": "2022-02-23T18:37:37.687Z"
   },
   {
    "duration": 28,
    "start_time": "2022-02-23T18:37:37.711Z"
   },
   {
    "duration": 133,
    "start_time": "2022-02-23T18:37:37.741Z"
   },
   {
    "duration": 19,
    "start_time": "2022-02-23T18:37:37.877Z"
   },
   {
    "duration": 7,
    "start_time": "2022-02-23T18:37:37.899Z"
   },
   {
    "duration": 9,
    "start_time": "2022-02-23T18:37:37.908Z"
   },
   {
    "duration": 109,
    "start_time": "2022-02-23T18:37:37.920Z"
   },
   {
    "duration": 45,
    "start_time": "2022-02-23T18:37:38.032Z"
   },
   {
    "duration": 46,
    "start_time": "2022-02-23T18:37:38.080Z"
   },
   {
    "duration": 47,
    "start_time": "2022-02-23T18:37:38.128Z"
   },
   {
    "duration": 9,
    "start_time": "2022-02-23T18:37:38.178Z"
   },
   {
    "duration": 29,
    "start_time": "2022-02-23T18:37:38.190Z"
   },
   {
    "duration": 5,
    "start_time": "2022-02-23T18:37:38.222Z"
   },
   {
    "duration": 52,
    "start_time": "2022-02-23T18:37:38.229Z"
   },
   {
    "duration": 16,
    "start_time": "2022-02-23T18:37:38.284Z"
   },
   {
    "duration": 13,
    "start_time": "2022-02-23T18:37:38.303Z"
   },
   {
    "duration": 4,
    "start_time": "2022-02-23T18:37:38.319Z"
   },
   {
    "duration": 1056,
    "start_time": "2022-02-23T18:40:03.652Z"
   },
   {
    "duration": 16,
    "start_time": "2022-02-23T18:40:04.711Z"
   },
   {
    "duration": 6,
    "start_time": "2022-02-23T18:40:04.730Z"
   },
   {
    "duration": 22,
    "start_time": "2022-02-23T18:40:04.763Z"
   },
   {
    "duration": 111,
    "start_time": "2022-02-23T18:40:04.788Z"
   },
   {
    "duration": 17,
    "start_time": "2022-02-23T18:40:04.901Z"
   },
   {
    "duration": 7,
    "start_time": "2022-02-23T18:40:04.921Z"
   },
   {
    "duration": 38,
    "start_time": "2022-02-23T18:40:04.933Z"
   },
   {
    "duration": 78,
    "start_time": "2022-02-23T18:40:04.975Z"
   },
   {
    "duration": 49,
    "start_time": "2022-02-23T18:40:05.055Z"
   },
   {
    "duration": 71,
    "start_time": "2022-02-23T18:40:05.107Z"
   },
   {
    "duration": 18,
    "start_time": "2022-02-23T18:40:05.182Z"
   },
   {
    "duration": 7,
    "start_time": "2022-02-23T18:40:05.204Z"
   },
   {
    "duration": 55,
    "start_time": "2022-02-23T18:40:05.214Z"
   },
   {
    "duration": 20,
    "start_time": "2022-02-23T18:40:05.274Z"
   },
   {
    "duration": 21,
    "start_time": "2022-02-23T18:40:05.298Z"
   },
   {
    "duration": 15,
    "start_time": "2022-02-23T18:40:05.322Z"
   },
   {
    "duration": 37,
    "start_time": "2022-02-23T18:40:05.340Z"
   },
   {
    "duration": 17,
    "start_time": "2022-02-23T18:40:05.380Z"
   },
   {
    "duration": 390,
    "start_time": "2022-02-23T18:43:48.421Z"
   },
   {
    "duration": 282,
    "start_time": "2022-02-23T18:43:55.538Z"
   },
   {
    "duration": 947,
    "start_time": "2022-02-23T18:44:03.872Z"
   },
   {
    "duration": 14,
    "start_time": "2022-02-23T18:44:04.823Z"
   },
   {
    "duration": 25,
    "start_time": "2022-02-23T18:44:04.840Z"
   },
   {
    "duration": 36,
    "start_time": "2022-02-23T18:44:04.867Z"
   },
   {
    "duration": 111,
    "start_time": "2022-02-23T18:44:04.907Z"
   },
   {
    "duration": 50,
    "start_time": "2022-02-23T18:44:05.021Z"
   },
   {
    "duration": 7,
    "start_time": "2022-02-23T18:44:05.075Z"
   },
   {
    "duration": 11,
    "start_time": "2022-02-23T18:44:05.086Z"
   },
   {
    "duration": 101,
    "start_time": "2022-02-23T18:44:05.104Z"
   },
   {
    "duration": 34,
    "start_time": "2022-02-23T18:44:05.209Z"
   },
   {
    "duration": 53,
    "start_time": "2022-02-23T18:44:05.267Z"
   },
   {
    "duration": 42,
    "start_time": "2022-02-23T18:44:05.323Z"
   },
   {
    "duration": 8,
    "start_time": "2022-02-23T18:44:05.371Z"
   },
   {
    "duration": 25,
    "start_time": "2022-02-23T18:44:05.383Z"
   },
   {
    "duration": 14,
    "start_time": "2022-02-23T18:44:05.411Z"
   },
   {
    "duration": 42,
    "start_time": "2022-02-23T18:44:05.427Z"
   },
   {
    "duration": 19,
    "start_time": "2022-02-23T18:44:05.474Z"
   },
   {
    "duration": 28,
    "start_time": "2022-02-23T18:44:05.496Z"
   },
   {
    "duration": 355,
    "start_time": "2022-02-23T18:44:05.527Z"
   },
   {
    "duration": -31,
    "start_time": "2022-02-23T18:44:05.916Z"
   },
   {
    "duration": 8672,
    "start_time": "2022-02-23T18:46:23.098Z"
   },
   {
    "duration": 17,
    "start_time": "2022-02-23T18:46:42.155Z"
   },
   {
    "duration": 23,
    "start_time": "2022-02-23T18:46:52.240Z"
   },
   {
    "duration": 24,
    "start_time": "2022-02-23T18:48:05.350Z"
   },
   {
    "duration": 22,
    "start_time": "2022-02-23T18:48:09.797Z"
   },
   {
    "duration": 21,
    "start_time": "2022-02-23T18:48:10.487Z"
   },
   {
    "duration": 20,
    "start_time": "2022-02-23T18:48:22.278Z"
   },
   {
    "duration": 334,
    "start_time": "2022-02-23T18:55:43.537Z"
   },
   {
    "duration": 342,
    "start_time": "2022-02-23T19:07:07.814Z"
   },
   {
    "duration": 972,
    "start_time": "2022-02-23T19:07:14.201Z"
   },
   {
    "duration": 24,
    "start_time": "2022-02-23T19:07:15.177Z"
   },
   {
    "duration": 14,
    "start_time": "2022-02-23T19:07:15.204Z"
   },
   {
    "duration": 28,
    "start_time": "2022-02-23T19:07:15.221Z"
   },
   {
    "duration": 101,
    "start_time": "2022-02-23T19:07:15.262Z"
   },
   {
    "duration": 23,
    "start_time": "2022-02-23T19:07:15.366Z"
   },
   {
    "duration": 8,
    "start_time": "2022-02-23T19:07:15.392Z"
   },
   {
    "duration": 12,
    "start_time": "2022-02-23T19:07:15.406Z"
   },
   {
    "duration": 152,
    "start_time": "2022-02-23T19:07:15.422Z"
   },
   {
    "duration": 36,
    "start_time": "2022-02-23T19:07:15.577Z"
   },
   {
    "duration": 68,
    "start_time": "2022-02-23T19:07:15.616Z"
   },
   {
    "duration": 20,
    "start_time": "2022-02-23T19:07:15.687Z"
   },
   {
    "duration": 6,
    "start_time": "2022-02-23T19:07:15.711Z"
   },
   {
    "duration": 46,
    "start_time": "2022-02-23T19:07:15.720Z"
   },
   {
    "duration": 8,
    "start_time": "2022-02-23T19:07:15.769Z"
   },
   {
    "duration": 22,
    "start_time": "2022-02-23T19:07:15.780Z"
   },
   {
    "duration": 13,
    "start_time": "2022-02-23T19:07:15.804Z"
   },
   {
    "duration": 58,
    "start_time": "2022-02-23T19:07:15.819Z"
   },
   {
    "duration": 23,
    "start_time": "2022-02-23T19:07:15.879Z"
   },
   {
    "duration": 3,
    "start_time": "2022-02-23T19:07:15.904Z"
   },
   {
    "duration": 52,
    "start_time": "2022-02-23T19:07:15.910Z"
   },
   {
    "duration": 311,
    "start_time": "2022-02-23T19:08:53.647Z"
   },
   {
    "duration": 305,
    "start_time": "2022-02-23T19:09:11.106Z"
   },
   {
    "duration": 6650,
    "start_time": "2022-02-23T19:10:15.598Z"
   },
   {
    "duration": 10,
    "start_time": "2022-02-23T19:10:36.186Z"
   },
   {
    "duration": 21,
    "start_time": "2022-02-23T19:13:18.401Z"
   },
   {
    "duration": 34,
    "start_time": "2022-02-23T19:14:30.258Z"
   },
   {
    "duration": 33,
    "start_time": "2022-02-23T19:15:00.620Z"
   },
   {
    "duration": 350,
    "start_time": "2022-02-23T19:15:42.640Z"
   },
   {
    "duration": 30,
    "start_time": "2022-02-23T19:16:16.649Z"
   },
   {
    "duration": 28,
    "start_time": "2022-02-23T19:16:35.198Z"
   },
   {
    "duration": 27,
    "start_time": "2022-02-23T19:16:57.660Z"
   },
   {
    "duration": 28,
    "start_time": "2022-02-23T19:18:10.567Z"
   },
   {
    "duration": 3,
    "start_time": "2022-02-23T19:22:52.647Z"
   },
   {
    "duration": 72,
    "start_time": "2022-02-23T19:25:17.881Z"
   },
   {
    "duration": 68,
    "start_time": "2022-02-23T19:25:41.634Z"
   },
   {
    "duration": 10,
    "start_time": "2022-02-23T19:25:41.705Z"
   },
   {
    "duration": 13,
    "start_time": "2022-02-23T19:25:41.719Z"
   },
   {
    "duration": 33,
    "start_time": "2022-02-23T19:25:41.736Z"
   },
   {
    "duration": 99,
    "start_time": "2022-02-23T19:25:41.771Z"
   },
   {
    "duration": 17,
    "start_time": "2022-02-23T19:25:41.873Z"
   },
   {
    "duration": 8,
    "start_time": "2022-02-23T19:25:41.893Z"
   },
   {
    "duration": 7,
    "start_time": "2022-02-23T19:25:41.904Z"
   },
   {
    "duration": 102,
    "start_time": "2022-02-23T19:25:41.915Z"
   },
   {
    "duration": 51,
    "start_time": "2022-02-23T19:25:42.020Z"
   },
   {
    "duration": 46,
    "start_time": "2022-02-23T19:25:42.075Z"
   },
   {
    "duration": 4,
    "start_time": "2022-02-23T19:25:42.124Z"
   },
   {
    "duration": 41,
    "start_time": "2022-02-23T19:25:42.130Z"
   },
   {
    "duration": 7,
    "start_time": "2022-02-23T19:25:42.174Z"
   },
   {
    "duration": 17,
    "start_time": "2022-02-23T19:25:42.184Z"
   },
   {
    "duration": 6,
    "start_time": "2022-02-23T19:25:42.204Z"
   },
   {
    "duration": 59,
    "start_time": "2022-02-23T19:25:42.214Z"
   },
   {
    "duration": 16,
    "start_time": "2022-02-23T19:25:42.276Z"
   },
   {
    "duration": 20,
    "start_time": "2022-02-23T19:25:42.295Z"
   },
   {
    "duration": 62,
    "start_time": "2022-02-23T19:25:42.318Z"
   },
   {
    "duration": 4,
    "start_time": "2022-02-23T19:25:42.383Z"
   },
   {
    "duration": 19,
    "start_time": "2022-02-23T19:25:42.390Z"
   },
   {
    "duration": 67,
    "start_time": "2022-02-23T19:25:42.413Z"
   },
   {
    "duration": 130,
    "start_time": "2022-02-23T19:25:42.483Z"
   },
   {
    "duration": -39,
    "start_time": "2022-02-23T19:25:42.654Z"
   },
   {
    "duration": 12,
    "start_time": "2022-02-23T19:26:11.605Z"
   },
   {
    "duration": 17,
    "start_time": "2022-02-23T19:27:06.486Z"
   },
   {
    "duration": 5,
    "start_time": "2022-02-23T19:28:10.219Z"
   },
   {
    "duration": 29,
    "start_time": "2022-02-23T19:28:11.032Z"
   },
   {
    "duration": 13,
    "start_time": "2022-02-23T19:29:19.892Z"
   },
   {
    "duration": 21,
    "start_time": "2022-02-23T19:29:33.617Z"
   },
   {
    "duration": 27,
    "start_time": "2022-02-23T19:30:24.479Z"
   },
   {
    "duration": 11,
    "start_time": "2022-02-23T19:34:37.837Z"
   },
   {
    "duration": 17,
    "start_time": "2022-02-23T19:34:38.436Z"
   },
   {
    "duration": 3,
    "start_time": "2022-02-23T19:34:42.631Z"
   },
   {
    "duration": 6,
    "start_time": "2022-02-23T19:34:42.841Z"
   },
   {
    "duration": 28,
    "start_time": "2022-02-23T19:34:43.005Z"
   },
   {
    "duration": 25,
    "start_time": "2022-02-23T19:34:44.526Z"
   },
   {
    "duration": 691,
    "start_time": "2022-02-23T20:55:40.908Z"
   },
   {
    "duration": 27,
    "start_time": "2022-02-23T20:55:53.127Z"
   },
   {
    "duration": 24,
    "start_time": "2022-02-23T21:06:05.831Z"
   },
   {
    "duration": 33,
    "start_time": "2022-02-23T21:06:49.993Z"
   },
   {
    "duration": 29,
    "start_time": "2022-02-23T21:07:00.769Z"
   },
   {
    "duration": 38,
    "start_time": "2022-02-23T21:09:30.978Z"
   },
   {
    "duration": 313,
    "start_time": "2022-02-23T21:24:46.078Z"
   },
   {
    "duration": 71,
    "start_time": "2022-02-23T21:25:01.725Z"
   },
   {
    "duration": 11,
    "start_time": "2022-02-23T21:25:01.799Z"
   },
   {
    "duration": 7,
    "start_time": "2022-02-23T21:25:01.814Z"
   },
   {
    "duration": 47,
    "start_time": "2022-02-23T21:25:01.824Z"
   },
   {
    "duration": 101,
    "start_time": "2022-02-23T21:25:01.873Z"
   },
   {
    "duration": 15,
    "start_time": "2022-02-23T21:25:01.976Z"
   },
   {
    "duration": 6,
    "start_time": "2022-02-23T21:25:01.993Z"
   },
   {
    "duration": 8,
    "start_time": "2022-02-23T21:25:02.002Z"
   },
   {
    "duration": 102,
    "start_time": "2022-02-23T21:25:02.014Z"
   },
   {
    "duration": 43,
    "start_time": "2022-02-23T21:25:02.120Z"
   },
   {
    "duration": 49,
    "start_time": "2022-02-23T21:25:02.166Z"
   },
   {
    "duration": 6,
    "start_time": "2022-02-23T21:25:02.218Z"
   },
   {
    "duration": 49,
    "start_time": "2022-02-23T21:25:02.227Z"
   },
   {
    "duration": 4,
    "start_time": "2022-02-23T21:25:02.279Z"
   },
   {
    "duration": 17,
    "start_time": "2022-02-23T21:25:02.286Z"
   },
   {
    "duration": 7,
    "start_time": "2022-02-23T21:25:02.306Z"
   },
   {
    "duration": 59,
    "start_time": "2022-02-23T21:25:02.315Z"
   },
   {
    "duration": 16,
    "start_time": "2022-02-23T21:25:02.377Z"
   },
   {
    "duration": 16,
    "start_time": "2022-02-23T21:25:02.396Z"
   },
   {
    "duration": 53,
    "start_time": "2022-02-23T21:25:02.415Z"
   },
   {
    "duration": 10,
    "start_time": "2022-02-23T21:25:02.470Z"
   },
   {
    "duration": 13,
    "start_time": "2022-02-23T21:25:02.482Z"
   },
   {
    "duration": 36,
    "start_time": "2022-02-23T21:25:02.497Z"
   },
   {
    "duration": 49,
    "start_time": "2022-02-23T21:25:02.535Z"
   },
   {
    "duration": 28,
    "start_time": "2022-02-23T21:25:02.587Z"
   },
   {
    "duration": 109,
    "start_time": "2022-02-23T21:25:02.618Z"
   },
   {
    "duration": 26,
    "start_time": "2022-02-23T21:31:30.770Z"
   },
   {
    "duration": 16,
    "start_time": "2022-02-23T21:31:33.469Z"
   },
   {
    "duration": 72,
    "start_time": "2022-02-23T21:31:42.438Z"
   },
   {
    "duration": 4,
    "start_time": "2022-02-23T21:31:46.696Z"
   },
   {
    "duration": 17,
    "start_time": "2022-02-23T21:32:05.176Z"
   },
   {
    "duration": 11,
    "start_time": "2022-02-23T21:33:34.396Z"
   },
   {
    "duration": 17,
    "start_time": "2022-02-23T21:33:35.854Z"
   },
   {
    "duration": 13,
    "start_time": "2022-02-23T21:33:57.751Z"
   },
   {
    "duration": 11,
    "start_time": "2022-02-23T21:34:03.010Z"
   },
   {
    "duration": 15,
    "start_time": "2022-02-23T21:34:04.196Z"
   },
   {
    "duration": 290,
    "start_time": "2022-02-23T21:35:53.464Z"
   },
   {
    "duration": 364,
    "start_time": "2022-02-23T21:36:19.648Z"
   },
   {
    "duration": 311,
    "start_time": "2022-02-23T21:36:33.307Z"
   },
   {
    "duration": 299,
    "start_time": "2022-02-23T21:36:55.036Z"
   },
   {
    "duration": 280,
    "start_time": "2022-02-23T21:37:57.379Z"
   },
   {
    "duration": 13,
    "start_time": "2022-02-23T21:38:38.343Z"
   },
   {
    "duration": 9,
    "start_time": "2022-02-23T21:38:46.003Z"
   },
   {
    "duration": 65,
    "start_time": "2022-02-23T21:40:04.044Z"
   },
   {
    "duration": 66,
    "start_time": "2022-02-23T21:40:26.070Z"
   },
   {
    "duration": 66,
    "start_time": "2022-02-23T21:40:57.133Z"
   },
   {
    "duration": 61,
    "start_time": "2022-02-23T21:41:48.644Z"
   },
   {
    "duration": 67,
    "start_time": "2022-02-23T21:42:32.164Z"
   },
   {
    "duration": 74,
    "start_time": "2022-02-23T21:42:48.149Z"
   },
   {
    "duration": 11,
    "start_time": "2022-02-23T21:42:48.226Z"
   },
   {
    "duration": 26,
    "start_time": "2022-02-23T21:42:48.240Z"
   },
   {
    "duration": 16,
    "start_time": "2022-02-23T21:42:48.269Z"
   },
   {
    "duration": 110,
    "start_time": "2022-02-23T21:42:48.287Z"
   },
   {
    "duration": 13,
    "start_time": "2022-02-23T21:42:48.400Z"
   },
   {
    "duration": 7,
    "start_time": "2022-02-23T21:42:48.416Z"
   },
   {
    "duration": 35,
    "start_time": "2022-02-23T21:42:48.427Z"
   },
   {
    "duration": 67,
    "start_time": "2022-02-23T21:42:48.465Z"
   },
   {
    "duration": 53,
    "start_time": "2022-02-23T21:42:48.535Z"
   },
   {
    "duration": 43,
    "start_time": "2022-02-23T21:42:48.591Z"
   },
   {
    "duration": 26,
    "start_time": "2022-02-23T21:42:48.637Z"
   },
   {
    "duration": 17,
    "start_time": "2022-02-23T21:42:48.666Z"
   },
   {
    "duration": 5,
    "start_time": "2022-02-23T21:42:48.686Z"
   },
   {
    "duration": 15,
    "start_time": "2022-02-23T21:42:48.694Z"
   },
   {
    "duration": 4,
    "start_time": "2022-02-23T21:42:48.712Z"
   },
   {
    "duration": 55,
    "start_time": "2022-02-23T21:42:48.719Z"
   },
   {
    "duration": 12,
    "start_time": "2022-02-23T21:42:48.777Z"
   },
   {
    "duration": 11,
    "start_time": "2022-02-23T21:42:48.791Z"
   },
   {
    "duration": 20,
    "start_time": "2022-02-23T21:42:48.804Z"
   },
   {
    "duration": 3,
    "start_time": "2022-02-23T21:42:48.862Z"
   },
   {
    "duration": 7,
    "start_time": "2022-02-23T21:42:48.868Z"
   },
   {
    "duration": 28,
    "start_time": "2022-02-23T21:42:48.879Z"
   },
   {
    "duration": 69,
    "start_time": "2022-02-23T21:42:48.910Z"
   },
   {
    "duration": 31,
    "start_time": "2022-02-23T21:42:48.981Z"
   },
   {
    "duration": 101,
    "start_time": "2022-02-23T21:42:49.014Z"
   },
   {
    "duration": 13,
    "start_time": "2022-02-23T21:43:48.224Z"
   },
   {
    "duration": 12,
    "start_time": "2022-02-23T21:44:11.032Z"
   },
   {
    "duration": 21,
    "start_time": "2022-02-23T21:44:25.486Z"
   },
   {
    "duration": 22,
    "start_time": "2022-02-23T21:44:45.975Z"
   },
   {
    "duration": 11,
    "start_time": "2022-02-23T21:45:01.838Z"
   },
   {
    "duration": 18,
    "start_time": "2022-02-23T21:48:12.809Z"
   },
   {
    "duration": 66,
    "start_time": "2022-02-23T21:48:23.750Z"
   },
   {
    "duration": 67,
    "start_time": "2022-02-23T21:48:47.477Z"
   },
   {
    "duration": 14,
    "start_time": "2022-02-23T21:48:47.547Z"
   },
   {
    "duration": 8,
    "start_time": "2022-02-23T21:48:47.564Z"
   },
   {
    "duration": 15,
    "start_time": "2022-02-23T21:48:47.575Z"
   },
   {
    "duration": 115,
    "start_time": "2022-02-23T21:48:47.592Z"
   },
   {
    "duration": 16,
    "start_time": "2022-02-23T21:48:47.709Z"
   },
   {
    "duration": 35,
    "start_time": "2022-02-23T21:48:47.727Z"
   },
   {
    "duration": 7,
    "start_time": "2022-02-23T21:48:47.765Z"
   },
   {
    "duration": 7,
    "start_time": "2022-02-23T21:48:47.776Z"
   },
   {
    "duration": 89,
    "start_time": "2022-02-23T21:48:47.786Z"
   },
   {
    "duration": 31,
    "start_time": "2022-02-23T21:48:47.878Z"
   },
   {
    "duration": 68,
    "start_time": "2022-02-23T21:48:47.911Z"
   },
   {
    "duration": 8,
    "start_time": "2022-02-23T21:48:47.982Z"
   },
   {
    "duration": 19,
    "start_time": "2022-02-23T21:48:47.993Z"
   },
   {
    "duration": 6,
    "start_time": "2022-02-23T21:48:48.015Z"
   },
   {
    "duration": 52,
    "start_time": "2022-02-23T21:48:48.024Z"
   },
   {
    "duration": 8,
    "start_time": "2022-02-23T21:48:48.079Z"
   },
   {
    "duration": 18,
    "start_time": "2022-02-23T21:48:48.089Z"
   },
   {
    "duration": 54,
    "start_time": "2022-02-23T21:48:48.110Z"
   },
   {
    "duration": 13,
    "start_time": "2022-02-23T21:48:48.167Z"
   },
   {
    "duration": 22,
    "start_time": "2022-02-23T21:48:48.182Z"
   },
   {
    "duration": 3,
    "start_time": "2022-02-23T21:48:48.207Z"
   },
   {
    "duration": 48,
    "start_time": "2022-02-23T21:48:48.213Z"
   },
   {
    "duration": 30,
    "start_time": "2022-02-23T21:48:48.264Z"
   },
   {
    "duration": 30,
    "start_time": "2022-02-23T21:48:48.297Z"
   },
   {
    "duration": 59,
    "start_time": "2022-02-23T21:48:48.330Z"
   },
   {
    "duration": 96,
    "start_time": "2022-02-23T21:48:48.393Z"
   },
   {
    "duration": 74,
    "start_time": "2022-02-23T21:49:10.299Z"
   },
   {
    "duration": 18,
    "start_time": "2022-02-23T21:49:14.888Z"
   },
   {
    "duration": 16,
    "start_time": "2022-02-23T21:49:24.302Z"
   },
   {
    "duration": 6,
    "start_time": "2022-02-23T21:51:01.162Z"
   },
   {
    "duration": 5,
    "start_time": "2022-02-23T21:55:16.365Z"
   },
   {
    "duration": 307,
    "start_time": "2022-02-23T22:01:40.811Z"
   },
   {
    "duration": 74,
    "start_time": "2022-02-23T22:01:49.715Z"
   },
   {
    "duration": 12,
    "start_time": "2022-02-23T22:01:49.792Z"
   },
   {
    "duration": 6,
    "start_time": "2022-02-23T22:01:49.807Z"
   },
   {
    "duration": 53,
    "start_time": "2022-02-23T22:01:49.816Z"
   },
   {
    "duration": 94,
    "start_time": "2022-02-23T22:01:49.871Z"
   },
   {
    "duration": 15,
    "start_time": "2022-02-23T22:01:49.967Z"
   },
   {
    "duration": 15,
    "start_time": "2022-02-23T22:01:49.984Z"
   },
   {
    "duration": 6,
    "start_time": "2022-02-23T22:01:50.003Z"
   },
   {
    "duration": 12,
    "start_time": "2022-02-23T22:01:50.012Z"
   },
   {
    "duration": 62,
    "start_time": "2022-02-23T22:01:50.062Z"
   },
   {
    "duration": 53,
    "start_time": "2022-02-23T22:01:50.126Z"
   },
   {
    "duration": 47,
    "start_time": "2022-02-23T22:01:50.182Z"
   },
   {
    "duration": 6,
    "start_time": "2022-02-23T22:01:50.232Z"
   },
   {
    "duration": 18,
    "start_time": "2022-02-23T22:01:50.263Z"
   },
   {
    "duration": 6,
    "start_time": "2022-02-23T22:01:50.284Z"
   },
   {
    "duration": 20,
    "start_time": "2022-02-23T22:01:50.292Z"
   },
   {
    "duration": 5,
    "start_time": "2022-02-23T22:01:50.314Z"
   },
   {
    "duration": 56,
    "start_time": "2022-02-23T22:01:50.321Z"
   },
   {
    "duration": 9,
    "start_time": "2022-02-23T22:01:50.379Z"
   },
   {
    "duration": 10,
    "start_time": "2022-02-23T22:01:50.391Z"
   },
   {
    "duration": 60,
    "start_time": "2022-02-23T22:01:50.403Z"
   },
   {
    "duration": 6,
    "start_time": "2022-02-23T22:01:50.466Z"
   },
   {
    "duration": 12,
    "start_time": "2022-02-23T22:01:50.477Z"
   },
   {
    "duration": 29,
    "start_time": "2022-02-23T22:01:50.491Z"
   },
   {
    "duration": 52,
    "start_time": "2022-02-23T22:01:50.522Z"
   },
   {
    "duration": 28,
    "start_time": "2022-02-23T22:01:50.577Z"
   },
   {
    "duration": 90,
    "start_time": "2022-02-23T22:01:50.608Z"
   },
   {
    "duration": 19,
    "start_time": "2022-02-23T22:02:01.869Z"
   },
   {
    "duration": 13,
    "start_time": "2022-02-23T22:05:52.782Z"
   },
   {
    "duration": 76,
    "start_time": "2022-02-23T22:05:56.236Z"
   },
   {
    "duration": 18,
    "start_time": "2022-02-23T22:05:56.896Z"
   },
   {
    "duration": 7,
    "start_time": "2022-02-23T22:06:00.021Z"
   },
   {
    "duration": 15,
    "start_time": "2022-02-23T22:06:01.268Z"
   },
   {
    "duration": 21,
    "start_time": "2022-02-23T22:06:07.973Z"
   },
   {
    "duration": 16,
    "start_time": "2022-02-23T22:06:10.592Z"
   },
   {
    "duration": 5,
    "start_time": "2022-02-23T22:06:40.432Z"
   },
   {
    "duration": 9,
    "start_time": "2022-02-23T22:06:41.575Z"
   },
   {
    "duration": 9,
    "start_time": "2022-02-23T22:06:43.523Z"
   },
   {
    "duration": 10,
    "start_time": "2022-02-23T22:06:53.437Z"
   },
   {
    "duration": 10,
    "start_time": "2022-02-23T22:06:53.986Z"
   },
   {
    "duration": 88,
    "start_time": "2022-02-23T22:06:57.427Z"
   },
   {
    "duration": 16,
    "start_time": "2022-02-23T22:06:57.519Z"
   },
   {
    "duration": 44,
    "start_time": "2022-02-23T22:06:57.538Z"
   },
   {
    "duration": 20,
    "start_time": "2022-02-23T22:06:57.584Z"
   },
   {
    "duration": 98,
    "start_time": "2022-02-23T22:06:57.606Z"
   },
   {
    "duration": 6,
    "start_time": "2022-02-23T22:06:57.707Z"
   },
   {
    "duration": 17,
    "start_time": "2022-02-23T22:06:57.716Z"
   },
   {
    "duration": 30,
    "start_time": "2022-02-23T22:06:57.737Z"
   },
   {
    "duration": 17,
    "start_time": "2022-02-23T22:06:57.771Z"
   },
   {
    "duration": 9,
    "start_time": "2022-02-23T22:06:57.791Z"
   },
   {
    "duration": 8,
    "start_time": "2022-02-23T22:06:57.802Z"
   },
   {
    "duration": 112,
    "start_time": "2022-02-23T22:06:57.813Z"
   },
   {
    "duration": 48,
    "start_time": "2022-02-23T22:06:57.928Z"
   },
   {
    "duration": 48,
    "start_time": "2022-02-23T22:06:57.979Z"
   },
   {
    "duration": 30,
    "start_time": "2022-02-23T22:06:58.031Z"
   },
   {
    "duration": 22,
    "start_time": "2022-02-23T22:06:58.065Z"
   },
   {
    "duration": 7,
    "start_time": "2022-02-23T22:06:58.091Z"
   },
   {
    "duration": 16,
    "start_time": "2022-02-23T22:06:58.102Z"
   },
   {
    "duration": 42,
    "start_time": "2022-02-23T22:06:58.120Z"
   },
   {
    "duration": 28,
    "start_time": "2022-02-23T22:06:58.165Z"
   },
   {
    "duration": 11,
    "start_time": "2022-02-23T22:06:58.196Z"
   },
   {
    "duration": 52,
    "start_time": "2022-02-23T22:06:58.210Z"
   },
   {
    "duration": 22,
    "start_time": "2022-02-23T22:06:58.267Z"
   },
   {
    "duration": 4,
    "start_time": "2022-02-23T22:06:58.292Z"
   },
   {
    "duration": 17,
    "start_time": "2022-02-23T22:06:58.299Z"
   },
   {
    "duration": 58,
    "start_time": "2022-02-23T22:06:58.319Z"
   },
   {
    "duration": 32,
    "start_time": "2022-02-23T22:06:58.380Z"
   },
   {
    "duration": 65,
    "start_time": "2022-02-23T22:06:58.415Z"
   },
   {
    "duration": 5,
    "start_time": "2022-02-23T22:07:14.110Z"
   },
   {
    "duration": 11,
    "start_time": "2022-02-23T22:07:14.993Z"
   },
   {
    "duration": 10,
    "start_time": "2022-02-23T22:07:15.874Z"
   },
   {
    "duration": 4,
    "start_time": "2022-02-23T22:07:20.043Z"
   },
   {
    "duration": 10,
    "start_time": "2022-02-23T22:07:20.872Z"
   },
   {
    "duration": 10,
    "start_time": "2022-02-23T22:07:23.367Z"
   },
   {
    "duration": 5,
    "start_time": "2022-02-23T22:07:25.922Z"
   },
   {
    "duration": 10,
    "start_time": "2022-02-23T22:07:26.779Z"
   },
   {
    "duration": 9,
    "start_time": "2022-02-23T22:07:27.660Z"
   },
   {
    "duration": 69,
    "start_time": "2022-02-23T22:07:49.437Z"
   },
   {
    "duration": 11,
    "start_time": "2022-02-23T22:07:49.509Z"
   },
   {
    "duration": 10,
    "start_time": "2022-02-23T22:07:49.523Z"
   },
   {
    "duration": 17,
    "start_time": "2022-02-23T22:07:49.562Z"
   },
   {
    "duration": 97,
    "start_time": "2022-02-23T22:07:49.581Z"
   },
   {
    "duration": 10,
    "start_time": "2022-02-23T22:07:49.681Z"
   },
   {
    "duration": 10,
    "start_time": "2022-02-23T22:07:49.694Z"
   },
   {
    "duration": 51,
    "start_time": "2022-02-23T22:07:49.709Z"
   },
   {
    "duration": 8,
    "start_time": "2022-02-23T22:07:49.764Z"
   },
   {
    "duration": 16,
    "start_time": "2022-02-23T22:07:49.774Z"
   },
   {
    "duration": 83,
    "start_time": "2022-02-23T22:07:49.792Z"
   },
   {
    "duration": 31,
    "start_time": "2022-02-23T22:07:49.877Z"
   },
   {
    "duration": 63,
    "start_time": "2022-02-23T22:07:49.910Z"
   },
   {
    "duration": 6,
    "start_time": "2022-02-23T22:07:49.976Z"
   },
   {
    "duration": 17,
    "start_time": "2022-02-23T22:07:49.984Z"
   },
   {
    "duration": 5,
    "start_time": "2022-02-23T22:07:50.003Z"
   },
   {
    "duration": 20,
    "start_time": "2022-02-23T22:07:50.010Z"
   },
   {
    "duration": 5,
    "start_time": "2022-02-23T22:07:50.062Z"
   },
   {
    "duration": 22,
    "start_time": "2022-02-23T22:07:50.070Z"
   },
   {
    "duration": 9,
    "start_time": "2022-02-23T22:07:50.095Z"
   },
   {
    "duration": 12,
    "start_time": "2022-02-23T22:07:50.107Z"
   },
   {
    "duration": 54,
    "start_time": "2022-02-23T22:07:50.122Z"
   },
   {
    "duration": 3,
    "start_time": "2022-02-23T22:07:50.182Z"
   },
   {
    "duration": 8,
    "start_time": "2022-02-23T22:07:50.188Z"
   },
   {
    "duration": 65,
    "start_time": "2022-02-23T22:07:50.198Z"
   },
   {
    "duration": 29,
    "start_time": "2022-02-23T22:07:50.265Z"
   },
   {
    "duration": 29,
    "start_time": "2022-02-23T22:07:50.297Z"
   },
   {
    "duration": 13,
    "start_time": "2022-02-23T22:07:57.065Z"
   },
   {
    "duration": 11,
    "start_time": "2022-02-23T22:07:58.650Z"
   },
   {
    "duration": 10,
    "start_time": "2022-02-23T22:07:59.241Z"
   },
   {
    "duration": 662,
    "start_time": "2022-03-06T12:02:38.863Z"
   },
   {
    "duration": 9,
    "start_time": "2022-03-06T12:02:39.527Z"
   },
   {
    "duration": 296,
    "start_time": "2022-03-06T12:02:39.539Z"
   },
   {
    "duration": -725,
    "start_time": "2022-03-06T12:02:40.562Z"
   },
   {
    "duration": -725,
    "start_time": "2022-03-06T12:02:40.564Z"
   },
   {
    "duration": -818,
    "start_time": "2022-03-06T12:02:40.659Z"
   },
   {
    "duration": -822,
    "start_time": "2022-03-06T12:02:40.664Z"
   },
   {
    "duration": -823,
    "start_time": "2022-03-06T12:02:40.667Z"
   },
   {
    "duration": -825,
    "start_time": "2022-03-06T12:02:40.671Z"
   },
   {
    "duration": -828,
    "start_time": "2022-03-06T12:02:40.675Z"
   },
   {
    "duration": -830,
    "start_time": "2022-03-06T12:02:40.679Z"
   },
   {
    "duration": -833,
    "start_time": "2022-03-06T12:02:40.684Z"
   },
   {
    "duration": -835,
    "start_time": "2022-03-06T12:02:40.687Z"
   },
   {
    "duration": -836,
    "start_time": "2022-03-06T12:02:40.690Z"
   },
   {
    "duration": -840,
    "start_time": "2022-03-06T12:02:40.695Z"
   },
   {
    "duration": -842,
    "start_time": "2022-03-06T12:02:40.699Z"
   },
   {
    "duration": -845,
    "start_time": "2022-03-06T12:02:40.703Z"
   },
   {
    "duration": -881,
    "start_time": "2022-03-06T12:02:40.740Z"
   },
   {
    "duration": -883,
    "start_time": "2022-03-06T12:02:40.743Z"
   },
   {
    "duration": -886,
    "start_time": "2022-03-06T12:02:40.747Z"
   },
   {
    "duration": -887,
    "start_time": "2022-03-06T12:02:40.749Z"
   },
   {
    "duration": -888,
    "start_time": "2022-03-06T12:02:40.751Z"
   },
   {
    "duration": -889,
    "start_time": "2022-03-06T12:02:40.754Z"
   },
   {
    "duration": -889,
    "start_time": "2022-03-06T12:02:40.756Z"
   },
   {
    "duration": -890,
    "start_time": "2022-03-06T12:02:40.758Z"
   },
   {
    "duration": -891,
    "start_time": "2022-03-06T12:02:40.761Z"
   },
   {
    "duration": -891,
    "start_time": "2022-03-06T12:02:40.763Z"
   },
   {
    "duration": 16,
    "start_time": "2022-03-06T12:03:01.997Z"
   },
   {
    "duration": 65,
    "start_time": "2022-03-06T12:03:02.015Z"
   },
   {
    "duration": 25,
    "start_time": "2022-03-06T12:03:02.082Z"
   },
   {
    "duration": 14,
    "start_time": "2022-03-06T12:03:02.109Z"
   },
   {
    "duration": 42,
    "start_time": "2022-03-06T12:03:02.125Z"
   },
   {
    "duration": 21,
    "start_time": "2022-03-06T12:03:02.169Z"
   },
   {
    "duration": 43,
    "start_time": "2022-03-06T12:03:02.191Z"
   },
   {
    "duration": 85,
    "start_time": "2022-03-06T12:03:02.236Z"
   },
   {
    "duration": 26,
    "start_time": "2022-03-06T12:03:02.324Z"
   },
   {
    "duration": 34,
    "start_time": "2022-03-06T12:03:02.352Z"
   },
   {
    "duration": 14,
    "start_time": "2022-03-06T12:03:02.388Z"
   },
   {
    "duration": 21,
    "start_time": "2022-03-06T12:03:02.404Z"
   },
   {
    "duration": 24,
    "start_time": "2022-03-06T12:03:02.427Z"
   },
   {
    "duration": 22,
    "start_time": "2022-03-06T12:03:02.452Z"
   },
   {
    "duration": 12,
    "start_time": "2022-03-06T12:03:02.476Z"
   },
   {
    "duration": 19,
    "start_time": "2022-03-06T12:03:02.490Z"
   },
   {
    "duration": 15,
    "start_time": "2022-03-06T12:03:02.511Z"
   },
   {
    "duration": 16,
    "start_time": "2022-03-06T12:03:02.528Z"
   },
   {
    "duration": 31,
    "start_time": "2022-03-06T12:03:02.546Z"
   },
   {
    "duration": 3,
    "start_time": "2022-03-06T12:03:02.578Z"
   },
   {
    "duration": 16,
    "start_time": "2022-03-06T12:03:02.582Z"
   },
   {
    "duration": 28,
    "start_time": "2022-03-06T12:03:02.599Z"
   },
   {
    "duration": 22,
    "start_time": "2022-03-06T12:03:02.629Z"
   },
   {
    "duration": 21,
    "start_time": "2022-03-06T12:03:02.652Z"
   },
   {
    "duration": 837,
    "start_time": "2022-03-07T13:43:37.577Z"
   },
   {
    "duration": 15,
    "start_time": "2022-03-07T13:43:39.721Z"
   },
   {
    "duration": 338,
    "start_time": "2022-03-07T13:43:45.096Z"
   },
   {
    "duration": 327,
    "start_time": "2022-03-07T13:45:44.687Z"
   },
   {
    "duration": 268,
    "start_time": "2022-03-07T13:46:31.123Z"
   },
   {
    "duration": 7,
    "start_time": "2022-03-07T13:46:40.600Z"
   },
   {
    "duration": 86,
    "start_time": "2022-03-07T14:02:45.289Z"
   },
   {
    "duration": 3,
    "start_time": "2022-03-07T14:10:29.023Z"
   },
   {
    "duration": 75,
    "start_time": "2022-03-07T14:10:29.604Z"
   },
   {
    "duration": 14,
    "start_time": "2022-03-07T14:12:43.758Z"
   },
   {
    "duration": 5,
    "start_time": "2022-03-07T14:14:56.217Z"
   },
   {
    "duration": 246,
    "start_time": "2022-03-07T14:16:24.075Z"
   },
   {
    "duration": 6,
    "start_time": "2022-03-07T14:17:10.836Z"
   },
   {
    "duration": 7,
    "start_time": "2022-03-07T14:17:32.796Z"
   },
   {
    "duration": 324,
    "start_time": "2022-03-07T14:18:04.136Z"
   },
   {
    "duration": 6,
    "start_time": "2022-03-07T14:18:19.485Z"
   },
   {
    "duration": 6,
    "start_time": "2022-03-07T14:19:49.037Z"
   },
   {
    "duration": 5,
    "start_time": "2022-03-07T14:22:14.286Z"
   },
   {
    "duration": 5,
    "start_time": "2022-03-07T14:22:15.784Z"
   },
   {
    "duration": 5,
    "start_time": "2022-03-07T14:22:21.220Z"
   },
   {
    "duration": 4,
    "start_time": "2022-03-07T14:23:26.896Z"
   },
   {
    "duration": 95,
    "start_time": "2022-03-07T14:23:42.385Z"
   },
   {
    "duration": 9,
    "start_time": "2022-03-07T14:24:18.870Z"
   },
   {
    "duration": 12,
    "start_time": "2022-03-07T14:24:20.207Z"
   },
   {
    "duration": 5,
    "start_time": "2022-03-07T14:27:42.623Z"
   },
   {
    "duration": 69,
    "start_time": "2022-03-07T14:28:37.587Z"
   },
   {
    "duration": 11,
    "start_time": "2022-03-07T14:29:51.492Z"
   },
   {
    "duration": 10,
    "start_time": "2022-03-07T14:29:55.110Z"
   },
   {
    "duration": 9,
    "start_time": "2022-03-07T14:29:56.248Z"
   },
   {
    "duration": 4,
    "start_time": "2022-03-07T14:30:27.386Z"
   },
   {
    "duration": 100,
    "start_time": "2022-03-07T14:30:27.393Z"
   },
   {
    "duration": 11,
    "start_time": "2022-03-07T14:30:27.496Z"
   },
   {
    "duration": 13,
    "start_time": "2022-03-07T14:30:27.510Z"
   },
   {
    "duration": 22,
    "start_time": "2022-03-07T14:30:27.526Z"
   },
   {
    "duration": 18,
    "start_time": "2022-03-07T14:30:27.551Z"
   },
   {
    "duration": 27,
    "start_time": "2022-03-07T14:30:27.571Z"
   },
   {
    "duration": 22,
    "start_time": "2022-03-07T14:30:27.601Z"
   },
   {
    "duration": 79,
    "start_time": "2022-03-07T14:30:27.627Z"
   },
   {
    "duration": 9,
    "start_time": "2022-03-07T14:30:27.709Z"
   },
   {
    "duration": 26,
    "start_time": "2022-03-07T14:30:27.721Z"
   },
   {
    "duration": 27,
    "start_time": "2022-03-07T14:30:27.749Z"
   },
   {
    "duration": 18,
    "start_time": "2022-03-07T14:30:27.778Z"
   },
   {
    "duration": 18,
    "start_time": "2022-03-07T14:30:27.799Z"
   },
   {
    "duration": 90,
    "start_time": "2022-03-07T14:30:27.820Z"
   },
   {
    "duration": 35,
    "start_time": "2022-03-07T14:30:27.914Z"
   },
   {
    "duration": 58,
    "start_time": "2022-03-07T14:30:27.951Z"
   },
   {
    "duration": 3,
    "start_time": "2022-03-07T14:30:28.012Z"
   },
   {
    "duration": 39,
    "start_time": "2022-03-07T14:30:28.019Z"
   },
   {
    "duration": 11,
    "start_time": "2022-03-07T14:30:28.062Z"
   },
   {
    "duration": 35,
    "start_time": "2022-03-07T14:30:28.076Z"
   },
   {
    "duration": 17,
    "start_time": "2022-03-07T14:30:28.113Z"
   },
   {
    "duration": 30,
    "start_time": "2022-03-07T14:30:28.133Z"
   },
   {
    "duration": 22,
    "start_time": "2022-03-07T14:30:28.166Z"
   },
   {
    "duration": 14,
    "start_time": "2022-03-07T14:30:28.191Z"
   },
   {
    "duration": 30,
    "start_time": "2022-03-07T14:30:28.207Z"
   },
   {
    "duration": 3,
    "start_time": "2022-03-07T14:30:28.241Z"
   },
   {
    "duration": 11,
    "start_time": "2022-03-07T14:30:28.273Z"
   },
   {
    "duration": 32,
    "start_time": "2022-03-07T14:30:28.287Z"
   },
   {
    "duration": 59,
    "start_time": "2022-03-07T14:30:28.322Z"
   },
   {
    "duration": 32,
    "start_time": "2022-03-07T14:30:28.384Z"
   },
   {
    "duration": 14,
    "start_time": "2022-03-07T14:31:07.739Z"
   },
   {
    "duration": 10,
    "start_time": "2022-03-07T14:31:08.876Z"
   },
   {
    "duration": 10,
    "start_time": "2022-03-07T14:31:22.355Z"
   },
   {
    "duration": 9,
    "start_time": "2022-03-07T14:31:23.329Z"
   },
   {
    "duration": 10,
    "start_time": "2022-03-07T14:31:26.662Z"
   },
   {
    "duration": 11,
    "start_time": "2022-03-07T14:31:28.058Z"
   },
   {
    "duration": 10,
    "start_time": "2022-03-07T14:31:29.349Z"
   },
   {
    "duration": 16,
    "start_time": "2022-03-07T14:32:39.373Z"
   },
   {
    "duration": 6322,
    "start_time": "2022-03-07T14:35:19.521Z"
   },
   {
    "duration": 3,
    "start_time": "2022-03-07T14:35:25.843Z"
   },
   {
    "duration": 3,
    "start_time": "2022-03-07T14:35:37.704Z"
   },
   {
    "duration": 77,
    "start_time": "2022-03-07T14:35:37.710Z"
   },
   {
    "duration": 11,
    "start_time": "2022-03-07T14:35:37.790Z"
   },
   {
    "duration": 4,
    "start_time": "2022-03-07T14:35:37.804Z"
   },
   {
    "duration": 5,
    "start_time": "2022-03-07T14:35:37.811Z"
   },
   {
    "duration": 6,
    "start_time": "2022-03-07T14:35:37.818Z"
   },
   {
    "duration": 8,
    "start_time": "2022-03-07T14:35:37.826Z"
   },
   {
    "duration": 40,
    "start_time": "2022-03-07T14:35:37.837Z"
   },
   {
    "duration": 94,
    "start_time": "2022-03-07T14:35:37.881Z"
   },
   {
    "duration": 10,
    "start_time": "2022-03-07T14:35:37.978Z"
   },
   {
    "duration": 9,
    "start_time": "2022-03-07T14:35:37.990Z"
   },
   {
    "duration": 18,
    "start_time": "2022-03-07T14:35:38.001Z"
   },
   {
    "duration": 6,
    "start_time": "2022-03-07T14:35:38.021Z"
   },
   {
    "duration": 47,
    "start_time": "2022-03-07T14:35:38.029Z"
   },
   {
    "duration": 68,
    "start_time": "2022-03-07T14:35:38.078Z"
   },
   {
    "duration": 55,
    "start_time": "2022-03-07T14:35:38.149Z"
   },
   {
    "duration": 71,
    "start_time": "2022-03-07T14:35:38.207Z"
   },
   {
    "duration": 6,
    "start_time": "2022-03-07T14:35:38.281Z"
   },
   {
    "duration": 18,
    "start_time": "2022-03-07T14:35:38.291Z"
   },
   {
    "duration": 8,
    "start_time": "2022-03-07T14:35:38.312Z"
   },
   {
    "duration": 58,
    "start_time": "2022-03-07T14:35:38.322Z"
   },
   {
    "duration": 8,
    "start_time": "2022-03-07T14:35:38.383Z"
   },
   {
    "duration": 19,
    "start_time": "2022-03-07T14:35:38.394Z"
   },
   {
    "duration": 10,
    "start_time": "2022-03-07T14:35:38.416Z"
   },
   {
    "duration": 49,
    "start_time": "2022-03-07T14:35:38.429Z"
   },
   {
    "duration": 23,
    "start_time": "2022-03-07T14:35:38.481Z"
   },
   {
    "duration": 3,
    "start_time": "2022-03-07T14:35:38.511Z"
   },
   {
    "duration": 17,
    "start_time": "2022-03-07T14:35:38.518Z"
   },
   {
    "duration": 58,
    "start_time": "2022-03-07T14:35:38.538Z"
   },
   {
    "duration": 28,
    "start_time": "2022-03-07T14:35:38.598Z"
   },
   {
    "duration": 61,
    "start_time": "2022-03-07T14:35:38.629Z"
   },
   {
    "duration": 106,
    "start_time": "2022-03-07T14:41:01.284Z"
   },
   {
    "duration": 26,
    "start_time": "2022-03-07T15:23:11.207Z"
   },
   {
    "duration": 23,
    "start_time": "2022-03-07T15:23:11.941Z"
   },
   {
    "duration": 5,
    "start_time": "2022-03-07T15:23:51.943Z"
   },
   {
    "duration": 80,
    "start_time": "2022-03-07T15:24:00.887Z"
   },
   {
    "duration": 13,
    "start_time": "2022-03-07T15:24:09.901Z"
   },
   {
    "duration": 85,
    "start_time": "2022-03-07T15:24:29.760Z"
   },
   {
    "duration": 5,
    "start_time": "2022-03-07T15:24:34.892Z"
   },
   {
    "duration": 98,
    "start_time": "2022-03-07T15:25:19.979Z"
   },
   {
    "duration": 6,
    "start_time": "2022-03-07T15:26:20.469Z"
   },
   {
    "duration": 13,
    "start_time": "2022-03-07T15:26:27.405Z"
   },
   {
    "duration": 87,
    "start_time": "2022-03-07T15:29:42.542Z"
   },
   {
    "duration": 14,
    "start_time": "2022-03-07T15:50:25.601Z"
   },
   {
    "duration": 11,
    "start_time": "2022-03-07T15:50:46.386Z"
   },
   {
    "duration": 11,
    "start_time": "2022-03-07T15:50:51.364Z"
   },
   {
    "duration": 32,
    "start_time": "2022-03-07T15:53:38.543Z"
   },
   {
    "duration": 14,
    "start_time": "2022-03-07T15:54:32.753Z"
   },
   {
    "duration": 12,
    "start_time": "2022-03-07T15:54:37.652Z"
   },
   {
    "duration": 36,
    "start_time": "2022-03-07T15:54:38.364Z"
   },
   {
    "duration": 12,
    "start_time": "2022-03-07T15:54:40.963Z"
   },
   {
    "duration": 4,
    "start_time": "2022-03-07T15:54:45.040Z"
   },
   {
    "duration": 78,
    "start_time": "2022-03-07T15:54:45.047Z"
   },
   {
    "duration": 13,
    "start_time": "2022-03-07T15:54:45.128Z"
   },
   {
    "duration": 7,
    "start_time": "2022-03-07T15:54:45.144Z"
   },
   {
    "duration": 25,
    "start_time": "2022-03-07T15:54:45.153Z"
   },
   {
    "duration": 10,
    "start_time": "2022-03-07T15:54:45.180Z"
   },
   {
    "duration": 16,
    "start_time": "2022-03-07T15:54:45.193Z"
   },
   {
    "duration": 70,
    "start_time": "2022-03-07T15:54:45.211Z"
   },
   {
    "duration": 13,
    "start_time": "2022-03-07T15:54:45.287Z"
   },
   {
    "duration": 109,
    "start_time": "2022-03-07T15:54:45.304Z"
   },
   {
    "duration": 10,
    "start_time": "2022-03-07T15:54:45.415Z"
   },
   {
    "duration": 19,
    "start_time": "2022-03-07T15:54:45.428Z"
   },
   {
    "duration": 16,
    "start_time": "2022-03-07T15:54:45.474Z"
   },
   {
    "duration": 9,
    "start_time": "2022-03-07T15:54:45.493Z"
   },
   {
    "duration": 280,
    "start_time": "2022-03-07T15:54:45.504Z"
   },
   {
    "duration": 60,
    "start_time": "2022-03-07T15:54:45.727Z"
   },
   {
    "duration": 60,
    "start_time": "2022-03-07T15:54:45.729Z"
   },
   {
    "duration": 58,
    "start_time": "2022-03-07T15:54:45.732Z"
   },
   {
    "duration": 58,
    "start_time": "2022-03-07T15:54:45.734Z"
   },
   {
    "duration": 59,
    "start_time": "2022-03-07T15:54:45.735Z"
   },
   {
    "duration": 60,
    "start_time": "2022-03-07T15:54:45.736Z"
   },
   {
    "duration": 59,
    "start_time": "2022-03-07T15:54:45.738Z"
   },
   {
    "duration": 56,
    "start_time": "2022-03-07T15:54:45.742Z"
   },
   {
    "duration": 55,
    "start_time": "2022-03-07T15:54:45.745Z"
   },
   {
    "duration": 54,
    "start_time": "2022-03-07T15:54:45.747Z"
   },
   {
    "duration": 55,
    "start_time": "2022-03-07T15:54:45.748Z"
   },
   {
    "duration": 55,
    "start_time": "2022-03-07T15:54:45.749Z"
   },
   {
    "duration": 55,
    "start_time": "2022-03-07T15:54:45.750Z"
   },
   {
    "duration": 40,
    "start_time": "2022-03-07T15:54:45.766Z"
   },
   {
    "duration": 41,
    "start_time": "2022-03-07T15:54:45.767Z"
   },
   {
    "duration": 39,
    "start_time": "2022-03-07T15:54:45.770Z"
   },
   {
    "duration": 38,
    "start_time": "2022-03-07T15:54:45.772Z"
   },
   {
    "duration": 35,
    "start_time": "2022-03-07T15:54:45.776Z"
   },
   {
    "duration": 14,
    "start_time": "2022-03-07T15:54:45.799Z"
   },
   {
    "duration": 10,
    "start_time": "2022-03-07T15:55:39.552Z"
   },
   {
    "duration": 36,
    "start_time": "2022-03-07T15:55:44.296Z"
   },
   {
    "duration": 11,
    "start_time": "2022-03-07T15:55:47.588Z"
   },
   {
    "duration": 39,
    "start_time": "2022-03-07T15:56:38.655Z"
   },
   {
    "duration": 10,
    "start_time": "2022-03-07T15:56:39.319Z"
   },
   {
    "duration": 11,
    "start_time": "2022-03-07T15:56:42.365Z"
   },
   {
    "duration": 9,
    "start_time": "2022-03-07T15:58:18.540Z"
   },
   {
    "duration": 37,
    "start_time": "2022-03-07T15:58:19.220Z"
   },
   {
    "duration": 10,
    "start_time": "2022-03-07T15:58:19.880Z"
   },
   {
    "duration": 12,
    "start_time": "2022-03-07T15:58:22.034Z"
   },
   {
    "duration": 12,
    "start_time": "2022-03-07T16:00:30.195Z"
   },
   {
    "duration": 29,
    "start_time": "2022-03-07T16:01:28.692Z"
   },
   {
    "duration": 274,
    "start_time": "2022-03-07T16:01:51.586Z"
   },
   {
    "duration": 29,
    "start_time": "2022-03-07T16:01:58.474Z"
   },
   {
    "duration": 46,
    "start_time": "2022-03-07T16:02:22.496Z"
   },
   {
    "duration": 10,
    "start_time": "2022-03-07T16:02:48.172Z"
   },
   {
    "duration": 53,
    "start_time": "2022-03-07T16:02:54.619Z"
   },
   {
    "duration": 9,
    "start_time": "2022-03-07T16:02:55.390Z"
   },
   {
    "duration": 11,
    "start_time": "2022-03-07T16:02:57.919Z"
   },
   {
    "duration": 3,
    "start_time": "2022-03-07T16:04:18.136Z"
   },
   {
    "duration": 77,
    "start_time": "2022-03-07T16:04:18.142Z"
   },
   {
    "duration": 12,
    "start_time": "2022-03-07T16:04:18.222Z"
   },
   {
    "duration": 6,
    "start_time": "2022-03-07T16:04:18.236Z"
   },
   {
    "duration": 31,
    "start_time": "2022-03-07T16:04:18.244Z"
   },
   {
    "duration": 11,
    "start_time": "2022-03-07T16:04:18.278Z"
   },
   {
    "duration": 11,
    "start_time": "2022-03-07T16:04:18.291Z"
   },
   {
    "duration": 70,
    "start_time": "2022-03-07T16:04:18.306Z"
   },
   {
    "duration": 10,
    "start_time": "2022-03-07T16:04:18.379Z"
   },
   {
    "duration": 12,
    "start_time": "2022-03-07T16:04:18.392Z"
   },
   {
    "duration": 117,
    "start_time": "2022-03-07T16:04:18.406Z"
   },
   {
    "duration": 9,
    "start_time": "2022-03-07T16:04:18.526Z"
   },
   {
    "duration": 9,
    "start_time": "2022-03-07T16:04:18.538Z"
   },
   {
    "duration": 15,
    "start_time": "2022-03-07T16:04:18.573Z"
   },
   {
    "duration": 8,
    "start_time": "2022-03-07T16:04:18.591Z"
   },
   {
    "duration": 318,
    "start_time": "2022-03-07T16:04:18.601Z"
   },
   {
    "duration": 26,
    "start_time": "2022-03-07T16:04:18.896Z"
   },
   {
    "duration": 25,
    "start_time": "2022-03-07T16:04:18.898Z"
   },
   {
    "duration": 26,
    "start_time": "2022-03-07T16:04:18.899Z"
   },
   {
    "duration": 25,
    "start_time": "2022-03-07T16:04:18.901Z"
   },
   {
    "duration": 26,
    "start_time": "2022-03-07T16:04:18.902Z"
   },
   {
    "duration": 23,
    "start_time": "2022-03-07T16:04:18.906Z"
   },
   {
    "duration": 24,
    "start_time": "2022-03-07T16:04:18.907Z"
   },
   {
    "duration": 23,
    "start_time": "2022-03-07T16:04:18.909Z"
   },
   {
    "duration": 20,
    "start_time": "2022-03-07T16:04:18.914Z"
   },
   {
    "duration": 20,
    "start_time": "2022-03-07T16:04:18.916Z"
   },
   {
    "duration": 19,
    "start_time": "2022-03-07T16:04:18.918Z"
   },
   {
    "duration": 19,
    "start_time": "2022-03-07T16:04:18.919Z"
   },
   {
    "duration": 20,
    "start_time": "2022-03-07T16:04:18.920Z"
   },
   {
    "duration": 19,
    "start_time": "2022-03-07T16:04:18.922Z"
   },
   {
    "duration": 20,
    "start_time": "2022-03-07T16:04:18.923Z"
   },
   {
    "duration": 21,
    "start_time": "2022-03-07T16:04:18.924Z"
   },
   {
    "duration": 4,
    "start_time": "2022-03-07T16:04:18.943Z"
   },
   {
    "duration": -1,
    "start_time": "2022-03-07T16:04:18.949Z"
   },
   {
    "duration": 0,
    "start_time": "2022-03-07T16:04:18.950Z"
   },
   {
    "duration": 3,
    "start_time": "2022-03-07T16:04:32.744Z"
   },
   {
    "duration": 73,
    "start_time": "2022-03-07T16:04:33.155Z"
   },
   {
    "duration": 12,
    "start_time": "2022-03-07T16:04:35.599Z"
   },
   {
    "duration": 6,
    "start_time": "2022-03-07T16:04:36.868Z"
   },
   {
    "duration": 5,
    "start_time": "2022-03-07T16:04:38.963Z"
   },
   {
    "duration": 5,
    "start_time": "2022-03-07T16:04:40.000Z"
   },
   {
    "duration": 11,
    "start_time": "2022-03-07T16:04:42.506Z"
   },
   {
    "duration": 38,
    "start_time": "2022-03-07T16:04:43.102Z"
   },
   {
    "duration": 10,
    "start_time": "2022-03-07T16:04:43.900Z"
   },
   {
    "duration": 11,
    "start_time": "2022-03-07T16:04:45.831Z"
   },
   {
    "duration": 12,
    "start_time": "2022-03-07T16:04:49.050Z"
   },
   {
    "duration": 40,
    "start_time": "2022-03-07T16:05:09.733Z"
   },
   {
    "duration": 12,
    "start_time": "2022-03-07T16:05:11.285Z"
   },
   {
    "duration": 18,
    "start_time": "2022-03-07T16:05:21.123Z"
   },
   {
    "duration": 12,
    "start_time": "2022-03-07T16:05:23.233Z"
   },
   {
    "duration": 18,
    "start_time": "2022-03-07T16:08:41.023Z"
   },
   {
    "duration": 12,
    "start_time": "2022-03-07T16:08:42.050Z"
   },
   {
    "duration": 20,
    "start_time": "2022-03-07T16:09:06.168Z"
   },
   {
    "duration": 12,
    "start_time": "2022-03-07T16:09:07.168Z"
   },
   {
    "duration": 400,
    "start_time": "2022-03-07T16:09:15.146Z"
   },
   {
    "duration": 28,
    "start_time": "2022-03-07T16:09:27.979Z"
   },
   {
    "duration": 13,
    "start_time": "2022-03-07T16:09:28.953Z"
   },
   {
    "duration": 6,
    "start_time": "2022-03-07T16:10:01.699Z"
   },
   {
    "duration": 3,
    "start_time": "2022-03-07T17:45:24.169Z"
   },
   {
    "duration": 78,
    "start_time": "2022-03-07T17:45:24.175Z"
   },
   {
    "duration": 11,
    "start_time": "2022-03-07T17:45:24.275Z"
   },
   {
    "duration": 5,
    "start_time": "2022-03-07T17:45:24.289Z"
   },
   {
    "duration": 4,
    "start_time": "2022-03-07T17:45:24.297Z"
   },
   {
    "duration": 5,
    "start_time": "2022-03-07T17:45:24.304Z"
   },
   {
    "duration": 19,
    "start_time": "2022-03-07T17:45:24.311Z"
   },
   {
    "duration": 12,
    "start_time": "2022-03-07T17:45:24.374Z"
   },
   {
    "duration": 94,
    "start_time": "2022-03-07T17:45:24.390Z"
   },
   {
    "duration": 10,
    "start_time": "2022-03-07T17:45:24.486Z"
   },
   {
    "duration": 9,
    "start_time": "2022-03-07T17:45:24.498Z"
   },
   {
    "duration": 16,
    "start_time": "2022-03-07T17:45:24.509Z"
   },
   {
    "duration": 45,
    "start_time": "2022-03-07T17:45:24.528Z"
   },
   {
    "duration": 7,
    "start_time": "2022-03-07T17:45:24.576Z"
   },
   {
    "duration": 92,
    "start_time": "2022-03-07T17:45:24.586Z"
   },
   {
    "duration": 32,
    "start_time": "2022-03-07T17:45:24.681Z"
   },
   {
    "duration": 25,
    "start_time": "2022-03-07T17:45:24.716Z"
   },
   {
    "duration": 42,
    "start_time": "2022-03-07T17:45:24.744Z"
   },
   {
    "duration": 6,
    "start_time": "2022-03-07T17:45:24.788Z"
   },
   {
    "duration": 19,
    "start_time": "2022-03-07T17:45:24.796Z"
   },
   {
    "duration": 6,
    "start_time": "2022-03-07T17:45:24.818Z"
   },
   {
    "duration": 53,
    "start_time": "2022-03-07T17:45:24.828Z"
   },
   {
    "duration": 4,
    "start_time": "2022-03-07T17:45:24.887Z"
   },
   {
    "duration": 17,
    "start_time": "2022-03-07T17:45:24.895Z"
   },
   {
    "duration": 14,
    "start_time": "2022-03-07T17:45:24.914Z"
   },
   {
    "duration": 11,
    "start_time": "2022-03-07T17:45:24.930Z"
   },
   {
    "duration": 41,
    "start_time": "2022-03-07T17:45:24.943Z"
   },
   {
    "duration": 22,
    "start_time": "2022-03-07T17:45:24.986Z"
   },
   {
    "duration": 4,
    "start_time": "2022-03-07T17:45:25.011Z"
   },
   {
    "duration": 8,
    "start_time": "2022-03-07T17:45:25.018Z"
   },
   {
    "duration": 71,
    "start_time": "2022-03-07T17:45:25.029Z"
   },
   {
    "duration": 33,
    "start_time": "2022-03-07T17:45:25.103Z"
   },
   {
    "duration": 59,
    "start_time": "2022-03-07T17:45:25.140Z"
   },
   {
    "duration": 10,
    "start_time": "2022-03-07T17:46:13.206Z"
   },
   {
    "duration": 12,
    "start_time": "2022-03-07T17:46:14.307Z"
   },
   {
    "duration": 15,
    "start_time": "2022-03-07T17:46:18.456Z"
   },
   {
    "duration": 87,
    "start_time": "2022-03-07T17:49:08.214Z"
   },
   {
    "duration": 3,
    "start_time": "2022-03-07T17:55:49.622Z"
   },
   {
    "duration": 176,
    "start_time": "2022-03-07T17:56:06.987Z"
   },
   {
    "duration": 4,
    "start_time": "2022-03-07T17:56:17.993Z"
   },
   {
    "duration": 79,
    "start_time": "2022-03-07T17:56:17.999Z"
   },
   {
    "duration": 12,
    "start_time": "2022-03-07T17:56:18.081Z"
   },
   {
    "duration": 6,
    "start_time": "2022-03-07T17:56:18.096Z"
   },
   {
    "duration": 5,
    "start_time": "2022-03-07T17:56:18.105Z"
   },
   {
    "duration": 7,
    "start_time": "2022-03-07T17:56:18.112Z"
   },
   {
    "duration": 64,
    "start_time": "2022-03-07T17:56:18.121Z"
   },
   {
    "duration": 12,
    "start_time": "2022-03-07T17:56:18.187Z"
   },
   {
    "duration": 95,
    "start_time": "2022-03-07T17:56:18.203Z"
   },
   {
    "duration": 10,
    "start_time": "2022-03-07T17:56:18.301Z"
   },
   {
    "duration": 13,
    "start_time": "2022-03-07T17:56:18.313Z"
   },
   {
    "duration": 55,
    "start_time": "2022-03-07T17:56:18.329Z"
   },
   {
    "duration": 8,
    "start_time": "2022-03-07T17:56:18.387Z"
   },
   {
    "duration": 6,
    "start_time": "2022-03-07T17:56:18.398Z"
   },
   {
    "duration": 141,
    "start_time": "2022-03-07T17:56:18.406Z"
   },
   {
    "duration": 76,
    "start_time": "2022-03-07T17:56:18.549Z"
   },
   {
    "duration": 52,
    "start_time": "2022-03-07T17:56:18.627Z"
   },
   {
    "duration": 24,
    "start_time": "2022-03-07T17:56:18.681Z"
   },
   {
    "duration": 25,
    "start_time": "2022-03-07T17:56:18.708Z"
   },
   {
    "duration": 6,
    "start_time": "2022-03-07T17:56:18.735Z"
   },
   {
    "duration": 45,
    "start_time": "2022-03-07T17:56:18.743Z"
   },
   {
    "duration": 25,
    "start_time": "2022-03-07T17:56:18.790Z"
   },
   {
    "duration": 26,
    "start_time": "2022-03-07T17:56:18.818Z"
   },
   {
    "duration": 9,
    "start_time": "2022-03-07T17:56:18.847Z"
   },
   {
    "duration": 29,
    "start_time": "2022-03-07T17:56:18.859Z"
   },
   {
    "duration": 13,
    "start_time": "2022-03-07T17:56:18.890Z"
   },
   {
    "duration": 12,
    "start_time": "2022-03-07T17:56:18.908Z"
   },
   {
    "duration": 12,
    "start_time": "2022-03-07T17:56:18.922Z"
   },
   {
    "duration": 51,
    "start_time": "2022-03-07T17:56:18.936Z"
   },
   {
    "duration": 3,
    "start_time": "2022-03-07T17:56:18.990Z"
   },
   {
    "duration": 10,
    "start_time": "2022-03-07T17:56:18.996Z"
   },
   {
    "duration": 32,
    "start_time": "2022-03-07T17:56:19.008Z"
   },
   {
    "duration": 29,
    "start_time": "2022-03-07T17:56:19.073Z"
   },
   {
    "duration": 28,
    "start_time": "2022-03-07T17:56:19.104Z"
   },
   {
    "duration": 107,
    "start_time": "2022-03-07T17:56:25.192Z"
   },
   {
    "duration": 3,
    "start_time": "2022-03-07T17:56:27.858Z"
   },
   {
    "duration": 170,
    "start_time": "2022-03-07T17:56:28.351Z"
   },
   {
    "duration": 12,
    "start_time": "2022-03-07T17:56:50.265Z"
   },
   {
    "duration": 72,
    "start_time": "2022-03-07T17:56:57.509Z"
   },
   {
    "duration": 10,
    "start_time": "2022-03-07T17:59:27.942Z"
   },
   {
    "duration": 269,
    "start_time": "2022-03-07T17:59:46.324Z"
   },
   {
    "duration": 259,
    "start_time": "2022-03-07T17:59:50.135Z"
   },
   {
    "duration": 283,
    "start_time": "2022-03-07T18:00:02.622Z"
   },
   {
    "duration": 10,
    "start_time": "2022-03-07T18:00:14.502Z"
   },
   {
    "duration": 275,
    "start_time": "2022-03-07T18:02:58.032Z"
   },
   {
    "duration": 8,
    "start_time": "2022-03-07T18:03:11.379Z"
   },
   {
    "duration": 14,
    "start_time": "2022-03-07T18:03:18.682Z"
   },
   {
    "duration": 22,
    "start_time": "2022-03-07T18:03:21.993Z"
   },
   {
    "duration": 12,
    "start_time": "2022-03-07T18:03:22.968Z"
   },
   {
    "duration": 11,
    "start_time": "2022-03-07T18:03:27.948Z"
   },
   {
    "duration": 9,
    "start_time": "2022-03-07T18:03:29.641Z"
   },
   {
    "duration": 10,
    "start_time": "2022-03-07T18:03:30.577Z"
   },
   {
    "duration": 8,
    "start_time": "2022-03-07T18:03:36.412Z"
   },
   {
    "duration": 108,
    "start_time": "2022-03-07T18:03:42.299Z"
   },
   {
    "duration": 111,
    "start_time": "2022-03-07T18:03:59.177Z"
   },
   {
    "duration": 107,
    "start_time": "2022-03-07T18:04:00.057Z"
   },
   {
    "duration": 4,
    "start_time": "2022-03-07T18:04:06.673Z"
   },
   {
    "duration": 68,
    "start_time": "2022-03-07T18:04:07.913Z"
   },
   {
    "duration": 13,
    "start_time": "2022-03-07T18:04:10.112Z"
   },
   {
    "duration": 6,
    "start_time": "2022-03-07T18:04:10.715Z"
   },
   {
    "duration": 5,
    "start_time": "2022-03-07T18:04:17.133Z"
   },
   {
    "duration": 5,
    "start_time": "2022-03-07T18:04:17.641Z"
   },
   {
    "duration": 25,
    "start_time": "2022-03-07T18:04:20.189Z"
   },
   {
    "duration": 17,
    "start_time": "2022-03-07T18:04:21.010Z"
   },
   {
    "duration": 68,
    "start_time": "2022-03-07T18:04:25.276Z"
   },
   {
    "duration": 10,
    "start_time": "2022-03-07T18:04:27.269Z"
   },
   {
    "duration": 10,
    "start_time": "2022-03-07T18:04:28.144Z"
   },
   {
    "duration": 17,
    "start_time": "2022-03-07T18:04:33.130Z"
   },
   {
    "duration": 7,
    "start_time": "2022-03-07T18:04:36.033Z"
   },
   {
    "duration": 4,
    "start_time": "2022-03-07T18:04:36.932Z"
   },
   {
    "duration": 108,
    "start_time": "2022-03-07T18:04:38.212Z"
   },
   {
    "duration": 106,
    "start_time": "2022-03-07T18:04:39.291Z"
   },
   {
    "duration": 4,
    "start_time": "2022-03-07T18:04:47.640Z"
   },
   {
    "duration": 88,
    "start_time": "2022-03-07T18:04:47.647Z"
   },
   {
    "duration": 12,
    "start_time": "2022-03-07T18:04:47.739Z"
   },
   {
    "duration": 25,
    "start_time": "2022-03-07T18:04:47.754Z"
   },
   {
    "duration": 11,
    "start_time": "2022-03-07T18:04:47.782Z"
   },
   {
    "duration": 14,
    "start_time": "2022-03-07T18:04:47.796Z"
   },
   {
    "duration": 35,
    "start_time": "2022-03-07T18:04:47.813Z"
   },
   {
    "duration": 28,
    "start_time": "2022-03-07T18:04:47.851Z"
   },
   {
    "duration": 100,
    "start_time": "2022-03-07T18:04:47.885Z"
   },
   {
    "duration": 9,
    "start_time": "2022-03-07T18:04:47.988Z"
   },
   {
    "duration": 9,
    "start_time": "2022-03-07T18:04:48.000Z"
   },
   {
    "duration": 16,
    "start_time": "2022-03-07T18:04:48.012Z"
   },
   {
    "duration": 6,
    "start_time": "2022-03-07T18:04:48.031Z"
   },
   {
    "duration": 4,
    "start_time": "2022-03-07T18:04:48.072Z"
   },
   {
    "duration": 205,
    "start_time": "2022-03-07T18:04:48.079Z"
   },
   {
    "duration": 133,
    "start_time": "2022-03-07T18:04:48.287Z"
   },
   {
    "duration": 76,
    "start_time": "2022-03-07T18:04:48.423Z"
   },
   {
    "duration": 35,
    "start_time": "2022-03-07T18:04:48.502Z"
   },
   {
    "duration": 51,
    "start_time": "2022-03-07T18:04:48.541Z"
   },
   {
    "duration": 23,
    "start_time": "2022-03-07T18:04:48.595Z"
   },
   {
    "duration": 6,
    "start_time": "2022-03-07T18:04:48.621Z"
   },
   {
    "duration": 46,
    "start_time": "2022-03-07T18:04:48.630Z"
   },
   {
    "duration": 6,
    "start_time": "2022-03-07T18:04:48.679Z"
   },
   {
    "duration": 34,
    "start_time": "2022-03-07T18:04:48.687Z"
   },
   {
    "duration": 14,
    "start_time": "2022-03-07T18:04:48.724Z"
   },
   {
    "duration": 39,
    "start_time": "2022-03-07T18:04:48.741Z"
   },
   {
    "duration": 11,
    "start_time": "2022-03-07T18:04:48.787Z"
   },
   {
    "duration": 19,
    "start_time": "2022-03-07T18:04:48.801Z"
   },
   {
    "duration": 19,
    "start_time": "2022-03-07T18:04:48.823Z"
   },
   {
    "duration": 32,
    "start_time": "2022-03-07T18:04:48.844Z"
   },
   {
    "duration": 8,
    "start_time": "2022-03-07T18:04:48.879Z"
   },
   {
    "duration": 21,
    "start_time": "2022-03-07T18:04:48.889Z"
   },
   {
    "duration": 41,
    "start_time": "2022-03-07T18:04:48.913Z"
   },
   {
    "duration": 44,
    "start_time": "2022-03-07T18:04:48.957Z"
   },
   {
    "duration": 40,
    "start_time": "2022-03-07T18:04:49.004Z"
   },
   {
    "duration": 4,
    "start_time": "2022-03-07T18:04:54.582Z"
   },
   {
    "duration": 101,
    "start_time": "2022-03-07T18:04:54.991Z"
   },
   {
    "duration": 16,
    "start_time": "2022-03-07T18:04:57.903Z"
   },
   {
    "duration": 6,
    "start_time": "2022-03-07T18:04:58.285Z"
   },
   {
    "duration": 5,
    "start_time": "2022-03-07T18:05:01.501Z"
   },
   {
    "duration": 5,
    "start_time": "2022-03-07T18:05:02.230Z"
   },
   {
    "duration": 19,
    "start_time": "2022-03-07T18:05:04.994Z"
   },
   {
    "duration": 13,
    "start_time": "2022-03-07T18:05:06.155Z"
   },
   {
    "duration": 73,
    "start_time": "2022-03-07T18:05:09.925Z"
   },
   {
    "duration": 10,
    "start_time": "2022-03-07T18:05:11.683Z"
   },
   {
    "duration": 10,
    "start_time": "2022-03-07T18:05:12.991Z"
   },
   {
    "duration": 9,
    "start_time": "2022-03-07T18:05:14.902Z"
   },
   {
    "duration": 10,
    "start_time": "2022-03-07T18:05:16.674Z"
   },
   {
    "duration": 11,
    "start_time": "2022-03-07T18:05:17.523Z"
   },
   {
    "duration": 20,
    "start_time": "2022-03-07T18:05:25.521Z"
   },
   {
    "duration": 8,
    "start_time": "2022-03-07T18:05:28.063Z"
   },
   {
    "duration": 3,
    "start_time": "2022-03-07T18:05:29.417Z"
   },
   {
    "duration": 112,
    "start_time": "2022-03-07T18:05:29.762Z"
   },
   {
    "duration": 108,
    "start_time": "2022-03-07T18:05:32.209Z"
   },
   {
    "duration": 108,
    "start_time": "2022-03-07T18:06:10.267Z"
   },
   {
    "duration": 110,
    "start_time": "2022-03-07T18:06:13.758Z"
   },
   {
    "duration": 113,
    "start_time": "2022-03-07T18:06:14.471Z"
   },
   {
    "duration": 3,
    "start_time": "2022-03-07T18:06:22.774Z"
   },
   {
    "duration": 103,
    "start_time": "2022-03-07T18:06:23.182Z"
   },
   {
    "duration": 106,
    "start_time": "2022-03-07T18:06:23.671Z"
   },
   {
    "duration": 3,
    "start_time": "2022-03-07T18:06:27.755Z"
   },
   {
    "duration": 71,
    "start_time": "2022-03-07T18:06:27.762Z"
   },
   {
    "duration": 37,
    "start_time": "2022-03-07T18:06:27.836Z"
   },
   {
    "duration": 5,
    "start_time": "2022-03-07T18:06:27.876Z"
   },
   {
    "duration": 6,
    "start_time": "2022-03-07T18:06:27.884Z"
   },
   {
    "duration": 6,
    "start_time": "2022-03-07T18:06:27.892Z"
   },
   {
    "duration": 21,
    "start_time": "2022-03-07T18:06:27.900Z"
   },
   {
    "duration": 56,
    "start_time": "2022-03-07T18:06:27.924Z"
   },
   {
    "duration": 121,
    "start_time": "2022-03-07T18:06:27.985Z"
   },
   {
    "duration": 12,
    "start_time": "2022-03-07T18:06:28.110Z"
   },
   {
    "duration": 10,
    "start_time": "2022-03-07T18:06:28.125Z"
   },
   {
    "duration": 47,
    "start_time": "2022-03-07T18:06:28.138Z"
   },
   {
    "duration": 8,
    "start_time": "2022-03-07T18:06:28.188Z"
   },
   {
    "duration": 8,
    "start_time": "2022-03-07T18:06:28.199Z"
   },
   {
    "duration": 137,
    "start_time": "2022-03-07T18:06:28.212Z"
   },
   {
    "duration": 132,
    "start_time": "2022-03-07T18:06:28.353Z"
   },
   {
    "duration": 61,
    "start_time": "2022-03-07T18:06:28.488Z"
   },
   {
    "duration": 47,
    "start_time": "2022-03-07T18:06:28.551Z"
   },
   {
    "duration": 24,
    "start_time": "2022-03-07T18:06:28.601Z"
   },
   {
    "duration": 46,
    "start_time": "2022-03-07T18:06:28.627Z"
   },
   {
    "duration": 7,
    "start_time": "2022-03-07T18:06:28.676Z"
   },
   {
    "duration": 19,
    "start_time": "2022-03-07T18:06:28.686Z"
   },
   {
    "duration": 6,
    "start_time": "2022-03-07T18:06:28.708Z"
   },
   {
    "duration": 23,
    "start_time": "2022-03-07T18:06:28.717Z"
   },
   {
    "duration": 35,
    "start_time": "2022-03-07T18:06:28.743Z"
   },
   {
    "duration": 20,
    "start_time": "2022-03-07T18:06:28.781Z"
   },
   {
    "duration": 9,
    "start_time": "2022-03-07T18:06:28.805Z"
   },
   {
    "duration": 12,
    "start_time": "2022-03-07T18:06:28.817Z"
   },
   {
    "duration": 11,
    "start_time": "2022-03-07T18:06:28.831Z"
   },
   {
    "duration": 23,
    "start_time": "2022-03-07T18:06:28.874Z"
   },
   {
    "duration": 13,
    "start_time": "2022-03-07T18:06:28.899Z"
   },
   {
    "duration": 22,
    "start_time": "2022-03-07T18:06:28.914Z"
   },
   {
    "duration": 36,
    "start_time": "2022-03-07T18:06:28.939Z"
   },
   {
    "duration": 28,
    "start_time": "2022-03-07T18:06:28.978Z"
   },
   {
    "duration": 30,
    "start_time": "2022-03-07T18:06:29.008Z"
   },
   {
    "duration": 119,
    "start_time": "2022-03-07T18:06:33.473Z"
   },
   {
    "duration": 110,
    "start_time": "2022-03-07T18:06:34.350Z"
   },
   {
    "duration": 108,
    "start_time": "2022-03-07T18:06:46.040Z"
   },
   {
    "duration": 106,
    "start_time": "2022-03-07T18:06:46.712Z"
   },
   {
    "duration": 107,
    "start_time": "2022-03-07T18:06:50.390Z"
   },
   {
    "duration": 111,
    "start_time": "2022-03-07T18:06:58.415Z"
   },
   {
    "duration": 111,
    "start_time": "2022-03-07T18:07:11.312Z"
   },
   {
    "duration": 168,
    "start_time": "2022-03-07T18:07:27.941Z"
   },
   {
    "duration": 110,
    "start_time": "2022-03-07T18:08:06.531Z"
   },
   {
    "duration": 114,
    "start_time": "2022-03-07T18:08:46.211Z"
   },
   {
    "duration": 114,
    "start_time": "2022-03-07T18:08:46.891Z"
   },
   {
    "duration": 3,
    "start_time": "2022-03-07T18:09:14.633Z"
   },
   {
    "duration": 77,
    "start_time": "2022-03-07T18:09:14.639Z"
   },
   {
    "duration": 12,
    "start_time": "2022-03-07T18:09:14.719Z"
   },
   {
    "duration": 5,
    "start_time": "2022-03-07T18:09:14.734Z"
   },
   {
    "duration": 35,
    "start_time": "2022-03-07T18:09:14.742Z"
   },
   {
    "duration": 16,
    "start_time": "2022-03-07T18:09:14.779Z"
   },
   {
    "duration": 21,
    "start_time": "2022-03-07T18:09:14.797Z"
   },
   {
    "duration": 11,
    "start_time": "2022-03-07T18:09:14.821Z"
   },
   {
    "duration": 93,
    "start_time": "2022-03-07T18:09:14.837Z"
   },
   {
    "duration": 9,
    "start_time": "2022-03-07T18:09:14.934Z"
   },
   {
    "duration": 35,
    "start_time": "2022-03-07T18:09:14.945Z"
   },
   {
    "duration": 17,
    "start_time": "2022-03-07T18:09:14.982Z"
   },
   {
    "duration": 10,
    "start_time": "2022-03-07T18:09:15.003Z"
   },
   {
    "duration": 17,
    "start_time": "2022-03-07T18:09:15.016Z"
   },
   {
    "duration": 152,
    "start_time": "2022-03-07T18:09:15.036Z"
   },
   {
    "duration": 132,
    "start_time": "2022-03-07T18:09:15.191Z"
   },
   {
    "duration": 72,
    "start_time": "2022-03-07T18:09:15.325Z"
   },
   {
    "duration": 32,
    "start_time": "2022-03-07T18:09:15.400Z"
   },
   {
    "duration": 51,
    "start_time": "2022-03-07T18:09:15.434Z"
   },
   {
    "duration": 25,
    "start_time": "2022-03-07T18:09:15.488Z"
   },
   {
    "duration": 5,
    "start_time": "2022-03-07T18:09:15.516Z"
   },
   {
    "duration": 19,
    "start_time": "2022-03-07T18:09:15.524Z"
   },
   {
    "duration": 30,
    "start_time": "2022-03-07T18:09:15.545Z"
   },
   {
    "duration": 20,
    "start_time": "2022-03-07T18:09:15.577Z"
   },
   {
    "duration": 4,
    "start_time": "2022-03-07T18:09:15.600Z"
   },
   {
    "duration": 22,
    "start_time": "2022-03-07T18:09:15.606Z"
   },
   {
    "duration": 6,
    "start_time": "2022-03-07T18:09:15.633Z"
   },
   {
    "duration": 38,
    "start_time": "2022-03-07T18:09:15.642Z"
   },
   {
    "duration": 11,
    "start_time": "2022-03-07T18:09:15.682Z"
   },
   {
    "duration": 21,
    "start_time": "2022-03-07T18:09:15.696Z"
   },
   {
    "duration": 4,
    "start_time": "2022-03-07T18:09:15.719Z"
   },
   {
    "duration": 48,
    "start_time": "2022-03-07T18:09:15.725Z"
   },
   {
    "duration": 31,
    "start_time": "2022-03-07T18:09:15.776Z"
   },
   {
    "duration": 28,
    "start_time": "2022-03-07T18:09:15.810Z"
   },
   {
    "duration": 57,
    "start_time": "2022-03-07T18:09:15.841Z"
   },
   {
    "duration": 137,
    "start_time": "2022-03-07T18:09:36.871Z"
   },
   {
    "duration": 4,
    "start_time": "2022-03-07T18:09:43.252Z"
   },
   {
    "duration": 114,
    "start_time": "2022-03-07T18:09:43.260Z"
   },
   {
    "duration": 14,
    "start_time": "2022-03-07T18:09:43.377Z"
   },
   {
    "duration": 48,
    "start_time": "2022-03-07T18:09:43.394Z"
   },
   {
    "duration": 14,
    "start_time": "2022-03-07T18:09:43.445Z"
   },
   {
    "duration": 21,
    "start_time": "2022-03-07T18:09:43.461Z"
   },
   {
    "duration": 27,
    "start_time": "2022-03-07T18:09:43.485Z"
   },
   {
    "duration": 14,
    "start_time": "2022-03-07T18:09:43.515Z"
   },
   {
    "duration": 96,
    "start_time": "2022-03-07T18:09:43.535Z"
   },
   {
    "duration": 9,
    "start_time": "2022-03-07T18:09:43.635Z"
   },
   {
    "duration": 15,
    "start_time": "2022-03-07T18:09:43.673Z"
   },
   {
    "duration": 24,
    "start_time": "2022-03-07T18:09:43.690Z"
   },
   {
    "duration": 12,
    "start_time": "2022-03-07T18:09:43.717Z"
   },
   {
    "duration": 13,
    "start_time": "2022-03-07T18:09:43.732Z"
   },
   {
    "duration": 168,
    "start_time": "2022-03-07T18:09:43.747Z"
   },
   {
    "duration": 168,
    "start_time": "2022-03-07T18:09:43.918Z"
   },
   {
    "duration": 95,
    "start_time": "2022-03-07T18:09:44.088Z"
   },
   {
    "duration": 42,
    "start_time": "2022-03-07T18:09:44.186Z"
   },
   {
    "duration": 51,
    "start_time": "2022-03-07T18:09:44.231Z"
   },
   {
    "duration": 26,
    "start_time": "2022-03-07T18:09:44.285Z"
   },
   {
    "duration": 6,
    "start_time": "2022-03-07T18:09:44.314Z"
   },
   {
    "duration": 22,
    "start_time": "2022-03-07T18:09:44.323Z"
   },
   {
    "duration": 5,
    "start_time": "2022-03-07T18:09:44.374Z"
   },
   {
    "duration": 27,
    "start_time": "2022-03-07T18:09:44.382Z"
   },
   {
    "duration": 6,
    "start_time": "2022-03-07T18:09:44.412Z"
   },
   {
    "duration": 28,
    "start_time": "2022-03-07T18:09:44.421Z"
   },
   {
    "duration": 7,
    "start_time": "2022-03-07T18:09:44.476Z"
   },
   {
    "duration": 9,
    "start_time": "2022-03-07T18:09:44.485Z"
   },
   {
    "duration": 10,
    "start_time": "2022-03-07T18:09:44.496Z"
   },
   {
    "duration": 20,
    "start_time": "2022-03-07T18:09:44.508Z"
   },
   {
    "duration": 6,
    "start_time": "2022-03-07T18:09:44.531Z"
   },
   {
    "duration": 13,
    "start_time": "2022-03-07T18:09:44.574Z"
   },
   {
    "duration": 30,
    "start_time": "2022-03-07T18:09:44.589Z"
   },
   {
    "duration": 53,
    "start_time": "2022-03-07T18:09:44.621Z"
   },
   {
    "duration": 28,
    "start_time": "2022-03-07T18:09:44.677Z"
   },
   {
    "duration": 118,
    "start_time": "2022-03-07T18:10:26.890Z"
   },
   {
    "duration": 130,
    "start_time": "2022-03-07T18:10:28.476Z"
   },
   {
    "duration": 108,
    "start_time": "2022-03-07T18:11:32.412Z"
   },
   {
    "duration": 7,
    "start_time": "2022-03-07T18:11:33.759Z"
   },
   {
    "duration": 110,
    "start_time": "2022-03-07T18:11:34.923Z"
   },
   {
    "duration": 3,
    "start_time": "2022-03-07T18:11:50.976Z"
   },
   {
    "duration": 99,
    "start_time": "2022-03-07T18:11:50.982Z"
   },
   {
    "duration": 11,
    "start_time": "2022-03-07T18:11:51.084Z"
   },
   {
    "duration": 8,
    "start_time": "2022-03-07T18:11:51.099Z"
   },
   {
    "duration": 11,
    "start_time": "2022-03-07T18:11:51.110Z"
   },
   {
    "duration": 7,
    "start_time": "2022-03-07T18:11:51.123Z"
   },
   {
    "duration": 51,
    "start_time": "2022-03-07T18:11:51.132Z"
   },
   {
    "duration": 11,
    "start_time": "2022-03-07T18:11:51.185Z"
   },
   {
    "duration": 92,
    "start_time": "2022-03-07T18:11:51.200Z"
   },
   {
    "duration": 9,
    "start_time": "2022-03-07T18:11:51.295Z"
   },
   {
    "duration": 9,
    "start_time": "2022-03-07T18:11:51.306Z"
   },
   {
    "duration": 15,
    "start_time": "2022-03-07T18:11:51.317Z"
   },
   {
    "duration": 42,
    "start_time": "2022-03-07T18:11:51.334Z"
   },
   {
    "duration": 133,
    "start_time": "2022-03-07T18:11:51.379Z"
   },
   {
    "duration": 6,
    "start_time": "2022-03-07T18:11:51.514Z"
   },
   {
    "duration": 135,
    "start_time": "2022-03-07T18:11:51.523Z"
   },
   {
    "duration": 76,
    "start_time": "2022-03-07T18:11:51.660Z"
   },
   {
    "duration": 52,
    "start_time": "2022-03-07T18:11:51.738Z"
   },
   {
    "duration": 26,
    "start_time": "2022-03-07T18:11:51.792Z"
   },
   {
    "duration": 27,
    "start_time": "2022-03-07T18:11:51.820Z"
   },
   {
    "duration": 27,
    "start_time": "2022-03-07T18:11:51.849Z"
   },
   {
    "duration": 25,
    "start_time": "2022-03-07T18:11:51.879Z"
   },
   {
    "duration": 9,
    "start_time": "2022-03-07T18:11:51.907Z"
   },
   {
    "duration": 20,
    "start_time": "2022-03-07T18:11:51.918Z"
   },
   {
    "duration": 33,
    "start_time": "2022-03-07T18:11:51.941Z"
   },
   {
    "duration": 16,
    "start_time": "2022-03-07T18:11:51.977Z"
   },
   {
    "duration": 5,
    "start_time": "2022-03-07T18:11:52.000Z"
   },
   {
    "duration": 12,
    "start_time": "2022-03-07T18:11:52.009Z"
   },
   {
    "duration": 58,
    "start_time": "2022-03-07T18:11:52.024Z"
   },
   {
    "duration": 22,
    "start_time": "2022-03-07T18:11:52.085Z"
   },
   {
    "duration": 5,
    "start_time": "2022-03-07T18:11:52.110Z"
   },
   {
    "duration": 11,
    "start_time": "2022-03-07T18:11:52.117Z"
   },
   {
    "duration": 66,
    "start_time": "2022-03-07T18:11:52.131Z"
   },
   {
    "duration": 27,
    "start_time": "2022-03-07T18:11:52.200Z"
   },
   {
    "duration": 54,
    "start_time": "2022-03-07T18:11:52.229Z"
   },
   {
    "duration": 10,
    "start_time": "2022-03-07T18:12:01.961Z"
   },
   {
    "duration": 10,
    "start_time": "2022-03-07T18:12:02.887Z"
   },
   {
    "duration": 106,
    "start_time": "2022-03-07T18:12:11.018Z"
   },
   {
    "duration": 5,
    "start_time": "2022-03-07T18:12:21.228Z"
   },
   {
    "duration": 6,
    "start_time": "2022-03-07T18:12:22.637Z"
   },
   {
    "duration": 117,
    "start_time": "2022-03-07T18:12:23.664Z"
   },
   {
    "duration": 4,
    "start_time": "2022-03-07T18:12:28.540Z"
   },
   {
    "duration": 72,
    "start_time": "2022-03-07T18:12:28.547Z"
   },
   {
    "duration": 11,
    "start_time": "2022-03-07T18:12:28.622Z"
   },
   {
    "duration": 7,
    "start_time": "2022-03-07T18:12:28.635Z"
   },
   {
    "duration": 29,
    "start_time": "2022-03-07T18:12:28.644Z"
   },
   {
    "duration": 10,
    "start_time": "2022-03-07T18:12:28.676Z"
   },
   {
    "duration": 27,
    "start_time": "2022-03-07T18:12:28.689Z"
   },
   {
    "duration": 11,
    "start_time": "2022-03-07T18:12:28.719Z"
   },
   {
    "duration": 98,
    "start_time": "2022-03-07T18:12:28.734Z"
   },
   {
    "duration": 9,
    "start_time": "2022-03-07T18:12:28.836Z"
   },
   {
    "duration": 33,
    "start_time": "2022-03-07T18:12:28.847Z"
   },
   {
    "duration": 19,
    "start_time": "2022-03-07T18:12:28.882Z"
   },
   {
    "duration": 7,
    "start_time": "2022-03-07T18:12:28.903Z"
   },
   {
    "duration": 143,
    "start_time": "2022-03-07T18:12:28.912Z"
   },
   {
    "duration": 15,
    "start_time": "2022-03-07T18:12:29.058Z"
   },
   {
    "duration": 11,
    "start_time": "2022-03-07T18:12:29.076Z"
   },
   {
    "duration": 126,
    "start_time": "2022-03-07T18:12:29.089Z"
   },
   {
    "duration": 76,
    "start_time": "2022-03-07T18:12:29.218Z"
   },
   {
    "duration": 33,
    "start_time": "2022-03-07T18:12:29.297Z"
   },
   {
    "duration": 52,
    "start_time": "2022-03-07T18:12:29.333Z"
   },
   {
    "duration": 28,
    "start_time": "2022-03-07T18:12:29.388Z"
   },
   {
    "duration": 7,
    "start_time": "2022-03-07T18:12:29.419Z"
   },
   {
    "duration": 52,
    "start_time": "2022-03-07T18:12:29.430Z"
   },
   {
    "duration": 5,
    "start_time": "2022-03-07T18:12:29.485Z"
   },
   {
    "duration": 16,
    "start_time": "2022-03-07T18:12:29.493Z"
   },
   {
    "duration": 6,
    "start_time": "2022-03-07T18:12:29.512Z"
   },
   {
    "duration": 14,
    "start_time": "2022-03-07T18:12:29.523Z"
   },
   {
    "duration": 43,
    "start_time": "2022-03-07T18:12:29.540Z"
   },
   {
    "duration": 9,
    "start_time": "2022-03-07T18:12:29.586Z"
   },
   {
    "duration": 11,
    "start_time": "2022-03-07T18:12:29.598Z"
   },
   {
    "duration": 20,
    "start_time": "2022-03-07T18:12:29.612Z"
   },
   {
    "duration": 38,
    "start_time": "2022-03-07T18:12:29.636Z"
   },
   {
    "duration": 21,
    "start_time": "2022-03-07T18:12:29.678Z"
   },
   {
    "duration": 32,
    "start_time": "2022-03-07T18:12:29.701Z"
   },
   {
    "duration": 51,
    "start_time": "2022-03-07T18:12:29.736Z"
   },
   {
    "duration": 28,
    "start_time": "2022-03-07T18:12:29.789Z"
   },
   {
    "duration": 118,
    "start_time": "2022-03-07T18:13:41.106Z"
   },
   {
    "duration": 6,
    "start_time": "2022-03-07T18:13:41.757Z"
   },
   {
    "duration": 7,
    "start_time": "2022-03-07T18:13:42.352Z"
   },
   {
    "duration": 110,
    "start_time": "2022-03-07T18:13:44.507Z"
   },
   {
    "duration": 35,
    "start_time": "2022-03-07T18:14:16.596Z"
   },
   {
    "duration": 4,
    "start_time": "2022-03-07T18:15:29.153Z"
   },
   {
    "duration": 83,
    "start_time": "2022-03-07T18:15:29.160Z"
   },
   {
    "duration": 34,
    "start_time": "2022-03-07T18:15:29.247Z"
   },
   {
    "duration": 20,
    "start_time": "2022-03-07T18:15:29.283Z"
   },
   {
    "duration": 20,
    "start_time": "2022-03-07T18:15:29.306Z"
   },
   {
    "duration": 14,
    "start_time": "2022-03-07T18:15:29.329Z"
   },
   {
    "duration": 29,
    "start_time": "2022-03-07T18:15:29.345Z"
   },
   {
    "duration": 14,
    "start_time": "2022-03-07T18:15:29.376Z"
   },
   {
    "duration": 111,
    "start_time": "2022-03-07T18:15:29.393Z"
   },
   {
    "duration": 8,
    "start_time": "2022-03-07T18:15:29.507Z"
   },
   {
    "duration": 18,
    "start_time": "2022-03-07T18:15:29.518Z"
   },
   {
    "duration": 45,
    "start_time": "2022-03-07T18:15:29.538Z"
   },
   {
    "duration": 10,
    "start_time": "2022-03-07T18:15:29.586Z"
   },
   {
    "duration": 29,
    "start_time": "2022-03-07T18:15:29.598Z"
   },
   {
    "duration": 28,
    "start_time": "2022-03-07T18:15:29.630Z"
   },
   {
    "duration": 15,
    "start_time": "2022-03-07T18:15:29.661Z"
   },
   {
    "duration": 77,
    "start_time": "2022-03-07T18:15:29.678Z"
   },
   {
    "duration": 40,
    "start_time": "2022-03-07T18:15:29.758Z"
   },
   {
    "duration": 26,
    "start_time": "2022-03-07T18:15:29.800Z"
   },
   {
    "duration": 49,
    "start_time": "2022-03-07T18:15:29.829Z"
   },
   {
    "duration": 5,
    "start_time": "2022-03-07T18:15:29.881Z"
   },
   {
    "duration": 36,
    "start_time": "2022-03-07T18:15:29.889Z"
   },
   {
    "duration": 13,
    "start_time": "2022-03-07T18:15:29.928Z"
   },
   {
    "duration": 47,
    "start_time": "2022-03-07T18:15:29.943Z"
   },
   {
    "duration": 26,
    "start_time": "2022-03-07T18:15:29.992Z"
   },
   {
    "duration": 44,
    "start_time": "2022-03-07T18:15:30.021Z"
   },
   {
    "duration": 15,
    "start_time": "2022-03-07T18:15:30.072Z"
   },
   {
    "duration": 33,
    "start_time": "2022-03-07T18:15:30.090Z"
   },
   {
    "duration": 27,
    "start_time": "2022-03-07T18:15:30.125Z"
   },
   {
    "duration": 29,
    "start_time": "2022-03-07T18:15:30.155Z"
   },
   {
    "duration": 29,
    "start_time": "2022-03-07T18:15:30.187Z"
   },
   {
    "duration": 23,
    "start_time": "2022-03-07T18:15:30.219Z"
   },
   {
    "duration": 56,
    "start_time": "2022-03-07T18:15:30.245Z"
   },
   {
    "duration": 30,
    "start_time": "2022-03-07T18:15:30.304Z"
   },
   {
    "duration": 57,
    "start_time": "2022-03-07T18:15:30.337Z"
   },
   {
    "duration": 7,
    "start_time": "2022-03-07T18:16:34.211Z"
   },
   {
    "duration": 26,
    "start_time": "2022-03-07T18:16:36.675Z"
   },
   {
    "duration": 6,
    "start_time": "2022-03-07T18:16:37.857Z"
   },
   {
    "duration": 7,
    "start_time": "2022-03-07T18:16:40.430Z"
   },
   {
    "duration": 26,
    "start_time": "2022-03-07T18:16:40.965Z"
   },
   {
    "duration": 6,
    "start_time": "2022-03-07T18:16:41.856Z"
   },
   {
    "duration": 26,
    "start_time": "2022-03-07T18:17:48.272Z"
   },
   {
    "duration": 7,
    "start_time": "2022-03-07T18:17:48.880Z"
   },
   {
    "duration": 124,
    "start_time": "2022-03-07T18:20:26.695Z"
   },
   {
    "duration": 25,
    "start_time": "2022-03-07T18:20:28.145Z"
   },
   {
    "duration": 111,
    "start_time": "2022-03-07T18:20:28.789Z"
   },
   {
    "duration": 94,
    "start_time": "2022-03-07T18:27:43.857Z"
   },
   {
    "duration": 5,
    "start_time": "2022-03-07T18:27:54.620Z"
   },
   {
    "duration": 114,
    "start_time": "2022-03-07T18:28:03.139Z"
   },
   {
    "duration": 111,
    "start_time": "2022-03-07T18:28:09.264Z"
   },
   {
    "duration": 131,
    "start_time": "2022-03-07T18:28:10.220Z"
   },
   {
    "duration": 3,
    "start_time": "2022-03-07T18:28:17.961Z"
   },
   {
    "duration": 80,
    "start_time": "2022-03-07T18:28:17.968Z"
   },
   {
    "duration": 26,
    "start_time": "2022-03-07T18:28:18.051Z"
   },
   {
    "duration": 5,
    "start_time": "2022-03-07T18:28:18.080Z"
   },
   {
    "duration": 6,
    "start_time": "2022-03-07T18:28:18.088Z"
   },
   {
    "duration": 5,
    "start_time": "2022-03-07T18:28:18.097Z"
   },
   {
    "duration": 20,
    "start_time": "2022-03-07T18:28:18.104Z"
   },
   {
    "duration": 50,
    "start_time": "2022-03-07T18:28:18.127Z"
   },
   {
    "duration": 91,
    "start_time": "2022-03-07T18:28:18.182Z"
   },
   {
    "duration": 10,
    "start_time": "2022-03-07T18:28:18.276Z"
   },
   {
    "duration": 9,
    "start_time": "2022-03-07T18:28:18.288Z"
   },
   {
    "duration": 17,
    "start_time": "2022-03-07T18:28:18.299Z"
   },
   {
    "duration": 9,
    "start_time": "2022-03-07T18:28:18.319Z"
   },
   {
    "duration": 163,
    "start_time": "2022-03-07T18:28:18.330Z"
   },
   {
    "duration": 126,
    "start_time": "2022-03-07T18:28:18.495Z"
   },
   {
    "duration": 73,
    "start_time": "2022-03-07T18:28:18.624Z"
   },
   {
    "duration": 34,
    "start_time": "2022-03-07T18:28:18.699Z"
   },
   {
    "duration": 51,
    "start_time": "2022-03-07T18:28:18.736Z"
   },
   {
    "duration": 24,
    "start_time": "2022-03-07T18:28:18.789Z"
   },
   {
    "duration": 7,
    "start_time": "2022-03-07T18:28:18.816Z"
   },
   {
    "duration": 46,
    "start_time": "2022-03-07T18:28:18.827Z"
   },
   {
    "duration": 5,
    "start_time": "2022-03-07T18:28:18.876Z"
   },
   {
    "duration": 17,
    "start_time": "2022-03-07T18:28:18.884Z"
   },
   {
    "duration": 5,
    "start_time": "2022-03-07T18:28:18.904Z"
   },
   {
    "duration": 27,
    "start_time": "2022-03-07T18:28:18.913Z"
   },
   {
    "duration": 36,
    "start_time": "2022-03-07T18:28:18.943Z"
   },
   {
    "duration": 12,
    "start_time": "2022-03-07T18:28:18.984Z"
   },
   {
    "duration": 13,
    "start_time": "2022-03-07T18:28:18.999Z"
   },
   {
    "duration": 21,
    "start_time": "2022-03-07T18:28:19.015Z"
   },
   {
    "duration": 4,
    "start_time": "2022-03-07T18:28:19.074Z"
   },
   {
    "duration": 10,
    "start_time": "2022-03-07T18:28:19.080Z"
   },
   {
    "duration": 29,
    "start_time": "2022-03-07T18:28:19.093Z"
   },
   {
    "duration": 57,
    "start_time": "2022-03-07T18:28:19.124Z"
   },
   {
    "duration": 29,
    "start_time": "2022-03-07T18:28:19.183Z"
   },
   {
    "duration": 108,
    "start_time": "2022-03-07T18:28:34.116Z"
   },
   {
    "duration": 107,
    "start_time": "2022-03-07T18:28:35.588Z"
   },
   {
    "duration": 3,
    "start_time": "2022-03-07T18:28:39.036Z"
   },
   {
    "duration": 78,
    "start_time": "2022-03-07T18:28:39.042Z"
   },
   {
    "duration": 13,
    "start_time": "2022-03-07T18:28:39.123Z"
   },
   {
    "duration": 13,
    "start_time": "2022-03-07T18:28:39.139Z"
   },
   {
    "duration": 24,
    "start_time": "2022-03-07T18:28:39.155Z"
   },
   {
    "duration": 28,
    "start_time": "2022-03-07T18:28:39.181Z"
   },
   {
    "duration": 28,
    "start_time": "2022-03-07T18:28:39.212Z"
   },
   {
    "duration": 12,
    "start_time": "2022-03-07T18:28:39.243Z"
   },
   {
    "duration": 81,
    "start_time": "2022-03-07T18:28:39.259Z"
   },
   {
    "duration": 30,
    "start_time": "2022-03-07T18:28:39.343Z"
   },
   {
    "duration": 9,
    "start_time": "2022-03-07T18:28:39.376Z"
   },
   {
    "duration": 23,
    "start_time": "2022-03-07T18:28:39.387Z"
   },
   {
    "duration": 11,
    "start_time": "2022-03-07T18:28:39.412Z"
   },
   {
    "duration": 136,
    "start_time": "2022-03-07T18:28:39.425Z"
   },
   {
    "duration": 131,
    "start_time": "2022-03-07T18:28:39.564Z"
   },
   {
    "duration": 75,
    "start_time": "2022-03-07T18:28:39.698Z"
   },
   {
    "duration": 32,
    "start_time": "2022-03-07T18:28:39.776Z"
   },
   {
    "duration": 26,
    "start_time": "2022-03-07T18:28:39.810Z"
   },
   {
    "duration": 49,
    "start_time": "2022-03-07T18:28:39.838Z"
   },
   {
    "duration": 8,
    "start_time": "2022-03-07T18:28:39.889Z"
   },
   {
    "duration": 33,
    "start_time": "2022-03-07T18:28:39.899Z"
   },
   {
    "duration": 12,
    "start_time": "2022-03-07T18:28:39.934Z"
   },
   {
    "duration": 33,
    "start_time": "2022-03-07T18:28:39.949Z"
   },
   {
    "duration": 14,
    "start_time": "2022-03-07T18:28:39.985Z"
   },
   {
    "duration": 25,
    "start_time": "2022-03-07T18:28:40.001Z"
   },
   {
    "duration": 29,
    "start_time": "2022-03-07T18:28:40.029Z"
   },
   {
    "duration": 16,
    "start_time": "2022-03-07T18:28:40.063Z"
   },
   {
    "duration": 27,
    "start_time": "2022-03-07T18:28:40.081Z"
   },
   {
    "duration": 29,
    "start_time": "2022-03-07T18:28:40.110Z"
   },
   {
    "duration": 8,
    "start_time": "2022-03-07T18:28:40.142Z"
   },
   {
    "duration": 29,
    "start_time": "2022-03-07T18:28:40.152Z"
   },
   {
    "duration": 48,
    "start_time": "2022-03-07T18:28:40.184Z"
   },
   {
    "duration": 27,
    "start_time": "2022-03-07T18:28:40.235Z"
   },
   {
    "duration": 38,
    "start_time": "2022-03-07T18:28:40.264Z"
   },
   {
    "duration": 113,
    "start_time": "2022-03-07T18:30:36.086Z"
   },
   {
    "duration": 108,
    "start_time": "2022-03-07T18:32:08.047Z"
   },
   {
    "duration": 107,
    "start_time": "2022-03-07T18:34:13.856Z"
   },
   {
    "duration": 111,
    "start_time": "2022-03-07T18:34:27.727Z"
   },
   {
    "duration": 121,
    "start_time": "2022-03-07T18:34:38.273Z"
   },
   {
    "duration": 113,
    "start_time": "2022-03-07T18:34:43.206Z"
   },
   {
    "duration": 3,
    "start_time": "2022-03-07T18:34:46.550Z"
   },
   {
    "duration": 79,
    "start_time": "2022-03-07T18:34:46.556Z"
   },
   {
    "duration": 35,
    "start_time": "2022-03-07T18:34:46.638Z"
   },
   {
    "duration": 6,
    "start_time": "2022-03-07T18:34:46.677Z"
   },
   {
    "duration": 7,
    "start_time": "2022-03-07T18:34:46.687Z"
   },
   {
    "duration": 7,
    "start_time": "2022-03-07T18:34:46.697Z"
   },
   {
    "duration": 21,
    "start_time": "2022-03-07T18:34:46.707Z"
   },
   {
    "duration": 54,
    "start_time": "2022-03-07T18:34:46.730Z"
   },
   {
    "duration": 100,
    "start_time": "2022-03-07T18:34:46.790Z"
   },
   {
    "duration": 10,
    "start_time": "2022-03-07T18:34:46.894Z"
   },
   {
    "duration": 11,
    "start_time": "2022-03-07T18:34:46.907Z"
   },
   {
    "duration": 59,
    "start_time": "2022-03-07T18:34:46.921Z"
   },
   {
    "duration": 8,
    "start_time": "2022-03-07T18:34:46.983Z"
   },
   {
    "duration": 142,
    "start_time": "2022-03-07T18:34:46.994Z"
   },
   {
    "duration": 136,
    "start_time": "2022-03-07T18:34:47.138Z"
   },
   {
    "duration": 66,
    "start_time": "2022-03-07T18:34:47.276Z"
   },
   {
    "duration": 56,
    "start_time": "2022-03-07T18:34:47.345Z"
   },
   {
    "duration": 27,
    "start_time": "2022-03-07T18:34:47.403Z"
   },
   {
    "duration": 53,
    "start_time": "2022-03-07T18:34:47.433Z"
   },
   {
    "duration": 8,
    "start_time": "2022-03-07T18:34:47.489Z"
   },
   {
    "duration": 23,
    "start_time": "2022-03-07T18:34:47.500Z"
   },
   {
    "duration": 6,
    "start_time": "2022-03-07T18:34:47.526Z"
   },
   {
    "duration": 49,
    "start_time": "2022-03-07T18:34:47.535Z"
   },
   {
    "duration": 8,
    "start_time": "2022-03-07T18:34:47.586Z"
   },
   {
    "duration": 17,
    "start_time": "2022-03-07T18:34:47.597Z"
   },
   {
    "duration": 6,
    "start_time": "2022-03-07T18:34:47.617Z"
   },
   {
    "duration": 9,
    "start_time": "2022-03-07T18:34:47.628Z"
   },
   {
    "duration": 11,
    "start_time": "2022-03-07T18:34:47.673Z"
   },
   {
    "duration": 21,
    "start_time": "2022-03-07T18:34:47.687Z"
   },
   {
    "duration": 4,
    "start_time": "2022-03-07T18:34:47.711Z"
   },
   {
    "duration": 9,
    "start_time": "2022-03-07T18:34:47.718Z"
   },
   {
    "duration": 68,
    "start_time": "2022-03-07T18:34:47.730Z"
   },
   {
    "duration": 27,
    "start_time": "2022-03-07T18:34:47.801Z"
   },
   {
    "duration": 61,
    "start_time": "2022-03-07T18:34:47.831Z"
   },
   {
    "duration": 117,
    "start_time": "2022-03-07T18:35:05.057Z"
   },
   {
    "duration": 131,
    "start_time": "2022-03-07T18:35:14.377Z"
   },
   {
    "duration": 4,
    "start_time": "2022-03-07T18:35:19.593Z"
   },
   {
    "duration": 84,
    "start_time": "2022-03-07T18:35:19.600Z"
   },
   {
    "duration": 12,
    "start_time": "2022-03-07T18:35:19.687Z"
   },
   {
    "duration": 5,
    "start_time": "2022-03-07T18:35:19.702Z"
   },
   {
    "duration": 13,
    "start_time": "2022-03-07T18:35:19.709Z"
   },
   {
    "duration": 7,
    "start_time": "2022-03-07T18:35:19.725Z"
   },
   {
    "duration": 56,
    "start_time": "2022-03-07T18:35:19.734Z"
   },
   {
    "duration": 12,
    "start_time": "2022-03-07T18:35:19.792Z"
   },
   {
    "duration": 105,
    "start_time": "2022-03-07T18:35:19.809Z"
   },
   {
    "duration": 8,
    "start_time": "2022-03-07T18:35:19.918Z"
   },
   {
    "duration": 10,
    "start_time": "2022-03-07T18:35:19.929Z"
   },
   {
    "duration": 45,
    "start_time": "2022-03-07T18:35:19.941Z"
   },
   {
    "duration": 7,
    "start_time": "2022-03-07T18:35:19.988Z"
   },
   {
    "duration": 140,
    "start_time": "2022-03-07T18:35:19.998Z"
   },
   {
    "duration": 119,
    "start_time": "2022-03-07T18:35:20.140Z"
   },
   {
    "duration": 70,
    "start_time": "2022-03-07T18:35:20.274Z"
   },
   {
    "duration": 50,
    "start_time": "2022-03-07T18:35:20.346Z"
   },
   {
    "duration": 27,
    "start_time": "2022-03-07T18:35:20.398Z"
   },
   {
    "duration": 50,
    "start_time": "2022-03-07T18:35:20.427Z"
   },
   {
    "duration": 7,
    "start_time": "2022-03-07T18:35:20.480Z"
   },
   {
    "duration": 28,
    "start_time": "2022-03-07T18:35:20.489Z"
   },
   {
    "duration": 14,
    "start_time": "2022-03-07T18:35:20.520Z"
   },
   {
    "duration": 20,
    "start_time": "2022-03-07T18:35:20.537Z"
   },
   {
    "duration": 5,
    "start_time": "2022-03-07T18:35:20.574Z"
   },
   {
    "duration": 20,
    "start_time": "2022-03-07T18:35:20.581Z"
   },
   {
    "duration": 9,
    "start_time": "2022-03-07T18:35:20.603Z"
   },
   {
    "duration": 9,
    "start_time": "2022-03-07T18:35:20.617Z"
   },
   {
    "duration": 44,
    "start_time": "2022-03-07T18:35:20.629Z"
   },
   {
    "duration": 20,
    "start_time": "2022-03-07T18:35:20.676Z"
   },
   {
    "duration": 5,
    "start_time": "2022-03-07T18:35:20.699Z"
   },
   {
    "duration": 10,
    "start_time": "2022-03-07T18:35:20.707Z"
   },
   {
    "duration": 60,
    "start_time": "2022-03-07T18:35:20.719Z"
   },
   {
    "duration": 28,
    "start_time": "2022-03-07T18:35:20.781Z"
   },
   {
    "duration": 31,
    "start_time": "2022-03-07T18:35:20.811Z"
   },
   {
    "duration": 11,
    "start_time": "2022-03-07T18:37:54.899Z"
   },
   {
    "duration": 3,
    "start_time": "2022-03-07T18:38:10.344Z"
   },
   {
    "duration": 74,
    "start_time": "2022-03-07T18:38:10.350Z"
   },
   {
    "duration": 10,
    "start_time": "2022-03-07T18:38:10.427Z"
   },
   {
    "duration": 33,
    "start_time": "2022-03-07T18:38:10.440Z"
   },
   {
    "duration": 5,
    "start_time": "2022-03-07T18:38:10.475Z"
   },
   {
    "duration": 6,
    "start_time": "2022-03-07T18:38:10.483Z"
   },
   {
    "duration": 22,
    "start_time": "2022-03-07T18:38:10.492Z"
   },
   {
    "duration": 11,
    "start_time": "2022-03-07T18:38:10.517Z"
   },
   {
    "duration": 108,
    "start_time": "2022-03-07T18:38:10.533Z"
   },
   {
    "duration": 35,
    "start_time": "2022-03-07T18:38:10.645Z"
   },
   {
    "duration": 9,
    "start_time": "2022-03-07T18:38:10.683Z"
   },
   {
    "duration": 16,
    "start_time": "2022-03-07T18:38:10.695Z"
   },
   {
    "duration": 7,
    "start_time": "2022-03-07T18:38:10.714Z"
   },
   {
    "duration": 52,
    "start_time": "2022-03-07T18:38:10.723Z"
   },
   {
    "duration": 18,
    "start_time": "2022-03-07T18:38:10.778Z"
   },
   {
    "duration": 128,
    "start_time": "2022-03-07T18:38:10.799Z"
   },
   {
    "duration": 61,
    "start_time": "2022-03-07T18:38:10.930Z"
   },
   {
    "duration": 27,
    "start_time": "2022-03-07T18:38:10.994Z"
   },
   {
    "duration": 24,
    "start_time": "2022-03-07T18:38:11.023Z"
   },
   {
    "duration": 27,
    "start_time": "2022-03-07T18:38:11.049Z"
   },
   {
    "duration": 22,
    "start_time": "2022-03-07T18:38:11.079Z"
   },
   {
    "duration": 6,
    "start_time": "2022-03-07T18:38:11.104Z"
   },
   {
    "duration": 19,
    "start_time": "2022-03-07T18:38:11.113Z"
   },
   {
    "duration": 42,
    "start_time": "2022-03-07T18:38:11.135Z"
   },
   {
    "duration": 20,
    "start_time": "2022-03-07T18:38:11.179Z"
   },
   {
    "duration": 10,
    "start_time": "2022-03-07T18:38:11.201Z"
   },
   {
    "duration": 9,
    "start_time": "2022-03-07T18:38:11.216Z"
   },
   {
    "duration": 45,
    "start_time": "2022-03-07T18:38:11.228Z"
   },
   {
    "duration": 20,
    "start_time": "2022-03-07T18:38:11.276Z"
   },
   {
    "duration": 6,
    "start_time": "2022-03-07T18:38:11.299Z"
   },
   {
    "duration": 13,
    "start_time": "2022-03-07T18:38:11.307Z"
   },
   {
    "duration": 67,
    "start_time": "2022-03-07T18:38:11.323Z"
   },
   {
    "duration": 30,
    "start_time": "2022-03-07T18:38:11.393Z"
   },
   {
    "duration": 54,
    "start_time": "2022-03-07T18:38:11.426Z"
   },
   {
    "duration": 3,
    "start_time": "2022-03-07T18:39:47.021Z"
   },
   {
    "duration": 84,
    "start_time": "2022-03-07T18:39:47.027Z"
   },
   {
    "duration": 11,
    "start_time": "2022-03-07T18:39:47.114Z"
   },
   {
    "duration": 8,
    "start_time": "2022-03-07T18:39:47.128Z"
   },
   {
    "duration": 4,
    "start_time": "2022-03-07T18:39:47.139Z"
   },
   {
    "duration": 28,
    "start_time": "2022-03-07T18:39:47.146Z"
   },
   {
    "duration": 25,
    "start_time": "2022-03-07T18:39:47.177Z"
   },
   {
    "duration": 13,
    "start_time": "2022-03-07T18:39:47.204Z"
   },
   {
    "duration": 115,
    "start_time": "2022-03-07T18:39:47.222Z"
   },
   {
    "duration": 9,
    "start_time": "2022-03-07T18:39:47.340Z"
   },
   {
    "duration": 30,
    "start_time": "2022-03-07T18:39:47.351Z"
   },
   {
    "duration": 19,
    "start_time": "2022-03-07T18:39:47.383Z"
   },
   {
    "duration": 8,
    "start_time": "2022-03-07T18:39:47.405Z"
   },
   {
    "duration": 138,
    "start_time": "2022-03-07T18:39:47.416Z"
   },
   {
    "duration": 124,
    "start_time": "2022-03-07T18:39:47.557Z"
   },
   {
    "duration": 65,
    "start_time": "2022-03-07T18:39:47.684Z"
   },
   {
    "duration": 56,
    "start_time": "2022-03-07T18:39:47.752Z"
   },
   {
    "duration": 63,
    "start_time": "2022-03-07T18:39:47.811Z"
   },
   {
    "duration": 26,
    "start_time": "2022-03-07T18:39:47.877Z"
   },
   {
    "duration": 8,
    "start_time": "2022-03-07T18:39:47.905Z"
   },
   {
    "duration": 21,
    "start_time": "2022-03-07T18:39:47.916Z"
   },
   {
    "duration": 5,
    "start_time": "2022-03-07T18:39:47.973Z"
   },
   {
    "duration": 18,
    "start_time": "2022-03-07T18:39:47.980Z"
   },
   {
    "duration": 8,
    "start_time": "2022-03-07T18:39:48.002Z"
   },
   {
    "duration": 21,
    "start_time": "2022-03-07T18:39:48.013Z"
   },
   {
    "duration": 9,
    "start_time": "2022-03-07T18:39:48.036Z"
   },
   {
    "duration": 10,
    "start_time": "2022-03-07T18:39:48.072Z"
   },
   {
    "duration": 12,
    "start_time": "2022-03-07T18:39:48.085Z"
   },
   {
    "duration": 23,
    "start_time": "2022-03-07T18:39:48.100Z"
   },
   {
    "duration": 6,
    "start_time": "2022-03-07T18:39:48.126Z"
   },
   {
    "duration": 8,
    "start_time": "2022-03-07T18:39:48.174Z"
   },
   {
    "duration": 30,
    "start_time": "2022-03-07T18:39:48.185Z"
   },
   {
    "duration": 62,
    "start_time": "2022-03-07T18:39:48.218Z"
   },
   {
    "duration": 29,
    "start_time": "2022-03-07T18:39:48.282Z"
   },
   {
    "duration": 4,
    "start_time": "2022-03-07T18:41:20.093Z"
   },
   {
    "duration": 86,
    "start_time": "2022-03-07T18:41:20.100Z"
   },
   {
    "duration": 12,
    "start_time": "2022-03-07T18:41:20.189Z"
   },
   {
    "duration": 5,
    "start_time": "2022-03-07T18:41:20.204Z"
   },
   {
    "duration": 7,
    "start_time": "2022-03-07T18:41:20.211Z"
   },
   {
    "duration": 7,
    "start_time": "2022-03-07T18:41:20.220Z"
   },
   {
    "duration": 58,
    "start_time": "2022-03-07T18:41:20.230Z"
   },
   {
    "duration": 12,
    "start_time": "2022-03-07T18:41:20.291Z"
   },
   {
    "duration": 106,
    "start_time": "2022-03-07T18:41:20.307Z"
   },
   {
    "duration": 9,
    "start_time": "2022-03-07T18:41:20.416Z"
   },
   {
    "duration": 10,
    "start_time": "2022-03-07T18:41:20.428Z"
   },
   {
    "duration": 16,
    "start_time": "2022-03-07T18:41:20.473Z"
   },
   {
    "duration": 7,
    "start_time": "2022-03-07T18:41:20.491Z"
   },
   {
    "duration": 18,
    "start_time": "2022-03-07T18:41:20.501Z"
   },
   {
    "duration": 14,
    "start_time": "2022-03-07T18:41:20.521Z"
   },
   {
    "duration": 67,
    "start_time": "2022-03-07T18:41:20.573Z"
   },
   {
    "duration": 49,
    "start_time": "2022-03-07T18:41:20.642Z"
   },
   {
    "duration": 27,
    "start_time": "2022-03-07T18:41:20.694Z"
   },
   {
    "duration": 50,
    "start_time": "2022-03-07T18:41:20.723Z"
   },
   {
    "duration": 7,
    "start_time": "2022-03-07T18:41:20.776Z"
   },
   {
    "duration": 24,
    "start_time": "2022-03-07T18:41:20.785Z"
   },
   {
    "duration": 4,
    "start_time": "2022-03-07T18:41:20.812Z"
   },
   {
    "duration": 18,
    "start_time": "2022-03-07T18:41:20.819Z"
   },
   {
    "duration": 38,
    "start_time": "2022-03-07T18:41:20.839Z"
   },
   {
    "duration": 24,
    "start_time": "2022-03-07T18:41:20.879Z"
   },
   {
    "duration": 13,
    "start_time": "2022-03-07T18:41:20.906Z"
   },
   {
    "duration": 10,
    "start_time": "2022-03-07T18:41:20.923Z"
   },
   {
    "duration": 16,
    "start_time": "2022-03-07T18:41:20.935Z"
   },
   {
    "duration": 21,
    "start_time": "2022-03-07T18:41:20.972Z"
   },
   {
    "duration": 4,
    "start_time": "2022-03-07T18:41:20.996Z"
   },
   {
    "duration": 10,
    "start_time": "2022-03-07T18:41:21.002Z"
   },
   {
    "duration": 28,
    "start_time": "2022-03-07T18:41:21.015Z"
   },
   {
    "duration": 29,
    "start_time": "2022-03-07T18:41:21.074Z"
   },
   {
    "duration": 31,
    "start_time": "2022-03-07T18:41:21.106Z"
   },
   {
    "duration": 92,
    "start_time": "2022-03-07T18:42:32.034Z"
   },
   {
    "duration": 16,
    "start_time": "2022-03-07T18:42:42.156Z"
   },
   {
    "duration": 4,
    "start_time": "2022-03-07T18:42:47.578Z"
   },
   {
    "duration": 101,
    "start_time": "2022-03-07T18:42:47.585Z"
   },
   {
    "duration": 13,
    "start_time": "2022-03-07T18:42:47.690Z"
   },
   {
    "duration": 10,
    "start_time": "2022-03-07T18:42:47.706Z"
   },
   {
    "duration": 9,
    "start_time": "2022-03-07T18:42:47.718Z"
   },
   {
    "duration": 10,
    "start_time": "2022-03-07T18:42:47.730Z"
   },
   {
    "duration": 49,
    "start_time": "2022-03-07T18:42:47.743Z"
   },
   {
    "duration": 12,
    "start_time": "2022-03-07T18:42:47.795Z"
   },
   {
    "duration": 108,
    "start_time": "2022-03-07T18:42:47.810Z"
   },
   {
    "duration": 9,
    "start_time": "2022-03-07T18:42:47.922Z"
   },
   {
    "duration": 41,
    "start_time": "2022-03-07T18:42:47.934Z"
   },
   {
    "duration": 19,
    "start_time": "2022-03-07T18:42:47.978Z"
   },
   {
    "duration": 8,
    "start_time": "2022-03-07T18:42:47.999Z"
   },
   {
    "duration": 21,
    "start_time": "2022-03-07T18:42:48.009Z"
   },
   {
    "duration": 46,
    "start_time": "2022-03-07T18:42:48.033Z"
   },
   {
    "duration": 98,
    "start_time": "2022-03-07T18:42:48.082Z"
   },
   {
    "duration": 34,
    "start_time": "2022-03-07T18:42:48.182Z"
   },
   {
    "duration": 28,
    "start_time": "2022-03-07T18:42:48.218Z"
   },
   {
    "duration": 45,
    "start_time": "2022-03-07T18:42:48.248Z"
   },
   {
    "duration": 7,
    "start_time": "2022-03-07T18:42:48.295Z"
   },
   {
    "duration": 22,
    "start_time": "2022-03-07T18:42:48.305Z"
   },
   {
    "duration": 4,
    "start_time": "2022-03-07T18:42:48.330Z"
   },
   {
    "duration": 47,
    "start_time": "2022-03-07T18:42:48.337Z"
   },
   {
    "duration": 11,
    "start_time": "2022-03-07T18:42:48.387Z"
   },
   {
    "duration": 24,
    "start_time": "2022-03-07T18:42:48.400Z"
   },
   {
    "duration": 5,
    "start_time": "2022-03-07T18:42:48.427Z"
   },
   {
    "duration": 35,
    "start_time": "2022-03-07T18:42:48.438Z"
   },
   {
    "duration": 11,
    "start_time": "2022-03-07T18:42:48.476Z"
   },
   {
    "duration": 21,
    "start_time": "2022-03-07T18:42:48.490Z"
   },
   {
    "duration": 6,
    "start_time": "2022-03-07T18:42:48.514Z"
   },
   {
    "duration": 15,
    "start_time": "2022-03-07T18:42:48.522Z"
   },
   {
    "duration": 54,
    "start_time": "2022-03-07T18:42:48.539Z"
   },
   {
    "duration": 28,
    "start_time": "2022-03-07T18:42:48.595Z"
   },
   {
    "duration": 58,
    "start_time": "2022-03-07T18:42:48.626Z"
   },
   {
    "duration": 4,
    "start_time": "2022-03-07T18:43:28.391Z"
   },
   {
    "duration": 84,
    "start_time": "2022-03-07T18:43:28.398Z"
   },
   {
    "duration": 11,
    "start_time": "2022-03-07T18:43:28.485Z"
   },
   {
    "duration": 9,
    "start_time": "2022-03-07T18:43:28.499Z"
   },
   {
    "duration": 7,
    "start_time": "2022-03-07T18:43:28.510Z"
   },
   {
    "duration": 17,
    "start_time": "2022-03-07T18:43:28.519Z"
   },
   {
    "duration": 44,
    "start_time": "2022-03-07T18:43:28.539Z"
   },
   {
    "duration": 13,
    "start_time": "2022-03-07T18:43:28.587Z"
   },
   {
    "duration": 94,
    "start_time": "2022-03-07T18:43:28.603Z"
   },
   {
    "duration": 9,
    "start_time": "2022-03-07T18:43:28.700Z"
   },
   {
    "duration": 10,
    "start_time": "2022-03-07T18:43:28.711Z"
   },
   {
    "duration": 54,
    "start_time": "2022-03-07T18:43:28.723Z"
   },
   {
    "duration": 7,
    "start_time": "2022-03-07T18:43:28.779Z"
   },
   {
    "duration": 17,
    "start_time": "2022-03-07T18:43:28.789Z"
   },
   {
    "duration": 18,
    "start_time": "2022-03-07T18:43:28.809Z"
   },
   {
    "duration": 94,
    "start_time": "2022-03-07T18:43:28.829Z"
   },
   {
    "duration": 33,
    "start_time": "2022-03-07T18:43:28.925Z"
   },
   {
    "duration": 26,
    "start_time": "2022-03-07T18:43:28.975Z"
   },
   {
    "duration": 25,
    "start_time": "2022-03-07T18:43:29.004Z"
   },
   {
    "duration": 8,
    "start_time": "2022-03-07T18:43:29.031Z"
   },
   {
    "duration": 48,
    "start_time": "2022-03-07T18:43:29.041Z"
   },
   {
    "duration": 7,
    "start_time": "2022-03-07T18:43:29.091Z"
   },
   {
    "duration": 18,
    "start_time": "2022-03-07T18:43:29.103Z"
   },
   {
    "duration": 5,
    "start_time": "2022-03-07T18:43:29.123Z"
   },
   {
    "duration": 49,
    "start_time": "2022-03-07T18:43:29.130Z"
   },
   {
    "duration": 8,
    "start_time": "2022-03-07T18:43:29.182Z"
   },
   {
    "duration": 10,
    "start_time": "2022-03-07T18:43:29.193Z"
   },
   {
    "duration": 11,
    "start_time": "2022-03-07T18:43:29.206Z"
   },
   {
    "duration": 56,
    "start_time": "2022-03-07T18:43:29.219Z"
   },
   {
    "duration": 4,
    "start_time": "2022-03-07T18:43:29.278Z"
   },
   {
    "duration": 11,
    "start_time": "2022-03-07T18:43:29.284Z"
   },
   {
    "duration": 32,
    "start_time": "2022-03-07T18:43:29.298Z"
   },
   {
    "duration": 53,
    "start_time": "2022-03-07T18:43:29.332Z"
   },
   {
    "duration": 30,
    "start_time": "2022-03-07T18:43:29.388Z"
   },
   {
    "duration": 4,
    "start_time": "2022-03-07T18:44:20.571Z"
   },
   {
    "duration": 73,
    "start_time": "2022-03-07T18:44:20.577Z"
   },
   {
    "duration": 12,
    "start_time": "2022-03-07T18:44:20.675Z"
   },
   {
    "duration": 11,
    "start_time": "2022-03-07T18:44:20.690Z"
   },
   {
    "duration": 9,
    "start_time": "2022-03-07T18:44:20.704Z"
   },
   {
    "duration": 6,
    "start_time": "2022-03-07T18:44:20.716Z"
   },
   {
    "duration": 51,
    "start_time": "2022-03-07T18:44:20.724Z"
   },
   {
    "duration": 12,
    "start_time": "2022-03-07T18:44:20.778Z"
   },
   {
    "duration": 92,
    "start_time": "2022-03-07T18:44:20.794Z"
   },
   {
    "duration": 9,
    "start_time": "2022-03-07T18:44:20.889Z"
   },
   {
    "duration": 10,
    "start_time": "2022-03-07T18:44:20.900Z"
   },
   {
    "duration": 16,
    "start_time": "2022-03-07T18:44:20.912Z"
   },
   {
    "duration": 43,
    "start_time": "2022-03-07T18:44:20.931Z"
   },
   {
    "duration": 16,
    "start_time": "2022-03-07T18:44:20.976Z"
   },
   {
    "duration": 16,
    "start_time": "2022-03-07T18:44:20.994Z"
   },
   {
    "duration": 92,
    "start_time": "2022-03-07T18:44:21.013Z"
   },
   {
    "duration": 34,
    "start_time": "2022-03-07T18:44:21.107Z"
   },
   {
    "duration": 45,
    "start_time": "2022-03-07T18:44:21.143Z"
   },
   {
    "duration": 26,
    "start_time": "2022-03-07T18:44:21.191Z"
   },
   {
    "duration": 7,
    "start_time": "2022-03-07T18:44:21.219Z"
   },
   {
    "duration": 53,
    "start_time": "2022-03-07T18:44:21.229Z"
   },
   {
    "duration": 5,
    "start_time": "2022-03-07T18:44:21.285Z"
   },
   {
    "duration": 16,
    "start_time": "2022-03-07T18:44:21.292Z"
   },
   {
    "duration": 6,
    "start_time": "2022-03-07T18:44:21.310Z"
   },
   {
    "duration": 15,
    "start_time": "2022-03-07T18:44:21.319Z"
   },
   {
    "duration": 37,
    "start_time": "2022-03-07T18:44:21.337Z"
   },
   {
    "duration": 10,
    "start_time": "2022-03-07T18:44:21.379Z"
   },
   {
    "duration": 14,
    "start_time": "2022-03-07T18:44:21.392Z"
   },
   {
    "duration": 20,
    "start_time": "2022-03-07T18:44:21.409Z"
   },
   {
    "duration": 4,
    "start_time": "2022-03-07T18:44:21.431Z"
   },
   {
    "duration": 8,
    "start_time": "2022-03-07T18:44:21.474Z"
   },
   {
    "duration": 31,
    "start_time": "2022-03-07T18:44:21.484Z"
   },
   {
    "duration": 62,
    "start_time": "2022-03-07T18:44:21.517Z"
   },
   {
    "duration": 32,
    "start_time": "2022-03-07T18:44:21.581Z"
   },
   {
    "duration": 4,
    "start_time": "2022-03-07T18:45:12.160Z"
   },
   {
    "duration": 106,
    "start_time": "2022-03-07T18:45:12.167Z"
   },
   {
    "duration": 15,
    "start_time": "2022-03-07T18:45:12.277Z"
   },
   {
    "duration": 6,
    "start_time": "2022-03-07T18:45:12.295Z"
   },
   {
    "duration": 6,
    "start_time": "2022-03-07T18:45:12.304Z"
   },
   {
    "duration": 7,
    "start_time": "2022-03-07T18:45:12.313Z"
   },
   {
    "duration": 65,
    "start_time": "2022-03-07T18:45:12.322Z"
   },
   {
    "duration": 13,
    "start_time": "2022-03-07T18:45:12.389Z"
   },
   {
    "duration": 100,
    "start_time": "2022-03-07T18:45:12.406Z"
   },
   {
    "duration": 10,
    "start_time": "2022-03-07T18:45:12.509Z"
   },
   {
    "duration": 11,
    "start_time": "2022-03-07T18:45:12.521Z"
   },
   {
    "duration": 52,
    "start_time": "2022-03-07T18:45:12.535Z"
   },
   {
    "duration": 9,
    "start_time": "2022-03-07T18:45:12.590Z"
   },
   {
    "duration": 287,
    "start_time": "2022-03-07T18:45:12.602Z"
   },
   {
    "duration": 207,
    "start_time": "2022-03-07T18:45:12.687Z"
   },
   {
    "duration": 207,
    "start_time": "2022-03-07T18:45:12.689Z"
   },
   {
    "duration": 205,
    "start_time": "2022-03-07T18:45:12.693Z"
   },
   {
    "duration": 205,
    "start_time": "2022-03-07T18:45:12.695Z"
   },
   {
    "duration": 206,
    "start_time": "2022-03-07T18:45:12.696Z"
   },
   {
    "duration": 206,
    "start_time": "2022-03-07T18:45:12.698Z"
   },
   {
    "duration": 204,
    "start_time": "2022-03-07T18:45:12.702Z"
   },
   {
    "duration": 201,
    "start_time": "2022-03-07T18:45:12.708Z"
   },
   {
    "duration": 201,
    "start_time": "2022-03-07T18:45:12.710Z"
   },
   {
    "duration": 200,
    "start_time": "2022-03-07T18:45:12.713Z"
   },
   {
    "duration": 201,
    "start_time": "2022-03-07T18:45:12.714Z"
   },
   {
    "duration": 201,
    "start_time": "2022-03-07T18:45:12.716Z"
   },
   {
    "duration": 162,
    "start_time": "2022-03-07T18:45:12.757Z"
   },
   {
    "duration": 162,
    "start_time": "2022-03-07T18:45:12.759Z"
   },
   {
    "duration": 161,
    "start_time": "2022-03-07T18:45:12.763Z"
   },
   {
    "duration": 160,
    "start_time": "2022-03-07T18:45:12.766Z"
   },
   {
    "duration": 159,
    "start_time": "2022-03-07T18:45:12.769Z"
   },
   {
    "duration": 206,
    "start_time": "2022-03-07T18:45:12.771Z"
   },
   {
    "duration": 206,
    "start_time": "2022-03-07T18:45:12.774Z"
   },
   {
    "duration": 206,
    "start_time": "2022-03-07T18:45:12.776Z"
   },
   {
    "duration": 3,
    "start_time": "2022-03-07T18:46:10.106Z"
   },
   {
    "duration": 91,
    "start_time": "2022-03-07T18:46:10.112Z"
   },
   {
    "duration": 12,
    "start_time": "2022-03-07T18:46:10.206Z"
   },
   {
    "duration": 31,
    "start_time": "2022-03-07T18:46:10.221Z"
   },
   {
    "duration": 30,
    "start_time": "2022-03-07T18:46:10.254Z"
   },
   {
    "duration": 16,
    "start_time": "2022-03-07T18:46:10.286Z"
   },
   {
    "duration": 42,
    "start_time": "2022-03-07T18:46:10.305Z"
   },
   {
    "duration": 11,
    "start_time": "2022-03-07T18:46:10.351Z"
   },
   {
    "duration": 84,
    "start_time": "2022-03-07T18:46:10.366Z"
   },
   {
    "duration": 21,
    "start_time": "2022-03-07T18:46:10.452Z"
   },
   {
    "duration": 15,
    "start_time": "2022-03-07T18:46:10.476Z"
   },
   {
    "duration": 40,
    "start_time": "2022-03-07T18:46:10.494Z"
   },
   {
    "duration": 22,
    "start_time": "2022-03-07T18:46:10.537Z"
   },
   {
    "duration": 21,
    "start_time": "2022-03-07T18:46:10.561Z"
   },
   {
    "duration": 20,
    "start_time": "2022-03-07T18:46:10.585Z"
   },
   {
    "duration": 81,
    "start_time": "2022-03-07T18:46:10.608Z"
   },
   {
    "duration": 37,
    "start_time": "2022-03-07T18:46:10.691Z"
   },
   {
    "duration": 52,
    "start_time": "2022-03-07T18:46:10.731Z"
   },
   {
    "duration": 29,
    "start_time": "2022-03-07T18:46:10.785Z"
   },
   {
    "duration": 7,
    "start_time": "2022-03-07T18:46:10.817Z"
   },
   {
    "duration": 49,
    "start_time": "2022-03-07T18:46:10.827Z"
   },
   {
    "duration": 6,
    "start_time": "2022-03-07T18:46:10.879Z"
   },
   {
    "duration": 19,
    "start_time": "2022-03-07T18:46:10.892Z"
   },
   {
    "duration": 28,
    "start_time": "2022-03-07T18:46:10.913Z"
   },
   {
    "duration": 46,
    "start_time": "2022-03-07T18:46:10.944Z"
   },
   {
    "duration": 22,
    "start_time": "2022-03-07T18:46:10.992Z"
   },
   {
    "duration": 18,
    "start_time": "2022-03-07T18:46:11.017Z"
   },
   {
    "duration": 25,
    "start_time": "2022-03-07T18:46:11.037Z"
   },
   {
    "duration": 23,
    "start_time": "2022-03-07T18:46:11.065Z"
   },
   {
    "duration": 23,
    "start_time": "2022-03-07T18:46:11.092Z"
   },
   {
    "duration": 23,
    "start_time": "2022-03-07T18:46:11.117Z"
   },
   {
    "duration": 47,
    "start_time": "2022-03-07T18:46:11.142Z"
   },
   {
    "duration": 28,
    "start_time": "2022-03-07T18:46:11.192Z"
   },
   {
    "duration": 51,
    "start_time": "2022-03-07T18:46:11.223Z"
   },
   {
    "duration": 3,
    "start_time": "2022-03-07T18:47:09.059Z"
   },
   {
    "duration": 78,
    "start_time": "2022-03-07T18:47:09.066Z"
   },
   {
    "duration": 30,
    "start_time": "2022-03-07T18:47:09.147Z"
   },
   {
    "duration": 5,
    "start_time": "2022-03-07T18:47:09.180Z"
   },
   {
    "duration": 5,
    "start_time": "2022-03-07T18:47:09.188Z"
   },
   {
    "duration": 6,
    "start_time": "2022-03-07T18:47:09.195Z"
   },
   {
    "duration": 26,
    "start_time": "2022-03-07T18:47:09.203Z"
   },
   {
    "duration": 49,
    "start_time": "2022-03-07T18:47:09.231Z"
   },
   {
    "duration": 96,
    "start_time": "2022-03-07T18:47:09.284Z"
   },
   {
    "duration": 10,
    "start_time": "2022-03-07T18:47:09.383Z"
   },
   {
    "duration": 9,
    "start_time": "2022-03-07T18:47:09.396Z"
   },
   {
    "duration": 19,
    "start_time": "2022-03-07T18:47:09.408Z"
   },
   {
    "duration": 49,
    "start_time": "2022-03-07T18:47:09.429Z"
   },
   {
    "duration": 260,
    "start_time": "2022-03-07T18:47:09.481Z"
   },
   {
    "duration": 209,
    "start_time": "2022-03-07T18:47:09.535Z"
   },
   {
    "duration": 210,
    "start_time": "2022-03-07T18:47:09.536Z"
   },
   {
    "duration": 203,
    "start_time": "2022-03-07T18:47:09.544Z"
   },
   {
    "duration": 203,
    "start_time": "2022-03-07T18:47:09.545Z"
   },
   {
    "duration": 202,
    "start_time": "2022-03-07T18:47:09.547Z"
   },
   {
    "duration": 202,
    "start_time": "2022-03-07T18:47:09.548Z"
   },
   {
    "duration": 202,
    "start_time": "2022-03-07T18:47:09.549Z"
   },
   {
    "duration": 202,
    "start_time": "2022-03-07T18:47:09.551Z"
   },
   {
    "duration": 202,
    "start_time": "2022-03-07T18:47:09.552Z"
   },
   {
    "duration": 202,
    "start_time": "2022-03-07T18:47:09.554Z"
   },
   {
    "duration": 198,
    "start_time": "2022-03-07T18:47:09.559Z"
   },
   {
    "duration": 198,
    "start_time": "2022-03-07T18:47:09.561Z"
   },
   {
    "duration": 198,
    "start_time": "2022-03-07T18:47:09.562Z"
   },
   {
    "duration": 199,
    "start_time": "2022-03-07T18:47:09.563Z"
   },
   {
    "duration": 198,
    "start_time": "2022-03-07T18:47:09.565Z"
   },
   {
    "duration": 156,
    "start_time": "2022-03-07T18:47:09.608Z"
   },
   {
    "duration": 156,
    "start_time": "2022-03-07T18:47:09.610Z"
   },
   {
    "duration": 156,
    "start_time": "2022-03-07T18:47:09.611Z"
   },
   {
    "duration": 156,
    "start_time": "2022-03-07T18:47:09.612Z"
   },
   {
    "duration": 156,
    "start_time": "2022-03-07T18:47:09.614Z"
   },
   {
    "duration": 4,
    "start_time": "2022-03-07T18:47:31.569Z"
   },
   {
    "duration": 78,
    "start_time": "2022-03-07T18:47:31.575Z"
   },
   {
    "duration": 28,
    "start_time": "2022-03-07T18:47:31.655Z"
   },
   {
    "duration": 5,
    "start_time": "2022-03-07T18:47:31.686Z"
   },
   {
    "duration": 6,
    "start_time": "2022-03-07T18:47:31.694Z"
   },
   {
    "duration": 6,
    "start_time": "2022-03-07T18:47:31.703Z"
   },
   {
    "duration": 21,
    "start_time": "2022-03-07T18:47:31.712Z"
   },
   {
    "duration": 49,
    "start_time": "2022-03-07T18:47:31.735Z"
   },
   {
    "duration": 92,
    "start_time": "2022-03-07T18:47:31.788Z"
   },
   {
    "duration": 11,
    "start_time": "2022-03-07T18:47:31.884Z"
   },
   {
    "duration": 11,
    "start_time": "2022-03-07T18:47:31.898Z"
   },
   {
    "duration": 61,
    "start_time": "2022-03-07T18:47:31.912Z"
   },
   {
    "duration": 9,
    "start_time": "2022-03-07T18:47:31.976Z"
   },
   {
    "duration": 15,
    "start_time": "2022-03-07T18:47:31.988Z"
   },
   {
    "duration": 15,
    "start_time": "2022-03-07T18:47:32.006Z"
   },
   {
    "duration": 106,
    "start_time": "2022-03-07T18:47:32.023Z"
   },
   {
    "duration": 44,
    "start_time": "2022-03-07T18:47:32.131Z"
   },
   {
    "duration": 28,
    "start_time": "2022-03-07T18:47:32.177Z"
   },
   {
    "duration": 26,
    "start_time": "2022-03-07T18:47:32.208Z"
   },
   {
    "duration": 36,
    "start_time": "2022-03-07T18:47:32.237Z"
   },
   {
    "duration": 21,
    "start_time": "2022-03-07T18:47:32.277Z"
   },
   {
    "duration": 5,
    "start_time": "2022-03-07T18:47:32.301Z"
   },
   {
    "duration": 21,
    "start_time": "2022-03-07T18:47:32.308Z"
   },
   {
    "duration": 9,
    "start_time": "2022-03-07T18:47:32.331Z"
   },
   {
    "duration": 42,
    "start_time": "2022-03-07T18:47:32.343Z"
   },
   {
    "duration": 9,
    "start_time": "2022-03-07T18:47:32.387Z"
   },
   {
    "duration": 10,
    "start_time": "2022-03-07T18:47:32.401Z"
   },
   {
    "duration": 11,
    "start_time": "2022-03-07T18:47:32.414Z"
   },
   {
    "duration": 56,
    "start_time": "2022-03-07T18:47:32.428Z"
   },
   {
    "duration": 4,
    "start_time": "2022-03-07T18:47:32.487Z"
   },
   {
    "duration": 15,
    "start_time": "2022-03-07T18:47:32.493Z"
   },
   {
    "duration": 40,
    "start_time": "2022-03-07T18:47:32.510Z"
   },
   {
    "duration": 46,
    "start_time": "2022-03-07T18:47:32.553Z"
   },
   {
    "duration": 32,
    "start_time": "2022-03-07T18:47:32.602Z"
   },
   {
    "duration": 4,
    "start_time": "2022-03-07T18:47:59.935Z"
   },
   {
    "duration": 75,
    "start_time": "2022-03-07T18:47:59.941Z"
   },
   {
    "duration": 12,
    "start_time": "2022-03-07T18:48:00.019Z"
   },
   {
    "duration": 11,
    "start_time": "2022-03-07T18:48:00.034Z"
   },
   {
    "duration": 17,
    "start_time": "2022-03-07T18:48:00.047Z"
   },
   {
    "duration": 5,
    "start_time": "2022-03-07T18:48:00.074Z"
   },
   {
    "duration": 30,
    "start_time": "2022-03-07T18:48:00.082Z"
   },
   {
    "duration": 13,
    "start_time": "2022-03-07T18:48:00.115Z"
   },
   {
    "duration": 109,
    "start_time": "2022-03-07T18:48:00.133Z"
   },
   {
    "duration": 33,
    "start_time": "2022-03-07T18:48:00.246Z"
   },
   {
    "duration": 16,
    "start_time": "2022-03-07T18:48:00.282Z"
   },
   {
    "duration": 18,
    "start_time": "2022-03-07T18:48:00.301Z"
   },
   {
    "duration": 8,
    "start_time": "2022-03-07T18:48:00.322Z"
   },
   {
    "duration": 45,
    "start_time": "2022-03-07T18:48:00.332Z"
   },
   {
    "duration": 18,
    "start_time": "2022-03-07T18:48:00.380Z"
   },
   {
    "duration": 85,
    "start_time": "2022-03-07T18:48:00.401Z"
   },
   {
    "duration": 34,
    "start_time": "2022-03-07T18:48:00.489Z"
   },
   {
    "duration": 47,
    "start_time": "2022-03-07T18:48:00.526Z"
   },
   {
    "duration": 25,
    "start_time": "2022-03-07T18:48:00.576Z"
   },
   {
    "duration": 7,
    "start_time": "2022-03-07T18:48:00.604Z"
   },
   {
    "duration": 26,
    "start_time": "2022-03-07T18:48:00.614Z"
   },
   {
    "duration": 32,
    "start_time": "2022-03-07T18:48:00.643Z"
   },
   {
    "duration": 30,
    "start_time": "2022-03-07T18:48:00.678Z"
   },
   {
    "duration": 10,
    "start_time": "2022-03-07T18:48:00.710Z"
   },
   {
    "duration": 24,
    "start_time": "2022-03-07T18:48:00.722Z"
   },
   {
    "duration": 6,
    "start_time": "2022-03-07T18:48:00.749Z"
   },
   {
    "duration": 25,
    "start_time": "2022-03-07T18:48:00.760Z"
   },
   {
    "duration": 31,
    "start_time": "2022-03-07T18:48:00.788Z"
   },
   {
    "duration": 33,
    "start_time": "2022-03-07T18:48:00.821Z"
   },
   {
    "duration": 16,
    "start_time": "2022-03-07T18:48:00.856Z"
   },
   {
    "duration": 21,
    "start_time": "2022-03-07T18:48:00.874Z"
   },
   {
    "duration": 40,
    "start_time": "2022-03-07T18:48:00.898Z"
   },
   {
    "duration": 32,
    "start_time": "2022-03-07T18:48:00.941Z"
   },
   {
    "duration": 31,
    "start_time": "2022-03-07T18:48:00.976Z"
   },
   {
    "duration": 5,
    "start_time": "2022-03-07T18:50:54.089Z"
   },
   {
    "duration": 98,
    "start_time": "2022-03-07T18:50:54.097Z"
   },
   {
    "duration": 12,
    "start_time": "2022-03-07T18:50:54.199Z"
   },
   {
    "duration": 7,
    "start_time": "2022-03-07T18:50:54.213Z"
   },
   {
    "duration": 6,
    "start_time": "2022-03-07T18:50:54.222Z"
   },
   {
    "duration": 9,
    "start_time": "2022-03-07T18:50:54.230Z"
   },
   {
    "duration": 21,
    "start_time": "2022-03-07T18:50:54.274Z"
   },
   {
    "duration": 13,
    "start_time": "2022-03-07T18:50:54.298Z"
   },
   {
    "duration": 105,
    "start_time": "2022-03-07T18:50:54.317Z"
   },
   {
    "duration": 9,
    "start_time": "2022-03-07T18:50:54.426Z"
   },
   {
    "duration": 39,
    "start_time": "2022-03-07T18:50:54.438Z"
   },
   {
    "duration": 17,
    "start_time": "2022-03-07T18:50:54.480Z"
   },
   {
    "duration": 9,
    "start_time": "2022-03-07T18:50:54.500Z"
   },
   {
    "duration": 13,
    "start_time": "2022-03-07T18:50:54.512Z"
   },
   {
    "duration": 58,
    "start_time": "2022-03-07T18:50:54.528Z"
   },
   {
    "duration": 5,
    "start_time": "2022-03-07T18:50:54.589Z"
   },
   {
    "duration": 92,
    "start_time": "2022-03-07T18:50:54.597Z"
   },
   {
    "duration": 34,
    "start_time": "2022-03-07T18:50:54.691Z"
   },
   {
    "duration": 48,
    "start_time": "2022-03-07T18:50:54.727Z"
   },
   {
    "duration": 28,
    "start_time": "2022-03-07T18:50:54.778Z"
   },
   {
    "duration": 7,
    "start_time": "2022-03-07T18:50:54.808Z"
   },
   {
    "duration": 22,
    "start_time": "2022-03-07T18:50:54.818Z"
   },
   {
    "duration": 33,
    "start_time": "2022-03-07T18:50:54.842Z"
   },
   {
    "duration": 38,
    "start_time": "2022-03-07T18:50:54.879Z"
   },
   {
    "duration": 13,
    "start_time": "2022-03-07T18:50:54.920Z"
   },
   {
    "duration": 22,
    "start_time": "2022-03-07T18:50:54.935Z"
   },
   {
    "duration": 17,
    "start_time": "2022-03-07T18:50:54.963Z"
   },
   {
    "duration": 11,
    "start_time": "2022-03-07T18:50:54.982Z"
   },
   {
    "duration": 12,
    "start_time": "2022-03-07T18:50:54.995Z"
   },
   {
    "duration": 21,
    "start_time": "2022-03-07T18:50:55.010Z"
   },
   {
    "duration": 39,
    "start_time": "2022-03-07T18:50:55.034Z"
   },
   {
    "duration": 11,
    "start_time": "2022-03-07T18:50:55.076Z"
   },
   {
    "duration": 31,
    "start_time": "2022-03-07T18:50:55.090Z"
   },
   {
    "duration": 66,
    "start_time": "2022-03-07T18:50:55.124Z"
   },
   {
    "duration": 30,
    "start_time": "2022-03-07T18:50:55.192Z"
   },
   {
    "duration": 4,
    "start_time": "2022-03-07T18:51:31.018Z"
   },
   {
    "duration": 89,
    "start_time": "2022-03-07T18:51:31.025Z"
   },
   {
    "duration": 12,
    "start_time": "2022-03-07T18:51:31.118Z"
   },
   {
    "duration": 9,
    "start_time": "2022-03-07T18:51:31.133Z"
   },
   {
    "duration": 11,
    "start_time": "2022-03-07T18:51:31.144Z"
   },
   {
    "duration": 5,
    "start_time": "2022-03-07T18:51:31.174Z"
   },
   {
    "duration": 30,
    "start_time": "2022-03-07T18:51:31.182Z"
   },
   {
    "duration": 11,
    "start_time": "2022-03-07T18:51:31.214Z"
   },
   {
    "duration": 109,
    "start_time": "2022-03-07T18:51:31.229Z"
   },
   {
    "duration": 34,
    "start_time": "2022-03-07T18:51:31.341Z"
   },
   {
    "duration": 8,
    "start_time": "2022-03-07T18:51:31.378Z"
   },
   {
    "duration": 43,
    "start_time": "2022-03-07T18:51:31.389Z"
   },
   {
    "duration": 18,
    "start_time": "2022-03-07T18:51:31.435Z"
   },
   {
    "duration": 37,
    "start_time": "2022-03-07T18:51:31.456Z"
   },
   {
    "duration": 22,
    "start_time": "2022-03-07T18:51:31.496Z"
   },
   {
    "duration": 4,
    "start_time": "2022-03-07T18:51:31.521Z"
   },
   {
    "duration": 90,
    "start_time": "2022-03-07T18:51:31.527Z"
   },
   {
    "duration": 35,
    "start_time": "2022-03-07T18:51:31.620Z"
   },
   {
    "duration": 29,
    "start_time": "2022-03-07T18:51:31.674Z"
   },
   {
    "duration": 29,
    "start_time": "2022-03-07T18:51:31.706Z"
   },
   {
    "duration": 36,
    "start_time": "2022-03-07T18:51:31.738Z"
   },
   {
    "duration": 19,
    "start_time": "2022-03-07T18:51:31.776Z"
   },
   {
    "duration": 17,
    "start_time": "2022-03-07T18:51:31.798Z"
   },
   {
    "duration": 26,
    "start_time": "2022-03-07T18:51:31.818Z"
   },
   {
    "duration": 33,
    "start_time": "2022-03-07T18:51:31.847Z"
   },
   {
    "duration": 35,
    "start_time": "2022-03-07T18:51:31.883Z"
   },
   {
    "duration": 18,
    "start_time": "2022-03-07T18:51:31.924Z"
   },
   {
    "duration": 14,
    "start_time": "2022-03-07T18:51:31.945Z"
   },
   {
    "duration": 35,
    "start_time": "2022-03-07T18:51:31.962Z"
   },
   {
    "duration": 22,
    "start_time": "2022-03-07T18:51:32.000Z"
   },
   {
    "duration": 19,
    "start_time": "2022-03-07T18:51:32.025Z"
   },
   {
    "duration": 21,
    "start_time": "2022-03-07T18:51:32.047Z"
   },
   {
    "duration": 38,
    "start_time": "2022-03-07T18:51:32.071Z"
   },
   {
    "duration": 30,
    "start_time": "2022-03-07T18:51:32.111Z"
   },
   {
    "duration": 44,
    "start_time": "2022-03-07T18:51:32.144Z"
   },
   {
    "duration": 5,
    "start_time": "2022-03-07T18:52:02.445Z"
   },
   {
    "duration": 5,
    "start_time": "2022-03-07T18:52:27.554Z"
   },
   {
    "duration": 85,
    "start_time": "2022-03-07T18:53:22.149Z"
   },
   {
    "duration": 5,
    "start_time": "2022-03-07T18:53:36.693Z"
   },
   {
    "duration": 5,
    "start_time": "2022-03-07T18:53:46.410Z"
   },
   {
    "duration": 10,
    "start_time": "2022-03-07T18:55:25.211Z"
   },
   {
    "duration": 11,
    "start_time": "2022-03-07T18:55:26.659Z"
   },
   {
    "duration": 84,
    "start_time": "2022-03-07T18:59:58.565Z"
   },
   {
    "duration": 199,
    "start_time": "2022-03-07T18:59:58.455Z"
   },
   {
    "duration": 198,
    "start_time": "2022-03-07T18:59:58.457Z"
   },
   {
    "duration": 198,
    "start_time": "2022-03-07T18:59:58.458Z"
   },
   {
    "duration": 136,
    "start_time": "2022-03-07T18:59:58.522Z"
   },
   {
    "duration": 136,
    "start_time": "2022-03-07T18:59:58.523Z"
   },
   {
    "duration": 135,
    "start_time": "2022-03-07T18:59:58.525Z"
   },
   {
    "duration": 136,
    "start_time": "2022-03-07T18:59:58.526Z"
   },
   {
    "duration": 135,
    "start_time": "2022-03-07T18:59:58.528Z"
   },
   {
    "duration": 134,
    "start_time": "2022-03-07T18:59:58.530Z"
   },
   {
    "duration": 135,
    "start_time": "2022-03-07T18:59:58.531Z"
   },
   {
    "duration": 134,
    "start_time": "2022-03-07T18:59:58.533Z"
   },
   {
    "duration": 134,
    "start_time": "2022-03-07T18:59:58.534Z"
   },
   {
    "duration": 135,
    "start_time": "2022-03-07T18:59:58.535Z"
   },
   {
    "duration": 134,
    "start_time": "2022-03-07T18:59:58.537Z"
   },
   {
    "duration": 134,
    "start_time": "2022-03-07T18:59:58.538Z"
   },
   {
    "duration": 134,
    "start_time": "2022-03-07T18:59:58.540Z"
   },
   {
    "duration": 134,
    "start_time": "2022-03-07T18:59:58.541Z"
   },
   {
    "duration": 134,
    "start_time": "2022-03-07T18:59:58.543Z"
   },
   {
    "duration": 132,
    "start_time": "2022-03-07T18:59:58.546Z"
   },
   {
    "duration": 131,
    "start_time": "2022-03-07T18:59:58.548Z"
   },
   {
    "duration": 117,
    "start_time": "2022-03-07T18:59:58.566Z"
   },
   {
    "duration": 114,
    "start_time": "2022-03-07T18:59:58.571Z"
   },
   {
    "duration": 103,
    "start_time": "2022-03-07T18:59:58.585Z"
   },
   {
    "duration": 104,
    "start_time": "2022-03-07T18:59:58.586Z"
   },
   {
    "duration": 104,
    "start_time": "2022-03-07T18:59:58.588Z"
   },
   {
    "duration": 105,
    "start_time": "2022-03-07T18:59:58.589Z"
   },
   {
    "duration": 105,
    "start_time": "2022-03-07T18:59:58.591Z"
   },
   {
    "duration": 106,
    "start_time": "2022-03-07T18:59:58.592Z"
   },
   {
    "duration": 107,
    "start_time": "2022-03-07T18:59:58.594Z"
   },
   {
    "duration": 106,
    "start_time": "2022-03-07T18:59:58.596Z"
   },
   {
    "duration": 108,
    "start_time": "2022-03-07T18:59:58.597Z"
   },
   {
    "duration": 109,
    "start_time": "2022-03-07T18:59:58.598Z"
   },
   {
    "duration": 109,
    "start_time": "2022-03-07T18:59:58.600Z"
   },
   {
    "duration": 111,
    "start_time": "2022-03-07T18:59:58.601Z"
   },
   {
    "duration": 107,
    "start_time": "2022-03-07T18:59:58.606Z"
   },
   {
    "duration": 4,
    "start_time": "2022-03-07T19:01:04.887Z"
   },
   {
    "duration": 94,
    "start_time": "2022-03-07T19:01:04.894Z"
   },
   {
    "duration": 13,
    "start_time": "2022-03-07T19:01:04.991Z"
   },
   {
    "duration": 14,
    "start_time": "2022-03-07T19:01:05.007Z"
   },
   {
    "duration": 15,
    "start_time": "2022-03-07T19:01:05.024Z"
   },
   {
    "duration": 13,
    "start_time": "2022-03-07T19:01:05.042Z"
   },
   {
    "duration": 32,
    "start_time": "2022-03-07T19:01:05.058Z"
   },
   {
    "duration": 13,
    "start_time": "2022-03-07T19:01:05.092Z"
   },
   {
    "duration": 107,
    "start_time": "2022-03-07T19:01:05.108Z"
   },
   {
    "duration": 11,
    "start_time": "2022-03-07T19:01:05.219Z"
   },
   {
    "duration": 44,
    "start_time": "2022-03-07T19:01:05.233Z"
   },
   {
    "duration": 49,
    "start_time": "2022-03-07T19:01:05.280Z"
   },
   {
    "duration": 26,
    "start_time": "2022-03-07T19:01:05.331Z"
   },
   {
    "duration": 27,
    "start_time": "2022-03-07T19:01:05.359Z"
   },
   {
    "duration": 35,
    "start_time": "2022-03-07T19:01:05.389Z"
   },
   {
    "duration": 22,
    "start_time": "2022-03-07T19:01:05.426Z"
   },
   {
    "duration": 134,
    "start_time": "2022-03-07T19:01:05.451Z"
   },
   {
    "duration": 39,
    "start_time": "2022-03-07T19:01:05.587Z"
   },
   {
    "duration": 45,
    "start_time": "2022-03-07T19:01:05.629Z"
   },
   {
    "duration": 26,
    "start_time": "2022-03-07T19:01:05.677Z"
   },
   {
    "duration": 9,
    "start_time": "2022-03-07T19:01:05.706Z"
   },
   {
    "duration": 30,
    "start_time": "2022-03-07T19:01:05.717Z"
   },
   {
    "duration": 26,
    "start_time": "2022-03-07T19:01:05.750Z"
   },
   {
    "duration": 31,
    "start_time": "2022-03-07T19:01:05.779Z"
   },
   {
    "duration": 12,
    "start_time": "2022-03-07T19:01:05.813Z"
   },
   {
    "duration": 26,
    "start_time": "2022-03-07T19:01:05.827Z"
   },
   {
    "duration": 16,
    "start_time": "2022-03-07T19:01:05.858Z"
   },
   {
    "duration": 14,
    "start_time": "2022-03-07T19:01:05.877Z"
   },
   {
    "duration": 16,
    "start_time": "2022-03-07T19:01:05.894Z"
   },
   {
    "duration": 60,
    "start_time": "2022-03-07T19:01:05.913Z"
   },
   {
    "duration": 13,
    "start_time": "2022-03-07T19:01:05.975Z"
   },
   {
    "duration": 26,
    "start_time": "2022-03-07T19:01:05.990Z"
   },
   {
    "duration": 35,
    "start_time": "2022-03-07T19:01:06.018Z"
   },
   {
    "duration": 29,
    "start_time": "2022-03-07T19:01:06.056Z"
   },
   {
    "duration": 30,
    "start_time": "2022-03-07T19:01:06.087Z"
   }
  ],
  "kernelspec": {
   "display_name": "Python 3 (ipykernel)",
   "language": "python",
   "name": "python3"
  },
  "language_info": {
   "codemirror_mode": {
    "name": "ipython",
    "version": 3
   },
   "file_extension": ".py",
   "mimetype": "text/x-python",
   "name": "python",
   "nbconvert_exporter": "python",
   "pygments_lexer": "ipython3",
   "version": "3.9.7"
  },
  "toc": {
   "base_numbering": 1,
   "nav_menu": {},
   "number_sections": false,
   "sideBar": true,
   "skip_h1_title": true,
   "title_cell": "Table of Contents",
   "title_sidebar": "Contents",
   "toc_cell": false,
   "toc_position": {
    "height": "757px",
    "left": "26px",
    "top": "139.125px",
    "width": "165px"
   },
   "toc_section_display": true,
   "toc_window_display": true
  }
 },
 "nbformat": 4,
 "nbformat_minor": 5
}
